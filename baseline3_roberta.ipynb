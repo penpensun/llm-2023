{
 "cells": [
  {
   "cell_type": "code",
   "execution_count": 1,
   "id": "f059a98c",
   "metadata": {},
   "outputs": [],
   "source": [
    "import pandas as pd"
   ]
  },
  {
   "cell_type": "code",
   "execution_count": 2,
   "id": "abd8529e",
   "metadata": {},
   "outputs": [],
   "source": [
    "train_ds = pd.read_csv('/home/peng_sun2/s3shared/kaggle/llm-2023/data/persuade/merged_train_ds.csv')"
   ]
  },
  {
   "cell_type": "code",
   "execution_count": 5,
   "id": "73eda387",
   "metadata": {},
   "outputs": [],
   "source": [
    "from transformers import AutoModelForSequenceClassification, TrainingArguments, Trainer, AutoTokenizer, AutoConfig\n",
    "\n",
    "num_labels = 2\n",
    "\n",
    "import torch\n",
    "\n",
    "device = torch.device('cuda:0' if torch.cuda.is_available() else 'cpu')"
   ]
  },
  {
   "cell_type": "code",
   "execution_count": 6,
   "id": "d7f65872",
   "metadata": {},
   "outputs": [
    {
     "data": {
      "text/plain": [
       "device(type='cuda', index=0)"
      ]
     },
     "execution_count": 6,
     "metadata": {},
     "output_type": "execute_result"
    }
   ],
   "source": [
    "device"
   ]
  },
  {
   "cell_type": "code",
   "execution_count": 10,
   "id": "617c0db1",
   "metadata": {},
   "outputs": [
    {
     "name": "stderr",
     "output_type": "stream",
     "text": [
      "Some weights of RobertaForSequenceClassification were not initialized from the model checkpoint at /home/peng_sun2/s3shared/kaggle/llm-2023/distilroberta and are newly initialized: ['classifier.out_proj.bias', 'classifier.dense.bias', 'classifier.out_proj.weight', 'classifier.dense.weight']\n",
      "You should probably TRAIN this model on a down-stream task to be able to use it for predictions and inference.\n"
     ]
    }
   ],
   "source": [
    "DOWNLOAD_MODEL = False\n",
    "MODEL_NAME = 'distilroberta-base'\n",
    "MODEL_DIR = '/home/peng_sun2/s3shared/kaggle/llm-2023/distilroberta'\n",
    "\n",
    "if DOWNLOAD_MODEL:\n",
    "    model = AutoModelForSequenceClassification.from_pretrained(MODEL_NAME);\n",
    "else:\n",
    "    tokenizer = AutoTokenizer.from_pretrained(MODEL_DIR)\n",
    "    config = AutoConfig.from_pretrained(MODEL_DIR)\n",
    "    config.num_labels= num_labels\n",
    "    model = AutoModelForSequenceClassification.from_pretrained(pretrained_model_name_or_path = MODEL_DIR, config = config)"
   ]
  },
  {
   "cell_type": "code",
   "execution_count": 11,
   "id": "b9a94f6a",
   "metadata": {},
   "outputs": [],
   "source": [
    "from transformers import EarlyStoppingCallback\n",
    "\n",
    "early_stopping = EarlyStoppingCallback(early_stopping_patience=2)\n",
    "\n",
    "num_train_epochs=16.0\n"
   ]
  },
  {
   "cell_type": "code",
   "execution_count": 12,
   "id": "6e4c8995",
   "metadata": {},
   "outputs": [],
   "source": [
    "metric_name = \"roc_auc\"\n",
    "model_name = \"distilroberta\"#\"deberta-large\"\n",
    "batch_size = 2\n",
    "\n",
    "args = TrainingArguments(\n",
    "    f\"{model_name}-finetuned_v5\",\n",
    "    evaluation_strategy = \"epoch\",\n",
    "    save_strategy = \"epoch\",\n",
    "    learning_rate=2e-5,\n",
    "    lr_scheduler_type = \"cosine\",\n",
    "    \n",
    "    optim=\"adamw_torch\",\n",
    "    per_device_train_batch_size=batch_size,\n",
    "    per_device_eval_batch_size=batch_size,\n",
    "    gradient_accumulation_steps=8,\n",
    "    num_train_epochs=num_train_epochs,\n",
    "    weight_decay=0.01,\n",
    "    load_best_model_at_end=True,\n",
    "    metric_for_best_model=metric_name,\n",
    "    report_to='none',\n",
    "    save_total_limit=2,\n",
    "    \n",
    ")"
   ]
  },
  {
   "cell_type": "code",
   "execution_count": 16,
   "id": "4389d3b0",
   "metadata": {},
   "outputs": [
    {
     "data": {
      "text/html": [
       "<div>\n",
       "<style scoped>\n",
       "    .dataframe tbody tr th:only-of-type {\n",
       "        vertical-align: middle;\n",
       "    }\n",
       "\n",
       "    .dataframe tbody tr th {\n",
       "        vertical-align: top;\n",
       "    }\n",
       "\n",
       "    .dataframe thead th {\n",
       "        text-align: right;\n",
       "    }\n",
       "</style>\n",
       "<table border=\"1\" class=\"dataframe\">\n",
       "  <thead>\n",
       "    <tr style=\"text-align: right;\">\n",
       "      <th></th>\n",
       "      <th>prompt_name</th>\n",
       "      <th>prompt</th>\n",
       "      <th>source</th>\n",
       "      <th>text</th>\n",
       "      <th>generated</th>\n",
       "    </tr>\n",
       "  </thead>\n",
       "  <tbody>\n",
       "    <tr>\n",
       "      <th>0</th>\n",
       "      <td>Car-free cities</td>\n",
       "      <td>Write an explanatory essay to inform fellow ci...</td>\n",
       "      <td># In German Suburb, Life Goes On Without Cars ...</td>\n",
       "      <td>Cars. Cars have been around since they became ...</td>\n",
       "      <td>0</td>\n",
       "    </tr>\n",
       "    <tr>\n",
       "      <th>1</th>\n",
       "      <td>Car-free cities</td>\n",
       "      <td>Write an explanatory essay to inform fellow ci...</td>\n",
       "      <td># In German Suburb, Life Goes On Without Cars ...</td>\n",
       "      <td>Transportation is a large necessity in most co...</td>\n",
       "      <td>0</td>\n",
       "    </tr>\n",
       "    <tr>\n",
       "      <th>2</th>\n",
       "      <td>Car-free cities</td>\n",
       "      <td>Write an explanatory essay to inform fellow ci...</td>\n",
       "      <td># In German Suburb, Life Goes On Without Cars ...</td>\n",
       "      <td>\"America's love affair with it's vehicles seem...</td>\n",
       "      <td>0</td>\n",
       "    </tr>\n",
       "  </tbody>\n",
       "</table>\n",
       "</div>"
      ],
      "text/plain": [
       "       prompt_name                                             prompt  \\\n",
       "0  Car-free cities  Write an explanatory essay to inform fellow ci...   \n",
       "1  Car-free cities  Write an explanatory essay to inform fellow ci...   \n",
       "2  Car-free cities  Write an explanatory essay to inform fellow ci...   \n",
       "\n",
       "                                              source  \\\n",
       "0  # In German Suburb, Life Goes On Without Cars ...   \n",
       "1  # In German Suburb, Life Goes On Without Cars ...   \n",
       "2  # In German Suburb, Life Goes On Without Cars ...   \n",
       "\n",
       "                                                text  generated  \n",
       "0  Cars. Cars have been around since they became ...          0  \n",
       "1  Transportation is a large necessity in most co...          0  \n",
       "2  \"America's love affair with it's vehicles seem...          0  "
      ]
     },
     "execution_count": 16,
     "metadata": {},
     "output_type": "execute_result"
    }
   ],
   "source": [
    "train_ds.head(3)"
   ]
  },
  {
   "cell_type": "code",
   "execution_count": 27,
   "id": "e6522fc8",
   "metadata": {},
   "outputs": [
    {
     "name": "stderr",
     "output_type": "stream",
     "text": [
      "/home/peng_sun2/.local/lib/python3.9/site-packages/sklearn/model_selection/_split.py:909: UserWarning: The least populated class in y has only 3 members, which is less than n_splits=5.\n",
      "  warnings.warn(\n"
     ]
    }
   ],
   "source": [
    "from sklearn.model_selection import StratifiedGroupKFold\n",
    "\n",
    "cv = StratifiedGroupKFold(n_splits=5,shuffle=True,random_state=42)\n",
    "\n",
    "for idx, (train_idx, val_idx) in enumerate(cv.split(\n",
    "        train_ds[['prompt_name', 'prompt', 'source', 'text']], \n",
    "        train_ds['generated'], \n",
    "        groups = train_ds['prompt_name'])):\n",
    "#     train_x, train_y = train_ds.loc[train_idx, ['prompt_name', 'prompt', 'source', 'text']],\\\n",
    "#         train_ds.loc[train_idx, ['generated']]\n",
    "#     val_x, val_y = train_ds.loc[val_idx, ['prompt_name', 'prompt', 'source', 'text']],\\\n",
    "#         train_ds.loc[val_idx, ['generated']]\n",
    "    train_split = train_ds.loc[train_idx, ['prompt_name', 'prompt', 'source', 'text', 'generated']]\n",
    "    val_split = train_ds.loc[val_idx, ['prompt_name', 'prompt', 'source', 'text', 'generated']]\n",
    "    break;"
   ]
  },
  {
   "cell_type": "code",
   "execution_count": 28,
   "id": "6ad123ff",
   "metadata": {},
   "outputs": [
    {
     "name": "stderr",
     "output_type": "stream",
     "text": [
      "/home/ubuntu/anaconda3/lib/python3.9/site-packages/pyarrow/pandas_compat.py:358: FutureWarning: is_sparse is deprecated and will be removed in a future version. Check `isinstance(dtype, pd.SparseDtype)` instead.\n",
      "  if _pandas_api.is_sparse(col):\n"
     ]
    }
   ],
   "source": [
    "from datasets import Dataset\n",
    "ds_train = Dataset.from_pandas(train_split)\n",
    "ds_valid = Dataset.from_pandas(val_split)"
   ]
  },
  {
   "cell_type": "code",
   "execution_count": 30,
   "id": "7badeeec",
   "metadata": {},
   "outputs": [
    {
     "data": {
      "text/plain": [
       "generated\n",
       "0    12364\n",
       "1        3\n",
       "Name: count, dtype: int64"
      ]
     },
     "execution_count": 30,
     "metadata": {},
     "output_type": "execute_result"
    }
   ],
   "source": [
    "train_split.generated.value_counts()"
   ]
  },
  {
   "cell_type": "code",
   "execution_count": 31,
   "id": "4e987a43",
   "metadata": {},
   "outputs": [
    {
     "data": {
      "text/plain": [
       "generated\n",
       "0    1886\n",
       "Name: count, dtype: int64"
      ]
     },
     "execution_count": 31,
     "metadata": {},
     "output_type": "execute_result"
    }
   ],
   "source": [
    "val_split.generated.value_counts()"
   ]
  },
  {
   "cell_type": "code",
   "execution_count": null,
   "id": "a7bef9cc",
   "metadata": {},
   "outputs": [],
   "source": []
  }
 ],
 "metadata": {
  "kernelspec": {
   "display_name": "Python 3 (ipykernel)",
   "language": "python",
   "name": "python3"
  },
  "language_info": {
   "codemirror_mode": {
    "name": "ipython",
    "version": 3
   },
   "file_extension": ".py",
   "mimetype": "text/x-python",
   "name": "python",
   "nbconvert_exporter": "python",
   "pygments_lexer": "ipython3",
   "version": "3.9.12"
  }
 },
 "nbformat": 4,
 "nbformat_minor": 5
}
