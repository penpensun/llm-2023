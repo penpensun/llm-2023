{
 "cells": [
  {
   "cell_type": "code",
   "execution_count": 1,
   "id": "db58bf2e",
   "metadata": {},
   "outputs": [],
   "source": [
    "import sys\n",
    "import gc\n",
    "import wandb\n",
    "\n",
    "import pandas as pd\n",
    "from sklearn.model_selection import StratifiedKFold\n",
    "import numpy as np\n",
    "from sklearn.metrics import roc_auc_score\n",
    "import numpy as np\n",
    "from lightgbm import LGBMClassifier\n",
    "from sklearn.feature_extraction.text import TfidfVectorizer\n",
    "\n",
    "from tokenizers import (\n",
    "    decoders,\n",
    "    models,\n",
    "    normalizers,\n",
    "    pre_tokenizers,\n",
    "    processors,\n",
    "    trainers,\n",
    "    Tokenizer,\n",
    ")\n",
    "\n",
    "from datasets import Dataset\n",
    "from tqdm.auto import tqdm\n",
    "from transformers import PreTrainedTokenizerFast\n",
    "\n",
    "from sklearn.linear_model import SGDClassifier\n",
    "from sklearn.naive_bayes import MultinomialNB\n",
    "from sklearn.ensemble import VotingClassifier\n",
    "import os\n",
    "os.environ[\"TOKENIZERS_PARALLELISM\"] = \"False\""
   ]
  },
  {
   "cell_type": "code",
   "execution_count": 2,
   "id": "39ec8c87",
   "metadata": {},
   "outputs": [
    {
     "name": "stderr",
     "output_type": "stream",
     "text": [
      "Failed to detect the name of this notebook, you can set it manually with the WANDB_NOTEBOOK_NAME environment variable to enable code saving.\n"
     ]
    },
    {
     "name": "stdout",
     "output_type": "stream",
     "text": [
      "1.2.2\n",
      "3.3.2\n"
     ]
    },
    {
     "name": "stderr",
     "output_type": "stream",
     "text": [
      "\u001b[34m\u001b[1mwandb\u001b[0m: Currently logged in as: \u001b[33mpeng_sun\u001b[0m. Use \u001b[1m`wandb login --relogin`\u001b[0m to force relogin\n"
     ]
    },
    {
     "data": {
      "text/plain": [
       "True"
      ]
     },
     "execution_count": 2,
     "metadata": {},
     "output_type": "execute_result"
    }
   ],
   "source": [
    "import sklearn\n",
    "import lightgbm\n",
    "\n",
    "print(sklearn.__version__)\n",
    "print(lightgbm.__version__)\n",
    "\n",
    "## log into wandb\n",
    "wandb.login()"
   ]
  },
  {
   "cell_type": "code",
   "execution_count": 3,
   "id": "a8746d58",
   "metadata": {},
   "outputs": [],
   "source": [
    "test = pd.read_csv('/home/peng_sun2/s3shared/kaggle/llm-2023/data/test_essays.csv')\n",
    "sub = pd.read_csv('/home/peng_sun2/s3shared/kaggle/llm-2023/data/sample_submission.csv')\n",
    "org_train = pd.read_csv('/home/peng_sun2/s3shared/kaggle/llm-2023/data/train_essays.csv')"
   ]
  },
  {
   "cell_type": "code",
   "execution_count": 4,
   "id": "774cc0a4",
   "metadata": {},
   "outputs": [
    {
     "data": {
      "text/plain": [
       "(44868, 5)"
      ]
     },
     "metadata": {},
     "output_type": "display_data"
    }
   ],
   "source": [
    "train = pd.read_csv('/home/peng_sun2/s3shared/kaggle/llm-2023/data/daigt/train_v2_drcat_02.csv', sep=',')\n",
    "display(train.shape);"
   ]
  },
  {
   "cell_type": "markdown",
   "id": "0f2b3f5c",
   "metadata": {},
   "source": [
    "#### Read and append the generated data"
   ]
  },
  {
   "cell_type": "code",
   "execution_count": 5,
   "id": "950181df",
   "metadata": {},
   "outputs": [
    {
     "data": {
      "text/plain": [
       "(18894, 5)"
      ]
     },
     "metadata": {},
     "output_type": "display_data"
    }
   ],
   "source": [
    "train_gen_data = pd.read_parquet('/home/peng_sun2/s3shared/kaggle/llm-2023/external_data/gen_data_21122023.parquet')\n",
    "display(train_gen_data.shape)"
   ]
  },
  {
   "cell_type": "code",
   "execution_count": 6,
   "id": "5f8ff17d",
   "metadata": {},
   "outputs": [],
   "source": [
    "train = train.drop_duplicates(subset = ['text'])\n",
    "train.reset_index(drop = True, inplace = True)\n",
    "\n",
    "### append the generated data\n",
    "# train = pd.concat([train, train_gen_data], axis = 0).reset_index(drop = True)\n",
    "# display(train.shape)"
   ]
  },
  {
   "cell_type": "code",
   "execution_count": 7,
   "id": "b96d7918",
   "metadata": {},
   "outputs": [],
   "source": [
    "train_0 = train.loc[train['label'] ==0, :].reset_index(drop = True)\n",
    "train_1 = train.loc[train['label'] ==1, :].reset_index(drop = True)"
   ]
  },
  {
   "cell_type": "code",
   "execution_count": 8,
   "id": "c7ce322e",
   "metadata": {},
   "outputs": [
    {
     "data": {
      "text/plain": [
       "(27371, 5)"
      ]
     },
     "execution_count": 8,
     "metadata": {},
     "output_type": "execute_result"
    }
   ],
   "source": [
    "train_0.shape"
   ]
  },
  {
   "cell_type": "code",
   "execution_count": 9,
   "id": "5ff76121",
   "metadata": {},
   "outputs": [
    {
     "data": {
      "text/plain": [
       "(17497, 5)"
      ]
     },
     "execution_count": 9,
     "metadata": {},
     "output_type": "execute_result"
    }
   ],
   "source": [
    "train_1.shape"
   ]
  },
  {
   "cell_type": "code",
   "execution_count": 10,
   "id": "52a54b52",
   "metadata": {},
   "outputs": [],
   "source": [
    "# min_length = min(len(train_0), len(train_1))\n",
    "# min_length"
   ]
  },
  {
   "cell_type": "code",
   "execution_count": 11,
   "id": "4035fc74",
   "metadata": {},
   "outputs": [],
   "source": [
    "# sorted_train= pd.DataFrame()\n",
    "# for i in tqdm(range(min_length), total = min_length):\n",
    "#     sorted_train = pd.concat([sorted_train, pd.DataFrame(train_0.iloc[i,:]).T], axis = 0)\n",
    "#     sorted_train = pd.concat([sorted_train, pd.DataFrame(train_1.iloc[i,:]).T], axis = 0)"
   ]
  },
  {
   "cell_type": "code",
   "execution_count": 12,
   "id": "856d300a",
   "metadata": {},
   "outputs": [],
   "source": [
    "# if len(train_0) > min_length:\n",
    "#     sorted_train = pd.concat([sorted_train, train_0.iloc[min_length:, :]], axis = 0)\n",
    "# elif len(train_1) > min_length:\n",
    "#     sorted_train = pd.concat([sorted_train, train_1.iloc[min_length:, :]], axis = 0)"
   ]
  },
  {
   "cell_type": "code",
   "execution_count": 13,
   "id": "aadc4082",
   "metadata": {},
   "outputs": [],
   "source": [
    "from tqdm import tqdm \n",
    "def sort_train(train):\n",
    "    train_0 = train.loc[train['label'] ==0, :].reset_index(drop = True)\n",
    "    train_1 = train.loc[train['label'] ==1, :].reset_index(drop = True)\n",
    "    \n",
    "    min_length = min(len(train_0), len(train_1))\n",
    "    \n",
    "    sorted_train= pd.DataFrame()\n",
    "    for i in tqdm(range(min_length), total = min_length):\n",
    "        sorted_train = pd.concat([sorted_train, pd.DataFrame(train_0.iloc[i,:]).T], axis = 0)\n",
    "        sorted_train = pd.concat([sorted_train, pd.DataFrame(train_1.iloc[i,:]).T], axis = 0)\n",
    "    \n",
    "    if len(train_0) > min_length:\n",
    "        sorted_train = pd.concat([sorted_train, train_0.iloc[min_length:, :]], axis = 0)\n",
    "    elif len(train_1) > min_length:\n",
    "        sorted_train = pd.concat([sorted_train, train_1.iloc[min_length:, :]], axis = 0)\n",
    "        \n",
    "    del train_0, train_1, train\n",
    "    sorted_train['label'] = sorted_train['label'].astype(np.int32)\n",
    "    return sorted_train.reset_index(drop = True)"
   ]
  },
  {
   "cell_type": "code",
   "execution_count": 14,
   "id": "11b1faa3",
   "metadata": {},
   "outputs": [
    {
     "data": {
      "text/plain": [
       "(44868, 5)"
      ]
     },
     "metadata": {},
     "output_type": "display_data"
    },
    {
     "data": {
      "text/html": [
       "<div>\n",
       "<style scoped>\n",
       "    .dataframe tbody tr th:only-of-type {\n",
       "        vertical-align: middle;\n",
       "    }\n",
       "\n",
       "    .dataframe tbody tr th {\n",
       "        vertical-align: top;\n",
       "    }\n",
       "\n",
       "    .dataframe thead th {\n",
       "        text-align: right;\n",
       "    }\n",
       "</style>\n",
       "<table border=\"1\" class=\"dataframe\">\n",
       "  <thead>\n",
       "    <tr style=\"text-align: right;\">\n",
       "      <th></th>\n",
       "      <th>text</th>\n",
       "      <th>label</th>\n",
       "      <th>prompt_name</th>\n",
       "      <th>source</th>\n",
       "      <th>RDizzl3_seven</th>\n",
       "    </tr>\n",
       "  </thead>\n",
       "  <tbody>\n",
       "    <tr>\n",
       "      <th>0</th>\n",
       "      <td>Phones\\n\\nModern humans today are always on th...</td>\n",
       "      <td>0</td>\n",
       "      <td>Phones and driving</td>\n",
       "      <td>persuade_corpus</td>\n",
       "      <td>False</td>\n",
       "    </tr>\n",
       "    <tr>\n",
       "      <th>1</th>\n",
       "      <td>This essay will explain if drivers should or s...</td>\n",
       "      <td>0</td>\n",
       "      <td>Phones and driving</td>\n",
       "      <td>persuade_corpus</td>\n",
       "      <td>False</td>\n",
       "    </tr>\n",
       "    <tr>\n",
       "      <th>2</th>\n",
       "      <td>Driving while the use of cellular devices\\n\\nT...</td>\n",
       "      <td>0</td>\n",
       "      <td>Phones and driving</td>\n",
       "      <td>persuade_corpus</td>\n",
       "      <td>False</td>\n",
       "    </tr>\n",
       "    <tr>\n",
       "      <th>3</th>\n",
       "      <td>Phones &amp; Driving\\n\\nDrivers should not be able...</td>\n",
       "      <td>0</td>\n",
       "      <td>Phones and driving</td>\n",
       "      <td>persuade_corpus</td>\n",
       "      <td>False</td>\n",
       "    </tr>\n",
       "    <tr>\n",
       "      <th>4</th>\n",
       "      <td>Cell Phone Operation While Driving\\n\\nThe abil...</td>\n",
       "      <td>0</td>\n",
       "      <td>Phones and driving</td>\n",
       "      <td>persuade_corpus</td>\n",
       "      <td>False</td>\n",
       "    </tr>\n",
       "    <tr>\n",
       "      <th>5</th>\n",
       "      <td>Cell phone use should not be legal while drivi...</td>\n",
       "      <td>0</td>\n",
       "      <td>Phones and driving</td>\n",
       "      <td>persuade_corpus</td>\n",
       "      <td>False</td>\n",
       "    </tr>\n",
       "    <tr>\n",
       "      <th>6</th>\n",
       "      <td>Phones and Driving\\n\\nDriving is a good way to...</td>\n",
       "      <td>0</td>\n",
       "      <td>Phones and driving</td>\n",
       "      <td>persuade_corpus</td>\n",
       "      <td>False</td>\n",
       "    </tr>\n",
       "    <tr>\n",
       "      <th>7</th>\n",
       "      <td>PHONES AND DRIVING\\n\\nIn this world in which w...</td>\n",
       "      <td>0</td>\n",
       "      <td>Phones and driving</td>\n",
       "      <td>persuade_corpus</td>\n",
       "      <td>False</td>\n",
       "    </tr>\n",
       "    <tr>\n",
       "      <th>8</th>\n",
       "      <td>People are debating whether if drivers should ...</td>\n",
       "      <td>0</td>\n",
       "      <td>Phones and driving</td>\n",
       "      <td>persuade_corpus</td>\n",
       "      <td>False</td>\n",
       "    </tr>\n",
       "    <tr>\n",
       "      <th>9</th>\n",
       "      <td>Texting and driving\\n\\nOver half of drivers in...</td>\n",
       "      <td>0</td>\n",
       "      <td>Phones and driving</td>\n",
       "      <td>persuade_corpus</td>\n",
       "      <td>False</td>\n",
       "    </tr>\n",
       "  </tbody>\n",
       "</table>\n",
       "</div>"
      ],
      "text/plain": [
       "                                                text  label  \\\n",
       "0  Phones\\n\\nModern humans today are always on th...      0   \n",
       "1  This essay will explain if drivers should or s...      0   \n",
       "2  Driving while the use of cellular devices\\n\\nT...      0   \n",
       "3  Phones & Driving\\n\\nDrivers should not be able...      0   \n",
       "4  Cell Phone Operation While Driving\\n\\nThe abil...      0   \n",
       "5  Cell phone use should not be legal while drivi...      0   \n",
       "6  Phones and Driving\\n\\nDriving is a good way to...      0   \n",
       "7  PHONES AND DRIVING\\n\\nIn this world in which w...      0   \n",
       "8  People are debating whether if drivers should ...      0   \n",
       "9  Texting and driving\\n\\nOver half of drivers in...      0   \n",
       "\n",
       "          prompt_name           source  RDizzl3_seven  \n",
       "0  Phones and driving  persuade_corpus          False  \n",
       "1  Phones and driving  persuade_corpus          False  \n",
       "2  Phones and driving  persuade_corpus          False  \n",
       "3  Phones and driving  persuade_corpus          False  \n",
       "4  Phones and driving  persuade_corpus          False  \n",
       "5  Phones and driving  persuade_corpus          False  \n",
       "6  Phones and driving  persuade_corpus          False  \n",
       "7  Phones and driving  persuade_corpus          False  \n",
       "8  Phones and driving  persuade_corpus          False  \n",
       "9  Phones and driving  persuade_corpus          False  "
      ]
     },
     "execution_count": 14,
     "metadata": {},
     "output_type": "execute_result"
    }
   ],
   "source": [
    "display(train.shape)\n",
    "train.head(10)"
   ]
  },
  {
   "cell_type": "code",
   "execution_count": 15,
   "id": "ce464667",
   "metadata": {},
   "outputs": [
    {
     "name": "stderr",
     "output_type": "stream",
     "text": [
      "100%|██████████| 17497/17497 [00:46<00:00, 376.03it/s]\n"
     ]
    }
   ],
   "source": [
    "train = sort_train(train)"
   ]
  },
  {
   "cell_type": "code",
   "execution_count": 16,
   "id": "20f4501c",
   "metadata": {},
   "outputs": [
    {
     "data": {
      "text/plain": [
       "(44868, 5)"
      ]
     },
     "metadata": {},
     "output_type": "display_data"
    },
    {
     "data": {
      "text/html": [
       "<div>\n",
       "<style scoped>\n",
       "    .dataframe tbody tr th:only-of-type {\n",
       "        vertical-align: middle;\n",
       "    }\n",
       "\n",
       "    .dataframe tbody tr th {\n",
       "        vertical-align: top;\n",
       "    }\n",
       "\n",
       "    .dataframe thead th {\n",
       "        text-align: right;\n",
       "    }\n",
       "</style>\n",
       "<table border=\"1\" class=\"dataframe\">\n",
       "  <thead>\n",
       "    <tr style=\"text-align: right;\">\n",
       "      <th></th>\n",
       "      <th>text</th>\n",
       "      <th>label</th>\n",
       "      <th>prompt_name</th>\n",
       "      <th>source</th>\n",
       "      <th>RDizzl3_seven</th>\n",
       "    </tr>\n",
       "  </thead>\n",
       "  <tbody>\n",
       "    <tr>\n",
       "      <th>0</th>\n",
       "      <td>Phones\\n\\nModern humans today are always on th...</td>\n",
       "      <td>0</td>\n",
       "      <td>Phones and driving</td>\n",
       "      <td>persuade_corpus</td>\n",
       "      <td>False</td>\n",
       "    </tr>\n",
       "    <tr>\n",
       "      <th>1</th>\n",
       "      <td>In recent years, technology has had a profoun...</td>\n",
       "      <td>1</td>\n",
       "      <td>Car-free cities</td>\n",
       "      <td>mistral7binstruct_v2</td>\n",
       "      <td>True</td>\n",
       "    </tr>\n",
       "    <tr>\n",
       "      <th>2</th>\n",
       "      <td>This essay will explain if drivers should or s...</td>\n",
       "      <td>0</td>\n",
       "      <td>Phones and driving</td>\n",
       "      <td>persuade_corpus</td>\n",
       "      <td>False</td>\n",
       "    </tr>\n",
       "    <tr>\n",
       "      <th>3</th>\n",
       "      <td>I strongly believe that meditation and mindful...</td>\n",
       "      <td>1</td>\n",
       "      <td>Distance learning</td>\n",
       "      <td>llama_70b_v1</td>\n",
       "      <td>False</td>\n",
       "    </tr>\n",
       "    <tr>\n",
       "      <th>4</th>\n",
       "      <td>Driving while the use of cellular devices\\n\\nT...</td>\n",
       "      <td>0</td>\n",
       "      <td>Phones and driving</td>\n",
       "      <td>persuade_corpus</td>\n",
       "      <td>False</td>\n",
       "    </tr>\n",
       "    <tr>\n",
       "      <th>5</th>\n",
       "      <td>One way school administrators can attempt to c...</td>\n",
       "      <td>1</td>\n",
       "      <td>Cell phones at school</td>\n",
       "      <td>chat_gpt_moth</td>\n",
       "      <td>False</td>\n",
       "    </tr>\n",
       "    <tr>\n",
       "      <th>6</th>\n",
       "      <td>Phones &amp; Driving\\n\\nDrivers should not be able...</td>\n",
       "      <td>0</td>\n",
       "      <td>Phones and driving</td>\n",
       "      <td>persuade_corpus</td>\n",
       "      <td>False</td>\n",
       "    </tr>\n",
       "    <tr>\n",
       "      <th>7</th>\n",
       "      <td>While summer is meant as a break from the regu...</td>\n",
       "      <td>1</td>\n",
       "      <td>Summer projects</td>\n",
       "      <td>darragh_claude_v7</td>\n",
       "      <td>False</td>\n",
       "    </tr>\n",
       "    <tr>\n",
       "      <th>8</th>\n",
       "      <td>Cell Phone Operation While Driving\\n\\nThe abil...</td>\n",
       "      <td>0</td>\n",
       "      <td>Phones and driving</td>\n",
       "      <td>persuade_corpus</td>\n",
       "      <td>False</td>\n",
       "    </tr>\n",
       "    <tr>\n",
       "      <th>9</th>\n",
       "      <td>The use of Facial Action Coding System (FACS) ...</td>\n",
       "      <td>1</td>\n",
       "      <td>Facial action coding system</td>\n",
       "      <td>darragh_claude_v6</td>\n",
       "      <td>True</td>\n",
       "    </tr>\n",
       "  </tbody>\n",
       "</table>\n",
       "</div>"
      ],
      "text/plain": [
       "                                                text  label  \\\n",
       "0  Phones\\n\\nModern humans today are always on th...      0   \n",
       "1   In recent years, technology has had a profoun...      1   \n",
       "2  This essay will explain if drivers should or s...      0   \n",
       "3  I strongly believe that meditation and mindful...      1   \n",
       "4  Driving while the use of cellular devices\\n\\nT...      0   \n",
       "5  One way school administrators can attempt to c...      1   \n",
       "6  Phones & Driving\\n\\nDrivers should not be able...      0   \n",
       "7  While summer is meant as a break from the regu...      1   \n",
       "8  Cell Phone Operation While Driving\\n\\nThe abil...      0   \n",
       "9  The use of Facial Action Coding System (FACS) ...      1   \n",
       "\n",
       "                   prompt_name                source RDizzl3_seven  \n",
       "0           Phones and driving       persuade_corpus         False  \n",
       "1              Car-free cities  mistral7binstruct_v2          True  \n",
       "2           Phones and driving       persuade_corpus         False  \n",
       "3            Distance learning          llama_70b_v1         False  \n",
       "4           Phones and driving       persuade_corpus         False  \n",
       "5        Cell phones at school         chat_gpt_moth         False  \n",
       "6           Phones and driving       persuade_corpus         False  \n",
       "7              Summer projects     darragh_claude_v7         False  \n",
       "8           Phones and driving       persuade_corpus         False  \n",
       "9  Facial action coding system     darragh_claude_v6          True  "
      ]
     },
     "execution_count": 16,
     "metadata": {},
     "output_type": "execute_result"
    }
   ],
   "source": [
    "display(train.shape)\n",
    "train.head(10)"
   ]
  },
  {
   "cell_type": "code",
   "execution_count": 17,
   "id": "f647664c",
   "metadata": {},
   "outputs": [],
   "source": [
    "LOWERCASE = False\n",
    "VOCAB_SIZE = 30522"
   ]
  },
  {
   "cell_type": "code",
   "execution_count": 18,
   "id": "d9b4831d",
   "metadata": {},
   "outputs": [],
   "source": [
    "## Create byte-pair encoding tokenizer\n",
    "raw_tokenizer = Tokenizer(models.BPE(unk_token='[UNK]'))"
   ]
  },
  {
   "cell_type": "code",
   "execution_count": 19,
   "id": "5cb8ef28",
   "metadata": {},
   "outputs": [],
   "source": [
    "## adding normalization and pre_tokenizer\n",
    "raw_tokenizer.normalizer = normalizers.Sequence([normalizers.NFC()]+ [normalizers.Lowercase()] if LOWERCASE else [])\n",
    "raw_tokenizer.pre_tokenizer = pre_tokenizers.ByteLevel()"
   ]
  },
  {
   "cell_type": "code",
   "execution_count": 20,
   "id": "61f33614",
   "metadata": {},
   "outputs": [],
   "source": [
    "# Adding special tokens and creating trainer instance\n",
    "special_tokens = [\"[UNK]\", \"[PAD]\", \"[CLS]\", \"[SEP]\", \"[MASK]\"]\n",
    "trainer = trainers.BpeTrainer(vocab_size = VOCAB_SIZE, special_tokens = special_tokens)"
   ]
  },
  {
   "cell_type": "code",
   "execution_count": 21,
   "id": "08980728",
   "metadata": {},
   "outputs": [
    {
     "name": "stderr",
     "output_type": "stream",
     "text": [
      "/home/ubuntu/anaconda3/lib/python3.9/site-packages/pyarrow/pandas_compat.py:358: FutureWarning: is_sparse is deprecated and will be removed in a future version. Check `isinstance(dtype, pd.SparseDtype)` instead.\n",
      "  if _pandas_api.is_sparse(col):\n"
     ]
    },
    {
     "name": "stdout",
     "output_type": "stream",
     "text": [
      "\n"
     ]
    },
    {
     "name": "stderr",
     "output_type": "stream",
     "text": [
      "100%|██████████| 3/3 [00:00<00:00, 1422.28it/s]\n"
     ]
    },
    {
     "name": "stdout",
     "output_type": "stream",
     "text": [
      "\n",
      "\n"
     ]
    },
    {
     "name": "stderr",
     "output_type": "stream",
     "text": [
      "100%|██████████| 44868/44868 [02:03<00:00, 363.59it/s]\n"
     ]
    }
   ],
   "source": [
    "# creating huggingface dataset object\n",
    "dataset = Dataset.from_pandas(test[['text']])\n",
    "def train_corp_iter():\n",
    "    for i in range(0, len(dataset), 1000):\n",
    "        yield dataset[i:i+1000]['text']\n",
    "raw_tokenizer.train_from_iterator(train_corp_iter(), trainer = trainer)\n",
    "tokenizer = PreTrainedTokenizerFast(\n",
    "    tokenizer_object=raw_tokenizer,\n",
    "    unk_token=\"[UNK]\",\n",
    "    pad_token=\"[PAD]\",\n",
    "    cls_token=\"[CLS]\",\n",
    "    sep_token=\"[SEP]\",\n",
    "    mask_token=\"[MASK]\",\n",
    ")\n",
    "tokenized_texts_test = []\n",
    "for text in tqdm(test['text'].tolist()):\n",
    "    tokenized_texts_test.append(tokenizer.tokenize(text))\n",
    "\n",
    "tokenized_texts_train = []\n",
    "\n",
    "for text in tqdm(train['text'].tolist()):\n",
    "    tokenized_texts_train.append(tokenizer.tokenize(text))"
   ]
  },
  {
   "cell_type": "code",
   "execution_count": 22,
   "id": "e8f7ea9f",
   "metadata": {},
   "outputs": [
    {
     "data": {
      "text/plain": [
       "['ĠBbb', 'Ġccc', 'Ġddd', '.']"
      ]
     },
     "execution_count": 22,
     "metadata": {},
     "output_type": "execute_result"
    }
   ],
   "source": [
    "tokenized_texts_test[1]"
   ]
  },
  {
   "cell_type": "code",
   "execution_count": 23,
   "id": "93001dbb",
   "metadata": {},
   "outputs": [],
   "source": [
    "def dummy(text):\n",
    "    return text"
   ]
  },
  {
   "cell_type": "code",
   "execution_count": 24,
   "id": "d8c63bb3",
   "metadata": {},
   "outputs": [
    {
     "name": "stdout",
     "output_type": "stream",
     "text": [
      "{'ĠAaa Ġbbb Ġccc': 0, 'Ġbbb Ġccc .': 6, 'ĠAaa Ġbbb Ġccc .': 1, 'ĠBbb Ġccc Ġddd': 2, 'Ġccc Ġddd .': 7, 'ĠBbb Ġccc Ġddd .': 3, 'ĠCCC Ġddd Ġeee': 4, 'Ġddd Ġeee .': 8, 'ĠCCC Ġddd Ġeee .': 5}\n"
     ]
    },
    {
     "data": {
      "text/plain": [
       "0"
      ]
     },
     "execution_count": 24,
     "metadata": {},
     "output_type": "execute_result"
    }
   ],
   "source": [
    "vectorizer = TfidfVectorizer(ngram_range = (3, 5), lowercase=False, sublinear_tf = True, analyzer = 'word',\n",
    "                            tokenizer = dummy,\n",
    "                            preprocessor = dummy,\n",
    "                            token_pattern = None,\n",
    "                            strip_accents = 'unicode',\n",
    "                            dtype = np.float32)\n",
    "vectorizer.fit(tokenized_texts_test)\n",
    "\n",
    "# Getting vocab\n",
    "vocab = vectorizer.vocabulary_\n",
    "\n",
    "print(vocab)\n",
    "\n",
    "vectorizer = TfidfVectorizer(ngram_range=(3, 5), lowercase=False, sublinear_tf=True, \n",
    "                             #vocabulary=vocab,\n",
    "                            analyzer = 'word',\n",
    "                            tokenizer = dummy,\n",
    "                            preprocessor = dummy,\n",
    "                            token_pattern = None, strip_accents='unicode',\n",
    "                            dtype = np.float32\n",
    "                            )\n",
    "\n",
    "tf_train = vectorizer.fit_transform(tokenized_texts_train)\n",
    "tf_test = vectorizer.transform(tokenized_texts_test)\n",
    "## get the vocabulary of the training dataset\n",
    "train_vocab = vectorizer.vocabulary_\n",
    "\n",
    "del vectorizer\n",
    "gc.collect()"
   ]
  },
  {
   "cell_type": "markdown",
   "id": "e1b7a56d",
   "metadata": {},
   "source": [
    "### Convert the type from numpy.float64 to numpy.float16"
   ]
  },
  {
   "cell_type": "code",
   "execution_count": 25,
   "id": "5ff0482d",
   "metadata": {},
   "outputs": [],
   "source": [
    "# import numpy as np\n",
    "# from scipy.sparse import csr_matrix\n",
    "\n",
    "# ## convert data for tf_train\n",
    "# data  = tf_train.data.astype(np.float16)\n",
    "# indices = tf_train.indices\n",
    "# indptr = tf_train.indptr\n",
    "# tf_train = csr_matrix((data, indices, indptr), shape = tf_train.shape)\n",
    "\n",
    "\n",
    "# ## convert data for tf_test\n",
    "# data = tf_test.data.astype(np.float16)\n",
    "# indices = tf_test.indices\n",
    "# indptr = tf_test.indptr\n",
    "# tf_test = csr_matrix((data, indices, indptr), shape = tf_test.shape)\n",
    "\n",
    "# del data, indices, indptr\n",
    "# gc.collect()"
   ]
  },
  {
   "cell_type": "markdown",
   "id": "d0209d0a",
   "metadata": {},
   "source": [
    "## Start training"
   ]
  },
  {
   "cell_type": "code",
   "execution_count": 26,
   "id": "12c0db6f",
   "metadata": {},
   "outputs": [],
   "source": [
    "# ### save train_vocab\n",
    "# import joblib\n",
    "# model_path = '/home/peng_sun2/s3shared/kaggle/llm-2023/baseline1/'\n",
    "# joblib.dump(train_vocab, f'{model_path}vocab_train.pkl')"
   ]
  },
  {
   "cell_type": "code",
   "execution_count": 27,
   "id": "e3c74dd4",
   "metadata": {},
   "outputs": [
    {
     "name": "stdout",
     "output_type": "stream",
     "text": [
      "Create sweep with ID: wyi8yb2f\n",
      "Sweep URL: https://wandb.ai/peng_sun/llm-2023-SGD-hyperparameter/sweeps/wyi8yb2f\n"
     ]
    }
   ],
   "source": [
    "# # Check if it's in scoring stage\n",
    "# if len(test.text.values) <= 5:\n",
    "#     # if not, just sample submission\n",
    "#     sub.to_csv('submission.csv', index=False)\n",
    "# else:\n",
    "# otherwise, run fitting process\n",
    "\n",
    "# p6={\n",
    "#     'n_iter': 1500,\n",
    "#     'verbose': -1,\n",
    "#     'objective': 'binary',\n",
    "#     'metric': 'auc',\n",
    "#     'learning_rate': 0.05073909898961407, \n",
    "#     'colsample_bytree': 0.726023996436955, \n",
    "#     'colsample_bynode': 0.5803681307354022, \n",
    "#     'lambda_l1': 8.562963348932286, \n",
    "#     'lambda_l2': 4.893256185259296, \n",
    "#     'min_data_in_leaf': 115, \n",
    "#     'max_depth': 123, \n",
    "#     'max_bin': 250,\n",
    "#     'device': 'gpu'\n",
    "# }\n",
    "\n",
    "sweep_config = {\n",
    "    'method': 'bayes',\n",
    "    'metric': {'name': 'validatoin_auc', 'goal': 'maximize'},\n",
    "    'parameters': {\n",
    "        'alpha': {'min': 0.0001, 'max': 0.01},\n",
    "        'loss': {'values':['hinge', 'log', 'modified_huber']},\n",
    "        'eta0': {'min': 0.01, 'max': 0.1},\n",
    "        'max_iter': {'min': 1000, 'max': 10000}\n",
    "    }\n",
    "}\n",
    "\n",
    "sweep_id = wandb.sweep(sweep_config, project=\"llm-2023-SGD-hyperparameter\")\n"
   ]
  },
  {
   "cell_type": "code",
   "execution_count": 28,
   "id": "5954df31",
   "metadata": {},
   "outputs": [],
   "source": [
    "def split_range_into_parts(start, end, num_parts):\n",
    "    splits = np.linspace(start, end, num_parts + 1)\n",
    "    ranges = [(int(np.floor(splits[i])), int(np.ceil(splits[i + 1]))) for i in range(num_parts)]\n",
    "    return np.array(ranges)"
   ]
  },
  {
   "cell_type": "code",
   "execution_count": 29,
   "id": "9d2730d7",
   "metadata": {},
   "outputs": [],
   "source": [
    "def increment_train_catboost(tf_train, y_train, cat, num_parts):\n",
    "    split_ranges = split_range_into_parts(0, tf_train.shape[0], num_parts);\n",
    "    #print(split_ranges)\n",
    "    \n",
    "    ## incrementally train catboost\n",
    "    for i, (start, end) in enumerate(split_ranges):\n",
    "        print('start, end ', start, ' ', end)\n",
    "        train_X_split = tf_train[start:end, :]\n",
    "        train_y_split = y_train[start:end]\n",
    "        \n",
    "        #print(train_X_split.shape, train_y_split.shape)\n",
    "        if i ==0:\n",
    "            cat.fit(train_X_split, train_y_split)\n",
    "        else: \n",
    "            cat.fit(train_X_split, train_y_split, init_model = cat)\n",
    "        print(f'part {i} is finished ...')\n",
    "    return cat\n",
    "    "
   ]
  },
  {
   "cell_type": "code",
   "execution_count": 30,
   "id": "7941cb9f",
   "metadata": {},
   "outputs": [],
   "source": [
    "y_train = train['label'].values"
   ]
  },
  {
   "cell_type": "code",
   "execution_count": null,
   "id": "59c317d8",
   "metadata": {},
   "outputs": [
    {
     "name": "stderr",
     "output_type": "stream",
     "text": [
      "\u001b[34m\u001b[1mwandb\u001b[0m: Agent Starting Run: o7lttkq3 with config:\n",
      "\u001b[34m\u001b[1mwandb\u001b[0m: \talpha: 0.004908504150149459\n",
      "\u001b[34m\u001b[1mwandb\u001b[0m: \teta0: 0.027093758025708715\n",
      "\u001b[34m\u001b[1mwandb\u001b[0m: \tloss: modified_huber\n",
      "\u001b[34m\u001b[1mwandb\u001b[0m: \tmax_iter: 4210\n",
      "Failed to detect the name of this notebook, you can set it manually with the WANDB_NOTEBOOK_NAME environment variable to enable code saving.\n"
     ]
    },
    {
     "data": {
      "text/html": [
       "wandb version 0.16.1 is available!  To upgrade, please run:\n",
       " $ pip install wandb --upgrade"
      ],
      "text/plain": [
       "<IPython.core.display.HTML object>"
      ]
     },
     "metadata": {},
     "output_type": "display_data"
    },
    {
     "data": {
      "text/html": [
       "Tracking run with wandb version 0.15.11"
      ],
      "text/plain": [
       "<IPython.core.display.HTML object>"
      ]
     },
     "metadata": {},
     "output_type": "display_data"
    },
    {
     "data": {
      "text/html": [
       "Run data is saved locally in <code>/home/peng_sun2/workspace/llm-2023/wandb/run-20240104_200708-o7lttkq3</code>"
      ],
      "text/plain": [
       "<IPython.core.display.HTML object>"
      ]
     },
     "metadata": {},
     "output_type": "display_data"
    },
    {
     "data": {
      "text/html": [
       "Syncing run <strong><a href='https://wandb.ai/peng_sun/llm-2023-SGD-hyperparameter/runs/o7lttkq3' target=\"_blank\">desert-sweep-1</a></strong> to <a href='https://wandb.ai/peng_sun/llm-2023-SGD-hyperparameter' target=\"_blank\">Weights & Biases</a> (<a href='https://wandb.me/run' target=\"_blank\">docs</a>)<br/>Sweep page: <a href='https://wandb.ai/peng_sun/llm-2023-SGD-hyperparameter/sweeps/wyi8yb2f' target=\"_blank\">https://wandb.ai/peng_sun/llm-2023-SGD-hyperparameter/sweeps/wyi8yb2f</a>"
      ],
      "text/plain": [
       "<IPython.core.display.HTML object>"
      ]
     },
     "metadata": {},
     "output_type": "display_data"
    },
    {
     "data": {
      "text/html": [
       " View project at <a href='https://wandb.ai/peng_sun/llm-2023-SGD-hyperparameter' target=\"_blank\">https://wandb.ai/peng_sun/llm-2023-SGD-hyperparameter</a>"
      ],
      "text/plain": [
       "<IPython.core.display.HTML object>"
      ]
     },
     "metadata": {},
     "output_type": "display_data"
    },
    {
     "data": {
      "text/html": [
       " View sweep at <a href='https://wandb.ai/peng_sun/llm-2023-SGD-hyperparameter/sweeps/wyi8yb2f' target=\"_blank\">https://wandb.ai/peng_sun/llm-2023-SGD-hyperparameter/sweeps/wyi8yb2f</a>"
      ],
      "text/plain": [
       "<IPython.core.display.HTML object>"
      ]
     },
     "metadata": {},
     "output_type": "display_data"
    },
    {
     "data": {
      "text/html": [
       " View run at <a href='https://wandb.ai/peng_sun/llm-2023-SGD-hyperparameter/runs/o7lttkq3' target=\"_blank\">https://wandb.ai/peng_sun/llm-2023-SGD-hyperparameter/runs/o7lttkq3</a>"
      ],
      "text/plain": [
       "<IPython.core.display.HTML object>"
      ]
     },
     "metadata": {},
     "output_type": "display_data"
    },
    {
     "data": {
      "text/html": [
       "Waiting for W&B process to finish... <strong style=\"color:green\">(success).</strong>"
      ],
      "text/plain": [
       "<IPython.core.display.HTML object>"
      ]
     },
     "metadata": {},
     "output_type": "display_data"
    },
    {
     "data": {
      "text/html": [
       "<style>\n",
       "    table.wandb td:nth-child(1) { padding: 0 10px; text-align: left ; width: auto;} td:nth-child(2) {text-align: left ; width: 100%}\n",
       "    .wandb-row { display: flex; flex-direction: row; flex-wrap: wrap; justify-content: flex-start; width: 100% }\n",
       "    .wandb-col { display: flex; flex-direction: column; flex-basis: 100%; flex: 1; padding: 10px; }\n",
       "    </style>\n",
       "<div class=\"wandb-row\"><div class=\"wandb-col\"><h3>Run history:</h3><br/><table class=\"wandb\"><tr><td>validatoin_auc</td><td>██▇▁▇</td></tr></table><br/></div><div class=\"wandb-col\"><h3>Run summary:</h3><br/><table class=\"wandb\"><tr><td>validatoin_auc</td><td>0.97974</td></tr></table><br/></div></div>"
      ],
      "text/plain": [
       "<IPython.core.display.HTML object>"
      ]
     },
     "metadata": {},
     "output_type": "display_data"
    },
    {
     "data": {
      "text/html": [
       " View run <strong style=\"color:#cdcd00\">desert-sweep-1</strong> at: <a href='https://wandb.ai/peng_sun/llm-2023-SGD-hyperparameter/runs/o7lttkq3' target=\"_blank\">https://wandb.ai/peng_sun/llm-2023-SGD-hyperparameter/runs/o7lttkq3</a><br/>Synced 5 W&B file(s), 0 media file(s), 0 artifact file(s) and 0 other file(s)"
      ],
      "text/plain": [
       "<IPython.core.display.HTML object>"
      ]
     },
     "metadata": {},
     "output_type": "display_data"
    },
    {
     "data": {
      "text/html": [
       "Find logs at: <code>./wandb/run-20240104_200708-o7lttkq3/logs</code>"
      ],
      "text/plain": [
       "<IPython.core.display.HTML object>"
      ]
     },
     "metadata": {},
     "output_type": "display_data"
    },
    {
     "name": "stderr",
     "output_type": "stream",
     "text": [
      "\u001b[34m\u001b[1mwandb\u001b[0m: Agent Starting Run: yihjp15o with config:\n",
      "\u001b[34m\u001b[1mwandb\u001b[0m: \talpha: 0.008979464566136266\n",
      "\u001b[34m\u001b[1mwandb\u001b[0m: \teta0: 0.03823282561522628\n",
      "\u001b[34m\u001b[1mwandb\u001b[0m: \tloss: log\n",
      "\u001b[34m\u001b[1mwandb\u001b[0m: \tmax_iter: 7731\n",
      "Failed to detect the name of this notebook, you can set it manually with the WANDB_NOTEBOOK_NAME environment variable to enable code saving.\n"
     ]
    },
    {
     "data": {
      "text/html": [
       "wandb version 0.16.1 is available!  To upgrade, please run:\n",
       " $ pip install wandb --upgrade"
      ],
      "text/plain": [
       "<IPython.core.display.HTML object>"
      ]
     },
     "metadata": {},
     "output_type": "display_data"
    },
    {
     "data": {
      "text/html": [
       "Tracking run with wandb version 0.15.11"
      ],
      "text/plain": [
       "<IPython.core.display.HTML object>"
      ]
     },
     "metadata": {},
     "output_type": "display_data"
    },
    {
     "data": {
      "text/html": [
       "Run data is saved locally in <code>/home/peng_sun2/workspace/llm-2023/wandb/run-20240104_200735-yihjp15o</code>"
      ],
      "text/plain": [
       "<IPython.core.display.HTML object>"
      ]
     },
     "metadata": {},
     "output_type": "display_data"
    },
    {
     "data": {
      "text/html": [
       "Syncing run <strong><a href='https://wandb.ai/peng_sun/llm-2023-SGD-hyperparameter/runs/yihjp15o' target=\"_blank\">swept-sweep-2</a></strong> to <a href='https://wandb.ai/peng_sun/llm-2023-SGD-hyperparameter' target=\"_blank\">Weights & Biases</a> (<a href='https://wandb.me/run' target=\"_blank\">docs</a>)<br/>Sweep page: <a href='https://wandb.ai/peng_sun/llm-2023-SGD-hyperparameter/sweeps/wyi8yb2f' target=\"_blank\">https://wandb.ai/peng_sun/llm-2023-SGD-hyperparameter/sweeps/wyi8yb2f</a>"
      ],
      "text/plain": [
       "<IPython.core.display.HTML object>"
      ]
     },
     "metadata": {},
     "output_type": "display_data"
    },
    {
     "data": {
      "text/html": [
       " View project at <a href='https://wandb.ai/peng_sun/llm-2023-SGD-hyperparameter' target=\"_blank\">https://wandb.ai/peng_sun/llm-2023-SGD-hyperparameter</a>"
      ],
      "text/plain": [
       "<IPython.core.display.HTML object>"
      ]
     },
     "metadata": {},
     "output_type": "display_data"
    },
    {
     "data": {
      "text/html": [
       " View sweep at <a href='https://wandb.ai/peng_sun/llm-2023-SGD-hyperparameter/sweeps/wyi8yb2f' target=\"_blank\">https://wandb.ai/peng_sun/llm-2023-SGD-hyperparameter/sweeps/wyi8yb2f</a>"
      ],
      "text/plain": [
       "<IPython.core.display.HTML object>"
      ]
     },
     "metadata": {},
     "output_type": "display_data"
    },
    {
     "data": {
      "text/html": [
       " View run at <a href='https://wandb.ai/peng_sun/llm-2023-SGD-hyperparameter/runs/yihjp15o' target=\"_blank\">https://wandb.ai/peng_sun/llm-2023-SGD-hyperparameter/runs/yihjp15o</a>"
      ],
      "text/plain": [
       "<IPython.core.display.HTML object>"
      ]
     },
     "metadata": {},
     "output_type": "display_data"
    },
    {
     "name": "stderr",
     "output_type": "stream",
     "text": [
      "/home/peng_sun2/.local/lib/python3.9/site-packages/sklearn/linear_model/_stochastic_gradient.py:163: FutureWarning: The loss 'log' was deprecated in v1.1 and will be removed in version 1.3. Use `loss='log_loss'` which is equivalent.\n",
      "  warnings.warn(\n",
      "/home/peng_sun2/.local/lib/python3.9/site-packages/sklearn/linear_model/_stochastic_gradient.py:163: FutureWarning: The loss 'log' was deprecated in v1.1 and will be removed in version 1.3. Use `loss='log_loss'` which is equivalent.\n",
      "  warnings.warn(\n",
      "/home/peng_sun2/.local/lib/python3.9/site-packages/sklearn/linear_model/_stochastic_gradient.py:163: FutureWarning: The loss 'log' was deprecated in v1.1 and will be removed in version 1.3. Use `loss='log_loss'` which is equivalent.\n",
      "  warnings.warn(\n",
      "/home/peng_sun2/.local/lib/python3.9/site-packages/sklearn/linear_model/_stochastic_gradient.py:163: FutureWarning: The loss 'log' was deprecated in v1.1 and will be removed in version 1.3. Use `loss='log_loss'` which is equivalent.\n",
      "  warnings.warn(\n",
      "/home/peng_sun2/.local/lib/python3.9/site-packages/sklearn/linear_model/_stochastic_gradient.py:163: FutureWarning: The loss 'log' was deprecated in v1.1 and will be removed in version 1.3. Use `loss='log_loss'` which is equivalent.\n",
      "  warnings.warn(\n"
     ]
    },
    {
     "data": {
      "text/html": [
       "Waiting for W&B process to finish... <strong style=\"color:green\">(success).</strong>"
      ],
      "text/plain": [
       "<IPython.core.display.HTML object>"
      ]
     },
     "metadata": {},
     "output_type": "display_data"
    },
    {
     "data": {
      "application/vnd.jupyter.widget-view+json": {
       "model_id": "bf20d53b00ff467288f79841259a78c0",
       "version_major": 2,
       "version_minor": 0
      },
      "text/plain": [
       "VBox(children=(Label(value='0.002 MB of 0.002 MB uploaded (0.000 MB deduped)\\r'), FloatProgress(value=1.0, max…"
      ]
     },
     "metadata": {},
     "output_type": "display_data"
    },
    {
     "data": {
      "text/html": [
       "<style>\n",
       "    table.wandb td:nth-child(1) { padding: 0 10px; text-align: left ; width: auto;} td:nth-child(2) {text-align: left ; width: 100%}\n",
       "    .wandb-row { display: flex; flex-direction: row; flex-wrap: wrap; justify-content: flex-start; width: 100% }\n",
       "    .wandb-col { display: flex; flex-direction: column; flex-basis: 100%; flex: 1; padding: 10px; }\n",
       "    </style>\n",
       "<div class=\"wandb-row\"><div class=\"wandb-col\"><h3>Run history:</h3><br/><table class=\"wandb\"><tr><td>validatoin_auc</td><td>▇█▆▁▄</td></tr></table><br/></div><div class=\"wandb-col\"><h3>Run summary:</h3><br/><table class=\"wandb\"><tr><td>validatoin_auc</td><td>0.94332</td></tr></table><br/></div></div>"
      ],
      "text/plain": [
       "<IPython.core.display.HTML object>"
      ]
     },
     "metadata": {},
     "output_type": "display_data"
    },
    {
     "data": {
      "text/html": [
       " View run <strong style=\"color:#cdcd00\">swept-sweep-2</strong> at: <a href='https://wandb.ai/peng_sun/llm-2023-SGD-hyperparameter/runs/yihjp15o' target=\"_blank\">https://wandb.ai/peng_sun/llm-2023-SGD-hyperparameter/runs/yihjp15o</a><br/>Synced 6 W&B file(s), 0 media file(s), 0 artifact file(s) and 0 other file(s)"
      ],
      "text/plain": [
       "<IPython.core.display.HTML object>"
      ]
     },
     "metadata": {},
     "output_type": "display_data"
    },
    {
     "data": {
      "text/html": [
       "Find logs at: <code>./wandb/run-20240104_200735-yihjp15o/logs</code>"
      ],
      "text/plain": [
       "<IPython.core.display.HTML object>"
      ]
     },
     "metadata": {},
     "output_type": "display_data"
    },
    {
     "name": "stderr",
     "output_type": "stream",
     "text": [
      "\u001b[34m\u001b[1mwandb\u001b[0m: Agent Starting Run: pauuefrq with config:\n",
      "\u001b[34m\u001b[1mwandb\u001b[0m: \talpha: 0.0037955883076735766\n",
      "\u001b[34m\u001b[1mwandb\u001b[0m: \teta0: 0.03673072620860083\n",
      "\u001b[34m\u001b[1mwandb\u001b[0m: \tloss: modified_huber\n",
      "\u001b[34m\u001b[1mwandb\u001b[0m: \tmax_iter: 4831\n",
      "Failed to detect the name of this notebook, you can set it manually with the WANDB_NOTEBOOK_NAME environment variable to enable code saving.\n"
     ]
    },
    {
     "data": {
      "text/html": [
       "wandb version 0.16.1 is available!  To upgrade, please run:\n",
       " $ pip install wandb --upgrade"
      ],
      "text/plain": [
       "<IPython.core.display.HTML object>"
      ]
     },
     "metadata": {},
     "output_type": "display_data"
    },
    {
     "data": {
      "text/html": [
       "Tracking run with wandb version 0.15.11"
      ],
      "text/plain": [
       "<IPython.core.display.HTML object>"
      ]
     },
     "metadata": {},
     "output_type": "display_data"
    },
    {
     "data": {
      "text/html": [
       "Run data is saved locally in <code>/home/peng_sun2/workspace/llm-2023/wandb/run-20240104_200800-pauuefrq</code>"
      ],
      "text/plain": [
       "<IPython.core.display.HTML object>"
      ]
     },
     "metadata": {},
     "output_type": "display_data"
    },
    {
     "data": {
      "text/html": [
       "Syncing run <strong><a href='https://wandb.ai/peng_sun/llm-2023-SGD-hyperparameter/runs/pauuefrq' target=\"_blank\">efficient-sweep-3</a></strong> to <a href='https://wandb.ai/peng_sun/llm-2023-SGD-hyperparameter' target=\"_blank\">Weights & Biases</a> (<a href='https://wandb.me/run' target=\"_blank\">docs</a>)<br/>Sweep page: <a href='https://wandb.ai/peng_sun/llm-2023-SGD-hyperparameter/sweeps/wyi8yb2f' target=\"_blank\">https://wandb.ai/peng_sun/llm-2023-SGD-hyperparameter/sweeps/wyi8yb2f</a>"
      ],
      "text/plain": [
       "<IPython.core.display.HTML object>"
      ]
     },
     "metadata": {},
     "output_type": "display_data"
    },
    {
     "data": {
      "text/html": [
       " View project at <a href='https://wandb.ai/peng_sun/llm-2023-SGD-hyperparameter' target=\"_blank\">https://wandb.ai/peng_sun/llm-2023-SGD-hyperparameter</a>"
      ],
      "text/plain": [
       "<IPython.core.display.HTML object>"
      ]
     },
     "metadata": {},
     "output_type": "display_data"
    },
    {
     "data": {
      "text/html": [
       " View sweep at <a href='https://wandb.ai/peng_sun/llm-2023-SGD-hyperparameter/sweeps/wyi8yb2f' target=\"_blank\">https://wandb.ai/peng_sun/llm-2023-SGD-hyperparameter/sweeps/wyi8yb2f</a>"
      ],
      "text/plain": [
       "<IPython.core.display.HTML object>"
      ]
     },
     "metadata": {},
     "output_type": "display_data"
    },
    {
     "data": {
      "text/html": [
       " View run at <a href='https://wandb.ai/peng_sun/llm-2023-SGD-hyperparameter/runs/pauuefrq' target=\"_blank\">https://wandb.ai/peng_sun/llm-2023-SGD-hyperparameter/runs/pauuefrq</a>"
      ],
      "text/plain": [
       "<IPython.core.display.HTML object>"
      ]
     },
     "metadata": {},
     "output_type": "display_data"
    },
    {
     "data": {
      "text/html": [
       "Waiting for W&B process to finish... <strong style=\"color:green\">(success).</strong>"
      ],
      "text/plain": [
       "<IPython.core.display.HTML object>"
      ]
     },
     "metadata": {},
     "output_type": "display_data"
    },
    {
     "data": {
      "text/html": [
       "<style>\n",
       "    table.wandb td:nth-child(1) { padding: 0 10px; text-align: left ; width: auto;} td:nth-child(2) {text-align: left ; width: 100%}\n",
       "    .wandb-row { display: flex; flex-direction: row; flex-wrap: wrap; justify-content: flex-start; width: 100% }\n",
       "    .wandb-col { display: flex; flex-direction: column; flex-basis: 100%; flex: 1; padding: 10px; }\n",
       "    </style>\n",
       "<div class=\"wandb-row\"><div class=\"wandb-col\"><h3>Run history:</h3><br/><table class=\"wandb\"><tr><td>validatoin_auc</td><td>███▁▇</td></tr></table><br/></div><div class=\"wandb-col\"><h3>Run summary:</h3><br/><table class=\"wandb\"><tr><td>validatoin_auc</td><td>0.98181</td></tr></table><br/></div></div>"
      ],
      "text/plain": [
       "<IPython.core.display.HTML object>"
      ]
     },
     "metadata": {},
     "output_type": "display_data"
    },
    {
     "data": {
      "text/html": [
       " View run <strong style=\"color:#cdcd00\">efficient-sweep-3</strong> at: <a href='https://wandb.ai/peng_sun/llm-2023-SGD-hyperparameter/runs/pauuefrq' target=\"_blank\">https://wandb.ai/peng_sun/llm-2023-SGD-hyperparameter/runs/pauuefrq</a><br/>Synced 5 W&B file(s), 0 media file(s), 0 artifact file(s) and 0 other file(s)"
      ],
      "text/plain": [
       "<IPython.core.display.HTML object>"
      ]
     },
     "metadata": {},
     "output_type": "display_data"
    },
    {
     "data": {
      "text/html": [
       "Find logs at: <code>./wandb/run-20240104_200800-pauuefrq/logs</code>"
      ],
      "text/plain": [
       "<IPython.core.display.HTML object>"
      ]
     },
     "metadata": {},
     "output_type": "display_data"
    },
    {
     "name": "stderr",
     "output_type": "stream",
     "text": [
      "\u001b[34m\u001b[1mwandb\u001b[0m: Agent Starting Run: e7c3w42t with config:\n",
      "\u001b[34m\u001b[1mwandb\u001b[0m: \talpha: 0.0008192899553119801\n",
      "\u001b[34m\u001b[1mwandb\u001b[0m: \teta0: 0.022975727861115226\n",
      "\u001b[34m\u001b[1mwandb\u001b[0m: \tloss: modified_huber\n",
      "\u001b[34m\u001b[1mwandb\u001b[0m: \tmax_iter: 4192\n",
      "Failed to detect the name of this notebook, you can set it manually with the WANDB_NOTEBOOK_NAME environment variable to enable code saving.\n"
     ]
    },
    {
     "data": {
      "text/html": [
       "wandb version 0.16.1 is available!  To upgrade, please run:\n",
       " $ pip install wandb --upgrade"
      ],
      "text/plain": [
       "<IPython.core.display.HTML object>"
      ]
     },
     "metadata": {},
     "output_type": "display_data"
    },
    {
     "data": {
      "text/html": [
       "Tracking run with wandb version 0.15.11"
      ],
      "text/plain": [
       "<IPython.core.display.HTML object>"
      ]
     },
     "metadata": {},
     "output_type": "display_data"
    },
    {
     "data": {
      "text/html": [
       "Run data is saved locally in <code>/home/peng_sun2/workspace/llm-2023/wandb/run-20240104_200826-e7c3w42t</code>"
      ],
      "text/plain": [
       "<IPython.core.display.HTML object>"
      ]
     },
     "metadata": {},
     "output_type": "display_data"
    },
    {
     "data": {
      "text/html": [
       "Syncing run <strong><a href='https://wandb.ai/peng_sun/llm-2023-SGD-hyperparameter/runs/e7c3w42t' target=\"_blank\">helpful-sweep-4</a></strong> to <a href='https://wandb.ai/peng_sun/llm-2023-SGD-hyperparameter' target=\"_blank\">Weights & Biases</a> (<a href='https://wandb.me/run' target=\"_blank\">docs</a>)<br/>Sweep page: <a href='https://wandb.ai/peng_sun/llm-2023-SGD-hyperparameter/sweeps/wyi8yb2f' target=\"_blank\">https://wandb.ai/peng_sun/llm-2023-SGD-hyperparameter/sweeps/wyi8yb2f</a>"
      ],
      "text/plain": [
       "<IPython.core.display.HTML object>"
      ]
     },
     "metadata": {},
     "output_type": "display_data"
    },
    {
     "data": {
      "text/html": [
       " View project at <a href='https://wandb.ai/peng_sun/llm-2023-SGD-hyperparameter' target=\"_blank\">https://wandb.ai/peng_sun/llm-2023-SGD-hyperparameter</a>"
      ],
      "text/plain": [
       "<IPython.core.display.HTML object>"
      ]
     },
     "metadata": {},
     "output_type": "display_data"
    },
    {
     "data": {
      "text/html": [
       " View sweep at <a href='https://wandb.ai/peng_sun/llm-2023-SGD-hyperparameter/sweeps/wyi8yb2f' target=\"_blank\">https://wandb.ai/peng_sun/llm-2023-SGD-hyperparameter/sweeps/wyi8yb2f</a>"
      ],
      "text/plain": [
       "<IPython.core.display.HTML object>"
      ]
     },
     "metadata": {},
     "output_type": "display_data"
    },
    {
     "data": {
      "text/html": [
       " View run at <a href='https://wandb.ai/peng_sun/llm-2023-SGD-hyperparameter/runs/e7c3w42t' target=\"_blank\">https://wandb.ai/peng_sun/llm-2023-SGD-hyperparameter/runs/e7c3w42t</a>"
      ],
      "text/plain": [
       "<IPython.core.display.HTML object>"
      ]
     },
     "metadata": {},
     "output_type": "display_data"
    },
    {
     "data": {
      "text/html": [
       "Waiting for W&B process to finish... <strong style=\"color:green\">(success).</strong>"
      ],
      "text/plain": [
       "<IPython.core.display.HTML object>"
      ]
     },
     "metadata": {},
     "output_type": "display_data"
    },
    {
     "data": {
      "text/html": [
       "<style>\n",
       "    table.wandb td:nth-child(1) { padding: 0 10px; text-align: left ; width: auto;} td:nth-child(2) {text-align: left ; width: 100%}\n",
       "    .wandb-row { display: flex; flex-direction: row; flex-wrap: wrap; justify-content: flex-start; width: 100% }\n",
       "    .wandb-col { display: flex; flex-direction: column; flex-basis: 100%; flex: 1; padding: 10px; }\n",
       "    </style>\n",
       "<div class=\"wandb-row\"><div class=\"wandb-col\"><h3>Run history:</h3><br/><table class=\"wandb\"><tr><td>validatoin_auc</td><td>███▁▇</td></tr></table><br/></div><div class=\"wandb-col\"><h3>Run summary:</h3><br/><table class=\"wandb\"><tr><td>validatoin_auc</td><td>0.9894</td></tr></table><br/></div></div>"
      ],
      "text/plain": [
       "<IPython.core.display.HTML object>"
      ]
     },
     "metadata": {},
     "output_type": "display_data"
    },
    {
     "data": {
      "text/html": [
       " View run <strong style=\"color:#cdcd00\">helpful-sweep-4</strong> at: <a href='https://wandb.ai/peng_sun/llm-2023-SGD-hyperparameter/runs/e7c3w42t' target=\"_blank\">https://wandb.ai/peng_sun/llm-2023-SGD-hyperparameter/runs/e7c3w42t</a><br/>Synced 5 W&B file(s), 0 media file(s), 0 artifact file(s) and 0 other file(s)"
      ],
      "text/plain": [
       "<IPython.core.display.HTML object>"
      ]
     },
     "metadata": {},
     "output_type": "display_data"
    },
    {
     "data": {
      "text/html": [
       "Find logs at: <code>./wandb/run-20240104_200826-e7c3w42t/logs</code>"
      ],
      "text/plain": [
       "<IPython.core.display.HTML object>"
      ]
     },
     "metadata": {},
     "output_type": "display_data"
    },
    {
     "name": "stderr",
     "output_type": "stream",
     "text": [
      "\u001b[34m\u001b[1mwandb\u001b[0m: Agent Starting Run: bn2wcway with config:\n",
      "\u001b[34m\u001b[1mwandb\u001b[0m: \talpha: 0.0008248166086993544\n",
      "\u001b[34m\u001b[1mwandb\u001b[0m: \teta0: 0.04881755386474087\n",
      "\u001b[34m\u001b[1mwandb\u001b[0m: \tloss: modified_huber\n",
      "\u001b[34m\u001b[1mwandb\u001b[0m: \tmax_iter: 1445\n",
      "Failed to detect the name of this notebook, you can set it manually with the WANDB_NOTEBOOK_NAME environment variable to enable code saving.\n"
     ]
    },
    {
     "data": {
      "text/html": [
       "wandb version 0.16.1 is available!  To upgrade, please run:\n",
       " $ pip install wandb --upgrade"
      ],
      "text/plain": [
       "<IPython.core.display.HTML object>"
      ]
     },
     "metadata": {},
     "output_type": "display_data"
    },
    {
     "data": {
      "text/html": [
       "Tracking run with wandb version 0.15.11"
      ],
      "text/plain": [
       "<IPython.core.display.HTML object>"
      ]
     },
     "metadata": {},
     "output_type": "display_data"
    },
    {
     "data": {
      "text/html": [
       "Run data is saved locally in <code>/home/peng_sun2/workspace/llm-2023/wandb/run-20240104_200851-bn2wcway</code>"
      ],
      "text/plain": [
       "<IPython.core.display.HTML object>"
      ]
     },
     "metadata": {},
     "output_type": "display_data"
    },
    {
     "data": {
      "text/html": [
       "Syncing run <strong><a href='https://wandb.ai/peng_sun/llm-2023-SGD-hyperparameter/runs/bn2wcway' target=\"_blank\">eternal-sweep-5</a></strong> to <a href='https://wandb.ai/peng_sun/llm-2023-SGD-hyperparameter' target=\"_blank\">Weights & Biases</a> (<a href='https://wandb.me/run' target=\"_blank\">docs</a>)<br/>Sweep page: <a href='https://wandb.ai/peng_sun/llm-2023-SGD-hyperparameter/sweeps/wyi8yb2f' target=\"_blank\">https://wandb.ai/peng_sun/llm-2023-SGD-hyperparameter/sweeps/wyi8yb2f</a>"
      ],
      "text/plain": [
       "<IPython.core.display.HTML object>"
      ]
     },
     "metadata": {},
     "output_type": "display_data"
    },
    {
     "data": {
      "text/html": [
       " View project at <a href='https://wandb.ai/peng_sun/llm-2023-SGD-hyperparameter' target=\"_blank\">https://wandb.ai/peng_sun/llm-2023-SGD-hyperparameter</a>"
      ],
      "text/plain": [
       "<IPython.core.display.HTML object>"
      ]
     },
     "metadata": {},
     "output_type": "display_data"
    },
    {
     "data": {
      "text/html": [
       " View sweep at <a href='https://wandb.ai/peng_sun/llm-2023-SGD-hyperparameter/sweeps/wyi8yb2f' target=\"_blank\">https://wandb.ai/peng_sun/llm-2023-SGD-hyperparameter/sweeps/wyi8yb2f</a>"
      ],
      "text/plain": [
       "<IPython.core.display.HTML object>"
      ]
     },
     "metadata": {},
     "output_type": "display_data"
    },
    {
     "data": {
      "text/html": [
       " View run at <a href='https://wandb.ai/peng_sun/llm-2023-SGD-hyperparameter/runs/bn2wcway' target=\"_blank\">https://wandb.ai/peng_sun/llm-2023-SGD-hyperparameter/runs/bn2wcway</a>"
      ],
      "text/plain": [
       "<IPython.core.display.HTML object>"
      ]
     },
     "metadata": {},
     "output_type": "display_data"
    },
    {
     "data": {
      "text/html": [
       "Waiting for W&B process to finish... <strong style=\"color:green\">(success).</strong>"
      ],
      "text/plain": [
       "<IPython.core.display.HTML object>"
      ]
     },
     "metadata": {},
     "output_type": "display_data"
    },
    {
     "data": {
      "text/html": [
       "<style>\n",
       "    table.wandb td:nth-child(1) { padding: 0 10px; text-align: left ; width: auto;} td:nth-child(2) {text-align: left ; width: 100%}\n",
       "    .wandb-row { display: flex; flex-direction: row; flex-wrap: wrap; justify-content: flex-start; width: 100% }\n",
       "    .wandb-col { display: flex; flex-direction: column; flex-basis: 100%; flex: 1; padding: 10px; }\n",
       "    </style>\n",
       "<div class=\"wandb-row\"><div class=\"wandb-col\"><h3>Run history:</h3><br/><table class=\"wandb\"><tr><td>validatoin_auc</td><td>███▁▇</td></tr></table><br/></div><div class=\"wandb-col\"><h3>Run summary:</h3><br/><table class=\"wandb\"><tr><td>validatoin_auc</td><td>0.98947</td></tr></table><br/></div></div>"
      ],
      "text/plain": [
       "<IPython.core.display.HTML object>"
      ]
     },
     "metadata": {},
     "output_type": "display_data"
    },
    {
     "data": {
      "text/html": [
       " View run <strong style=\"color:#cdcd00\">eternal-sweep-5</strong> at: <a href='https://wandb.ai/peng_sun/llm-2023-SGD-hyperparameter/runs/bn2wcway' target=\"_blank\">https://wandb.ai/peng_sun/llm-2023-SGD-hyperparameter/runs/bn2wcway</a><br/>Synced 5 W&B file(s), 0 media file(s), 0 artifact file(s) and 0 other file(s)"
      ],
      "text/plain": [
       "<IPython.core.display.HTML object>"
      ]
     },
     "metadata": {},
     "output_type": "display_data"
    },
    {
     "data": {
      "text/html": [
       "Find logs at: <code>./wandb/run-20240104_200851-bn2wcway/logs</code>"
      ],
      "text/plain": [
       "<IPython.core.display.HTML object>"
      ]
     },
     "metadata": {},
     "output_type": "display_data"
    },
    {
     "name": "stderr",
     "output_type": "stream",
     "text": [
      "\u001b[34m\u001b[1mwandb\u001b[0m: Sweep Agent: Waiting for job.\n",
      "\u001b[34m\u001b[1mwandb\u001b[0m: Job received.\n",
      "\u001b[34m\u001b[1mwandb\u001b[0m: Agent Starting Run: cse9lqzm with config:\n",
      "\u001b[34m\u001b[1mwandb\u001b[0m: \talpha: 0.0023745900001067083\n",
      "\u001b[34m\u001b[1mwandb\u001b[0m: \teta0: 0.012479946757221135\n",
      "\u001b[34m\u001b[1mwandb\u001b[0m: \tloss: modified_huber\n",
      "\u001b[34m\u001b[1mwandb\u001b[0m: \tmax_iter: 1185\n",
      "Failed to detect the name of this notebook, you can set it manually with the WANDB_NOTEBOOK_NAME environment variable to enable code saving.\n"
     ]
    },
    {
     "data": {
      "text/html": [
       "wandb version 0.16.1 is available!  To upgrade, please run:\n",
       " $ pip install wandb --upgrade"
      ],
      "text/plain": [
       "<IPython.core.display.HTML object>"
      ]
     },
     "metadata": {},
     "output_type": "display_data"
    },
    {
     "data": {
      "text/html": [
       "Tracking run with wandb version 0.15.11"
      ],
      "text/plain": [
       "<IPython.core.display.HTML object>"
      ]
     },
     "metadata": {},
     "output_type": "display_data"
    },
    {
     "data": {
      "text/html": [
       "Run data is saved locally in <code>/home/peng_sun2/workspace/llm-2023/wandb/run-20240104_200922-cse9lqzm</code>"
      ],
      "text/plain": [
       "<IPython.core.display.HTML object>"
      ]
     },
     "metadata": {},
     "output_type": "display_data"
    },
    {
     "data": {
      "text/html": [
       "Syncing run <strong><a href='https://wandb.ai/peng_sun/llm-2023-SGD-hyperparameter/runs/cse9lqzm' target=\"_blank\">jolly-sweep-6</a></strong> to <a href='https://wandb.ai/peng_sun/llm-2023-SGD-hyperparameter' target=\"_blank\">Weights & Biases</a> (<a href='https://wandb.me/run' target=\"_blank\">docs</a>)<br/>Sweep page: <a href='https://wandb.ai/peng_sun/llm-2023-SGD-hyperparameter/sweeps/wyi8yb2f' target=\"_blank\">https://wandb.ai/peng_sun/llm-2023-SGD-hyperparameter/sweeps/wyi8yb2f</a>"
      ],
      "text/plain": [
       "<IPython.core.display.HTML object>"
      ]
     },
     "metadata": {},
     "output_type": "display_data"
    },
    {
     "data": {
      "text/html": [
       " View project at <a href='https://wandb.ai/peng_sun/llm-2023-SGD-hyperparameter' target=\"_blank\">https://wandb.ai/peng_sun/llm-2023-SGD-hyperparameter</a>"
      ],
      "text/plain": [
       "<IPython.core.display.HTML object>"
      ]
     },
     "metadata": {},
     "output_type": "display_data"
    },
    {
     "data": {
      "text/html": [
       " View sweep at <a href='https://wandb.ai/peng_sun/llm-2023-SGD-hyperparameter/sweeps/wyi8yb2f' target=\"_blank\">https://wandb.ai/peng_sun/llm-2023-SGD-hyperparameter/sweeps/wyi8yb2f</a>"
      ],
      "text/plain": [
       "<IPython.core.display.HTML object>"
      ]
     },
     "metadata": {},
     "output_type": "display_data"
    },
    {
     "data": {
      "text/html": [
       " View run at <a href='https://wandb.ai/peng_sun/llm-2023-SGD-hyperparameter/runs/cse9lqzm' target=\"_blank\">https://wandb.ai/peng_sun/llm-2023-SGD-hyperparameter/runs/cse9lqzm</a>"
      ],
      "text/plain": [
       "<IPython.core.display.HTML object>"
      ]
     },
     "metadata": {},
     "output_type": "display_data"
    },
    {
     "data": {
      "text/html": [
       "Waiting for W&B process to finish... <strong style=\"color:green\">(success).</strong>"
      ],
      "text/plain": [
       "<IPython.core.display.HTML object>"
      ]
     },
     "metadata": {},
     "output_type": "display_data"
    },
    {
     "data": {
      "text/html": [
       "<style>\n",
       "    table.wandb td:nth-child(1) { padding: 0 10px; text-align: left ; width: auto;} td:nth-child(2) {text-align: left ; width: 100%}\n",
       "    .wandb-row { display: flex; flex-direction: row; flex-wrap: wrap; justify-content: flex-start; width: 100% }\n",
       "    .wandb-col { display: flex; flex-direction: column; flex-basis: 100%; flex: 1; padding: 10px; }\n",
       "    </style>\n",
       "<div class=\"wandb-row\"><div class=\"wandb-col\"><h3>Run history:</h3><br/><table class=\"wandb\"><tr><td>validatoin_auc</td><td>███▁▇</td></tr></table><br/></div><div class=\"wandb-col\"><h3>Run summary:</h3><br/><table class=\"wandb\"><tr><td>validatoin_auc</td><td>0.98477</td></tr></table><br/></div></div>"
      ],
      "text/plain": [
       "<IPython.core.display.HTML object>"
      ]
     },
     "metadata": {},
     "output_type": "display_data"
    },
    {
     "data": {
      "text/html": [
       " View run <strong style=\"color:#cdcd00\">jolly-sweep-6</strong> at: <a href='https://wandb.ai/peng_sun/llm-2023-SGD-hyperparameter/runs/cse9lqzm' target=\"_blank\">https://wandb.ai/peng_sun/llm-2023-SGD-hyperparameter/runs/cse9lqzm</a><br/>Synced 5 W&B file(s), 0 media file(s), 0 artifact file(s) and 0 other file(s)"
      ],
      "text/plain": [
       "<IPython.core.display.HTML object>"
      ]
     },
     "metadata": {},
     "output_type": "display_data"
    },
    {
     "data": {
      "text/html": [
       "Find logs at: <code>./wandb/run-20240104_200922-cse9lqzm/logs</code>"
      ],
      "text/plain": [
       "<IPython.core.display.HTML object>"
      ]
     },
     "metadata": {},
     "output_type": "display_data"
    },
    {
     "name": "stderr",
     "output_type": "stream",
     "text": [
      "\u001b[34m\u001b[1mwandb\u001b[0m: Agent Starting Run: wt3lk4xm with config:\n",
      "\u001b[34m\u001b[1mwandb\u001b[0m: \talpha: 0.0005413541796812616\n",
      "\u001b[34m\u001b[1mwandb\u001b[0m: \teta0: 0.0894970405581305\n",
      "\u001b[34m\u001b[1mwandb\u001b[0m: \tloss: modified_huber\n",
      "\u001b[34m\u001b[1mwandb\u001b[0m: \tmax_iter: 2493\n",
      "Failed to detect the name of this notebook, you can set it manually with the WANDB_NOTEBOOK_NAME environment variable to enable code saving.\n"
     ]
    },
    {
     "data": {
      "text/html": [
       "wandb version 0.16.1 is available!  To upgrade, please run:\n",
       " $ pip install wandb --upgrade"
      ],
      "text/plain": [
       "<IPython.core.display.HTML object>"
      ]
     },
     "metadata": {},
     "output_type": "display_data"
    },
    {
     "data": {
      "text/html": [
       "Tracking run with wandb version 0.15.11"
      ],
      "text/plain": [
       "<IPython.core.display.HTML object>"
      ]
     },
     "metadata": {},
     "output_type": "display_data"
    },
    {
     "data": {
      "text/html": [
       "Run data is saved locally in <code>/home/peng_sun2/workspace/llm-2023/wandb/run-20240104_200947-wt3lk4xm</code>"
      ],
      "text/plain": [
       "<IPython.core.display.HTML object>"
      ]
     },
     "metadata": {},
     "output_type": "display_data"
    },
    {
     "data": {
      "text/html": [
       "Syncing run <strong><a href='https://wandb.ai/peng_sun/llm-2023-SGD-hyperparameter/runs/wt3lk4xm' target=\"_blank\">kind-sweep-7</a></strong> to <a href='https://wandb.ai/peng_sun/llm-2023-SGD-hyperparameter' target=\"_blank\">Weights & Biases</a> (<a href='https://wandb.me/run' target=\"_blank\">docs</a>)<br/>Sweep page: <a href='https://wandb.ai/peng_sun/llm-2023-SGD-hyperparameter/sweeps/wyi8yb2f' target=\"_blank\">https://wandb.ai/peng_sun/llm-2023-SGD-hyperparameter/sweeps/wyi8yb2f</a>"
      ],
      "text/plain": [
       "<IPython.core.display.HTML object>"
      ]
     },
     "metadata": {},
     "output_type": "display_data"
    },
    {
     "data": {
      "text/html": [
       " View project at <a href='https://wandb.ai/peng_sun/llm-2023-SGD-hyperparameter' target=\"_blank\">https://wandb.ai/peng_sun/llm-2023-SGD-hyperparameter</a>"
      ],
      "text/plain": [
       "<IPython.core.display.HTML object>"
      ]
     },
     "metadata": {},
     "output_type": "display_data"
    },
    {
     "data": {
      "text/html": [
       " View sweep at <a href='https://wandb.ai/peng_sun/llm-2023-SGD-hyperparameter/sweeps/wyi8yb2f' target=\"_blank\">https://wandb.ai/peng_sun/llm-2023-SGD-hyperparameter/sweeps/wyi8yb2f</a>"
      ],
      "text/plain": [
       "<IPython.core.display.HTML object>"
      ]
     },
     "metadata": {},
     "output_type": "display_data"
    },
    {
     "data": {
      "text/html": [
       " View run at <a href='https://wandb.ai/peng_sun/llm-2023-SGD-hyperparameter/runs/wt3lk4xm' target=\"_blank\">https://wandb.ai/peng_sun/llm-2023-SGD-hyperparameter/runs/wt3lk4xm</a>"
      ],
      "text/plain": [
       "<IPython.core.display.HTML object>"
      ]
     },
     "metadata": {},
     "output_type": "display_data"
    },
    {
     "data": {
      "text/html": [
       "Waiting for W&B process to finish... <strong style=\"color:green\">(success).</strong>"
      ],
      "text/plain": [
       "<IPython.core.display.HTML object>"
      ]
     },
     "metadata": {},
     "output_type": "display_data"
    },
    {
     "data": {
      "text/html": [
       "<style>\n",
       "    table.wandb td:nth-child(1) { padding: 0 10px; text-align: left ; width: auto;} td:nth-child(2) {text-align: left ; width: 100%}\n",
       "    .wandb-row { display: flex; flex-direction: row; flex-wrap: wrap; justify-content: flex-start; width: 100% }\n",
       "    .wandb-col { display: flex; flex-direction: column; flex-basis: 100%; flex: 1; padding: 10px; }\n",
       "    </style>\n",
       "<div class=\"wandb-row\"><div class=\"wandb-col\"><h3>Run history:</h3><br/><table class=\"wandb\"><tr><td>validatoin_auc</td><td>███▁▇</td></tr></table><br/></div><div class=\"wandb-col\"><h3>Run summary:</h3><br/><table class=\"wandb\"><tr><td>validatoin_auc</td><td>0.99085</td></tr></table><br/></div></div>"
      ],
      "text/plain": [
       "<IPython.core.display.HTML object>"
      ]
     },
     "metadata": {},
     "output_type": "display_data"
    },
    {
     "data": {
      "text/html": [
       " View run <strong style=\"color:#cdcd00\">kind-sweep-7</strong> at: <a href='https://wandb.ai/peng_sun/llm-2023-SGD-hyperparameter/runs/wt3lk4xm' target=\"_blank\">https://wandb.ai/peng_sun/llm-2023-SGD-hyperparameter/runs/wt3lk4xm</a><br/>Synced 5 W&B file(s), 0 media file(s), 0 artifact file(s) and 0 other file(s)"
      ],
      "text/plain": [
       "<IPython.core.display.HTML object>"
      ]
     },
     "metadata": {},
     "output_type": "display_data"
    },
    {
     "data": {
      "text/html": [
       "Find logs at: <code>./wandb/run-20240104_200947-wt3lk4xm/logs</code>"
      ],
      "text/plain": [
       "<IPython.core.display.HTML object>"
      ]
     },
     "metadata": {},
     "output_type": "display_data"
    },
    {
     "name": "stderr",
     "output_type": "stream",
     "text": [
      "\u001b[34m\u001b[1mwandb\u001b[0m: Agent Starting Run: 6bgxr9c3 with config:\n",
      "\u001b[34m\u001b[1mwandb\u001b[0m: \talpha: 0.0005013755497494906\n",
      "\u001b[34m\u001b[1mwandb\u001b[0m: \teta0: 0.0968416978644116\n",
      "\u001b[34m\u001b[1mwandb\u001b[0m: \tloss: log\n",
      "\u001b[34m\u001b[1mwandb\u001b[0m: \tmax_iter: 1992\n",
      "Failed to detect the name of this notebook, you can set it manually with the WANDB_NOTEBOOK_NAME environment variable to enable code saving.\n"
     ]
    },
    {
     "data": {
      "text/html": [
       "wandb version 0.16.1 is available!  To upgrade, please run:\n",
       " $ pip install wandb --upgrade"
      ],
      "text/plain": [
       "<IPython.core.display.HTML object>"
      ]
     },
     "metadata": {},
     "output_type": "display_data"
    },
    {
     "data": {
      "text/html": [
       "Tracking run with wandb version 0.15.11"
      ],
      "text/plain": [
       "<IPython.core.display.HTML object>"
      ]
     },
     "metadata": {},
     "output_type": "display_data"
    },
    {
     "data": {
      "text/html": [
       "Run data is saved locally in <code>/home/peng_sun2/workspace/llm-2023/wandb/run-20240104_201013-6bgxr9c3</code>"
      ],
      "text/plain": [
       "<IPython.core.display.HTML object>"
      ]
     },
     "metadata": {},
     "output_type": "display_data"
    },
    {
     "data": {
      "text/html": [
       "Syncing run <strong><a href='https://wandb.ai/peng_sun/llm-2023-SGD-hyperparameter/runs/6bgxr9c3' target=\"_blank\">fallen-sweep-8</a></strong> to <a href='https://wandb.ai/peng_sun/llm-2023-SGD-hyperparameter' target=\"_blank\">Weights & Biases</a> (<a href='https://wandb.me/run' target=\"_blank\">docs</a>)<br/>Sweep page: <a href='https://wandb.ai/peng_sun/llm-2023-SGD-hyperparameter/sweeps/wyi8yb2f' target=\"_blank\">https://wandb.ai/peng_sun/llm-2023-SGD-hyperparameter/sweeps/wyi8yb2f</a>"
      ],
      "text/plain": [
       "<IPython.core.display.HTML object>"
      ]
     },
     "metadata": {},
     "output_type": "display_data"
    },
    {
     "data": {
      "text/html": [
       " View project at <a href='https://wandb.ai/peng_sun/llm-2023-SGD-hyperparameter' target=\"_blank\">https://wandb.ai/peng_sun/llm-2023-SGD-hyperparameter</a>"
      ],
      "text/plain": [
       "<IPython.core.display.HTML object>"
      ]
     },
     "metadata": {},
     "output_type": "display_data"
    },
    {
     "data": {
      "text/html": [
       " View sweep at <a href='https://wandb.ai/peng_sun/llm-2023-SGD-hyperparameter/sweeps/wyi8yb2f' target=\"_blank\">https://wandb.ai/peng_sun/llm-2023-SGD-hyperparameter/sweeps/wyi8yb2f</a>"
      ],
      "text/plain": [
       "<IPython.core.display.HTML object>"
      ]
     },
     "metadata": {},
     "output_type": "display_data"
    },
    {
     "data": {
      "text/html": [
       " View run at <a href='https://wandb.ai/peng_sun/llm-2023-SGD-hyperparameter/runs/6bgxr9c3' target=\"_blank\">https://wandb.ai/peng_sun/llm-2023-SGD-hyperparameter/runs/6bgxr9c3</a>"
      ],
      "text/plain": [
       "<IPython.core.display.HTML object>"
      ]
     },
     "metadata": {},
     "output_type": "display_data"
    },
    {
     "name": "stderr",
     "output_type": "stream",
     "text": [
      "/home/peng_sun2/.local/lib/python3.9/site-packages/sklearn/linear_model/_stochastic_gradient.py:163: FutureWarning: The loss 'log' was deprecated in v1.1 and will be removed in version 1.3. Use `loss='log_loss'` which is equivalent.\n",
      "  warnings.warn(\n",
      "/home/peng_sun2/.local/lib/python3.9/site-packages/sklearn/linear_model/_stochastic_gradient.py:163: FutureWarning: The loss 'log' was deprecated in v1.1 and will be removed in version 1.3. Use `loss='log_loss'` which is equivalent.\n",
      "  warnings.warn(\n",
      "/home/peng_sun2/.local/lib/python3.9/site-packages/sklearn/linear_model/_stochastic_gradient.py:163: FutureWarning: The loss 'log' was deprecated in v1.1 and will be removed in version 1.3. Use `loss='log_loss'` which is equivalent.\n",
      "  warnings.warn(\n",
      "/home/peng_sun2/.local/lib/python3.9/site-packages/sklearn/linear_model/_stochastic_gradient.py:163: FutureWarning: The loss 'log' was deprecated in v1.1 and will be removed in version 1.3. Use `loss='log_loss'` which is equivalent.\n",
      "  warnings.warn(\n",
      "/home/peng_sun2/.local/lib/python3.9/site-packages/sklearn/linear_model/_stochastic_gradient.py:163: FutureWarning: The loss 'log' was deprecated in v1.1 and will be removed in version 1.3. Use `loss='log_loss'` which is equivalent.\n",
      "  warnings.warn(\n"
     ]
    },
    {
     "data": {
      "text/html": [
       "Waiting for W&B process to finish... <strong style=\"color:green\">(success).</strong>"
      ],
      "text/plain": [
       "<IPython.core.display.HTML object>"
      ]
     },
     "metadata": {},
     "output_type": "display_data"
    },
    {
     "data": {
      "text/html": [
       "<style>\n",
       "    table.wandb td:nth-child(1) { padding: 0 10px; text-align: left ; width: auto;} td:nth-child(2) {text-align: left ; width: 100%}\n",
       "    .wandb-row { display: flex; flex-direction: row; flex-wrap: wrap; justify-content: flex-start; width: 100% }\n",
       "    .wandb-col { display: flex; flex-direction: column; flex-basis: 100%; flex: 1; padding: 10px; }\n",
       "    </style>\n",
       "<div class=\"wandb-row\"><div class=\"wandb-col\"><h3>Run history:</h3><br/><table class=\"wandb\"><tr><td>validatoin_auc</td><td>██▇▁▆</td></tr></table><br/></div><div class=\"wandb-col\"><h3>Run summary:</h3><br/><table class=\"wandb\"><tr><td>validatoin_auc</td><td>0.97811</td></tr></table><br/></div></div>"
      ],
      "text/plain": [
       "<IPython.core.display.HTML object>"
      ]
     },
     "metadata": {},
     "output_type": "display_data"
    },
    {
     "data": {
      "text/html": [
       " View run <strong style=\"color:#cdcd00\">fallen-sweep-8</strong> at: <a href='https://wandb.ai/peng_sun/llm-2023-SGD-hyperparameter/runs/6bgxr9c3' target=\"_blank\">https://wandb.ai/peng_sun/llm-2023-SGD-hyperparameter/runs/6bgxr9c3</a><br/>Synced 6 W&B file(s), 0 media file(s), 0 artifact file(s) and 0 other file(s)"
      ],
      "text/plain": [
       "<IPython.core.display.HTML object>"
      ]
     },
     "metadata": {},
     "output_type": "display_data"
    },
    {
     "data": {
      "text/html": [
       "Find logs at: <code>./wandb/run-20240104_201013-6bgxr9c3/logs</code>"
      ],
      "text/plain": [
       "<IPython.core.display.HTML object>"
      ]
     },
     "metadata": {},
     "output_type": "display_data"
    },
    {
     "name": "stderr",
     "output_type": "stream",
     "text": [
      "\u001b[34m\u001b[1mwandb\u001b[0m: Agent Starting Run: 3ok1po42 with config:\n",
      "\u001b[34m\u001b[1mwandb\u001b[0m: \talpha: 0.0003304996342349575\n",
      "\u001b[34m\u001b[1mwandb\u001b[0m: \teta0: 0.05878588556946295\n",
      "\u001b[34m\u001b[1mwandb\u001b[0m: \tloss: modified_huber\n",
      "\u001b[34m\u001b[1mwandb\u001b[0m: \tmax_iter: 3676\n",
      "Failed to detect the name of this notebook, you can set it manually with the WANDB_NOTEBOOK_NAME environment variable to enable code saving.\n"
     ]
    },
    {
     "data": {
      "text/html": [
       "wandb version 0.16.1 is available!  To upgrade, please run:\n",
       " $ pip install wandb --upgrade"
      ],
      "text/plain": [
       "<IPython.core.display.HTML object>"
      ]
     },
     "metadata": {},
     "output_type": "display_data"
    },
    {
     "data": {
      "text/html": [
       "Tracking run with wandb version 0.15.11"
      ],
      "text/plain": [
       "<IPython.core.display.HTML object>"
      ]
     },
     "metadata": {},
     "output_type": "display_data"
    },
    {
     "data": {
      "text/html": [
       "Run data is saved locally in <code>/home/peng_sun2/workspace/llm-2023/wandb/run-20240104_201039-3ok1po42</code>"
      ],
      "text/plain": [
       "<IPython.core.display.HTML object>"
      ]
     },
     "metadata": {},
     "output_type": "display_data"
    },
    {
     "data": {
      "text/html": [
       "Syncing run <strong><a href='https://wandb.ai/peng_sun/llm-2023-SGD-hyperparameter/runs/3ok1po42' target=\"_blank\">breezy-sweep-9</a></strong> to <a href='https://wandb.ai/peng_sun/llm-2023-SGD-hyperparameter' target=\"_blank\">Weights & Biases</a> (<a href='https://wandb.me/run' target=\"_blank\">docs</a>)<br/>Sweep page: <a href='https://wandb.ai/peng_sun/llm-2023-SGD-hyperparameter/sweeps/wyi8yb2f' target=\"_blank\">https://wandb.ai/peng_sun/llm-2023-SGD-hyperparameter/sweeps/wyi8yb2f</a>"
      ],
      "text/plain": [
       "<IPython.core.display.HTML object>"
      ]
     },
     "metadata": {},
     "output_type": "display_data"
    },
    {
     "data": {
      "text/html": [
       " View project at <a href='https://wandb.ai/peng_sun/llm-2023-SGD-hyperparameter' target=\"_blank\">https://wandb.ai/peng_sun/llm-2023-SGD-hyperparameter</a>"
      ],
      "text/plain": [
       "<IPython.core.display.HTML object>"
      ]
     },
     "metadata": {},
     "output_type": "display_data"
    },
    {
     "data": {
      "text/html": [
       " View sweep at <a href='https://wandb.ai/peng_sun/llm-2023-SGD-hyperparameter/sweeps/wyi8yb2f' target=\"_blank\">https://wandb.ai/peng_sun/llm-2023-SGD-hyperparameter/sweeps/wyi8yb2f</a>"
      ],
      "text/plain": [
       "<IPython.core.display.HTML object>"
      ]
     },
     "metadata": {},
     "output_type": "display_data"
    },
    {
     "data": {
      "text/html": [
       " View run at <a href='https://wandb.ai/peng_sun/llm-2023-SGD-hyperparameter/runs/3ok1po42' target=\"_blank\">https://wandb.ai/peng_sun/llm-2023-SGD-hyperparameter/runs/3ok1po42</a>"
      ],
      "text/plain": [
       "<IPython.core.display.HTML object>"
      ]
     },
     "metadata": {},
     "output_type": "display_data"
    },
    {
     "data": {
      "text/html": [
       "Waiting for W&B process to finish... <strong style=\"color:green\">(success).</strong>"
      ],
      "text/plain": [
       "<IPython.core.display.HTML object>"
      ]
     },
     "metadata": {},
     "output_type": "display_data"
    },
    {
     "data": {
      "text/html": [
       "<style>\n",
       "    table.wandb td:nth-child(1) { padding: 0 10px; text-align: left ; width: auto;} td:nth-child(2) {text-align: left ; width: 100%}\n",
       "    .wandb-row { display: flex; flex-direction: row; flex-wrap: wrap; justify-content: flex-start; width: 100% }\n",
       "    .wandb-col { display: flex; flex-direction: column; flex-basis: 100%; flex: 1; padding: 10px; }\n",
       "    </style>\n",
       "<div class=\"wandb-row\"><div class=\"wandb-col\"><h3>Run history:</h3><br/><table class=\"wandb\"><tr><td>validatoin_auc</td><td>███▁█</td></tr></table><br/></div><div class=\"wandb-col\"><h3>Run summary:</h3><br/><table class=\"wandb\"><tr><td>validatoin_auc</td><td>0.99224</td></tr></table><br/></div></div>"
      ],
      "text/plain": [
       "<IPython.core.display.HTML object>"
      ]
     },
     "metadata": {},
     "output_type": "display_data"
    },
    {
     "data": {
      "text/html": [
       " View run <strong style=\"color:#cdcd00\">breezy-sweep-9</strong> at: <a href='https://wandb.ai/peng_sun/llm-2023-SGD-hyperparameter/runs/3ok1po42' target=\"_blank\">https://wandb.ai/peng_sun/llm-2023-SGD-hyperparameter/runs/3ok1po42</a><br/>Synced 5 W&B file(s), 0 media file(s), 0 artifact file(s) and 0 other file(s)"
      ],
      "text/plain": [
       "<IPython.core.display.HTML object>"
      ]
     },
     "metadata": {},
     "output_type": "display_data"
    },
    {
     "data": {
      "text/html": [
       "Find logs at: <code>./wandb/run-20240104_201039-3ok1po42/logs</code>"
      ],
      "text/plain": [
       "<IPython.core.display.HTML object>"
      ]
     },
     "metadata": {},
     "output_type": "display_data"
    },
    {
     "name": "stderr",
     "output_type": "stream",
     "text": [
      "\u001b[34m\u001b[1mwandb\u001b[0m: Agent Starting Run: z33vamlq with config:\n",
      "\u001b[34m\u001b[1mwandb\u001b[0m: \talpha: 0.0003662138966505413\n",
      "\u001b[34m\u001b[1mwandb\u001b[0m: \teta0: 0.08536492827361877\n",
      "\u001b[34m\u001b[1mwandb\u001b[0m: \tloss: modified_huber\n",
      "\u001b[34m\u001b[1mwandb\u001b[0m: \tmax_iter: 5929\n",
      "Failed to detect the name of this notebook, you can set it manually with the WANDB_NOTEBOOK_NAME environment variable to enable code saving.\n"
     ]
    },
    {
     "data": {
      "text/html": [
       "wandb version 0.16.1 is available!  To upgrade, please run:\n",
       " $ pip install wandb --upgrade"
      ],
      "text/plain": [
       "<IPython.core.display.HTML object>"
      ]
     },
     "metadata": {},
     "output_type": "display_data"
    },
    {
     "data": {
      "text/html": [
       "Tracking run with wandb version 0.15.11"
      ],
      "text/plain": [
       "<IPython.core.display.HTML object>"
      ]
     },
     "metadata": {},
     "output_type": "display_data"
    },
    {
     "data": {
      "text/html": [
       "Run data is saved locally in <code>/home/peng_sun2/workspace/llm-2023/wandb/run-20240104_201101-z33vamlq</code>"
      ],
      "text/plain": [
       "<IPython.core.display.HTML object>"
      ]
     },
     "metadata": {},
     "output_type": "display_data"
    },
    {
     "data": {
      "text/html": [
       "Syncing run <strong><a href='https://wandb.ai/peng_sun/llm-2023-SGD-hyperparameter/runs/z33vamlq' target=\"_blank\">helpful-sweep-10</a></strong> to <a href='https://wandb.ai/peng_sun/llm-2023-SGD-hyperparameter' target=\"_blank\">Weights & Biases</a> (<a href='https://wandb.me/run' target=\"_blank\">docs</a>)<br/>Sweep page: <a href='https://wandb.ai/peng_sun/llm-2023-SGD-hyperparameter/sweeps/wyi8yb2f' target=\"_blank\">https://wandb.ai/peng_sun/llm-2023-SGD-hyperparameter/sweeps/wyi8yb2f</a>"
      ],
      "text/plain": [
       "<IPython.core.display.HTML object>"
      ]
     },
     "metadata": {},
     "output_type": "display_data"
    },
    {
     "data": {
      "text/html": [
       " View project at <a href='https://wandb.ai/peng_sun/llm-2023-SGD-hyperparameter' target=\"_blank\">https://wandb.ai/peng_sun/llm-2023-SGD-hyperparameter</a>"
      ],
      "text/plain": [
       "<IPython.core.display.HTML object>"
      ]
     },
     "metadata": {},
     "output_type": "display_data"
    },
    {
     "data": {
      "text/html": [
       " View sweep at <a href='https://wandb.ai/peng_sun/llm-2023-SGD-hyperparameter/sweeps/wyi8yb2f' target=\"_blank\">https://wandb.ai/peng_sun/llm-2023-SGD-hyperparameter/sweeps/wyi8yb2f</a>"
      ],
      "text/plain": [
       "<IPython.core.display.HTML object>"
      ]
     },
     "metadata": {},
     "output_type": "display_data"
    },
    {
     "data": {
      "text/html": [
       " View run at <a href='https://wandb.ai/peng_sun/llm-2023-SGD-hyperparameter/runs/z33vamlq' target=\"_blank\">https://wandb.ai/peng_sun/llm-2023-SGD-hyperparameter/runs/z33vamlq</a>"
      ],
      "text/plain": [
       "<IPython.core.display.HTML object>"
      ]
     },
     "metadata": {},
     "output_type": "display_data"
    },
    {
     "data": {
      "text/html": [
       "Waiting for W&B process to finish... <strong style=\"color:green\">(success).</strong>"
      ],
      "text/plain": [
       "<IPython.core.display.HTML object>"
      ]
     },
     "metadata": {},
     "output_type": "display_data"
    },
    {
     "data": {
      "text/html": [
       "<style>\n",
       "    table.wandb td:nth-child(1) { padding: 0 10px; text-align: left ; width: auto;} td:nth-child(2) {text-align: left ; width: 100%}\n",
       "    .wandb-row { display: flex; flex-direction: row; flex-wrap: wrap; justify-content: flex-start; width: 100% }\n",
       "    .wandb-col { display: flex; flex-direction: column; flex-basis: 100%; flex: 1; padding: 10px; }\n",
       "    </style>\n",
       "<div class=\"wandb-row\"><div class=\"wandb-col\"><h3>Run history:</h3><br/><table class=\"wandb\"><tr><td>validatoin_auc</td><td>███▁█</td></tr></table><br/></div><div class=\"wandb-col\"><h3>Run summary:</h3><br/><table class=\"wandb\"><tr><td>validatoin_auc</td><td>0.99205</td></tr></table><br/></div></div>"
      ],
      "text/plain": [
       "<IPython.core.display.HTML object>"
      ]
     },
     "metadata": {},
     "output_type": "display_data"
    },
    {
     "data": {
      "text/html": [
       " View run <strong style=\"color:#cdcd00\">helpful-sweep-10</strong> at: <a href='https://wandb.ai/peng_sun/llm-2023-SGD-hyperparameter/runs/z33vamlq' target=\"_blank\">https://wandb.ai/peng_sun/llm-2023-SGD-hyperparameter/runs/z33vamlq</a><br/>Synced 5 W&B file(s), 0 media file(s), 0 artifact file(s) and 0 other file(s)"
      ],
      "text/plain": [
       "<IPython.core.display.HTML object>"
      ]
     },
     "metadata": {},
     "output_type": "display_data"
    },
    {
     "data": {
      "text/html": [
       "Find logs at: <code>./wandb/run-20240104_201101-z33vamlq/logs</code>"
      ],
      "text/plain": [
       "<IPython.core.display.HTML object>"
      ]
     },
     "metadata": {},
     "output_type": "display_data"
    },
    {
     "name": "stderr",
     "output_type": "stream",
     "text": [
      "\u001b[34m\u001b[1mwandb\u001b[0m: Agent Starting Run: 5zgl6m19 with config:\n",
      "\u001b[34m\u001b[1mwandb\u001b[0m: \talpha: 0.0002316373111574232\n",
      "\u001b[34m\u001b[1mwandb\u001b[0m: \teta0: 0.07405411363476933\n",
      "\u001b[34m\u001b[1mwandb\u001b[0m: \tloss: modified_huber\n",
      "\u001b[34m\u001b[1mwandb\u001b[0m: \tmax_iter: 9249\n",
      "Failed to detect the name of this notebook, you can set it manually with the WANDB_NOTEBOOK_NAME environment variable to enable code saving.\n"
     ]
    },
    {
     "data": {
      "text/html": [
       "wandb version 0.16.1 is available!  To upgrade, please run:\n",
       " $ pip install wandb --upgrade"
      ],
      "text/plain": [
       "<IPython.core.display.HTML object>"
      ]
     },
     "metadata": {},
     "output_type": "display_data"
    },
    {
     "data": {
      "text/html": [
       "Tracking run with wandb version 0.15.11"
      ],
      "text/plain": [
       "<IPython.core.display.HTML object>"
      ]
     },
     "metadata": {},
     "output_type": "display_data"
    },
    {
     "data": {
      "text/html": [
       "Run data is saved locally in <code>/home/peng_sun2/workspace/llm-2023/wandb/run-20240104_201125-5zgl6m19</code>"
      ],
      "text/plain": [
       "<IPython.core.display.HTML object>"
      ]
     },
     "metadata": {},
     "output_type": "display_data"
    },
    {
     "data": {
      "text/html": [
       "Syncing run <strong><a href='https://wandb.ai/peng_sun/llm-2023-SGD-hyperparameter/runs/5zgl6m19' target=\"_blank\">stellar-sweep-11</a></strong> to <a href='https://wandb.ai/peng_sun/llm-2023-SGD-hyperparameter' target=\"_blank\">Weights & Biases</a> (<a href='https://wandb.me/run' target=\"_blank\">docs</a>)<br/>Sweep page: <a href='https://wandb.ai/peng_sun/llm-2023-SGD-hyperparameter/sweeps/wyi8yb2f' target=\"_blank\">https://wandb.ai/peng_sun/llm-2023-SGD-hyperparameter/sweeps/wyi8yb2f</a>"
      ],
      "text/plain": [
       "<IPython.core.display.HTML object>"
      ]
     },
     "metadata": {},
     "output_type": "display_data"
    },
    {
     "data": {
      "text/html": [
       " View project at <a href='https://wandb.ai/peng_sun/llm-2023-SGD-hyperparameter' target=\"_blank\">https://wandb.ai/peng_sun/llm-2023-SGD-hyperparameter</a>"
      ],
      "text/plain": [
       "<IPython.core.display.HTML object>"
      ]
     },
     "metadata": {},
     "output_type": "display_data"
    },
    {
     "data": {
      "text/html": [
       " View sweep at <a href='https://wandb.ai/peng_sun/llm-2023-SGD-hyperparameter/sweeps/wyi8yb2f' target=\"_blank\">https://wandb.ai/peng_sun/llm-2023-SGD-hyperparameter/sweeps/wyi8yb2f</a>"
      ],
      "text/plain": [
       "<IPython.core.display.HTML object>"
      ]
     },
     "metadata": {},
     "output_type": "display_data"
    },
    {
     "data": {
      "text/html": [
       " View run at <a href='https://wandb.ai/peng_sun/llm-2023-SGD-hyperparameter/runs/5zgl6m19' target=\"_blank\">https://wandb.ai/peng_sun/llm-2023-SGD-hyperparameter/runs/5zgl6m19</a>"
      ],
      "text/plain": [
       "<IPython.core.display.HTML object>"
      ]
     },
     "metadata": {},
     "output_type": "display_data"
    },
    {
     "data": {
      "text/html": [
       "Waiting for W&B process to finish... <strong style=\"color:green\">(success).</strong>"
      ],
      "text/plain": [
       "<IPython.core.display.HTML object>"
      ]
     },
     "metadata": {},
     "output_type": "display_data"
    },
    {
     "data": {
      "text/html": [
       "<style>\n",
       "    table.wandb td:nth-child(1) { padding: 0 10px; text-align: left ; width: auto;} td:nth-child(2) {text-align: left ; width: 100%}\n",
       "    .wandb-row { display: flex; flex-direction: row; flex-wrap: wrap; justify-content: flex-start; width: 100% }\n",
       "    .wandb-col { display: flex; flex-direction: column; flex-basis: 100%; flex: 1; padding: 10px; }\n",
       "    </style>\n",
       "<div class=\"wandb-row\"><div class=\"wandb-col\"><h3>Run history:</h3><br/><table class=\"wandb\"><tr><td>validatoin_auc</td><td>███▁█</td></tr></table><br/></div><div class=\"wandb-col\"><h3>Run summary:</h3><br/><table class=\"wandb\"><tr><td>validatoin_auc</td><td>0.99297</td></tr></table><br/></div></div>"
      ],
      "text/plain": [
       "<IPython.core.display.HTML object>"
      ]
     },
     "metadata": {},
     "output_type": "display_data"
    },
    {
     "data": {
      "text/html": [
       " View run <strong style=\"color:#cdcd00\">stellar-sweep-11</strong> at: <a href='https://wandb.ai/peng_sun/llm-2023-SGD-hyperparameter/runs/5zgl6m19' target=\"_blank\">https://wandb.ai/peng_sun/llm-2023-SGD-hyperparameter/runs/5zgl6m19</a><br/>Synced 5 W&B file(s), 0 media file(s), 0 artifact file(s) and 0 other file(s)"
      ],
      "text/plain": [
       "<IPython.core.display.HTML object>"
      ]
     },
     "metadata": {},
     "output_type": "display_data"
    },
    {
     "data": {
      "text/html": [
       "Find logs at: <code>./wandb/run-20240104_201125-5zgl6m19/logs</code>"
      ],
      "text/plain": [
       "<IPython.core.display.HTML object>"
      ]
     },
     "metadata": {},
     "output_type": "display_data"
    },
    {
     "name": "stderr",
     "output_type": "stream",
     "text": [
      "\u001b[34m\u001b[1mwandb\u001b[0m: Sweep Agent: Waiting for job.\n",
      "\u001b[34m\u001b[1mwandb\u001b[0m: Job received.\n",
      "\u001b[34m\u001b[1mwandb\u001b[0m: Agent Starting Run: z9qdmmfm with config:\n",
      "\u001b[34m\u001b[1mwandb\u001b[0m: \talpha: 0.00019529115353516936\n",
      "\u001b[34m\u001b[1mwandb\u001b[0m: \teta0: 0.04563240318066716\n",
      "\u001b[34m\u001b[1mwandb\u001b[0m: \tloss: modified_huber\n",
      "\u001b[34m\u001b[1mwandb\u001b[0m: \tmax_iter: 8402\n",
      "Failed to detect the name of this notebook, you can set it manually with the WANDB_NOTEBOOK_NAME environment variable to enable code saving.\n"
     ]
    },
    {
     "data": {
      "text/html": [
       "wandb version 0.16.1 is available!  To upgrade, please run:\n",
       " $ pip install wandb --upgrade"
      ],
      "text/plain": [
       "<IPython.core.display.HTML object>"
      ]
     },
     "metadata": {},
     "output_type": "display_data"
    },
    {
     "data": {
      "text/html": [
       "Tracking run with wandb version 0.15.11"
      ],
      "text/plain": [
       "<IPython.core.display.HTML object>"
      ]
     },
     "metadata": {},
     "output_type": "display_data"
    },
    {
     "data": {
      "text/html": [
       "Run data is saved locally in <code>/home/peng_sun2/workspace/llm-2023/wandb/run-20240104_201156-z9qdmmfm</code>"
      ],
      "text/plain": [
       "<IPython.core.display.HTML object>"
      ]
     },
     "metadata": {},
     "output_type": "display_data"
    },
    {
     "data": {
      "text/html": [
       "Syncing run <strong><a href='https://wandb.ai/peng_sun/llm-2023-SGD-hyperparameter/runs/z9qdmmfm' target=\"_blank\">glamorous-sweep-12</a></strong> to <a href='https://wandb.ai/peng_sun/llm-2023-SGD-hyperparameter' target=\"_blank\">Weights & Biases</a> (<a href='https://wandb.me/run' target=\"_blank\">docs</a>)<br/>Sweep page: <a href='https://wandb.ai/peng_sun/llm-2023-SGD-hyperparameter/sweeps/wyi8yb2f' target=\"_blank\">https://wandb.ai/peng_sun/llm-2023-SGD-hyperparameter/sweeps/wyi8yb2f</a>"
      ],
      "text/plain": [
       "<IPython.core.display.HTML object>"
      ]
     },
     "metadata": {},
     "output_type": "display_data"
    },
    {
     "data": {
      "text/html": [
       " View project at <a href='https://wandb.ai/peng_sun/llm-2023-SGD-hyperparameter' target=\"_blank\">https://wandb.ai/peng_sun/llm-2023-SGD-hyperparameter</a>"
      ],
      "text/plain": [
       "<IPython.core.display.HTML object>"
      ]
     },
     "metadata": {},
     "output_type": "display_data"
    },
    {
     "data": {
      "text/html": [
       " View sweep at <a href='https://wandb.ai/peng_sun/llm-2023-SGD-hyperparameter/sweeps/wyi8yb2f' target=\"_blank\">https://wandb.ai/peng_sun/llm-2023-SGD-hyperparameter/sweeps/wyi8yb2f</a>"
      ],
      "text/plain": [
       "<IPython.core.display.HTML object>"
      ]
     },
     "metadata": {},
     "output_type": "display_data"
    },
    {
     "data": {
      "text/html": [
       " View run at <a href='https://wandb.ai/peng_sun/llm-2023-SGD-hyperparameter/runs/z9qdmmfm' target=\"_blank\">https://wandb.ai/peng_sun/llm-2023-SGD-hyperparameter/runs/z9qdmmfm</a>"
      ],
      "text/plain": [
       "<IPython.core.display.HTML object>"
      ]
     },
     "metadata": {},
     "output_type": "display_data"
    },
    {
     "data": {
      "text/html": [
       "Waiting for W&B process to finish... <strong style=\"color:green\">(success).</strong>"
      ],
      "text/plain": [
       "<IPython.core.display.HTML object>"
      ]
     },
     "metadata": {},
     "output_type": "display_data"
    },
    {
     "data": {
      "text/html": [
       "<style>\n",
       "    table.wandb td:nth-child(1) { padding: 0 10px; text-align: left ; width: auto;} td:nth-child(2) {text-align: left ; width: 100%}\n",
       "    .wandb-row { display: flex; flex-direction: row; flex-wrap: wrap; justify-content: flex-start; width: 100% }\n",
       "    .wandb-col { display: flex; flex-direction: column; flex-basis: 100%; flex: 1; padding: 10px; }\n",
       "    </style>\n",
       "<div class=\"wandb-row\"><div class=\"wandb-col\"><h3>Run history:</h3><br/><table class=\"wandb\"><tr><td>validatoin_auc</td><td>███▁█</td></tr></table><br/></div><div class=\"wandb-col\"><h3>Run summary:</h3><br/><table class=\"wandb\"><tr><td>validatoin_auc</td><td>0.99303</td></tr></table><br/></div></div>"
      ],
      "text/plain": [
       "<IPython.core.display.HTML object>"
      ]
     },
     "metadata": {},
     "output_type": "display_data"
    },
    {
     "data": {
      "text/html": [
       " View run <strong style=\"color:#cdcd00\">glamorous-sweep-12</strong> at: <a href='https://wandb.ai/peng_sun/llm-2023-SGD-hyperparameter/runs/z9qdmmfm' target=\"_blank\">https://wandb.ai/peng_sun/llm-2023-SGD-hyperparameter/runs/z9qdmmfm</a><br/>Synced 5 W&B file(s), 0 media file(s), 0 artifact file(s) and 0 other file(s)"
      ],
      "text/plain": [
       "<IPython.core.display.HTML object>"
      ]
     },
     "metadata": {},
     "output_type": "display_data"
    },
    {
     "data": {
      "text/html": [
       "Find logs at: <code>./wandb/run-20240104_201156-z9qdmmfm/logs</code>"
      ],
      "text/plain": [
       "<IPython.core.display.HTML object>"
      ]
     },
     "metadata": {},
     "output_type": "display_data"
    },
    {
     "name": "stderr",
     "output_type": "stream",
     "text": [
      "\u001b[34m\u001b[1mwandb\u001b[0m: Agent Starting Run: uy0yi1m0 with config:\n",
      "\u001b[34m\u001b[1mwandb\u001b[0m: \talpha: 0.00017962983367762652\n",
      "\u001b[34m\u001b[1mwandb\u001b[0m: \teta0: 0.022553129953267265\n",
      "\u001b[34m\u001b[1mwandb\u001b[0m: \tloss: modified_huber\n",
      "\u001b[34m\u001b[1mwandb\u001b[0m: \tmax_iter: 9650\n",
      "Failed to detect the name of this notebook, you can set it manually with the WANDB_NOTEBOOK_NAME environment variable to enable code saving.\n"
     ]
    },
    {
     "data": {
      "text/html": [
       "wandb version 0.16.1 is available!  To upgrade, please run:\n",
       " $ pip install wandb --upgrade"
      ],
      "text/plain": [
       "<IPython.core.display.HTML object>"
      ]
     },
     "metadata": {},
     "output_type": "display_data"
    },
    {
     "data": {
      "text/html": [
       "Tracking run with wandb version 0.15.11"
      ],
      "text/plain": [
       "<IPython.core.display.HTML object>"
      ]
     },
     "metadata": {},
     "output_type": "display_data"
    },
    {
     "data": {
      "text/html": [
       "Run data is saved locally in <code>/home/peng_sun2/workspace/llm-2023/wandb/run-20240104_201221-uy0yi1m0</code>"
      ],
      "text/plain": [
       "<IPython.core.display.HTML object>"
      ]
     },
     "metadata": {},
     "output_type": "display_data"
    },
    {
     "data": {
      "text/html": [
       "Syncing run <strong><a href='https://wandb.ai/peng_sun/llm-2023-SGD-hyperparameter/runs/uy0yi1m0' target=\"_blank\">visionary-sweep-13</a></strong> to <a href='https://wandb.ai/peng_sun/llm-2023-SGD-hyperparameter' target=\"_blank\">Weights & Biases</a> (<a href='https://wandb.me/run' target=\"_blank\">docs</a>)<br/>Sweep page: <a href='https://wandb.ai/peng_sun/llm-2023-SGD-hyperparameter/sweeps/wyi8yb2f' target=\"_blank\">https://wandb.ai/peng_sun/llm-2023-SGD-hyperparameter/sweeps/wyi8yb2f</a>"
      ],
      "text/plain": [
       "<IPython.core.display.HTML object>"
      ]
     },
     "metadata": {},
     "output_type": "display_data"
    },
    {
     "data": {
      "text/html": [
       " View project at <a href='https://wandb.ai/peng_sun/llm-2023-SGD-hyperparameter' target=\"_blank\">https://wandb.ai/peng_sun/llm-2023-SGD-hyperparameter</a>"
      ],
      "text/plain": [
       "<IPython.core.display.HTML object>"
      ]
     },
     "metadata": {},
     "output_type": "display_data"
    },
    {
     "data": {
      "text/html": [
       " View sweep at <a href='https://wandb.ai/peng_sun/llm-2023-SGD-hyperparameter/sweeps/wyi8yb2f' target=\"_blank\">https://wandb.ai/peng_sun/llm-2023-SGD-hyperparameter/sweeps/wyi8yb2f</a>"
      ],
      "text/plain": [
       "<IPython.core.display.HTML object>"
      ]
     },
     "metadata": {},
     "output_type": "display_data"
    },
    {
     "data": {
      "text/html": [
       " View run at <a href='https://wandb.ai/peng_sun/llm-2023-SGD-hyperparameter/runs/uy0yi1m0' target=\"_blank\">https://wandb.ai/peng_sun/llm-2023-SGD-hyperparameter/runs/uy0yi1m0</a>"
      ],
      "text/plain": [
       "<IPython.core.display.HTML object>"
      ]
     },
     "metadata": {},
     "output_type": "display_data"
    },
    {
     "data": {
      "text/html": [
       "Waiting for W&B process to finish... <strong style=\"color:green\">(success).</strong>"
      ],
      "text/plain": [
       "<IPython.core.display.HTML object>"
      ]
     },
     "metadata": {},
     "output_type": "display_data"
    },
    {
     "data": {
      "text/html": [
       "<style>\n",
       "    table.wandb td:nth-child(1) { padding: 0 10px; text-align: left ; width: auto;} td:nth-child(2) {text-align: left ; width: 100%}\n",
       "    .wandb-row { display: flex; flex-direction: row; flex-wrap: wrap; justify-content: flex-start; width: 100% }\n",
       "    .wandb-col { display: flex; flex-direction: column; flex-basis: 100%; flex: 1; padding: 10px; }\n",
       "    </style>\n",
       "<div class=\"wandb-row\"><div class=\"wandb-col\"><h3>Run history:</h3><br/><table class=\"wandb\"><tr><td>validatoin_auc</td><td>███▁█</td></tr></table><br/></div><div class=\"wandb-col\"><h3>Run summary:</h3><br/><table class=\"wandb\"><tr><td>validatoin_auc</td><td>0.99344</td></tr></table><br/></div></div>"
      ],
      "text/plain": [
       "<IPython.core.display.HTML object>"
      ]
     },
     "metadata": {},
     "output_type": "display_data"
    },
    {
     "data": {
      "text/html": [
       " View run <strong style=\"color:#cdcd00\">visionary-sweep-13</strong> at: <a href='https://wandb.ai/peng_sun/llm-2023-SGD-hyperparameter/runs/uy0yi1m0' target=\"_blank\">https://wandb.ai/peng_sun/llm-2023-SGD-hyperparameter/runs/uy0yi1m0</a><br/>Synced 5 W&B file(s), 0 media file(s), 0 artifact file(s) and 0 other file(s)"
      ],
      "text/plain": [
       "<IPython.core.display.HTML object>"
      ]
     },
     "metadata": {},
     "output_type": "display_data"
    },
    {
     "data": {
      "text/html": [
       "Find logs at: <code>./wandb/run-20240104_201221-uy0yi1m0/logs</code>"
      ],
      "text/plain": [
       "<IPython.core.display.HTML object>"
      ]
     },
     "metadata": {},
     "output_type": "display_data"
    },
    {
     "name": "stderr",
     "output_type": "stream",
     "text": [
      "\u001b[34m\u001b[1mwandb\u001b[0m: Agent Starting Run: hwi61wyw with config:\n",
      "\u001b[34m\u001b[1mwandb\u001b[0m: \talpha: 0.00026349495561168844\n",
      "\u001b[34m\u001b[1mwandb\u001b[0m: \teta0: 0.06185633824095899\n",
      "\u001b[34m\u001b[1mwandb\u001b[0m: \tloss: modified_huber\n",
      "\u001b[34m\u001b[1mwandb\u001b[0m: \tmax_iter: 6980\n",
      "Failed to detect the name of this notebook, you can set it manually with the WANDB_NOTEBOOK_NAME environment variable to enable code saving.\n"
     ]
    },
    {
     "data": {
      "text/html": [
       "wandb version 0.16.1 is available!  To upgrade, please run:\n",
       " $ pip install wandb --upgrade"
      ],
      "text/plain": [
       "<IPython.core.display.HTML object>"
      ]
     },
     "metadata": {},
     "output_type": "display_data"
    },
    {
     "data": {
      "text/html": [
       "Tracking run with wandb version 0.15.11"
      ],
      "text/plain": [
       "<IPython.core.display.HTML object>"
      ]
     },
     "metadata": {},
     "output_type": "display_data"
    },
    {
     "data": {
      "text/html": [
       "Run data is saved locally in <code>/home/peng_sun2/workspace/llm-2023/wandb/run-20240104_201246-hwi61wyw</code>"
      ],
      "text/plain": [
       "<IPython.core.display.HTML object>"
      ]
     },
     "metadata": {},
     "output_type": "display_data"
    },
    {
     "data": {
      "text/html": [
       "Syncing run <strong><a href='https://wandb.ai/peng_sun/llm-2023-SGD-hyperparameter/runs/hwi61wyw' target=\"_blank\">smart-sweep-14</a></strong> to <a href='https://wandb.ai/peng_sun/llm-2023-SGD-hyperparameter' target=\"_blank\">Weights & Biases</a> (<a href='https://wandb.me/run' target=\"_blank\">docs</a>)<br/>Sweep page: <a href='https://wandb.ai/peng_sun/llm-2023-SGD-hyperparameter/sweeps/wyi8yb2f' target=\"_blank\">https://wandb.ai/peng_sun/llm-2023-SGD-hyperparameter/sweeps/wyi8yb2f</a>"
      ],
      "text/plain": [
       "<IPython.core.display.HTML object>"
      ]
     },
     "metadata": {},
     "output_type": "display_data"
    },
    {
     "data": {
      "text/html": [
       " View project at <a href='https://wandb.ai/peng_sun/llm-2023-SGD-hyperparameter' target=\"_blank\">https://wandb.ai/peng_sun/llm-2023-SGD-hyperparameter</a>"
      ],
      "text/plain": [
       "<IPython.core.display.HTML object>"
      ]
     },
     "metadata": {},
     "output_type": "display_data"
    },
    {
     "data": {
      "text/html": [
       " View sweep at <a href='https://wandb.ai/peng_sun/llm-2023-SGD-hyperparameter/sweeps/wyi8yb2f' target=\"_blank\">https://wandb.ai/peng_sun/llm-2023-SGD-hyperparameter/sweeps/wyi8yb2f</a>"
      ],
      "text/plain": [
       "<IPython.core.display.HTML object>"
      ]
     },
     "metadata": {},
     "output_type": "display_data"
    },
    {
     "data": {
      "text/html": [
       " View run at <a href='https://wandb.ai/peng_sun/llm-2023-SGD-hyperparameter/runs/hwi61wyw' target=\"_blank\">https://wandb.ai/peng_sun/llm-2023-SGD-hyperparameter/runs/hwi61wyw</a>"
      ],
      "text/plain": [
       "<IPython.core.display.HTML object>"
      ]
     },
     "metadata": {},
     "output_type": "display_data"
    },
    {
     "data": {
      "text/html": [
       "Waiting for W&B process to finish... <strong style=\"color:green\">(success).</strong>"
      ],
      "text/plain": [
       "<IPython.core.display.HTML object>"
      ]
     },
     "metadata": {},
     "output_type": "display_data"
    },
    {
     "data": {
      "text/html": [
       "<style>\n",
       "    table.wandb td:nth-child(1) { padding: 0 10px; text-align: left ; width: auto;} td:nth-child(2) {text-align: left ; width: 100%}\n",
       "    .wandb-row { display: flex; flex-direction: row; flex-wrap: wrap; justify-content: flex-start; width: 100% }\n",
       "    .wandb-col { display: flex; flex-direction: column; flex-basis: 100%; flex: 1; padding: 10px; }\n",
       "    </style>\n",
       "<div class=\"wandb-row\"><div class=\"wandb-col\"><h3>Run history:</h3><br/><table class=\"wandb\"><tr><td>validatoin_auc</td><td>███▁█</td></tr></table><br/></div><div class=\"wandb-col\"><h3>Run summary:</h3><br/><table class=\"wandb\"><tr><td>validatoin_auc</td><td>0.99296</td></tr></table><br/></div></div>"
      ],
      "text/plain": [
       "<IPython.core.display.HTML object>"
      ]
     },
     "metadata": {},
     "output_type": "display_data"
    },
    {
     "data": {
      "text/html": [
       " View run <strong style=\"color:#cdcd00\">smart-sweep-14</strong> at: <a href='https://wandb.ai/peng_sun/llm-2023-SGD-hyperparameter/runs/hwi61wyw' target=\"_blank\">https://wandb.ai/peng_sun/llm-2023-SGD-hyperparameter/runs/hwi61wyw</a><br/>Synced 5 W&B file(s), 0 media file(s), 0 artifact file(s) and 0 other file(s)"
      ],
      "text/plain": [
       "<IPython.core.display.HTML object>"
      ]
     },
     "metadata": {},
     "output_type": "display_data"
    },
    {
     "data": {
      "text/html": [
       "Find logs at: <code>./wandb/run-20240104_201246-hwi61wyw/logs</code>"
      ],
      "text/plain": [
       "<IPython.core.display.HTML object>"
      ]
     },
     "metadata": {},
     "output_type": "display_data"
    },
    {
     "name": "stderr",
     "output_type": "stream",
     "text": [
      "\u001b[34m\u001b[1mwandb\u001b[0m: Sweep Agent: Waiting for job.\n",
      "\u001b[34m\u001b[1mwandb\u001b[0m: Job received.\n",
      "\u001b[34m\u001b[1mwandb\u001b[0m: Agent Starting Run: 5iad3305 with config:\n",
      "\u001b[34m\u001b[1mwandb\u001b[0m: \talpha: 0.0005863105702757309\n",
      "\u001b[34m\u001b[1mwandb\u001b[0m: \teta0: 0.03685306624833929\n",
      "\u001b[34m\u001b[1mwandb\u001b[0m: \tloss: modified_huber\n",
      "\u001b[34m\u001b[1mwandb\u001b[0m: \tmax_iter: 9700\n",
      "Failed to detect the name of this notebook, you can set it manually with the WANDB_NOTEBOOK_NAME environment variable to enable code saving.\n"
     ]
    },
    {
     "data": {
      "text/html": [
       "wandb version 0.16.1 is available!  To upgrade, please run:\n",
       " $ pip install wandb --upgrade"
      ],
      "text/plain": [
       "<IPython.core.display.HTML object>"
      ]
     },
     "metadata": {},
     "output_type": "display_data"
    },
    {
     "data": {
      "text/html": [
       "Tracking run with wandb version 0.15.11"
      ],
      "text/plain": [
       "<IPython.core.display.HTML object>"
      ]
     },
     "metadata": {},
     "output_type": "display_data"
    },
    {
     "data": {
      "text/html": [
       "Run data is saved locally in <code>/home/peng_sun2/workspace/llm-2023/wandb/run-20240104_201317-5iad3305</code>"
      ],
      "text/plain": [
       "<IPython.core.display.HTML object>"
      ]
     },
     "metadata": {},
     "output_type": "display_data"
    },
    {
     "data": {
      "text/html": [
       "Syncing run <strong><a href='https://wandb.ai/peng_sun/llm-2023-SGD-hyperparameter/runs/5iad3305' target=\"_blank\">solar-sweep-15</a></strong> to <a href='https://wandb.ai/peng_sun/llm-2023-SGD-hyperparameter' target=\"_blank\">Weights & Biases</a> (<a href='https://wandb.me/run' target=\"_blank\">docs</a>)<br/>Sweep page: <a href='https://wandb.ai/peng_sun/llm-2023-SGD-hyperparameter/sweeps/wyi8yb2f' target=\"_blank\">https://wandb.ai/peng_sun/llm-2023-SGD-hyperparameter/sweeps/wyi8yb2f</a>"
      ],
      "text/plain": [
       "<IPython.core.display.HTML object>"
      ]
     },
     "metadata": {},
     "output_type": "display_data"
    },
    {
     "data": {
      "text/html": [
       " View project at <a href='https://wandb.ai/peng_sun/llm-2023-SGD-hyperparameter' target=\"_blank\">https://wandb.ai/peng_sun/llm-2023-SGD-hyperparameter</a>"
      ],
      "text/plain": [
       "<IPython.core.display.HTML object>"
      ]
     },
     "metadata": {},
     "output_type": "display_data"
    },
    {
     "data": {
      "text/html": [
       " View sweep at <a href='https://wandb.ai/peng_sun/llm-2023-SGD-hyperparameter/sweeps/wyi8yb2f' target=\"_blank\">https://wandb.ai/peng_sun/llm-2023-SGD-hyperparameter/sweeps/wyi8yb2f</a>"
      ],
      "text/plain": [
       "<IPython.core.display.HTML object>"
      ]
     },
     "metadata": {},
     "output_type": "display_data"
    },
    {
     "data": {
      "text/html": [
       " View run at <a href='https://wandb.ai/peng_sun/llm-2023-SGD-hyperparameter/runs/5iad3305' target=\"_blank\">https://wandb.ai/peng_sun/llm-2023-SGD-hyperparameter/runs/5iad3305</a>"
      ],
      "text/plain": [
       "<IPython.core.display.HTML object>"
      ]
     },
     "metadata": {},
     "output_type": "display_data"
    },
    {
     "data": {
      "text/html": [
       "Waiting for W&B process to finish... <strong style=\"color:green\">(success).</strong>"
      ],
      "text/plain": [
       "<IPython.core.display.HTML object>"
      ]
     },
     "metadata": {},
     "output_type": "display_data"
    },
    {
     "data": {
      "text/html": [
       "<style>\n",
       "    table.wandb td:nth-child(1) { padding: 0 10px; text-align: left ; width: auto;} td:nth-child(2) {text-align: left ; width: 100%}\n",
       "    .wandb-row { display: flex; flex-direction: row; flex-wrap: wrap; justify-content: flex-start; width: 100% }\n",
       "    .wandb-col { display: flex; flex-direction: column; flex-basis: 100%; flex: 1; padding: 10px; }\n",
       "    </style>\n",
       "<div class=\"wandb-row\"><div class=\"wandb-col\"><h3>Run history:</h3><br/><table class=\"wandb\"><tr><td>validatoin_auc</td><td>███▁▇</td></tr></table><br/></div><div class=\"wandb-col\"><h3>Run summary:</h3><br/><table class=\"wandb\"><tr><td>validatoin_auc</td><td>0.99048</td></tr></table><br/></div></div>"
      ],
      "text/plain": [
       "<IPython.core.display.HTML object>"
      ]
     },
     "metadata": {},
     "output_type": "display_data"
    },
    {
     "data": {
      "text/html": [
       " View run <strong style=\"color:#cdcd00\">solar-sweep-15</strong> at: <a href='https://wandb.ai/peng_sun/llm-2023-SGD-hyperparameter/runs/5iad3305' target=\"_blank\">https://wandb.ai/peng_sun/llm-2023-SGD-hyperparameter/runs/5iad3305</a><br/>Synced 5 W&B file(s), 0 media file(s), 0 artifact file(s) and 0 other file(s)"
      ],
      "text/plain": [
       "<IPython.core.display.HTML object>"
      ]
     },
     "metadata": {},
     "output_type": "display_data"
    },
    {
     "data": {
      "text/html": [
       "Find logs at: <code>./wandb/run-20240104_201317-5iad3305/logs</code>"
      ],
      "text/plain": [
       "<IPython.core.display.HTML object>"
      ]
     },
     "metadata": {},
     "output_type": "display_data"
    },
    {
     "name": "stderr",
     "output_type": "stream",
     "text": [
      "\u001b[34m\u001b[1mwandb\u001b[0m: Agent Starting Run: gwjctd03 with config:\n",
      "\u001b[34m\u001b[1mwandb\u001b[0m: \talpha: 0.00010660819487599966\n",
      "\u001b[34m\u001b[1mwandb\u001b[0m: \teta0: 0.018766721172449805\n",
      "\u001b[34m\u001b[1mwandb\u001b[0m: \tloss: modified_huber\n",
      "\u001b[34m\u001b[1mwandb\u001b[0m: \tmax_iter: 6571\n",
      "Failed to detect the name of this notebook, you can set it manually with the WANDB_NOTEBOOK_NAME environment variable to enable code saving.\n"
     ]
    },
    {
     "data": {
      "text/html": [
       "wandb version 0.16.1 is available!  To upgrade, please run:\n",
       " $ pip install wandb --upgrade"
      ],
      "text/plain": [
       "<IPython.core.display.HTML object>"
      ]
     },
     "metadata": {},
     "output_type": "display_data"
    },
    {
     "data": {
      "text/html": [
       "Tracking run with wandb version 0.15.11"
      ],
      "text/plain": [
       "<IPython.core.display.HTML object>"
      ]
     },
     "metadata": {},
     "output_type": "display_data"
    },
    {
     "data": {
      "text/html": [
       "Run data is saved locally in <code>/home/peng_sun2/workspace/llm-2023/wandb/run-20240104_201342-gwjctd03</code>"
      ],
      "text/plain": [
       "<IPython.core.display.HTML object>"
      ]
     },
     "metadata": {},
     "output_type": "display_data"
    },
    {
     "data": {
      "text/html": [
       "Syncing run <strong><a href='https://wandb.ai/peng_sun/llm-2023-SGD-hyperparameter/runs/gwjctd03' target=\"_blank\">treasured-sweep-16</a></strong> to <a href='https://wandb.ai/peng_sun/llm-2023-SGD-hyperparameter' target=\"_blank\">Weights & Biases</a> (<a href='https://wandb.me/run' target=\"_blank\">docs</a>)<br/>Sweep page: <a href='https://wandb.ai/peng_sun/llm-2023-SGD-hyperparameter/sweeps/wyi8yb2f' target=\"_blank\">https://wandb.ai/peng_sun/llm-2023-SGD-hyperparameter/sweeps/wyi8yb2f</a>"
      ],
      "text/plain": [
       "<IPython.core.display.HTML object>"
      ]
     },
     "metadata": {},
     "output_type": "display_data"
    },
    {
     "data": {
      "text/html": [
       " View project at <a href='https://wandb.ai/peng_sun/llm-2023-SGD-hyperparameter' target=\"_blank\">https://wandb.ai/peng_sun/llm-2023-SGD-hyperparameter</a>"
      ],
      "text/plain": [
       "<IPython.core.display.HTML object>"
      ]
     },
     "metadata": {},
     "output_type": "display_data"
    },
    {
     "data": {
      "text/html": [
       " View sweep at <a href='https://wandb.ai/peng_sun/llm-2023-SGD-hyperparameter/sweeps/wyi8yb2f' target=\"_blank\">https://wandb.ai/peng_sun/llm-2023-SGD-hyperparameter/sweeps/wyi8yb2f</a>"
      ],
      "text/plain": [
       "<IPython.core.display.HTML object>"
      ]
     },
     "metadata": {},
     "output_type": "display_data"
    },
    {
     "data": {
      "text/html": [
       " View run at <a href='https://wandb.ai/peng_sun/llm-2023-SGD-hyperparameter/runs/gwjctd03' target=\"_blank\">https://wandb.ai/peng_sun/llm-2023-SGD-hyperparameter/runs/gwjctd03</a>"
      ],
      "text/plain": [
       "<IPython.core.display.HTML object>"
      ]
     },
     "metadata": {},
     "output_type": "display_data"
    },
    {
     "data": {
      "text/html": [
       "Waiting for W&B process to finish... <strong style=\"color:green\">(success).</strong>"
      ],
      "text/plain": [
       "<IPython.core.display.HTML object>"
      ]
     },
     "metadata": {},
     "output_type": "display_data"
    },
    {
     "data": {
      "text/html": [
       "<style>\n",
       "    table.wandb td:nth-child(1) { padding: 0 10px; text-align: left ; width: auto;} td:nth-child(2) {text-align: left ; width: 100%}\n",
       "    .wandb-row { display: flex; flex-direction: row; flex-wrap: wrap; justify-content: flex-start; width: 100% }\n",
       "    .wandb-col { display: flex; flex-direction: column; flex-basis: 100%; flex: 1; padding: 10px; }\n",
       "    </style>\n",
       "<div class=\"wandb-row\"><div class=\"wandb-col\"><h3>Run history:</h3><br/><table class=\"wandb\"><tr><td>validatoin_auc</td><td>███▁█</td></tr></table><br/></div><div class=\"wandb-col\"><h3>Run summary:</h3><br/><table class=\"wandb\"><tr><td>validatoin_auc</td><td>0.99426</td></tr></table><br/></div></div>"
      ],
      "text/plain": [
       "<IPython.core.display.HTML object>"
      ]
     },
     "metadata": {},
     "output_type": "display_data"
    },
    {
     "data": {
      "text/html": [
       " View run <strong style=\"color:#cdcd00\">treasured-sweep-16</strong> at: <a href='https://wandb.ai/peng_sun/llm-2023-SGD-hyperparameter/runs/gwjctd03' target=\"_blank\">https://wandb.ai/peng_sun/llm-2023-SGD-hyperparameter/runs/gwjctd03</a><br/>Synced 5 W&B file(s), 0 media file(s), 0 artifact file(s) and 0 other file(s)"
      ],
      "text/plain": [
       "<IPython.core.display.HTML object>"
      ]
     },
     "metadata": {},
     "output_type": "display_data"
    },
    {
     "data": {
      "text/html": [
       "Find logs at: <code>./wandb/run-20240104_201342-gwjctd03/logs</code>"
      ],
      "text/plain": [
       "<IPython.core.display.HTML object>"
      ]
     },
     "metadata": {},
     "output_type": "display_data"
    },
    {
     "name": "stderr",
     "output_type": "stream",
     "text": [
      "\u001b[34m\u001b[1mwandb\u001b[0m: Agent Starting Run: 8f85ium4 with config:\n",
      "\u001b[34m\u001b[1mwandb\u001b[0m: \talpha: 0.000587988432988797\n",
      "\u001b[34m\u001b[1mwandb\u001b[0m: \teta0: 0.0949590086028692\n",
      "\u001b[34m\u001b[1mwandb\u001b[0m: \tloss: modified_huber\n",
      "\u001b[34m\u001b[1mwandb\u001b[0m: \tmax_iter: 9621\n",
      "Failed to detect the name of this notebook, you can set it manually with the WANDB_NOTEBOOK_NAME environment variable to enable code saving.\n"
     ]
    },
    {
     "data": {
      "text/html": [
       "wandb version 0.16.1 is available!  To upgrade, please run:\n",
       " $ pip install wandb --upgrade"
      ],
      "text/plain": [
       "<IPython.core.display.HTML object>"
      ]
     },
     "metadata": {},
     "output_type": "display_data"
    },
    {
     "data": {
      "text/html": [
       "Tracking run with wandb version 0.15.11"
      ],
      "text/plain": [
       "<IPython.core.display.HTML object>"
      ]
     },
     "metadata": {},
     "output_type": "display_data"
    },
    {
     "data": {
      "text/html": [
       "Run data is saved locally in <code>/home/peng_sun2/workspace/llm-2023/wandb/run-20240104_201407-8f85ium4</code>"
      ],
      "text/plain": [
       "<IPython.core.display.HTML object>"
      ]
     },
     "metadata": {},
     "output_type": "display_data"
    },
    {
     "data": {
      "text/html": [
       "Syncing run <strong><a href='https://wandb.ai/peng_sun/llm-2023-SGD-hyperparameter/runs/8f85ium4' target=\"_blank\">valiant-sweep-17</a></strong> to <a href='https://wandb.ai/peng_sun/llm-2023-SGD-hyperparameter' target=\"_blank\">Weights & Biases</a> (<a href='https://wandb.me/run' target=\"_blank\">docs</a>)<br/>Sweep page: <a href='https://wandb.ai/peng_sun/llm-2023-SGD-hyperparameter/sweeps/wyi8yb2f' target=\"_blank\">https://wandb.ai/peng_sun/llm-2023-SGD-hyperparameter/sweeps/wyi8yb2f</a>"
      ],
      "text/plain": [
       "<IPython.core.display.HTML object>"
      ]
     },
     "metadata": {},
     "output_type": "display_data"
    },
    {
     "data": {
      "text/html": [
       " View project at <a href='https://wandb.ai/peng_sun/llm-2023-SGD-hyperparameter' target=\"_blank\">https://wandb.ai/peng_sun/llm-2023-SGD-hyperparameter</a>"
      ],
      "text/plain": [
       "<IPython.core.display.HTML object>"
      ]
     },
     "metadata": {},
     "output_type": "display_data"
    },
    {
     "data": {
      "text/html": [
       " View sweep at <a href='https://wandb.ai/peng_sun/llm-2023-SGD-hyperparameter/sweeps/wyi8yb2f' target=\"_blank\">https://wandb.ai/peng_sun/llm-2023-SGD-hyperparameter/sweeps/wyi8yb2f</a>"
      ],
      "text/plain": [
       "<IPython.core.display.HTML object>"
      ]
     },
     "metadata": {},
     "output_type": "display_data"
    },
    {
     "data": {
      "text/html": [
       " View run at <a href='https://wandb.ai/peng_sun/llm-2023-SGD-hyperparameter/runs/8f85ium4' target=\"_blank\">https://wandb.ai/peng_sun/llm-2023-SGD-hyperparameter/runs/8f85ium4</a>"
      ],
      "text/plain": [
       "<IPython.core.display.HTML object>"
      ]
     },
     "metadata": {},
     "output_type": "display_data"
    },
    {
     "data": {
      "text/html": [
       "Waiting for W&B process to finish... <strong style=\"color:green\">(success).</strong>"
      ],
      "text/plain": [
       "<IPython.core.display.HTML object>"
      ]
     },
     "metadata": {},
     "output_type": "display_data"
    },
    {
     "data": {
      "text/html": [
       "<style>\n",
       "    table.wandb td:nth-child(1) { padding: 0 10px; text-align: left ; width: auto;} td:nth-child(2) {text-align: left ; width: 100%}\n",
       "    .wandb-row { display: flex; flex-direction: row; flex-wrap: wrap; justify-content: flex-start; width: 100% }\n",
       "    .wandb-col { display: flex; flex-direction: column; flex-basis: 100%; flex: 1; padding: 10px; }\n",
       "    </style>\n",
       "<div class=\"wandb-row\"><div class=\"wandb-col\"><h3>Run history:</h3><br/><table class=\"wandb\"><tr><td>validatoin_auc</td><td>███▁▇</td></tr></table><br/></div><div class=\"wandb-col\"><h3>Run summary:</h3><br/><table class=\"wandb\"><tr><td>validatoin_auc</td><td>0.99051</td></tr></table><br/></div></div>"
      ],
      "text/plain": [
       "<IPython.core.display.HTML object>"
      ]
     },
     "metadata": {},
     "output_type": "display_data"
    },
    {
     "data": {
      "text/html": [
       " View run <strong style=\"color:#cdcd00\">valiant-sweep-17</strong> at: <a href='https://wandb.ai/peng_sun/llm-2023-SGD-hyperparameter/runs/8f85ium4' target=\"_blank\">https://wandb.ai/peng_sun/llm-2023-SGD-hyperparameter/runs/8f85ium4</a><br/>Synced 5 W&B file(s), 0 media file(s), 0 artifact file(s) and 0 other file(s)"
      ],
      "text/plain": [
       "<IPython.core.display.HTML object>"
      ]
     },
     "metadata": {},
     "output_type": "display_data"
    },
    {
     "data": {
      "text/html": [
       "Find logs at: <code>./wandb/run-20240104_201407-8f85ium4/logs</code>"
      ],
      "text/plain": [
       "<IPython.core.display.HTML object>"
      ]
     },
     "metadata": {},
     "output_type": "display_data"
    },
    {
     "name": "stderr",
     "output_type": "stream",
     "text": [
      "\u001b[34m\u001b[1mwandb\u001b[0m: Sweep Agent: Waiting for job.\n",
      "\u001b[34m\u001b[1mwandb\u001b[0m: Job received.\n",
      "\u001b[34m\u001b[1mwandb\u001b[0m: Agent Starting Run: 33xoq94a with config:\n",
      "\u001b[34m\u001b[1mwandb\u001b[0m: \talpha: 0.0001292568081756301\n",
      "\u001b[34m\u001b[1mwandb\u001b[0m: \teta0: 0.012796809258826132\n",
      "\u001b[34m\u001b[1mwandb\u001b[0m: \tloss: log\n",
      "\u001b[34m\u001b[1mwandb\u001b[0m: \tmax_iter: 9124\n",
      "Failed to detect the name of this notebook, you can set it manually with the WANDB_NOTEBOOK_NAME environment variable to enable code saving.\n"
     ]
    },
    {
     "data": {
      "text/html": [
       "wandb version 0.16.1 is available!  To upgrade, please run:\n",
       " $ pip install wandb --upgrade"
      ],
      "text/plain": [
       "<IPython.core.display.HTML object>"
      ]
     },
     "metadata": {},
     "output_type": "display_data"
    },
    {
     "data": {
      "text/html": [
       "Tracking run with wandb version 0.15.11"
      ],
      "text/plain": [
       "<IPython.core.display.HTML object>"
      ]
     },
     "metadata": {},
     "output_type": "display_data"
    },
    {
     "data": {
      "text/html": [
       "Run data is saved locally in <code>/home/peng_sun2/workspace/llm-2023/wandb/run-20240104_201439-33xoq94a</code>"
      ],
      "text/plain": [
       "<IPython.core.display.HTML object>"
      ]
     },
     "metadata": {},
     "output_type": "display_data"
    },
    {
     "data": {
      "text/html": [
       "Syncing run <strong><a href='https://wandb.ai/peng_sun/llm-2023-SGD-hyperparameter/runs/33xoq94a' target=\"_blank\">vibrant-sweep-18</a></strong> to <a href='https://wandb.ai/peng_sun/llm-2023-SGD-hyperparameter' target=\"_blank\">Weights & Biases</a> (<a href='https://wandb.me/run' target=\"_blank\">docs</a>)<br/>Sweep page: <a href='https://wandb.ai/peng_sun/llm-2023-SGD-hyperparameter/sweeps/wyi8yb2f' target=\"_blank\">https://wandb.ai/peng_sun/llm-2023-SGD-hyperparameter/sweeps/wyi8yb2f</a>"
      ],
      "text/plain": [
       "<IPython.core.display.HTML object>"
      ]
     },
     "metadata": {},
     "output_type": "display_data"
    },
    {
     "data": {
      "text/html": [
       " View project at <a href='https://wandb.ai/peng_sun/llm-2023-SGD-hyperparameter' target=\"_blank\">https://wandb.ai/peng_sun/llm-2023-SGD-hyperparameter</a>"
      ],
      "text/plain": [
       "<IPython.core.display.HTML object>"
      ]
     },
     "metadata": {},
     "output_type": "display_data"
    },
    {
     "data": {
      "text/html": [
       " View sweep at <a href='https://wandb.ai/peng_sun/llm-2023-SGD-hyperparameter/sweeps/wyi8yb2f' target=\"_blank\">https://wandb.ai/peng_sun/llm-2023-SGD-hyperparameter/sweeps/wyi8yb2f</a>"
      ],
      "text/plain": [
       "<IPython.core.display.HTML object>"
      ]
     },
     "metadata": {},
     "output_type": "display_data"
    },
    {
     "data": {
      "text/html": [
       " View run at <a href='https://wandb.ai/peng_sun/llm-2023-SGD-hyperparameter/runs/33xoq94a' target=\"_blank\">https://wandb.ai/peng_sun/llm-2023-SGD-hyperparameter/runs/33xoq94a</a>"
      ],
      "text/plain": [
       "<IPython.core.display.HTML object>"
      ]
     },
     "metadata": {},
     "output_type": "display_data"
    },
    {
     "name": "stderr",
     "output_type": "stream",
     "text": [
      "/home/peng_sun2/.local/lib/python3.9/site-packages/sklearn/linear_model/_stochastic_gradient.py:163: FutureWarning: The loss 'log' was deprecated in v1.1 and will be removed in version 1.3. Use `loss='log_loss'` which is equivalent.\n",
      "  warnings.warn(\n",
      "/home/peng_sun2/.local/lib/python3.9/site-packages/sklearn/linear_model/_stochastic_gradient.py:163: FutureWarning: The loss 'log' was deprecated in v1.1 and will be removed in version 1.3. Use `loss='log_loss'` which is equivalent.\n",
      "  warnings.warn(\n",
      "/home/peng_sun2/.local/lib/python3.9/site-packages/sklearn/linear_model/_stochastic_gradient.py:163: FutureWarning: The loss 'log' was deprecated in v1.1 and will be removed in version 1.3. Use `loss='log_loss'` which is equivalent.\n",
      "  warnings.warn(\n",
      "/home/peng_sun2/.local/lib/python3.9/site-packages/sklearn/linear_model/_stochastic_gradient.py:163: FutureWarning: The loss 'log' was deprecated in v1.1 and will be removed in version 1.3. Use `loss='log_loss'` which is equivalent.\n",
      "  warnings.warn(\n",
      "/home/peng_sun2/.local/lib/python3.9/site-packages/sklearn/linear_model/_stochastic_gradient.py:163: FutureWarning: The loss 'log' was deprecated in v1.1 and will be removed in version 1.3. Use `loss='log_loss'` which is equivalent.\n",
      "  warnings.warn(\n"
     ]
    },
    {
     "data": {
      "text/html": [
       "Waiting for W&B process to finish... <strong style=\"color:green\">(success).</strong>"
      ],
      "text/plain": [
       "<IPython.core.display.HTML object>"
      ]
     },
     "metadata": {},
     "output_type": "display_data"
    },
    {
     "data": {
      "application/vnd.jupyter.widget-view+json": {
       "model_id": "c23ff6d3101d4666bfc7f853bbb60328",
       "version_major": 2,
       "version_minor": 0
      },
      "text/plain": [
       "VBox(children=(Label(value='0.002 MB of 0.003 MB uploaded (0.000 MB deduped)\\r'), FloatProgress(value=0.703204…"
      ]
     },
     "metadata": {},
     "output_type": "display_data"
    },
    {
     "data": {
      "text/html": [
       "<style>\n",
       "    table.wandb td:nth-child(1) { padding: 0 10px; text-align: left ; width: auto;} td:nth-child(2) {text-align: left ; width: 100%}\n",
       "    .wandb-row { display: flex; flex-direction: row; flex-wrap: wrap; justify-content: flex-start; width: 100% }\n",
       "    .wandb-col { display: flex; flex-direction: column; flex-basis: 100%; flex: 1; padding: 10px; }\n",
       "    </style>\n",
       "<div class=\"wandb-row\"><div class=\"wandb-col\"><h3>Run history:</h3><br/><table class=\"wandb\"><tr><td>validatoin_auc</td><td>███▁▇</td></tr></table><br/></div><div class=\"wandb-col\"><h3>Run summary:</h3><br/><table class=\"wandb\"><tr><td>validatoin_auc</td><td>0.98606</td></tr></table><br/></div></div>"
      ],
      "text/plain": [
       "<IPython.core.display.HTML object>"
      ]
     },
     "metadata": {},
     "output_type": "display_data"
    },
    {
     "data": {
      "text/html": [
       " View run <strong style=\"color:#cdcd00\">vibrant-sweep-18</strong> at: <a href='https://wandb.ai/peng_sun/llm-2023-SGD-hyperparameter/runs/33xoq94a' target=\"_blank\">https://wandb.ai/peng_sun/llm-2023-SGD-hyperparameter/runs/33xoq94a</a><br/>Synced 6 W&B file(s), 0 media file(s), 0 artifact file(s) and 0 other file(s)"
      ],
      "text/plain": [
       "<IPython.core.display.HTML object>"
      ]
     },
     "metadata": {},
     "output_type": "display_data"
    },
    {
     "data": {
      "text/html": [
       "Find logs at: <code>./wandb/run-20240104_201439-33xoq94a/logs</code>"
      ],
      "text/plain": [
       "<IPython.core.display.HTML object>"
      ]
     },
     "metadata": {},
     "output_type": "display_data"
    },
    {
     "name": "stderr",
     "output_type": "stream",
     "text": [
      "\u001b[34m\u001b[1mwandb\u001b[0m: Agent Starting Run: jyw1s6vm with config:\n",
      "\u001b[34m\u001b[1mwandb\u001b[0m: \talpha: 0.00011244894404427238\n",
      "\u001b[34m\u001b[1mwandb\u001b[0m: \teta0: 0.04092704310523637\n",
      "\u001b[34m\u001b[1mwandb\u001b[0m: \tloss: modified_huber\n",
      "\u001b[34m\u001b[1mwandb\u001b[0m: \tmax_iter: 6189\n",
      "Failed to detect the name of this notebook, you can set it manually with the WANDB_NOTEBOOK_NAME environment variable to enable code saving.\n"
     ]
    },
    {
     "data": {
      "text/html": [
       "wandb version 0.16.1 is available!  To upgrade, please run:\n",
       " $ pip install wandb --upgrade"
      ],
      "text/plain": [
       "<IPython.core.display.HTML object>"
      ]
     },
     "metadata": {},
     "output_type": "display_data"
    },
    {
     "data": {
      "text/html": [
       "Tracking run with wandb version 0.15.11"
      ],
      "text/plain": [
       "<IPython.core.display.HTML object>"
      ]
     },
     "metadata": {},
     "output_type": "display_data"
    },
    {
     "data": {
      "text/html": [
       "Run data is saved locally in <code>/home/peng_sun2/workspace/llm-2023/wandb/run-20240104_201504-jyw1s6vm</code>"
      ],
      "text/plain": [
       "<IPython.core.display.HTML object>"
      ]
     },
     "metadata": {},
     "output_type": "display_data"
    },
    {
     "data": {
      "text/html": [
       "Syncing run <strong><a href='https://wandb.ai/peng_sun/llm-2023-SGD-hyperparameter/runs/jyw1s6vm' target=\"_blank\">rich-sweep-19</a></strong> to <a href='https://wandb.ai/peng_sun/llm-2023-SGD-hyperparameter' target=\"_blank\">Weights & Biases</a> (<a href='https://wandb.me/run' target=\"_blank\">docs</a>)<br/>Sweep page: <a href='https://wandb.ai/peng_sun/llm-2023-SGD-hyperparameter/sweeps/wyi8yb2f' target=\"_blank\">https://wandb.ai/peng_sun/llm-2023-SGD-hyperparameter/sweeps/wyi8yb2f</a>"
      ],
      "text/plain": [
       "<IPython.core.display.HTML object>"
      ]
     },
     "metadata": {},
     "output_type": "display_data"
    },
    {
     "data": {
      "text/html": [
       " View project at <a href='https://wandb.ai/peng_sun/llm-2023-SGD-hyperparameter' target=\"_blank\">https://wandb.ai/peng_sun/llm-2023-SGD-hyperparameter</a>"
      ],
      "text/plain": [
       "<IPython.core.display.HTML object>"
      ]
     },
     "metadata": {},
     "output_type": "display_data"
    },
    {
     "data": {
      "text/html": [
       " View sweep at <a href='https://wandb.ai/peng_sun/llm-2023-SGD-hyperparameter/sweeps/wyi8yb2f' target=\"_blank\">https://wandb.ai/peng_sun/llm-2023-SGD-hyperparameter/sweeps/wyi8yb2f</a>"
      ],
      "text/plain": [
       "<IPython.core.display.HTML object>"
      ]
     },
     "metadata": {},
     "output_type": "display_data"
    },
    {
     "data": {
      "text/html": [
       " View run at <a href='https://wandb.ai/peng_sun/llm-2023-SGD-hyperparameter/runs/jyw1s6vm' target=\"_blank\">https://wandb.ai/peng_sun/llm-2023-SGD-hyperparameter/runs/jyw1s6vm</a>"
      ],
      "text/plain": [
       "<IPython.core.display.HTML object>"
      ]
     },
     "metadata": {},
     "output_type": "display_data"
    },
    {
     "data": {
      "text/html": [
       "Waiting for W&B process to finish... <strong style=\"color:green\">(success).</strong>"
      ],
      "text/plain": [
       "<IPython.core.display.HTML object>"
      ]
     },
     "metadata": {},
     "output_type": "display_data"
    },
    {
     "data": {
      "text/html": [
       "<style>\n",
       "    table.wandb td:nth-child(1) { padding: 0 10px; text-align: left ; width: auto;} td:nth-child(2) {text-align: left ; width: 100%}\n",
       "    .wandb-row { display: flex; flex-direction: row; flex-wrap: wrap; justify-content: flex-start; width: 100% }\n",
       "    .wandb-col { display: flex; flex-direction: column; flex-basis: 100%; flex: 1; padding: 10px; }\n",
       "    </style>\n",
       "<div class=\"wandb-row\"><div class=\"wandb-col\"><h3>Run history:</h3><br/><table class=\"wandb\"><tr><td>validatoin_auc</td><td>███▁█</td></tr></table><br/></div><div class=\"wandb-col\"><h3>Run summary:</h3><br/><table class=\"wandb\"><tr><td>validatoin_auc</td><td>0.99424</td></tr></table><br/></div></div>"
      ],
      "text/plain": [
       "<IPython.core.display.HTML object>"
      ]
     },
     "metadata": {},
     "output_type": "display_data"
    },
    {
     "data": {
      "text/html": [
       " View run <strong style=\"color:#cdcd00\">rich-sweep-19</strong> at: <a href='https://wandb.ai/peng_sun/llm-2023-SGD-hyperparameter/runs/jyw1s6vm' target=\"_blank\">https://wandb.ai/peng_sun/llm-2023-SGD-hyperparameter/runs/jyw1s6vm</a><br/>Synced 5 W&B file(s), 0 media file(s), 0 artifact file(s) and 0 other file(s)"
      ],
      "text/plain": [
       "<IPython.core.display.HTML object>"
      ]
     },
     "metadata": {},
     "output_type": "display_data"
    },
    {
     "data": {
      "text/html": [
       "Find logs at: <code>./wandb/run-20240104_201504-jyw1s6vm/logs</code>"
      ],
      "text/plain": [
       "<IPython.core.display.HTML object>"
      ]
     },
     "metadata": {},
     "output_type": "display_data"
    },
    {
     "name": "stderr",
     "output_type": "stream",
     "text": [
      "\u001b[34m\u001b[1mwandb\u001b[0m: Sweep Agent: Waiting for job.\n",
      "\u001b[34m\u001b[1mwandb\u001b[0m: Job received.\n",
      "\u001b[34m\u001b[1mwandb\u001b[0m: Agent Starting Run: 8ckvc1qo with config:\n",
      "\u001b[34m\u001b[1mwandb\u001b[0m: \talpha: 0.0012621244233641342\n",
      "\u001b[34m\u001b[1mwandb\u001b[0m: \teta0: 0.012608032230731104\n",
      "\u001b[34m\u001b[1mwandb\u001b[0m: \tloss: hinge\n",
      "\u001b[34m\u001b[1mwandb\u001b[0m: \tmax_iter: 1344\n",
      "Failed to detect the name of this notebook, you can set it manually with the WANDB_NOTEBOOK_NAME environment variable to enable code saving.\n"
     ]
    },
    {
     "data": {
      "text/html": [
       "wandb version 0.16.1 is available!  To upgrade, please run:\n",
       " $ pip install wandb --upgrade"
      ],
      "text/plain": [
       "<IPython.core.display.HTML object>"
      ]
     },
     "metadata": {},
     "output_type": "display_data"
    },
    {
     "data": {
      "text/html": [
       "Tracking run with wandb version 0.15.11"
      ],
      "text/plain": [
       "<IPython.core.display.HTML object>"
      ]
     },
     "metadata": {},
     "output_type": "display_data"
    },
    {
     "data": {
      "text/html": [
       "Run data is saved locally in <code>/home/peng_sun2/workspace/llm-2023/wandb/run-20240104_201535-8ckvc1qo</code>"
      ],
      "text/plain": [
       "<IPython.core.display.HTML object>"
      ]
     },
     "metadata": {},
     "output_type": "display_data"
    },
    {
     "data": {
      "text/html": [
       "Syncing run <strong><a href='https://wandb.ai/peng_sun/llm-2023-SGD-hyperparameter/runs/8ckvc1qo' target=\"_blank\">electric-sweep-20</a></strong> to <a href='https://wandb.ai/peng_sun/llm-2023-SGD-hyperparameter' target=\"_blank\">Weights & Biases</a> (<a href='https://wandb.me/run' target=\"_blank\">docs</a>)<br/>Sweep page: <a href='https://wandb.ai/peng_sun/llm-2023-SGD-hyperparameter/sweeps/wyi8yb2f' target=\"_blank\">https://wandb.ai/peng_sun/llm-2023-SGD-hyperparameter/sweeps/wyi8yb2f</a>"
      ],
      "text/plain": [
       "<IPython.core.display.HTML object>"
      ]
     },
     "metadata": {},
     "output_type": "display_data"
    },
    {
     "data": {
      "text/html": [
       " View project at <a href='https://wandb.ai/peng_sun/llm-2023-SGD-hyperparameter' target=\"_blank\">https://wandb.ai/peng_sun/llm-2023-SGD-hyperparameter</a>"
      ],
      "text/plain": [
       "<IPython.core.display.HTML object>"
      ]
     },
     "metadata": {},
     "output_type": "display_data"
    },
    {
     "data": {
      "text/html": [
       " View sweep at <a href='https://wandb.ai/peng_sun/llm-2023-SGD-hyperparameter/sweeps/wyi8yb2f' target=\"_blank\">https://wandb.ai/peng_sun/llm-2023-SGD-hyperparameter/sweeps/wyi8yb2f</a>"
      ],
      "text/plain": [
       "<IPython.core.display.HTML object>"
      ]
     },
     "metadata": {},
     "output_type": "display_data"
    },
    {
     "data": {
      "text/html": [
       " View run at <a href='https://wandb.ai/peng_sun/llm-2023-SGD-hyperparameter/runs/8ckvc1qo' target=\"_blank\">https://wandb.ai/peng_sun/llm-2023-SGD-hyperparameter/runs/8ckvc1qo</a>"
      ],
      "text/plain": [
       "<IPython.core.display.HTML object>"
      ]
     },
     "metadata": {},
     "output_type": "display_data"
    },
    {
     "name": "stderr",
     "output_type": "stream",
     "text": [
      "Traceback (most recent call last):\n",
      "  File \"/tmp/ipykernel_17738/3206656641.py\", line 24, in train_sweep\n",
      "    eval_preds = model.predict_proba(eval_X)[:, 1]\n",
      "  File \"/home/peng_sun2/.local/lib/python3.9/site-packages/sklearn/utils/_available_if.py\", line 32, in __get__\n",
      "    if not self.check(obj):\n",
      "  File \"/home/peng_sun2/.local/lib/python3.9/site-packages/sklearn/linear_model/_stochastic_gradient.py\", line 1235, in _check_proba\n",
      "    raise AttributeError(\n",
      "AttributeError: probability estimates are not available for loss='hinge'\n"
     ]
    },
    {
     "data": {
      "text/html": [
       "Waiting for W&B process to finish... <strong style=\"color:red\">(failed 1).</strong> Press Control-C to abort syncing."
      ],
      "text/plain": [
       "<IPython.core.display.HTML object>"
      ]
     },
     "metadata": {},
     "output_type": "display_data"
    },
    {
     "data": {
      "text/html": [
       " View run <strong style=\"color:#cdcd00\">electric-sweep-20</strong> at: <a href='https://wandb.ai/peng_sun/llm-2023-SGD-hyperparameter/runs/8ckvc1qo' target=\"_blank\">https://wandb.ai/peng_sun/llm-2023-SGD-hyperparameter/runs/8ckvc1qo</a><br/>Synced 6 W&B file(s), 0 media file(s), 0 artifact file(s) and 0 other file(s)"
      ],
      "text/plain": [
       "<IPython.core.display.HTML object>"
      ]
     },
     "metadata": {},
     "output_type": "display_data"
    },
    {
     "data": {
      "text/html": [
       "Find logs at: <code>./wandb/run-20240104_201535-8ckvc1qo/logs</code>"
      ],
      "text/plain": [
       "<IPython.core.display.HTML object>"
      ]
     },
     "metadata": {},
     "output_type": "display_data"
    },
    {
     "name": "stderr",
     "output_type": "stream",
     "text": [
      "Run 8ckvc1qo errored: AttributeError(\"probability estimates are not available for loss='hinge'\")\n",
      "\u001b[34m\u001b[1mwandb\u001b[0m: \u001b[32m\u001b[41mERROR\u001b[0m Run 8ckvc1qo errored: AttributeError(\"probability estimates are not available for loss='hinge'\")\n",
      "\u001b[34m\u001b[1mwandb\u001b[0m: Agent Starting Run: eiswg1mx with config:\n",
      "\u001b[34m\u001b[1mwandb\u001b[0m: \talpha: 0.0001746484818087876\n",
      "\u001b[34m\u001b[1mwandb\u001b[0m: \teta0: 0.017353117450198366\n",
      "\u001b[34m\u001b[1mwandb\u001b[0m: \tloss: modified_huber\n",
      "\u001b[34m\u001b[1mwandb\u001b[0m: \tmax_iter: 8788\n",
      "Failed to detect the name of this notebook, you can set it manually with the WANDB_NOTEBOOK_NAME environment variable to enable code saving.\n"
     ]
    },
    {
     "data": {
      "text/html": [
       "wandb version 0.16.1 is available!  To upgrade, please run:\n",
       " $ pip install wandb --upgrade"
      ],
      "text/plain": [
       "<IPython.core.display.HTML object>"
      ]
     },
     "metadata": {},
     "output_type": "display_data"
    },
    {
     "data": {
      "text/html": [
       "Tracking run with wandb version 0.15.11"
      ],
      "text/plain": [
       "<IPython.core.display.HTML object>"
      ]
     },
     "metadata": {},
     "output_type": "display_data"
    },
    {
     "data": {
      "text/html": [
       "Run data is saved locally in <code>/home/peng_sun2/workspace/llm-2023/wandb/run-20240104_201551-eiswg1mx</code>"
      ],
      "text/plain": [
       "<IPython.core.display.HTML object>"
      ]
     },
     "metadata": {},
     "output_type": "display_data"
    },
    {
     "data": {
      "text/html": [
       "Syncing run <strong><a href='https://wandb.ai/peng_sun/llm-2023-SGD-hyperparameter/runs/eiswg1mx' target=\"_blank\">lucky-sweep-21</a></strong> to <a href='https://wandb.ai/peng_sun/llm-2023-SGD-hyperparameter' target=\"_blank\">Weights & Biases</a> (<a href='https://wandb.me/run' target=\"_blank\">docs</a>)<br/>Sweep page: <a href='https://wandb.ai/peng_sun/llm-2023-SGD-hyperparameter/sweeps/wyi8yb2f' target=\"_blank\">https://wandb.ai/peng_sun/llm-2023-SGD-hyperparameter/sweeps/wyi8yb2f</a>"
      ],
      "text/plain": [
       "<IPython.core.display.HTML object>"
      ]
     },
     "metadata": {},
     "output_type": "display_data"
    },
    {
     "data": {
      "text/html": [
       " View project at <a href='https://wandb.ai/peng_sun/llm-2023-SGD-hyperparameter' target=\"_blank\">https://wandb.ai/peng_sun/llm-2023-SGD-hyperparameter</a>"
      ],
      "text/plain": [
       "<IPython.core.display.HTML object>"
      ]
     },
     "metadata": {},
     "output_type": "display_data"
    },
    {
     "data": {
      "text/html": [
       " View sweep at <a href='https://wandb.ai/peng_sun/llm-2023-SGD-hyperparameter/sweeps/wyi8yb2f' target=\"_blank\">https://wandb.ai/peng_sun/llm-2023-SGD-hyperparameter/sweeps/wyi8yb2f</a>"
      ],
      "text/plain": [
       "<IPython.core.display.HTML object>"
      ]
     },
     "metadata": {},
     "output_type": "display_data"
    },
    {
     "data": {
      "text/html": [
       " View run at <a href='https://wandb.ai/peng_sun/llm-2023-SGD-hyperparameter/runs/eiswg1mx' target=\"_blank\">https://wandb.ai/peng_sun/llm-2023-SGD-hyperparameter/runs/eiswg1mx</a>"
      ],
      "text/plain": [
       "<IPython.core.display.HTML object>"
      ]
     },
     "metadata": {},
     "output_type": "display_data"
    },
    {
     "data": {
      "text/html": [
       "Waiting for W&B process to finish... <strong style=\"color:green\">(success).</strong>"
      ],
      "text/plain": [
       "<IPython.core.display.HTML object>"
      ]
     },
     "metadata": {},
     "output_type": "display_data"
    },
    {
     "data": {
      "text/html": [
       "<style>\n",
       "    table.wandb td:nth-child(1) { padding: 0 10px; text-align: left ; width: auto;} td:nth-child(2) {text-align: left ; width: 100%}\n",
       "    .wandb-row { display: flex; flex-direction: row; flex-wrap: wrap; justify-content: flex-start; width: 100% }\n",
       "    .wandb-col { display: flex; flex-direction: column; flex-basis: 100%; flex: 1; padding: 10px; }\n",
       "    </style>\n",
       "<div class=\"wandb-row\"><div class=\"wandb-col\"><h3>Run history:</h3><br/><table class=\"wandb\"><tr><td>validatoin_auc</td><td>███▁█</td></tr></table><br/></div><div class=\"wandb-col\"><h3>Run summary:</h3><br/><table class=\"wandb\"><tr><td>validatoin_auc</td><td>0.99356</td></tr></table><br/></div></div>"
      ],
      "text/plain": [
       "<IPython.core.display.HTML object>"
      ]
     },
     "metadata": {},
     "output_type": "display_data"
    },
    {
     "data": {
      "text/html": [
       " View run <strong style=\"color:#cdcd00\">lucky-sweep-21</strong> at: <a href='https://wandb.ai/peng_sun/llm-2023-SGD-hyperparameter/runs/eiswg1mx' target=\"_blank\">https://wandb.ai/peng_sun/llm-2023-SGD-hyperparameter/runs/eiswg1mx</a><br/>Synced 5 W&B file(s), 0 media file(s), 0 artifact file(s) and 0 other file(s)"
      ],
      "text/plain": [
       "<IPython.core.display.HTML object>"
      ]
     },
     "metadata": {},
     "output_type": "display_data"
    },
    {
     "data": {
      "text/html": [
       "Find logs at: <code>./wandb/run-20240104_201551-eiswg1mx/logs</code>"
      ],
      "text/plain": [
       "<IPython.core.display.HTML object>"
      ]
     },
     "metadata": {},
     "output_type": "display_data"
    },
    {
     "name": "stderr",
     "output_type": "stream",
     "text": [
      "\u001b[34m\u001b[1mwandb\u001b[0m: Agent Starting Run: dr1d7rr6 with config:\n",
      "\u001b[34m\u001b[1mwandb\u001b[0m: \talpha: 0.00102332947613617\n",
      "\u001b[34m\u001b[1mwandb\u001b[0m: \teta0: 0.09885995325400684\n",
      "\u001b[34m\u001b[1mwandb\u001b[0m: \tloss: hinge\n",
      "\u001b[34m\u001b[1mwandb\u001b[0m: \tmax_iter: 9910\n",
      "Failed to detect the name of this notebook, you can set it manually with the WANDB_NOTEBOOK_NAME environment variable to enable code saving.\n"
     ]
    },
    {
     "data": {
      "text/html": [
       "wandb version 0.16.1 is available!  To upgrade, please run:\n",
       " $ pip install wandb --upgrade"
      ],
      "text/plain": [
       "<IPython.core.display.HTML object>"
      ]
     },
     "metadata": {},
     "output_type": "display_data"
    },
    {
     "data": {
      "text/html": [
       "Tracking run with wandb version 0.15.11"
      ],
      "text/plain": [
       "<IPython.core.display.HTML object>"
      ]
     },
     "metadata": {},
     "output_type": "display_data"
    },
    {
     "data": {
      "text/html": [
       "Run data is saved locally in <code>/home/peng_sun2/workspace/llm-2023/wandb/run-20240104_201617-dr1d7rr6</code>"
      ],
      "text/plain": [
       "<IPython.core.display.HTML object>"
      ]
     },
     "metadata": {},
     "output_type": "display_data"
    },
    {
     "data": {
      "text/html": [
       "Syncing run <strong><a href='https://wandb.ai/peng_sun/llm-2023-SGD-hyperparameter/runs/dr1d7rr6' target=\"_blank\">deft-sweep-22</a></strong> to <a href='https://wandb.ai/peng_sun/llm-2023-SGD-hyperparameter' target=\"_blank\">Weights & Biases</a> (<a href='https://wandb.me/run' target=\"_blank\">docs</a>)<br/>Sweep page: <a href='https://wandb.ai/peng_sun/llm-2023-SGD-hyperparameter/sweeps/wyi8yb2f' target=\"_blank\">https://wandb.ai/peng_sun/llm-2023-SGD-hyperparameter/sweeps/wyi8yb2f</a>"
      ],
      "text/plain": [
       "<IPython.core.display.HTML object>"
      ]
     },
     "metadata": {},
     "output_type": "display_data"
    },
    {
     "data": {
      "text/html": [
       " View project at <a href='https://wandb.ai/peng_sun/llm-2023-SGD-hyperparameter' target=\"_blank\">https://wandb.ai/peng_sun/llm-2023-SGD-hyperparameter</a>"
      ],
      "text/plain": [
       "<IPython.core.display.HTML object>"
      ]
     },
     "metadata": {},
     "output_type": "display_data"
    },
    {
     "data": {
      "text/html": [
       " View sweep at <a href='https://wandb.ai/peng_sun/llm-2023-SGD-hyperparameter/sweeps/wyi8yb2f' target=\"_blank\">https://wandb.ai/peng_sun/llm-2023-SGD-hyperparameter/sweeps/wyi8yb2f</a>"
      ],
      "text/plain": [
       "<IPython.core.display.HTML object>"
      ]
     },
     "metadata": {},
     "output_type": "display_data"
    },
    {
     "data": {
      "text/html": [
       " View run at <a href='https://wandb.ai/peng_sun/llm-2023-SGD-hyperparameter/runs/dr1d7rr6' target=\"_blank\">https://wandb.ai/peng_sun/llm-2023-SGD-hyperparameter/runs/dr1d7rr6</a>"
      ],
      "text/plain": [
       "<IPython.core.display.HTML object>"
      ]
     },
     "metadata": {},
     "output_type": "display_data"
    },
    {
     "name": "stderr",
     "output_type": "stream",
     "text": [
      "Traceback (most recent call last):\n",
      "  File \"/tmp/ipykernel_17738/3206656641.py\", line 24, in train_sweep\n",
      "    eval_preds = model.predict_proba(eval_X)[:, 1]\n",
      "  File \"/home/peng_sun2/.local/lib/python3.9/site-packages/sklearn/utils/_available_if.py\", line 32, in __get__\n",
      "    if not self.check(obj):\n",
      "  File \"/home/peng_sun2/.local/lib/python3.9/site-packages/sklearn/linear_model/_stochastic_gradient.py\", line 1235, in _check_proba\n",
      "    raise AttributeError(\n",
      "AttributeError: probability estimates are not available for loss='hinge'\n"
     ]
    },
    {
     "data": {
      "text/html": [
       "Waiting for W&B process to finish... <strong style=\"color:red\">(failed 1).</strong> Press Control-C to abort syncing."
      ],
      "text/plain": [
       "<IPython.core.display.HTML object>"
      ]
     },
     "metadata": {},
     "output_type": "display_data"
    },
    {
     "data": {
      "text/html": [
       " View run <strong style=\"color:#cdcd00\">deft-sweep-22</strong> at: <a href='https://wandb.ai/peng_sun/llm-2023-SGD-hyperparameter/runs/dr1d7rr6' target=\"_blank\">https://wandb.ai/peng_sun/llm-2023-SGD-hyperparameter/runs/dr1d7rr6</a><br/>Synced 6 W&B file(s), 0 media file(s), 0 artifact file(s) and 0 other file(s)"
      ],
      "text/plain": [
       "<IPython.core.display.HTML object>"
      ]
     },
     "metadata": {},
     "output_type": "display_data"
    },
    {
     "data": {
      "text/html": [
       "Find logs at: <code>./wandb/run-20240104_201617-dr1d7rr6/logs</code>"
      ],
      "text/plain": [
       "<IPython.core.display.HTML object>"
      ]
     },
     "metadata": {},
     "output_type": "display_data"
    },
    {
     "name": "stderr",
     "output_type": "stream",
     "text": [
      "Run dr1d7rr6 errored: AttributeError(\"probability estimates are not available for loss='hinge'\")\n",
      "\u001b[34m\u001b[1mwandb\u001b[0m: \u001b[32m\u001b[41mERROR\u001b[0m Run dr1d7rr6 errored: AttributeError(\"probability estimates are not available for loss='hinge'\")\n",
      "\u001b[34m\u001b[1mwandb\u001b[0m: Agent Starting Run: d7keosrj with config:\n",
      "\u001b[34m\u001b[1mwandb\u001b[0m: \talpha: 0.004083252782475093\n",
      "\u001b[34m\u001b[1mwandb\u001b[0m: \teta0: 0.06588246751262261\n",
      "\u001b[34m\u001b[1mwandb\u001b[0m: \tloss: modified_huber\n",
      "\u001b[34m\u001b[1mwandb\u001b[0m: \tmax_iter: 1118\n",
      "Failed to detect the name of this notebook, you can set it manually with the WANDB_NOTEBOOK_NAME environment variable to enable code saving.\n"
     ]
    },
    {
     "data": {
      "text/html": [
       "wandb version 0.16.1 is available!  To upgrade, please run:\n",
       " $ pip install wandb --upgrade"
      ],
      "text/plain": [
       "<IPython.core.display.HTML object>"
      ]
     },
     "metadata": {},
     "output_type": "display_data"
    },
    {
     "data": {
      "text/html": [
       "Tracking run with wandb version 0.15.11"
      ],
      "text/plain": [
       "<IPython.core.display.HTML object>"
      ]
     },
     "metadata": {},
     "output_type": "display_data"
    },
    {
     "data": {
      "text/html": [
       "Run data is saved locally in <code>/home/peng_sun2/workspace/llm-2023/wandb/run-20240104_201632-d7keosrj</code>"
      ],
      "text/plain": [
       "<IPython.core.display.HTML object>"
      ]
     },
     "metadata": {},
     "output_type": "display_data"
    },
    {
     "data": {
      "text/html": [
       "Syncing run <strong><a href='https://wandb.ai/peng_sun/llm-2023-SGD-hyperparameter/runs/d7keosrj' target=\"_blank\">eternal-sweep-23</a></strong> to <a href='https://wandb.ai/peng_sun/llm-2023-SGD-hyperparameter' target=\"_blank\">Weights & Biases</a> (<a href='https://wandb.me/run' target=\"_blank\">docs</a>)<br/>Sweep page: <a href='https://wandb.ai/peng_sun/llm-2023-SGD-hyperparameter/sweeps/wyi8yb2f' target=\"_blank\">https://wandb.ai/peng_sun/llm-2023-SGD-hyperparameter/sweeps/wyi8yb2f</a>"
      ],
      "text/plain": [
       "<IPython.core.display.HTML object>"
      ]
     },
     "metadata": {},
     "output_type": "display_data"
    },
    {
     "data": {
      "text/html": [
       " View project at <a href='https://wandb.ai/peng_sun/llm-2023-SGD-hyperparameter' target=\"_blank\">https://wandb.ai/peng_sun/llm-2023-SGD-hyperparameter</a>"
      ],
      "text/plain": [
       "<IPython.core.display.HTML object>"
      ]
     },
     "metadata": {},
     "output_type": "display_data"
    },
    {
     "data": {
      "text/html": [
       " View sweep at <a href='https://wandb.ai/peng_sun/llm-2023-SGD-hyperparameter/sweeps/wyi8yb2f' target=\"_blank\">https://wandb.ai/peng_sun/llm-2023-SGD-hyperparameter/sweeps/wyi8yb2f</a>"
      ],
      "text/plain": [
       "<IPython.core.display.HTML object>"
      ]
     },
     "metadata": {},
     "output_type": "display_data"
    },
    {
     "data": {
      "text/html": [
       " View run at <a href='https://wandb.ai/peng_sun/llm-2023-SGD-hyperparameter/runs/d7keosrj' target=\"_blank\">https://wandb.ai/peng_sun/llm-2023-SGD-hyperparameter/runs/d7keosrj</a>"
      ],
      "text/plain": [
       "<IPython.core.display.HTML object>"
      ]
     },
     "metadata": {},
     "output_type": "display_data"
    },
    {
     "data": {
      "text/html": [
       "Waiting for W&B process to finish... <strong style=\"color:green\">(success).</strong>"
      ],
      "text/plain": [
       "<IPython.core.display.HTML object>"
      ]
     },
     "metadata": {},
     "output_type": "display_data"
    },
    {
     "data": {
      "text/html": [
       "<style>\n",
       "    table.wandb td:nth-child(1) { padding: 0 10px; text-align: left ; width: auto;} td:nth-child(2) {text-align: left ; width: 100%}\n",
       "    .wandb-row { display: flex; flex-direction: row; flex-wrap: wrap; justify-content: flex-start; width: 100% }\n",
       "    .wandb-col { display: flex; flex-direction: column; flex-basis: 100%; flex: 1; padding: 10px; }\n",
       "    </style>\n",
       "<div class=\"wandb-row\"><div class=\"wandb-col\"><h3>Run history:</h3><br/><table class=\"wandb\"><tr><td>validatoin_auc</td><td>███▁▇</td></tr></table><br/></div><div class=\"wandb-col\"><h3>Run summary:</h3><br/><table class=\"wandb\"><tr><td>validatoin_auc</td><td>0.98118</td></tr></table><br/></div></div>"
      ],
      "text/plain": [
       "<IPython.core.display.HTML object>"
      ]
     },
     "metadata": {},
     "output_type": "display_data"
    },
    {
     "data": {
      "text/html": [
       " View run <strong style=\"color:#cdcd00\">eternal-sweep-23</strong> at: <a href='https://wandb.ai/peng_sun/llm-2023-SGD-hyperparameter/runs/d7keosrj' target=\"_blank\">https://wandb.ai/peng_sun/llm-2023-SGD-hyperparameter/runs/d7keosrj</a><br/>Synced 5 W&B file(s), 0 media file(s), 0 artifact file(s) and 0 other file(s)"
      ],
      "text/plain": [
       "<IPython.core.display.HTML object>"
      ]
     },
     "metadata": {},
     "output_type": "display_data"
    },
    {
     "data": {
      "text/html": [
       "Find logs at: <code>./wandb/run-20240104_201632-d7keosrj/logs</code>"
      ],
      "text/plain": [
       "<IPython.core.display.HTML object>"
      ]
     },
     "metadata": {},
     "output_type": "display_data"
    },
    {
     "name": "stderr",
     "output_type": "stream",
     "text": [
      "\u001b[34m\u001b[1mwandb\u001b[0m: Agent Starting Run: 0c58y0cn with config:\n",
      "\u001b[34m\u001b[1mwandb\u001b[0m: \talpha: 0.008120487293108429\n",
      "\u001b[34m\u001b[1mwandb\u001b[0m: \teta0: 0.09582044567384292\n",
      "\u001b[34m\u001b[1mwandb\u001b[0m: \tloss: modified_huber\n",
      "\u001b[34m\u001b[1mwandb\u001b[0m: \tmax_iter: 1761\n",
      "Failed to detect the name of this notebook, you can set it manually with the WANDB_NOTEBOOK_NAME environment variable to enable code saving.\n"
     ]
    },
    {
     "data": {
      "text/html": [
       "wandb version 0.16.1 is available!  To upgrade, please run:\n",
       " $ pip install wandb --upgrade"
      ],
      "text/plain": [
       "<IPython.core.display.HTML object>"
      ]
     },
     "metadata": {},
     "output_type": "display_data"
    },
    {
     "data": {
      "text/html": [
       "Tracking run with wandb version 0.15.11"
      ],
      "text/plain": [
       "<IPython.core.display.HTML object>"
      ]
     },
     "metadata": {},
     "output_type": "display_data"
    },
    {
     "data": {
      "text/html": [
       "Run data is saved locally in <code>/home/peng_sun2/workspace/llm-2023/wandb/run-20240104_201657-0c58y0cn</code>"
      ],
      "text/plain": [
       "<IPython.core.display.HTML object>"
      ]
     },
     "metadata": {},
     "output_type": "display_data"
    },
    {
     "data": {
      "text/html": [
       "Syncing run <strong><a href='https://wandb.ai/peng_sun/llm-2023-SGD-hyperparameter/runs/0c58y0cn' target=\"_blank\">eternal-sweep-24</a></strong> to <a href='https://wandb.ai/peng_sun/llm-2023-SGD-hyperparameter' target=\"_blank\">Weights & Biases</a> (<a href='https://wandb.me/run' target=\"_blank\">docs</a>)<br/>Sweep page: <a href='https://wandb.ai/peng_sun/llm-2023-SGD-hyperparameter/sweeps/wyi8yb2f' target=\"_blank\">https://wandb.ai/peng_sun/llm-2023-SGD-hyperparameter/sweeps/wyi8yb2f</a>"
      ],
      "text/plain": [
       "<IPython.core.display.HTML object>"
      ]
     },
     "metadata": {},
     "output_type": "display_data"
    },
    {
     "data": {
      "text/html": [
       " View project at <a href='https://wandb.ai/peng_sun/llm-2023-SGD-hyperparameter' target=\"_blank\">https://wandb.ai/peng_sun/llm-2023-SGD-hyperparameter</a>"
      ],
      "text/plain": [
       "<IPython.core.display.HTML object>"
      ]
     },
     "metadata": {},
     "output_type": "display_data"
    },
    {
     "data": {
      "text/html": [
       " View sweep at <a href='https://wandb.ai/peng_sun/llm-2023-SGD-hyperparameter/sweeps/wyi8yb2f' target=\"_blank\">https://wandb.ai/peng_sun/llm-2023-SGD-hyperparameter/sweeps/wyi8yb2f</a>"
      ],
      "text/plain": [
       "<IPython.core.display.HTML object>"
      ]
     },
     "metadata": {},
     "output_type": "display_data"
    },
    {
     "data": {
      "text/html": [
       " View run at <a href='https://wandb.ai/peng_sun/llm-2023-SGD-hyperparameter/runs/0c58y0cn' target=\"_blank\">https://wandb.ai/peng_sun/llm-2023-SGD-hyperparameter/runs/0c58y0cn</a>"
      ],
      "text/plain": [
       "<IPython.core.display.HTML object>"
      ]
     },
     "metadata": {},
     "output_type": "display_data"
    },
    {
     "data": {
      "text/html": [
       "Waiting for W&B process to finish... <strong style=\"color:green\">(success).</strong>"
      ],
      "text/plain": [
       "<IPython.core.display.HTML object>"
      ]
     },
     "metadata": {},
     "output_type": "display_data"
    },
    {
     "data": {
      "text/html": [
       "<style>\n",
       "    table.wandb td:nth-child(1) { padding: 0 10px; text-align: left ; width: auto;} td:nth-child(2) {text-align: left ; width: 100%}\n",
       "    .wandb-row { display: flex; flex-direction: row; flex-wrap: wrap; justify-content: flex-start; width: 100% }\n",
       "    .wandb-col { display: flex; flex-direction: column; flex-basis: 100%; flex: 1; padding: 10px; }\n",
       "    </style>\n",
       "<div class=\"wandb-row\"><div class=\"wandb-col\"><h3>Run history:</h3><br/><table class=\"wandb\"><tr><td>validatoin_auc</td><td>▇█▇▁▆</td></tr></table><br/></div><div class=\"wandb-col\"><h3>Run summary:</h3><br/><table class=\"wandb\"><tr><td>validatoin_auc</td><td>0.97469</td></tr></table><br/></div></div>"
      ],
      "text/plain": [
       "<IPython.core.display.HTML object>"
      ]
     },
     "metadata": {},
     "output_type": "display_data"
    },
    {
     "data": {
      "text/html": [
       " View run <strong style=\"color:#cdcd00\">eternal-sweep-24</strong> at: <a href='https://wandb.ai/peng_sun/llm-2023-SGD-hyperparameter/runs/0c58y0cn' target=\"_blank\">https://wandb.ai/peng_sun/llm-2023-SGD-hyperparameter/runs/0c58y0cn</a><br/>Synced 5 W&B file(s), 0 media file(s), 0 artifact file(s) and 0 other file(s)"
      ],
      "text/plain": [
       "<IPython.core.display.HTML object>"
      ]
     },
     "metadata": {},
     "output_type": "display_data"
    },
    {
     "data": {
      "text/html": [
       "Find logs at: <code>./wandb/run-20240104_201657-0c58y0cn/logs</code>"
      ],
      "text/plain": [
       "<IPython.core.display.HTML object>"
      ]
     },
     "metadata": {},
     "output_type": "display_data"
    },
    {
     "name": "stderr",
     "output_type": "stream",
     "text": [
      "\u001b[34m\u001b[1mwandb\u001b[0m: Agent Starting Run: 60ish1lu with config:\n",
      "\u001b[34m\u001b[1mwandb\u001b[0m: \talpha: 0.001001406431604921\n",
      "\u001b[34m\u001b[1mwandb\u001b[0m: \teta0: 0.07193342576554787\n",
      "\u001b[34m\u001b[1mwandb\u001b[0m: \tloss: modified_huber\n",
      "\u001b[34m\u001b[1mwandb\u001b[0m: \tmax_iter: 1727\n",
      "Failed to detect the name of this notebook, you can set it manually with the WANDB_NOTEBOOK_NAME environment variable to enable code saving.\n"
     ]
    },
    {
     "data": {
      "text/html": [
       "wandb version 0.16.1 is available!  To upgrade, please run:\n",
       " $ pip install wandb --upgrade"
      ],
      "text/plain": [
       "<IPython.core.display.HTML object>"
      ]
     },
     "metadata": {},
     "output_type": "display_data"
    },
    {
     "data": {
      "text/html": [
       "Tracking run with wandb version 0.15.11"
      ],
      "text/plain": [
       "<IPython.core.display.HTML object>"
      ]
     },
     "metadata": {},
     "output_type": "display_data"
    },
    {
     "data": {
      "text/html": [
       "Run data is saved locally in <code>/home/peng_sun2/workspace/llm-2023/wandb/run-20240104_201723-60ish1lu</code>"
      ],
      "text/plain": [
       "<IPython.core.display.HTML object>"
      ]
     },
     "metadata": {},
     "output_type": "display_data"
    },
    {
     "data": {
      "text/html": [
       "Syncing run <strong><a href='https://wandb.ai/peng_sun/llm-2023-SGD-hyperparameter/runs/60ish1lu' target=\"_blank\">deep-sweep-25</a></strong> to <a href='https://wandb.ai/peng_sun/llm-2023-SGD-hyperparameter' target=\"_blank\">Weights & Biases</a> (<a href='https://wandb.me/run' target=\"_blank\">docs</a>)<br/>Sweep page: <a href='https://wandb.ai/peng_sun/llm-2023-SGD-hyperparameter/sweeps/wyi8yb2f' target=\"_blank\">https://wandb.ai/peng_sun/llm-2023-SGD-hyperparameter/sweeps/wyi8yb2f</a>"
      ],
      "text/plain": [
       "<IPython.core.display.HTML object>"
      ]
     },
     "metadata": {},
     "output_type": "display_data"
    },
    {
     "data": {
      "text/html": [
       " View project at <a href='https://wandb.ai/peng_sun/llm-2023-SGD-hyperparameter' target=\"_blank\">https://wandb.ai/peng_sun/llm-2023-SGD-hyperparameter</a>"
      ],
      "text/plain": [
       "<IPython.core.display.HTML object>"
      ]
     },
     "metadata": {},
     "output_type": "display_data"
    },
    {
     "data": {
      "text/html": [
       " View sweep at <a href='https://wandb.ai/peng_sun/llm-2023-SGD-hyperparameter/sweeps/wyi8yb2f' target=\"_blank\">https://wandb.ai/peng_sun/llm-2023-SGD-hyperparameter/sweeps/wyi8yb2f</a>"
      ],
      "text/plain": [
       "<IPython.core.display.HTML object>"
      ]
     },
     "metadata": {},
     "output_type": "display_data"
    },
    {
     "data": {
      "text/html": [
       " View run at <a href='https://wandb.ai/peng_sun/llm-2023-SGD-hyperparameter/runs/60ish1lu' target=\"_blank\">https://wandb.ai/peng_sun/llm-2023-SGD-hyperparameter/runs/60ish1lu</a>"
      ],
      "text/plain": [
       "<IPython.core.display.HTML object>"
      ]
     },
     "metadata": {},
     "output_type": "display_data"
    },
    {
     "data": {
      "text/html": [
       "Waiting for W&B process to finish... <strong style=\"color:green\">(success).</strong>"
      ],
      "text/plain": [
       "<IPython.core.display.HTML object>"
      ]
     },
     "metadata": {},
     "output_type": "display_data"
    },
    {
     "data": {
      "text/html": [
       "<style>\n",
       "    table.wandb td:nth-child(1) { padding: 0 10px; text-align: left ; width: auto;} td:nth-child(2) {text-align: left ; width: 100%}\n",
       "    .wandb-row { display: flex; flex-direction: row; flex-wrap: wrap; justify-content: flex-start; width: 100% }\n",
       "    .wandb-col { display: flex; flex-direction: column; flex-basis: 100%; flex: 1; padding: 10px; }\n",
       "    </style>\n",
       "<div class=\"wandb-row\"><div class=\"wandb-col\"><h3>Run history:</h3><br/><table class=\"wandb\"><tr><td>validatoin_auc</td><td>███▁▇</td></tr></table><br/></div><div class=\"wandb-col\"><h3>Run summary:</h3><br/><table class=\"wandb\"><tr><td>validatoin_auc</td><td>0.98872</td></tr></table><br/></div></div>"
      ],
      "text/plain": [
       "<IPython.core.display.HTML object>"
      ]
     },
     "metadata": {},
     "output_type": "display_data"
    },
    {
     "data": {
      "text/html": [
       " View run <strong style=\"color:#cdcd00\">deep-sweep-25</strong> at: <a href='https://wandb.ai/peng_sun/llm-2023-SGD-hyperparameter/runs/60ish1lu' target=\"_blank\">https://wandb.ai/peng_sun/llm-2023-SGD-hyperparameter/runs/60ish1lu</a><br/>Synced 5 W&B file(s), 0 media file(s), 0 artifact file(s) and 0 other file(s)"
      ],
      "text/plain": [
       "<IPython.core.display.HTML object>"
      ]
     },
     "metadata": {},
     "output_type": "display_data"
    },
    {
     "data": {
      "text/html": [
       "Find logs at: <code>./wandb/run-20240104_201723-60ish1lu/logs</code>"
      ],
      "text/plain": [
       "<IPython.core.display.HTML object>"
      ]
     },
     "metadata": {},
     "output_type": "display_data"
    },
    {
     "name": "stderr",
     "output_type": "stream",
     "text": [
      "\u001b[34m\u001b[1mwandb\u001b[0m: Agent Starting Run: 9ofq60qc with config:\n",
      "\u001b[34m\u001b[1mwandb\u001b[0m: \talpha: 0.002294657875379111\n",
      "\u001b[34m\u001b[1mwandb\u001b[0m: \teta0: 0.020405922827225628\n",
      "\u001b[34m\u001b[1mwandb\u001b[0m: \tloss: modified_huber\n",
      "\u001b[34m\u001b[1mwandb\u001b[0m: \tmax_iter: 9810\n",
      "Failed to detect the name of this notebook, you can set it manually with the WANDB_NOTEBOOK_NAME environment variable to enable code saving.\n"
     ]
    },
    {
     "data": {
      "text/html": [
       "wandb version 0.16.1 is available!  To upgrade, please run:\n",
       " $ pip install wandb --upgrade"
      ],
      "text/plain": [
       "<IPython.core.display.HTML object>"
      ]
     },
     "metadata": {},
     "output_type": "display_data"
    },
    {
     "data": {
      "text/html": [
       "Tracking run with wandb version 0.15.11"
      ],
      "text/plain": [
       "<IPython.core.display.HTML object>"
      ]
     },
     "metadata": {},
     "output_type": "display_data"
    },
    {
     "data": {
      "text/html": [
       "Run data is saved locally in <code>/home/peng_sun2/workspace/llm-2023/wandb/run-20240104_201748-9ofq60qc</code>"
      ],
      "text/plain": [
       "<IPython.core.display.HTML object>"
      ]
     },
     "metadata": {},
     "output_type": "display_data"
    },
    {
     "data": {
      "text/html": [
       "Syncing run <strong><a href='https://wandb.ai/peng_sun/llm-2023-SGD-hyperparameter/runs/9ofq60qc' target=\"_blank\">faithful-sweep-26</a></strong> to <a href='https://wandb.ai/peng_sun/llm-2023-SGD-hyperparameter' target=\"_blank\">Weights & Biases</a> (<a href='https://wandb.me/run' target=\"_blank\">docs</a>)<br/>Sweep page: <a href='https://wandb.ai/peng_sun/llm-2023-SGD-hyperparameter/sweeps/wyi8yb2f' target=\"_blank\">https://wandb.ai/peng_sun/llm-2023-SGD-hyperparameter/sweeps/wyi8yb2f</a>"
      ],
      "text/plain": [
       "<IPython.core.display.HTML object>"
      ]
     },
     "metadata": {},
     "output_type": "display_data"
    },
    {
     "data": {
      "text/html": [
       " View project at <a href='https://wandb.ai/peng_sun/llm-2023-SGD-hyperparameter' target=\"_blank\">https://wandb.ai/peng_sun/llm-2023-SGD-hyperparameter</a>"
      ],
      "text/plain": [
       "<IPython.core.display.HTML object>"
      ]
     },
     "metadata": {},
     "output_type": "display_data"
    },
    {
     "data": {
      "text/html": [
       " View sweep at <a href='https://wandb.ai/peng_sun/llm-2023-SGD-hyperparameter/sweeps/wyi8yb2f' target=\"_blank\">https://wandb.ai/peng_sun/llm-2023-SGD-hyperparameter/sweeps/wyi8yb2f</a>"
      ],
      "text/plain": [
       "<IPython.core.display.HTML object>"
      ]
     },
     "metadata": {},
     "output_type": "display_data"
    },
    {
     "data": {
      "text/html": [
       " View run at <a href='https://wandb.ai/peng_sun/llm-2023-SGD-hyperparameter/runs/9ofq60qc' target=\"_blank\">https://wandb.ai/peng_sun/llm-2023-SGD-hyperparameter/runs/9ofq60qc</a>"
      ],
      "text/plain": [
       "<IPython.core.display.HTML object>"
      ]
     },
     "metadata": {},
     "output_type": "display_data"
    },
    {
     "data": {
      "text/html": [
       "Waiting for W&B process to finish... <strong style=\"color:green\">(success).</strong>"
      ],
      "text/plain": [
       "<IPython.core.display.HTML object>"
      ]
     },
     "metadata": {},
     "output_type": "display_data"
    },
    {
     "data": {
      "text/html": [
       "<style>\n",
       "    table.wandb td:nth-child(1) { padding: 0 10px; text-align: left ; width: auto;} td:nth-child(2) {text-align: left ; width: 100%}\n",
       "    .wandb-row { display: flex; flex-direction: row; flex-wrap: wrap; justify-content: flex-start; width: 100% }\n",
       "    .wandb-col { display: flex; flex-direction: column; flex-basis: 100%; flex: 1; padding: 10px; }\n",
       "    </style>\n",
       "<div class=\"wandb-row\"><div class=\"wandb-col\"><h3>Run history:</h3><br/><table class=\"wandb\"><tr><td>validatoin_auc</td><td>███▁▇</td></tr></table><br/></div><div class=\"wandb-col\"><h3>Run summary:</h3><br/><table class=\"wandb\"><tr><td>validatoin_auc</td><td>0.98493</td></tr></table><br/></div></div>"
      ],
      "text/plain": [
       "<IPython.core.display.HTML object>"
      ]
     },
     "metadata": {},
     "output_type": "display_data"
    },
    {
     "data": {
      "text/html": [
       " View run <strong style=\"color:#cdcd00\">faithful-sweep-26</strong> at: <a href='https://wandb.ai/peng_sun/llm-2023-SGD-hyperparameter/runs/9ofq60qc' target=\"_blank\">https://wandb.ai/peng_sun/llm-2023-SGD-hyperparameter/runs/9ofq60qc</a><br/>Synced 5 W&B file(s), 0 media file(s), 0 artifact file(s) and 0 other file(s)"
      ],
      "text/plain": [
       "<IPython.core.display.HTML object>"
      ]
     },
     "metadata": {},
     "output_type": "display_data"
    },
    {
     "data": {
      "text/html": [
       "Find logs at: <code>./wandb/run-20240104_201748-9ofq60qc/logs</code>"
      ],
      "text/plain": [
       "<IPython.core.display.HTML object>"
      ]
     },
     "metadata": {},
     "output_type": "display_data"
    },
    {
     "name": "stderr",
     "output_type": "stream",
     "text": [
      "\u001b[34m\u001b[1mwandb\u001b[0m: Agent Starting Run: hk7aj86e with config:\n",
      "\u001b[34m\u001b[1mwandb\u001b[0m: \talpha: 0.0010944010231030725\n",
      "\u001b[34m\u001b[1mwandb\u001b[0m: \teta0: 0.07740607652187798\n",
      "\u001b[34m\u001b[1mwandb\u001b[0m: \tloss: modified_huber\n",
      "\u001b[34m\u001b[1mwandb\u001b[0m: \tmax_iter: 7640\n",
      "Failed to detect the name of this notebook, you can set it manually with the WANDB_NOTEBOOK_NAME environment variable to enable code saving.\n"
     ]
    },
    {
     "data": {
      "text/html": [
       "wandb version 0.16.1 is available!  To upgrade, please run:\n",
       " $ pip install wandb --upgrade"
      ],
      "text/plain": [
       "<IPython.core.display.HTML object>"
      ]
     },
     "metadata": {},
     "output_type": "display_data"
    },
    {
     "data": {
      "text/html": [
       "Tracking run with wandb version 0.15.11"
      ],
      "text/plain": [
       "<IPython.core.display.HTML object>"
      ]
     },
     "metadata": {},
     "output_type": "display_data"
    },
    {
     "data": {
      "text/html": [
       "Run data is saved locally in <code>/home/peng_sun2/workspace/llm-2023/wandb/run-20240104_201814-hk7aj86e</code>"
      ],
      "text/plain": [
       "<IPython.core.display.HTML object>"
      ]
     },
     "metadata": {},
     "output_type": "display_data"
    },
    {
     "data": {
      "text/html": [
       "Syncing run <strong><a href='https://wandb.ai/peng_sun/llm-2023-SGD-hyperparameter/runs/hk7aj86e' target=\"_blank\">feasible-sweep-27</a></strong> to <a href='https://wandb.ai/peng_sun/llm-2023-SGD-hyperparameter' target=\"_blank\">Weights & Biases</a> (<a href='https://wandb.me/run' target=\"_blank\">docs</a>)<br/>Sweep page: <a href='https://wandb.ai/peng_sun/llm-2023-SGD-hyperparameter/sweeps/wyi8yb2f' target=\"_blank\">https://wandb.ai/peng_sun/llm-2023-SGD-hyperparameter/sweeps/wyi8yb2f</a>"
      ],
      "text/plain": [
       "<IPython.core.display.HTML object>"
      ]
     },
     "metadata": {},
     "output_type": "display_data"
    },
    {
     "data": {
      "text/html": [
       " View project at <a href='https://wandb.ai/peng_sun/llm-2023-SGD-hyperparameter' target=\"_blank\">https://wandb.ai/peng_sun/llm-2023-SGD-hyperparameter</a>"
      ],
      "text/plain": [
       "<IPython.core.display.HTML object>"
      ]
     },
     "metadata": {},
     "output_type": "display_data"
    },
    {
     "data": {
      "text/html": [
       " View sweep at <a href='https://wandb.ai/peng_sun/llm-2023-SGD-hyperparameter/sweeps/wyi8yb2f' target=\"_blank\">https://wandb.ai/peng_sun/llm-2023-SGD-hyperparameter/sweeps/wyi8yb2f</a>"
      ],
      "text/plain": [
       "<IPython.core.display.HTML object>"
      ]
     },
     "metadata": {},
     "output_type": "display_data"
    },
    {
     "data": {
      "text/html": [
       " View run at <a href='https://wandb.ai/peng_sun/llm-2023-SGD-hyperparameter/runs/hk7aj86e' target=\"_blank\">https://wandb.ai/peng_sun/llm-2023-SGD-hyperparameter/runs/hk7aj86e</a>"
      ],
      "text/plain": [
       "<IPython.core.display.HTML object>"
      ]
     },
     "metadata": {},
     "output_type": "display_data"
    },
    {
     "data": {
      "text/html": [
       "Waiting for W&B process to finish... <strong style=\"color:green\">(success).</strong>"
      ],
      "text/plain": [
       "<IPython.core.display.HTML object>"
      ]
     },
     "metadata": {},
     "output_type": "display_data"
    },
    {
     "data": {
      "text/html": [
       "<style>\n",
       "    table.wandb td:nth-child(1) { padding: 0 10px; text-align: left ; width: auto;} td:nth-child(2) {text-align: left ; width: 100%}\n",
       "    .wandb-row { display: flex; flex-direction: row; flex-wrap: wrap; justify-content: flex-start; width: 100% }\n",
       "    .wandb-col { display: flex; flex-direction: column; flex-basis: 100%; flex: 1; padding: 10px; }\n",
       "    </style>\n",
       "<div class=\"wandb-row\"><div class=\"wandb-col\"><h3>Run history:</h3><br/><table class=\"wandb\"><tr><td>validatoin_auc</td><td>███▁▇</td></tr></table><br/></div><div class=\"wandb-col\"><h3>Run summary:</h3><br/><table class=\"wandb\"><tr><td>validatoin_auc</td><td>0.98829</td></tr></table><br/></div></div>"
      ],
      "text/plain": [
       "<IPython.core.display.HTML object>"
      ]
     },
     "metadata": {},
     "output_type": "display_data"
    },
    {
     "data": {
      "text/html": [
       " View run <strong style=\"color:#cdcd00\">feasible-sweep-27</strong> at: <a href='https://wandb.ai/peng_sun/llm-2023-SGD-hyperparameter/runs/hk7aj86e' target=\"_blank\">https://wandb.ai/peng_sun/llm-2023-SGD-hyperparameter/runs/hk7aj86e</a><br/>Synced 5 W&B file(s), 0 media file(s), 0 artifact file(s) and 0 other file(s)"
      ],
      "text/plain": [
       "<IPython.core.display.HTML object>"
      ]
     },
     "metadata": {},
     "output_type": "display_data"
    },
    {
     "data": {
      "text/html": [
       "Find logs at: <code>./wandb/run-20240104_201814-hk7aj86e/logs</code>"
      ],
      "text/plain": [
       "<IPython.core.display.HTML object>"
      ]
     },
     "metadata": {},
     "output_type": "display_data"
    },
    {
     "name": "stderr",
     "output_type": "stream",
     "text": [
      "\u001b[34m\u001b[1mwandb\u001b[0m: Sweep Agent: Waiting for job.\n",
      "\u001b[34m\u001b[1mwandb\u001b[0m: Job received.\n",
      "\u001b[34m\u001b[1mwandb\u001b[0m: Agent Starting Run: iev2366q with config:\n",
      "\u001b[34m\u001b[1mwandb\u001b[0m: \talpha: 0.00011091279657757177\n",
      "\u001b[34m\u001b[1mwandb\u001b[0m: \teta0: 0.043039138448989475\n",
      "\u001b[34m\u001b[1mwandb\u001b[0m: \tloss: modified_huber\n",
      "\u001b[34m\u001b[1mwandb\u001b[0m: \tmax_iter: 6226\n",
      "Failed to detect the name of this notebook, you can set it manually with the WANDB_NOTEBOOK_NAME environment variable to enable code saving.\n"
     ]
    },
    {
     "data": {
      "text/html": [
       "wandb version 0.16.1 is available!  To upgrade, please run:\n",
       " $ pip install wandb --upgrade"
      ],
      "text/plain": [
       "<IPython.core.display.HTML object>"
      ]
     },
     "metadata": {},
     "output_type": "display_data"
    },
    {
     "data": {
      "text/html": [
       "Tracking run with wandb version 0.15.11"
      ],
      "text/plain": [
       "<IPython.core.display.HTML object>"
      ]
     },
     "metadata": {},
     "output_type": "display_data"
    },
    {
     "data": {
      "text/html": [
       "Run data is saved locally in <code>/home/peng_sun2/workspace/llm-2023/wandb/run-20240104_201845-iev2366q</code>"
      ],
      "text/plain": [
       "<IPython.core.display.HTML object>"
      ]
     },
     "metadata": {},
     "output_type": "display_data"
    },
    {
     "data": {
      "text/html": [
       "Syncing run <strong><a href='https://wandb.ai/peng_sun/llm-2023-SGD-hyperparameter/runs/iev2366q' target=\"_blank\">fresh-sweep-28</a></strong> to <a href='https://wandb.ai/peng_sun/llm-2023-SGD-hyperparameter' target=\"_blank\">Weights & Biases</a> (<a href='https://wandb.me/run' target=\"_blank\">docs</a>)<br/>Sweep page: <a href='https://wandb.ai/peng_sun/llm-2023-SGD-hyperparameter/sweeps/wyi8yb2f' target=\"_blank\">https://wandb.ai/peng_sun/llm-2023-SGD-hyperparameter/sweeps/wyi8yb2f</a>"
      ],
      "text/plain": [
       "<IPython.core.display.HTML object>"
      ]
     },
     "metadata": {},
     "output_type": "display_data"
    },
    {
     "data": {
      "text/html": [
       " View project at <a href='https://wandb.ai/peng_sun/llm-2023-SGD-hyperparameter' target=\"_blank\">https://wandb.ai/peng_sun/llm-2023-SGD-hyperparameter</a>"
      ],
      "text/plain": [
       "<IPython.core.display.HTML object>"
      ]
     },
     "metadata": {},
     "output_type": "display_data"
    },
    {
     "data": {
      "text/html": [
       " View sweep at <a href='https://wandb.ai/peng_sun/llm-2023-SGD-hyperparameter/sweeps/wyi8yb2f' target=\"_blank\">https://wandb.ai/peng_sun/llm-2023-SGD-hyperparameter/sweeps/wyi8yb2f</a>"
      ],
      "text/plain": [
       "<IPython.core.display.HTML object>"
      ]
     },
     "metadata": {},
     "output_type": "display_data"
    },
    {
     "data": {
      "text/html": [
       " View run at <a href='https://wandb.ai/peng_sun/llm-2023-SGD-hyperparameter/runs/iev2366q' target=\"_blank\">https://wandb.ai/peng_sun/llm-2023-SGD-hyperparameter/runs/iev2366q</a>"
      ],
      "text/plain": [
       "<IPython.core.display.HTML object>"
      ]
     },
     "metadata": {},
     "output_type": "display_data"
    },
    {
     "data": {
      "text/html": [
       "Waiting for W&B process to finish... <strong style=\"color:green\">(success).</strong>"
      ],
      "text/plain": [
       "<IPython.core.display.HTML object>"
      ]
     },
     "metadata": {},
     "output_type": "display_data"
    },
    {
     "data": {
      "text/html": [
       "<style>\n",
       "    table.wandb td:nth-child(1) { padding: 0 10px; text-align: left ; width: auto;} td:nth-child(2) {text-align: left ; width: 100%}\n",
       "    .wandb-row { display: flex; flex-direction: row; flex-wrap: wrap; justify-content: flex-start; width: 100% }\n",
       "    .wandb-col { display: flex; flex-direction: column; flex-basis: 100%; flex: 1; padding: 10px; }\n",
       "    </style>\n",
       "<div class=\"wandb-row\"><div class=\"wandb-col\"><h3>Run history:</h3><br/><table class=\"wandb\"><tr><td>validatoin_auc</td><td>███▁█</td></tr></table><br/></div><div class=\"wandb-col\"><h3>Run summary:</h3><br/><table class=\"wandb\"><tr><td>validatoin_auc</td><td>0.99415</td></tr></table><br/></div></div>"
      ],
      "text/plain": [
       "<IPython.core.display.HTML object>"
      ]
     },
     "metadata": {},
     "output_type": "display_data"
    },
    {
     "data": {
      "text/html": [
       " View run <strong style=\"color:#cdcd00\">fresh-sweep-28</strong> at: <a href='https://wandb.ai/peng_sun/llm-2023-SGD-hyperparameter/runs/iev2366q' target=\"_blank\">https://wandb.ai/peng_sun/llm-2023-SGD-hyperparameter/runs/iev2366q</a><br/>Synced 5 W&B file(s), 0 media file(s), 0 artifact file(s) and 0 other file(s)"
      ],
      "text/plain": [
       "<IPython.core.display.HTML object>"
      ]
     },
     "metadata": {},
     "output_type": "display_data"
    },
    {
     "data": {
      "text/html": [
       "Find logs at: <code>./wandb/run-20240104_201845-iev2366q/logs</code>"
      ],
      "text/plain": [
       "<IPython.core.display.HTML object>"
      ]
     },
     "metadata": {},
     "output_type": "display_data"
    },
    {
     "name": "stderr",
     "output_type": "stream",
     "text": [
      "\u001b[34m\u001b[1mwandb\u001b[0m: Agent Starting Run: yi3mc8cq with config:\n",
      "\u001b[34m\u001b[1mwandb\u001b[0m: \talpha: 0.00012202077239945688\n",
      "\u001b[34m\u001b[1mwandb\u001b[0m: \teta0: 0.016617168228264444\n",
      "\u001b[34m\u001b[1mwandb\u001b[0m: \tloss: modified_huber\n",
      "\u001b[34m\u001b[1mwandb\u001b[0m: \tmax_iter: 1063\n",
      "Failed to detect the name of this notebook, you can set it manually with the WANDB_NOTEBOOK_NAME environment variable to enable code saving.\n"
     ]
    },
    {
     "data": {
      "text/html": [
       "wandb version 0.16.1 is available!  To upgrade, please run:\n",
       " $ pip install wandb --upgrade"
      ],
      "text/plain": [
       "<IPython.core.display.HTML object>"
      ]
     },
     "metadata": {},
     "output_type": "display_data"
    },
    {
     "data": {
      "text/html": [
       "Tracking run with wandb version 0.15.11"
      ],
      "text/plain": [
       "<IPython.core.display.HTML object>"
      ]
     },
     "metadata": {},
     "output_type": "display_data"
    },
    {
     "data": {
      "text/html": [
       "Run data is saved locally in <code>/home/peng_sun2/workspace/llm-2023/wandb/run-20240104_201910-yi3mc8cq</code>"
      ],
      "text/plain": [
       "<IPython.core.display.HTML object>"
      ]
     },
     "metadata": {},
     "output_type": "display_data"
    },
    {
     "data": {
      "text/html": [
       "Syncing run <strong><a href='https://wandb.ai/peng_sun/llm-2023-SGD-hyperparameter/runs/yi3mc8cq' target=\"_blank\">honest-sweep-29</a></strong> to <a href='https://wandb.ai/peng_sun/llm-2023-SGD-hyperparameter' target=\"_blank\">Weights & Biases</a> (<a href='https://wandb.me/run' target=\"_blank\">docs</a>)<br/>Sweep page: <a href='https://wandb.ai/peng_sun/llm-2023-SGD-hyperparameter/sweeps/wyi8yb2f' target=\"_blank\">https://wandb.ai/peng_sun/llm-2023-SGD-hyperparameter/sweeps/wyi8yb2f</a>"
      ],
      "text/plain": [
       "<IPython.core.display.HTML object>"
      ]
     },
     "metadata": {},
     "output_type": "display_data"
    },
    {
     "data": {
      "text/html": [
       " View project at <a href='https://wandb.ai/peng_sun/llm-2023-SGD-hyperparameter' target=\"_blank\">https://wandb.ai/peng_sun/llm-2023-SGD-hyperparameter</a>"
      ],
      "text/plain": [
       "<IPython.core.display.HTML object>"
      ]
     },
     "metadata": {},
     "output_type": "display_data"
    },
    {
     "data": {
      "text/html": [
       " View sweep at <a href='https://wandb.ai/peng_sun/llm-2023-SGD-hyperparameter/sweeps/wyi8yb2f' target=\"_blank\">https://wandb.ai/peng_sun/llm-2023-SGD-hyperparameter/sweeps/wyi8yb2f</a>"
      ],
      "text/plain": [
       "<IPython.core.display.HTML object>"
      ]
     },
     "metadata": {},
     "output_type": "display_data"
    },
    {
     "data": {
      "text/html": [
       " View run at <a href='https://wandb.ai/peng_sun/llm-2023-SGD-hyperparameter/runs/yi3mc8cq' target=\"_blank\">https://wandb.ai/peng_sun/llm-2023-SGD-hyperparameter/runs/yi3mc8cq</a>"
      ],
      "text/plain": [
       "<IPython.core.display.HTML object>"
      ]
     },
     "metadata": {},
     "output_type": "display_data"
    },
    {
     "data": {
      "text/html": [
       "Waiting for W&B process to finish... <strong style=\"color:green\">(success).</strong>"
      ],
      "text/plain": [
       "<IPython.core.display.HTML object>"
      ]
     },
     "metadata": {},
     "output_type": "display_data"
    },
    {
     "data": {
      "text/html": [
       "<style>\n",
       "    table.wandb td:nth-child(1) { padding: 0 10px; text-align: left ; width: auto;} td:nth-child(2) {text-align: left ; width: 100%}\n",
       "    .wandb-row { display: flex; flex-direction: row; flex-wrap: wrap; justify-content: flex-start; width: 100% }\n",
       "    .wandb-col { display: flex; flex-direction: column; flex-basis: 100%; flex: 1; padding: 10px; }\n",
       "    </style>\n",
       "<div class=\"wandb-row\"><div class=\"wandb-col\"><h3>Run history:</h3><br/><table class=\"wandb\"><tr><td>validatoin_auc</td><td>███▁█</td></tr></table><br/></div><div class=\"wandb-col\"><h3>Run summary:</h3><br/><table class=\"wandb\"><tr><td>validatoin_auc</td><td>0.99408</td></tr></table><br/></div></div>"
      ],
      "text/plain": [
       "<IPython.core.display.HTML object>"
      ]
     },
     "metadata": {},
     "output_type": "display_data"
    },
    {
     "data": {
      "text/html": [
       " View run <strong style=\"color:#cdcd00\">honest-sweep-29</strong> at: <a href='https://wandb.ai/peng_sun/llm-2023-SGD-hyperparameter/runs/yi3mc8cq' target=\"_blank\">https://wandb.ai/peng_sun/llm-2023-SGD-hyperparameter/runs/yi3mc8cq</a><br/>Synced 5 W&B file(s), 0 media file(s), 0 artifact file(s) and 0 other file(s)"
      ],
      "text/plain": [
       "<IPython.core.display.HTML object>"
      ]
     },
     "metadata": {},
     "output_type": "display_data"
    },
    {
     "data": {
      "text/html": [
       "Find logs at: <code>./wandb/run-20240104_201910-yi3mc8cq/logs</code>"
      ],
      "text/plain": [
       "<IPython.core.display.HTML object>"
      ]
     },
     "metadata": {},
     "output_type": "display_data"
    },
    {
     "name": "stderr",
     "output_type": "stream",
     "text": [
      "\u001b[34m\u001b[1mwandb\u001b[0m: Agent Starting Run: m7ay8cj4 with config:\n",
      "\u001b[34m\u001b[1mwandb\u001b[0m: \talpha: 0.00011346330562296772\n",
      "\u001b[34m\u001b[1mwandb\u001b[0m: \teta0: 0.037145656150441166\n",
      "\u001b[34m\u001b[1mwandb\u001b[0m: \tloss: modified_huber\n",
      "\u001b[34m\u001b[1mwandb\u001b[0m: \tmax_iter: 8027\n",
      "Failed to detect the name of this notebook, you can set it manually with the WANDB_NOTEBOOK_NAME environment variable to enable code saving.\n"
     ]
    },
    {
     "data": {
      "text/html": [
       "wandb version 0.16.1 is available!  To upgrade, please run:\n",
       " $ pip install wandb --upgrade"
      ],
      "text/plain": [
       "<IPython.core.display.HTML object>"
      ]
     },
     "metadata": {},
     "output_type": "display_data"
    },
    {
     "data": {
      "text/html": [
       "Tracking run with wandb version 0.15.11"
      ],
      "text/plain": [
       "<IPython.core.display.HTML object>"
      ]
     },
     "metadata": {},
     "output_type": "display_data"
    },
    {
     "data": {
      "text/html": [
       "Run data is saved locally in <code>/home/peng_sun2/workspace/llm-2023/wandb/run-20240104_201935-m7ay8cj4</code>"
      ],
      "text/plain": [
       "<IPython.core.display.HTML object>"
      ]
     },
     "metadata": {},
     "output_type": "display_data"
    },
    {
     "data": {
      "text/html": [
       "Syncing run <strong><a href='https://wandb.ai/peng_sun/llm-2023-SGD-hyperparameter/runs/m7ay8cj4' target=\"_blank\">pleasant-sweep-30</a></strong> to <a href='https://wandb.ai/peng_sun/llm-2023-SGD-hyperparameter' target=\"_blank\">Weights & Biases</a> (<a href='https://wandb.me/run' target=\"_blank\">docs</a>)<br/>Sweep page: <a href='https://wandb.ai/peng_sun/llm-2023-SGD-hyperparameter/sweeps/wyi8yb2f' target=\"_blank\">https://wandb.ai/peng_sun/llm-2023-SGD-hyperparameter/sweeps/wyi8yb2f</a>"
      ],
      "text/plain": [
       "<IPython.core.display.HTML object>"
      ]
     },
     "metadata": {},
     "output_type": "display_data"
    },
    {
     "data": {
      "text/html": [
       " View project at <a href='https://wandb.ai/peng_sun/llm-2023-SGD-hyperparameter' target=\"_blank\">https://wandb.ai/peng_sun/llm-2023-SGD-hyperparameter</a>"
      ],
      "text/plain": [
       "<IPython.core.display.HTML object>"
      ]
     },
     "metadata": {},
     "output_type": "display_data"
    },
    {
     "data": {
      "text/html": [
       " View sweep at <a href='https://wandb.ai/peng_sun/llm-2023-SGD-hyperparameter/sweeps/wyi8yb2f' target=\"_blank\">https://wandb.ai/peng_sun/llm-2023-SGD-hyperparameter/sweeps/wyi8yb2f</a>"
      ],
      "text/plain": [
       "<IPython.core.display.HTML object>"
      ]
     },
     "metadata": {},
     "output_type": "display_data"
    },
    {
     "data": {
      "text/html": [
       " View run at <a href='https://wandb.ai/peng_sun/llm-2023-SGD-hyperparameter/runs/m7ay8cj4' target=\"_blank\">https://wandb.ai/peng_sun/llm-2023-SGD-hyperparameter/runs/m7ay8cj4</a>"
      ],
      "text/plain": [
       "<IPython.core.display.HTML object>"
      ]
     },
     "metadata": {},
     "output_type": "display_data"
    },
    {
     "data": {
      "text/html": [
       "Waiting for W&B process to finish... <strong style=\"color:green\">(success).</strong>"
      ],
      "text/plain": [
       "<IPython.core.display.HTML object>"
      ]
     },
     "metadata": {},
     "output_type": "display_data"
    },
    {
     "data": {
      "text/html": [
       "<style>\n",
       "    table.wandb td:nth-child(1) { padding: 0 10px; text-align: left ; width: auto;} td:nth-child(2) {text-align: left ; width: 100%}\n",
       "    .wandb-row { display: flex; flex-direction: row; flex-wrap: wrap; justify-content: flex-start; width: 100% }\n",
       "    .wandb-col { display: flex; flex-direction: column; flex-basis: 100%; flex: 1; padding: 10px; }\n",
       "    </style>\n",
       "<div class=\"wandb-row\"><div class=\"wandb-col\"><h3>Run history:</h3><br/><table class=\"wandb\"><tr><td>validatoin_auc</td><td>███▁█</td></tr></table><br/></div><div class=\"wandb-col\"><h3>Run summary:</h3><br/><table class=\"wandb\"><tr><td>validatoin_auc</td><td>0.99422</td></tr></table><br/></div></div>"
      ],
      "text/plain": [
       "<IPython.core.display.HTML object>"
      ]
     },
     "metadata": {},
     "output_type": "display_data"
    },
    {
     "data": {
      "text/html": [
       " View run <strong style=\"color:#cdcd00\">pleasant-sweep-30</strong> at: <a href='https://wandb.ai/peng_sun/llm-2023-SGD-hyperparameter/runs/m7ay8cj4' target=\"_blank\">https://wandb.ai/peng_sun/llm-2023-SGD-hyperparameter/runs/m7ay8cj4</a><br/>Synced 5 W&B file(s), 0 media file(s), 0 artifact file(s) and 0 other file(s)"
      ],
      "text/plain": [
       "<IPython.core.display.HTML object>"
      ]
     },
     "metadata": {},
     "output_type": "display_data"
    },
    {
     "data": {
      "text/html": [
       "Find logs at: <code>./wandb/run-20240104_201935-m7ay8cj4/logs</code>"
      ],
      "text/plain": [
       "<IPython.core.display.HTML object>"
      ]
     },
     "metadata": {},
     "output_type": "display_data"
    },
    {
     "name": "stderr",
     "output_type": "stream",
     "text": [
      "\u001b[34m\u001b[1mwandb\u001b[0m: Sweep Agent: Waiting for job.\n",
      "\u001b[34m\u001b[1mwandb\u001b[0m: Job received.\n",
      "\u001b[34m\u001b[1mwandb\u001b[0m: Agent Starting Run: 5dmzdnsv with config:\n",
      "\u001b[34m\u001b[1mwandb\u001b[0m: \talpha: 0.000116389593677264\n",
      "\u001b[34m\u001b[1mwandb\u001b[0m: \teta0: 0.08558008878066173\n",
      "\u001b[34m\u001b[1mwandb\u001b[0m: \tloss: modified_huber\n",
      "\u001b[34m\u001b[1mwandb\u001b[0m: \tmax_iter: 3169\n",
      "Failed to detect the name of this notebook, you can set it manually with the WANDB_NOTEBOOK_NAME environment variable to enable code saving.\n"
     ]
    },
    {
     "data": {
      "text/html": [
       "wandb version 0.16.1 is available!  To upgrade, please run:\n",
       " $ pip install wandb --upgrade"
      ],
      "text/plain": [
       "<IPython.core.display.HTML object>"
      ]
     },
     "metadata": {},
     "output_type": "display_data"
    },
    {
     "data": {
      "text/html": [
       "Tracking run with wandb version 0.15.11"
      ],
      "text/plain": [
       "<IPython.core.display.HTML object>"
      ]
     },
     "metadata": {},
     "output_type": "display_data"
    },
    {
     "data": {
      "text/html": [
       "Run data is saved locally in <code>/home/peng_sun2/workspace/llm-2023/wandb/run-20240104_202006-5dmzdnsv</code>"
      ],
      "text/plain": [
       "<IPython.core.display.HTML object>"
      ]
     },
     "metadata": {},
     "output_type": "display_data"
    },
    {
     "data": {
      "text/html": [
       "Syncing run <strong><a href='https://wandb.ai/peng_sun/llm-2023-SGD-hyperparameter/runs/5dmzdnsv' target=\"_blank\">curious-sweep-31</a></strong> to <a href='https://wandb.ai/peng_sun/llm-2023-SGD-hyperparameter' target=\"_blank\">Weights & Biases</a> (<a href='https://wandb.me/run' target=\"_blank\">docs</a>)<br/>Sweep page: <a href='https://wandb.ai/peng_sun/llm-2023-SGD-hyperparameter/sweeps/wyi8yb2f' target=\"_blank\">https://wandb.ai/peng_sun/llm-2023-SGD-hyperparameter/sweeps/wyi8yb2f</a>"
      ],
      "text/plain": [
       "<IPython.core.display.HTML object>"
      ]
     },
     "metadata": {},
     "output_type": "display_data"
    },
    {
     "data": {
      "text/html": [
       " View project at <a href='https://wandb.ai/peng_sun/llm-2023-SGD-hyperparameter' target=\"_blank\">https://wandb.ai/peng_sun/llm-2023-SGD-hyperparameter</a>"
      ],
      "text/plain": [
       "<IPython.core.display.HTML object>"
      ]
     },
     "metadata": {},
     "output_type": "display_data"
    },
    {
     "data": {
      "text/html": [
       " View sweep at <a href='https://wandb.ai/peng_sun/llm-2023-SGD-hyperparameter/sweeps/wyi8yb2f' target=\"_blank\">https://wandb.ai/peng_sun/llm-2023-SGD-hyperparameter/sweeps/wyi8yb2f</a>"
      ],
      "text/plain": [
       "<IPython.core.display.HTML object>"
      ]
     },
     "metadata": {},
     "output_type": "display_data"
    },
    {
     "data": {
      "text/html": [
       " View run at <a href='https://wandb.ai/peng_sun/llm-2023-SGD-hyperparameter/runs/5dmzdnsv' target=\"_blank\">https://wandb.ai/peng_sun/llm-2023-SGD-hyperparameter/runs/5dmzdnsv</a>"
      ],
      "text/plain": [
       "<IPython.core.display.HTML object>"
      ]
     },
     "metadata": {},
     "output_type": "display_data"
    },
    {
     "data": {
      "text/html": [
       "Waiting for W&B process to finish... <strong style=\"color:green\">(success).</strong>"
      ],
      "text/plain": [
       "<IPython.core.display.HTML object>"
      ]
     },
     "metadata": {},
     "output_type": "display_data"
    },
    {
     "data": {
      "text/html": [
       "<style>\n",
       "    table.wandb td:nth-child(1) { padding: 0 10px; text-align: left ; width: auto;} td:nth-child(2) {text-align: left ; width: 100%}\n",
       "    .wandb-row { display: flex; flex-direction: row; flex-wrap: wrap; justify-content: flex-start; width: 100% }\n",
       "    .wandb-col { display: flex; flex-direction: column; flex-basis: 100%; flex: 1; padding: 10px; }\n",
       "    </style>\n",
       "<div class=\"wandb-row\"><div class=\"wandb-col\"><h3>Run history:</h3><br/><table class=\"wandb\"><tr><td>validatoin_auc</td><td>███▁█</td></tr></table><br/></div><div class=\"wandb-col\"><h3>Run summary:</h3><br/><table class=\"wandb\"><tr><td>validatoin_auc</td><td>0.9941</td></tr></table><br/></div></div>"
      ],
      "text/plain": [
       "<IPython.core.display.HTML object>"
      ]
     },
     "metadata": {},
     "output_type": "display_data"
    },
    {
     "data": {
      "text/html": [
       " View run <strong style=\"color:#cdcd00\">curious-sweep-31</strong> at: <a href='https://wandb.ai/peng_sun/llm-2023-SGD-hyperparameter/runs/5dmzdnsv' target=\"_blank\">https://wandb.ai/peng_sun/llm-2023-SGD-hyperparameter/runs/5dmzdnsv</a><br/>Synced 5 W&B file(s), 0 media file(s), 0 artifact file(s) and 0 other file(s)"
      ],
      "text/plain": [
       "<IPython.core.display.HTML object>"
      ]
     },
     "metadata": {},
     "output_type": "display_data"
    },
    {
     "data": {
      "text/html": [
       "Find logs at: <code>./wandb/run-20240104_202006-5dmzdnsv/logs</code>"
      ],
      "text/plain": [
       "<IPython.core.display.HTML object>"
      ]
     },
     "metadata": {},
     "output_type": "display_data"
    },
    {
     "name": "stderr",
     "output_type": "stream",
     "text": [
      "\u001b[34m\u001b[1mwandb\u001b[0m: Agent Starting Run: 8l4ethz0 with config:\n",
      "\u001b[34m\u001b[1mwandb\u001b[0m: \talpha: 0.00020216783440848236\n",
      "\u001b[34m\u001b[1mwandb\u001b[0m: \teta0: 0.01338701533258502\n",
      "\u001b[34m\u001b[1mwandb\u001b[0m: \tloss: modified_huber\n",
      "\u001b[34m\u001b[1mwandb\u001b[0m: \tmax_iter: 9090\n",
      "Failed to detect the name of this notebook, you can set it manually with the WANDB_NOTEBOOK_NAME environment variable to enable code saving.\n"
     ]
    },
    {
     "data": {
      "text/html": [
       "wandb version 0.16.1 is available!  To upgrade, please run:\n",
       " $ pip install wandb --upgrade"
      ],
      "text/plain": [
       "<IPython.core.display.HTML object>"
      ]
     },
     "metadata": {},
     "output_type": "display_data"
    },
    {
     "data": {
      "text/html": [
       "Tracking run with wandb version 0.15.11"
      ],
      "text/plain": [
       "<IPython.core.display.HTML object>"
      ]
     },
     "metadata": {},
     "output_type": "display_data"
    },
    {
     "data": {
      "text/html": [
       "Run data is saved locally in <code>/home/peng_sun2/workspace/llm-2023/wandb/run-20240104_202032-8l4ethz0</code>"
      ],
      "text/plain": [
       "<IPython.core.display.HTML object>"
      ]
     },
     "metadata": {},
     "output_type": "display_data"
    },
    {
     "data": {
      "text/html": [
       "Syncing run <strong><a href='https://wandb.ai/peng_sun/llm-2023-SGD-hyperparameter/runs/8l4ethz0' target=\"_blank\">happy-sweep-32</a></strong> to <a href='https://wandb.ai/peng_sun/llm-2023-SGD-hyperparameter' target=\"_blank\">Weights & Biases</a> (<a href='https://wandb.me/run' target=\"_blank\">docs</a>)<br/>Sweep page: <a href='https://wandb.ai/peng_sun/llm-2023-SGD-hyperparameter/sweeps/wyi8yb2f' target=\"_blank\">https://wandb.ai/peng_sun/llm-2023-SGD-hyperparameter/sweeps/wyi8yb2f</a>"
      ],
      "text/plain": [
       "<IPython.core.display.HTML object>"
      ]
     },
     "metadata": {},
     "output_type": "display_data"
    },
    {
     "data": {
      "text/html": [
       " View project at <a href='https://wandb.ai/peng_sun/llm-2023-SGD-hyperparameter' target=\"_blank\">https://wandb.ai/peng_sun/llm-2023-SGD-hyperparameter</a>"
      ],
      "text/plain": [
       "<IPython.core.display.HTML object>"
      ]
     },
     "metadata": {},
     "output_type": "display_data"
    },
    {
     "data": {
      "text/html": [
       " View sweep at <a href='https://wandb.ai/peng_sun/llm-2023-SGD-hyperparameter/sweeps/wyi8yb2f' target=\"_blank\">https://wandb.ai/peng_sun/llm-2023-SGD-hyperparameter/sweeps/wyi8yb2f</a>"
      ],
      "text/plain": [
       "<IPython.core.display.HTML object>"
      ]
     },
     "metadata": {},
     "output_type": "display_data"
    },
    {
     "data": {
      "text/html": [
       " View run at <a href='https://wandb.ai/peng_sun/llm-2023-SGD-hyperparameter/runs/8l4ethz0' target=\"_blank\">https://wandb.ai/peng_sun/llm-2023-SGD-hyperparameter/runs/8l4ethz0</a>"
      ],
      "text/plain": [
       "<IPython.core.display.HTML object>"
      ]
     },
     "metadata": {},
     "output_type": "display_data"
    },
    {
     "data": {
      "text/html": [
       "Waiting for W&B process to finish... <strong style=\"color:green\">(success).</strong>"
      ],
      "text/plain": [
       "<IPython.core.display.HTML object>"
      ]
     },
     "metadata": {},
     "output_type": "display_data"
    },
    {
     "data": {
      "text/html": [
       "<style>\n",
       "    table.wandb td:nth-child(1) { padding: 0 10px; text-align: left ; width: auto;} td:nth-child(2) {text-align: left ; width: 100%}\n",
       "    .wandb-row { display: flex; flex-direction: row; flex-wrap: wrap; justify-content: flex-start; width: 100% }\n",
       "    .wandb-col { display: flex; flex-direction: column; flex-basis: 100%; flex: 1; padding: 10px; }\n",
       "    </style>\n",
       "<div class=\"wandb-row\"><div class=\"wandb-col\"><h3>Run history:</h3><br/><table class=\"wandb\"><tr><td>validatoin_auc</td><td>███▁█</td></tr></table><br/></div><div class=\"wandb-col\"><h3>Run summary:</h3><br/><table class=\"wandb\"><tr><td>validatoin_auc</td><td>0.99335</td></tr></table><br/></div></div>"
      ],
      "text/plain": [
       "<IPython.core.display.HTML object>"
      ]
     },
     "metadata": {},
     "output_type": "display_data"
    },
    {
     "data": {
      "text/html": [
       " View run <strong style=\"color:#cdcd00\">happy-sweep-32</strong> at: <a href='https://wandb.ai/peng_sun/llm-2023-SGD-hyperparameter/runs/8l4ethz0' target=\"_blank\">https://wandb.ai/peng_sun/llm-2023-SGD-hyperparameter/runs/8l4ethz0</a><br/>Synced 5 W&B file(s), 0 media file(s), 0 artifact file(s) and 0 other file(s)"
      ],
      "text/plain": [
       "<IPython.core.display.HTML object>"
      ]
     },
     "metadata": {},
     "output_type": "display_data"
    },
    {
     "data": {
      "text/html": [
       "Find logs at: <code>./wandb/run-20240104_202032-8l4ethz0/logs</code>"
      ],
      "text/plain": [
       "<IPython.core.display.HTML object>"
      ]
     },
     "metadata": {},
     "output_type": "display_data"
    },
    {
     "name": "stderr",
     "output_type": "stream",
     "text": [
      "\u001b[34m\u001b[1mwandb\u001b[0m: Sweep Agent: Waiting for job.\n",
      "\u001b[34m\u001b[1mwandb\u001b[0m: Job received.\n",
      "\u001b[34m\u001b[1mwandb\u001b[0m: Agent Starting Run: ziu7doe0 with config:\n",
      "\u001b[34m\u001b[1mwandb\u001b[0m: \talpha: 0.0001523471952430116\n",
      "\u001b[34m\u001b[1mwandb\u001b[0m: \teta0: 0.07857897063390872\n",
      "\u001b[34m\u001b[1mwandb\u001b[0m: \tloss: modified_huber\n",
      "\u001b[34m\u001b[1mwandb\u001b[0m: \tmax_iter: 4727\n",
      "Failed to detect the name of this notebook, you can set it manually with the WANDB_NOTEBOOK_NAME environment variable to enable code saving.\n"
     ]
    },
    {
     "data": {
      "text/html": [
       "wandb version 0.16.1 is available!  To upgrade, please run:\n",
       " $ pip install wandb --upgrade"
      ],
      "text/plain": [
       "<IPython.core.display.HTML object>"
      ]
     },
     "metadata": {},
     "output_type": "display_data"
    },
    {
     "data": {
      "text/html": [
       "Tracking run with wandb version 0.15.11"
      ],
      "text/plain": [
       "<IPython.core.display.HTML object>"
      ]
     },
     "metadata": {},
     "output_type": "display_data"
    },
    {
     "data": {
      "text/html": [
       "Run data is saved locally in <code>/home/peng_sun2/workspace/llm-2023/wandb/run-20240104_202103-ziu7doe0</code>"
      ],
      "text/plain": [
       "<IPython.core.display.HTML object>"
      ]
     },
     "metadata": {},
     "output_type": "display_data"
    },
    {
     "data": {
      "text/html": [
       "Syncing run <strong><a href='https://wandb.ai/peng_sun/llm-2023-SGD-hyperparameter/runs/ziu7doe0' target=\"_blank\">true-sweep-33</a></strong> to <a href='https://wandb.ai/peng_sun/llm-2023-SGD-hyperparameter' target=\"_blank\">Weights & Biases</a> (<a href='https://wandb.me/run' target=\"_blank\">docs</a>)<br/>Sweep page: <a href='https://wandb.ai/peng_sun/llm-2023-SGD-hyperparameter/sweeps/wyi8yb2f' target=\"_blank\">https://wandb.ai/peng_sun/llm-2023-SGD-hyperparameter/sweeps/wyi8yb2f</a>"
      ],
      "text/plain": [
       "<IPython.core.display.HTML object>"
      ]
     },
     "metadata": {},
     "output_type": "display_data"
    },
    {
     "data": {
      "text/html": [
       " View project at <a href='https://wandb.ai/peng_sun/llm-2023-SGD-hyperparameter' target=\"_blank\">https://wandb.ai/peng_sun/llm-2023-SGD-hyperparameter</a>"
      ],
      "text/plain": [
       "<IPython.core.display.HTML object>"
      ]
     },
     "metadata": {},
     "output_type": "display_data"
    },
    {
     "data": {
      "text/html": [
       " View sweep at <a href='https://wandb.ai/peng_sun/llm-2023-SGD-hyperparameter/sweeps/wyi8yb2f' target=\"_blank\">https://wandb.ai/peng_sun/llm-2023-SGD-hyperparameter/sweeps/wyi8yb2f</a>"
      ],
      "text/plain": [
       "<IPython.core.display.HTML object>"
      ]
     },
     "metadata": {},
     "output_type": "display_data"
    },
    {
     "data": {
      "text/html": [
       " View run at <a href='https://wandb.ai/peng_sun/llm-2023-SGD-hyperparameter/runs/ziu7doe0' target=\"_blank\">https://wandb.ai/peng_sun/llm-2023-SGD-hyperparameter/runs/ziu7doe0</a>"
      ],
      "text/plain": [
       "<IPython.core.display.HTML object>"
      ]
     },
     "metadata": {},
     "output_type": "display_data"
    },
    {
     "data": {
      "text/html": [
       "Waiting for W&B process to finish... <strong style=\"color:green\">(success).</strong>"
      ],
      "text/plain": [
       "<IPython.core.display.HTML object>"
      ]
     },
     "metadata": {},
     "output_type": "display_data"
    },
    {
     "data": {
      "text/html": [
       "<style>\n",
       "    table.wandb td:nth-child(1) { padding: 0 10px; text-align: left ; width: auto;} td:nth-child(2) {text-align: left ; width: 100%}\n",
       "    .wandb-row { display: flex; flex-direction: row; flex-wrap: wrap; justify-content: flex-start; width: 100% }\n",
       "    .wandb-col { display: flex; flex-direction: column; flex-basis: 100%; flex: 1; padding: 10px; }\n",
       "    </style>\n",
       "<div class=\"wandb-row\"><div class=\"wandb-col\"><h3>Run history:</h3><br/><table class=\"wandb\"><tr><td>validatoin_auc</td><td>███▁█</td></tr></table><br/></div><div class=\"wandb-col\"><h3>Run summary:</h3><br/><table class=\"wandb\"><tr><td>validatoin_auc</td><td>0.99348</td></tr></table><br/></div></div>"
      ],
      "text/plain": [
       "<IPython.core.display.HTML object>"
      ]
     },
     "metadata": {},
     "output_type": "display_data"
    },
    {
     "data": {
      "text/html": [
       " View run <strong style=\"color:#cdcd00\">true-sweep-33</strong> at: <a href='https://wandb.ai/peng_sun/llm-2023-SGD-hyperparameter/runs/ziu7doe0' target=\"_blank\">https://wandb.ai/peng_sun/llm-2023-SGD-hyperparameter/runs/ziu7doe0</a><br/>Synced 5 W&B file(s), 0 media file(s), 0 artifact file(s) and 0 other file(s)"
      ],
      "text/plain": [
       "<IPython.core.display.HTML object>"
      ]
     },
     "metadata": {},
     "output_type": "display_data"
    },
    {
     "data": {
      "text/html": [
       "Find logs at: <code>./wandb/run-20240104_202103-ziu7doe0/logs</code>"
      ],
      "text/plain": [
       "<IPython.core.display.HTML object>"
      ]
     },
     "metadata": {},
     "output_type": "display_data"
    },
    {
     "name": "stderr",
     "output_type": "stream",
     "text": [
      "\u001b[34m\u001b[1mwandb\u001b[0m: Agent Starting Run: 33kmw6ux with config:\n",
      "\u001b[34m\u001b[1mwandb\u001b[0m: \talpha: 0.00016154311466305647\n",
      "\u001b[34m\u001b[1mwandb\u001b[0m: \teta0: 0.09883104815104617\n",
      "\u001b[34m\u001b[1mwandb\u001b[0m: \tloss: modified_huber\n",
      "\u001b[34m\u001b[1mwandb\u001b[0m: \tmax_iter: 6913\n",
      "Failed to detect the name of this notebook, you can set it manually with the WANDB_NOTEBOOK_NAME environment variable to enable code saving.\n"
     ]
    },
    {
     "data": {
      "text/html": [
       "wandb version 0.16.1 is available!  To upgrade, please run:\n",
       " $ pip install wandb --upgrade"
      ],
      "text/plain": [
       "<IPython.core.display.HTML object>"
      ]
     },
     "metadata": {},
     "output_type": "display_data"
    },
    {
     "data": {
      "text/html": [
       "Tracking run with wandb version 0.15.11"
      ],
      "text/plain": [
       "<IPython.core.display.HTML object>"
      ]
     },
     "metadata": {},
     "output_type": "display_data"
    },
    {
     "data": {
      "text/html": [
       "Run data is saved locally in <code>/home/peng_sun2/workspace/llm-2023/wandb/run-20240104_202128-33kmw6ux</code>"
      ],
      "text/plain": [
       "<IPython.core.display.HTML object>"
      ]
     },
     "metadata": {},
     "output_type": "display_data"
    },
    {
     "data": {
      "text/html": [
       "Syncing run <strong><a href='https://wandb.ai/peng_sun/llm-2023-SGD-hyperparameter/runs/33kmw6ux' target=\"_blank\">clean-sweep-34</a></strong> to <a href='https://wandb.ai/peng_sun/llm-2023-SGD-hyperparameter' target=\"_blank\">Weights & Biases</a> (<a href='https://wandb.me/run' target=\"_blank\">docs</a>)<br/>Sweep page: <a href='https://wandb.ai/peng_sun/llm-2023-SGD-hyperparameter/sweeps/wyi8yb2f' target=\"_blank\">https://wandb.ai/peng_sun/llm-2023-SGD-hyperparameter/sweeps/wyi8yb2f</a>"
      ],
      "text/plain": [
       "<IPython.core.display.HTML object>"
      ]
     },
     "metadata": {},
     "output_type": "display_data"
    },
    {
     "data": {
      "text/html": [
       " View project at <a href='https://wandb.ai/peng_sun/llm-2023-SGD-hyperparameter' target=\"_blank\">https://wandb.ai/peng_sun/llm-2023-SGD-hyperparameter</a>"
      ],
      "text/plain": [
       "<IPython.core.display.HTML object>"
      ]
     },
     "metadata": {},
     "output_type": "display_data"
    },
    {
     "data": {
      "text/html": [
       " View sweep at <a href='https://wandb.ai/peng_sun/llm-2023-SGD-hyperparameter/sweeps/wyi8yb2f' target=\"_blank\">https://wandb.ai/peng_sun/llm-2023-SGD-hyperparameter/sweeps/wyi8yb2f</a>"
      ],
      "text/plain": [
       "<IPython.core.display.HTML object>"
      ]
     },
     "metadata": {},
     "output_type": "display_data"
    },
    {
     "data": {
      "text/html": [
       " View run at <a href='https://wandb.ai/peng_sun/llm-2023-SGD-hyperparameter/runs/33kmw6ux' target=\"_blank\">https://wandb.ai/peng_sun/llm-2023-SGD-hyperparameter/runs/33kmw6ux</a>"
      ],
      "text/plain": [
       "<IPython.core.display.HTML object>"
      ]
     },
     "metadata": {},
     "output_type": "display_data"
    },
    {
     "data": {
      "text/html": [
       "Waiting for W&B process to finish... <strong style=\"color:green\">(success).</strong>"
      ],
      "text/plain": [
       "<IPython.core.display.HTML object>"
      ]
     },
     "metadata": {},
     "output_type": "display_data"
    },
    {
     "data": {
      "text/html": [
       "<style>\n",
       "    table.wandb td:nth-child(1) { padding: 0 10px; text-align: left ; width: auto;} td:nth-child(2) {text-align: left ; width: 100%}\n",
       "    .wandb-row { display: flex; flex-direction: row; flex-wrap: wrap; justify-content: flex-start; width: 100% }\n",
       "    .wandb-col { display: flex; flex-direction: column; flex-basis: 100%; flex: 1; padding: 10px; }\n",
       "    </style>\n",
       "<div class=\"wandb-row\"><div class=\"wandb-col\"><h3>Run history:</h3><br/><table class=\"wandb\"><tr><td>validatoin_auc</td><td>███▁█</td></tr></table><br/></div><div class=\"wandb-col\"><h3>Run summary:</h3><br/><table class=\"wandb\"><tr><td>validatoin_auc</td><td>0.99374</td></tr></table><br/></div></div>"
      ],
      "text/plain": [
       "<IPython.core.display.HTML object>"
      ]
     },
     "metadata": {},
     "output_type": "display_data"
    },
    {
     "data": {
      "text/html": [
       " View run <strong style=\"color:#cdcd00\">clean-sweep-34</strong> at: <a href='https://wandb.ai/peng_sun/llm-2023-SGD-hyperparameter/runs/33kmw6ux' target=\"_blank\">https://wandb.ai/peng_sun/llm-2023-SGD-hyperparameter/runs/33kmw6ux</a><br/>Synced 5 W&B file(s), 0 media file(s), 0 artifact file(s) and 0 other file(s)"
      ],
      "text/plain": [
       "<IPython.core.display.HTML object>"
      ]
     },
     "metadata": {},
     "output_type": "display_data"
    },
    {
     "data": {
      "text/html": [
       "Find logs at: <code>./wandb/run-20240104_202128-33kmw6ux/logs</code>"
      ],
      "text/plain": [
       "<IPython.core.display.HTML object>"
      ]
     },
     "metadata": {},
     "output_type": "display_data"
    },
    {
     "name": "stderr",
     "output_type": "stream",
     "text": [
      "\u001b[34m\u001b[1mwandb\u001b[0m: Sweep Agent: Waiting for job.\n",
      "\u001b[34m\u001b[1mwandb\u001b[0m: Job received.\n",
      "\u001b[34m\u001b[1mwandb\u001b[0m: Agent Starting Run: 0knyyouk with config:\n",
      "\u001b[34m\u001b[1mwandb\u001b[0m: \talpha: 0.00013090299079988304\n",
      "\u001b[34m\u001b[1mwandb\u001b[0m: \teta0: 0.022981656675358345\n",
      "\u001b[34m\u001b[1mwandb\u001b[0m: \tloss: modified_huber\n",
      "\u001b[34m\u001b[1mwandb\u001b[0m: \tmax_iter: 2688\n",
      "Failed to detect the name of this notebook, you can set it manually with the WANDB_NOTEBOOK_NAME environment variable to enable code saving.\n"
     ]
    },
    {
     "data": {
      "text/html": [
       "wandb version 0.16.1 is available!  To upgrade, please run:\n",
       " $ pip install wandb --upgrade"
      ],
      "text/plain": [
       "<IPython.core.display.HTML object>"
      ]
     },
     "metadata": {},
     "output_type": "display_data"
    },
    {
     "data": {
      "text/html": [
       "Tracking run with wandb version 0.15.11"
      ],
      "text/plain": [
       "<IPython.core.display.HTML object>"
      ]
     },
     "metadata": {},
     "output_type": "display_data"
    },
    {
     "data": {
      "text/html": [
       "Run data is saved locally in <code>/home/peng_sun2/workspace/llm-2023/wandb/run-20240104_202159-0knyyouk</code>"
      ],
      "text/plain": [
       "<IPython.core.display.HTML object>"
      ]
     },
     "metadata": {},
     "output_type": "display_data"
    },
    {
     "data": {
      "text/html": [
       "Syncing run <strong><a href='https://wandb.ai/peng_sun/llm-2023-SGD-hyperparameter/runs/0knyyouk' target=\"_blank\">classic-sweep-35</a></strong> to <a href='https://wandb.ai/peng_sun/llm-2023-SGD-hyperparameter' target=\"_blank\">Weights & Biases</a> (<a href='https://wandb.me/run' target=\"_blank\">docs</a>)<br/>Sweep page: <a href='https://wandb.ai/peng_sun/llm-2023-SGD-hyperparameter/sweeps/wyi8yb2f' target=\"_blank\">https://wandb.ai/peng_sun/llm-2023-SGD-hyperparameter/sweeps/wyi8yb2f</a>"
      ],
      "text/plain": [
       "<IPython.core.display.HTML object>"
      ]
     },
     "metadata": {},
     "output_type": "display_data"
    },
    {
     "data": {
      "text/html": [
       " View project at <a href='https://wandb.ai/peng_sun/llm-2023-SGD-hyperparameter' target=\"_blank\">https://wandb.ai/peng_sun/llm-2023-SGD-hyperparameter</a>"
      ],
      "text/plain": [
       "<IPython.core.display.HTML object>"
      ]
     },
     "metadata": {},
     "output_type": "display_data"
    },
    {
     "data": {
      "text/html": [
       " View sweep at <a href='https://wandb.ai/peng_sun/llm-2023-SGD-hyperparameter/sweeps/wyi8yb2f' target=\"_blank\">https://wandb.ai/peng_sun/llm-2023-SGD-hyperparameter/sweeps/wyi8yb2f</a>"
      ],
      "text/plain": [
       "<IPython.core.display.HTML object>"
      ]
     },
     "metadata": {},
     "output_type": "display_data"
    },
    {
     "data": {
      "text/html": [
       " View run at <a href='https://wandb.ai/peng_sun/llm-2023-SGD-hyperparameter/runs/0knyyouk' target=\"_blank\">https://wandb.ai/peng_sun/llm-2023-SGD-hyperparameter/runs/0knyyouk</a>"
      ],
      "text/plain": [
       "<IPython.core.display.HTML object>"
      ]
     },
     "metadata": {},
     "output_type": "display_data"
    },
    {
     "data": {
      "text/html": [
       "Waiting for W&B process to finish... <strong style=\"color:green\">(success).</strong>"
      ],
      "text/plain": [
       "<IPython.core.display.HTML object>"
      ]
     },
     "metadata": {},
     "output_type": "display_data"
    },
    {
     "data": {
      "text/html": [
       "<style>\n",
       "    table.wandb td:nth-child(1) { padding: 0 10px; text-align: left ; width: auto;} td:nth-child(2) {text-align: left ; width: 100%}\n",
       "    .wandb-row { display: flex; flex-direction: row; flex-wrap: wrap; justify-content: flex-start; width: 100% }\n",
       "    .wandb-col { display: flex; flex-direction: column; flex-basis: 100%; flex: 1; padding: 10px; }\n",
       "    </style>\n",
       "<div class=\"wandb-row\"><div class=\"wandb-col\"><h3>Run history:</h3><br/><table class=\"wandb\"><tr><td>validatoin_auc</td><td>███▁█</td></tr></table><br/></div><div class=\"wandb-col\"><h3>Run summary:</h3><br/><table class=\"wandb\"><tr><td>validatoin_auc</td><td>0.99384</td></tr></table><br/></div></div>"
      ],
      "text/plain": [
       "<IPython.core.display.HTML object>"
      ]
     },
     "metadata": {},
     "output_type": "display_data"
    },
    {
     "data": {
      "text/html": [
       " View run <strong style=\"color:#cdcd00\">classic-sweep-35</strong> at: <a href='https://wandb.ai/peng_sun/llm-2023-SGD-hyperparameter/runs/0knyyouk' target=\"_blank\">https://wandb.ai/peng_sun/llm-2023-SGD-hyperparameter/runs/0knyyouk</a><br/>Synced 5 W&B file(s), 0 media file(s), 0 artifact file(s) and 0 other file(s)"
      ],
      "text/plain": [
       "<IPython.core.display.HTML object>"
      ]
     },
     "metadata": {},
     "output_type": "display_data"
    },
    {
     "data": {
      "text/html": [
       "Find logs at: <code>./wandb/run-20240104_202159-0knyyouk/logs</code>"
      ],
      "text/plain": [
       "<IPython.core.display.HTML object>"
      ]
     },
     "metadata": {},
     "output_type": "display_data"
    },
    {
     "name": "stderr",
     "output_type": "stream",
     "text": [
      "\u001b[34m\u001b[1mwandb\u001b[0m: Sweep Agent: Waiting for job.\n",
      "\u001b[34m\u001b[1mwandb\u001b[0m: Job received.\n",
      "\u001b[34m\u001b[1mwandb\u001b[0m: Agent Starting Run: bxs56fre with config:\n",
      "\u001b[34m\u001b[1mwandb\u001b[0m: \talpha: 0.009558960453583808\n",
      "\u001b[34m\u001b[1mwandb\u001b[0m: \teta0: 0.01706888670541127\n",
      "\u001b[34m\u001b[1mwandb\u001b[0m: \tloss: modified_huber\n",
      "\u001b[34m\u001b[1mwandb\u001b[0m: \tmax_iter: 1033\n",
      "Failed to detect the name of this notebook, you can set it manually with the WANDB_NOTEBOOK_NAME environment variable to enable code saving.\n"
     ]
    },
    {
     "data": {
      "text/html": [
       "wandb version 0.16.1 is available!  To upgrade, please run:\n",
       " $ pip install wandb --upgrade"
      ],
      "text/plain": [
       "<IPython.core.display.HTML object>"
      ]
     },
     "metadata": {},
     "output_type": "display_data"
    },
    {
     "data": {
      "text/html": [
       "Tracking run with wandb version 0.15.11"
      ],
      "text/plain": [
       "<IPython.core.display.HTML object>"
      ]
     },
     "metadata": {},
     "output_type": "display_data"
    },
    {
     "data": {
      "text/html": [
       "Run data is saved locally in <code>/home/peng_sun2/workspace/llm-2023/wandb/run-20240104_202231-bxs56fre</code>"
      ],
      "text/plain": [
       "<IPython.core.display.HTML object>"
      ]
     },
     "metadata": {},
     "output_type": "display_data"
    },
    {
     "data": {
      "text/html": [
       "Syncing run <strong><a href='https://wandb.ai/peng_sun/llm-2023-SGD-hyperparameter/runs/bxs56fre' target=\"_blank\">crisp-sweep-36</a></strong> to <a href='https://wandb.ai/peng_sun/llm-2023-SGD-hyperparameter' target=\"_blank\">Weights & Biases</a> (<a href='https://wandb.me/run' target=\"_blank\">docs</a>)<br/>Sweep page: <a href='https://wandb.ai/peng_sun/llm-2023-SGD-hyperparameter/sweeps/wyi8yb2f' target=\"_blank\">https://wandb.ai/peng_sun/llm-2023-SGD-hyperparameter/sweeps/wyi8yb2f</a>"
      ],
      "text/plain": [
       "<IPython.core.display.HTML object>"
      ]
     },
     "metadata": {},
     "output_type": "display_data"
    },
    {
     "data": {
      "text/html": [
       " View project at <a href='https://wandb.ai/peng_sun/llm-2023-SGD-hyperparameter' target=\"_blank\">https://wandb.ai/peng_sun/llm-2023-SGD-hyperparameter</a>"
      ],
      "text/plain": [
       "<IPython.core.display.HTML object>"
      ]
     },
     "metadata": {},
     "output_type": "display_data"
    },
    {
     "data": {
      "text/html": [
       " View sweep at <a href='https://wandb.ai/peng_sun/llm-2023-SGD-hyperparameter/sweeps/wyi8yb2f' target=\"_blank\">https://wandb.ai/peng_sun/llm-2023-SGD-hyperparameter/sweeps/wyi8yb2f</a>"
      ],
      "text/plain": [
       "<IPython.core.display.HTML object>"
      ]
     },
     "metadata": {},
     "output_type": "display_data"
    },
    {
     "data": {
      "text/html": [
       " View run at <a href='https://wandb.ai/peng_sun/llm-2023-SGD-hyperparameter/runs/bxs56fre' target=\"_blank\">https://wandb.ai/peng_sun/llm-2023-SGD-hyperparameter/runs/bxs56fre</a>"
      ],
      "text/plain": [
       "<IPython.core.display.HTML object>"
      ]
     },
     "metadata": {},
     "output_type": "display_data"
    },
    {
     "data": {
      "text/html": [
       "Waiting for W&B process to finish... <strong style=\"color:green\">(success).</strong>"
      ],
      "text/plain": [
       "<IPython.core.display.HTML object>"
      ]
     },
     "metadata": {},
     "output_type": "display_data"
    },
    {
     "data": {
      "text/html": [
       "<style>\n",
       "    table.wandb td:nth-child(1) { padding: 0 10px; text-align: left ; width: auto;} td:nth-child(2) {text-align: left ; width: 100%}\n",
       "    .wandb-row { display: flex; flex-direction: row; flex-wrap: wrap; justify-content: flex-start; width: 100% }\n",
       "    .wandb-col { display: flex; flex-direction: column; flex-basis: 100%; flex: 1; padding: 10px; }\n",
       "    </style>\n",
       "<div class=\"wandb-row\"><div class=\"wandb-col\"><h3>Run history:</h3><br/><table class=\"wandb\"><tr><td>validatoin_auc</td><td>▇█▇▁▆</td></tr></table><br/></div><div class=\"wandb-col\"><h3>Run summary:</h3><br/><table class=\"wandb\"><tr><td>validatoin_auc</td><td>0.97278</td></tr></table><br/></div></div>"
      ],
      "text/plain": [
       "<IPython.core.display.HTML object>"
      ]
     },
     "metadata": {},
     "output_type": "display_data"
    },
    {
     "data": {
      "text/html": [
       " View run <strong style=\"color:#cdcd00\">crisp-sweep-36</strong> at: <a href='https://wandb.ai/peng_sun/llm-2023-SGD-hyperparameter/runs/bxs56fre' target=\"_blank\">https://wandb.ai/peng_sun/llm-2023-SGD-hyperparameter/runs/bxs56fre</a><br/>Synced 5 W&B file(s), 0 media file(s), 0 artifact file(s) and 0 other file(s)"
      ],
      "text/plain": [
       "<IPython.core.display.HTML object>"
      ]
     },
     "metadata": {},
     "output_type": "display_data"
    },
    {
     "data": {
      "text/html": [
       "Find logs at: <code>./wandb/run-20240104_202231-bxs56fre/logs</code>"
      ],
      "text/plain": [
       "<IPython.core.display.HTML object>"
      ]
     },
     "metadata": {},
     "output_type": "display_data"
    },
    {
     "name": "stderr",
     "output_type": "stream",
     "text": [
      "\u001b[34m\u001b[1mwandb\u001b[0m: Agent Starting Run: fj48mczr with config:\n",
      "\u001b[34m\u001b[1mwandb\u001b[0m: \talpha: 0.00015868099284199665\n",
      "\u001b[34m\u001b[1mwandb\u001b[0m: \teta0: 0.027809089506119145\n",
      "\u001b[34m\u001b[1mwandb\u001b[0m: \tloss: modified_huber\n",
      "\u001b[34m\u001b[1mwandb\u001b[0m: \tmax_iter: 9330\n",
      "Failed to detect the name of this notebook, you can set it manually with the WANDB_NOTEBOOK_NAME environment variable to enable code saving.\n"
     ]
    },
    {
     "data": {
      "text/html": [
       "wandb version 0.16.1 is available!  To upgrade, please run:\n",
       " $ pip install wandb --upgrade"
      ],
      "text/plain": [
       "<IPython.core.display.HTML object>"
      ]
     },
     "metadata": {},
     "output_type": "display_data"
    },
    {
     "data": {
      "text/html": [
       "Tracking run with wandb version 0.15.11"
      ],
      "text/plain": [
       "<IPython.core.display.HTML object>"
      ]
     },
     "metadata": {},
     "output_type": "display_data"
    },
    {
     "data": {
      "text/html": [
       "Run data is saved locally in <code>/home/peng_sun2/workspace/llm-2023/wandb/run-20240104_202256-fj48mczr</code>"
      ],
      "text/plain": [
       "<IPython.core.display.HTML object>"
      ]
     },
     "metadata": {},
     "output_type": "display_data"
    },
    {
     "data": {
      "text/html": [
       "Syncing run <strong><a href='https://wandb.ai/peng_sun/llm-2023-SGD-hyperparameter/runs/fj48mczr' target=\"_blank\">trim-sweep-37</a></strong> to <a href='https://wandb.ai/peng_sun/llm-2023-SGD-hyperparameter' target=\"_blank\">Weights & Biases</a> (<a href='https://wandb.me/run' target=\"_blank\">docs</a>)<br/>Sweep page: <a href='https://wandb.ai/peng_sun/llm-2023-SGD-hyperparameter/sweeps/wyi8yb2f' target=\"_blank\">https://wandb.ai/peng_sun/llm-2023-SGD-hyperparameter/sweeps/wyi8yb2f</a>"
      ],
      "text/plain": [
       "<IPython.core.display.HTML object>"
      ]
     },
     "metadata": {},
     "output_type": "display_data"
    },
    {
     "data": {
      "text/html": [
       " View project at <a href='https://wandb.ai/peng_sun/llm-2023-SGD-hyperparameter' target=\"_blank\">https://wandb.ai/peng_sun/llm-2023-SGD-hyperparameter</a>"
      ],
      "text/plain": [
       "<IPython.core.display.HTML object>"
      ]
     },
     "metadata": {},
     "output_type": "display_data"
    },
    {
     "data": {
      "text/html": [
       " View sweep at <a href='https://wandb.ai/peng_sun/llm-2023-SGD-hyperparameter/sweeps/wyi8yb2f' target=\"_blank\">https://wandb.ai/peng_sun/llm-2023-SGD-hyperparameter/sweeps/wyi8yb2f</a>"
      ],
      "text/plain": [
       "<IPython.core.display.HTML object>"
      ]
     },
     "metadata": {},
     "output_type": "display_data"
    },
    {
     "data": {
      "text/html": [
       " View run at <a href='https://wandb.ai/peng_sun/llm-2023-SGD-hyperparameter/runs/fj48mczr' target=\"_blank\">https://wandb.ai/peng_sun/llm-2023-SGD-hyperparameter/runs/fj48mczr</a>"
      ],
      "text/plain": [
       "<IPython.core.display.HTML object>"
      ]
     },
     "metadata": {},
     "output_type": "display_data"
    },
    {
     "data": {
      "text/html": [
       "Waiting for W&B process to finish... <strong style=\"color:green\">(success).</strong>"
      ],
      "text/plain": [
       "<IPython.core.display.HTML object>"
      ]
     },
     "metadata": {},
     "output_type": "display_data"
    },
    {
     "data": {
      "text/html": [
       "<style>\n",
       "    table.wandb td:nth-child(1) { padding: 0 10px; text-align: left ; width: auto;} td:nth-child(2) {text-align: left ; width: 100%}\n",
       "    .wandb-row { display: flex; flex-direction: row; flex-wrap: wrap; justify-content: flex-start; width: 100% }\n",
       "    .wandb-col { display: flex; flex-direction: column; flex-basis: 100%; flex: 1; padding: 10px; }\n",
       "    </style>\n",
       "<div class=\"wandb-row\"><div class=\"wandb-col\"><h3>Run history:</h3><br/><table class=\"wandb\"><tr><td>validatoin_auc</td><td>███▁█</td></tr></table><br/></div><div class=\"wandb-col\"><h3>Run summary:</h3><br/><table class=\"wandb\"><tr><td>validatoin_auc</td><td>0.99329</td></tr></table><br/></div></div>"
      ],
      "text/plain": [
       "<IPython.core.display.HTML object>"
      ]
     },
     "metadata": {},
     "output_type": "display_data"
    },
    {
     "data": {
      "text/html": [
       " View run <strong style=\"color:#cdcd00\">trim-sweep-37</strong> at: <a href='https://wandb.ai/peng_sun/llm-2023-SGD-hyperparameter/runs/fj48mczr' target=\"_blank\">https://wandb.ai/peng_sun/llm-2023-SGD-hyperparameter/runs/fj48mczr</a><br/>Synced 5 W&B file(s), 0 media file(s), 0 artifact file(s) and 0 other file(s)"
      ],
      "text/plain": [
       "<IPython.core.display.HTML object>"
      ]
     },
     "metadata": {},
     "output_type": "display_data"
    },
    {
     "data": {
      "text/html": [
       "Find logs at: <code>./wandb/run-20240104_202256-fj48mczr/logs</code>"
      ],
      "text/plain": [
       "<IPython.core.display.HTML object>"
      ]
     },
     "metadata": {},
     "output_type": "display_data"
    },
    {
     "name": "stderr",
     "output_type": "stream",
     "text": [
      "\u001b[34m\u001b[1mwandb\u001b[0m: Sweep Agent: Waiting for job.\n",
      "\u001b[34m\u001b[1mwandb\u001b[0m: Job received.\n",
      "\u001b[34m\u001b[1mwandb\u001b[0m: Agent Starting Run: t6xuq1yf with config:\n",
      "\u001b[34m\u001b[1mwandb\u001b[0m: \talpha: 0.00042610246941224826\n",
      "\u001b[34m\u001b[1mwandb\u001b[0m: \teta0: 0.0965388824512444\n",
      "\u001b[34m\u001b[1mwandb\u001b[0m: \tloss: modified_huber\n",
      "\u001b[34m\u001b[1mwandb\u001b[0m: \tmax_iter: 5031\n",
      "Failed to detect the name of this notebook, you can set it manually with the WANDB_NOTEBOOK_NAME environment variable to enable code saving.\n"
     ]
    },
    {
     "data": {
      "text/html": [
       "wandb version 0.16.1 is available!  To upgrade, please run:\n",
       " $ pip install wandb --upgrade"
      ],
      "text/plain": [
       "<IPython.core.display.HTML object>"
      ]
     },
     "metadata": {},
     "output_type": "display_data"
    },
    {
     "data": {
      "text/html": [
       "Tracking run with wandb version 0.15.11"
      ],
      "text/plain": [
       "<IPython.core.display.HTML object>"
      ]
     },
     "metadata": {},
     "output_type": "display_data"
    },
    {
     "data": {
      "text/html": [
       "Run data is saved locally in <code>/home/peng_sun2/workspace/llm-2023/wandb/run-20240104_202327-t6xuq1yf</code>"
      ],
      "text/plain": [
       "<IPython.core.display.HTML object>"
      ]
     },
     "metadata": {},
     "output_type": "display_data"
    },
    {
     "data": {
      "text/html": [
       "Syncing run <strong><a href='https://wandb.ai/peng_sun/llm-2023-SGD-hyperparameter/runs/t6xuq1yf' target=\"_blank\">glad-sweep-38</a></strong> to <a href='https://wandb.ai/peng_sun/llm-2023-SGD-hyperparameter' target=\"_blank\">Weights & Biases</a> (<a href='https://wandb.me/run' target=\"_blank\">docs</a>)<br/>Sweep page: <a href='https://wandb.ai/peng_sun/llm-2023-SGD-hyperparameter/sweeps/wyi8yb2f' target=\"_blank\">https://wandb.ai/peng_sun/llm-2023-SGD-hyperparameter/sweeps/wyi8yb2f</a>"
      ],
      "text/plain": [
       "<IPython.core.display.HTML object>"
      ]
     },
     "metadata": {},
     "output_type": "display_data"
    },
    {
     "data": {
      "text/html": [
       " View project at <a href='https://wandb.ai/peng_sun/llm-2023-SGD-hyperparameter' target=\"_blank\">https://wandb.ai/peng_sun/llm-2023-SGD-hyperparameter</a>"
      ],
      "text/plain": [
       "<IPython.core.display.HTML object>"
      ]
     },
     "metadata": {},
     "output_type": "display_data"
    },
    {
     "data": {
      "text/html": [
       " View sweep at <a href='https://wandb.ai/peng_sun/llm-2023-SGD-hyperparameter/sweeps/wyi8yb2f' target=\"_blank\">https://wandb.ai/peng_sun/llm-2023-SGD-hyperparameter/sweeps/wyi8yb2f</a>"
      ],
      "text/plain": [
       "<IPython.core.display.HTML object>"
      ]
     },
     "metadata": {},
     "output_type": "display_data"
    },
    {
     "data": {
      "text/html": [
       " View run at <a href='https://wandb.ai/peng_sun/llm-2023-SGD-hyperparameter/runs/t6xuq1yf' target=\"_blank\">https://wandb.ai/peng_sun/llm-2023-SGD-hyperparameter/runs/t6xuq1yf</a>"
      ],
      "text/plain": [
       "<IPython.core.display.HTML object>"
      ]
     },
     "metadata": {},
     "output_type": "display_data"
    },
    {
     "data": {
      "text/html": [
       "Waiting for W&B process to finish... <strong style=\"color:green\">(success).</strong>"
      ],
      "text/plain": [
       "<IPython.core.display.HTML object>"
      ]
     },
     "metadata": {},
     "output_type": "display_data"
    },
    {
     "data": {
      "text/html": [
       "<style>\n",
       "    table.wandb td:nth-child(1) { padding: 0 10px; text-align: left ; width: auto;} td:nth-child(2) {text-align: left ; width: 100%}\n",
       "    .wandb-row { display: flex; flex-direction: row; flex-wrap: wrap; justify-content: flex-start; width: 100% }\n",
       "    .wandb-col { display: flex; flex-direction: column; flex-basis: 100%; flex: 1; padding: 10px; }\n",
       "    </style>\n",
       "<div class=\"wandb-row\"><div class=\"wandb-col\"><h3>Run history:</h3><br/><table class=\"wandb\"><tr><td>validatoin_auc</td><td>███▁█</td></tr></table><br/></div><div class=\"wandb-col\"><h3>Run summary:</h3><br/><table class=\"wandb\"><tr><td>validatoin_auc</td><td>0.99161</td></tr></table><br/></div></div>"
      ],
      "text/plain": [
       "<IPython.core.display.HTML object>"
      ]
     },
     "metadata": {},
     "output_type": "display_data"
    },
    {
     "data": {
      "text/html": [
       " View run <strong style=\"color:#cdcd00\">glad-sweep-38</strong> at: <a href='https://wandb.ai/peng_sun/llm-2023-SGD-hyperparameter/runs/t6xuq1yf' target=\"_blank\">https://wandb.ai/peng_sun/llm-2023-SGD-hyperparameter/runs/t6xuq1yf</a><br/>Synced 5 W&B file(s), 0 media file(s), 0 artifact file(s) and 0 other file(s)"
      ],
      "text/plain": [
       "<IPython.core.display.HTML object>"
      ]
     },
     "metadata": {},
     "output_type": "display_data"
    },
    {
     "data": {
      "text/html": [
       "Find logs at: <code>./wandb/run-20240104_202327-t6xuq1yf/logs</code>"
      ],
      "text/plain": [
       "<IPython.core.display.HTML object>"
      ]
     },
     "metadata": {},
     "output_type": "display_data"
    },
    {
     "name": "stderr",
     "output_type": "stream",
     "text": [
      "\u001b[34m\u001b[1mwandb\u001b[0m: Agent Starting Run: kzcvn5j6 with config:\n",
      "\u001b[34m\u001b[1mwandb\u001b[0m: \talpha: 0.00011745988327622652\n",
      "\u001b[34m\u001b[1mwandb\u001b[0m: \teta0: 0.03300602205812885\n",
      "\u001b[34m\u001b[1mwandb\u001b[0m: \tloss: modified_huber\n",
      "\u001b[34m\u001b[1mwandb\u001b[0m: \tmax_iter: 7826\n",
      "Failed to detect the name of this notebook, you can set it manually with the WANDB_NOTEBOOK_NAME environment variable to enable code saving.\n"
     ]
    },
    {
     "data": {
      "text/html": [
       "wandb version 0.16.1 is available!  To upgrade, please run:\n",
       " $ pip install wandb --upgrade"
      ],
      "text/plain": [
       "<IPython.core.display.HTML object>"
      ]
     },
     "metadata": {},
     "output_type": "display_data"
    },
    {
     "data": {
      "text/html": [
       "Tracking run with wandb version 0.15.11"
      ],
      "text/plain": [
       "<IPython.core.display.HTML object>"
      ]
     },
     "metadata": {},
     "output_type": "display_data"
    },
    {
     "data": {
      "text/html": [
       "Run data is saved locally in <code>/home/peng_sun2/workspace/llm-2023/wandb/run-20240104_202351-kzcvn5j6</code>"
      ],
      "text/plain": [
       "<IPython.core.display.HTML object>"
      ]
     },
     "metadata": {},
     "output_type": "display_data"
    },
    {
     "data": {
      "text/html": [
       "Syncing run <strong><a href='https://wandb.ai/peng_sun/llm-2023-SGD-hyperparameter/runs/kzcvn5j6' target=\"_blank\">feasible-sweep-39</a></strong> to <a href='https://wandb.ai/peng_sun/llm-2023-SGD-hyperparameter' target=\"_blank\">Weights & Biases</a> (<a href='https://wandb.me/run' target=\"_blank\">docs</a>)<br/>Sweep page: <a href='https://wandb.ai/peng_sun/llm-2023-SGD-hyperparameter/sweeps/wyi8yb2f' target=\"_blank\">https://wandb.ai/peng_sun/llm-2023-SGD-hyperparameter/sweeps/wyi8yb2f</a>"
      ],
      "text/plain": [
       "<IPython.core.display.HTML object>"
      ]
     },
     "metadata": {},
     "output_type": "display_data"
    },
    {
     "data": {
      "text/html": [
       " View project at <a href='https://wandb.ai/peng_sun/llm-2023-SGD-hyperparameter' target=\"_blank\">https://wandb.ai/peng_sun/llm-2023-SGD-hyperparameter</a>"
      ],
      "text/plain": [
       "<IPython.core.display.HTML object>"
      ]
     },
     "metadata": {},
     "output_type": "display_data"
    },
    {
     "data": {
      "text/html": [
       " View sweep at <a href='https://wandb.ai/peng_sun/llm-2023-SGD-hyperparameter/sweeps/wyi8yb2f' target=\"_blank\">https://wandb.ai/peng_sun/llm-2023-SGD-hyperparameter/sweeps/wyi8yb2f</a>"
      ],
      "text/plain": [
       "<IPython.core.display.HTML object>"
      ]
     },
     "metadata": {},
     "output_type": "display_data"
    },
    {
     "data": {
      "text/html": [
       " View run at <a href='https://wandb.ai/peng_sun/llm-2023-SGD-hyperparameter/runs/kzcvn5j6' target=\"_blank\">https://wandb.ai/peng_sun/llm-2023-SGD-hyperparameter/runs/kzcvn5j6</a>"
      ],
      "text/plain": [
       "<IPython.core.display.HTML object>"
      ]
     },
     "metadata": {},
     "output_type": "display_data"
    },
    {
     "data": {
      "text/html": [
       "Waiting for W&B process to finish... <strong style=\"color:green\">(success).</strong>"
      ],
      "text/plain": [
       "<IPython.core.display.HTML object>"
      ]
     },
     "metadata": {},
     "output_type": "display_data"
    },
    {
     "data": {
      "text/html": [
       "<style>\n",
       "    table.wandb td:nth-child(1) { padding: 0 10px; text-align: left ; width: auto;} td:nth-child(2) {text-align: left ; width: 100%}\n",
       "    .wandb-row { display: flex; flex-direction: row; flex-wrap: wrap; justify-content: flex-start; width: 100% }\n",
       "    .wandb-col { display: flex; flex-direction: column; flex-basis: 100%; flex: 1; padding: 10px; }\n",
       "    </style>\n",
       "<div class=\"wandb-row\"><div class=\"wandb-col\"><h3>Run history:</h3><br/><table class=\"wandb\"><tr><td>validatoin_auc</td><td>███▁█</td></tr></table><br/></div><div class=\"wandb-col\"><h3>Run summary:</h3><br/><table class=\"wandb\"><tr><td>validatoin_auc</td><td>0.99415</td></tr></table><br/></div></div>"
      ],
      "text/plain": [
       "<IPython.core.display.HTML object>"
      ]
     },
     "metadata": {},
     "output_type": "display_data"
    },
    {
     "data": {
      "text/html": [
       " View run <strong style=\"color:#cdcd00\">feasible-sweep-39</strong> at: <a href='https://wandb.ai/peng_sun/llm-2023-SGD-hyperparameter/runs/kzcvn5j6' target=\"_blank\">https://wandb.ai/peng_sun/llm-2023-SGD-hyperparameter/runs/kzcvn5j6</a><br/>Synced 5 W&B file(s), 0 media file(s), 0 artifact file(s) and 0 other file(s)"
      ],
      "text/plain": [
       "<IPython.core.display.HTML object>"
      ]
     },
     "metadata": {},
     "output_type": "display_data"
    },
    {
     "data": {
      "text/html": [
       "Find logs at: <code>./wandb/run-20240104_202351-kzcvn5j6/logs</code>"
      ],
      "text/plain": [
       "<IPython.core.display.HTML object>"
      ]
     },
     "metadata": {},
     "output_type": "display_data"
    },
    {
     "name": "stderr",
     "output_type": "stream",
     "text": [
      "\u001b[34m\u001b[1mwandb\u001b[0m: Sweep Agent: Waiting for job.\n",
      "\u001b[34m\u001b[1mwandb\u001b[0m: Job received.\n",
      "\u001b[34m\u001b[1mwandb\u001b[0m: Agent Starting Run: x9p990nw with config:\n",
      "\u001b[34m\u001b[1mwandb\u001b[0m: \talpha: 0.000637731369764898\n",
      "\u001b[34m\u001b[1mwandb\u001b[0m: \teta0: 0.010557947279781588\n",
      "\u001b[34m\u001b[1mwandb\u001b[0m: \tloss: modified_huber\n",
      "\u001b[34m\u001b[1mwandb\u001b[0m: \tmax_iter: 7724\n",
      "Failed to detect the name of this notebook, you can set it manually with the WANDB_NOTEBOOK_NAME environment variable to enable code saving.\n"
     ]
    },
    {
     "data": {
      "text/html": [
       "wandb version 0.16.1 is available!  To upgrade, please run:\n",
       " $ pip install wandb --upgrade"
      ],
      "text/plain": [
       "<IPython.core.display.HTML object>"
      ]
     },
     "metadata": {},
     "output_type": "display_data"
    },
    {
     "data": {
      "text/html": [
       "Tracking run with wandb version 0.15.11"
      ],
      "text/plain": [
       "<IPython.core.display.HTML object>"
      ]
     },
     "metadata": {},
     "output_type": "display_data"
    },
    {
     "data": {
      "text/html": [
       "Run data is saved locally in <code>/home/peng_sun2/workspace/llm-2023/wandb/run-20240104_202422-x9p990nw</code>"
      ],
      "text/plain": [
       "<IPython.core.display.HTML object>"
      ]
     },
     "metadata": {},
     "output_type": "display_data"
    },
    {
     "data": {
      "text/html": [
       "Syncing run <strong><a href='https://wandb.ai/peng_sun/llm-2023-SGD-hyperparameter/runs/x9p990nw' target=\"_blank\">trim-sweep-40</a></strong> to <a href='https://wandb.ai/peng_sun/llm-2023-SGD-hyperparameter' target=\"_blank\">Weights & Biases</a> (<a href='https://wandb.me/run' target=\"_blank\">docs</a>)<br/>Sweep page: <a href='https://wandb.ai/peng_sun/llm-2023-SGD-hyperparameter/sweeps/wyi8yb2f' target=\"_blank\">https://wandb.ai/peng_sun/llm-2023-SGD-hyperparameter/sweeps/wyi8yb2f</a>"
      ],
      "text/plain": [
       "<IPython.core.display.HTML object>"
      ]
     },
     "metadata": {},
     "output_type": "display_data"
    },
    {
     "data": {
      "text/html": [
       " View project at <a href='https://wandb.ai/peng_sun/llm-2023-SGD-hyperparameter' target=\"_blank\">https://wandb.ai/peng_sun/llm-2023-SGD-hyperparameter</a>"
      ],
      "text/plain": [
       "<IPython.core.display.HTML object>"
      ]
     },
     "metadata": {},
     "output_type": "display_data"
    },
    {
     "data": {
      "text/html": [
       " View sweep at <a href='https://wandb.ai/peng_sun/llm-2023-SGD-hyperparameter/sweeps/wyi8yb2f' target=\"_blank\">https://wandb.ai/peng_sun/llm-2023-SGD-hyperparameter/sweeps/wyi8yb2f</a>"
      ],
      "text/plain": [
       "<IPython.core.display.HTML object>"
      ]
     },
     "metadata": {},
     "output_type": "display_data"
    },
    {
     "data": {
      "text/html": [
       " View run at <a href='https://wandb.ai/peng_sun/llm-2023-SGD-hyperparameter/runs/x9p990nw' target=\"_blank\">https://wandb.ai/peng_sun/llm-2023-SGD-hyperparameter/runs/x9p990nw</a>"
      ],
      "text/plain": [
       "<IPython.core.display.HTML object>"
      ]
     },
     "metadata": {},
     "output_type": "display_data"
    },
    {
     "data": {
      "text/html": [
       "Waiting for W&B process to finish... <strong style=\"color:green\">(success).</strong>"
      ],
      "text/plain": [
       "<IPython.core.display.HTML object>"
      ]
     },
     "metadata": {},
     "output_type": "display_data"
    },
    {
     "data": {
      "text/html": [
       "<style>\n",
       "    table.wandb td:nth-child(1) { padding: 0 10px; text-align: left ; width: auto;} td:nth-child(2) {text-align: left ; width: 100%}\n",
       "    .wandb-row { display: flex; flex-direction: row; flex-wrap: wrap; justify-content: flex-start; width: 100% }\n",
       "    .wandb-col { display: flex; flex-direction: column; flex-basis: 100%; flex: 1; padding: 10px; }\n",
       "    </style>\n",
       "<div class=\"wandb-row\"><div class=\"wandb-col\"><h3>Run history:</h3><br/><table class=\"wandb\"><tr><td>validatoin_auc</td><td>███▁▇</td></tr></table><br/></div><div class=\"wandb-col\"><h3>Run summary:</h3><br/><table class=\"wandb\"><tr><td>validatoin_auc</td><td>0.99035</td></tr></table><br/></div></div>"
      ],
      "text/plain": [
       "<IPython.core.display.HTML object>"
      ]
     },
     "metadata": {},
     "output_type": "display_data"
    },
    {
     "data": {
      "text/html": [
       " View run <strong style=\"color:#cdcd00\">trim-sweep-40</strong> at: <a href='https://wandb.ai/peng_sun/llm-2023-SGD-hyperparameter/runs/x9p990nw' target=\"_blank\">https://wandb.ai/peng_sun/llm-2023-SGD-hyperparameter/runs/x9p990nw</a><br/>Synced 5 W&B file(s), 0 media file(s), 0 artifact file(s) and 0 other file(s)"
      ],
      "text/plain": [
       "<IPython.core.display.HTML object>"
      ]
     },
     "metadata": {},
     "output_type": "display_data"
    },
    {
     "data": {
      "text/html": [
       "Find logs at: <code>./wandb/run-20240104_202422-x9p990nw/logs</code>"
      ],
      "text/plain": [
       "<IPython.core.display.HTML object>"
      ]
     },
     "metadata": {},
     "output_type": "display_data"
    },
    {
     "name": "stderr",
     "output_type": "stream",
     "text": [
      "\u001b[34m\u001b[1mwandb\u001b[0m: Agent Starting Run: eus5a85v with config:\n",
      "\u001b[34m\u001b[1mwandb\u001b[0m: \talpha: 0.00025751562215275286\n",
      "\u001b[34m\u001b[1mwandb\u001b[0m: \teta0: 0.06786051085667992\n",
      "\u001b[34m\u001b[1mwandb\u001b[0m: \tloss: modified_huber\n",
      "\u001b[34m\u001b[1mwandb\u001b[0m: \tmax_iter: 4807\n",
      "Failed to detect the name of this notebook, you can set it manually with the WANDB_NOTEBOOK_NAME environment variable to enable code saving.\n"
     ]
    },
    {
     "data": {
      "text/html": [
       "wandb version 0.16.1 is available!  To upgrade, please run:\n",
       " $ pip install wandb --upgrade"
      ],
      "text/plain": [
       "<IPython.core.display.HTML object>"
      ]
     },
     "metadata": {},
     "output_type": "display_data"
    },
    {
     "data": {
      "text/html": [
       "Tracking run with wandb version 0.15.11"
      ],
      "text/plain": [
       "<IPython.core.display.HTML object>"
      ]
     },
     "metadata": {},
     "output_type": "display_data"
    },
    {
     "data": {
      "text/html": [
       "Run data is saved locally in <code>/home/peng_sun2/workspace/llm-2023/wandb/run-20240104_202447-eus5a85v</code>"
      ],
      "text/plain": [
       "<IPython.core.display.HTML object>"
      ]
     },
     "metadata": {},
     "output_type": "display_data"
    },
    {
     "data": {
      "text/html": [
       "Syncing run <strong><a href='https://wandb.ai/peng_sun/llm-2023-SGD-hyperparameter/runs/eus5a85v' target=\"_blank\">silver-sweep-41</a></strong> to <a href='https://wandb.ai/peng_sun/llm-2023-SGD-hyperparameter' target=\"_blank\">Weights & Biases</a> (<a href='https://wandb.me/run' target=\"_blank\">docs</a>)<br/>Sweep page: <a href='https://wandb.ai/peng_sun/llm-2023-SGD-hyperparameter/sweeps/wyi8yb2f' target=\"_blank\">https://wandb.ai/peng_sun/llm-2023-SGD-hyperparameter/sweeps/wyi8yb2f</a>"
      ],
      "text/plain": [
       "<IPython.core.display.HTML object>"
      ]
     },
     "metadata": {},
     "output_type": "display_data"
    },
    {
     "data": {
      "text/html": [
       " View project at <a href='https://wandb.ai/peng_sun/llm-2023-SGD-hyperparameter' target=\"_blank\">https://wandb.ai/peng_sun/llm-2023-SGD-hyperparameter</a>"
      ],
      "text/plain": [
       "<IPython.core.display.HTML object>"
      ]
     },
     "metadata": {},
     "output_type": "display_data"
    },
    {
     "data": {
      "text/html": [
       " View sweep at <a href='https://wandb.ai/peng_sun/llm-2023-SGD-hyperparameter/sweeps/wyi8yb2f' target=\"_blank\">https://wandb.ai/peng_sun/llm-2023-SGD-hyperparameter/sweeps/wyi8yb2f</a>"
      ],
      "text/plain": [
       "<IPython.core.display.HTML object>"
      ]
     },
     "metadata": {},
     "output_type": "display_data"
    },
    {
     "data": {
      "text/html": [
       " View run at <a href='https://wandb.ai/peng_sun/llm-2023-SGD-hyperparameter/runs/eus5a85v' target=\"_blank\">https://wandb.ai/peng_sun/llm-2023-SGD-hyperparameter/runs/eus5a85v</a>"
      ],
      "text/plain": [
       "<IPython.core.display.HTML object>"
      ]
     },
     "metadata": {},
     "output_type": "display_data"
    },
    {
     "data": {
      "text/html": [
       "Waiting for W&B process to finish... <strong style=\"color:green\">(success).</strong>"
      ],
      "text/plain": [
       "<IPython.core.display.HTML object>"
      ]
     },
     "metadata": {},
     "output_type": "display_data"
    },
    {
     "data": {
      "text/html": [
       "<style>\n",
       "    table.wandb td:nth-child(1) { padding: 0 10px; text-align: left ; width: auto;} td:nth-child(2) {text-align: left ; width: 100%}\n",
       "    .wandb-row { display: flex; flex-direction: row; flex-wrap: wrap; justify-content: flex-start; width: 100% }\n",
       "    .wandb-col { display: flex; flex-direction: column; flex-basis: 100%; flex: 1; padding: 10px; }\n",
       "    </style>\n",
       "<div class=\"wandb-row\"><div class=\"wandb-col\"><h3>Run history:</h3><br/><table class=\"wandb\"><tr><td>validatoin_auc</td><td>███▁█</td></tr></table><br/></div><div class=\"wandb-col\"><h3>Run summary:</h3><br/><table class=\"wandb\"><tr><td>validatoin_auc</td><td>0.99276</td></tr></table><br/></div></div>"
      ],
      "text/plain": [
       "<IPython.core.display.HTML object>"
      ]
     },
     "metadata": {},
     "output_type": "display_data"
    },
    {
     "data": {
      "text/html": [
       " View run <strong style=\"color:#cdcd00\">silver-sweep-41</strong> at: <a href='https://wandb.ai/peng_sun/llm-2023-SGD-hyperparameter/runs/eus5a85v' target=\"_blank\">https://wandb.ai/peng_sun/llm-2023-SGD-hyperparameter/runs/eus5a85v</a><br/>Synced 5 W&B file(s), 0 media file(s), 0 artifact file(s) and 0 other file(s)"
      ],
      "text/plain": [
       "<IPython.core.display.HTML object>"
      ]
     },
     "metadata": {},
     "output_type": "display_data"
    },
    {
     "data": {
      "text/html": [
       "Find logs at: <code>./wandb/run-20240104_202447-eus5a85v/logs</code>"
      ],
      "text/plain": [
       "<IPython.core.display.HTML object>"
      ]
     },
     "metadata": {},
     "output_type": "display_data"
    },
    {
     "name": "stderr",
     "output_type": "stream",
     "text": [
      "\u001b[34m\u001b[1mwandb\u001b[0m: Sweep Agent: Waiting for job.\n",
      "\u001b[34m\u001b[1mwandb\u001b[0m: Job received.\n",
      "\u001b[34m\u001b[1mwandb\u001b[0m: Agent Starting Run: juuml700 with config:\n",
      "\u001b[34m\u001b[1mwandb\u001b[0m: \talpha: 0.0001255759076451804\n",
      "\u001b[34m\u001b[1mwandb\u001b[0m: \teta0: 0.012222222894221669\n",
      "\u001b[34m\u001b[1mwandb\u001b[0m: \tloss: modified_huber\n",
      "\u001b[34m\u001b[1mwandb\u001b[0m: \tmax_iter: 8361\n",
      "Failed to detect the name of this notebook, you can set it manually with the WANDB_NOTEBOOK_NAME environment variable to enable code saving.\n"
     ]
    },
    {
     "data": {
      "text/html": [
       "wandb version 0.16.1 is available!  To upgrade, please run:\n",
       " $ pip install wandb --upgrade"
      ],
      "text/plain": [
       "<IPython.core.display.HTML object>"
      ]
     },
     "metadata": {},
     "output_type": "display_data"
    },
    {
     "data": {
      "text/html": [
       "Tracking run with wandb version 0.15.11"
      ],
      "text/plain": [
       "<IPython.core.display.HTML object>"
      ]
     },
     "metadata": {},
     "output_type": "display_data"
    },
    {
     "data": {
      "text/html": [
       "Run data is saved locally in <code>/home/peng_sun2/workspace/llm-2023/wandb/run-20240104_202519-juuml700</code>"
      ],
      "text/plain": [
       "<IPython.core.display.HTML object>"
      ]
     },
     "metadata": {},
     "output_type": "display_data"
    },
    {
     "data": {
      "text/html": [
       "Syncing run <strong><a href='https://wandb.ai/peng_sun/llm-2023-SGD-hyperparameter/runs/juuml700' target=\"_blank\">trim-sweep-42</a></strong> to <a href='https://wandb.ai/peng_sun/llm-2023-SGD-hyperparameter' target=\"_blank\">Weights & Biases</a> (<a href='https://wandb.me/run' target=\"_blank\">docs</a>)<br/>Sweep page: <a href='https://wandb.ai/peng_sun/llm-2023-SGD-hyperparameter/sweeps/wyi8yb2f' target=\"_blank\">https://wandb.ai/peng_sun/llm-2023-SGD-hyperparameter/sweeps/wyi8yb2f</a>"
      ],
      "text/plain": [
       "<IPython.core.display.HTML object>"
      ]
     },
     "metadata": {},
     "output_type": "display_data"
    },
    {
     "data": {
      "text/html": [
       " View project at <a href='https://wandb.ai/peng_sun/llm-2023-SGD-hyperparameter' target=\"_blank\">https://wandb.ai/peng_sun/llm-2023-SGD-hyperparameter</a>"
      ],
      "text/plain": [
       "<IPython.core.display.HTML object>"
      ]
     },
     "metadata": {},
     "output_type": "display_data"
    },
    {
     "data": {
      "text/html": [
       " View sweep at <a href='https://wandb.ai/peng_sun/llm-2023-SGD-hyperparameter/sweeps/wyi8yb2f' target=\"_blank\">https://wandb.ai/peng_sun/llm-2023-SGD-hyperparameter/sweeps/wyi8yb2f</a>"
      ],
      "text/plain": [
       "<IPython.core.display.HTML object>"
      ]
     },
     "metadata": {},
     "output_type": "display_data"
    },
    {
     "data": {
      "text/html": [
       " View run at <a href='https://wandb.ai/peng_sun/llm-2023-SGD-hyperparameter/runs/juuml700' target=\"_blank\">https://wandb.ai/peng_sun/llm-2023-SGD-hyperparameter/runs/juuml700</a>"
      ],
      "text/plain": [
       "<IPython.core.display.HTML object>"
      ]
     },
     "metadata": {},
     "output_type": "display_data"
    },
    {
     "data": {
      "text/html": [
       "Waiting for W&B process to finish... <strong style=\"color:green\">(success).</strong>"
      ],
      "text/plain": [
       "<IPython.core.display.HTML object>"
      ]
     },
     "metadata": {},
     "output_type": "display_data"
    },
    {
     "data": {
      "text/html": [
       "<style>\n",
       "    table.wandb td:nth-child(1) { padding: 0 10px; text-align: left ; width: auto;} td:nth-child(2) {text-align: left ; width: 100%}\n",
       "    .wandb-row { display: flex; flex-direction: row; flex-wrap: wrap; justify-content: flex-start; width: 100% }\n",
       "    .wandb-col { display: flex; flex-direction: column; flex-basis: 100%; flex: 1; padding: 10px; }\n",
       "    </style>\n",
       "<div class=\"wandb-row\"><div class=\"wandb-col\"><h3>Run history:</h3><br/><table class=\"wandb\"><tr><td>validatoin_auc</td><td>███▁█</td></tr></table><br/></div><div class=\"wandb-col\"><h3>Run summary:</h3><br/><table class=\"wandb\"><tr><td>validatoin_auc</td><td>0.99395</td></tr></table><br/></div></div>"
      ],
      "text/plain": [
       "<IPython.core.display.HTML object>"
      ]
     },
     "metadata": {},
     "output_type": "display_data"
    },
    {
     "data": {
      "text/html": [
       " View run <strong style=\"color:#cdcd00\">trim-sweep-42</strong> at: <a href='https://wandb.ai/peng_sun/llm-2023-SGD-hyperparameter/runs/juuml700' target=\"_blank\">https://wandb.ai/peng_sun/llm-2023-SGD-hyperparameter/runs/juuml700</a><br/>Synced 5 W&B file(s), 0 media file(s), 0 artifact file(s) and 0 other file(s)"
      ],
      "text/plain": [
       "<IPython.core.display.HTML object>"
      ]
     },
     "metadata": {},
     "output_type": "display_data"
    },
    {
     "data": {
      "text/html": [
       "Find logs at: <code>./wandb/run-20240104_202519-juuml700/logs</code>"
      ],
      "text/plain": [
       "<IPython.core.display.HTML object>"
      ]
     },
     "metadata": {},
     "output_type": "display_data"
    },
    {
     "name": "stderr",
     "output_type": "stream",
     "text": [
      "\u001b[34m\u001b[1mwandb\u001b[0m: Agent Starting Run: ehxve5kb with config:\n",
      "\u001b[34m\u001b[1mwandb\u001b[0m: \talpha: 0.00013127622882567328\n",
      "\u001b[34m\u001b[1mwandb\u001b[0m: \teta0: 0.05191846037318964\n",
      "\u001b[34m\u001b[1mwandb\u001b[0m: \tloss: modified_huber\n",
      "\u001b[34m\u001b[1mwandb\u001b[0m: \tmax_iter: 7966\n",
      "Failed to detect the name of this notebook, you can set it manually with the WANDB_NOTEBOOK_NAME environment variable to enable code saving.\n"
     ]
    },
    {
     "data": {
      "text/html": [
       "wandb version 0.16.1 is available!  To upgrade, please run:\n",
       " $ pip install wandb --upgrade"
      ],
      "text/plain": [
       "<IPython.core.display.HTML object>"
      ]
     },
     "metadata": {},
     "output_type": "display_data"
    },
    {
     "data": {
      "text/html": [
       "Tracking run with wandb version 0.15.11"
      ],
      "text/plain": [
       "<IPython.core.display.HTML object>"
      ]
     },
     "metadata": {},
     "output_type": "display_data"
    },
    {
     "data": {
      "text/html": [
       "Run data is saved locally in <code>/home/peng_sun2/workspace/llm-2023/wandb/run-20240104_202544-ehxve5kb</code>"
      ],
      "text/plain": [
       "<IPython.core.display.HTML object>"
      ]
     },
     "metadata": {},
     "output_type": "display_data"
    },
    {
     "data": {
      "text/html": [
       "Syncing run <strong><a href='https://wandb.ai/peng_sun/llm-2023-SGD-hyperparameter/runs/ehxve5kb' target=\"_blank\">dazzling-sweep-43</a></strong> to <a href='https://wandb.ai/peng_sun/llm-2023-SGD-hyperparameter' target=\"_blank\">Weights & Biases</a> (<a href='https://wandb.me/run' target=\"_blank\">docs</a>)<br/>Sweep page: <a href='https://wandb.ai/peng_sun/llm-2023-SGD-hyperparameter/sweeps/wyi8yb2f' target=\"_blank\">https://wandb.ai/peng_sun/llm-2023-SGD-hyperparameter/sweeps/wyi8yb2f</a>"
      ],
      "text/plain": [
       "<IPython.core.display.HTML object>"
      ]
     },
     "metadata": {},
     "output_type": "display_data"
    },
    {
     "data": {
      "text/html": [
       " View project at <a href='https://wandb.ai/peng_sun/llm-2023-SGD-hyperparameter' target=\"_blank\">https://wandb.ai/peng_sun/llm-2023-SGD-hyperparameter</a>"
      ],
      "text/plain": [
       "<IPython.core.display.HTML object>"
      ]
     },
     "metadata": {},
     "output_type": "display_data"
    },
    {
     "data": {
      "text/html": [
       " View sweep at <a href='https://wandb.ai/peng_sun/llm-2023-SGD-hyperparameter/sweeps/wyi8yb2f' target=\"_blank\">https://wandb.ai/peng_sun/llm-2023-SGD-hyperparameter/sweeps/wyi8yb2f</a>"
      ],
      "text/plain": [
       "<IPython.core.display.HTML object>"
      ]
     },
     "metadata": {},
     "output_type": "display_data"
    },
    {
     "data": {
      "text/html": [
       " View run at <a href='https://wandb.ai/peng_sun/llm-2023-SGD-hyperparameter/runs/ehxve5kb' target=\"_blank\">https://wandb.ai/peng_sun/llm-2023-SGD-hyperparameter/runs/ehxve5kb</a>"
      ],
      "text/plain": [
       "<IPython.core.display.HTML object>"
      ]
     },
     "metadata": {},
     "output_type": "display_data"
    },
    {
     "data": {
      "text/html": [
       "Waiting for W&B process to finish... <strong style=\"color:green\">(success).</strong>"
      ],
      "text/plain": [
       "<IPython.core.display.HTML object>"
      ]
     },
     "metadata": {},
     "output_type": "display_data"
    },
    {
     "data": {
      "text/html": [
       "<style>\n",
       "    table.wandb td:nth-child(1) { padding: 0 10px; text-align: left ; width: auto;} td:nth-child(2) {text-align: left ; width: 100%}\n",
       "    .wandb-row { display: flex; flex-direction: row; flex-wrap: wrap; justify-content: flex-start; width: 100% }\n",
       "    .wandb-col { display: flex; flex-direction: column; flex-basis: 100%; flex: 1; padding: 10px; }\n",
       "    </style>\n",
       "<div class=\"wandb-row\"><div class=\"wandb-col\"><h3>Run history:</h3><br/><table class=\"wandb\"><tr><td>validatoin_auc</td><td>███▁█</td></tr></table><br/></div><div class=\"wandb-col\"><h3>Run summary:</h3><br/><table class=\"wandb\"><tr><td>validatoin_auc</td><td>0.99394</td></tr></table><br/></div></div>"
      ],
      "text/plain": [
       "<IPython.core.display.HTML object>"
      ]
     },
     "metadata": {},
     "output_type": "display_data"
    },
    {
     "data": {
      "text/html": [
       " View run <strong style=\"color:#cdcd00\">dazzling-sweep-43</strong> at: <a href='https://wandb.ai/peng_sun/llm-2023-SGD-hyperparameter/runs/ehxve5kb' target=\"_blank\">https://wandb.ai/peng_sun/llm-2023-SGD-hyperparameter/runs/ehxve5kb</a><br/>Synced 5 W&B file(s), 0 media file(s), 0 artifact file(s) and 0 other file(s)"
      ],
      "text/plain": [
       "<IPython.core.display.HTML object>"
      ]
     },
     "metadata": {},
     "output_type": "display_data"
    },
    {
     "data": {
      "text/html": [
       "Find logs at: <code>./wandb/run-20240104_202544-ehxve5kb/logs</code>"
      ],
      "text/plain": [
       "<IPython.core.display.HTML object>"
      ]
     },
     "metadata": {},
     "output_type": "display_data"
    },
    {
     "name": "stderr",
     "output_type": "stream",
     "text": [
      "\u001b[34m\u001b[1mwandb\u001b[0m: Agent Starting Run: sh20yj5g with config:\n",
      "\u001b[34m\u001b[1mwandb\u001b[0m: \talpha: 0.000326033364746472\n",
      "\u001b[34m\u001b[1mwandb\u001b[0m: \teta0: 0.05559459312406415\n",
      "\u001b[34m\u001b[1mwandb\u001b[0m: \tloss: modified_huber\n",
      "\u001b[34m\u001b[1mwandb\u001b[0m: \tmax_iter: 9788\n",
      "Failed to detect the name of this notebook, you can set it manually with the WANDB_NOTEBOOK_NAME environment variable to enable code saving.\n"
     ]
    },
    {
     "data": {
      "text/html": [
       "wandb version 0.16.1 is available!  To upgrade, please run:\n",
       " $ pip install wandb --upgrade"
      ],
      "text/plain": [
       "<IPython.core.display.HTML object>"
      ]
     },
     "metadata": {},
     "output_type": "display_data"
    },
    {
     "data": {
      "text/html": [
       "Tracking run with wandb version 0.15.11"
      ],
      "text/plain": [
       "<IPython.core.display.HTML object>"
      ]
     },
     "metadata": {},
     "output_type": "display_data"
    },
    {
     "data": {
      "text/html": [
       "Run data is saved locally in <code>/home/peng_sun2/workspace/llm-2023/wandb/run-20240104_202609-sh20yj5g</code>"
      ],
      "text/plain": [
       "<IPython.core.display.HTML object>"
      ]
     },
     "metadata": {},
     "output_type": "display_data"
    },
    {
     "data": {
      "text/html": [
       "Syncing run <strong><a href='https://wandb.ai/peng_sun/llm-2023-SGD-hyperparameter/runs/sh20yj5g' target=\"_blank\">visionary-sweep-44</a></strong> to <a href='https://wandb.ai/peng_sun/llm-2023-SGD-hyperparameter' target=\"_blank\">Weights & Biases</a> (<a href='https://wandb.me/run' target=\"_blank\">docs</a>)<br/>Sweep page: <a href='https://wandb.ai/peng_sun/llm-2023-SGD-hyperparameter/sweeps/wyi8yb2f' target=\"_blank\">https://wandb.ai/peng_sun/llm-2023-SGD-hyperparameter/sweeps/wyi8yb2f</a>"
      ],
      "text/plain": [
       "<IPython.core.display.HTML object>"
      ]
     },
     "metadata": {},
     "output_type": "display_data"
    },
    {
     "data": {
      "text/html": [
       " View project at <a href='https://wandb.ai/peng_sun/llm-2023-SGD-hyperparameter' target=\"_blank\">https://wandb.ai/peng_sun/llm-2023-SGD-hyperparameter</a>"
      ],
      "text/plain": [
       "<IPython.core.display.HTML object>"
      ]
     },
     "metadata": {},
     "output_type": "display_data"
    },
    {
     "data": {
      "text/html": [
       " View sweep at <a href='https://wandb.ai/peng_sun/llm-2023-SGD-hyperparameter/sweeps/wyi8yb2f' target=\"_blank\">https://wandb.ai/peng_sun/llm-2023-SGD-hyperparameter/sweeps/wyi8yb2f</a>"
      ],
      "text/plain": [
       "<IPython.core.display.HTML object>"
      ]
     },
     "metadata": {},
     "output_type": "display_data"
    },
    {
     "data": {
      "text/html": [
       " View run at <a href='https://wandb.ai/peng_sun/llm-2023-SGD-hyperparameter/runs/sh20yj5g' target=\"_blank\">https://wandb.ai/peng_sun/llm-2023-SGD-hyperparameter/runs/sh20yj5g</a>"
      ],
      "text/plain": [
       "<IPython.core.display.HTML object>"
      ]
     },
     "metadata": {},
     "output_type": "display_data"
    },
    {
     "data": {
      "text/html": [
       "Waiting for W&B process to finish... <strong style=\"color:green\">(success).</strong>"
      ],
      "text/plain": [
       "<IPython.core.display.HTML object>"
      ]
     },
     "metadata": {},
     "output_type": "display_data"
    },
    {
     "data": {
      "text/html": [
       "<style>\n",
       "    table.wandb td:nth-child(1) { padding: 0 10px; text-align: left ; width: auto;} td:nth-child(2) {text-align: left ; width: 100%}\n",
       "    .wandb-row { display: flex; flex-direction: row; flex-wrap: wrap; justify-content: flex-start; width: 100% }\n",
       "    .wandb-col { display: flex; flex-direction: column; flex-basis: 100%; flex: 1; padding: 10px; }\n",
       "    </style>\n",
       "<div class=\"wandb-row\"><div class=\"wandb-col\"><h3>Run history:</h3><br/><table class=\"wandb\"><tr><td>validatoin_auc</td><td>███▁█</td></tr></table><br/></div><div class=\"wandb-col\"><h3>Run summary:</h3><br/><table class=\"wandb\"><tr><td>validatoin_auc</td><td>0.99229</td></tr></table><br/></div></div>"
      ],
      "text/plain": [
       "<IPython.core.display.HTML object>"
      ]
     },
     "metadata": {},
     "output_type": "display_data"
    },
    {
     "data": {
      "text/html": [
       " View run <strong style=\"color:#cdcd00\">visionary-sweep-44</strong> at: <a href='https://wandb.ai/peng_sun/llm-2023-SGD-hyperparameter/runs/sh20yj5g' target=\"_blank\">https://wandb.ai/peng_sun/llm-2023-SGD-hyperparameter/runs/sh20yj5g</a><br/>Synced 5 W&B file(s), 0 media file(s), 0 artifact file(s) and 0 other file(s)"
      ],
      "text/plain": [
       "<IPython.core.display.HTML object>"
      ]
     },
     "metadata": {},
     "output_type": "display_data"
    },
    {
     "data": {
      "text/html": [
       "Find logs at: <code>./wandb/run-20240104_202609-sh20yj5g/logs</code>"
      ],
      "text/plain": [
       "<IPython.core.display.HTML object>"
      ]
     },
     "metadata": {},
     "output_type": "display_data"
    },
    {
     "name": "stderr",
     "output_type": "stream",
     "text": [
      "\u001b[34m\u001b[1mwandb\u001b[0m: Sweep Agent: Waiting for job.\n",
      "\u001b[34m\u001b[1mwandb\u001b[0m: Job received.\n",
      "\u001b[34m\u001b[1mwandb\u001b[0m: Agent Starting Run: 2cnbxv7b with config:\n",
      "\u001b[34m\u001b[1mwandb\u001b[0m: \talpha: 0.00030779580397782326\n",
      "\u001b[34m\u001b[1mwandb\u001b[0m: \teta0: 0.011513465789085782\n",
      "\u001b[34m\u001b[1mwandb\u001b[0m: \tloss: modified_huber\n",
      "\u001b[34m\u001b[1mwandb\u001b[0m: \tmax_iter: 3588\n",
      "Failed to detect the name of this notebook, you can set it manually with the WANDB_NOTEBOOK_NAME environment variable to enable code saving.\n"
     ]
    },
    {
     "data": {
      "text/html": [
       "wandb version 0.16.1 is available!  To upgrade, please run:\n",
       " $ pip install wandb --upgrade"
      ],
      "text/plain": [
       "<IPython.core.display.HTML object>"
      ]
     },
     "metadata": {},
     "output_type": "display_data"
    },
    {
     "data": {
      "text/html": [
       "Tracking run with wandb version 0.15.11"
      ],
      "text/plain": [
       "<IPython.core.display.HTML object>"
      ]
     },
     "metadata": {},
     "output_type": "display_data"
    },
    {
     "data": {
      "text/html": [
       "Run data is saved locally in <code>/home/peng_sun2/workspace/llm-2023/wandb/run-20240104_202641-2cnbxv7b</code>"
      ],
      "text/plain": [
       "<IPython.core.display.HTML object>"
      ]
     },
     "metadata": {},
     "output_type": "display_data"
    },
    {
     "data": {
      "text/html": [
       "Syncing run <strong><a href='https://wandb.ai/peng_sun/llm-2023-SGD-hyperparameter/runs/2cnbxv7b' target=\"_blank\">grateful-sweep-45</a></strong> to <a href='https://wandb.ai/peng_sun/llm-2023-SGD-hyperparameter' target=\"_blank\">Weights & Biases</a> (<a href='https://wandb.me/run' target=\"_blank\">docs</a>)<br/>Sweep page: <a href='https://wandb.ai/peng_sun/llm-2023-SGD-hyperparameter/sweeps/wyi8yb2f' target=\"_blank\">https://wandb.ai/peng_sun/llm-2023-SGD-hyperparameter/sweeps/wyi8yb2f</a>"
      ],
      "text/plain": [
       "<IPython.core.display.HTML object>"
      ]
     },
     "metadata": {},
     "output_type": "display_data"
    },
    {
     "data": {
      "text/html": [
       " View project at <a href='https://wandb.ai/peng_sun/llm-2023-SGD-hyperparameter' target=\"_blank\">https://wandb.ai/peng_sun/llm-2023-SGD-hyperparameter</a>"
      ],
      "text/plain": [
       "<IPython.core.display.HTML object>"
      ]
     },
     "metadata": {},
     "output_type": "display_data"
    },
    {
     "data": {
      "text/html": [
       " View sweep at <a href='https://wandb.ai/peng_sun/llm-2023-SGD-hyperparameter/sweeps/wyi8yb2f' target=\"_blank\">https://wandb.ai/peng_sun/llm-2023-SGD-hyperparameter/sweeps/wyi8yb2f</a>"
      ],
      "text/plain": [
       "<IPython.core.display.HTML object>"
      ]
     },
     "metadata": {},
     "output_type": "display_data"
    },
    {
     "data": {
      "text/html": [
       " View run at <a href='https://wandb.ai/peng_sun/llm-2023-SGD-hyperparameter/runs/2cnbxv7b' target=\"_blank\">https://wandb.ai/peng_sun/llm-2023-SGD-hyperparameter/runs/2cnbxv7b</a>"
      ],
      "text/plain": [
       "<IPython.core.display.HTML object>"
      ]
     },
     "metadata": {},
     "output_type": "display_data"
    },
    {
     "data": {
      "text/html": [
       "Waiting for W&B process to finish... <strong style=\"color:green\">(success).</strong>"
      ],
      "text/plain": [
       "<IPython.core.display.HTML object>"
      ]
     },
     "metadata": {},
     "output_type": "display_data"
    },
    {
     "data": {
      "text/html": [
       "<style>\n",
       "    table.wandb td:nth-child(1) { padding: 0 10px; text-align: left ; width: auto;} td:nth-child(2) {text-align: left ; width: 100%}\n",
       "    .wandb-row { display: flex; flex-direction: row; flex-wrap: wrap; justify-content: flex-start; width: 100% }\n",
       "    .wandb-col { display: flex; flex-direction: column; flex-basis: 100%; flex: 1; padding: 10px; }\n",
       "    </style>\n",
       "<div class=\"wandb-row\"><div class=\"wandb-col\"><h3>Run history:</h3><br/><table class=\"wandb\"><tr><td>validatoin_auc</td><td>███▁█</td></tr></table><br/></div><div class=\"wandb-col\"><h3>Run summary:</h3><br/><table class=\"wandb\"><tr><td>validatoin_auc</td><td>0.99226</td></tr></table><br/></div></div>"
      ],
      "text/plain": [
       "<IPython.core.display.HTML object>"
      ]
     },
     "metadata": {},
     "output_type": "display_data"
    },
    {
     "data": {
      "text/html": [
       " View run <strong style=\"color:#cdcd00\">grateful-sweep-45</strong> at: <a href='https://wandb.ai/peng_sun/llm-2023-SGD-hyperparameter/runs/2cnbxv7b' target=\"_blank\">https://wandb.ai/peng_sun/llm-2023-SGD-hyperparameter/runs/2cnbxv7b</a><br/>Synced 5 W&B file(s), 0 media file(s), 0 artifact file(s) and 0 other file(s)"
      ],
      "text/plain": [
       "<IPython.core.display.HTML object>"
      ]
     },
     "metadata": {},
     "output_type": "display_data"
    },
    {
     "data": {
      "text/html": [
       "Find logs at: <code>./wandb/run-20240104_202641-2cnbxv7b/logs</code>"
      ],
      "text/plain": [
       "<IPython.core.display.HTML object>"
      ]
     },
     "metadata": {},
     "output_type": "display_data"
    },
    {
     "name": "stderr",
     "output_type": "stream",
     "text": [
      "\u001b[34m\u001b[1mwandb\u001b[0m: Agent Starting Run: q8t5w7xt with config:\n",
      "\u001b[34m\u001b[1mwandb\u001b[0m: \talpha: 0.00032727927194215806\n",
      "\u001b[34m\u001b[1mwandb\u001b[0m: \teta0: 0.04579528438814011\n",
      "\u001b[34m\u001b[1mwandb\u001b[0m: \tloss: modified_huber\n",
      "\u001b[34m\u001b[1mwandb\u001b[0m: \tmax_iter: 4585\n",
      "Failed to detect the name of this notebook, you can set it manually with the WANDB_NOTEBOOK_NAME environment variable to enable code saving.\n"
     ]
    },
    {
     "data": {
      "text/html": [
       "wandb version 0.16.1 is available!  To upgrade, please run:\n",
       " $ pip install wandb --upgrade"
      ],
      "text/plain": [
       "<IPython.core.display.HTML object>"
      ]
     },
     "metadata": {},
     "output_type": "display_data"
    },
    {
     "data": {
      "text/html": [
       "Tracking run with wandb version 0.15.11"
      ],
      "text/plain": [
       "<IPython.core.display.HTML object>"
      ]
     },
     "metadata": {},
     "output_type": "display_data"
    },
    {
     "data": {
      "text/html": [
       "Run data is saved locally in <code>/home/peng_sun2/workspace/llm-2023/wandb/run-20240104_202706-q8t5w7xt</code>"
      ],
      "text/plain": [
       "<IPython.core.display.HTML object>"
      ]
     },
     "metadata": {},
     "output_type": "display_data"
    },
    {
     "data": {
      "text/html": [
       "Syncing run <strong><a href='https://wandb.ai/peng_sun/llm-2023-SGD-hyperparameter/runs/q8t5w7xt' target=\"_blank\">giddy-sweep-46</a></strong> to <a href='https://wandb.ai/peng_sun/llm-2023-SGD-hyperparameter' target=\"_blank\">Weights & Biases</a> (<a href='https://wandb.me/run' target=\"_blank\">docs</a>)<br/>Sweep page: <a href='https://wandb.ai/peng_sun/llm-2023-SGD-hyperparameter/sweeps/wyi8yb2f' target=\"_blank\">https://wandb.ai/peng_sun/llm-2023-SGD-hyperparameter/sweeps/wyi8yb2f</a>"
      ],
      "text/plain": [
       "<IPython.core.display.HTML object>"
      ]
     },
     "metadata": {},
     "output_type": "display_data"
    },
    {
     "data": {
      "text/html": [
       " View project at <a href='https://wandb.ai/peng_sun/llm-2023-SGD-hyperparameter' target=\"_blank\">https://wandb.ai/peng_sun/llm-2023-SGD-hyperparameter</a>"
      ],
      "text/plain": [
       "<IPython.core.display.HTML object>"
      ]
     },
     "metadata": {},
     "output_type": "display_data"
    },
    {
     "data": {
      "text/html": [
       " View sweep at <a href='https://wandb.ai/peng_sun/llm-2023-SGD-hyperparameter/sweeps/wyi8yb2f' target=\"_blank\">https://wandb.ai/peng_sun/llm-2023-SGD-hyperparameter/sweeps/wyi8yb2f</a>"
      ],
      "text/plain": [
       "<IPython.core.display.HTML object>"
      ]
     },
     "metadata": {},
     "output_type": "display_data"
    },
    {
     "data": {
      "text/html": [
       " View run at <a href='https://wandb.ai/peng_sun/llm-2023-SGD-hyperparameter/runs/q8t5w7xt' target=\"_blank\">https://wandb.ai/peng_sun/llm-2023-SGD-hyperparameter/runs/q8t5w7xt</a>"
      ],
      "text/plain": [
       "<IPython.core.display.HTML object>"
      ]
     },
     "metadata": {},
     "output_type": "display_data"
    },
    {
     "data": {
      "text/html": [
       "Waiting for W&B process to finish... <strong style=\"color:green\">(success).</strong>"
      ],
      "text/plain": [
       "<IPython.core.display.HTML object>"
      ]
     },
     "metadata": {},
     "output_type": "display_data"
    },
    {
     "data": {
      "text/html": [
       "<style>\n",
       "    table.wandb td:nth-child(1) { padding: 0 10px; text-align: left ; width: auto;} td:nth-child(2) {text-align: left ; width: 100%}\n",
       "    .wandb-row { display: flex; flex-direction: row; flex-wrap: wrap; justify-content: flex-start; width: 100% }\n",
       "    .wandb-col { display: flex; flex-direction: column; flex-basis: 100%; flex: 1; padding: 10px; }\n",
       "    </style>\n",
       "<div class=\"wandb-row\"><div class=\"wandb-col\"><h3>Run history:</h3><br/><table class=\"wandb\"><tr><td>validatoin_auc</td><td>███▁█</td></tr></table><br/></div><div class=\"wandb-col\"><h3>Run summary:</h3><br/><table class=\"wandb\"><tr><td>validatoin_auc</td><td>0.99223</td></tr></table><br/></div></div>"
      ],
      "text/plain": [
       "<IPython.core.display.HTML object>"
      ]
     },
     "metadata": {},
     "output_type": "display_data"
    },
    {
     "data": {
      "text/html": [
       " View run <strong style=\"color:#cdcd00\">giddy-sweep-46</strong> at: <a href='https://wandb.ai/peng_sun/llm-2023-SGD-hyperparameter/runs/q8t5w7xt' target=\"_blank\">https://wandb.ai/peng_sun/llm-2023-SGD-hyperparameter/runs/q8t5w7xt</a><br/>Synced 5 W&B file(s), 0 media file(s), 0 artifact file(s) and 0 other file(s)"
      ],
      "text/plain": [
       "<IPython.core.display.HTML object>"
      ]
     },
     "metadata": {},
     "output_type": "display_data"
    },
    {
     "data": {
      "text/html": [
       "Find logs at: <code>./wandb/run-20240104_202706-q8t5w7xt/logs</code>"
      ],
      "text/plain": [
       "<IPython.core.display.HTML object>"
      ]
     },
     "metadata": {},
     "output_type": "display_data"
    },
    {
     "name": "stderr",
     "output_type": "stream",
     "text": [
      "\u001b[34m\u001b[1mwandb\u001b[0m: Sweep Agent: Waiting for job.\n",
      "\u001b[34m\u001b[1mwandb\u001b[0m: Job received.\n",
      "\u001b[34m\u001b[1mwandb\u001b[0m: Agent Starting Run: 629fcg0v with config:\n",
      "\u001b[34m\u001b[1mwandb\u001b[0m: \talpha: 0.00012269839041543582\n",
      "\u001b[34m\u001b[1mwandb\u001b[0m: \teta0: 0.04161053011056386\n",
      "\u001b[34m\u001b[1mwandb\u001b[0m: \tloss: modified_huber\n",
      "\u001b[34m\u001b[1mwandb\u001b[0m: \tmax_iter: 7074\n",
      "Failed to detect the name of this notebook, you can set it manually with the WANDB_NOTEBOOK_NAME environment variable to enable code saving.\n"
     ]
    },
    {
     "data": {
      "text/html": [
       "wandb version 0.16.1 is available!  To upgrade, please run:\n",
       " $ pip install wandb --upgrade"
      ],
      "text/plain": [
       "<IPython.core.display.HTML object>"
      ]
     },
     "metadata": {},
     "output_type": "display_data"
    },
    {
     "data": {
      "text/html": [
       "Tracking run with wandb version 0.15.11"
      ],
      "text/plain": [
       "<IPython.core.display.HTML object>"
      ]
     },
     "metadata": {},
     "output_type": "display_data"
    },
    {
     "data": {
      "text/html": [
       "Run data is saved locally in <code>/home/peng_sun2/workspace/llm-2023/wandb/run-20240104_202737-629fcg0v</code>"
      ],
      "text/plain": [
       "<IPython.core.display.HTML object>"
      ]
     },
     "metadata": {},
     "output_type": "display_data"
    },
    {
     "data": {
      "text/html": [
       "Syncing run <strong><a href='https://wandb.ai/peng_sun/llm-2023-SGD-hyperparameter/runs/629fcg0v' target=\"_blank\">light-sweep-47</a></strong> to <a href='https://wandb.ai/peng_sun/llm-2023-SGD-hyperparameter' target=\"_blank\">Weights & Biases</a> (<a href='https://wandb.me/run' target=\"_blank\">docs</a>)<br/>Sweep page: <a href='https://wandb.ai/peng_sun/llm-2023-SGD-hyperparameter/sweeps/wyi8yb2f' target=\"_blank\">https://wandb.ai/peng_sun/llm-2023-SGD-hyperparameter/sweeps/wyi8yb2f</a>"
      ],
      "text/plain": [
       "<IPython.core.display.HTML object>"
      ]
     },
     "metadata": {},
     "output_type": "display_data"
    },
    {
     "data": {
      "text/html": [
       " View project at <a href='https://wandb.ai/peng_sun/llm-2023-SGD-hyperparameter' target=\"_blank\">https://wandb.ai/peng_sun/llm-2023-SGD-hyperparameter</a>"
      ],
      "text/plain": [
       "<IPython.core.display.HTML object>"
      ]
     },
     "metadata": {},
     "output_type": "display_data"
    },
    {
     "data": {
      "text/html": [
       " View sweep at <a href='https://wandb.ai/peng_sun/llm-2023-SGD-hyperparameter/sweeps/wyi8yb2f' target=\"_blank\">https://wandb.ai/peng_sun/llm-2023-SGD-hyperparameter/sweeps/wyi8yb2f</a>"
      ],
      "text/plain": [
       "<IPython.core.display.HTML object>"
      ]
     },
     "metadata": {},
     "output_type": "display_data"
    },
    {
     "data": {
      "text/html": [
       " View run at <a href='https://wandb.ai/peng_sun/llm-2023-SGD-hyperparameter/runs/629fcg0v' target=\"_blank\">https://wandb.ai/peng_sun/llm-2023-SGD-hyperparameter/runs/629fcg0v</a>"
      ],
      "text/plain": [
       "<IPython.core.display.HTML object>"
      ]
     },
     "metadata": {},
     "output_type": "display_data"
    },
    {
     "data": {
      "text/html": [
       "Waiting for W&B process to finish... <strong style=\"color:green\">(success).</strong>"
      ],
      "text/plain": [
       "<IPython.core.display.HTML object>"
      ]
     },
     "metadata": {},
     "output_type": "display_data"
    },
    {
     "data": {
      "text/html": [
       "<style>\n",
       "    table.wandb td:nth-child(1) { padding: 0 10px; text-align: left ; width: auto;} td:nth-child(2) {text-align: left ; width: 100%}\n",
       "    .wandb-row { display: flex; flex-direction: row; flex-wrap: wrap; justify-content: flex-start; width: 100% }\n",
       "    .wandb-col { display: flex; flex-direction: column; flex-basis: 100%; flex: 1; padding: 10px; }\n",
       "    </style>\n",
       "<div class=\"wandb-row\"><div class=\"wandb-col\"><h3>Run history:</h3><br/><table class=\"wandb\"><tr><td>validatoin_auc</td><td>███▁█</td></tr></table><br/></div><div class=\"wandb-col\"><h3>Run summary:</h3><br/><table class=\"wandb\"><tr><td>validatoin_auc</td><td>0.99402</td></tr></table><br/></div></div>"
      ],
      "text/plain": [
       "<IPython.core.display.HTML object>"
      ]
     },
     "metadata": {},
     "output_type": "display_data"
    },
    {
     "data": {
      "text/html": [
       " View run <strong style=\"color:#cdcd00\">light-sweep-47</strong> at: <a href='https://wandb.ai/peng_sun/llm-2023-SGD-hyperparameter/runs/629fcg0v' target=\"_blank\">https://wandb.ai/peng_sun/llm-2023-SGD-hyperparameter/runs/629fcg0v</a><br/>Synced 5 W&B file(s), 0 media file(s), 0 artifact file(s) and 0 other file(s)"
      ],
      "text/plain": [
       "<IPython.core.display.HTML object>"
      ]
     },
     "metadata": {},
     "output_type": "display_data"
    },
    {
     "data": {
      "text/html": [
       "Find logs at: <code>./wandb/run-20240104_202737-629fcg0v/logs</code>"
      ],
      "text/plain": [
       "<IPython.core.display.HTML object>"
      ]
     },
     "metadata": {},
     "output_type": "display_data"
    },
    {
     "name": "stderr",
     "output_type": "stream",
     "text": [
      "\u001b[34m\u001b[1mwandb\u001b[0m: Agent Starting Run: c6rykq01 with config:\n",
      "\u001b[34m\u001b[1mwandb\u001b[0m: \talpha: 0.00024806048385323437\n",
      "\u001b[34m\u001b[1mwandb\u001b[0m: \teta0: 0.0108715200428062\n",
      "\u001b[34m\u001b[1mwandb\u001b[0m: \tloss: modified_huber\n",
      "\u001b[34m\u001b[1mwandb\u001b[0m: \tmax_iter: 5928\n",
      "Failed to detect the name of this notebook, you can set it manually with the WANDB_NOTEBOOK_NAME environment variable to enable code saving.\n"
     ]
    },
    {
     "data": {
      "text/html": [
       "wandb version 0.16.1 is available!  To upgrade, please run:\n",
       " $ pip install wandb --upgrade"
      ],
      "text/plain": [
       "<IPython.core.display.HTML object>"
      ]
     },
     "metadata": {},
     "output_type": "display_data"
    },
    {
     "data": {
      "text/html": [
       "Tracking run with wandb version 0.15.11"
      ],
      "text/plain": [
       "<IPython.core.display.HTML object>"
      ]
     },
     "metadata": {},
     "output_type": "display_data"
    },
    {
     "data": {
      "text/html": [
       "Run data is saved locally in <code>/home/peng_sun2/workspace/llm-2023/wandb/run-20240104_202802-c6rykq01</code>"
      ],
      "text/plain": [
       "<IPython.core.display.HTML object>"
      ]
     },
     "metadata": {},
     "output_type": "display_data"
    },
    {
     "data": {
      "text/html": [
       "Syncing run <strong><a href='https://wandb.ai/peng_sun/llm-2023-SGD-hyperparameter/runs/c6rykq01' target=\"_blank\">olive-sweep-48</a></strong> to <a href='https://wandb.ai/peng_sun/llm-2023-SGD-hyperparameter' target=\"_blank\">Weights & Biases</a> (<a href='https://wandb.me/run' target=\"_blank\">docs</a>)<br/>Sweep page: <a href='https://wandb.ai/peng_sun/llm-2023-SGD-hyperparameter/sweeps/wyi8yb2f' target=\"_blank\">https://wandb.ai/peng_sun/llm-2023-SGD-hyperparameter/sweeps/wyi8yb2f</a>"
      ],
      "text/plain": [
       "<IPython.core.display.HTML object>"
      ]
     },
     "metadata": {},
     "output_type": "display_data"
    },
    {
     "data": {
      "text/html": [
       " View project at <a href='https://wandb.ai/peng_sun/llm-2023-SGD-hyperparameter' target=\"_blank\">https://wandb.ai/peng_sun/llm-2023-SGD-hyperparameter</a>"
      ],
      "text/plain": [
       "<IPython.core.display.HTML object>"
      ]
     },
     "metadata": {},
     "output_type": "display_data"
    },
    {
     "data": {
      "text/html": [
       " View sweep at <a href='https://wandb.ai/peng_sun/llm-2023-SGD-hyperparameter/sweeps/wyi8yb2f' target=\"_blank\">https://wandb.ai/peng_sun/llm-2023-SGD-hyperparameter/sweeps/wyi8yb2f</a>"
      ],
      "text/plain": [
       "<IPython.core.display.HTML object>"
      ]
     },
     "metadata": {},
     "output_type": "display_data"
    },
    {
     "data": {
      "text/html": [
       " View run at <a href='https://wandb.ai/peng_sun/llm-2023-SGD-hyperparameter/runs/c6rykq01' target=\"_blank\">https://wandb.ai/peng_sun/llm-2023-SGD-hyperparameter/runs/c6rykq01</a>"
      ],
      "text/plain": [
       "<IPython.core.display.HTML object>"
      ]
     },
     "metadata": {},
     "output_type": "display_data"
    },
    {
     "data": {
      "text/html": [
       "Waiting for W&B process to finish... <strong style=\"color:green\">(success).</strong>"
      ],
      "text/plain": [
       "<IPython.core.display.HTML object>"
      ]
     },
     "metadata": {},
     "output_type": "display_data"
    },
    {
     "data": {
      "text/html": [
       "<style>\n",
       "    table.wandb td:nth-child(1) { padding: 0 10px; text-align: left ; width: auto;} td:nth-child(2) {text-align: left ; width: 100%}\n",
       "    .wandb-row { display: flex; flex-direction: row; flex-wrap: wrap; justify-content: flex-start; width: 100% }\n",
       "    .wandb-col { display: flex; flex-direction: column; flex-basis: 100%; flex: 1; padding: 10px; }\n",
       "    </style>\n",
       "<div class=\"wandb-row\"><div class=\"wandb-col\"><h3>Run history:</h3><br/><table class=\"wandb\"><tr><td>validatoin_auc</td><td>███▁█</td></tr></table><br/></div><div class=\"wandb-col\"><h3>Run summary:</h3><br/><table class=\"wandb\"><tr><td>validatoin_auc</td><td>0.99281</td></tr></table><br/></div></div>"
      ],
      "text/plain": [
       "<IPython.core.display.HTML object>"
      ]
     },
     "metadata": {},
     "output_type": "display_data"
    },
    {
     "data": {
      "text/html": [
       " View run <strong style=\"color:#cdcd00\">olive-sweep-48</strong> at: <a href='https://wandb.ai/peng_sun/llm-2023-SGD-hyperparameter/runs/c6rykq01' target=\"_blank\">https://wandb.ai/peng_sun/llm-2023-SGD-hyperparameter/runs/c6rykq01</a><br/>Synced 5 W&B file(s), 0 media file(s), 0 artifact file(s) and 0 other file(s)"
      ],
      "text/plain": [
       "<IPython.core.display.HTML object>"
      ]
     },
     "metadata": {},
     "output_type": "display_data"
    },
    {
     "data": {
      "text/html": [
       "Find logs at: <code>./wandb/run-20240104_202802-c6rykq01/logs</code>"
      ],
      "text/plain": [
       "<IPython.core.display.HTML object>"
      ]
     },
     "metadata": {},
     "output_type": "display_data"
    },
    {
     "name": "stderr",
     "output_type": "stream",
     "text": [
      "\u001b[34m\u001b[1mwandb\u001b[0m: Sweep Agent: Waiting for job.\n",
      "\u001b[34m\u001b[1mwandb\u001b[0m: Job received.\n",
      "\u001b[34m\u001b[1mwandb\u001b[0m: Agent Starting Run: 7n16e7uu with config:\n",
      "\u001b[34m\u001b[1mwandb\u001b[0m: \talpha: 0.0003050330170457466\n",
      "\u001b[34m\u001b[1mwandb\u001b[0m: \teta0: 0.0683022098408898\n",
      "\u001b[34m\u001b[1mwandb\u001b[0m: \tloss: modified_huber\n",
      "\u001b[34m\u001b[1mwandb\u001b[0m: \tmax_iter: 1466\n",
      "Failed to detect the name of this notebook, you can set it manually with the WANDB_NOTEBOOK_NAME environment variable to enable code saving.\n"
     ]
    },
    {
     "data": {
      "text/html": [
       "wandb version 0.16.1 is available!  To upgrade, please run:\n",
       " $ pip install wandb --upgrade"
      ],
      "text/plain": [
       "<IPython.core.display.HTML object>"
      ]
     },
     "metadata": {},
     "output_type": "display_data"
    },
    {
     "data": {
      "text/html": [
       "Tracking run with wandb version 0.15.11"
      ],
      "text/plain": [
       "<IPython.core.display.HTML object>"
      ]
     },
     "metadata": {},
     "output_type": "display_data"
    },
    {
     "data": {
      "text/html": [
       "Run data is saved locally in <code>/home/peng_sun2/workspace/llm-2023/wandb/run-20240104_202833-7n16e7uu</code>"
      ],
      "text/plain": [
       "<IPython.core.display.HTML object>"
      ]
     },
     "metadata": {},
     "output_type": "display_data"
    },
    {
     "data": {
      "text/html": [
       "Syncing run <strong><a href='https://wandb.ai/peng_sun/llm-2023-SGD-hyperparameter/runs/7n16e7uu' target=\"_blank\">dazzling-sweep-49</a></strong> to <a href='https://wandb.ai/peng_sun/llm-2023-SGD-hyperparameter' target=\"_blank\">Weights & Biases</a> (<a href='https://wandb.me/run' target=\"_blank\">docs</a>)<br/>Sweep page: <a href='https://wandb.ai/peng_sun/llm-2023-SGD-hyperparameter/sweeps/wyi8yb2f' target=\"_blank\">https://wandb.ai/peng_sun/llm-2023-SGD-hyperparameter/sweeps/wyi8yb2f</a>"
      ],
      "text/plain": [
       "<IPython.core.display.HTML object>"
      ]
     },
     "metadata": {},
     "output_type": "display_data"
    },
    {
     "data": {
      "text/html": [
       " View project at <a href='https://wandb.ai/peng_sun/llm-2023-SGD-hyperparameter' target=\"_blank\">https://wandb.ai/peng_sun/llm-2023-SGD-hyperparameter</a>"
      ],
      "text/plain": [
       "<IPython.core.display.HTML object>"
      ]
     },
     "metadata": {},
     "output_type": "display_data"
    },
    {
     "data": {
      "text/html": [
       " View sweep at <a href='https://wandb.ai/peng_sun/llm-2023-SGD-hyperparameter/sweeps/wyi8yb2f' target=\"_blank\">https://wandb.ai/peng_sun/llm-2023-SGD-hyperparameter/sweeps/wyi8yb2f</a>"
      ],
      "text/plain": [
       "<IPython.core.display.HTML object>"
      ]
     },
     "metadata": {},
     "output_type": "display_data"
    },
    {
     "data": {
      "text/html": [
       " View run at <a href='https://wandb.ai/peng_sun/llm-2023-SGD-hyperparameter/runs/7n16e7uu' target=\"_blank\">https://wandb.ai/peng_sun/llm-2023-SGD-hyperparameter/runs/7n16e7uu</a>"
      ],
      "text/plain": [
       "<IPython.core.display.HTML object>"
      ]
     },
     "metadata": {},
     "output_type": "display_data"
    },
    {
     "data": {
      "text/html": [
       "Waiting for W&B process to finish... <strong style=\"color:green\">(success).</strong>"
      ],
      "text/plain": [
       "<IPython.core.display.HTML object>"
      ]
     },
     "metadata": {},
     "output_type": "display_data"
    },
    {
     "data": {
      "text/html": [
       "<style>\n",
       "    table.wandb td:nth-child(1) { padding: 0 10px; text-align: left ; width: auto;} td:nth-child(2) {text-align: left ; width: 100%}\n",
       "    .wandb-row { display: flex; flex-direction: row; flex-wrap: wrap; justify-content: flex-start; width: 100% }\n",
       "    .wandb-col { display: flex; flex-direction: column; flex-basis: 100%; flex: 1; padding: 10px; }\n",
       "    </style>\n",
       "<div class=\"wandb-row\"><div class=\"wandb-col\"><h3>Run history:</h3><br/><table class=\"wandb\"><tr><td>validatoin_auc</td><td>███▁█</td></tr></table><br/></div><div class=\"wandb-col\"><h3>Run summary:</h3><br/><table class=\"wandb\"><tr><td>validatoin_auc</td><td>0.99246</td></tr></table><br/></div></div>"
      ],
      "text/plain": [
       "<IPython.core.display.HTML object>"
      ]
     },
     "metadata": {},
     "output_type": "display_data"
    },
    {
     "data": {
      "text/html": [
       " View run <strong style=\"color:#cdcd00\">dazzling-sweep-49</strong> at: <a href='https://wandb.ai/peng_sun/llm-2023-SGD-hyperparameter/runs/7n16e7uu' target=\"_blank\">https://wandb.ai/peng_sun/llm-2023-SGD-hyperparameter/runs/7n16e7uu</a><br/>Synced 5 W&B file(s), 0 media file(s), 0 artifact file(s) and 0 other file(s)"
      ],
      "text/plain": [
       "<IPython.core.display.HTML object>"
      ]
     },
     "metadata": {},
     "output_type": "display_data"
    },
    {
     "data": {
      "text/html": [
       "Find logs at: <code>./wandb/run-20240104_202833-7n16e7uu/logs</code>"
      ],
      "text/plain": [
       "<IPython.core.display.HTML object>"
      ]
     },
     "metadata": {},
     "output_type": "display_data"
    },
    {
     "name": "stderr",
     "output_type": "stream",
     "text": [
      "\u001b[34m\u001b[1mwandb\u001b[0m: Agent Starting Run: f0yzsxr9 with config:\n",
      "\u001b[34m\u001b[1mwandb\u001b[0m: \talpha: 0.0002453519979925575\n",
      "\u001b[34m\u001b[1mwandb\u001b[0m: \teta0: 0.02259630783792692\n",
      "\u001b[34m\u001b[1mwandb\u001b[0m: \tloss: modified_huber\n",
      "\u001b[34m\u001b[1mwandb\u001b[0m: \tmax_iter: 4911\n",
      "Failed to detect the name of this notebook, you can set it manually with the WANDB_NOTEBOOK_NAME environment variable to enable code saving.\n"
     ]
    },
    {
     "data": {
      "text/html": [
       "wandb version 0.16.1 is available!  To upgrade, please run:\n",
       " $ pip install wandb --upgrade"
      ],
      "text/plain": [
       "<IPython.core.display.HTML object>"
      ]
     },
     "metadata": {},
     "output_type": "display_data"
    },
    {
     "data": {
      "text/html": [
       "Tracking run with wandb version 0.15.11"
      ],
      "text/plain": [
       "<IPython.core.display.HTML object>"
      ]
     },
     "metadata": {},
     "output_type": "display_data"
    },
    {
     "data": {
      "text/html": [
       "Run data is saved locally in <code>/home/peng_sun2/workspace/llm-2023/wandb/run-20240104_202859-f0yzsxr9</code>"
      ],
      "text/plain": [
       "<IPython.core.display.HTML object>"
      ]
     },
     "metadata": {},
     "output_type": "display_data"
    },
    {
     "data": {
      "text/html": [
       "Syncing run <strong><a href='https://wandb.ai/peng_sun/llm-2023-SGD-hyperparameter/runs/f0yzsxr9' target=\"_blank\">splendid-sweep-50</a></strong> to <a href='https://wandb.ai/peng_sun/llm-2023-SGD-hyperparameter' target=\"_blank\">Weights & Biases</a> (<a href='https://wandb.me/run' target=\"_blank\">docs</a>)<br/>Sweep page: <a href='https://wandb.ai/peng_sun/llm-2023-SGD-hyperparameter/sweeps/wyi8yb2f' target=\"_blank\">https://wandb.ai/peng_sun/llm-2023-SGD-hyperparameter/sweeps/wyi8yb2f</a>"
      ],
      "text/plain": [
       "<IPython.core.display.HTML object>"
      ]
     },
     "metadata": {},
     "output_type": "display_data"
    },
    {
     "data": {
      "text/html": [
       " View project at <a href='https://wandb.ai/peng_sun/llm-2023-SGD-hyperparameter' target=\"_blank\">https://wandb.ai/peng_sun/llm-2023-SGD-hyperparameter</a>"
      ],
      "text/plain": [
       "<IPython.core.display.HTML object>"
      ]
     },
     "metadata": {},
     "output_type": "display_data"
    },
    {
     "data": {
      "text/html": [
       " View sweep at <a href='https://wandb.ai/peng_sun/llm-2023-SGD-hyperparameter/sweeps/wyi8yb2f' target=\"_blank\">https://wandb.ai/peng_sun/llm-2023-SGD-hyperparameter/sweeps/wyi8yb2f</a>"
      ],
      "text/plain": [
       "<IPython.core.display.HTML object>"
      ]
     },
     "metadata": {},
     "output_type": "display_data"
    },
    {
     "data": {
      "text/html": [
       " View run at <a href='https://wandb.ai/peng_sun/llm-2023-SGD-hyperparameter/runs/f0yzsxr9' target=\"_blank\">https://wandb.ai/peng_sun/llm-2023-SGD-hyperparameter/runs/f0yzsxr9</a>"
      ],
      "text/plain": [
       "<IPython.core.display.HTML object>"
      ]
     },
     "metadata": {},
     "output_type": "display_data"
    },
    {
     "data": {
      "text/html": [
       "Waiting for W&B process to finish... <strong style=\"color:green\">(success).</strong>"
      ],
      "text/plain": [
       "<IPython.core.display.HTML object>"
      ]
     },
     "metadata": {},
     "output_type": "display_data"
    },
    {
     "data": {
      "text/html": [
       "<style>\n",
       "    table.wandb td:nth-child(1) { padding: 0 10px; text-align: left ; width: auto;} td:nth-child(2) {text-align: left ; width: 100%}\n",
       "    .wandb-row { display: flex; flex-direction: row; flex-wrap: wrap; justify-content: flex-start; width: 100% }\n",
       "    .wandb-col { display: flex; flex-direction: column; flex-basis: 100%; flex: 1; padding: 10px; }\n",
       "    </style>\n",
       "<div class=\"wandb-row\"><div class=\"wandb-col\"><h3>Run history:</h3><br/><table class=\"wandb\"><tr><td>validatoin_auc</td><td>███▁█</td></tr></table><br/></div><div class=\"wandb-col\"><h3>Run summary:</h3><br/><table class=\"wandb\"><tr><td>validatoin_auc</td><td>0.99282</td></tr></table><br/></div></div>"
      ],
      "text/plain": [
       "<IPython.core.display.HTML object>"
      ]
     },
     "metadata": {},
     "output_type": "display_data"
    },
    {
     "data": {
      "text/html": [
       " View run <strong style=\"color:#cdcd00\">splendid-sweep-50</strong> at: <a href='https://wandb.ai/peng_sun/llm-2023-SGD-hyperparameter/runs/f0yzsxr9' target=\"_blank\">https://wandb.ai/peng_sun/llm-2023-SGD-hyperparameter/runs/f0yzsxr9</a><br/>Synced 5 W&B file(s), 0 media file(s), 0 artifact file(s) and 0 other file(s)"
      ],
      "text/plain": [
       "<IPython.core.display.HTML object>"
      ]
     },
     "metadata": {},
     "output_type": "display_data"
    },
    {
     "data": {
      "text/html": [
       "Find logs at: <code>./wandb/run-20240104_202859-f0yzsxr9/logs</code>"
      ],
      "text/plain": [
       "<IPython.core.display.HTML object>"
      ]
     },
     "metadata": {},
     "output_type": "display_data"
    },
    {
     "name": "stderr",
     "output_type": "stream",
     "text": [
      "\u001b[34m\u001b[1mwandb\u001b[0m: Sweep Agent: Waiting for job.\n",
      "\u001b[34m\u001b[1mwandb\u001b[0m: Job received.\n",
      "\u001b[34m\u001b[1mwandb\u001b[0m: Agent Starting Run: mz990mv7 with config:\n",
      "\u001b[34m\u001b[1mwandb\u001b[0m: \talpha: 0.0001942984922033114\n",
      "\u001b[34m\u001b[1mwandb\u001b[0m: \teta0: 0.03920528008157682\n",
      "\u001b[34m\u001b[1mwandb\u001b[0m: \tloss: modified_huber\n",
      "\u001b[34m\u001b[1mwandb\u001b[0m: \tmax_iter: 7542\n",
      "Failed to detect the name of this notebook, you can set it manually with the WANDB_NOTEBOOK_NAME environment variable to enable code saving.\n"
     ]
    },
    {
     "data": {
      "text/html": [
       "wandb version 0.16.1 is available!  To upgrade, please run:\n",
       " $ pip install wandb --upgrade"
      ],
      "text/plain": [
       "<IPython.core.display.HTML object>"
      ]
     },
     "metadata": {},
     "output_type": "display_data"
    },
    {
     "data": {
      "text/html": [
       "Tracking run with wandb version 0.15.11"
      ],
      "text/plain": [
       "<IPython.core.display.HTML object>"
      ]
     },
     "metadata": {},
     "output_type": "display_data"
    },
    {
     "data": {
      "text/html": [
       "Run data is saved locally in <code>/home/peng_sun2/workspace/llm-2023/wandb/run-20240104_202930-mz990mv7</code>"
      ],
      "text/plain": [
       "<IPython.core.display.HTML object>"
      ]
     },
     "metadata": {},
     "output_type": "display_data"
    },
    {
     "data": {
      "text/html": [
       "Syncing run <strong><a href='https://wandb.ai/peng_sun/llm-2023-SGD-hyperparameter/runs/mz990mv7' target=\"_blank\">dulcet-sweep-51</a></strong> to <a href='https://wandb.ai/peng_sun/llm-2023-SGD-hyperparameter' target=\"_blank\">Weights & Biases</a> (<a href='https://wandb.me/run' target=\"_blank\">docs</a>)<br/>Sweep page: <a href='https://wandb.ai/peng_sun/llm-2023-SGD-hyperparameter/sweeps/wyi8yb2f' target=\"_blank\">https://wandb.ai/peng_sun/llm-2023-SGD-hyperparameter/sweeps/wyi8yb2f</a>"
      ],
      "text/plain": [
       "<IPython.core.display.HTML object>"
      ]
     },
     "metadata": {},
     "output_type": "display_data"
    },
    {
     "data": {
      "text/html": [
       " View project at <a href='https://wandb.ai/peng_sun/llm-2023-SGD-hyperparameter' target=\"_blank\">https://wandb.ai/peng_sun/llm-2023-SGD-hyperparameter</a>"
      ],
      "text/plain": [
       "<IPython.core.display.HTML object>"
      ]
     },
     "metadata": {},
     "output_type": "display_data"
    },
    {
     "data": {
      "text/html": [
       " View sweep at <a href='https://wandb.ai/peng_sun/llm-2023-SGD-hyperparameter/sweeps/wyi8yb2f' target=\"_blank\">https://wandb.ai/peng_sun/llm-2023-SGD-hyperparameter/sweeps/wyi8yb2f</a>"
      ],
      "text/plain": [
       "<IPython.core.display.HTML object>"
      ]
     },
     "metadata": {},
     "output_type": "display_data"
    },
    {
     "data": {
      "text/html": [
       " View run at <a href='https://wandb.ai/peng_sun/llm-2023-SGD-hyperparameter/runs/mz990mv7' target=\"_blank\">https://wandb.ai/peng_sun/llm-2023-SGD-hyperparameter/runs/mz990mv7</a>"
      ],
      "text/plain": [
       "<IPython.core.display.HTML object>"
      ]
     },
     "metadata": {},
     "output_type": "display_data"
    },
    {
     "data": {
      "text/html": [
       "Waiting for W&B process to finish... <strong style=\"color:green\">(success).</strong>"
      ],
      "text/plain": [
       "<IPython.core.display.HTML object>"
      ]
     },
     "metadata": {},
     "output_type": "display_data"
    },
    {
     "data": {
      "text/html": [
       "<style>\n",
       "    table.wandb td:nth-child(1) { padding: 0 10px; text-align: left ; width: auto;} td:nth-child(2) {text-align: left ; width: 100%}\n",
       "    .wandb-row { display: flex; flex-direction: row; flex-wrap: wrap; justify-content: flex-start; width: 100% }\n",
       "    .wandb-col { display: flex; flex-direction: column; flex-basis: 100%; flex: 1; padding: 10px; }\n",
       "    </style>\n",
       "<div class=\"wandb-row\"><div class=\"wandb-col\"><h3>Run history:</h3><br/><table class=\"wandb\"><tr><td>validatoin_auc</td><td>███▁█</td></tr></table><br/></div><div class=\"wandb-col\"><h3>Run summary:</h3><br/><table class=\"wandb\"><tr><td>validatoin_auc</td><td>0.9933</td></tr></table><br/></div></div>"
      ],
      "text/plain": [
       "<IPython.core.display.HTML object>"
      ]
     },
     "metadata": {},
     "output_type": "display_data"
    },
    {
     "data": {
      "text/html": [
       " View run <strong style=\"color:#cdcd00\">dulcet-sweep-51</strong> at: <a href='https://wandb.ai/peng_sun/llm-2023-SGD-hyperparameter/runs/mz990mv7' target=\"_blank\">https://wandb.ai/peng_sun/llm-2023-SGD-hyperparameter/runs/mz990mv7</a><br/>Synced 5 W&B file(s), 0 media file(s), 0 artifact file(s) and 0 other file(s)"
      ],
      "text/plain": [
       "<IPython.core.display.HTML object>"
      ]
     },
     "metadata": {},
     "output_type": "display_data"
    },
    {
     "data": {
      "text/html": [
       "Find logs at: <code>./wandb/run-20240104_202930-mz990mv7/logs</code>"
      ],
      "text/plain": [
       "<IPython.core.display.HTML object>"
      ]
     },
     "metadata": {},
     "output_type": "display_data"
    },
    {
     "name": "stderr",
     "output_type": "stream",
     "text": [
      "\u001b[34m\u001b[1mwandb\u001b[0m: Agent Starting Run: xn4je8fd with config:\n",
      "\u001b[34m\u001b[1mwandb\u001b[0m: \talpha: 0.0002400500764770885\n",
      "\u001b[34m\u001b[1mwandb\u001b[0m: \teta0: 0.011558128681258084\n",
      "\u001b[34m\u001b[1mwandb\u001b[0m: \tloss: modified_huber\n",
      "\u001b[34m\u001b[1mwandb\u001b[0m: \tmax_iter: 9780\n",
      "Failed to detect the name of this notebook, you can set it manually with the WANDB_NOTEBOOK_NAME environment variable to enable code saving.\n"
     ]
    },
    {
     "data": {
      "text/html": [
       "wandb version 0.16.1 is available!  To upgrade, please run:\n",
       " $ pip install wandb --upgrade"
      ],
      "text/plain": [
       "<IPython.core.display.HTML object>"
      ]
     },
     "metadata": {},
     "output_type": "display_data"
    },
    {
     "data": {
      "text/html": [
       "Tracking run with wandb version 0.15.11"
      ],
      "text/plain": [
       "<IPython.core.display.HTML object>"
      ]
     },
     "metadata": {},
     "output_type": "display_data"
    },
    {
     "data": {
      "text/html": [
       "Run data is saved locally in <code>/home/peng_sun2/workspace/llm-2023/wandb/run-20240104_202955-xn4je8fd</code>"
      ],
      "text/plain": [
       "<IPython.core.display.HTML object>"
      ]
     },
     "metadata": {},
     "output_type": "display_data"
    },
    {
     "data": {
      "text/html": [
       "Syncing run <strong><a href='https://wandb.ai/peng_sun/llm-2023-SGD-hyperparameter/runs/xn4je8fd' target=\"_blank\">generous-sweep-52</a></strong> to <a href='https://wandb.ai/peng_sun/llm-2023-SGD-hyperparameter' target=\"_blank\">Weights & Biases</a> (<a href='https://wandb.me/run' target=\"_blank\">docs</a>)<br/>Sweep page: <a href='https://wandb.ai/peng_sun/llm-2023-SGD-hyperparameter/sweeps/wyi8yb2f' target=\"_blank\">https://wandb.ai/peng_sun/llm-2023-SGD-hyperparameter/sweeps/wyi8yb2f</a>"
      ],
      "text/plain": [
       "<IPython.core.display.HTML object>"
      ]
     },
     "metadata": {},
     "output_type": "display_data"
    },
    {
     "data": {
      "text/html": [
       " View project at <a href='https://wandb.ai/peng_sun/llm-2023-SGD-hyperparameter' target=\"_blank\">https://wandb.ai/peng_sun/llm-2023-SGD-hyperparameter</a>"
      ],
      "text/plain": [
       "<IPython.core.display.HTML object>"
      ]
     },
     "metadata": {},
     "output_type": "display_data"
    },
    {
     "data": {
      "text/html": [
       " View sweep at <a href='https://wandb.ai/peng_sun/llm-2023-SGD-hyperparameter/sweeps/wyi8yb2f' target=\"_blank\">https://wandb.ai/peng_sun/llm-2023-SGD-hyperparameter/sweeps/wyi8yb2f</a>"
      ],
      "text/plain": [
       "<IPython.core.display.HTML object>"
      ]
     },
     "metadata": {},
     "output_type": "display_data"
    },
    {
     "data": {
      "text/html": [
       " View run at <a href='https://wandb.ai/peng_sun/llm-2023-SGD-hyperparameter/runs/xn4je8fd' target=\"_blank\">https://wandb.ai/peng_sun/llm-2023-SGD-hyperparameter/runs/xn4je8fd</a>"
      ],
      "text/plain": [
       "<IPython.core.display.HTML object>"
      ]
     },
     "metadata": {},
     "output_type": "display_data"
    },
    {
     "data": {
      "text/html": [
       "Waiting for W&B process to finish... <strong style=\"color:green\">(success).</strong>"
      ],
      "text/plain": [
       "<IPython.core.display.HTML object>"
      ]
     },
     "metadata": {},
     "output_type": "display_data"
    },
    {
     "data": {
      "text/html": [
       "<style>\n",
       "    table.wandb td:nth-child(1) { padding: 0 10px; text-align: left ; width: auto;} td:nth-child(2) {text-align: left ; width: 100%}\n",
       "    .wandb-row { display: flex; flex-direction: row; flex-wrap: wrap; justify-content: flex-start; width: 100% }\n",
       "    .wandb-col { display: flex; flex-direction: column; flex-basis: 100%; flex: 1; padding: 10px; }\n",
       "    </style>\n",
       "<div class=\"wandb-row\"><div class=\"wandb-col\"><h3>Run history:</h3><br/><table class=\"wandb\"><tr><td>validatoin_auc</td><td>███▁█</td></tr></table><br/></div><div class=\"wandb-col\"><h3>Run summary:</h3><br/><table class=\"wandb\"><tr><td>validatoin_auc</td><td>0.99304</td></tr></table><br/></div></div>"
      ],
      "text/plain": [
       "<IPython.core.display.HTML object>"
      ]
     },
     "metadata": {},
     "output_type": "display_data"
    },
    {
     "data": {
      "text/html": [
       " View run <strong style=\"color:#cdcd00\">generous-sweep-52</strong> at: <a href='https://wandb.ai/peng_sun/llm-2023-SGD-hyperparameter/runs/xn4je8fd' target=\"_blank\">https://wandb.ai/peng_sun/llm-2023-SGD-hyperparameter/runs/xn4je8fd</a><br/>Synced 5 W&B file(s), 0 media file(s), 0 artifact file(s) and 0 other file(s)"
      ],
      "text/plain": [
       "<IPython.core.display.HTML object>"
      ]
     },
     "metadata": {},
     "output_type": "display_data"
    },
    {
     "data": {
      "text/html": [
       "Find logs at: <code>./wandb/run-20240104_202955-xn4je8fd/logs</code>"
      ],
      "text/plain": [
       "<IPython.core.display.HTML object>"
      ]
     },
     "metadata": {},
     "output_type": "display_data"
    },
    {
     "name": "stderr",
     "output_type": "stream",
     "text": [
      "\u001b[34m\u001b[1mwandb\u001b[0m: Sweep Agent: Waiting for job.\n",
      "\u001b[34m\u001b[1mwandb\u001b[0m: Job received.\n",
      "\u001b[34m\u001b[1mwandb\u001b[0m: Agent Starting Run: sfpulnyn with config:\n",
      "\u001b[34m\u001b[1mwandb\u001b[0m: \talpha: 0.00010552599574764209\n",
      "\u001b[34m\u001b[1mwandb\u001b[0m: \teta0: 0.08447490262829926\n",
      "\u001b[34m\u001b[1mwandb\u001b[0m: \tloss: modified_huber\n",
      "\u001b[34m\u001b[1mwandb\u001b[0m: \tmax_iter: 3508\n",
      "Failed to detect the name of this notebook, you can set it manually with the WANDB_NOTEBOOK_NAME environment variable to enable code saving.\n"
     ]
    },
    {
     "data": {
      "text/html": [
       "wandb version 0.16.1 is available!  To upgrade, please run:\n",
       " $ pip install wandb --upgrade"
      ],
      "text/plain": [
       "<IPython.core.display.HTML object>"
      ]
     },
     "metadata": {},
     "output_type": "display_data"
    },
    {
     "data": {
      "text/html": [
       "Tracking run with wandb version 0.15.11"
      ],
      "text/plain": [
       "<IPython.core.display.HTML object>"
      ]
     },
     "metadata": {},
     "output_type": "display_data"
    },
    {
     "data": {
      "text/html": [
       "Run data is saved locally in <code>/home/peng_sun2/workspace/llm-2023/wandb/run-20240104_203026-sfpulnyn</code>"
      ],
      "text/plain": [
       "<IPython.core.display.HTML object>"
      ]
     },
     "metadata": {},
     "output_type": "display_data"
    },
    {
     "data": {
      "text/html": [
       "Syncing run <strong><a href='https://wandb.ai/peng_sun/llm-2023-SGD-hyperparameter/runs/sfpulnyn' target=\"_blank\">fallen-sweep-53</a></strong> to <a href='https://wandb.ai/peng_sun/llm-2023-SGD-hyperparameter' target=\"_blank\">Weights & Biases</a> (<a href='https://wandb.me/run' target=\"_blank\">docs</a>)<br/>Sweep page: <a href='https://wandb.ai/peng_sun/llm-2023-SGD-hyperparameter/sweeps/wyi8yb2f' target=\"_blank\">https://wandb.ai/peng_sun/llm-2023-SGD-hyperparameter/sweeps/wyi8yb2f</a>"
      ],
      "text/plain": [
       "<IPython.core.display.HTML object>"
      ]
     },
     "metadata": {},
     "output_type": "display_data"
    },
    {
     "data": {
      "text/html": [
       " View project at <a href='https://wandb.ai/peng_sun/llm-2023-SGD-hyperparameter' target=\"_blank\">https://wandb.ai/peng_sun/llm-2023-SGD-hyperparameter</a>"
      ],
      "text/plain": [
       "<IPython.core.display.HTML object>"
      ]
     },
     "metadata": {},
     "output_type": "display_data"
    },
    {
     "data": {
      "text/html": [
       " View sweep at <a href='https://wandb.ai/peng_sun/llm-2023-SGD-hyperparameter/sweeps/wyi8yb2f' target=\"_blank\">https://wandb.ai/peng_sun/llm-2023-SGD-hyperparameter/sweeps/wyi8yb2f</a>"
      ],
      "text/plain": [
       "<IPython.core.display.HTML object>"
      ]
     },
     "metadata": {},
     "output_type": "display_data"
    },
    {
     "data": {
      "text/html": [
       " View run at <a href='https://wandb.ai/peng_sun/llm-2023-SGD-hyperparameter/runs/sfpulnyn' target=\"_blank\">https://wandb.ai/peng_sun/llm-2023-SGD-hyperparameter/runs/sfpulnyn</a>"
      ],
      "text/plain": [
       "<IPython.core.display.HTML object>"
      ]
     },
     "metadata": {},
     "output_type": "display_data"
    },
    {
     "data": {
      "text/html": [
       "Waiting for W&B process to finish... <strong style=\"color:green\">(success).</strong>"
      ],
      "text/plain": [
       "<IPython.core.display.HTML object>"
      ]
     },
     "metadata": {},
     "output_type": "display_data"
    },
    {
     "data": {
      "text/html": [
       "<style>\n",
       "    table.wandb td:nth-child(1) { padding: 0 10px; text-align: left ; width: auto;} td:nth-child(2) {text-align: left ; width: 100%}\n",
       "    .wandb-row { display: flex; flex-direction: row; flex-wrap: wrap; justify-content: flex-start; width: 100% }\n",
       "    .wandb-col { display: flex; flex-direction: column; flex-basis: 100%; flex: 1; padding: 10px; }\n",
       "    </style>\n",
       "<div class=\"wandb-row\"><div class=\"wandb-col\"><h3>Run history:</h3><br/><table class=\"wandb\"><tr><td>validatoin_auc</td><td>███▁█</td></tr></table><br/></div><div class=\"wandb-col\"><h3>Run summary:</h3><br/><table class=\"wandb\"><tr><td>validatoin_auc</td><td>0.99436</td></tr></table><br/></div></div>"
      ],
      "text/plain": [
       "<IPython.core.display.HTML object>"
      ]
     },
     "metadata": {},
     "output_type": "display_data"
    },
    {
     "data": {
      "text/html": [
       " View run <strong style=\"color:#cdcd00\">fallen-sweep-53</strong> at: <a href='https://wandb.ai/peng_sun/llm-2023-SGD-hyperparameter/runs/sfpulnyn' target=\"_blank\">https://wandb.ai/peng_sun/llm-2023-SGD-hyperparameter/runs/sfpulnyn</a><br/>Synced 5 W&B file(s), 0 media file(s), 0 artifact file(s) and 0 other file(s)"
      ],
      "text/plain": [
       "<IPython.core.display.HTML object>"
      ]
     },
     "metadata": {},
     "output_type": "display_data"
    },
    {
     "data": {
      "text/html": [
       "Find logs at: <code>./wandb/run-20240104_203026-sfpulnyn/logs</code>"
      ],
      "text/plain": [
       "<IPython.core.display.HTML object>"
      ]
     },
     "metadata": {},
     "output_type": "display_data"
    },
    {
     "name": "stderr",
     "output_type": "stream",
     "text": [
      "\u001b[34m\u001b[1mwandb\u001b[0m: Sweep Agent: Waiting for job.\n",
      "\u001b[34m\u001b[1mwandb\u001b[0m: Job received.\n",
      "\u001b[34m\u001b[1mwandb\u001b[0m: Agent Starting Run: jwlhohmv with config:\n",
      "\u001b[34m\u001b[1mwandb\u001b[0m: \talpha: 0.00013970300542729853\n",
      "\u001b[34m\u001b[1mwandb\u001b[0m: \teta0: 0.09414803810054503\n",
      "\u001b[34m\u001b[1mwandb\u001b[0m: \tloss: modified_huber\n",
      "\u001b[34m\u001b[1mwandb\u001b[0m: \tmax_iter: 1187\n",
      "Failed to detect the name of this notebook, you can set it manually with the WANDB_NOTEBOOK_NAME environment variable to enable code saving.\n"
     ]
    },
    {
     "data": {
      "text/html": [
       "wandb version 0.16.1 is available!  To upgrade, please run:\n",
       " $ pip install wandb --upgrade"
      ],
      "text/plain": [
       "<IPython.core.display.HTML object>"
      ]
     },
     "metadata": {},
     "output_type": "display_data"
    },
    {
     "data": {
      "text/html": [
       "Tracking run with wandb version 0.15.11"
      ],
      "text/plain": [
       "<IPython.core.display.HTML object>"
      ]
     },
     "metadata": {},
     "output_type": "display_data"
    },
    {
     "data": {
      "text/html": [
       "Run data is saved locally in <code>/home/peng_sun2/workspace/llm-2023/wandb/run-20240104_203057-jwlhohmv</code>"
      ],
      "text/plain": [
       "<IPython.core.display.HTML object>"
      ]
     },
     "metadata": {},
     "output_type": "display_data"
    },
    {
     "data": {
      "text/html": [
       "Syncing run <strong><a href='https://wandb.ai/peng_sun/llm-2023-SGD-hyperparameter/runs/jwlhohmv' target=\"_blank\">royal-sweep-54</a></strong> to <a href='https://wandb.ai/peng_sun/llm-2023-SGD-hyperparameter' target=\"_blank\">Weights & Biases</a> (<a href='https://wandb.me/run' target=\"_blank\">docs</a>)<br/>Sweep page: <a href='https://wandb.ai/peng_sun/llm-2023-SGD-hyperparameter/sweeps/wyi8yb2f' target=\"_blank\">https://wandb.ai/peng_sun/llm-2023-SGD-hyperparameter/sweeps/wyi8yb2f</a>"
      ],
      "text/plain": [
       "<IPython.core.display.HTML object>"
      ]
     },
     "metadata": {},
     "output_type": "display_data"
    },
    {
     "data": {
      "text/html": [
       " View project at <a href='https://wandb.ai/peng_sun/llm-2023-SGD-hyperparameter' target=\"_blank\">https://wandb.ai/peng_sun/llm-2023-SGD-hyperparameter</a>"
      ],
      "text/plain": [
       "<IPython.core.display.HTML object>"
      ]
     },
     "metadata": {},
     "output_type": "display_data"
    },
    {
     "data": {
      "text/html": [
       " View sweep at <a href='https://wandb.ai/peng_sun/llm-2023-SGD-hyperparameter/sweeps/wyi8yb2f' target=\"_blank\">https://wandb.ai/peng_sun/llm-2023-SGD-hyperparameter/sweeps/wyi8yb2f</a>"
      ],
      "text/plain": [
       "<IPython.core.display.HTML object>"
      ]
     },
     "metadata": {},
     "output_type": "display_data"
    },
    {
     "data": {
      "text/html": [
       " View run at <a href='https://wandb.ai/peng_sun/llm-2023-SGD-hyperparameter/runs/jwlhohmv' target=\"_blank\">https://wandb.ai/peng_sun/llm-2023-SGD-hyperparameter/runs/jwlhohmv</a>"
      ],
      "text/plain": [
       "<IPython.core.display.HTML object>"
      ]
     },
     "metadata": {},
     "output_type": "display_data"
    },
    {
     "data": {
      "text/html": [
       "Waiting for W&B process to finish... <strong style=\"color:green\">(success).</strong>"
      ],
      "text/plain": [
       "<IPython.core.display.HTML object>"
      ]
     },
     "metadata": {},
     "output_type": "display_data"
    },
    {
     "data": {
      "text/html": [
       "<style>\n",
       "    table.wandb td:nth-child(1) { padding: 0 10px; text-align: left ; width: auto;} td:nth-child(2) {text-align: left ; width: 100%}\n",
       "    .wandb-row { display: flex; flex-direction: row; flex-wrap: wrap; justify-content: flex-start; width: 100% }\n",
       "    .wandb-col { display: flex; flex-direction: column; flex-basis: 100%; flex: 1; padding: 10px; }\n",
       "    </style>\n",
       "<div class=\"wandb-row\"><div class=\"wandb-col\"><h3>Run history:</h3><br/><table class=\"wandb\"><tr><td>validatoin_auc</td><td>███▁█</td></tr></table><br/></div><div class=\"wandb-col\"><h3>Run summary:</h3><br/><table class=\"wandb\"><tr><td>validatoin_auc</td><td>0.99386</td></tr></table><br/></div></div>"
      ],
      "text/plain": [
       "<IPython.core.display.HTML object>"
      ]
     },
     "metadata": {},
     "output_type": "display_data"
    },
    {
     "data": {
      "text/html": [
       " View run <strong style=\"color:#cdcd00\">royal-sweep-54</strong> at: <a href='https://wandb.ai/peng_sun/llm-2023-SGD-hyperparameter/runs/jwlhohmv' target=\"_blank\">https://wandb.ai/peng_sun/llm-2023-SGD-hyperparameter/runs/jwlhohmv</a><br/>Synced 5 W&B file(s), 0 media file(s), 0 artifact file(s) and 0 other file(s)"
      ],
      "text/plain": [
       "<IPython.core.display.HTML object>"
      ]
     },
     "metadata": {},
     "output_type": "display_data"
    },
    {
     "data": {
      "text/html": [
       "Find logs at: <code>./wandb/run-20240104_203057-jwlhohmv/logs</code>"
      ],
      "text/plain": [
       "<IPython.core.display.HTML object>"
      ]
     },
     "metadata": {},
     "output_type": "display_data"
    },
    {
     "name": "stderr",
     "output_type": "stream",
     "text": [
      "\u001b[34m\u001b[1mwandb\u001b[0m: Agent Starting Run: z8ukb5kf with config:\n",
      "\u001b[34m\u001b[1mwandb\u001b[0m: \talpha: 0.0002033950576317482\n",
      "\u001b[34m\u001b[1mwandb\u001b[0m: \teta0: 0.011657161317038102\n",
      "\u001b[34m\u001b[1mwandb\u001b[0m: \tloss: modified_huber\n",
      "\u001b[34m\u001b[1mwandb\u001b[0m: \tmax_iter: 6379\n",
      "Failed to detect the name of this notebook, you can set it manually with the WANDB_NOTEBOOK_NAME environment variable to enable code saving.\n"
     ]
    },
    {
     "data": {
      "text/html": [
       "wandb version 0.16.1 is available!  To upgrade, please run:\n",
       " $ pip install wandb --upgrade"
      ],
      "text/plain": [
       "<IPython.core.display.HTML object>"
      ]
     },
     "metadata": {},
     "output_type": "display_data"
    },
    {
     "data": {
      "text/html": [
       "Tracking run with wandb version 0.15.11"
      ],
      "text/plain": [
       "<IPython.core.display.HTML object>"
      ]
     },
     "metadata": {},
     "output_type": "display_data"
    },
    {
     "data": {
      "text/html": [
       "Run data is saved locally in <code>/home/peng_sun2/workspace/llm-2023/wandb/run-20240104_203123-z8ukb5kf</code>"
      ],
      "text/plain": [
       "<IPython.core.display.HTML object>"
      ]
     },
     "metadata": {},
     "output_type": "display_data"
    },
    {
     "data": {
      "text/html": [
       "Syncing run <strong><a href='https://wandb.ai/peng_sun/llm-2023-SGD-hyperparameter/runs/z8ukb5kf' target=\"_blank\">sparkling-sweep-55</a></strong> to <a href='https://wandb.ai/peng_sun/llm-2023-SGD-hyperparameter' target=\"_blank\">Weights & Biases</a> (<a href='https://wandb.me/run' target=\"_blank\">docs</a>)<br/>Sweep page: <a href='https://wandb.ai/peng_sun/llm-2023-SGD-hyperparameter/sweeps/wyi8yb2f' target=\"_blank\">https://wandb.ai/peng_sun/llm-2023-SGD-hyperparameter/sweeps/wyi8yb2f</a>"
      ],
      "text/plain": [
       "<IPython.core.display.HTML object>"
      ]
     },
     "metadata": {},
     "output_type": "display_data"
    },
    {
     "data": {
      "text/html": [
       " View project at <a href='https://wandb.ai/peng_sun/llm-2023-SGD-hyperparameter' target=\"_blank\">https://wandb.ai/peng_sun/llm-2023-SGD-hyperparameter</a>"
      ],
      "text/plain": [
       "<IPython.core.display.HTML object>"
      ]
     },
     "metadata": {},
     "output_type": "display_data"
    },
    {
     "data": {
      "text/html": [
       " View sweep at <a href='https://wandb.ai/peng_sun/llm-2023-SGD-hyperparameter/sweeps/wyi8yb2f' target=\"_blank\">https://wandb.ai/peng_sun/llm-2023-SGD-hyperparameter/sweeps/wyi8yb2f</a>"
      ],
      "text/plain": [
       "<IPython.core.display.HTML object>"
      ]
     },
     "metadata": {},
     "output_type": "display_data"
    },
    {
     "data": {
      "text/html": [
       " View run at <a href='https://wandb.ai/peng_sun/llm-2023-SGD-hyperparameter/runs/z8ukb5kf' target=\"_blank\">https://wandb.ai/peng_sun/llm-2023-SGD-hyperparameter/runs/z8ukb5kf</a>"
      ],
      "text/plain": [
       "<IPython.core.display.HTML object>"
      ]
     },
     "metadata": {},
     "output_type": "display_data"
    },
    {
     "data": {
      "text/html": [
       "Waiting for W&B process to finish... <strong style=\"color:green\">(success).</strong>"
      ],
      "text/plain": [
       "<IPython.core.display.HTML object>"
      ]
     },
     "metadata": {},
     "output_type": "display_data"
    },
    {
     "data": {
      "text/html": [
       "<style>\n",
       "    table.wandb td:nth-child(1) { padding: 0 10px; text-align: left ; width: auto;} td:nth-child(2) {text-align: left ; width: 100%}\n",
       "    .wandb-row { display: flex; flex-direction: row; flex-wrap: wrap; justify-content: flex-start; width: 100% }\n",
       "    .wandb-col { display: flex; flex-direction: column; flex-basis: 100%; flex: 1; padding: 10px; }\n",
       "    </style>\n",
       "<div class=\"wandb-row\"><div class=\"wandb-col\"><h3>Run history:</h3><br/><table class=\"wandb\"><tr><td>validatoin_auc</td><td>███▁█</td></tr></table><br/></div><div class=\"wandb-col\"><h3>Run summary:</h3><br/><table class=\"wandb\"><tr><td>validatoin_auc</td><td>0.99329</td></tr></table><br/></div></div>"
      ],
      "text/plain": [
       "<IPython.core.display.HTML object>"
      ]
     },
     "metadata": {},
     "output_type": "display_data"
    },
    {
     "data": {
      "text/html": [
       " View run <strong style=\"color:#cdcd00\">sparkling-sweep-55</strong> at: <a href='https://wandb.ai/peng_sun/llm-2023-SGD-hyperparameter/runs/z8ukb5kf' target=\"_blank\">https://wandb.ai/peng_sun/llm-2023-SGD-hyperparameter/runs/z8ukb5kf</a><br/>Synced 5 W&B file(s), 0 media file(s), 0 artifact file(s) and 0 other file(s)"
      ],
      "text/plain": [
       "<IPython.core.display.HTML object>"
      ]
     },
     "metadata": {},
     "output_type": "display_data"
    },
    {
     "data": {
      "text/html": [
       "Find logs at: <code>./wandb/run-20240104_203123-z8ukb5kf/logs</code>"
      ],
      "text/plain": [
       "<IPython.core.display.HTML object>"
      ]
     },
     "metadata": {},
     "output_type": "display_data"
    },
    {
     "name": "stderr",
     "output_type": "stream",
     "text": [
      "\u001b[34m\u001b[1mwandb\u001b[0m: Sweep Agent: Waiting for job.\n",
      "\u001b[34m\u001b[1mwandb\u001b[0m: Job received.\n",
      "\u001b[34m\u001b[1mwandb\u001b[0m: Agent Starting Run: tmvhbdl5 with config:\n",
      "\u001b[34m\u001b[1mwandb\u001b[0m: \talpha: 0.00020699602167362593\n",
      "\u001b[34m\u001b[1mwandb\u001b[0m: \teta0: 0.04379089650050421\n",
      "\u001b[34m\u001b[1mwandb\u001b[0m: \tloss: modified_huber\n",
      "\u001b[34m\u001b[1mwandb\u001b[0m: \tmax_iter: 6974\n",
      "Failed to detect the name of this notebook, you can set it manually with the WANDB_NOTEBOOK_NAME environment variable to enable code saving.\n"
     ]
    },
    {
     "data": {
      "text/html": [
       "wandb version 0.16.1 is available!  To upgrade, please run:\n",
       " $ pip install wandb --upgrade"
      ],
      "text/plain": [
       "<IPython.core.display.HTML object>"
      ]
     },
     "metadata": {},
     "output_type": "display_data"
    },
    {
     "data": {
      "text/html": [
       "Tracking run with wandb version 0.15.11"
      ],
      "text/plain": [
       "<IPython.core.display.HTML object>"
      ]
     },
     "metadata": {},
     "output_type": "display_data"
    },
    {
     "data": {
      "text/html": [
       "Run data is saved locally in <code>/home/peng_sun2/workspace/llm-2023/wandb/run-20240104_203154-tmvhbdl5</code>"
      ],
      "text/plain": [
       "<IPython.core.display.HTML object>"
      ]
     },
     "metadata": {},
     "output_type": "display_data"
    },
    {
     "data": {
      "text/html": [
       "Syncing run <strong><a href='https://wandb.ai/peng_sun/llm-2023-SGD-hyperparameter/runs/tmvhbdl5' target=\"_blank\">fresh-sweep-56</a></strong> to <a href='https://wandb.ai/peng_sun/llm-2023-SGD-hyperparameter' target=\"_blank\">Weights & Biases</a> (<a href='https://wandb.me/run' target=\"_blank\">docs</a>)<br/>Sweep page: <a href='https://wandb.ai/peng_sun/llm-2023-SGD-hyperparameter/sweeps/wyi8yb2f' target=\"_blank\">https://wandb.ai/peng_sun/llm-2023-SGD-hyperparameter/sweeps/wyi8yb2f</a>"
      ],
      "text/plain": [
       "<IPython.core.display.HTML object>"
      ]
     },
     "metadata": {},
     "output_type": "display_data"
    },
    {
     "data": {
      "text/html": [
       " View project at <a href='https://wandb.ai/peng_sun/llm-2023-SGD-hyperparameter' target=\"_blank\">https://wandb.ai/peng_sun/llm-2023-SGD-hyperparameter</a>"
      ],
      "text/plain": [
       "<IPython.core.display.HTML object>"
      ]
     },
     "metadata": {},
     "output_type": "display_data"
    },
    {
     "data": {
      "text/html": [
       " View sweep at <a href='https://wandb.ai/peng_sun/llm-2023-SGD-hyperparameter/sweeps/wyi8yb2f' target=\"_blank\">https://wandb.ai/peng_sun/llm-2023-SGD-hyperparameter/sweeps/wyi8yb2f</a>"
      ],
      "text/plain": [
       "<IPython.core.display.HTML object>"
      ]
     },
     "metadata": {},
     "output_type": "display_data"
    },
    {
     "data": {
      "text/html": [
       " View run at <a href='https://wandb.ai/peng_sun/llm-2023-SGD-hyperparameter/runs/tmvhbdl5' target=\"_blank\">https://wandb.ai/peng_sun/llm-2023-SGD-hyperparameter/runs/tmvhbdl5</a>"
      ],
      "text/plain": [
       "<IPython.core.display.HTML object>"
      ]
     },
     "metadata": {},
     "output_type": "display_data"
    },
    {
     "data": {
      "text/html": [
       "Waiting for W&B process to finish... <strong style=\"color:green\">(success).</strong>"
      ],
      "text/plain": [
       "<IPython.core.display.HTML object>"
      ]
     },
     "metadata": {},
     "output_type": "display_data"
    },
    {
     "data": {
      "text/html": [
       "<style>\n",
       "    table.wandb td:nth-child(1) { padding: 0 10px; text-align: left ; width: auto;} td:nth-child(2) {text-align: left ; width: 100%}\n",
       "    .wandb-row { display: flex; flex-direction: row; flex-wrap: wrap; justify-content: flex-start; width: 100% }\n",
       "    .wandb-col { display: flex; flex-direction: column; flex-basis: 100%; flex: 1; padding: 10px; }\n",
       "    </style>\n",
       "<div class=\"wandb-row\"><div class=\"wandb-col\"><h3>Run history:</h3><br/><table class=\"wandb\"><tr><td>validatoin_auc</td><td>███▁█</td></tr></table><br/></div><div class=\"wandb-col\"><h3>Run summary:</h3><br/><table class=\"wandb\"><tr><td>validatoin_auc</td><td>0.99337</td></tr></table><br/></div></div>"
      ],
      "text/plain": [
       "<IPython.core.display.HTML object>"
      ]
     },
     "metadata": {},
     "output_type": "display_data"
    },
    {
     "data": {
      "text/html": [
       " View run <strong style=\"color:#cdcd00\">fresh-sweep-56</strong> at: <a href='https://wandb.ai/peng_sun/llm-2023-SGD-hyperparameter/runs/tmvhbdl5' target=\"_blank\">https://wandb.ai/peng_sun/llm-2023-SGD-hyperparameter/runs/tmvhbdl5</a><br/>Synced 5 W&B file(s), 0 media file(s), 0 artifact file(s) and 0 other file(s)"
      ],
      "text/plain": [
       "<IPython.core.display.HTML object>"
      ]
     },
     "metadata": {},
     "output_type": "display_data"
    },
    {
     "data": {
      "text/html": [
       "Find logs at: <code>./wandb/run-20240104_203154-tmvhbdl5/logs</code>"
      ],
      "text/plain": [
       "<IPython.core.display.HTML object>"
      ]
     },
     "metadata": {},
     "output_type": "display_data"
    },
    {
     "name": "stderr",
     "output_type": "stream",
     "text": [
      "\u001b[34m\u001b[1mwandb\u001b[0m: Agent Starting Run: g2mxqg5s with config:\n",
      "\u001b[34m\u001b[1mwandb\u001b[0m: \talpha: 0.0001504778540293487\n",
      "\u001b[34m\u001b[1mwandb\u001b[0m: \teta0: 0.08008211456597814\n",
      "\u001b[34m\u001b[1mwandb\u001b[0m: \tloss: modified_huber\n",
      "\u001b[34m\u001b[1mwandb\u001b[0m: \tmax_iter: 3314\n",
      "Failed to detect the name of this notebook, you can set it manually with the WANDB_NOTEBOOK_NAME environment variable to enable code saving.\n"
     ]
    },
    {
     "data": {
      "text/html": [
       "wandb version 0.16.1 is available!  To upgrade, please run:\n",
       " $ pip install wandb --upgrade"
      ],
      "text/plain": [
       "<IPython.core.display.HTML object>"
      ]
     },
     "metadata": {},
     "output_type": "display_data"
    },
    {
     "data": {
      "text/html": [
       "Tracking run with wandb version 0.15.11"
      ],
      "text/plain": [
       "<IPython.core.display.HTML object>"
      ]
     },
     "metadata": {},
     "output_type": "display_data"
    },
    {
     "data": {
      "text/html": [
       "Run data is saved locally in <code>/home/peng_sun2/workspace/llm-2023/wandb/run-20240104_203219-g2mxqg5s</code>"
      ],
      "text/plain": [
       "<IPython.core.display.HTML object>"
      ]
     },
     "metadata": {},
     "output_type": "display_data"
    },
    {
     "data": {
      "text/html": [
       "Syncing run <strong><a href='https://wandb.ai/peng_sun/llm-2023-SGD-hyperparameter/runs/g2mxqg5s' target=\"_blank\">skilled-sweep-57</a></strong> to <a href='https://wandb.ai/peng_sun/llm-2023-SGD-hyperparameter' target=\"_blank\">Weights & Biases</a> (<a href='https://wandb.me/run' target=\"_blank\">docs</a>)<br/>Sweep page: <a href='https://wandb.ai/peng_sun/llm-2023-SGD-hyperparameter/sweeps/wyi8yb2f' target=\"_blank\">https://wandb.ai/peng_sun/llm-2023-SGD-hyperparameter/sweeps/wyi8yb2f</a>"
      ],
      "text/plain": [
       "<IPython.core.display.HTML object>"
      ]
     },
     "metadata": {},
     "output_type": "display_data"
    },
    {
     "data": {
      "text/html": [
       " View project at <a href='https://wandb.ai/peng_sun/llm-2023-SGD-hyperparameter' target=\"_blank\">https://wandb.ai/peng_sun/llm-2023-SGD-hyperparameter</a>"
      ],
      "text/plain": [
       "<IPython.core.display.HTML object>"
      ]
     },
     "metadata": {},
     "output_type": "display_data"
    },
    {
     "data": {
      "text/html": [
       " View sweep at <a href='https://wandb.ai/peng_sun/llm-2023-SGD-hyperparameter/sweeps/wyi8yb2f' target=\"_blank\">https://wandb.ai/peng_sun/llm-2023-SGD-hyperparameter/sweeps/wyi8yb2f</a>"
      ],
      "text/plain": [
       "<IPython.core.display.HTML object>"
      ]
     },
     "metadata": {},
     "output_type": "display_data"
    },
    {
     "data": {
      "text/html": [
       " View run at <a href='https://wandb.ai/peng_sun/llm-2023-SGD-hyperparameter/runs/g2mxqg5s' target=\"_blank\">https://wandb.ai/peng_sun/llm-2023-SGD-hyperparameter/runs/g2mxqg5s</a>"
      ],
      "text/plain": [
       "<IPython.core.display.HTML object>"
      ]
     },
     "metadata": {},
     "output_type": "display_data"
    },
    {
     "data": {
      "text/html": [
       "Waiting for W&B process to finish... <strong style=\"color:green\">(success).</strong>"
      ],
      "text/plain": [
       "<IPython.core.display.HTML object>"
      ]
     },
     "metadata": {},
     "output_type": "display_data"
    },
    {
     "data": {
      "text/html": [
       "<style>\n",
       "    table.wandb td:nth-child(1) { padding: 0 10px; text-align: left ; width: auto;} td:nth-child(2) {text-align: left ; width: 100%}\n",
       "    .wandb-row { display: flex; flex-direction: row; flex-wrap: wrap; justify-content: flex-start; width: 100% }\n",
       "    .wandb-col { display: flex; flex-direction: column; flex-basis: 100%; flex: 1; padding: 10px; }\n",
       "    </style>\n",
       "<div class=\"wandb-row\"><div class=\"wandb-col\"><h3>Run history:</h3><br/><table class=\"wandb\"><tr><td>validatoin_auc</td><td>███▁█</td></tr></table><br/></div><div class=\"wandb-col\"><h3>Run summary:</h3><br/><table class=\"wandb\"><tr><td>validatoin_auc</td><td>0.99379</td></tr></table><br/></div></div>"
      ],
      "text/plain": [
       "<IPython.core.display.HTML object>"
      ]
     },
     "metadata": {},
     "output_type": "display_data"
    },
    {
     "data": {
      "text/html": [
       " View run <strong style=\"color:#cdcd00\">skilled-sweep-57</strong> at: <a href='https://wandb.ai/peng_sun/llm-2023-SGD-hyperparameter/runs/g2mxqg5s' target=\"_blank\">https://wandb.ai/peng_sun/llm-2023-SGD-hyperparameter/runs/g2mxqg5s</a><br/>Synced 5 W&B file(s), 0 media file(s), 0 artifact file(s) and 0 other file(s)"
      ],
      "text/plain": [
       "<IPython.core.display.HTML object>"
      ]
     },
     "metadata": {},
     "output_type": "display_data"
    },
    {
     "data": {
      "text/html": [
       "Find logs at: <code>./wandb/run-20240104_203219-g2mxqg5s/logs</code>"
      ],
      "text/plain": [
       "<IPython.core.display.HTML object>"
      ]
     },
     "metadata": {},
     "output_type": "display_data"
    },
    {
     "name": "stderr",
     "output_type": "stream",
     "text": [
      "\u001b[34m\u001b[1mwandb\u001b[0m: Sweep Agent: Waiting for job.\n",
      "\u001b[34m\u001b[1mwandb\u001b[0m: Job received.\n",
      "\u001b[34m\u001b[1mwandb\u001b[0m: Agent Starting Run: me73te5i with config:\n",
      "\u001b[34m\u001b[1mwandb\u001b[0m: \talpha: 0.0003219494001023954\n",
      "\u001b[34m\u001b[1mwandb\u001b[0m: \teta0: 0.02227227268316469\n",
      "\u001b[34m\u001b[1mwandb\u001b[0m: \tloss: modified_huber\n",
      "\u001b[34m\u001b[1mwandb\u001b[0m: \tmax_iter: 8638\n",
      "Failed to detect the name of this notebook, you can set it manually with the WANDB_NOTEBOOK_NAME environment variable to enable code saving.\n"
     ]
    },
    {
     "data": {
      "text/html": [
       "wandb version 0.16.1 is available!  To upgrade, please run:\n",
       " $ pip install wandb --upgrade"
      ],
      "text/plain": [
       "<IPython.core.display.HTML object>"
      ]
     },
     "metadata": {},
     "output_type": "display_data"
    },
    {
     "data": {
      "text/html": [
       "Tracking run with wandb version 0.15.11"
      ],
      "text/plain": [
       "<IPython.core.display.HTML object>"
      ]
     },
     "metadata": {},
     "output_type": "display_data"
    },
    {
     "data": {
      "text/html": [
       "Run data is saved locally in <code>/home/peng_sun2/workspace/llm-2023/wandb/run-20240104_203250-me73te5i</code>"
      ],
      "text/plain": [
       "<IPython.core.display.HTML object>"
      ]
     },
     "metadata": {},
     "output_type": "display_data"
    },
    {
     "data": {
      "text/html": [
       "Syncing run <strong><a href='https://wandb.ai/peng_sun/llm-2023-SGD-hyperparameter/runs/me73te5i' target=\"_blank\">devoted-sweep-58</a></strong> to <a href='https://wandb.ai/peng_sun/llm-2023-SGD-hyperparameter' target=\"_blank\">Weights & Biases</a> (<a href='https://wandb.me/run' target=\"_blank\">docs</a>)<br/>Sweep page: <a href='https://wandb.ai/peng_sun/llm-2023-SGD-hyperparameter/sweeps/wyi8yb2f' target=\"_blank\">https://wandb.ai/peng_sun/llm-2023-SGD-hyperparameter/sweeps/wyi8yb2f</a>"
      ],
      "text/plain": [
       "<IPython.core.display.HTML object>"
      ]
     },
     "metadata": {},
     "output_type": "display_data"
    },
    {
     "data": {
      "text/html": [
       " View project at <a href='https://wandb.ai/peng_sun/llm-2023-SGD-hyperparameter' target=\"_blank\">https://wandb.ai/peng_sun/llm-2023-SGD-hyperparameter</a>"
      ],
      "text/plain": [
       "<IPython.core.display.HTML object>"
      ]
     },
     "metadata": {},
     "output_type": "display_data"
    },
    {
     "data": {
      "text/html": [
       " View sweep at <a href='https://wandb.ai/peng_sun/llm-2023-SGD-hyperparameter/sweeps/wyi8yb2f' target=\"_blank\">https://wandb.ai/peng_sun/llm-2023-SGD-hyperparameter/sweeps/wyi8yb2f</a>"
      ],
      "text/plain": [
       "<IPython.core.display.HTML object>"
      ]
     },
     "metadata": {},
     "output_type": "display_data"
    },
    {
     "data": {
      "text/html": [
       " View run at <a href='https://wandb.ai/peng_sun/llm-2023-SGD-hyperparameter/runs/me73te5i' target=\"_blank\">https://wandb.ai/peng_sun/llm-2023-SGD-hyperparameter/runs/me73te5i</a>"
      ],
      "text/plain": [
       "<IPython.core.display.HTML object>"
      ]
     },
     "metadata": {},
     "output_type": "display_data"
    },
    {
     "data": {
      "text/html": [
       "Waiting for W&B process to finish... <strong style=\"color:green\">(success).</strong>"
      ],
      "text/plain": [
       "<IPython.core.display.HTML object>"
      ]
     },
     "metadata": {},
     "output_type": "display_data"
    },
    {
     "data": {
      "text/html": [
       "<style>\n",
       "    table.wandb td:nth-child(1) { padding: 0 10px; text-align: left ; width: auto;} td:nth-child(2) {text-align: left ; width: 100%}\n",
       "    .wandb-row { display: flex; flex-direction: row; flex-wrap: wrap; justify-content: flex-start; width: 100% }\n",
       "    .wandb-col { display: flex; flex-direction: column; flex-basis: 100%; flex: 1; padding: 10px; }\n",
       "    </style>\n",
       "<div class=\"wandb-row\"><div class=\"wandb-col\"><h3>Run history:</h3><br/><table class=\"wandb\"><tr><td>validatoin_auc</td><td>███▁█</td></tr></table><br/></div><div class=\"wandb-col\"><h3>Run summary:</h3><br/><table class=\"wandb\"><tr><td>validatoin_auc</td><td>0.99223</td></tr></table><br/></div></div>"
      ],
      "text/plain": [
       "<IPython.core.display.HTML object>"
      ]
     },
     "metadata": {},
     "output_type": "display_data"
    },
    {
     "data": {
      "text/html": [
       " View run <strong style=\"color:#cdcd00\">devoted-sweep-58</strong> at: <a href='https://wandb.ai/peng_sun/llm-2023-SGD-hyperparameter/runs/me73te5i' target=\"_blank\">https://wandb.ai/peng_sun/llm-2023-SGD-hyperparameter/runs/me73te5i</a><br/>Synced 5 W&B file(s), 0 media file(s), 0 artifact file(s) and 0 other file(s)"
      ],
      "text/plain": [
       "<IPython.core.display.HTML object>"
      ]
     },
     "metadata": {},
     "output_type": "display_data"
    },
    {
     "data": {
      "text/html": [
       "Find logs at: <code>./wandb/run-20240104_203250-me73te5i/logs</code>"
      ],
      "text/plain": [
       "<IPython.core.display.HTML object>"
      ]
     },
     "metadata": {},
     "output_type": "display_data"
    },
    {
     "name": "stderr",
     "output_type": "stream",
     "text": [
      "\u001b[34m\u001b[1mwandb\u001b[0m: Agent Starting Run: fwm7om92 with config:\n",
      "\u001b[34m\u001b[1mwandb\u001b[0m: \talpha: 0.00024390819584906611\n",
      "\u001b[34m\u001b[1mwandb\u001b[0m: \teta0: 0.0282210902593511\n",
      "\u001b[34m\u001b[1mwandb\u001b[0m: \tloss: modified_huber\n",
      "\u001b[34m\u001b[1mwandb\u001b[0m: \tmax_iter: 5955\n",
      "Failed to detect the name of this notebook, you can set it manually with the WANDB_NOTEBOOK_NAME environment variable to enable code saving.\n"
     ]
    },
    {
     "data": {
      "text/html": [
       "wandb version 0.16.1 is available!  To upgrade, please run:\n",
       " $ pip install wandb --upgrade"
      ],
      "text/plain": [
       "<IPython.core.display.HTML object>"
      ]
     },
     "metadata": {},
     "output_type": "display_data"
    },
    {
     "data": {
      "text/html": [
       "Tracking run with wandb version 0.15.11"
      ],
      "text/plain": [
       "<IPython.core.display.HTML object>"
      ]
     },
     "metadata": {},
     "output_type": "display_data"
    },
    {
     "data": {
      "text/html": [
       "Run data is saved locally in <code>/home/peng_sun2/workspace/llm-2023/wandb/run-20240104_203315-fwm7om92</code>"
      ],
      "text/plain": [
       "<IPython.core.display.HTML object>"
      ]
     },
     "metadata": {},
     "output_type": "display_data"
    },
    {
     "data": {
      "text/html": [
       "Syncing run <strong><a href='https://wandb.ai/peng_sun/llm-2023-SGD-hyperparameter/runs/fwm7om92' target=\"_blank\">generous-sweep-59</a></strong> to <a href='https://wandb.ai/peng_sun/llm-2023-SGD-hyperparameter' target=\"_blank\">Weights & Biases</a> (<a href='https://wandb.me/run' target=\"_blank\">docs</a>)<br/>Sweep page: <a href='https://wandb.ai/peng_sun/llm-2023-SGD-hyperparameter/sweeps/wyi8yb2f' target=\"_blank\">https://wandb.ai/peng_sun/llm-2023-SGD-hyperparameter/sweeps/wyi8yb2f</a>"
      ],
      "text/plain": [
       "<IPython.core.display.HTML object>"
      ]
     },
     "metadata": {},
     "output_type": "display_data"
    },
    {
     "data": {
      "text/html": [
       " View project at <a href='https://wandb.ai/peng_sun/llm-2023-SGD-hyperparameter' target=\"_blank\">https://wandb.ai/peng_sun/llm-2023-SGD-hyperparameter</a>"
      ],
      "text/plain": [
       "<IPython.core.display.HTML object>"
      ]
     },
     "metadata": {},
     "output_type": "display_data"
    },
    {
     "data": {
      "text/html": [
       " View sweep at <a href='https://wandb.ai/peng_sun/llm-2023-SGD-hyperparameter/sweeps/wyi8yb2f' target=\"_blank\">https://wandb.ai/peng_sun/llm-2023-SGD-hyperparameter/sweeps/wyi8yb2f</a>"
      ],
      "text/plain": [
       "<IPython.core.display.HTML object>"
      ]
     },
     "metadata": {},
     "output_type": "display_data"
    },
    {
     "data": {
      "text/html": [
       " View run at <a href='https://wandb.ai/peng_sun/llm-2023-SGD-hyperparameter/runs/fwm7om92' target=\"_blank\">https://wandb.ai/peng_sun/llm-2023-SGD-hyperparameter/runs/fwm7om92</a>"
      ],
      "text/plain": [
       "<IPython.core.display.HTML object>"
      ]
     },
     "metadata": {},
     "output_type": "display_data"
    },
    {
     "data": {
      "text/html": [
       "Waiting for W&B process to finish... <strong style=\"color:green\">(success).</strong>"
      ],
      "text/plain": [
       "<IPython.core.display.HTML object>"
      ]
     },
     "metadata": {},
     "output_type": "display_data"
    },
    {
     "data": {
      "text/html": [
       "<style>\n",
       "    table.wandb td:nth-child(1) { padding: 0 10px; text-align: left ; width: auto;} td:nth-child(2) {text-align: left ; width: 100%}\n",
       "    .wandb-row { display: flex; flex-direction: row; flex-wrap: wrap; justify-content: flex-start; width: 100% }\n",
       "    .wandb-col { display: flex; flex-direction: column; flex-basis: 100%; flex: 1; padding: 10px; }\n",
       "    </style>\n",
       "<div class=\"wandb-row\"><div class=\"wandb-col\"><h3>Run history:</h3><br/><table class=\"wandb\"><tr><td>validatoin_auc</td><td>███▁█</td></tr></table><br/></div><div class=\"wandb-col\"><h3>Run summary:</h3><br/><table class=\"wandb\"><tr><td>validatoin_auc</td><td>0.99257</td></tr></table><br/></div></div>"
      ],
      "text/plain": [
       "<IPython.core.display.HTML object>"
      ]
     },
     "metadata": {},
     "output_type": "display_data"
    },
    {
     "data": {
      "text/html": [
       " View run <strong style=\"color:#cdcd00\">generous-sweep-59</strong> at: <a href='https://wandb.ai/peng_sun/llm-2023-SGD-hyperparameter/runs/fwm7om92' target=\"_blank\">https://wandb.ai/peng_sun/llm-2023-SGD-hyperparameter/runs/fwm7om92</a><br/>Synced 5 W&B file(s), 0 media file(s), 0 artifact file(s) and 0 other file(s)"
      ],
      "text/plain": [
       "<IPython.core.display.HTML object>"
      ]
     },
     "metadata": {},
     "output_type": "display_data"
    },
    {
     "data": {
      "text/html": [
       "Find logs at: <code>./wandb/run-20240104_203315-fwm7om92/logs</code>"
      ],
      "text/plain": [
       "<IPython.core.display.HTML object>"
      ]
     },
     "metadata": {},
     "output_type": "display_data"
    },
    {
     "name": "stderr",
     "output_type": "stream",
     "text": [
      "\u001b[34m\u001b[1mwandb\u001b[0m: Sweep Agent: Waiting for job.\n",
      "\u001b[34m\u001b[1mwandb\u001b[0m: Job received.\n",
      "\u001b[34m\u001b[1mwandb\u001b[0m: Agent Starting Run: 7vxkvi4s with config:\n",
      "\u001b[34m\u001b[1mwandb\u001b[0m: \talpha: 0.0001566155425385316\n",
      "\u001b[34m\u001b[1mwandb\u001b[0m: \teta0: 0.08894514457948409\n",
      "\u001b[34m\u001b[1mwandb\u001b[0m: \tloss: modified_huber\n",
      "\u001b[34m\u001b[1mwandb\u001b[0m: \tmax_iter: 7896\n",
      "Failed to detect the name of this notebook, you can set it manually with the WANDB_NOTEBOOK_NAME environment variable to enable code saving.\n"
     ]
    },
    {
     "data": {
      "text/html": [
       "wandb version 0.16.1 is available!  To upgrade, please run:\n",
       " $ pip install wandb --upgrade"
      ],
      "text/plain": [
       "<IPython.core.display.HTML object>"
      ]
     },
     "metadata": {},
     "output_type": "display_data"
    },
    {
     "data": {
      "text/html": [
       "Tracking run with wandb version 0.15.11"
      ],
      "text/plain": [
       "<IPython.core.display.HTML object>"
      ]
     },
     "metadata": {},
     "output_type": "display_data"
    },
    {
     "data": {
      "text/html": [
       "Run data is saved locally in <code>/home/peng_sun2/workspace/llm-2023/wandb/run-20240104_203346-7vxkvi4s</code>"
      ],
      "text/plain": [
       "<IPython.core.display.HTML object>"
      ]
     },
     "metadata": {},
     "output_type": "display_data"
    },
    {
     "data": {
      "text/html": [
       "Syncing run <strong><a href='https://wandb.ai/peng_sun/llm-2023-SGD-hyperparameter/runs/7vxkvi4s' target=\"_blank\">genial-sweep-60</a></strong> to <a href='https://wandb.ai/peng_sun/llm-2023-SGD-hyperparameter' target=\"_blank\">Weights & Biases</a> (<a href='https://wandb.me/run' target=\"_blank\">docs</a>)<br/>Sweep page: <a href='https://wandb.ai/peng_sun/llm-2023-SGD-hyperparameter/sweeps/wyi8yb2f' target=\"_blank\">https://wandb.ai/peng_sun/llm-2023-SGD-hyperparameter/sweeps/wyi8yb2f</a>"
      ],
      "text/plain": [
       "<IPython.core.display.HTML object>"
      ]
     },
     "metadata": {},
     "output_type": "display_data"
    },
    {
     "data": {
      "text/html": [
       " View project at <a href='https://wandb.ai/peng_sun/llm-2023-SGD-hyperparameter' target=\"_blank\">https://wandb.ai/peng_sun/llm-2023-SGD-hyperparameter</a>"
      ],
      "text/plain": [
       "<IPython.core.display.HTML object>"
      ]
     },
     "metadata": {},
     "output_type": "display_data"
    },
    {
     "data": {
      "text/html": [
       " View sweep at <a href='https://wandb.ai/peng_sun/llm-2023-SGD-hyperparameter/sweeps/wyi8yb2f' target=\"_blank\">https://wandb.ai/peng_sun/llm-2023-SGD-hyperparameter/sweeps/wyi8yb2f</a>"
      ],
      "text/plain": [
       "<IPython.core.display.HTML object>"
      ]
     },
     "metadata": {},
     "output_type": "display_data"
    },
    {
     "data": {
      "text/html": [
       " View run at <a href='https://wandb.ai/peng_sun/llm-2023-SGD-hyperparameter/runs/7vxkvi4s' target=\"_blank\">https://wandb.ai/peng_sun/llm-2023-SGD-hyperparameter/runs/7vxkvi4s</a>"
      ],
      "text/plain": [
       "<IPython.core.display.HTML object>"
      ]
     },
     "metadata": {},
     "output_type": "display_data"
    },
    {
     "data": {
      "text/html": [
       "Waiting for W&B process to finish... <strong style=\"color:green\">(success).</strong>"
      ],
      "text/plain": [
       "<IPython.core.display.HTML object>"
      ]
     },
     "metadata": {},
     "output_type": "display_data"
    },
    {
     "data": {
      "text/html": [
       "<style>\n",
       "    table.wandb td:nth-child(1) { padding: 0 10px; text-align: left ; width: auto;} td:nth-child(2) {text-align: left ; width: 100%}\n",
       "    .wandb-row { display: flex; flex-direction: row; flex-wrap: wrap; justify-content: flex-start; width: 100% }\n",
       "    .wandb-col { display: flex; flex-direction: column; flex-basis: 100%; flex: 1; padding: 10px; }\n",
       "    </style>\n",
       "<div class=\"wandb-row\"><div class=\"wandb-col\"><h3>Run history:</h3><br/><table class=\"wandb\"><tr><td>validatoin_auc</td><td>███▁█</td></tr></table><br/></div><div class=\"wandb-col\"><h3>Run summary:</h3><br/><table class=\"wandb\"><tr><td>validatoin_auc</td><td>0.99366</td></tr></table><br/></div></div>"
      ],
      "text/plain": [
       "<IPython.core.display.HTML object>"
      ]
     },
     "metadata": {},
     "output_type": "display_data"
    },
    {
     "data": {
      "text/html": [
       " View run <strong style=\"color:#cdcd00\">genial-sweep-60</strong> at: <a href='https://wandb.ai/peng_sun/llm-2023-SGD-hyperparameter/runs/7vxkvi4s' target=\"_blank\">https://wandb.ai/peng_sun/llm-2023-SGD-hyperparameter/runs/7vxkvi4s</a><br/>Synced 5 W&B file(s), 0 media file(s), 0 artifact file(s) and 0 other file(s)"
      ],
      "text/plain": [
       "<IPython.core.display.HTML object>"
      ]
     },
     "metadata": {},
     "output_type": "display_data"
    },
    {
     "data": {
      "text/html": [
       "Find logs at: <code>./wandb/run-20240104_203346-7vxkvi4s/logs</code>"
      ],
      "text/plain": [
       "<IPython.core.display.HTML object>"
      ]
     },
     "metadata": {},
     "output_type": "display_data"
    },
    {
     "name": "stderr",
     "output_type": "stream",
     "text": [
      "\u001b[34m\u001b[1mwandb\u001b[0m: Agent Starting Run: l5r0671g with config:\n",
      "\u001b[34m\u001b[1mwandb\u001b[0m: \talpha: 0.00015804611460995422\n",
      "\u001b[34m\u001b[1mwandb\u001b[0m: \teta0: 0.05749449572329949\n",
      "\u001b[34m\u001b[1mwandb\u001b[0m: \tloss: modified_huber\n",
      "\u001b[34m\u001b[1mwandb\u001b[0m: \tmax_iter: 7935\n",
      "Failed to detect the name of this notebook, you can set it manually with the WANDB_NOTEBOOK_NAME environment variable to enable code saving.\n"
     ]
    },
    {
     "data": {
      "text/html": [
       "wandb version 0.16.1 is available!  To upgrade, please run:\n",
       " $ pip install wandb --upgrade"
      ],
      "text/plain": [
       "<IPython.core.display.HTML object>"
      ]
     },
     "metadata": {},
     "output_type": "display_data"
    },
    {
     "data": {
      "text/html": [
       "Tracking run with wandb version 0.15.11"
      ],
      "text/plain": [
       "<IPython.core.display.HTML object>"
      ]
     },
     "metadata": {},
     "output_type": "display_data"
    },
    {
     "data": {
      "text/html": [
       "Run data is saved locally in <code>/home/peng_sun2/workspace/llm-2023/wandb/run-20240104_203412-l5r0671g</code>"
      ],
      "text/plain": [
       "<IPython.core.display.HTML object>"
      ]
     },
     "metadata": {},
     "output_type": "display_data"
    },
    {
     "data": {
      "text/html": [
       "Syncing run <strong><a href='https://wandb.ai/peng_sun/llm-2023-SGD-hyperparameter/runs/l5r0671g' target=\"_blank\">autumn-sweep-61</a></strong> to <a href='https://wandb.ai/peng_sun/llm-2023-SGD-hyperparameter' target=\"_blank\">Weights & Biases</a> (<a href='https://wandb.me/run' target=\"_blank\">docs</a>)<br/>Sweep page: <a href='https://wandb.ai/peng_sun/llm-2023-SGD-hyperparameter/sweeps/wyi8yb2f' target=\"_blank\">https://wandb.ai/peng_sun/llm-2023-SGD-hyperparameter/sweeps/wyi8yb2f</a>"
      ],
      "text/plain": [
       "<IPython.core.display.HTML object>"
      ]
     },
     "metadata": {},
     "output_type": "display_data"
    },
    {
     "data": {
      "text/html": [
       " View project at <a href='https://wandb.ai/peng_sun/llm-2023-SGD-hyperparameter' target=\"_blank\">https://wandb.ai/peng_sun/llm-2023-SGD-hyperparameter</a>"
      ],
      "text/plain": [
       "<IPython.core.display.HTML object>"
      ]
     },
     "metadata": {},
     "output_type": "display_data"
    },
    {
     "data": {
      "text/html": [
       " View sweep at <a href='https://wandb.ai/peng_sun/llm-2023-SGD-hyperparameter/sweeps/wyi8yb2f' target=\"_blank\">https://wandb.ai/peng_sun/llm-2023-SGD-hyperparameter/sweeps/wyi8yb2f</a>"
      ],
      "text/plain": [
       "<IPython.core.display.HTML object>"
      ]
     },
     "metadata": {},
     "output_type": "display_data"
    },
    {
     "data": {
      "text/html": [
       " View run at <a href='https://wandb.ai/peng_sun/llm-2023-SGD-hyperparameter/runs/l5r0671g' target=\"_blank\">https://wandb.ai/peng_sun/llm-2023-SGD-hyperparameter/runs/l5r0671g</a>"
      ],
      "text/plain": [
       "<IPython.core.display.HTML object>"
      ]
     },
     "metadata": {},
     "output_type": "display_data"
    },
    {
     "data": {
      "text/html": [
       "Waiting for W&B process to finish... <strong style=\"color:green\">(success).</strong>"
      ],
      "text/plain": [
       "<IPython.core.display.HTML object>"
      ]
     },
     "metadata": {},
     "output_type": "display_data"
    },
    {
     "data": {
      "text/html": [
       "<style>\n",
       "    table.wandb td:nth-child(1) { padding: 0 10px; text-align: left ; width: auto;} td:nth-child(2) {text-align: left ; width: 100%}\n",
       "    .wandb-row { display: flex; flex-direction: row; flex-wrap: wrap; justify-content: flex-start; width: 100% }\n",
       "    .wandb-col { display: flex; flex-direction: column; flex-basis: 100%; flex: 1; padding: 10px; }\n",
       "    </style>\n",
       "<div class=\"wandb-row\"><div class=\"wandb-col\"><h3>Run history:</h3><br/><table class=\"wandb\"><tr><td>validatoin_auc</td><td>███▁█</td></tr></table><br/></div><div class=\"wandb-col\"><h3>Run summary:</h3><br/><table class=\"wandb\"><tr><td>validatoin_auc</td><td>0.99345</td></tr></table><br/></div></div>"
      ],
      "text/plain": [
       "<IPython.core.display.HTML object>"
      ]
     },
     "metadata": {},
     "output_type": "display_data"
    },
    {
     "data": {
      "text/html": [
       " View run <strong style=\"color:#cdcd00\">autumn-sweep-61</strong> at: <a href='https://wandb.ai/peng_sun/llm-2023-SGD-hyperparameter/runs/l5r0671g' target=\"_blank\">https://wandb.ai/peng_sun/llm-2023-SGD-hyperparameter/runs/l5r0671g</a><br/>Synced 5 W&B file(s), 0 media file(s), 0 artifact file(s) and 0 other file(s)"
      ],
      "text/plain": [
       "<IPython.core.display.HTML object>"
      ]
     },
     "metadata": {},
     "output_type": "display_data"
    },
    {
     "data": {
      "text/html": [
       "Find logs at: <code>./wandb/run-20240104_203412-l5r0671g/logs</code>"
      ],
      "text/plain": [
       "<IPython.core.display.HTML object>"
      ]
     },
     "metadata": {},
     "output_type": "display_data"
    },
    {
     "name": "stderr",
     "output_type": "stream",
     "text": [
      "\u001b[34m\u001b[1mwandb\u001b[0m: Sweep Agent: Waiting for job.\n",
      "\u001b[34m\u001b[1mwandb\u001b[0m: Job received.\n",
      "\u001b[34m\u001b[1mwandb\u001b[0m: Agent Starting Run: i7pq0ixb with config:\n",
      "\u001b[34m\u001b[1mwandb\u001b[0m: \talpha: 0.009976215569117576\n",
      "\u001b[34m\u001b[1mwandb\u001b[0m: \teta0: 0.09749040116856136\n",
      "\u001b[34m\u001b[1mwandb\u001b[0m: \tloss: modified_huber\n",
      "\u001b[34m\u001b[1mwandb\u001b[0m: \tmax_iter: 9853\n",
      "Failed to detect the name of this notebook, you can set it manually with the WANDB_NOTEBOOK_NAME environment variable to enable code saving.\n"
     ]
    },
    {
     "data": {
      "text/html": [
       "wandb version 0.16.1 is available!  To upgrade, please run:\n",
       " $ pip install wandb --upgrade"
      ],
      "text/plain": [
       "<IPython.core.display.HTML object>"
      ]
     },
     "metadata": {},
     "output_type": "display_data"
    },
    {
     "data": {
      "text/html": [
       "Tracking run with wandb version 0.15.11"
      ],
      "text/plain": [
       "<IPython.core.display.HTML object>"
      ]
     },
     "metadata": {},
     "output_type": "display_data"
    },
    {
     "data": {
      "text/html": [
       "Run data is saved locally in <code>/home/peng_sun2/workspace/llm-2023/wandb/run-20240104_203443-i7pq0ixb</code>"
      ],
      "text/plain": [
       "<IPython.core.display.HTML object>"
      ]
     },
     "metadata": {},
     "output_type": "display_data"
    },
    {
     "data": {
      "text/html": [
       "Syncing run <strong><a href='https://wandb.ai/peng_sun/llm-2023-SGD-hyperparameter/runs/i7pq0ixb' target=\"_blank\">easy-sweep-62</a></strong> to <a href='https://wandb.ai/peng_sun/llm-2023-SGD-hyperparameter' target=\"_blank\">Weights & Biases</a> (<a href='https://wandb.me/run' target=\"_blank\">docs</a>)<br/>Sweep page: <a href='https://wandb.ai/peng_sun/llm-2023-SGD-hyperparameter/sweeps/wyi8yb2f' target=\"_blank\">https://wandb.ai/peng_sun/llm-2023-SGD-hyperparameter/sweeps/wyi8yb2f</a>"
      ],
      "text/plain": [
       "<IPython.core.display.HTML object>"
      ]
     },
     "metadata": {},
     "output_type": "display_data"
    },
    {
     "data": {
      "text/html": [
       " View project at <a href='https://wandb.ai/peng_sun/llm-2023-SGD-hyperparameter' target=\"_blank\">https://wandb.ai/peng_sun/llm-2023-SGD-hyperparameter</a>"
      ],
      "text/plain": [
       "<IPython.core.display.HTML object>"
      ]
     },
     "metadata": {},
     "output_type": "display_data"
    },
    {
     "data": {
      "text/html": [
       " View sweep at <a href='https://wandb.ai/peng_sun/llm-2023-SGD-hyperparameter/sweeps/wyi8yb2f' target=\"_blank\">https://wandb.ai/peng_sun/llm-2023-SGD-hyperparameter/sweeps/wyi8yb2f</a>"
      ],
      "text/plain": [
       "<IPython.core.display.HTML object>"
      ]
     },
     "metadata": {},
     "output_type": "display_data"
    },
    {
     "data": {
      "text/html": [
       " View run at <a href='https://wandb.ai/peng_sun/llm-2023-SGD-hyperparameter/runs/i7pq0ixb' target=\"_blank\">https://wandb.ai/peng_sun/llm-2023-SGD-hyperparameter/runs/i7pq0ixb</a>"
      ],
      "text/plain": [
       "<IPython.core.display.HTML object>"
      ]
     },
     "metadata": {},
     "output_type": "display_data"
    },
    {
     "data": {
      "text/html": [
       "Waiting for W&B process to finish... <strong style=\"color:green\">(success).</strong>"
      ],
      "text/plain": [
       "<IPython.core.display.HTML object>"
      ]
     },
     "metadata": {},
     "output_type": "display_data"
    },
    {
     "data": {
      "text/html": [
       "<style>\n",
       "    table.wandb td:nth-child(1) { padding: 0 10px; text-align: left ; width: auto;} td:nth-child(2) {text-align: left ; width: 100%}\n",
       "    .wandb-row { display: flex; flex-direction: row; flex-wrap: wrap; justify-content: flex-start; width: 100% }\n",
       "    .wandb-col { display: flex; flex-direction: column; flex-basis: 100%; flex: 1; padding: 10px; }\n",
       "    </style>\n",
       "<div class=\"wandb-row\"><div class=\"wandb-col\"><h3>Run history:</h3><br/><table class=\"wandb\"><tr><td>validatoin_auc</td><td>▇█▇▁▆</td></tr></table><br/></div><div class=\"wandb-col\"><h3>Run summary:</h3><br/><table class=\"wandb\"><tr><td>validatoin_auc</td><td>0.97216</td></tr></table><br/></div></div>"
      ],
      "text/plain": [
       "<IPython.core.display.HTML object>"
      ]
     },
     "metadata": {},
     "output_type": "display_data"
    },
    {
     "data": {
      "text/html": [
       " View run <strong style=\"color:#cdcd00\">easy-sweep-62</strong> at: <a href='https://wandb.ai/peng_sun/llm-2023-SGD-hyperparameter/runs/i7pq0ixb' target=\"_blank\">https://wandb.ai/peng_sun/llm-2023-SGD-hyperparameter/runs/i7pq0ixb</a><br/>Synced 5 W&B file(s), 0 media file(s), 0 artifact file(s) and 0 other file(s)"
      ],
      "text/plain": [
       "<IPython.core.display.HTML object>"
      ]
     },
     "metadata": {},
     "output_type": "display_data"
    },
    {
     "data": {
      "text/html": [
       "Find logs at: <code>./wandb/run-20240104_203443-i7pq0ixb/logs</code>"
      ],
      "text/plain": [
       "<IPython.core.display.HTML object>"
      ]
     },
     "metadata": {},
     "output_type": "display_data"
    },
    {
     "name": "stderr",
     "output_type": "stream",
     "text": [
      "\u001b[34m\u001b[1mwandb\u001b[0m: Agent Starting Run: zf4e424y with config:\n",
      "\u001b[34m\u001b[1mwandb\u001b[0m: \talpha: 0.00013104600266362567\n",
      "\u001b[34m\u001b[1mwandb\u001b[0m: \teta0: 0.06651323802559497\n",
      "\u001b[34m\u001b[1mwandb\u001b[0m: \tloss: modified_huber\n",
      "\u001b[34m\u001b[1mwandb\u001b[0m: \tmax_iter: 6150\n",
      "Failed to detect the name of this notebook, you can set it manually with the WANDB_NOTEBOOK_NAME environment variable to enable code saving.\n"
     ]
    },
    {
     "data": {
      "text/html": [
       "wandb version 0.16.1 is available!  To upgrade, please run:\n",
       " $ pip install wandb --upgrade"
      ],
      "text/plain": [
       "<IPython.core.display.HTML object>"
      ]
     },
     "metadata": {},
     "output_type": "display_data"
    },
    {
     "data": {
      "text/html": [
       "Tracking run with wandb version 0.15.11"
      ],
      "text/plain": [
       "<IPython.core.display.HTML object>"
      ]
     },
     "metadata": {},
     "output_type": "display_data"
    },
    {
     "data": {
      "text/html": [
       "Run data is saved locally in <code>/home/peng_sun2/workspace/llm-2023/wandb/run-20240104_203508-zf4e424y</code>"
      ],
      "text/plain": [
       "<IPython.core.display.HTML object>"
      ]
     },
     "metadata": {},
     "output_type": "display_data"
    },
    {
     "data": {
      "text/html": [
       "Syncing run <strong><a href='https://wandb.ai/peng_sun/llm-2023-SGD-hyperparameter/runs/zf4e424y' target=\"_blank\">twilight-sweep-63</a></strong> to <a href='https://wandb.ai/peng_sun/llm-2023-SGD-hyperparameter' target=\"_blank\">Weights & Biases</a> (<a href='https://wandb.me/run' target=\"_blank\">docs</a>)<br/>Sweep page: <a href='https://wandb.ai/peng_sun/llm-2023-SGD-hyperparameter/sweeps/wyi8yb2f' target=\"_blank\">https://wandb.ai/peng_sun/llm-2023-SGD-hyperparameter/sweeps/wyi8yb2f</a>"
      ],
      "text/plain": [
       "<IPython.core.display.HTML object>"
      ]
     },
     "metadata": {},
     "output_type": "display_data"
    },
    {
     "data": {
      "text/html": [
       " View project at <a href='https://wandb.ai/peng_sun/llm-2023-SGD-hyperparameter' target=\"_blank\">https://wandb.ai/peng_sun/llm-2023-SGD-hyperparameter</a>"
      ],
      "text/plain": [
       "<IPython.core.display.HTML object>"
      ]
     },
     "metadata": {},
     "output_type": "display_data"
    },
    {
     "data": {
      "text/html": [
       " View sweep at <a href='https://wandb.ai/peng_sun/llm-2023-SGD-hyperparameter/sweeps/wyi8yb2f' target=\"_blank\">https://wandb.ai/peng_sun/llm-2023-SGD-hyperparameter/sweeps/wyi8yb2f</a>"
      ],
      "text/plain": [
       "<IPython.core.display.HTML object>"
      ]
     },
     "metadata": {},
     "output_type": "display_data"
    },
    {
     "data": {
      "text/html": [
       " View run at <a href='https://wandb.ai/peng_sun/llm-2023-SGD-hyperparameter/runs/zf4e424y' target=\"_blank\">https://wandb.ai/peng_sun/llm-2023-SGD-hyperparameter/runs/zf4e424y</a>"
      ],
      "text/plain": [
       "<IPython.core.display.HTML object>"
      ]
     },
     "metadata": {},
     "output_type": "display_data"
    },
    {
     "data": {
      "text/html": [
       "Waiting for W&B process to finish... <strong style=\"color:green\">(success).</strong>"
      ],
      "text/plain": [
       "<IPython.core.display.HTML object>"
      ]
     },
     "metadata": {},
     "output_type": "display_data"
    },
    {
     "data": {
      "text/html": [
       "<style>\n",
       "    table.wandb td:nth-child(1) { padding: 0 10px; text-align: left ; width: auto;} td:nth-child(2) {text-align: left ; width: 100%}\n",
       "    .wandb-row { display: flex; flex-direction: row; flex-wrap: wrap; justify-content: flex-start; width: 100% }\n",
       "    .wandb-col { display: flex; flex-direction: column; flex-basis: 100%; flex: 1; padding: 10px; }\n",
       "    </style>\n",
       "<div class=\"wandb-row\"><div class=\"wandb-col\"><h3>Run history:</h3><br/><table class=\"wandb\"><tr><td>validatoin_auc</td><td>███▁█</td></tr></table><br/></div><div class=\"wandb-col\"><h3>Run summary:</h3><br/><table class=\"wandb\"><tr><td>validatoin_auc</td><td>0.9939</td></tr></table><br/></div></div>"
      ],
      "text/plain": [
       "<IPython.core.display.HTML object>"
      ]
     },
     "metadata": {},
     "output_type": "display_data"
    },
    {
     "data": {
      "text/html": [
       " View run <strong style=\"color:#cdcd00\">twilight-sweep-63</strong> at: <a href='https://wandb.ai/peng_sun/llm-2023-SGD-hyperparameter/runs/zf4e424y' target=\"_blank\">https://wandb.ai/peng_sun/llm-2023-SGD-hyperparameter/runs/zf4e424y</a><br/>Synced 5 W&B file(s), 0 media file(s), 0 artifact file(s) and 0 other file(s)"
      ],
      "text/plain": [
       "<IPython.core.display.HTML object>"
      ]
     },
     "metadata": {},
     "output_type": "display_data"
    },
    {
     "data": {
      "text/html": [
       "Find logs at: <code>./wandb/run-20240104_203508-zf4e424y/logs</code>"
      ],
      "text/plain": [
       "<IPython.core.display.HTML object>"
      ]
     },
     "metadata": {},
     "output_type": "display_data"
    },
    {
     "name": "stderr",
     "output_type": "stream",
     "text": [
      "\u001b[34m\u001b[1mwandb\u001b[0m: Sweep Agent: Waiting for job.\n",
      "\u001b[34m\u001b[1mwandb\u001b[0m: Job received.\n",
      "\u001b[34m\u001b[1mwandb\u001b[0m: Agent Starting Run: y3wtysvd with config:\n",
      "\u001b[34m\u001b[1mwandb\u001b[0m: \talpha: 0.00011941812675624752\n",
      "\u001b[34m\u001b[1mwandb\u001b[0m: \teta0: 0.040504709776347896\n",
      "\u001b[34m\u001b[1mwandb\u001b[0m: \tloss: modified_huber\n",
      "\u001b[34m\u001b[1mwandb\u001b[0m: \tmax_iter: 5330\n",
      "Failed to detect the name of this notebook, you can set it manually with the WANDB_NOTEBOOK_NAME environment variable to enable code saving.\n"
     ]
    },
    {
     "data": {
      "text/html": [
       "wandb version 0.16.1 is available!  To upgrade, please run:\n",
       " $ pip install wandb --upgrade"
      ],
      "text/plain": [
       "<IPython.core.display.HTML object>"
      ]
     },
     "metadata": {},
     "output_type": "display_data"
    },
    {
     "data": {
      "text/html": [
       "Tracking run with wandb version 0.15.11"
      ],
      "text/plain": [
       "<IPython.core.display.HTML object>"
      ]
     },
     "metadata": {},
     "output_type": "display_data"
    },
    {
     "data": {
      "text/html": [
       "Run data is saved locally in <code>/home/peng_sun2/workspace/llm-2023/wandb/run-20240104_203539-y3wtysvd</code>"
      ],
      "text/plain": [
       "<IPython.core.display.HTML object>"
      ]
     },
     "metadata": {},
     "output_type": "display_data"
    },
    {
     "data": {
      "text/html": [
       "Syncing run <strong><a href='https://wandb.ai/peng_sun/llm-2023-SGD-hyperparameter/runs/y3wtysvd' target=\"_blank\">logical-sweep-64</a></strong> to <a href='https://wandb.ai/peng_sun/llm-2023-SGD-hyperparameter' target=\"_blank\">Weights & Biases</a> (<a href='https://wandb.me/run' target=\"_blank\">docs</a>)<br/>Sweep page: <a href='https://wandb.ai/peng_sun/llm-2023-SGD-hyperparameter/sweeps/wyi8yb2f' target=\"_blank\">https://wandb.ai/peng_sun/llm-2023-SGD-hyperparameter/sweeps/wyi8yb2f</a>"
      ],
      "text/plain": [
       "<IPython.core.display.HTML object>"
      ]
     },
     "metadata": {},
     "output_type": "display_data"
    },
    {
     "data": {
      "text/html": [
       " View project at <a href='https://wandb.ai/peng_sun/llm-2023-SGD-hyperparameter' target=\"_blank\">https://wandb.ai/peng_sun/llm-2023-SGD-hyperparameter</a>"
      ],
      "text/plain": [
       "<IPython.core.display.HTML object>"
      ]
     },
     "metadata": {},
     "output_type": "display_data"
    },
    {
     "data": {
      "text/html": [
       " View sweep at <a href='https://wandb.ai/peng_sun/llm-2023-SGD-hyperparameter/sweeps/wyi8yb2f' target=\"_blank\">https://wandb.ai/peng_sun/llm-2023-SGD-hyperparameter/sweeps/wyi8yb2f</a>"
      ],
      "text/plain": [
       "<IPython.core.display.HTML object>"
      ]
     },
     "metadata": {},
     "output_type": "display_data"
    },
    {
     "data": {
      "text/html": [
       " View run at <a href='https://wandb.ai/peng_sun/llm-2023-SGD-hyperparameter/runs/y3wtysvd' target=\"_blank\">https://wandb.ai/peng_sun/llm-2023-SGD-hyperparameter/runs/y3wtysvd</a>"
      ],
      "text/plain": [
       "<IPython.core.display.HTML object>"
      ]
     },
     "metadata": {},
     "output_type": "display_data"
    },
    {
     "data": {
      "text/html": [
       "Waiting for W&B process to finish... <strong style=\"color:green\">(success).</strong>"
      ],
      "text/plain": [
       "<IPython.core.display.HTML object>"
      ]
     },
     "metadata": {},
     "output_type": "display_data"
    },
    {
     "data": {
      "text/html": [
       "<style>\n",
       "    table.wandb td:nth-child(1) { padding: 0 10px; text-align: left ; width: auto;} td:nth-child(2) {text-align: left ; width: 100%}\n",
       "    .wandb-row { display: flex; flex-direction: row; flex-wrap: wrap; justify-content: flex-start; width: 100% }\n",
       "    .wandb-col { display: flex; flex-direction: column; flex-basis: 100%; flex: 1; padding: 10px; }\n",
       "    </style>\n",
       "<div class=\"wandb-row\"><div class=\"wandb-col\"><h3>Run history:</h3><br/><table class=\"wandb\"><tr><td>validatoin_auc</td><td>███▁█</td></tr></table><br/></div><div class=\"wandb-col\"><h3>Run summary:</h3><br/><table class=\"wandb\"><tr><td>validatoin_auc</td><td>0.99414</td></tr></table><br/></div></div>"
      ],
      "text/plain": [
       "<IPython.core.display.HTML object>"
      ]
     },
     "metadata": {},
     "output_type": "display_data"
    },
    {
     "data": {
      "text/html": [
       " View run <strong style=\"color:#cdcd00\">logical-sweep-64</strong> at: <a href='https://wandb.ai/peng_sun/llm-2023-SGD-hyperparameter/runs/y3wtysvd' target=\"_blank\">https://wandb.ai/peng_sun/llm-2023-SGD-hyperparameter/runs/y3wtysvd</a><br/>Synced 5 W&B file(s), 0 media file(s), 0 artifact file(s) and 0 other file(s)"
      ],
      "text/plain": [
       "<IPython.core.display.HTML object>"
      ]
     },
     "metadata": {},
     "output_type": "display_data"
    },
    {
     "data": {
      "text/html": [
       "Find logs at: <code>./wandb/run-20240104_203539-y3wtysvd/logs</code>"
      ],
      "text/plain": [
       "<IPython.core.display.HTML object>"
      ]
     },
     "metadata": {},
     "output_type": "display_data"
    },
    {
     "name": "stderr",
     "output_type": "stream",
     "text": [
      "\u001b[34m\u001b[1mwandb\u001b[0m: Sweep Agent: Waiting for job.\n",
      "\u001b[34m\u001b[1mwandb\u001b[0m: Job received.\n",
      "\u001b[34m\u001b[1mwandb\u001b[0m: Agent Starting Run: acttcl5u with config:\n",
      "\u001b[34m\u001b[1mwandb\u001b[0m: \talpha: 0.0001964151352787308\n",
      "\u001b[34m\u001b[1mwandb\u001b[0m: \teta0: 0.03255100287472598\n",
      "\u001b[34m\u001b[1mwandb\u001b[0m: \tloss: modified_huber\n",
      "\u001b[34m\u001b[1mwandb\u001b[0m: \tmax_iter: 5301\n",
      "Failed to detect the name of this notebook, you can set it manually with the WANDB_NOTEBOOK_NAME environment variable to enable code saving.\n"
     ]
    },
    {
     "data": {
      "text/html": [
       "wandb version 0.16.1 is available!  To upgrade, please run:\n",
       " $ pip install wandb --upgrade"
      ],
      "text/plain": [
       "<IPython.core.display.HTML object>"
      ]
     },
     "metadata": {},
     "output_type": "display_data"
    },
    {
     "data": {
      "text/html": [
       "Tracking run with wandb version 0.15.11"
      ],
      "text/plain": [
       "<IPython.core.display.HTML object>"
      ]
     },
     "metadata": {},
     "output_type": "display_data"
    },
    {
     "data": {
      "text/html": [
       "Run data is saved locally in <code>/home/peng_sun2/workspace/llm-2023/wandb/run-20240104_203612-acttcl5u</code>"
      ],
      "text/plain": [
       "<IPython.core.display.HTML object>"
      ]
     },
     "metadata": {},
     "output_type": "display_data"
    },
    {
     "data": {
      "text/html": [
       "Syncing run <strong><a href='https://wandb.ai/peng_sun/llm-2023-SGD-hyperparameter/runs/acttcl5u' target=\"_blank\">azure-sweep-65</a></strong> to <a href='https://wandb.ai/peng_sun/llm-2023-SGD-hyperparameter' target=\"_blank\">Weights & Biases</a> (<a href='https://wandb.me/run' target=\"_blank\">docs</a>)<br/>Sweep page: <a href='https://wandb.ai/peng_sun/llm-2023-SGD-hyperparameter/sweeps/wyi8yb2f' target=\"_blank\">https://wandb.ai/peng_sun/llm-2023-SGD-hyperparameter/sweeps/wyi8yb2f</a>"
      ],
      "text/plain": [
       "<IPython.core.display.HTML object>"
      ]
     },
     "metadata": {},
     "output_type": "display_data"
    },
    {
     "data": {
      "text/html": [
       " View project at <a href='https://wandb.ai/peng_sun/llm-2023-SGD-hyperparameter' target=\"_blank\">https://wandb.ai/peng_sun/llm-2023-SGD-hyperparameter</a>"
      ],
      "text/plain": [
       "<IPython.core.display.HTML object>"
      ]
     },
     "metadata": {},
     "output_type": "display_data"
    },
    {
     "data": {
      "text/html": [
       " View sweep at <a href='https://wandb.ai/peng_sun/llm-2023-SGD-hyperparameter/sweeps/wyi8yb2f' target=\"_blank\">https://wandb.ai/peng_sun/llm-2023-SGD-hyperparameter/sweeps/wyi8yb2f</a>"
      ],
      "text/plain": [
       "<IPython.core.display.HTML object>"
      ]
     },
     "metadata": {},
     "output_type": "display_data"
    },
    {
     "data": {
      "text/html": [
       " View run at <a href='https://wandb.ai/peng_sun/llm-2023-SGD-hyperparameter/runs/acttcl5u' target=\"_blank\">https://wandb.ai/peng_sun/llm-2023-SGD-hyperparameter/runs/acttcl5u</a>"
      ],
      "text/plain": [
       "<IPython.core.display.HTML object>"
      ]
     },
     "metadata": {},
     "output_type": "display_data"
    },
    {
     "data": {
      "text/html": [
       "Waiting for W&B process to finish... <strong style=\"color:green\">(success).</strong>"
      ],
      "text/plain": [
       "<IPython.core.display.HTML object>"
      ]
     },
     "metadata": {},
     "output_type": "display_data"
    },
    {
     "data": {
      "text/html": [
       "<style>\n",
       "    table.wandb td:nth-child(1) { padding: 0 10px; text-align: left ; width: auto;} td:nth-child(2) {text-align: left ; width: 100%}\n",
       "    .wandb-row { display: flex; flex-direction: row; flex-wrap: wrap; justify-content: flex-start; width: 100% }\n",
       "    .wandb-col { display: flex; flex-direction: column; flex-basis: 100%; flex: 1; padding: 10px; }\n",
       "    </style>\n",
       "<div class=\"wandb-row\"><div class=\"wandb-col\"><h3>Run history:</h3><br/><table class=\"wandb\"><tr><td>validatoin_auc</td><td>███▁█</td></tr></table><br/></div><div class=\"wandb-col\"><h3>Run summary:</h3><br/><table class=\"wandb\"><tr><td>validatoin_auc</td><td>0.99342</td></tr></table><br/></div></div>"
      ],
      "text/plain": [
       "<IPython.core.display.HTML object>"
      ]
     },
     "metadata": {},
     "output_type": "display_data"
    },
    {
     "data": {
      "text/html": [
       " View run <strong style=\"color:#cdcd00\">azure-sweep-65</strong> at: <a href='https://wandb.ai/peng_sun/llm-2023-SGD-hyperparameter/runs/acttcl5u' target=\"_blank\">https://wandb.ai/peng_sun/llm-2023-SGD-hyperparameter/runs/acttcl5u</a><br/>Synced 5 W&B file(s), 0 media file(s), 0 artifact file(s) and 0 other file(s)"
      ],
      "text/plain": [
       "<IPython.core.display.HTML object>"
      ]
     },
     "metadata": {},
     "output_type": "display_data"
    },
    {
     "data": {
      "text/html": [
       "Find logs at: <code>./wandb/run-20240104_203612-acttcl5u/logs</code>"
      ],
      "text/plain": [
       "<IPython.core.display.HTML object>"
      ]
     },
     "metadata": {},
     "output_type": "display_data"
    },
    {
     "name": "stderr",
     "output_type": "stream",
     "text": [
      "\u001b[34m\u001b[1mwandb\u001b[0m: Agent Starting Run: y0p56y3n with config:\n",
      "\u001b[34m\u001b[1mwandb\u001b[0m: \talpha: 0.00026757756923285596\n",
      "\u001b[34m\u001b[1mwandb\u001b[0m: \teta0: 0.034572840758658345\n",
      "\u001b[34m\u001b[1mwandb\u001b[0m: \tloss: modified_huber\n",
      "\u001b[34m\u001b[1mwandb\u001b[0m: \tmax_iter: 3387\n",
      "Failed to detect the name of this notebook, you can set it manually with the WANDB_NOTEBOOK_NAME environment variable to enable code saving.\n"
     ]
    },
    {
     "data": {
      "text/html": [
       "wandb version 0.16.1 is available!  To upgrade, please run:\n",
       " $ pip install wandb --upgrade"
      ],
      "text/plain": [
       "<IPython.core.display.HTML object>"
      ]
     },
     "metadata": {},
     "output_type": "display_data"
    },
    {
     "data": {
      "text/html": [
       "Tracking run with wandb version 0.15.11"
      ],
      "text/plain": [
       "<IPython.core.display.HTML object>"
      ]
     },
     "metadata": {},
     "output_type": "display_data"
    },
    {
     "data": {
      "text/html": [
       "Run data is saved locally in <code>/home/peng_sun2/workspace/llm-2023/wandb/run-20240104_203636-y0p56y3n</code>"
      ],
      "text/plain": [
       "<IPython.core.display.HTML object>"
      ]
     },
     "metadata": {},
     "output_type": "display_data"
    },
    {
     "data": {
      "text/html": [
       "Syncing run <strong><a href='https://wandb.ai/peng_sun/llm-2023-SGD-hyperparameter/runs/y0p56y3n' target=\"_blank\">wise-sweep-66</a></strong> to <a href='https://wandb.ai/peng_sun/llm-2023-SGD-hyperparameter' target=\"_blank\">Weights & Biases</a> (<a href='https://wandb.me/run' target=\"_blank\">docs</a>)<br/>Sweep page: <a href='https://wandb.ai/peng_sun/llm-2023-SGD-hyperparameter/sweeps/wyi8yb2f' target=\"_blank\">https://wandb.ai/peng_sun/llm-2023-SGD-hyperparameter/sweeps/wyi8yb2f</a>"
      ],
      "text/plain": [
       "<IPython.core.display.HTML object>"
      ]
     },
     "metadata": {},
     "output_type": "display_data"
    },
    {
     "data": {
      "text/html": [
       " View project at <a href='https://wandb.ai/peng_sun/llm-2023-SGD-hyperparameter' target=\"_blank\">https://wandb.ai/peng_sun/llm-2023-SGD-hyperparameter</a>"
      ],
      "text/plain": [
       "<IPython.core.display.HTML object>"
      ]
     },
     "metadata": {},
     "output_type": "display_data"
    },
    {
     "data": {
      "text/html": [
       " View sweep at <a href='https://wandb.ai/peng_sun/llm-2023-SGD-hyperparameter/sweeps/wyi8yb2f' target=\"_blank\">https://wandb.ai/peng_sun/llm-2023-SGD-hyperparameter/sweeps/wyi8yb2f</a>"
      ],
      "text/plain": [
       "<IPython.core.display.HTML object>"
      ]
     },
     "metadata": {},
     "output_type": "display_data"
    },
    {
     "data": {
      "text/html": [
       " View run at <a href='https://wandb.ai/peng_sun/llm-2023-SGD-hyperparameter/runs/y0p56y3n' target=\"_blank\">https://wandb.ai/peng_sun/llm-2023-SGD-hyperparameter/runs/y0p56y3n</a>"
      ],
      "text/plain": [
       "<IPython.core.display.HTML object>"
      ]
     },
     "metadata": {},
     "output_type": "display_data"
    },
    {
     "data": {
      "text/html": [
       "Waiting for W&B process to finish... <strong style=\"color:green\">(success).</strong>"
      ],
      "text/plain": [
       "<IPython.core.display.HTML object>"
      ]
     },
     "metadata": {},
     "output_type": "display_data"
    },
    {
     "data": {
      "text/html": [
       "<style>\n",
       "    table.wandb td:nth-child(1) { padding: 0 10px; text-align: left ; width: auto;} td:nth-child(2) {text-align: left ; width: 100%}\n",
       "    .wandb-row { display: flex; flex-direction: row; flex-wrap: wrap; justify-content: flex-start; width: 100% }\n",
       "    .wandb-col { display: flex; flex-direction: column; flex-basis: 100%; flex: 1; padding: 10px; }\n",
       "    </style>\n",
       "<div class=\"wandb-row\"><div class=\"wandb-col\"><h3>Run history:</h3><br/><table class=\"wandb\"><tr><td>validatoin_auc</td><td>███▁█</td></tr></table><br/></div><div class=\"wandb-col\"><h3>Run summary:</h3><br/><table class=\"wandb\"><tr><td>validatoin_auc</td><td>0.99266</td></tr></table><br/></div></div>"
      ],
      "text/plain": [
       "<IPython.core.display.HTML object>"
      ]
     },
     "metadata": {},
     "output_type": "display_data"
    },
    {
     "data": {
      "text/html": [
       " View run <strong style=\"color:#cdcd00\">wise-sweep-66</strong> at: <a href='https://wandb.ai/peng_sun/llm-2023-SGD-hyperparameter/runs/y0p56y3n' target=\"_blank\">https://wandb.ai/peng_sun/llm-2023-SGD-hyperparameter/runs/y0p56y3n</a><br/>Synced 5 W&B file(s), 0 media file(s), 0 artifact file(s) and 0 other file(s)"
      ],
      "text/plain": [
       "<IPython.core.display.HTML object>"
      ]
     },
     "metadata": {},
     "output_type": "display_data"
    },
    {
     "data": {
      "text/html": [
       "Find logs at: <code>./wandb/run-20240104_203636-y0p56y3n/logs</code>"
      ],
      "text/plain": [
       "<IPython.core.display.HTML object>"
      ]
     },
     "metadata": {},
     "output_type": "display_data"
    },
    {
     "name": "stderr",
     "output_type": "stream",
     "text": [
      "\u001b[34m\u001b[1mwandb\u001b[0m: Agent Starting Run: b1caks46 with config:\n",
      "\u001b[34m\u001b[1mwandb\u001b[0m: \talpha: 0.00010804446713838872\n",
      "\u001b[34m\u001b[1mwandb\u001b[0m: \teta0: 0.09153754440680271\n",
      "\u001b[34m\u001b[1mwandb\u001b[0m: \tloss: modified_huber\n",
      "\u001b[34m\u001b[1mwandb\u001b[0m: \tmax_iter: 7105\n",
      "Failed to detect the name of this notebook, you can set it manually with the WANDB_NOTEBOOK_NAME environment variable to enable code saving.\n"
     ]
    },
    {
     "data": {
      "text/html": [
       "wandb version 0.16.1 is available!  To upgrade, please run:\n",
       " $ pip install wandb --upgrade"
      ],
      "text/plain": [
       "<IPython.core.display.HTML object>"
      ]
     },
     "metadata": {},
     "output_type": "display_data"
    },
    {
     "data": {
      "text/html": [
       "Tracking run with wandb version 0.15.11"
      ],
      "text/plain": [
       "<IPython.core.display.HTML object>"
      ]
     },
     "metadata": {},
     "output_type": "display_data"
    },
    {
     "data": {
      "text/html": [
       "Run data is saved locally in <code>/home/peng_sun2/workspace/llm-2023/wandb/run-20240104_203701-b1caks46</code>"
      ],
      "text/plain": [
       "<IPython.core.display.HTML object>"
      ]
     },
     "metadata": {},
     "output_type": "display_data"
    },
    {
     "data": {
      "text/html": [
       "Syncing run <strong><a href='https://wandb.ai/peng_sun/llm-2023-SGD-hyperparameter/runs/b1caks46' target=\"_blank\">cool-sweep-67</a></strong> to <a href='https://wandb.ai/peng_sun/llm-2023-SGD-hyperparameter' target=\"_blank\">Weights & Biases</a> (<a href='https://wandb.me/run' target=\"_blank\">docs</a>)<br/>Sweep page: <a href='https://wandb.ai/peng_sun/llm-2023-SGD-hyperparameter/sweeps/wyi8yb2f' target=\"_blank\">https://wandb.ai/peng_sun/llm-2023-SGD-hyperparameter/sweeps/wyi8yb2f</a>"
      ],
      "text/plain": [
       "<IPython.core.display.HTML object>"
      ]
     },
     "metadata": {},
     "output_type": "display_data"
    },
    {
     "data": {
      "text/html": [
       " View project at <a href='https://wandb.ai/peng_sun/llm-2023-SGD-hyperparameter' target=\"_blank\">https://wandb.ai/peng_sun/llm-2023-SGD-hyperparameter</a>"
      ],
      "text/plain": [
       "<IPython.core.display.HTML object>"
      ]
     },
     "metadata": {},
     "output_type": "display_data"
    },
    {
     "data": {
      "text/html": [
       " View sweep at <a href='https://wandb.ai/peng_sun/llm-2023-SGD-hyperparameter/sweeps/wyi8yb2f' target=\"_blank\">https://wandb.ai/peng_sun/llm-2023-SGD-hyperparameter/sweeps/wyi8yb2f</a>"
      ],
      "text/plain": [
       "<IPython.core.display.HTML object>"
      ]
     },
     "metadata": {},
     "output_type": "display_data"
    },
    {
     "data": {
      "text/html": [
       " View run at <a href='https://wandb.ai/peng_sun/llm-2023-SGD-hyperparameter/runs/b1caks46' target=\"_blank\">https://wandb.ai/peng_sun/llm-2023-SGD-hyperparameter/runs/b1caks46</a>"
      ],
      "text/plain": [
       "<IPython.core.display.HTML object>"
      ]
     },
     "metadata": {},
     "output_type": "display_data"
    },
    {
     "data": {
      "text/html": [
       "Waiting for W&B process to finish... <strong style=\"color:green\">(success).</strong>"
      ],
      "text/plain": [
       "<IPython.core.display.HTML object>"
      ]
     },
     "metadata": {},
     "output_type": "display_data"
    },
    {
     "data": {
      "text/html": [
       "<style>\n",
       "    table.wandb td:nth-child(1) { padding: 0 10px; text-align: left ; width: auto;} td:nth-child(2) {text-align: left ; width: 100%}\n",
       "    .wandb-row { display: flex; flex-direction: row; flex-wrap: wrap; justify-content: flex-start; width: 100% }\n",
       "    .wandb-col { display: flex; flex-direction: column; flex-basis: 100%; flex: 1; padding: 10px; }\n",
       "    </style>\n",
       "<div class=\"wandb-row\"><div class=\"wandb-col\"><h3>Run history:</h3><br/><table class=\"wandb\"><tr><td>validatoin_auc</td><td>███▁█</td></tr></table><br/></div><div class=\"wandb-col\"><h3>Run summary:</h3><br/><table class=\"wandb\"><tr><td>validatoin_auc</td><td>0.9939</td></tr></table><br/></div></div>"
      ],
      "text/plain": [
       "<IPython.core.display.HTML object>"
      ]
     },
     "metadata": {},
     "output_type": "display_data"
    },
    {
     "data": {
      "text/html": [
       " View run <strong style=\"color:#cdcd00\">cool-sweep-67</strong> at: <a href='https://wandb.ai/peng_sun/llm-2023-SGD-hyperparameter/runs/b1caks46' target=\"_blank\">https://wandb.ai/peng_sun/llm-2023-SGD-hyperparameter/runs/b1caks46</a><br/>Synced 5 W&B file(s), 0 media file(s), 0 artifact file(s) and 0 other file(s)"
      ],
      "text/plain": [
       "<IPython.core.display.HTML object>"
      ]
     },
     "metadata": {},
     "output_type": "display_data"
    },
    {
     "data": {
      "text/html": [
       "Find logs at: <code>./wandb/run-20240104_203701-b1caks46/logs</code>"
      ],
      "text/plain": [
       "<IPython.core.display.HTML object>"
      ]
     },
     "metadata": {},
     "output_type": "display_data"
    },
    {
     "name": "stderr",
     "output_type": "stream",
     "text": [
      "\u001b[34m\u001b[1mwandb\u001b[0m: Sweep Agent: Waiting for job.\n",
      "\u001b[34m\u001b[1mwandb\u001b[0m: Job received.\n",
      "\u001b[34m\u001b[1mwandb\u001b[0m: Agent Starting Run: ggoc771t with config:\n",
      "\u001b[34m\u001b[1mwandb\u001b[0m: \talpha: 0.00025740488081325017\n",
      "\u001b[34m\u001b[1mwandb\u001b[0m: \teta0: 0.0147333604185972\n",
      "\u001b[34m\u001b[1mwandb\u001b[0m: \tloss: modified_huber\n",
      "\u001b[34m\u001b[1mwandb\u001b[0m: \tmax_iter: 7634\n",
      "Failed to detect the name of this notebook, you can set it manually with the WANDB_NOTEBOOK_NAME environment variable to enable code saving.\n"
     ]
    },
    {
     "data": {
      "text/html": [
       "wandb version 0.16.1 is available!  To upgrade, please run:\n",
       " $ pip install wandb --upgrade"
      ],
      "text/plain": [
       "<IPython.core.display.HTML object>"
      ]
     },
     "metadata": {},
     "output_type": "display_data"
    },
    {
     "data": {
      "text/html": [
       "Tracking run with wandb version 0.15.11"
      ],
      "text/plain": [
       "<IPython.core.display.HTML object>"
      ]
     },
     "metadata": {},
     "output_type": "display_data"
    },
    {
     "data": {
      "text/html": [
       "Run data is saved locally in <code>/home/peng_sun2/workspace/llm-2023/wandb/run-20240104_203732-ggoc771t</code>"
      ],
      "text/plain": [
       "<IPython.core.display.HTML object>"
      ]
     },
     "metadata": {},
     "output_type": "display_data"
    },
    {
     "data": {
      "text/html": [
       "Syncing run <strong><a href='https://wandb.ai/peng_sun/llm-2023-SGD-hyperparameter/runs/ggoc771t' target=\"_blank\">glowing-sweep-68</a></strong> to <a href='https://wandb.ai/peng_sun/llm-2023-SGD-hyperparameter' target=\"_blank\">Weights & Biases</a> (<a href='https://wandb.me/run' target=\"_blank\">docs</a>)<br/>Sweep page: <a href='https://wandb.ai/peng_sun/llm-2023-SGD-hyperparameter/sweeps/wyi8yb2f' target=\"_blank\">https://wandb.ai/peng_sun/llm-2023-SGD-hyperparameter/sweeps/wyi8yb2f</a>"
      ],
      "text/plain": [
       "<IPython.core.display.HTML object>"
      ]
     },
     "metadata": {},
     "output_type": "display_data"
    },
    {
     "data": {
      "text/html": [
       " View project at <a href='https://wandb.ai/peng_sun/llm-2023-SGD-hyperparameter' target=\"_blank\">https://wandb.ai/peng_sun/llm-2023-SGD-hyperparameter</a>"
      ],
      "text/plain": [
       "<IPython.core.display.HTML object>"
      ]
     },
     "metadata": {},
     "output_type": "display_data"
    },
    {
     "data": {
      "text/html": [
       " View sweep at <a href='https://wandb.ai/peng_sun/llm-2023-SGD-hyperparameter/sweeps/wyi8yb2f' target=\"_blank\">https://wandb.ai/peng_sun/llm-2023-SGD-hyperparameter/sweeps/wyi8yb2f</a>"
      ],
      "text/plain": [
       "<IPython.core.display.HTML object>"
      ]
     },
     "metadata": {},
     "output_type": "display_data"
    },
    {
     "data": {
      "text/html": [
       " View run at <a href='https://wandb.ai/peng_sun/llm-2023-SGD-hyperparameter/runs/ggoc771t' target=\"_blank\">https://wandb.ai/peng_sun/llm-2023-SGD-hyperparameter/runs/ggoc771t</a>"
      ],
      "text/plain": [
       "<IPython.core.display.HTML object>"
      ]
     },
     "metadata": {},
     "output_type": "display_data"
    },
    {
     "data": {
      "text/html": [
       "Waiting for W&B process to finish... <strong style=\"color:green\">(success).</strong>"
      ],
      "text/plain": [
       "<IPython.core.display.HTML object>"
      ]
     },
     "metadata": {},
     "output_type": "display_data"
    },
    {
     "data": {
      "text/html": [
       "<style>\n",
       "    table.wandb td:nth-child(1) { padding: 0 10px; text-align: left ; width: auto;} td:nth-child(2) {text-align: left ; width: 100%}\n",
       "    .wandb-row { display: flex; flex-direction: row; flex-wrap: wrap; justify-content: flex-start; width: 100% }\n",
       "    .wandb-col { display: flex; flex-direction: column; flex-basis: 100%; flex: 1; padding: 10px; }\n",
       "    </style>\n",
       "<div class=\"wandb-row\"><div class=\"wandb-col\"><h3>Run history:</h3><br/><table class=\"wandb\"><tr><td>validatoin_auc</td><td>███▁█</td></tr></table><br/></div><div class=\"wandb-col\"><h3>Run summary:</h3><br/><table class=\"wandb\"><tr><td>validatoin_auc</td><td>0.99285</td></tr></table><br/></div></div>"
      ],
      "text/plain": [
       "<IPython.core.display.HTML object>"
      ]
     },
     "metadata": {},
     "output_type": "display_data"
    },
    {
     "data": {
      "text/html": [
       " View run <strong style=\"color:#cdcd00\">glowing-sweep-68</strong> at: <a href='https://wandb.ai/peng_sun/llm-2023-SGD-hyperparameter/runs/ggoc771t' target=\"_blank\">https://wandb.ai/peng_sun/llm-2023-SGD-hyperparameter/runs/ggoc771t</a><br/>Synced 5 W&B file(s), 0 media file(s), 0 artifact file(s) and 0 other file(s)"
      ],
      "text/plain": [
       "<IPython.core.display.HTML object>"
      ]
     },
     "metadata": {},
     "output_type": "display_data"
    },
    {
     "data": {
      "text/html": [
       "Find logs at: <code>./wandb/run-20240104_203732-ggoc771t/logs</code>"
      ],
      "text/plain": [
       "<IPython.core.display.HTML object>"
      ]
     },
     "metadata": {},
     "output_type": "display_data"
    },
    {
     "name": "stderr",
     "output_type": "stream",
     "text": [
      "\u001b[34m\u001b[1mwandb\u001b[0m: Agent Starting Run: 6w0hsqou with config:\n",
      "\u001b[34m\u001b[1mwandb\u001b[0m: \talpha: 0.00014831326136010122\n",
      "\u001b[34m\u001b[1mwandb\u001b[0m: \teta0: 0.021996405680250304\n",
      "\u001b[34m\u001b[1mwandb\u001b[0m: \tloss: modified_huber\n",
      "\u001b[34m\u001b[1mwandb\u001b[0m: \tmax_iter: 9658\n",
      "Failed to detect the name of this notebook, you can set it manually with the WANDB_NOTEBOOK_NAME environment variable to enable code saving.\n"
     ]
    },
    {
     "data": {
      "text/html": [
       "wandb version 0.16.1 is available!  To upgrade, please run:\n",
       " $ pip install wandb --upgrade"
      ],
      "text/plain": [
       "<IPython.core.display.HTML object>"
      ]
     },
     "metadata": {},
     "output_type": "display_data"
    },
    {
     "data": {
      "text/html": [
       "Tracking run with wandb version 0.15.11"
      ],
      "text/plain": [
       "<IPython.core.display.HTML object>"
      ]
     },
     "metadata": {},
     "output_type": "display_data"
    },
    {
     "data": {
      "text/html": [
       "Run data is saved locally in <code>/home/peng_sun2/workspace/llm-2023/wandb/run-20240104_203758-6w0hsqou</code>"
      ],
      "text/plain": [
       "<IPython.core.display.HTML object>"
      ]
     },
     "metadata": {},
     "output_type": "display_data"
    },
    {
     "data": {
      "text/html": [
       "Syncing run <strong><a href='https://wandb.ai/peng_sun/llm-2023-SGD-hyperparameter/runs/6w0hsqou' target=\"_blank\">spring-sweep-69</a></strong> to <a href='https://wandb.ai/peng_sun/llm-2023-SGD-hyperparameter' target=\"_blank\">Weights & Biases</a> (<a href='https://wandb.me/run' target=\"_blank\">docs</a>)<br/>Sweep page: <a href='https://wandb.ai/peng_sun/llm-2023-SGD-hyperparameter/sweeps/wyi8yb2f' target=\"_blank\">https://wandb.ai/peng_sun/llm-2023-SGD-hyperparameter/sweeps/wyi8yb2f</a>"
      ],
      "text/plain": [
       "<IPython.core.display.HTML object>"
      ]
     },
     "metadata": {},
     "output_type": "display_data"
    },
    {
     "data": {
      "text/html": [
       " View project at <a href='https://wandb.ai/peng_sun/llm-2023-SGD-hyperparameter' target=\"_blank\">https://wandb.ai/peng_sun/llm-2023-SGD-hyperparameter</a>"
      ],
      "text/plain": [
       "<IPython.core.display.HTML object>"
      ]
     },
     "metadata": {},
     "output_type": "display_data"
    },
    {
     "data": {
      "text/html": [
       " View sweep at <a href='https://wandb.ai/peng_sun/llm-2023-SGD-hyperparameter/sweeps/wyi8yb2f' target=\"_blank\">https://wandb.ai/peng_sun/llm-2023-SGD-hyperparameter/sweeps/wyi8yb2f</a>"
      ],
      "text/plain": [
       "<IPython.core.display.HTML object>"
      ]
     },
     "metadata": {},
     "output_type": "display_data"
    },
    {
     "data": {
      "text/html": [
       " View run at <a href='https://wandb.ai/peng_sun/llm-2023-SGD-hyperparameter/runs/6w0hsqou' target=\"_blank\">https://wandb.ai/peng_sun/llm-2023-SGD-hyperparameter/runs/6w0hsqou</a>"
      ],
      "text/plain": [
       "<IPython.core.display.HTML object>"
      ]
     },
     "metadata": {},
     "output_type": "display_data"
    },
    {
     "data": {
      "text/html": [
       "Waiting for W&B process to finish... <strong style=\"color:green\">(success).</strong>"
      ],
      "text/plain": [
       "<IPython.core.display.HTML object>"
      ]
     },
     "metadata": {},
     "output_type": "display_data"
    },
    {
     "data": {
      "text/html": [
       "<style>\n",
       "    table.wandb td:nth-child(1) { padding: 0 10px; text-align: left ; width: auto;} td:nth-child(2) {text-align: left ; width: 100%}\n",
       "    .wandb-row { display: flex; flex-direction: row; flex-wrap: wrap; justify-content: flex-start; width: 100% }\n",
       "    .wandb-col { display: flex; flex-direction: column; flex-basis: 100%; flex: 1; padding: 10px; }\n",
       "    </style>\n",
       "<div class=\"wandb-row\"><div class=\"wandb-col\"><h3>Run history:</h3><br/><table class=\"wandb\"><tr><td>validatoin_auc</td><td>███▁█</td></tr></table><br/></div><div class=\"wandb-col\"><h3>Run summary:</h3><br/><table class=\"wandb\"><tr><td>validatoin_auc</td><td>0.99399</td></tr></table><br/></div></div>"
      ],
      "text/plain": [
       "<IPython.core.display.HTML object>"
      ]
     },
     "metadata": {},
     "output_type": "display_data"
    },
    {
     "data": {
      "text/html": [
       " View run <strong style=\"color:#cdcd00\">spring-sweep-69</strong> at: <a href='https://wandb.ai/peng_sun/llm-2023-SGD-hyperparameter/runs/6w0hsqou' target=\"_blank\">https://wandb.ai/peng_sun/llm-2023-SGD-hyperparameter/runs/6w0hsqou</a><br/>Synced 5 W&B file(s), 0 media file(s), 0 artifact file(s) and 0 other file(s)"
      ],
      "text/plain": [
       "<IPython.core.display.HTML object>"
      ]
     },
     "metadata": {},
     "output_type": "display_data"
    },
    {
     "data": {
      "text/html": [
       "Find logs at: <code>./wandb/run-20240104_203758-6w0hsqou/logs</code>"
      ],
      "text/plain": [
       "<IPython.core.display.HTML object>"
      ]
     },
     "metadata": {},
     "output_type": "display_data"
    },
    {
     "name": "stderr",
     "output_type": "stream",
     "text": [
      "\u001b[34m\u001b[1mwandb\u001b[0m: Sweep Agent: Waiting for job.\n",
      "\u001b[34m\u001b[1mwandb\u001b[0m: Job received.\n",
      "\u001b[34m\u001b[1mwandb\u001b[0m: Agent Starting Run: inw3c0ga with config:\n",
      "\u001b[34m\u001b[1mwandb\u001b[0m: \talpha: 0.00018424683501645585\n",
      "\u001b[34m\u001b[1mwandb\u001b[0m: \teta0: 0.02436259604646525\n",
      "\u001b[34m\u001b[1mwandb\u001b[0m: \tloss: modified_huber\n",
      "\u001b[34m\u001b[1mwandb\u001b[0m: \tmax_iter: 2247\n",
      "Failed to detect the name of this notebook, you can set it manually with the WANDB_NOTEBOOK_NAME environment variable to enable code saving.\n"
     ]
    },
    {
     "data": {
      "text/html": [
       "wandb version 0.16.1 is available!  To upgrade, please run:\n",
       " $ pip install wandb --upgrade"
      ],
      "text/plain": [
       "<IPython.core.display.HTML object>"
      ]
     },
     "metadata": {},
     "output_type": "display_data"
    },
    {
     "data": {
      "text/html": [
       "Tracking run with wandb version 0.15.11"
      ],
      "text/plain": [
       "<IPython.core.display.HTML object>"
      ]
     },
     "metadata": {},
     "output_type": "display_data"
    },
    {
     "data": {
      "text/html": [
       "Run data is saved locally in <code>/home/peng_sun2/workspace/llm-2023/wandb/run-20240104_203829-inw3c0ga</code>"
      ],
      "text/plain": [
       "<IPython.core.display.HTML object>"
      ]
     },
     "metadata": {},
     "output_type": "display_data"
    },
    {
     "data": {
      "text/html": [
       "Syncing run <strong><a href='https://wandb.ai/peng_sun/llm-2023-SGD-hyperparameter/runs/inw3c0ga' target=\"_blank\">cool-sweep-70</a></strong> to <a href='https://wandb.ai/peng_sun/llm-2023-SGD-hyperparameter' target=\"_blank\">Weights & Biases</a> (<a href='https://wandb.me/run' target=\"_blank\">docs</a>)<br/>Sweep page: <a href='https://wandb.ai/peng_sun/llm-2023-SGD-hyperparameter/sweeps/wyi8yb2f' target=\"_blank\">https://wandb.ai/peng_sun/llm-2023-SGD-hyperparameter/sweeps/wyi8yb2f</a>"
      ],
      "text/plain": [
       "<IPython.core.display.HTML object>"
      ]
     },
     "metadata": {},
     "output_type": "display_data"
    },
    {
     "data": {
      "text/html": [
       " View project at <a href='https://wandb.ai/peng_sun/llm-2023-SGD-hyperparameter' target=\"_blank\">https://wandb.ai/peng_sun/llm-2023-SGD-hyperparameter</a>"
      ],
      "text/plain": [
       "<IPython.core.display.HTML object>"
      ]
     },
     "metadata": {},
     "output_type": "display_data"
    },
    {
     "data": {
      "text/html": [
       " View sweep at <a href='https://wandb.ai/peng_sun/llm-2023-SGD-hyperparameter/sweeps/wyi8yb2f' target=\"_blank\">https://wandb.ai/peng_sun/llm-2023-SGD-hyperparameter/sweeps/wyi8yb2f</a>"
      ],
      "text/plain": [
       "<IPython.core.display.HTML object>"
      ]
     },
     "metadata": {},
     "output_type": "display_data"
    },
    {
     "data": {
      "text/html": [
       " View run at <a href='https://wandb.ai/peng_sun/llm-2023-SGD-hyperparameter/runs/inw3c0ga' target=\"_blank\">https://wandb.ai/peng_sun/llm-2023-SGD-hyperparameter/runs/inw3c0ga</a>"
      ],
      "text/plain": [
       "<IPython.core.display.HTML object>"
      ]
     },
     "metadata": {},
     "output_type": "display_data"
    },
    {
     "data": {
      "text/html": [
       "Waiting for W&B process to finish... <strong style=\"color:green\">(success).</strong>"
      ],
      "text/plain": [
       "<IPython.core.display.HTML object>"
      ]
     },
     "metadata": {},
     "output_type": "display_data"
    },
    {
     "data": {
      "text/html": [
       "<style>\n",
       "    table.wandb td:nth-child(1) { padding: 0 10px; text-align: left ; width: auto;} td:nth-child(2) {text-align: left ; width: 100%}\n",
       "    .wandb-row { display: flex; flex-direction: row; flex-wrap: wrap; justify-content: flex-start; width: 100% }\n",
       "    .wandb-col { display: flex; flex-direction: column; flex-basis: 100%; flex: 1; padding: 10px; }\n",
       "    </style>\n",
       "<div class=\"wandb-row\"><div class=\"wandb-col\"><h3>Run history:</h3><br/><table class=\"wandb\"><tr><td>validatoin_auc</td><td>███▁█</td></tr></table><br/></div><div class=\"wandb-col\"><h3>Run summary:</h3><br/><table class=\"wandb\"><tr><td>validatoin_auc</td><td>0.9933</td></tr></table><br/></div></div>"
      ],
      "text/plain": [
       "<IPython.core.display.HTML object>"
      ]
     },
     "metadata": {},
     "output_type": "display_data"
    },
    {
     "data": {
      "text/html": [
       " View run <strong style=\"color:#cdcd00\">cool-sweep-70</strong> at: <a href='https://wandb.ai/peng_sun/llm-2023-SGD-hyperparameter/runs/inw3c0ga' target=\"_blank\">https://wandb.ai/peng_sun/llm-2023-SGD-hyperparameter/runs/inw3c0ga</a><br/>Synced 5 W&B file(s), 0 media file(s), 0 artifact file(s) and 0 other file(s)"
      ],
      "text/plain": [
       "<IPython.core.display.HTML object>"
      ]
     },
     "metadata": {},
     "output_type": "display_data"
    },
    {
     "data": {
      "text/html": [
       "Find logs at: <code>./wandb/run-20240104_203829-inw3c0ga/logs</code>"
      ],
      "text/plain": [
       "<IPython.core.display.HTML object>"
      ]
     },
     "metadata": {},
     "output_type": "display_data"
    },
    {
     "name": "stderr",
     "output_type": "stream",
     "text": [
      "\u001b[34m\u001b[1mwandb\u001b[0m: Agent Starting Run: t6tzp5d3 with config:\n",
      "\u001b[34m\u001b[1mwandb\u001b[0m: \talpha: 0.009330547173718909\n",
      "\u001b[34m\u001b[1mwandb\u001b[0m: \teta0: 0.09946524371125388\n",
      "\u001b[34m\u001b[1mwandb\u001b[0m: \tloss: hinge\n",
      "\u001b[34m\u001b[1mwandb\u001b[0m: \tmax_iter: 1705\n",
      "Failed to detect the name of this notebook, you can set it manually with the WANDB_NOTEBOOK_NAME environment variable to enable code saving.\n"
     ]
    },
    {
     "data": {
      "text/html": [
       "wandb version 0.16.1 is available!  To upgrade, please run:\n",
       " $ pip install wandb --upgrade"
      ],
      "text/plain": [
       "<IPython.core.display.HTML object>"
      ]
     },
     "metadata": {},
     "output_type": "display_data"
    },
    {
     "data": {
      "text/html": [
       "Tracking run with wandb version 0.15.11"
      ],
      "text/plain": [
       "<IPython.core.display.HTML object>"
      ]
     },
     "metadata": {},
     "output_type": "display_data"
    },
    {
     "data": {
      "text/html": [
       "Run data is saved locally in <code>/home/peng_sun2/workspace/llm-2023/wandb/run-20240104_203854-t6tzp5d3</code>"
      ],
      "text/plain": [
       "<IPython.core.display.HTML object>"
      ]
     },
     "metadata": {},
     "output_type": "display_data"
    },
    {
     "data": {
      "text/html": [
       "Syncing run <strong><a href='https://wandb.ai/peng_sun/llm-2023-SGD-hyperparameter/runs/t6tzp5d3' target=\"_blank\">silver-sweep-71</a></strong> to <a href='https://wandb.ai/peng_sun/llm-2023-SGD-hyperparameter' target=\"_blank\">Weights & Biases</a> (<a href='https://wandb.me/run' target=\"_blank\">docs</a>)<br/>Sweep page: <a href='https://wandb.ai/peng_sun/llm-2023-SGD-hyperparameter/sweeps/wyi8yb2f' target=\"_blank\">https://wandb.ai/peng_sun/llm-2023-SGD-hyperparameter/sweeps/wyi8yb2f</a>"
      ],
      "text/plain": [
       "<IPython.core.display.HTML object>"
      ]
     },
     "metadata": {},
     "output_type": "display_data"
    },
    {
     "data": {
      "text/html": [
       " View project at <a href='https://wandb.ai/peng_sun/llm-2023-SGD-hyperparameter' target=\"_blank\">https://wandb.ai/peng_sun/llm-2023-SGD-hyperparameter</a>"
      ],
      "text/plain": [
       "<IPython.core.display.HTML object>"
      ]
     },
     "metadata": {},
     "output_type": "display_data"
    },
    {
     "data": {
      "text/html": [
       " View sweep at <a href='https://wandb.ai/peng_sun/llm-2023-SGD-hyperparameter/sweeps/wyi8yb2f' target=\"_blank\">https://wandb.ai/peng_sun/llm-2023-SGD-hyperparameter/sweeps/wyi8yb2f</a>"
      ],
      "text/plain": [
       "<IPython.core.display.HTML object>"
      ]
     },
     "metadata": {},
     "output_type": "display_data"
    },
    {
     "data": {
      "text/html": [
       " View run at <a href='https://wandb.ai/peng_sun/llm-2023-SGD-hyperparameter/runs/t6tzp5d3' target=\"_blank\">https://wandb.ai/peng_sun/llm-2023-SGD-hyperparameter/runs/t6tzp5d3</a>"
      ],
      "text/plain": [
       "<IPython.core.display.HTML object>"
      ]
     },
     "metadata": {},
     "output_type": "display_data"
    },
    {
     "name": "stderr",
     "output_type": "stream",
     "text": [
      "Traceback (most recent call last):\n",
      "  File \"/tmp/ipykernel_17738/3206656641.py\", line 24, in train_sweep\n",
      "    eval_preds = model.predict_proba(eval_X)[:, 1]\n",
      "  File \"/home/peng_sun2/.local/lib/python3.9/site-packages/sklearn/utils/_available_if.py\", line 32, in __get__\n",
      "    if not self.check(obj):\n",
      "  File \"/home/peng_sun2/.local/lib/python3.9/site-packages/sklearn/linear_model/_stochastic_gradient.py\", line 1235, in _check_proba\n",
      "    raise AttributeError(\n",
      "AttributeError: probability estimates are not available for loss='hinge'\n"
     ]
    },
    {
     "data": {
      "text/html": [
       "Waiting for W&B process to finish... <strong style=\"color:red\">(failed 1).</strong> Press Control-C to abort syncing."
      ],
      "text/plain": [
       "<IPython.core.display.HTML object>"
      ]
     },
     "metadata": {},
     "output_type": "display_data"
    },
    {
     "data": {
      "application/vnd.jupyter.widget-view+json": {
       "model_id": "80cb7d817c984e16b9a3c8ee8f6f8035",
       "version_major": 2,
       "version_minor": 0
      },
      "text/plain": [
       "VBox(children=(Label(value='0.002 MB of 0.002 MB uploaded (0.000 MB deduped)\\r'), FloatProgress(value=1.0, max…"
      ]
     },
     "metadata": {},
     "output_type": "display_data"
    },
    {
     "data": {
      "text/html": [
       " View run <strong style=\"color:#cdcd00\">silver-sweep-71</strong> at: <a href='https://wandb.ai/peng_sun/llm-2023-SGD-hyperparameter/runs/t6tzp5d3' target=\"_blank\">https://wandb.ai/peng_sun/llm-2023-SGD-hyperparameter/runs/t6tzp5d3</a><br/>Synced 6 W&B file(s), 0 media file(s), 0 artifact file(s) and 0 other file(s)"
      ],
      "text/plain": [
       "<IPython.core.display.HTML object>"
      ]
     },
     "metadata": {},
     "output_type": "display_data"
    },
    {
     "data": {
      "text/html": [
       "Find logs at: <code>./wandb/run-20240104_203854-t6tzp5d3/logs</code>"
      ],
      "text/plain": [
       "<IPython.core.display.HTML object>"
      ]
     },
     "metadata": {},
     "output_type": "display_data"
    },
    {
     "name": "stderr",
     "output_type": "stream",
     "text": [
      "Run t6tzp5d3 errored: AttributeError(\"probability estimates are not available for loss='hinge'\")\n",
      "\u001b[34m\u001b[1mwandb\u001b[0m: \u001b[32m\u001b[41mERROR\u001b[0m Run t6tzp5d3 errored: AttributeError(\"probability estimates are not available for loss='hinge'\")\n",
      "\u001b[34m\u001b[1mwandb\u001b[0m: Agent Starting Run: 64dac102 with config:\n",
      "\u001b[34m\u001b[1mwandb\u001b[0m: \talpha: 0.00013340436308213188\n",
      "\u001b[34m\u001b[1mwandb\u001b[0m: \teta0: 0.07729251419066072\n",
      "\u001b[34m\u001b[1mwandb\u001b[0m: \tloss: modified_huber\n",
      "\u001b[34m\u001b[1mwandb\u001b[0m: \tmax_iter: 3927\n",
      "Failed to detect the name of this notebook, you can set it manually with the WANDB_NOTEBOOK_NAME environment variable to enable code saving.\n"
     ]
    },
    {
     "data": {
      "text/html": [
       "wandb version 0.16.1 is available!  To upgrade, please run:\n",
       " $ pip install wandb --upgrade"
      ],
      "text/plain": [
       "<IPython.core.display.HTML object>"
      ]
     },
     "metadata": {},
     "output_type": "display_data"
    },
    {
     "data": {
      "text/html": [
       "Tracking run with wandb version 0.15.11"
      ],
      "text/plain": [
       "<IPython.core.display.HTML object>"
      ]
     },
     "metadata": {},
     "output_type": "display_data"
    },
    {
     "data": {
      "text/html": [
       "Run data is saved locally in <code>/home/peng_sun2/workspace/llm-2023/wandb/run-20240104_203910-64dac102</code>"
      ],
      "text/plain": [
       "<IPython.core.display.HTML object>"
      ]
     },
     "metadata": {},
     "output_type": "display_data"
    },
    {
     "data": {
      "text/html": [
       "Syncing run <strong><a href='https://wandb.ai/peng_sun/llm-2023-SGD-hyperparameter/runs/64dac102' target=\"_blank\">robust-sweep-72</a></strong> to <a href='https://wandb.ai/peng_sun/llm-2023-SGD-hyperparameter' target=\"_blank\">Weights & Biases</a> (<a href='https://wandb.me/run' target=\"_blank\">docs</a>)<br/>Sweep page: <a href='https://wandb.ai/peng_sun/llm-2023-SGD-hyperparameter/sweeps/wyi8yb2f' target=\"_blank\">https://wandb.ai/peng_sun/llm-2023-SGD-hyperparameter/sweeps/wyi8yb2f</a>"
      ],
      "text/plain": [
       "<IPython.core.display.HTML object>"
      ]
     },
     "metadata": {},
     "output_type": "display_data"
    },
    {
     "data": {
      "text/html": [
       " View project at <a href='https://wandb.ai/peng_sun/llm-2023-SGD-hyperparameter' target=\"_blank\">https://wandb.ai/peng_sun/llm-2023-SGD-hyperparameter</a>"
      ],
      "text/plain": [
       "<IPython.core.display.HTML object>"
      ]
     },
     "metadata": {},
     "output_type": "display_data"
    },
    {
     "data": {
      "text/html": [
       " View sweep at <a href='https://wandb.ai/peng_sun/llm-2023-SGD-hyperparameter/sweeps/wyi8yb2f' target=\"_blank\">https://wandb.ai/peng_sun/llm-2023-SGD-hyperparameter/sweeps/wyi8yb2f</a>"
      ],
      "text/plain": [
       "<IPython.core.display.HTML object>"
      ]
     },
     "metadata": {},
     "output_type": "display_data"
    },
    {
     "data": {
      "text/html": [
       " View run at <a href='https://wandb.ai/peng_sun/llm-2023-SGD-hyperparameter/runs/64dac102' target=\"_blank\">https://wandb.ai/peng_sun/llm-2023-SGD-hyperparameter/runs/64dac102</a>"
      ],
      "text/plain": [
       "<IPython.core.display.HTML object>"
      ]
     },
     "metadata": {},
     "output_type": "display_data"
    },
    {
     "data": {
      "text/html": [
       "Waiting for W&B process to finish... <strong style=\"color:green\">(success).</strong>"
      ],
      "text/plain": [
       "<IPython.core.display.HTML object>"
      ]
     },
     "metadata": {},
     "output_type": "display_data"
    },
    {
     "data": {
      "text/html": [
       "<style>\n",
       "    table.wandb td:nth-child(1) { padding: 0 10px; text-align: left ; width: auto;} td:nth-child(2) {text-align: left ; width: 100%}\n",
       "    .wandb-row { display: flex; flex-direction: row; flex-wrap: wrap; justify-content: flex-start; width: 100% }\n",
       "    .wandb-col { display: flex; flex-direction: column; flex-basis: 100%; flex: 1; padding: 10px; }\n",
       "    </style>\n",
       "<div class=\"wandb-row\"><div class=\"wandb-col\"><h3>Run history:</h3><br/><table class=\"wandb\"><tr><td>validatoin_auc</td><td>███▁█</td></tr></table><br/></div><div class=\"wandb-col\"><h3>Run summary:</h3><br/><table class=\"wandb\"><tr><td>validatoin_auc</td><td>0.99404</td></tr></table><br/></div></div>"
      ],
      "text/plain": [
       "<IPython.core.display.HTML object>"
      ]
     },
     "metadata": {},
     "output_type": "display_data"
    },
    {
     "data": {
      "text/html": [
       " View run <strong style=\"color:#cdcd00\">robust-sweep-72</strong> at: <a href='https://wandb.ai/peng_sun/llm-2023-SGD-hyperparameter/runs/64dac102' target=\"_blank\">https://wandb.ai/peng_sun/llm-2023-SGD-hyperparameter/runs/64dac102</a><br/>Synced 5 W&B file(s), 0 media file(s), 0 artifact file(s) and 0 other file(s)"
      ],
      "text/plain": [
       "<IPython.core.display.HTML object>"
      ]
     },
     "metadata": {},
     "output_type": "display_data"
    },
    {
     "data": {
      "text/html": [
       "Find logs at: <code>./wandb/run-20240104_203910-64dac102/logs</code>"
      ],
      "text/plain": [
       "<IPython.core.display.HTML object>"
      ]
     },
     "metadata": {},
     "output_type": "display_data"
    },
    {
     "name": "stderr",
     "output_type": "stream",
     "text": [
      "\u001b[34m\u001b[1mwandb\u001b[0m: Agent Starting Run: 9ffmyvkk with config:\n",
      "\u001b[34m\u001b[1mwandb\u001b[0m: \talpha: 0.00013564500967029418\n",
      "\u001b[34m\u001b[1mwandb\u001b[0m: \teta0: 0.017234648928325335\n",
      "\u001b[34m\u001b[1mwandb\u001b[0m: \tloss: modified_huber\n",
      "\u001b[34m\u001b[1mwandb\u001b[0m: \tmax_iter: 6186\n",
      "Failed to detect the name of this notebook, you can set it manually with the WANDB_NOTEBOOK_NAME environment variable to enable code saving.\n"
     ]
    },
    {
     "data": {
      "text/html": [
       "wandb version 0.16.1 is available!  To upgrade, please run:\n",
       " $ pip install wandb --upgrade"
      ],
      "text/plain": [
       "<IPython.core.display.HTML object>"
      ]
     },
     "metadata": {},
     "output_type": "display_data"
    },
    {
     "data": {
      "text/html": [
       "Tracking run with wandb version 0.15.11"
      ],
      "text/plain": [
       "<IPython.core.display.HTML object>"
      ]
     },
     "metadata": {},
     "output_type": "display_data"
    },
    {
     "data": {
      "text/html": [
       "Run data is saved locally in <code>/home/peng_sun2/workspace/llm-2023/wandb/run-20240104_203935-9ffmyvkk</code>"
      ],
      "text/plain": [
       "<IPython.core.display.HTML object>"
      ]
     },
     "metadata": {},
     "output_type": "display_data"
    },
    {
     "data": {
      "text/html": [
       "Syncing run <strong><a href='https://wandb.ai/peng_sun/llm-2023-SGD-hyperparameter/runs/9ffmyvkk' target=\"_blank\">fancy-sweep-73</a></strong> to <a href='https://wandb.ai/peng_sun/llm-2023-SGD-hyperparameter' target=\"_blank\">Weights & Biases</a> (<a href='https://wandb.me/run' target=\"_blank\">docs</a>)<br/>Sweep page: <a href='https://wandb.ai/peng_sun/llm-2023-SGD-hyperparameter/sweeps/wyi8yb2f' target=\"_blank\">https://wandb.ai/peng_sun/llm-2023-SGD-hyperparameter/sweeps/wyi8yb2f</a>"
      ],
      "text/plain": [
       "<IPython.core.display.HTML object>"
      ]
     },
     "metadata": {},
     "output_type": "display_data"
    },
    {
     "data": {
      "text/html": [
       " View project at <a href='https://wandb.ai/peng_sun/llm-2023-SGD-hyperparameter' target=\"_blank\">https://wandb.ai/peng_sun/llm-2023-SGD-hyperparameter</a>"
      ],
      "text/plain": [
       "<IPython.core.display.HTML object>"
      ]
     },
     "metadata": {},
     "output_type": "display_data"
    },
    {
     "data": {
      "text/html": [
       " View sweep at <a href='https://wandb.ai/peng_sun/llm-2023-SGD-hyperparameter/sweeps/wyi8yb2f' target=\"_blank\">https://wandb.ai/peng_sun/llm-2023-SGD-hyperparameter/sweeps/wyi8yb2f</a>"
      ],
      "text/plain": [
       "<IPython.core.display.HTML object>"
      ]
     },
     "metadata": {},
     "output_type": "display_data"
    },
    {
     "data": {
      "text/html": [
       " View run at <a href='https://wandb.ai/peng_sun/llm-2023-SGD-hyperparameter/runs/9ffmyvkk' target=\"_blank\">https://wandb.ai/peng_sun/llm-2023-SGD-hyperparameter/runs/9ffmyvkk</a>"
      ],
      "text/plain": [
       "<IPython.core.display.HTML object>"
      ]
     },
     "metadata": {},
     "output_type": "display_data"
    },
    {
     "data": {
      "text/html": [
       "Waiting for W&B process to finish... <strong style=\"color:green\">(success).</strong>"
      ],
      "text/plain": [
       "<IPython.core.display.HTML object>"
      ]
     },
     "metadata": {},
     "output_type": "display_data"
    },
    {
     "data": {
      "text/html": [
       "<style>\n",
       "    table.wandb td:nth-child(1) { padding: 0 10px; text-align: left ; width: auto;} td:nth-child(2) {text-align: left ; width: 100%}\n",
       "    .wandb-row { display: flex; flex-direction: row; flex-wrap: wrap; justify-content: flex-start; width: 100% }\n",
       "    .wandb-col { display: flex; flex-direction: column; flex-basis: 100%; flex: 1; padding: 10px; }\n",
       "    </style>\n",
       "<div class=\"wandb-row\"><div class=\"wandb-col\"><h3>Run history:</h3><br/><table class=\"wandb\"><tr><td>validatoin_auc</td><td>███▁█</td></tr></table><br/></div><div class=\"wandb-col\"><h3>Run summary:</h3><br/><table class=\"wandb\"><tr><td>validatoin_auc</td><td>0.99386</td></tr></table><br/></div></div>"
      ],
      "text/plain": [
       "<IPython.core.display.HTML object>"
      ]
     },
     "metadata": {},
     "output_type": "display_data"
    },
    {
     "data": {
      "text/html": [
       " View run <strong style=\"color:#cdcd00\">fancy-sweep-73</strong> at: <a href='https://wandb.ai/peng_sun/llm-2023-SGD-hyperparameter/runs/9ffmyvkk' target=\"_blank\">https://wandb.ai/peng_sun/llm-2023-SGD-hyperparameter/runs/9ffmyvkk</a><br/>Synced 5 W&B file(s), 0 media file(s), 0 artifact file(s) and 0 other file(s)"
      ],
      "text/plain": [
       "<IPython.core.display.HTML object>"
      ]
     },
     "metadata": {},
     "output_type": "display_data"
    },
    {
     "data": {
      "text/html": [
       "Find logs at: <code>./wandb/run-20240104_203935-9ffmyvkk/logs</code>"
      ],
      "text/plain": [
       "<IPython.core.display.HTML object>"
      ]
     },
     "metadata": {},
     "output_type": "display_data"
    },
    {
     "name": "stderr",
     "output_type": "stream",
     "text": [
      "\u001b[34m\u001b[1mwandb\u001b[0m: Sweep Agent: Waiting for job.\n",
      "\u001b[34m\u001b[1mwandb\u001b[0m: Job received.\n",
      "\u001b[34m\u001b[1mwandb\u001b[0m: Agent Starting Run: zquhglp3 with config:\n",
      "\u001b[34m\u001b[1mwandb\u001b[0m: \talpha: 0.00010261889773772992\n",
      "\u001b[34m\u001b[1mwandb\u001b[0m: \teta0: 0.05045458529685686\n",
      "\u001b[34m\u001b[1mwandb\u001b[0m: \tloss: modified_huber\n",
      "\u001b[34m\u001b[1mwandb\u001b[0m: \tmax_iter: 5561\n",
      "Failed to detect the name of this notebook, you can set it manually with the WANDB_NOTEBOOK_NAME environment variable to enable code saving.\n"
     ]
    },
    {
     "data": {
      "text/html": [
       "wandb version 0.16.1 is available!  To upgrade, please run:\n",
       " $ pip install wandb --upgrade"
      ],
      "text/plain": [
       "<IPython.core.display.HTML object>"
      ]
     },
     "metadata": {},
     "output_type": "display_data"
    },
    {
     "data": {
      "text/html": [
       "Tracking run with wandb version 0.15.11"
      ],
      "text/plain": [
       "<IPython.core.display.HTML object>"
      ]
     },
     "metadata": {},
     "output_type": "display_data"
    },
    {
     "data": {
      "text/html": [
       "Run data is saved locally in <code>/home/peng_sun2/workspace/llm-2023/wandb/run-20240104_204007-zquhglp3</code>"
      ],
      "text/plain": [
       "<IPython.core.display.HTML object>"
      ]
     },
     "metadata": {},
     "output_type": "display_data"
    },
    {
     "data": {
      "text/html": [
       "Syncing run <strong><a href='https://wandb.ai/peng_sun/llm-2023-SGD-hyperparameter/runs/zquhglp3' target=\"_blank\">fresh-sweep-74</a></strong> to <a href='https://wandb.ai/peng_sun/llm-2023-SGD-hyperparameter' target=\"_blank\">Weights & Biases</a> (<a href='https://wandb.me/run' target=\"_blank\">docs</a>)<br/>Sweep page: <a href='https://wandb.ai/peng_sun/llm-2023-SGD-hyperparameter/sweeps/wyi8yb2f' target=\"_blank\">https://wandb.ai/peng_sun/llm-2023-SGD-hyperparameter/sweeps/wyi8yb2f</a>"
      ],
      "text/plain": [
       "<IPython.core.display.HTML object>"
      ]
     },
     "metadata": {},
     "output_type": "display_data"
    },
    {
     "data": {
      "text/html": [
       " View project at <a href='https://wandb.ai/peng_sun/llm-2023-SGD-hyperparameter' target=\"_blank\">https://wandb.ai/peng_sun/llm-2023-SGD-hyperparameter</a>"
      ],
      "text/plain": [
       "<IPython.core.display.HTML object>"
      ]
     },
     "metadata": {},
     "output_type": "display_data"
    },
    {
     "data": {
      "text/html": [
       " View sweep at <a href='https://wandb.ai/peng_sun/llm-2023-SGD-hyperparameter/sweeps/wyi8yb2f' target=\"_blank\">https://wandb.ai/peng_sun/llm-2023-SGD-hyperparameter/sweeps/wyi8yb2f</a>"
      ],
      "text/plain": [
       "<IPython.core.display.HTML object>"
      ]
     },
     "metadata": {},
     "output_type": "display_data"
    },
    {
     "data": {
      "text/html": [
       " View run at <a href='https://wandb.ai/peng_sun/llm-2023-SGD-hyperparameter/runs/zquhglp3' target=\"_blank\">https://wandb.ai/peng_sun/llm-2023-SGD-hyperparameter/runs/zquhglp3</a>"
      ],
      "text/plain": [
       "<IPython.core.display.HTML object>"
      ]
     },
     "metadata": {},
     "output_type": "display_data"
    },
    {
     "data": {
      "text/html": [
       "Waiting for W&B process to finish... <strong style=\"color:green\">(success).</strong>"
      ],
      "text/plain": [
       "<IPython.core.display.HTML object>"
      ]
     },
     "metadata": {},
     "output_type": "display_data"
    },
    {
     "data": {
      "text/html": [
       "<style>\n",
       "    table.wandb td:nth-child(1) { padding: 0 10px; text-align: left ; width: auto;} td:nth-child(2) {text-align: left ; width: 100%}\n",
       "    .wandb-row { display: flex; flex-direction: row; flex-wrap: wrap; justify-content: flex-start; width: 100% }\n",
       "    .wandb-col { display: flex; flex-direction: column; flex-basis: 100%; flex: 1; padding: 10px; }\n",
       "    </style>\n",
       "<div class=\"wandb-row\"><div class=\"wandb-col\"><h3>Run history:</h3><br/><table class=\"wandb\"><tr><td>validatoin_auc</td><td>███▁█</td></tr></table><br/></div><div class=\"wandb-col\"><h3>Run summary:</h3><br/><table class=\"wandb\"><tr><td>validatoin_auc</td><td>0.99409</td></tr></table><br/></div></div>"
      ],
      "text/plain": [
       "<IPython.core.display.HTML object>"
      ]
     },
     "metadata": {},
     "output_type": "display_data"
    },
    {
     "data": {
      "text/html": [
       " View run <strong style=\"color:#cdcd00\">fresh-sweep-74</strong> at: <a href='https://wandb.ai/peng_sun/llm-2023-SGD-hyperparameter/runs/zquhglp3' target=\"_blank\">https://wandb.ai/peng_sun/llm-2023-SGD-hyperparameter/runs/zquhglp3</a><br/>Synced 5 W&B file(s), 0 media file(s), 0 artifact file(s) and 0 other file(s)"
      ],
      "text/plain": [
       "<IPython.core.display.HTML object>"
      ]
     },
     "metadata": {},
     "output_type": "display_data"
    },
    {
     "data": {
      "text/html": [
       "Find logs at: <code>./wandb/run-20240104_204007-zquhglp3/logs</code>"
      ],
      "text/plain": [
       "<IPython.core.display.HTML object>"
      ]
     },
     "metadata": {},
     "output_type": "display_data"
    },
    {
     "name": "stderr",
     "output_type": "stream",
     "text": [
      "\u001b[34m\u001b[1mwandb\u001b[0m: Agent Starting Run: xhzk6u8g with config:\n",
      "\u001b[34m\u001b[1mwandb\u001b[0m: \talpha: 0.00015816832276231767\n",
      "\u001b[34m\u001b[1mwandb\u001b[0m: \teta0: 0.020833545965143634\n",
      "\u001b[34m\u001b[1mwandb\u001b[0m: \tloss: modified_huber\n",
      "\u001b[34m\u001b[1mwandb\u001b[0m: \tmax_iter: 9420\n",
      "Failed to detect the name of this notebook, you can set it manually with the WANDB_NOTEBOOK_NAME environment variable to enable code saving.\n"
     ]
    },
    {
     "data": {
      "text/html": [
       "wandb version 0.16.1 is available!  To upgrade, please run:\n",
       " $ pip install wandb --upgrade"
      ],
      "text/plain": [
       "<IPython.core.display.HTML object>"
      ]
     },
     "metadata": {},
     "output_type": "display_data"
    },
    {
     "data": {
      "text/html": [
       "Tracking run with wandb version 0.15.11"
      ],
      "text/plain": [
       "<IPython.core.display.HTML object>"
      ]
     },
     "metadata": {},
     "output_type": "display_data"
    },
    {
     "data": {
      "text/html": [
       "Run data is saved locally in <code>/home/peng_sun2/workspace/llm-2023/wandb/run-20240104_204032-xhzk6u8g</code>"
      ],
      "text/plain": [
       "<IPython.core.display.HTML object>"
      ]
     },
     "metadata": {},
     "output_type": "display_data"
    },
    {
     "data": {
      "text/html": [
       "Syncing run <strong><a href='https://wandb.ai/peng_sun/llm-2023-SGD-hyperparameter/runs/xhzk6u8g' target=\"_blank\">rose-sweep-75</a></strong> to <a href='https://wandb.ai/peng_sun/llm-2023-SGD-hyperparameter' target=\"_blank\">Weights & Biases</a> (<a href='https://wandb.me/run' target=\"_blank\">docs</a>)<br/>Sweep page: <a href='https://wandb.ai/peng_sun/llm-2023-SGD-hyperparameter/sweeps/wyi8yb2f' target=\"_blank\">https://wandb.ai/peng_sun/llm-2023-SGD-hyperparameter/sweeps/wyi8yb2f</a>"
      ],
      "text/plain": [
       "<IPython.core.display.HTML object>"
      ]
     },
     "metadata": {},
     "output_type": "display_data"
    },
    {
     "data": {
      "text/html": [
       " View project at <a href='https://wandb.ai/peng_sun/llm-2023-SGD-hyperparameter' target=\"_blank\">https://wandb.ai/peng_sun/llm-2023-SGD-hyperparameter</a>"
      ],
      "text/plain": [
       "<IPython.core.display.HTML object>"
      ]
     },
     "metadata": {},
     "output_type": "display_data"
    },
    {
     "data": {
      "text/html": [
       " View sweep at <a href='https://wandb.ai/peng_sun/llm-2023-SGD-hyperparameter/sweeps/wyi8yb2f' target=\"_blank\">https://wandb.ai/peng_sun/llm-2023-SGD-hyperparameter/sweeps/wyi8yb2f</a>"
      ],
      "text/plain": [
       "<IPython.core.display.HTML object>"
      ]
     },
     "metadata": {},
     "output_type": "display_data"
    },
    {
     "data": {
      "text/html": [
       " View run at <a href='https://wandb.ai/peng_sun/llm-2023-SGD-hyperparameter/runs/xhzk6u8g' target=\"_blank\">https://wandb.ai/peng_sun/llm-2023-SGD-hyperparameter/runs/xhzk6u8g</a>"
      ],
      "text/plain": [
       "<IPython.core.display.HTML object>"
      ]
     },
     "metadata": {},
     "output_type": "display_data"
    },
    {
     "data": {
      "text/html": [
       "Waiting for W&B process to finish... <strong style=\"color:green\">(success).</strong>"
      ],
      "text/plain": [
       "<IPython.core.display.HTML object>"
      ]
     },
     "metadata": {},
     "output_type": "display_data"
    },
    {
     "data": {
      "text/html": [
       "<style>\n",
       "    table.wandb td:nth-child(1) { padding: 0 10px; text-align: left ; width: auto;} td:nth-child(2) {text-align: left ; width: 100%}\n",
       "    .wandb-row { display: flex; flex-direction: row; flex-wrap: wrap; justify-content: flex-start; width: 100% }\n",
       "    .wandb-col { display: flex; flex-direction: column; flex-basis: 100%; flex: 1; padding: 10px; }\n",
       "    </style>\n",
       "<div class=\"wandb-row\"><div class=\"wandb-col\"><h3>Run history:</h3><br/><table class=\"wandb\"><tr><td>validatoin_auc</td><td>███▁█</td></tr></table><br/></div><div class=\"wandb-col\"><h3>Run summary:</h3><br/><table class=\"wandb\"><tr><td>validatoin_auc</td><td>0.99376</td></tr></table><br/></div></div>"
      ],
      "text/plain": [
       "<IPython.core.display.HTML object>"
      ]
     },
     "metadata": {},
     "output_type": "display_data"
    },
    {
     "data": {
      "text/html": [
       " View run <strong style=\"color:#cdcd00\">rose-sweep-75</strong> at: <a href='https://wandb.ai/peng_sun/llm-2023-SGD-hyperparameter/runs/xhzk6u8g' target=\"_blank\">https://wandb.ai/peng_sun/llm-2023-SGD-hyperparameter/runs/xhzk6u8g</a><br/>Synced 5 W&B file(s), 0 media file(s), 0 artifact file(s) and 0 other file(s)"
      ],
      "text/plain": [
       "<IPython.core.display.HTML object>"
      ]
     },
     "metadata": {},
     "output_type": "display_data"
    },
    {
     "data": {
      "text/html": [
       "Find logs at: <code>./wandb/run-20240104_204032-xhzk6u8g/logs</code>"
      ],
      "text/plain": [
       "<IPython.core.display.HTML object>"
      ]
     },
     "metadata": {},
     "output_type": "display_data"
    },
    {
     "name": "stderr",
     "output_type": "stream",
     "text": [
      "\u001b[34m\u001b[1mwandb\u001b[0m: Sweep Agent: Waiting for job.\n",
      "\u001b[34m\u001b[1mwandb\u001b[0m: Job received.\n",
      "\u001b[34m\u001b[1mwandb\u001b[0m: Agent Starting Run: wuae9vz9 with config:\n",
      "\u001b[34m\u001b[1mwandb\u001b[0m: \talpha: 0.00011895648215247774\n",
      "\u001b[34m\u001b[1mwandb\u001b[0m: \teta0: 0.010452254481104394\n",
      "\u001b[34m\u001b[1mwandb\u001b[0m: \tloss: modified_huber\n",
      "\u001b[34m\u001b[1mwandb\u001b[0m: \tmax_iter: 9291\n",
      "Failed to detect the name of this notebook, you can set it manually with the WANDB_NOTEBOOK_NAME environment variable to enable code saving.\n"
     ]
    },
    {
     "data": {
      "text/html": [
       "wandb version 0.16.1 is available!  To upgrade, please run:\n",
       " $ pip install wandb --upgrade"
      ],
      "text/plain": [
       "<IPython.core.display.HTML object>"
      ]
     },
     "metadata": {},
     "output_type": "display_data"
    },
    {
     "data": {
      "text/html": [
       "Tracking run with wandb version 0.15.11"
      ],
      "text/plain": [
       "<IPython.core.display.HTML object>"
      ]
     },
     "metadata": {},
     "output_type": "display_data"
    },
    {
     "data": {
      "text/html": [
       "Run data is saved locally in <code>/home/peng_sun2/workspace/llm-2023/wandb/run-20240104_204103-wuae9vz9</code>"
      ],
      "text/plain": [
       "<IPython.core.display.HTML object>"
      ]
     },
     "metadata": {},
     "output_type": "display_data"
    },
    {
     "data": {
      "text/html": [
       "Syncing run <strong><a href='https://wandb.ai/peng_sun/llm-2023-SGD-hyperparameter/runs/wuae9vz9' target=\"_blank\">jolly-sweep-76</a></strong> to <a href='https://wandb.ai/peng_sun/llm-2023-SGD-hyperparameter' target=\"_blank\">Weights & Biases</a> (<a href='https://wandb.me/run' target=\"_blank\">docs</a>)<br/>Sweep page: <a href='https://wandb.ai/peng_sun/llm-2023-SGD-hyperparameter/sweeps/wyi8yb2f' target=\"_blank\">https://wandb.ai/peng_sun/llm-2023-SGD-hyperparameter/sweeps/wyi8yb2f</a>"
      ],
      "text/plain": [
       "<IPython.core.display.HTML object>"
      ]
     },
     "metadata": {},
     "output_type": "display_data"
    },
    {
     "data": {
      "text/html": [
       " View project at <a href='https://wandb.ai/peng_sun/llm-2023-SGD-hyperparameter' target=\"_blank\">https://wandb.ai/peng_sun/llm-2023-SGD-hyperparameter</a>"
      ],
      "text/plain": [
       "<IPython.core.display.HTML object>"
      ]
     },
     "metadata": {},
     "output_type": "display_data"
    },
    {
     "data": {
      "text/html": [
       " View sweep at <a href='https://wandb.ai/peng_sun/llm-2023-SGD-hyperparameter/sweeps/wyi8yb2f' target=\"_blank\">https://wandb.ai/peng_sun/llm-2023-SGD-hyperparameter/sweeps/wyi8yb2f</a>"
      ],
      "text/plain": [
       "<IPython.core.display.HTML object>"
      ]
     },
     "metadata": {},
     "output_type": "display_data"
    },
    {
     "data": {
      "text/html": [
       " View run at <a href='https://wandb.ai/peng_sun/llm-2023-SGD-hyperparameter/runs/wuae9vz9' target=\"_blank\">https://wandb.ai/peng_sun/llm-2023-SGD-hyperparameter/runs/wuae9vz9</a>"
      ],
      "text/plain": [
       "<IPython.core.display.HTML object>"
      ]
     },
     "metadata": {},
     "output_type": "display_data"
    },
    {
     "data": {
      "text/html": [
       "Waiting for W&B process to finish... <strong style=\"color:green\">(success).</strong>"
      ],
      "text/plain": [
       "<IPython.core.display.HTML object>"
      ]
     },
     "metadata": {},
     "output_type": "display_data"
    },
    {
     "data": {
      "text/html": [
       "<style>\n",
       "    table.wandb td:nth-child(1) { padding: 0 10px; text-align: left ; width: auto;} td:nth-child(2) {text-align: left ; width: 100%}\n",
       "    .wandb-row { display: flex; flex-direction: row; flex-wrap: wrap; justify-content: flex-start; width: 100% }\n",
       "    .wandb-col { display: flex; flex-direction: column; flex-basis: 100%; flex: 1; padding: 10px; }\n",
       "    </style>\n",
       "<div class=\"wandb-row\"><div class=\"wandb-col\"><h3>Run history:</h3><br/><table class=\"wandb\"><tr><td>validatoin_auc</td><td>███▁█</td></tr></table><br/></div><div class=\"wandb-col\"><h3>Run summary:</h3><br/><table class=\"wandb\"><tr><td>validatoin_auc</td><td>0.99405</td></tr></table><br/></div></div>"
      ],
      "text/plain": [
       "<IPython.core.display.HTML object>"
      ]
     },
     "metadata": {},
     "output_type": "display_data"
    },
    {
     "data": {
      "text/html": [
       " View run <strong style=\"color:#cdcd00\">jolly-sweep-76</strong> at: <a href='https://wandb.ai/peng_sun/llm-2023-SGD-hyperparameter/runs/wuae9vz9' target=\"_blank\">https://wandb.ai/peng_sun/llm-2023-SGD-hyperparameter/runs/wuae9vz9</a><br/>Synced 5 W&B file(s), 0 media file(s), 0 artifact file(s) and 0 other file(s)"
      ],
      "text/plain": [
       "<IPython.core.display.HTML object>"
      ]
     },
     "metadata": {},
     "output_type": "display_data"
    },
    {
     "data": {
      "text/html": [
       "Find logs at: <code>./wandb/run-20240104_204103-wuae9vz9/logs</code>"
      ],
      "text/plain": [
       "<IPython.core.display.HTML object>"
      ]
     },
     "metadata": {},
     "output_type": "display_data"
    },
    {
     "name": "stderr",
     "output_type": "stream",
     "text": [
      "\u001b[34m\u001b[1mwandb\u001b[0m: Agent Starting Run: iu67ei5d with config:\n",
      "\u001b[34m\u001b[1mwandb\u001b[0m: \talpha: 0.00029029928942628745\n",
      "\u001b[34m\u001b[1mwandb\u001b[0m: \teta0: 0.011321664156538269\n",
      "\u001b[34m\u001b[1mwandb\u001b[0m: \tloss: log\n",
      "\u001b[34m\u001b[1mwandb\u001b[0m: \tmax_iter: 9832\n",
      "Failed to detect the name of this notebook, you can set it manually with the WANDB_NOTEBOOK_NAME environment variable to enable code saving.\n"
     ]
    },
    {
     "data": {
      "text/html": [
       "wandb version 0.16.1 is available!  To upgrade, please run:\n",
       " $ pip install wandb --upgrade"
      ],
      "text/plain": [
       "<IPython.core.display.HTML object>"
      ]
     },
     "metadata": {},
     "output_type": "display_data"
    },
    {
     "data": {
      "text/html": [
       "Tracking run with wandb version 0.15.11"
      ],
      "text/plain": [
       "<IPython.core.display.HTML object>"
      ]
     },
     "metadata": {},
     "output_type": "display_data"
    },
    {
     "data": {
      "text/html": [
       "Run data is saved locally in <code>/home/peng_sun2/workspace/llm-2023/wandb/run-20240104_204128-iu67ei5d</code>"
      ],
      "text/plain": [
       "<IPython.core.display.HTML object>"
      ]
     },
     "metadata": {},
     "output_type": "display_data"
    },
    {
     "data": {
      "text/html": [
       "Syncing run <strong><a href='https://wandb.ai/peng_sun/llm-2023-SGD-hyperparameter/runs/iu67ei5d' target=\"_blank\">silvery-sweep-77</a></strong> to <a href='https://wandb.ai/peng_sun/llm-2023-SGD-hyperparameter' target=\"_blank\">Weights & Biases</a> (<a href='https://wandb.me/run' target=\"_blank\">docs</a>)<br/>Sweep page: <a href='https://wandb.ai/peng_sun/llm-2023-SGD-hyperparameter/sweeps/wyi8yb2f' target=\"_blank\">https://wandb.ai/peng_sun/llm-2023-SGD-hyperparameter/sweeps/wyi8yb2f</a>"
      ],
      "text/plain": [
       "<IPython.core.display.HTML object>"
      ]
     },
     "metadata": {},
     "output_type": "display_data"
    },
    {
     "data": {
      "text/html": [
       " View project at <a href='https://wandb.ai/peng_sun/llm-2023-SGD-hyperparameter' target=\"_blank\">https://wandb.ai/peng_sun/llm-2023-SGD-hyperparameter</a>"
      ],
      "text/plain": [
       "<IPython.core.display.HTML object>"
      ]
     },
     "metadata": {},
     "output_type": "display_data"
    },
    {
     "data": {
      "text/html": [
       " View sweep at <a href='https://wandb.ai/peng_sun/llm-2023-SGD-hyperparameter/sweeps/wyi8yb2f' target=\"_blank\">https://wandb.ai/peng_sun/llm-2023-SGD-hyperparameter/sweeps/wyi8yb2f</a>"
      ],
      "text/plain": [
       "<IPython.core.display.HTML object>"
      ]
     },
     "metadata": {},
     "output_type": "display_data"
    },
    {
     "data": {
      "text/html": [
       " View run at <a href='https://wandb.ai/peng_sun/llm-2023-SGD-hyperparameter/runs/iu67ei5d' target=\"_blank\">https://wandb.ai/peng_sun/llm-2023-SGD-hyperparameter/runs/iu67ei5d</a>"
      ],
      "text/plain": [
       "<IPython.core.display.HTML object>"
      ]
     },
     "metadata": {},
     "output_type": "display_data"
    },
    {
     "name": "stderr",
     "output_type": "stream",
     "text": [
      "/home/peng_sun2/.local/lib/python3.9/site-packages/sklearn/linear_model/_stochastic_gradient.py:163: FutureWarning: The loss 'log' was deprecated in v1.1 and will be removed in version 1.3. Use `loss='log_loss'` which is equivalent.\n",
      "  warnings.warn(\n",
      "/home/peng_sun2/.local/lib/python3.9/site-packages/sklearn/linear_model/_stochastic_gradient.py:163: FutureWarning: The loss 'log' was deprecated in v1.1 and will be removed in version 1.3. Use `loss='log_loss'` which is equivalent.\n",
      "  warnings.warn(\n",
      "/home/peng_sun2/.local/lib/python3.9/site-packages/sklearn/linear_model/_stochastic_gradient.py:163: FutureWarning: The loss 'log' was deprecated in v1.1 and will be removed in version 1.3. Use `loss='log_loss'` which is equivalent.\n",
      "  warnings.warn(\n",
      "/home/peng_sun2/.local/lib/python3.9/site-packages/sklearn/linear_model/_stochastic_gradient.py:163: FutureWarning: The loss 'log' was deprecated in v1.1 and will be removed in version 1.3. Use `loss='log_loss'` which is equivalent.\n",
      "  warnings.warn(\n",
      "/home/peng_sun2/.local/lib/python3.9/site-packages/sklearn/linear_model/_stochastic_gradient.py:163: FutureWarning: The loss 'log' was deprecated in v1.1 and will be removed in version 1.3. Use `loss='log_loss'` which is equivalent.\n",
      "  warnings.warn(\n"
     ]
    },
    {
     "data": {
      "text/html": [
       "Waiting for W&B process to finish... <strong style=\"color:green\">(success).</strong>"
      ],
      "text/plain": [
       "<IPython.core.display.HTML object>"
      ]
     },
     "metadata": {},
     "output_type": "display_data"
    },
    {
     "data": {
      "text/html": [
       "<style>\n",
       "    table.wandb td:nth-child(1) { padding: 0 10px; text-align: left ; width: auto;} td:nth-child(2) {text-align: left ; width: 100%}\n",
       "    .wandb-row { display: flex; flex-direction: row; flex-wrap: wrap; justify-content: flex-start; width: 100% }\n",
       "    .wandb-col { display: flex; flex-direction: column; flex-basis: 100%; flex: 1; padding: 10px; }\n",
       "    </style>\n",
       "<div class=\"wandb-row\"><div class=\"wandb-col\"><h3>Run history:</h3><br/><table class=\"wandb\"><tr><td>validatoin_auc</td><td>███▁▇</td></tr></table><br/></div><div class=\"wandb-col\"><h3>Run summary:</h3><br/><table class=\"wandb\"><tr><td>validatoin_auc</td><td>0.98188</td></tr></table><br/></div></div>"
      ],
      "text/plain": [
       "<IPython.core.display.HTML object>"
      ]
     },
     "metadata": {},
     "output_type": "display_data"
    },
    {
     "data": {
      "text/html": [
       " View run <strong style=\"color:#cdcd00\">silvery-sweep-77</strong> at: <a href='https://wandb.ai/peng_sun/llm-2023-SGD-hyperparameter/runs/iu67ei5d' target=\"_blank\">https://wandb.ai/peng_sun/llm-2023-SGD-hyperparameter/runs/iu67ei5d</a><br/>Synced 6 W&B file(s), 0 media file(s), 0 artifact file(s) and 0 other file(s)"
      ],
      "text/plain": [
       "<IPython.core.display.HTML object>"
      ]
     },
     "metadata": {},
     "output_type": "display_data"
    },
    {
     "data": {
      "text/html": [
       "Find logs at: <code>./wandb/run-20240104_204128-iu67ei5d/logs</code>"
      ],
      "text/plain": [
       "<IPython.core.display.HTML object>"
      ]
     },
     "metadata": {},
     "output_type": "display_data"
    },
    {
     "name": "stderr",
     "output_type": "stream",
     "text": [
      "\u001b[34m\u001b[1mwandb\u001b[0m: Agent Starting Run: fm0xs7hs with config:\n",
      "\u001b[34m\u001b[1mwandb\u001b[0m: \talpha: 0.00018029005083152304\n",
      "\u001b[34m\u001b[1mwandb\u001b[0m: \teta0: 0.07507016766604685\n",
      "\u001b[34m\u001b[1mwandb\u001b[0m: \tloss: modified_huber\n",
      "\u001b[34m\u001b[1mwandb\u001b[0m: \tmax_iter: 9987\n",
      "Failed to detect the name of this notebook, you can set it manually with the WANDB_NOTEBOOK_NAME environment variable to enable code saving.\n"
     ]
    },
    {
     "data": {
      "text/html": [
       "wandb version 0.16.1 is available!  To upgrade, please run:\n",
       " $ pip install wandb --upgrade"
      ],
      "text/plain": [
       "<IPython.core.display.HTML object>"
      ]
     },
     "metadata": {},
     "output_type": "display_data"
    },
    {
     "data": {
      "text/html": [
       "Tracking run with wandb version 0.15.11"
      ],
      "text/plain": [
       "<IPython.core.display.HTML object>"
      ]
     },
     "metadata": {},
     "output_type": "display_data"
    },
    {
     "data": {
      "text/html": [
       "Run data is saved locally in <code>/home/peng_sun2/workspace/llm-2023/wandb/run-20240104_204154-fm0xs7hs</code>"
      ],
      "text/plain": [
       "<IPython.core.display.HTML object>"
      ]
     },
     "metadata": {},
     "output_type": "display_data"
    },
    {
     "data": {
      "text/html": [
       "Syncing run <strong><a href='https://wandb.ai/peng_sun/llm-2023-SGD-hyperparameter/runs/fm0xs7hs' target=\"_blank\">scarlet-sweep-78</a></strong> to <a href='https://wandb.ai/peng_sun/llm-2023-SGD-hyperparameter' target=\"_blank\">Weights & Biases</a> (<a href='https://wandb.me/run' target=\"_blank\">docs</a>)<br/>Sweep page: <a href='https://wandb.ai/peng_sun/llm-2023-SGD-hyperparameter/sweeps/wyi8yb2f' target=\"_blank\">https://wandb.ai/peng_sun/llm-2023-SGD-hyperparameter/sweeps/wyi8yb2f</a>"
      ],
      "text/plain": [
       "<IPython.core.display.HTML object>"
      ]
     },
     "metadata": {},
     "output_type": "display_data"
    },
    {
     "data": {
      "text/html": [
       " View project at <a href='https://wandb.ai/peng_sun/llm-2023-SGD-hyperparameter' target=\"_blank\">https://wandb.ai/peng_sun/llm-2023-SGD-hyperparameter</a>"
      ],
      "text/plain": [
       "<IPython.core.display.HTML object>"
      ]
     },
     "metadata": {},
     "output_type": "display_data"
    },
    {
     "data": {
      "text/html": [
       " View sweep at <a href='https://wandb.ai/peng_sun/llm-2023-SGD-hyperparameter/sweeps/wyi8yb2f' target=\"_blank\">https://wandb.ai/peng_sun/llm-2023-SGD-hyperparameter/sweeps/wyi8yb2f</a>"
      ],
      "text/plain": [
       "<IPython.core.display.HTML object>"
      ]
     },
     "metadata": {},
     "output_type": "display_data"
    },
    {
     "data": {
      "text/html": [
       " View run at <a href='https://wandb.ai/peng_sun/llm-2023-SGD-hyperparameter/runs/fm0xs7hs' target=\"_blank\">https://wandb.ai/peng_sun/llm-2023-SGD-hyperparameter/runs/fm0xs7hs</a>"
      ],
      "text/plain": [
       "<IPython.core.display.HTML object>"
      ]
     },
     "metadata": {},
     "output_type": "display_data"
    },
    {
     "data": {
      "text/html": [
       "Waiting for W&B process to finish... <strong style=\"color:green\">(success).</strong>"
      ],
      "text/plain": [
       "<IPython.core.display.HTML object>"
      ]
     },
     "metadata": {},
     "output_type": "display_data"
    },
    {
     "data": {
      "text/html": [
       "<style>\n",
       "    table.wandb td:nth-child(1) { padding: 0 10px; text-align: left ; width: auto;} td:nth-child(2) {text-align: left ; width: 100%}\n",
       "    .wandb-row { display: flex; flex-direction: row; flex-wrap: wrap; justify-content: flex-start; width: 100% }\n",
       "    .wandb-col { display: flex; flex-direction: column; flex-basis: 100%; flex: 1; padding: 10px; }\n",
       "    </style>\n",
       "<div class=\"wandb-row\"><div class=\"wandb-col\"><h3>Run history:</h3><br/><table class=\"wandb\"><tr><td>validatoin_auc</td><td>███▁█</td></tr></table><br/></div><div class=\"wandb-col\"><h3>Run summary:</h3><br/><table class=\"wandb\"><tr><td>validatoin_auc</td><td>0.99336</td></tr></table><br/></div></div>"
      ],
      "text/plain": [
       "<IPython.core.display.HTML object>"
      ]
     },
     "metadata": {},
     "output_type": "display_data"
    },
    {
     "data": {
      "text/html": [
       " View run <strong style=\"color:#cdcd00\">scarlet-sweep-78</strong> at: <a href='https://wandb.ai/peng_sun/llm-2023-SGD-hyperparameter/runs/fm0xs7hs' target=\"_blank\">https://wandb.ai/peng_sun/llm-2023-SGD-hyperparameter/runs/fm0xs7hs</a><br/>Synced 5 W&B file(s), 0 media file(s), 0 artifact file(s) and 0 other file(s)"
      ],
      "text/plain": [
       "<IPython.core.display.HTML object>"
      ]
     },
     "metadata": {},
     "output_type": "display_data"
    },
    {
     "data": {
      "text/html": [
       "Find logs at: <code>./wandb/run-20240104_204154-fm0xs7hs/logs</code>"
      ],
      "text/plain": [
       "<IPython.core.display.HTML object>"
      ]
     },
     "metadata": {},
     "output_type": "display_data"
    },
    {
     "name": "stderr",
     "output_type": "stream",
     "text": [
      "\u001b[34m\u001b[1mwandb\u001b[0m: Sweep Agent: Waiting for job.\n",
      "\u001b[34m\u001b[1mwandb\u001b[0m: Job received.\n",
      "\u001b[34m\u001b[1mwandb\u001b[0m: Agent Starting Run: 572g7uk6 with config:\n",
      "\u001b[34m\u001b[1mwandb\u001b[0m: \talpha: 0.00010289427741227494\n",
      "\u001b[34m\u001b[1mwandb\u001b[0m: \teta0: 0.09573288370565868\n",
      "\u001b[34m\u001b[1mwandb\u001b[0m: \tloss: modified_huber\n",
      "\u001b[34m\u001b[1mwandb\u001b[0m: \tmax_iter: 5766\n",
      "Failed to detect the name of this notebook, you can set it manually with the WANDB_NOTEBOOK_NAME environment variable to enable code saving.\n"
     ]
    },
    {
     "data": {
      "text/html": [
       "wandb version 0.16.1 is available!  To upgrade, please run:\n",
       " $ pip install wandb --upgrade"
      ],
      "text/plain": [
       "<IPython.core.display.HTML object>"
      ]
     },
     "metadata": {},
     "output_type": "display_data"
    },
    {
     "data": {
      "text/html": [
       "Tracking run with wandb version 0.15.11"
      ],
      "text/plain": [
       "<IPython.core.display.HTML object>"
      ]
     },
     "metadata": {},
     "output_type": "display_data"
    },
    {
     "data": {
      "text/html": [
       "Run data is saved locally in <code>/home/peng_sun2/workspace/llm-2023/wandb/run-20240104_204226-572g7uk6</code>"
      ],
      "text/plain": [
       "<IPython.core.display.HTML object>"
      ]
     },
     "metadata": {},
     "output_type": "display_data"
    },
    {
     "data": {
      "text/html": [
       "Syncing run <strong><a href='https://wandb.ai/peng_sun/llm-2023-SGD-hyperparameter/runs/572g7uk6' target=\"_blank\">worldly-sweep-79</a></strong> to <a href='https://wandb.ai/peng_sun/llm-2023-SGD-hyperparameter' target=\"_blank\">Weights & Biases</a> (<a href='https://wandb.me/run' target=\"_blank\">docs</a>)<br/>Sweep page: <a href='https://wandb.ai/peng_sun/llm-2023-SGD-hyperparameter/sweeps/wyi8yb2f' target=\"_blank\">https://wandb.ai/peng_sun/llm-2023-SGD-hyperparameter/sweeps/wyi8yb2f</a>"
      ],
      "text/plain": [
       "<IPython.core.display.HTML object>"
      ]
     },
     "metadata": {},
     "output_type": "display_data"
    },
    {
     "data": {
      "text/html": [
       " View project at <a href='https://wandb.ai/peng_sun/llm-2023-SGD-hyperparameter' target=\"_blank\">https://wandb.ai/peng_sun/llm-2023-SGD-hyperparameter</a>"
      ],
      "text/plain": [
       "<IPython.core.display.HTML object>"
      ]
     },
     "metadata": {},
     "output_type": "display_data"
    },
    {
     "data": {
      "text/html": [
       " View sweep at <a href='https://wandb.ai/peng_sun/llm-2023-SGD-hyperparameter/sweeps/wyi8yb2f' target=\"_blank\">https://wandb.ai/peng_sun/llm-2023-SGD-hyperparameter/sweeps/wyi8yb2f</a>"
      ],
      "text/plain": [
       "<IPython.core.display.HTML object>"
      ]
     },
     "metadata": {},
     "output_type": "display_data"
    },
    {
     "data": {
      "text/html": [
       " View run at <a href='https://wandb.ai/peng_sun/llm-2023-SGD-hyperparameter/runs/572g7uk6' target=\"_blank\">https://wandb.ai/peng_sun/llm-2023-SGD-hyperparameter/runs/572g7uk6</a>"
      ],
      "text/plain": [
       "<IPython.core.display.HTML object>"
      ]
     },
     "metadata": {},
     "output_type": "display_data"
    },
    {
     "data": {
      "text/html": [
       "Waiting for W&B process to finish... <strong style=\"color:green\">(success).</strong>"
      ],
      "text/plain": [
       "<IPython.core.display.HTML object>"
      ]
     },
     "metadata": {},
     "output_type": "display_data"
    },
    {
     "data": {
      "text/html": [
       "<style>\n",
       "    table.wandb td:nth-child(1) { padding: 0 10px; text-align: left ; width: auto;} td:nth-child(2) {text-align: left ; width: 100%}\n",
       "    .wandb-row { display: flex; flex-direction: row; flex-wrap: wrap; justify-content: flex-start; width: 100% }\n",
       "    .wandb-col { display: flex; flex-direction: column; flex-basis: 100%; flex: 1; padding: 10px; }\n",
       "    </style>\n",
       "<div class=\"wandb-row\"><div class=\"wandb-col\"><h3>Run history:</h3><br/><table class=\"wandb\"><tr><td>validatoin_auc</td><td>███▁█</td></tr></table><br/></div><div class=\"wandb-col\"><h3>Run summary:</h3><br/><table class=\"wandb\"><tr><td>validatoin_auc</td><td>0.99416</td></tr></table><br/></div></div>"
      ],
      "text/plain": [
       "<IPython.core.display.HTML object>"
      ]
     },
     "metadata": {},
     "output_type": "display_data"
    },
    {
     "data": {
      "text/html": [
       " View run <strong style=\"color:#cdcd00\">worldly-sweep-79</strong> at: <a href='https://wandb.ai/peng_sun/llm-2023-SGD-hyperparameter/runs/572g7uk6' target=\"_blank\">https://wandb.ai/peng_sun/llm-2023-SGD-hyperparameter/runs/572g7uk6</a><br/>Synced 5 W&B file(s), 0 media file(s), 0 artifact file(s) and 0 other file(s)"
      ],
      "text/plain": [
       "<IPython.core.display.HTML object>"
      ]
     },
     "metadata": {},
     "output_type": "display_data"
    },
    {
     "data": {
      "text/html": [
       "Find logs at: <code>./wandb/run-20240104_204226-572g7uk6/logs</code>"
      ],
      "text/plain": [
       "<IPython.core.display.HTML object>"
      ]
     },
     "metadata": {},
     "output_type": "display_data"
    },
    {
     "name": "stderr",
     "output_type": "stream",
     "text": [
      "\u001b[34m\u001b[1mwandb\u001b[0m: Agent Starting Run: an2p0186 with config:\n",
      "\u001b[34m\u001b[1mwandb\u001b[0m: \talpha: 0.0001093984381071249\n",
      "\u001b[34m\u001b[1mwandb\u001b[0m: \teta0: 0.0825383095900856\n",
      "\u001b[34m\u001b[1mwandb\u001b[0m: \tloss: modified_huber\n",
      "\u001b[34m\u001b[1mwandb\u001b[0m: \tmax_iter: 8320\n",
      "Failed to detect the name of this notebook, you can set it manually with the WANDB_NOTEBOOK_NAME environment variable to enable code saving.\n"
     ]
    },
    {
     "data": {
      "text/html": [
       "wandb version 0.16.1 is available!  To upgrade, please run:\n",
       " $ pip install wandb --upgrade"
      ],
      "text/plain": [
       "<IPython.core.display.HTML object>"
      ]
     },
     "metadata": {},
     "output_type": "display_data"
    },
    {
     "data": {
      "text/html": [
       "Tracking run with wandb version 0.15.11"
      ],
      "text/plain": [
       "<IPython.core.display.HTML object>"
      ]
     },
     "metadata": {},
     "output_type": "display_data"
    },
    {
     "data": {
      "text/html": [
       "Run data is saved locally in <code>/home/peng_sun2/workspace/llm-2023/wandb/run-20240104_204251-an2p0186</code>"
      ],
      "text/plain": [
       "<IPython.core.display.HTML object>"
      ]
     },
     "metadata": {},
     "output_type": "display_data"
    },
    {
     "data": {
      "text/html": [
       "Syncing run <strong><a href='https://wandb.ai/peng_sun/llm-2023-SGD-hyperparameter/runs/an2p0186' target=\"_blank\">fresh-sweep-80</a></strong> to <a href='https://wandb.ai/peng_sun/llm-2023-SGD-hyperparameter' target=\"_blank\">Weights & Biases</a> (<a href='https://wandb.me/run' target=\"_blank\">docs</a>)<br/>Sweep page: <a href='https://wandb.ai/peng_sun/llm-2023-SGD-hyperparameter/sweeps/wyi8yb2f' target=\"_blank\">https://wandb.ai/peng_sun/llm-2023-SGD-hyperparameter/sweeps/wyi8yb2f</a>"
      ],
      "text/plain": [
       "<IPython.core.display.HTML object>"
      ]
     },
     "metadata": {},
     "output_type": "display_data"
    },
    {
     "data": {
      "text/html": [
       " View project at <a href='https://wandb.ai/peng_sun/llm-2023-SGD-hyperparameter' target=\"_blank\">https://wandb.ai/peng_sun/llm-2023-SGD-hyperparameter</a>"
      ],
      "text/plain": [
       "<IPython.core.display.HTML object>"
      ]
     },
     "metadata": {},
     "output_type": "display_data"
    },
    {
     "data": {
      "text/html": [
       " View sweep at <a href='https://wandb.ai/peng_sun/llm-2023-SGD-hyperparameter/sweeps/wyi8yb2f' target=\"_blank\">https://wandb.ai/peng_sun/llm-2023-SGD-hyperparameter/sweeps/wyi8yb2f</a>"
      ],
      "text/plain": [
       "<IPython.core.display.HTML object>"
      ]
     },
     "metadata": {},
     "output_type": "display_data"
    },
    {
     "data": {
      "text/html": [
       " View run at <a href='https://wandb.ai/peng_sun/llm-2023-SGD-hyperparameter/runs/an2p0186' target=\"_blank\">https://wandb.ai/peng_sun/llm-2023-SGD-hyperparameter/runs/an2p0186</a>"
      ],
      "text/plain": [
       "<IPython.core.display.HTML object>"
      ]
     },
     "metadata": {},
     "output_type": "display_data"
    },
    {
     "data": {
      "text/html": [
       "Waiting for W&B process to finish... <strong style=\"color:green\">(success).</strong>"
      ],
      "text/plain": [
       "<IPython.core.display.HTML object>"
      ]
     },
     "metadata": {},
     "output_type": "display_data"
    },
    {
     "data": {
      "text/html": [
       "<style>\n",
       "    table.wandb td:nth-child(1) { padding: 0 10px; text-align: left ; width: auto;} td:nth-child(2) {text-align: left ; width: 100%}\n",
       "    .wandb-row { display: flex; flex-direction: row; flex-wrap: wrap; justify-content: flex-start; width: 100% }\n",
       "    .wandb-col { display: flex; flex-direction: column; flex-basis: 100%; flex: 1; padding: 10px; }\n",
       "    </style>\n",
       "<div class=\"wandb-row\"><div class=\"wandb-col\"><h3>Run history:</h3><br/><table class=\"wandb\"><tr><td>validatoin_auc</td><td>███▁█</td></tr></table><br/></div><div class=\"wandb-col\"><h3>Run summary:</h3><br/><table class=\"wandb\"><tr><td>validatoin_auc</td><td>0.99402</td></tr></table><br/></div></div>"
      ],
      "text/plain": [
       "<IPython.core.display.HTML object>"
      ]
     },
     "metadata": {},
     "output_type": "display_data"
    },
    {
     "data": {
      "text/html": [
       " View run <strong style=\"color:#cdcd00\">fresh-sweep-80</strong> at: <a href='https://wandb.ai/peng_sun/llm-2023-SGD-hyperparameter/runs/an2p0186' target=\"_blank\">https://wandb.ai/peng_sun/llm-2023-SGD-hyperparameter/runs/an2p0186</a><br/>Synced 5 W&B file(s), 0 media file(s), 0 artifact file(s) and 0 other file(s)"
      ],
      "text/plain": [
       "<IPython.core.display.HTML object>"
      ]
     },
     "metadata": {},
     "output_type": "display_data"
    },
    {
     "data": {
      "text/html": [
       "Find logs at: <code>./wandb/run-20240104_204251-an2p0186/logs</code>"
      ],
      "text/plain": [
       "<IPython.core.display.HTML object>"
      ]
     },
     "metadata": {},
     "output_type": "display_data"
    },
    {
     "name": "stderr",
     "output_type": "stream",
     "text": [
      "\u001b[34m\u001b[1mwandb\u001b[0m: Sweep Agent: Waiting for job.\n",
      "\u001b[34m\u001b[1mwandb\u001b[0m: Job received.\n",
      "\u001b[34m\u001b[1mwandb\u001b[0m: Agent Starting Run: r0qubhfg with config:\n",
      "\u001b[34m\u001b[1mwandb\u001b[0m: \talpha: 0.0001663822963279686\n",
      "\u001b[34m\u001b[1mwandb\u001b[0m: \teta0: 0.0292911828697699\n",
      "\u001b[34m\u001b[1mwandb\u001b[0m: \tloss: modified_huber\n",
      "\u001b[34m\u001b[1mwandb\u001b[0m: \tmax_iter: 6604\n",
      "Failed to detect the name of this notebook, you can set it manually with the WANDB_NOTEBOOK_NAME environment variable to enable code saving.\n"
     ]
    },
    {
     "data": {
      "text/html": [
       "wandb version 0.16.1 is available!  To upgrade, please run:\n",
       " $ pip install wandb --upgrade"
      ],
      "text/plain": [
       "<IPython.core.display.HTML object>"
      ]
     },
     "metadata": {},
     "output_type": "display_data"
    },
    {
     "data": {
      "text/html": [
       "Tracking run with wandb version 0.15.11"
      ],
      "text/plain": [
       "<IPython.core.display.HTML object>"
      ]
     },
     "metadata": {},
     "output_type": "display_data"
    },
    {
     "data": {
      "text/html": [
       "Run data is saved locally in <code>/home/peng_sun2/workspace/llm-2023/wandb/run-20240104_204322-r0qubhfg</code>"
      ],
      "text/plain": [
       "<IPython.core.display.HTML object>"
      ]
     },
     "metadata": {},
     "output_type": "display_data"
    },
    {
     "data": {
      "text/html": [
       "Syncing run <strong><a href='https://wandb.ai/peng_sun/llm-2023-SGD-hyperparameter/runs/r0qubhfg' target=\"_blank\">fiery-sweep-81</a></strong> to <a href='https://wandb.ai/peng_sun/llm-2023-SGD-hyperparameter' target=\"_blank\">Weights & Biases</a> (<a href='https://wandb.me/run' target=\"_blank\">docs</a>)<br/>Sweep page: <a href='https://wandb.ai/peng_sun/llm-2023-SGD-hyperparameter/sweeps/wyi8yb2f' target=\"_blank\">https://wandb.ai/peng_sun/llm-2023-SGD-hyperparameter/sweeps/wyi8yb2f</a>"
      ],
      "text/plain": [
       "<IPython.core.display.HTML object>"
      ]
     },
     "metadata": {},
     "output_type": "display_data"
    },
    {
     "data": {
      "text/html": [
       " View project at <a href='https://wandb.ai/peng_sun/llm-2023-SGD-hyperparameter' target=\"_blank\">https://wandb.ai/peng_sun/llm-2023-SGD-hyperparameter</a>"
      ],
      "text/plain": [
       "<IPython.core.display.HTML object>"
      ]
     },
     "metadata": {},
     "output_type": "display_data"
    },
    {
     "data": {
      "text/html": [
       " View sweep at <a href='https://wandb.ai/peng_sun/llm-2023-SGD-hyperparameter/sweeps/wyi8yb2f' target=\"_blank\">https://wandb.ai/peng_sun/llm-2023-SGD-hyperparameter/sweeps/wyi8yb2f</a>"
      ],
      "text/plain": [
       "<IPython.core.display.HTML object>"
      ]
     },
     "metadata": {},
     "output_type": "display_data"
    },
    {
     "data": {
      "text/html": [
       " View run at <a href='https://wandb.ai/peng_sun/llm-2023-SGD-hyperparameter/runs/r0qubhfg' target=\"_blank\">https://wandb.ai/peng_sun/llm-2023-SGD-hyperparameter/runs/r0qubhfg</a>"
      ],
      "text/plain": [
       "<IPython.core.display.HTML object>"
      ]
     },
     "metadata": {},
     "output_type": "display_data"
    },
    {
     "data": {
      "text/html": [
       "Waiting for W&B process to finish... <strong style=\"color:green\">(success).</strong>"
      ],
      "text/plain": [
       "<IPython.core.display.HTML object>"
      ]
     },
     "metadata": {},
     "output_type": "display_data"
    },
    {
     "data": {
      "text/html": [
       "<style>\n",
       "    table.wandb td:nth-child(1) { padding: 0 10px; text-align: left ; width: auto;} td:nth-child(2) {text-align: left ; width: 100%}\n",
       "    .wandb-row { display: flex; flex-direction: row; flex-wrap: wrap; justify-content: flex-start; width: 100% }\n",
       "    .wandb-col { display: flex; flex-direction: column; flex-basis: 100%; flex: 1; padding: 10px; }\n",
       "    </style>\n",
       "<div class=\"wandb-row\"><div class=\"wandb-col\"><h3>Run history:</h3><br/><table class=\"wandb\"><tr><td>validatoin_auc</td><td>███▁█</td></tr></table><br/></div><div class=\"wandb-col\"><h3>Run summary:</h3><br/><table class=\"wandb\"><tr><td>validatoin_auc</td><td>0.99373</td></tr></table><br/></div></div>"
      ],
      "text/plain": [
       "<IPython.core.display.HTML object>"
      ]
     },
     "metadata": {},
     "output_type": "display_data"
    },
    {
     "data": {
      "text/html": [
       " View run <strong style=\"color:#cdcd00\">fiery-sweep-81</strong> at: <a href='https://wandb.ai/peng_sun/llm-2023-SGD-hyperparameter/runs/r0qubhfg' target=\"_blank\">https://wandb.ai/peng_sun/llm-2023-SGD-hyperparameter/runs/r0qubhfg</a><br/>Synced 5 W&B file(s), 0 media file(s), 0 artifact file(s) and 0 other file(s)"
      ],
      "text/plain": [
       "<IPython.core.display.HTML object>"
      ]
     },
     "metadata": {},
     "output_type": "display_data"
    },
    {
     "data": {
      "text/html": [
       "Find logs at: <code>./wandb/run-20240104_204322-r0qubhfg/logs</code>"
      ],
      "text/plain": [
       "<IPython.core.display.HTML object>"
      ]
     },
     "metadata": {},
     "output_type": "display_data"
    },
    {
     "name": "stderr",
     "output_type": "stream",
     "text": [
      "\u001b[34m\u001b[1mwandb\u001b[0m: Agent Starting Run: cu04ic8x with config:\n",
      "\u001b[34m\u001b[1mwandb\u001b[0m: \talpha: 0.00023889940720142649\n",
      "\u001b[34m\u001b[1mwandb\u001b[0m: \teta0: 0.03456012057067873\n",
      "\u001b[34m\u001b[1mwandb\u001b[0m: \tloss: modified_huber\n",
      "\u001b[34m\u001b[1mwandb\u001b[0m: \tmax_iter: 8317\n",
      "Failed to detect the name of this notebook, you can set it manually with the WANDB_NOTEBOOK_NAME environment variable to enable code saving.\n"
     ]
    },
    {
     "data": {
      "text/html": [
       "wandb version 0.16.1 is available!  To upgrade, please run:\n",
       " $ pip install wandb --upgrade"
      ],
      "text/plain": [
       "<IPython.core.display.HTML object>"
      ]
     },
     "metadata": {},
     "output_type": "display_data"
    },
    {
     "data": {
      "text/html": [
       "Tracking run with wandb version 0.15.11"
      ],
      "text/plain": [
       "<IPython.core.display.HTML object>"
      ]
     },
     "metadata": {},
     "output_type": "display_data"
    },
    {
     "data": {
      "text/html": [
       "Run data is saved locally in <code>/home/peng_sun2/workspace/llm-2023/wandb/run-20240104_204347-cu04ic8x</code>"
      ],
      "text/plain": [
       "<IPython.core.display.HTML object>"
      ]
     },
     "metadata": {},
     "output_type": "display_data"
    },
    {
     "data": {
      "text/html": [
       "Syncing run <strong><a href='https://wandb.ai/peng_sun/llm-2023-SGD-hyperparameter/runs/cu04ic8x' target=\"_blank\">genial-sweep-82</a></strong> to <a href='https://wandb.ai/peng_sun/llm-2023-SGD-hyperparameter' target=\"_blank\">Weights & Biases</a> (<a href='https://wandb.me/run' target=\"_blank\">docs</a>)<br/>Sweep page: <a href='https://wandb.ai/peng_sun/llm-2023-SGD-hyperparameter/sweeps/wyi8yb2f' target=\"_blank\">https://wandb.ai/peng_sun/llm-2023-SGD-hyperparameter/sweeps/wyi8yb2f</a>"
      ],
      "text/plain": [
       "<IPython.core.display.HTML object>"
      ]
     },
     "metadata": {},
     "output_type": "display_data"
    },
    {
     "data": {
      "text/html": [
       " View project at <a href='https://wandb.ai/peng_sun/llm-2023-SGD-hyperparameter' target=\"_blank\">https://wandb.ai/peng_sun/llm-2023-SGD-hyperparameter</a>"
      ],
      "text/plain": [
       "<IPython.core.display.HTML object>"
      ]
     },
     "metadata": {},
     "output_type": "display_data"
    },
    {
     "data": {
      "text/html": [
       " View sweep at <a href='https://wandb.ai/peng_sun/llm-2023-SGD-hyperparameter/sweeps/wyi8yb2f' target=\"_blank\">https://wandb.ai/peng_sun/llm-2023-SGD-hyperparameter/sweeps/wyi8yb2f</a>"
      ],
      "text/plain": [
       "<IPython.core.display.HTML object>"
      ]
     },
     "metadata": {},
     "output_type": "display_data"
    },
    {
     "data": {
      "text/html": [
       " View run at <a href='https://wandb.ai/peng_sun/llm-2023-SGD-hyperparameter/runs/cu04ic8x' target=\"_blank\">https://wandb.ai/peng_sun/llm-2023-SGD-hyperparameter/runs/cu04ic8x</a>"
      ],
      "text/plain": [
       "<IPython.core.display.HTML object>"
      ]
     },
     "metadata": {},
     "output_type": "display_data"
    },
    {
     "data": {
      "text/html": [
       "Waiting for W&B process to finish... <strong style=\"color:green\">(success).</strong>"
      ],
      "text/plain": [
       "<IPython.core.display.HTML object>"
      ]
     },
     "metadata": {},
     "output_type": "display_data"
    },
    {
     "data": {
      "text/html": [
       "<style>\n",
       "    table.wandb td:nth-child(1) { padding: 0 10px; text-align: left ; width: auto;} td:nth-child(2) {text-align: left ; width: 100%}\n",
       "    .wandb-row { display: flex; flex-direction: row; flex-wrap: wrap; justify-content: flex-start; width: 100% }\n",
       "    .wandb-col { display: flex; flex-direction: column; flex-basis: 100%; flex: 1; padding: 10px; }\n",
       "    </style>\n",
       "<div class=\"wandb-row\"><div class=\"wandb-col\"><h3>Run history:</h3><br/><table class=\"wandb\"><tr><td>validatoin_auc</td><td>███▁█</td></tr></table><br/></div><div class=\"wandb-col\"><h3>Run summary:</h3><br/><table class=\"wandb\"><tr><td>validatoin_auc</td><td>0.99297</td></tr></table><br/></div></div>"
      ],
      "text/plain": [
       "<IPython.core.display.HTML object>"
      ]
     },
     "metadata": {},
     "output_type": "display_data"
    },
    {
     "data": {
      "text/html": [
       " View run <strong style=\"color:#cdcd00\">genial-sweep-82</strong> at: <a href='https://wandb.ai/peng_sun/llm-2023-SGD-hyperparameter/runs/cu04ic8x' target=\"_blank\">https://wandb.ai/peng_sun/llm-2023-SGD-hyperparameter/runs/cu04ic8x</a><br/>Synced 5 W&B file(s), 0 media file(s), 0 artifact file(s) and 0 other file(s)"
      ],
      "text/plain": [
       "<IPython.core.display.HTML object>"
      ]
     },
     "metadata": {},
     "output_type": "display_data"
    },
    {
     "data": {
      "text/html": [
       "Find logs at: <code>./wandb/run-20240104_204347-cu04ic8x/logs</code>"
      ],
      "text/plain": [
       "<IPython.core.display.HTML object>"
      ]
     },
     "metadata": {},
     "output_type": "display_data"
    },
    {
     "name": "stderr",
     "output_type": "stream",
     "text": [
      "\u001b[34m\u001b[1mwandb\u001b[0m: Sweep Agent: Waiting for job.\n",
      "\u001b[34m\u001b[1mwandb\u001b[0m: Job received.\n",
      "\u001b[34m\u001b[1mwandb\u001b[0m: Agent Starting Run: 5e5t54rf with config:\n",
      "\u001b[34m\u001b[1mwandb\u001b[0m: \talpha: 0.0001579715516969517\n",
      "\u001b[34m\u001b[1mwandb\u001b[0m: \teta0: 0.03169722976865514\n",
      "\u001b[34m\u001b[1mwandb\u001b[0m: \tloss: modified_huber\n",
      "\u001b[34m\u001b[1mwandb\u001b[0m: \tmax_iter: 7063\n",
      "Failed to detect the name of this notebook, you can set it manually with the WANDB_NOTEBOOK_NAME environment variable to enable code saving.\n"
     ]
    },
    {
     "data": {
      "text/html": [
       "wandb version 0.16.1 is available!  To upgrade, please run:\n",
       " $ pip install wandb --upgrade"
      ],
      "text/plain": [
       "<IPython.core.display.HTML object>"
      ]
     },
     "metadata": {},
     "output_type": "display_data"
    },
    {
     "data": {
      "text/html": [
       "Tracking run with wandb version 0.15.11"
      ],
      "text/plain": [
       "<IPython.core.display.HTML object>"
      ]
     },
     "metadata": {},
     "output_type": "display_data"
    },
    {
     "data": {
      "text/html": [
       "Run data is saved locally in <code>/home/peng_sun2/workspace/llm-2023/wandb/run-20240104_204418-5e5t54rf</code>"
      ],
      "text/plain": [
       "<IPython.core.display.HTML object>"
      ]
     },
     "metadata": {},
     "output_type": "display_data"
    },
    {
     "data": {
      "text/html": [
       "Syncing run <strong><a href='https://wandb.ai/peng_sun/llm-2023-SGD-hyperparameter/runs/5e5t54rf' target=\"_blank\">gallant-sweep-83</a></strong> to <a href='https://wandb.ai/peng_sun/llm-2023-SGD-hyperparameter' target=\"_blank\">Weights & Biases</a> (<a href='https://wandb.me/run' target=\"_blank\">docs</a>)<br/>Sweep page: <a href='https://wandb.ai/peng_sun/llm-2023-SGD-hyperparameter/sweeps/wyi8yb2f' target=\"_blank\">https://wandb.ai/peng_sun/llm-2023-SGD-hyperparameter/sweeps/wyi8yb2f</a>"
      ],
      "text/plain": [
       "<IPython.core.display.HTML object>"
      ]
     },
     "metadata": {},
     "output_type": "display_data"
    },
    {
     "data": {
      "text/html": [
       " View project at <a href='https://wandb.ai/peng_sun/llm-2023-SGD-hyperparameter' target=\"_blank\">https://wandb.ai/peng_sun/llm-2023-SGD-hyperparameter</a>"
      ],
      "text/plain": [
       "<IPython.core.display.HTML object>"
      ]
     },
     "metadata": {},
     "output_type": "display_data"
    },
    {
     "data": {
      "text/html": [
       " View sweep at <a href='https://wandb.ai/peng_sun/llm-2023-SGD-hyperparameter/sweeps/wyi8yb2f' target=\"_blank\">https://wandb.ai/peng_sun/llm-2023-SGD-hyperparameter/sweeps/wyi8yb2f</a>"
      ],
      "text/plain": [
       "<IPython.core.display.HTML object>"
      ]
     },
     "metadata": {},
     "output_type": "display_data"
    },
    {
     "data": {
      "text/html": [
       " View run at <a href='https://wandb.ai/peng_sun/llm-2023-SGD-hyperparameter/runs/5e5t54rf' target=\"_blank\">https://wandb.ai/peng_sun/llm-2023-SGD-hyperparameter/runs/5e5t54rf</a>"
      ],
      "text/plain": [
       "<IPython.core.display.HTML object>"
      ]
     },
     "metadata": {},
     "output_type": "display_data"
    },
    {
     "data": {
      "text/html": [
       "Waiting for W&B process to finish... <strong style=\"color:green\">(success).</strong>"
      ],
      "text/plain": [
       "<IPython.core.display.HTML object>"
      ]
     },
     "metadata": {},
     "output_type": "display_data"
    },
    {
     "data": {
      "text/html": [
       "<style>\n",
       "    table.wandb td:nth-child(1) { padding: 0 10px; text-align: left ; width: auto;} td:nth-child(2) {text-align: left ; width: 100%}\n",
       "    .wandb-row { display: flex; flex-direction: row; flex-wrap: wrap; justify-content: flex-start; width: 100% }\n",
       "    .wandb-col { display: flex; flex-direction: column; flex-basis: 100%; flex: 1; padding: 10px; }\n",
       "    </style>\n",
       "<div class=\"wandb-row\"><div class=\"wandb-col\"><h3>Run history:</h3><br/><table class=\"wandb\"><tr><td>validatoin_auc</td><td>███▁█</td></tr></table><br/></div><div class=\"wandb-col\"><h3>Run summary:</h3><br/><table class=\"wandb\"><tr><td>validatoin_auc</td><td>0.99386</td></tr></table><br/></div></div>"
      ],
      "text/plain": [
       "<IPython.core.display.HTML object>"
      ]
     },
     "metadata": {},
     "output_type": "display_data"
    },
    {
     "data": {
      "text/html": [
       " View run <strong style=\"color:#cdcd00\">gallant-sweep-83</strong> at: <a href='https://wandb.ai/peng_sun/llm-2023-SGD-hyperparameter/runs/5e5t54rf' target=\"_blank\">https://wandb.ai/peng_sun/llm-2023-SGD-hyperparameter/runs/5e5t54rf</a><br/>Synced 5 W&B file(s), 0 media file(s), 0 artifact file(s) and 0 other file(s)"
      ],
      "text/plain": [
       "<IPython.core.display.HTML object>"
      ]
     },
     "metadata": {},
     "output_type": "display_data"
    },
    {
     "data": {
      "text/html": [
       "Find logs at: <code>./wandb/run-20240104_204418-5e5t54rf/logs</code>"
      ],
      "text/plain": [
       "<IPython.core.display.HTML object>"
      ]
     },
     "metadata": {},
     "output_type": "display_data"
    },
    {
     "name": "stderr",
     "output_type": "stream",
     "text": [
      "\u001b[34m\u001b[1mwandb\u001b[0m: Agent Starting Run: j019xlms with config:\n",
      "\u001b[34m\u001b[1mwandb\u001b[0m: \talpha: 0.00016482841459778937\n",
      "\u001b[34m\u001b[1mwandb\u001b[0m: \teta0: 0.010094310732068812\n",
      "\u001b[34m\u001b[1mwandb\u001b[0m: \tloss: modified_huber\n",
      "\u001b[34m\u001b[1mwandb\u001b[0m: \tmax_iter: 8318\n",
      "Failed to detect the name of this notebook, you can set it manually with the WANDB_NOTEBOOK_NAME environment variable to enable code saving.\n"
     ]
    },
    {
     "data": {
      "text/html": [
       "wandb version 0.16.1 is available!  To upgrade, please run:\n",
       " $ pip install wandb --upgrade"
      ],
      "text/plain": [
       "<IPython.core.display.HTML object>"
      ]
     },
     "metadata": {},
     "output_type": "display_data"
    },
    {
     "data": {
      "text/html": [
       "Tracking run with wandb version 0.15.11"
      ],
      "text/plain": [
       "<IPython.core.display.HTML object>"
      ]
     },
     "metadata": {},
     "output_type": "display_data"
    },
    {
     "data": {
      "text/html": [
       "Run data is saved locally in <code>/home/peng_sun2/workspace/llm-2023/wandb/run-20240104_204444-j019xlms</code>"
      ],
      "text/plain": [
       "<IPython.core.display.HTML object>"
      ]
     },
     "metadata": {},
     "output_type": "display_data"
    },
    {
     "data": {
      "text/html": [
       "Syncing run <strong><a href='https://wandb.ai/peng_sun/llm-2023-SGD-hyperparameter/runs/j019xlms' target=\"_blank\">lively-sweep-84</a></strong> to <a href='https://wandb.ai/peng_sun/llm-2023-SGD-hyperparameter' target=\"_blank\">Weights & Biases</a> (<a href='https://wandb.me/run' target=\"_blank\">docs</a>)<br/>Sweep page: <a href='https://wandb.ai/peng_sun/llm-2023-SGD-hyperparameter/sweeps/wyi8yb2f' target=\"_blank\">https://wandb.ai/peng_sun/llm-2023-SGD-hyperparameter/sweeps/wyi8yb2f</a>"
      ],
      "text/plain": [
       "<IPython.core.display.HTML object>"
      ]
     },
     "metadata": {},
     "output_type": "display_data"
    },
    {
     "data": {
      "text/html": [
       " View project at <a href='https://wandb.ai/peng_sun/llm-2023-SGD-hyperparameter' target=\"_blank\">https://wandb.ai/peng_sun/llm-2023-SGD-hyperparameter</a>"
      ],
      "text/plain": [
       "<IPython.core.display.HTML object>"
      ]
     },
     "metadata": {},
     "output_type": "display_data"
    },
    {
     "data": {
      "text/html": [
       " View sweep at <a href='https://wandb.ai/peng_sun/llm-2023-SGD-hyperparameter/sweeps/wyi8yb2f' target=\"_blank\">https://wandb.ai/peng_sun/llm-2023-SGD-hyperparameter/sweeps/wyi8yb2f</a>"
      ],
      "text/plain": [
       "<IPython.core.display.HTML object>"
      ]
     },
     "metadata": {},
     "output_type": "display_data"
    },
    {
     "data": {
      "text/html": [
       " View run at <a href='https://wandb.ai/peng_sun/llm-2023-SGD-hyperparameter/runs/j019xlms' target=\"_blank\">https://wandb.ai/peng_sun/llm-2023-SGD-hyperparameter/runs/j019xlms</a>"
      ],
      "text/plain": [
       "<IPython.core.display.HTML object>"
      ]
     },
     "metadata": {},
     "output_type": "display_data"
    },
    {
     "data": {
      "text/html": [
       "Waiting for W&B process to finish... <strong style=\"color:green\">(success).</strong>"
      ],
      "text/plain": [
       "<IPython.core.display.HTML object>"
      ]
     },
     "metadata": {},
     "output_type": "display_data"
    },
    {
     "data": {
      "text/html": [
       "<style>\n",
       "    table.wandb td:nth-child(1) { padding: 0 10px; text-align: left ; width: auto;} td:nth-child(2) {text-align: left ; width: 100%}\n",
       "    .wandb-row { display: flex; flex-direction: row; flex-wrap: wrap; justify-content: flex-start; width: 100% }\n",
       "    .wandb-col { display: flex; flex-direction: column; flex-basis: 100%; flex: 1; padding: 10px; }\n",
       "    </style>\n",
       "<div class=\"wandb-row\"><div class=\"wandb-col\"><h3>Run history:</h3><br/><table class=\"wandb\"><tr><td>validatoin_auc</td><td>███▁█</td></tr></table><br/></div><div class=\"wandb-col\"><h3>Run summary:</h3><br/><table class=\"wandb\"><tr><td>validatoin_auc</td><td>0.99349</td></tr></table><br/></div></div>"
      ],
      "text/plain": [
       "<IPython.core.display.HTML object>"
      ]
     },
     "metadata": {},
     "output_type": "display_data"
    },
    {
     "data": {
      "text/html": [
       " View run <strong style=\"color:#cdcd00\">lively-sweep-84</strong> at: <a href='https://wandb.ai/peng_sun/llm-2023-SGD-hyperparameter/runs/j019xlms' target=\"_blank\">https://wandb.ai/peng_sun/llm-2023-SGD-hyperparameter/runs/j019xlms</a><br/>Synced 5 W&B file(s), 0 media file(s), 0 artifact file(s) and 0 other file(s)"
      ],
      "text/plain": [
       "<IPython.core.display.HTML object>"
      ]
     },
     "metadata": {},
     "output_type": "display_data"
    },
    {
     "data": {
      "text/html": [
       "Find logs at: <code>./wandb/run-20240104_204444-j019xlms/logs</code>"
      ],
      "text/plain": [
       "<IPython.core.display.HTML object>"
      ]
     },
     "metadata": {},
     "output_type": "display_data"
    },
    {
     "name": "stderr",
     "output_type": "stream",
     "text": [
      "\u001b[34m\u001b[1mwandb\u001b[0m: Agent Starting Run: 534ghll4 with config:\n",
      "\u001b[34m\u001b[1mwandb\u001b[0m: \talpha: 0.00027854331151785076\n",
      "\u001b[34m\u001b[1mwandb\u001b[0m: \teta0: 0.01688231313047876\n",
      "\u001b[34m\u001b[1mwandb\u001b[0m: \tloss: modified_huber\n",
      "\u001b[34m\u001b[1mwandb\u001b[0m: \tmax_iter: 4933\n",
      "Failed to detect the name of this notebook, you can set it manually with the WANDB_NOTEBOOK_NAME environment variable to enable code saving.\n"
     ]
    },
    {
     "data": {
      "text/html": [
       "wandb version 0.16.1 is available!  To upgrade, please run:\n",
       " $ pip install wandb --upgrade"
      ],
      "text/plain": [
       "<IPython.core.display.HTML object>"
      ]
     },
     "metadata": {},
     "output_type": "display_data"
    },
    {
     "data": {
      "text/html": [
       "Tracking run with wandb version 0.15.11"
      ],
      "text/plain": [
       "<IPython.core.display.HTML object>"
      ]
     },
     "metadata": {},
     "output_type": "display_data"
    },
    {
     "data": {
      "text/html": [
       "Run data is saved locally in <code>/home/peng_sun2/workspace/llm-2023/wandb/run-20240104_204506-534ghll4</code>"
      ],
      "text/plain": [
       "<IPython.core.display.HTML object>"
      ]
     },
     "metadata": {},
     "output_type": "display_data"
    },
    {
     "data": {
      "text/html": [
       "Syncing run <strong><a href='https://wandb.ai/peng_sun/llm-2023-SGD-hyperparameter/runs/534ghll4' target=\"_blank\">sparkling-sweep-85</a></strong> to <a href='https://wandb.ai/peng_sun/llm-2023-SGD-hyperparameter' target=\"_blank\">Weights & Biases</a> (<a href='https://wandb.me/run' target=\"_blank\">docs</a>)<br/>Sweep page: <a href='https://wandb.ai/peng_sun/llm-2023-SGD-hyperparameter/sweeps/wyi8yb2f' target=\"_blank\">https://wandb.ai/peng_sun/llm-2023-SGD-hyperparameter/sweeps/wyi8yb2f</a>"
      ],
      "text/plain": [
       "<IPython.core.display.HTML object>"
      ]
     },
     "metadata": {},
     "output_type": "display_data"
    },
    {
     "data": {
      "text/html": [
       " View project at <a href='https://wandb.ai/peng_sun/llm-2023-SGD-hyperparameter' target=\"_blank\">https://wandb.ai/peng_sun/llm-2023-SGD-hyperparameter</a>"
      ],
      "text/plain": [
       "<IPython.core.display.HTML object>"
      ]
     },
     "metadata": {},
     "output_type": "display_data"
    },
    {
     "data": {
      "text/html": [
       " View sweep at <a href='https://wandb.ai/peng_sun/llm-2023-SGD-hyperparameter/sweeps/wyi8yb2f' target=\"_blank\">https://wandb.ai/peng_sun/llm-2023-SGD-hyperparameter/sweeps/wyi8yb2f</a>"
      ],
      "text/plain": [
       "<IPython.core.display.HTML object>"
      ]
     },
     "metadata": {},
     "output_type": "display_data"
    },
    {
     "data": {
      "text/html": [
       " View run at <a href='https://wandb.ai/peng_sun/llm-2023-SGD-hyperparameter/runs/534ghll4' target=\"_blank\">https://wandb.ai/peng_sun/llm-2023-SGD-hyperparameter/runs/534ghll4</a>"
      ],
      "text/plain": [
       "<IPython.core.display.HTML object>"
      ]
     },
     "metadata": {},
     "output_type": "display_data"
    },
    {
     "data": {
      "text/html": [
       "Waiting for W&B process to finish... <strong style=\"color:green\">(success).</strong>"
      ],
      "text/plain": [
       "<IPython.core.display.HTML object>"
      ]
     },
     "metadata": {},
     "output_type": "display_data"
    },
    {
     "data": {
      "text/html": [
       "<style>\n",
       "    table.wandb td:nth-child(1) { padding: 0 10px; text-align: left ; width: auto;} td:nth-child(2) {text-align: left ; width: 100%}\n",
       "    .wandb-row { display: flex; flex-direction: row; flex-wrap: wrap; justify-content: flex-start; width: 100% }\n",
       "    .wandb-col { display: flex; flex-direction: column; flex-basis: 100%; flex: 1; padding: 10px; }\n",
       "    </style>\n",
       "<div class=\"wandb-row\"><div class=\"wandb-col\"><h3>Run history:</h3><br/><table class=\"wandb\"><tr><td>validatoin_auc</td><td>███▁█</td></tr></table><br/></div><div class=\"wandb-col\"><h3>Run summary:</h3><br/><table class=\"wandb\"><tr><td>validatoin_auc</td><td>0.99257</td></tr></table><br/></div></div>"
      ],
      "text/plain": [
       "<IPython.core.display.HTML object>"
      ]
     },
     "metadata": {},
     "output_type": "display_data"
    },
    {
     "data": {
      "text/html": [
       " View run <strong style=\"color:#cdcd00\">sparkling-sweep-85</strong> at: <a href='https://wandb.ai/peng_sun/llm-2023-SGD-hyperparameter/runs/534ghll4' target=\"_blank\">https://wandb.ai/peng_sun/llm-2023-SGD-hyperparameter/runs/534ghll4</a><br/>Synced 5 W&B file(s), 0 media file(s), 0 artifact file(s) and 0 other file(s)"
      ],
      "text/plain": [
       "<IPython.core.display.HTML object>"
      ]
     },
     "metadata": {},
     "output_type": "display_data"
    },
    {
     "data": {
      "text/html": [
       "Find logs at: <code>./wandb/run-20240104_204506-534ghll4/logs</code>"
      ],
      "text/plain": [
       "<IPython.core.display.HTML object>"
      ]
     },
     "metadata": {},
     "output_type": "display_data"
    },
    {
     "name": "stderr",
     "output_type": "stream",
     "text": [
      "\u001b[34m\u001b[1mwandb\u001b[0m: Agent Starting Run: exkcfu24 with config:\n",
      "\u001b[34m\u001b[1mwandb\u001b[0m: \talpha: 0.00013618095651474272\n",
      "\u001b[34m\u001b[1mwandb\u001b[0m: \teta0: 0.09974089410968576\n",
      "\u001b[34m\u001b[1mwandb\u001b[0m: \tloss: modified_huber\n",
      "\u001b[34m\u001b[1mwandb\u001b[0m: \tmax_iter: 5577\n",
      "Failed to detect the name of this notebook, you can set it manually with the WANDB_NOTEBOOK_NAME environment variable to enable code saving.\n"
     ]
    },
    {
     "data": {
      "text/html": [
       "wandb version 0.16.1 is available!  To upgrade, please run:\n",
       " $ pip install wandb --upgrade"
      ],
      "text/plain": [
       "<IPython.core.display.HTML object>"
      ]
     },
     "metadata": {},
     "output_type": "display_data"
    },
    {
     "data": {
      "text/html": [
       "Tracking run with wandb version 0.15.11"
      ],
      "text/plain": [
       "<IPython.core.display.HTML object>"
      ]
     },
     "metadata": {},
     "output_type": "display_data"
    },
    {
     "data": {
      "text/html": [
       "Run data is saved locally in <code>/home/peng_sun2/workspace/llm-2023/wandb/run-20240104_204531-exkcfu24</code>"
      ],
      "text/plain": [
       "<IPython.core.display.HTML object>"
      ]
     },
     "metadata": {},
     "output_type": "display_data"
    },
    {
     "data": {
      "text/html": [
       "Syncing run <strong><a href='https://wandb.ai/peng_sun/llm-2023-SGD-hyperparameter/runs/exkcfu24' target=\"_blank\">breezy-sweep-86</a></strong> to <a href='https://wandb.ai/peng_sun/llm-2023-SGD-hyperparameter' target=\"_blank\">Weights & Biases</a> (<a href='https://wandb.me/run' target=\"_blank\">docs</a>)<br/>Sweep page: <a href='https://wandb.ai/peng_sun/llm-2023-SGD-hyperparameter/sweeps/wyi8yb2f' target=\"_blank\">https://wandb.ai/peng_sun/llm-2023-SGD-hyperparameter/sweeps/wyi8yb2f</a>"
      ],
      "text/plain": [
       "<IPython.core.display.HTML object>"
      ]
     },
     "metadata": {},
     "output_type": "display_data"
    },
    {
     "data": {
      "text/html": [
       " View project at <a href='https://wandb.ai/peng_sun/llm-2023-SGD-hyperparameter' target=\"_blank\">https://wandb.ai/peng_sun/llm-2023-SGD-hyperparameter</a>"
      ],
      "text/plain": [
       "<IPython.core.display.HTML object>"
      ]
     },
     "metadata": {},
     "output_type": "display_data"
    },
    {
     "data": {
      "text/html": [
       " View sweep at <a href='https://wandb.ai/peng_sun/llm-2023-SGD-hyperparameter/sweeps/wyi8yb2f' target=\"_blank\">https://wandb.ai/peng_sun/llm-2023-SGD-hyperparameter/sweeps/wyi8yb2f</a>"
      ],
      "text/plain": [
       "<IPython.core.display.HTML object>"
      ]
     },
     "metadata": {},
     "output_type": "display_data"
    },
    {
     "data": {
      "text/html": [
       " View run at <a href='https://wandb.ai/peng_sun/llm-2023-SGD-hyperparameter/runs/exkcfu24' target=\"_blank\">https://wandb.ai/peng_sun/llm-2023-SGD-hyperparameter/runs/exkcfu24</a>"
      ],
      "text/plain": [
       "<IPython.core.display.HTML object>"
      ]
     },
     "metadata": {},
     "output_type": "display_data"
    },
    {
     "data": {
      "text/html": [
       "Waiting for W&B process to finish... <strong style=\"color:green\">(success).</strong>"
      ],
      "text/plain": [
       "<IPython.core.display.HTML object>"
      ]
     },
     "metadata": {},
     "output_type": "display_data"
    },
    {
     "data": {
      "text/html": [
       "<style>\n",
       "    table.wandb td:nth-child(1) { padding: 0 10px; text-align: left ; width: auto;} td:nth-child(2) {text-align: left ; width: 100%}\n",
       "    .wandb-row { display: flex; flex-direction: row; flex-wrap: wrap; justify-content: flex-start; width: 100% }\n",
       "    .wandb-col { display: flex; flex-direction: column; flex-basis: 100%; flex: 1; padding: 10px; }\n",
       "    </style>\n",
       "<div class=\"wandb-row\"><div class=\"wandb-col\"><h3>Run history:</h3><br/><table class=\"wandb\"><tr><td>validatoin_auc</td><td>███▁█</td></tr></table><br/></div><div class=\"wandb-col\"><h3>Run summary:</h3><br/><table class=\"wandb\"><tr><td>validatoin_auc</td><td>0.99392</td></tr></table><br/></div></div>"
      ],
      "text/plain": [
       "<IPython.core.display.HTML object>"
      ]
     },
     "metadata": {},
     "output_type": "display_data"
    },
    {
     "data": {
      "text/html": [
       " View run <strong style=\"color:#cdcd00\">breezy-sweep-86</strong> at: <a href='https://wandb.ai/peng_sun/llm-2023-SGD-hyperparameter/runs/exkcfu24' target=\"_blank\">https://wandb.ai/peng_sun/llm-2023-SGD-hyperparameter/runs/exkcfu24</a><br/>Synced 5 W&B file(s), 0 media file(s), 0 artifact file(s) and 0 other file(s)"
      ],
      "text/plain": [
       "<IPython.core.display.HTML object>"
      ]
     },
     "metadata": {},
     "output_type": "display_data"
    },
    {
     "data": {
      "text/html": [
       "Find logs at: <code>./wandb/run-20240104_204531-exkcfu24/logs</code>"
      ],
      "text/plain": [
       "<IPython.core.display.HTML object>"
      ]
     },
     "metadata": {},
     "output_type": "display_data"
    },
    {
     "name": "stderr",
     "output_type": "stream",
     "text": [
      "\u001b[34m\u001b[1mwandb\u001b[0m: Sweep Agent: Waiting for job.\n",
      "\u001b[34m\u001b[1mwandb\u001b[0m: Job received.\n",
      "\u001b[34m\u001b[1mwandb\u001b[0m: Agent Starting Run: 5oi7uqgz with config:\n",
      "\u001b[34m\u001b[1mwandb\u001b[0m: \talpha: 0.00010335709371101466\n",
      "\u001b[34m\u001b[1mwandb\u001b[0m: \teta0: 0.04357021839121536\n",
      "\u001b[34m\u001b[1mwandb\u001b[0m: \tloss: modified_huber\n",
      "\u001b[34m\u001b[1mwandb\u001b[0m: \tmax_iter: 9112\n",
      "Failed to detect the name of this notebook, you can set it manually with the WANDB_NOTEBOOK_NAME environment variable to enable code saving.\n"
     ]
    },
    {
     "data": {
      "text/html": [
       "wandb version 0.16.1 is available!  To upgrade, please run:\n",
       " $ pip install wandb --upgrade"
      ],
      "text/plain": [
       "<IPython.core.display.HTML object>"
      ]
     },
     "metadata": {},
     "output_type": "display_data"
    },
    {
     "data": {
      "text/html": [
       "Tracking run with wandb version 0.15.11"
      ],
      "text/plain": [
       "<IPython.core.display.HTML object>"
      ]
     },
     "metadata": {},
     "output_type": "display_data"
    },
    {
     "data": {
      "text/html": [
       "Run data is saved locally in <code>/home/peng_sun2/workspace/llm-2023/wandb/run-20240104_204602-5oi7uqgz</code>"
      ],
      "text/plain": [
       "<IPython.core.display.HTML object>"
      ]
     },
     "metadata": {},
     "output_type": "display_data"
    },
    {
     "data": {
      "text/html": [
       "Syncing run <strong><a href='https://wandb.ai/peng_sun/llm-2023-SGD-hyperparameter/runs/5oi7uqgz' target=\"_blank\">azure-sweep-87</a></strong> to <a href='https://wandb.ai/peng_sun/llm-2023-SGD-hyperparameter' target=\"_blank\">Weights & Biases</a> (<a href='https://wandb.me/run' target=\"_blank\">docs</a>)<br/>Sweep page: <a href='https://wandb.ai/peng_sun/llm-2023-SGD-hyperparameter/sweeps/wyi8yb2f' target=\"_blank\">https://wandb.ai/peng_sun/llm-2023-SGD-hyperparameter/sweeps/wyi8yb2f</a>"
      ],
      "text/plain": [
       "<IPython.core.display.HTML object>"
      ]
     },
     "metadata": {},
     "output_type": "display_data"
    },
    {
     "data": {
      "text/html": [
       " View project at <a href='https://wandb.ai/peng_sun/llm-2023-SGD-hyperparameter' target=\"_blank\">https://wandb.ai/peng_sun/llm-2023-SGD-hyperparameter</a>"
      ],
      "text/plain": [
       "<IPython.core.display.HTML object>"
      ]
     },
     "metadata": {},
     "output_type": "display_data"
    },
    {
     "data": {
      "text/html": [
       " View sweep at <a href='https://wandb.ai/peng_sun/llm-2023-SGD-hyperparameter/sweeps/wyi8yb2f' target=\"_blank\">https://wandb.ai/peng_sun/llm-2023-SGD-hyperparameter/sweeps/wyi8yb2f</a>"
      ],
      "text/plain": [
       "<IPython.core.display.HTML object>"
      ]
     },
     "metadata": {},
     "output_type": "display_data"
    },
    {
     "data": {
      "text/html": [
       " View run at <a href='https://wandb.ai/peng_sun/llm-2023-SGD-hyperparameter/runs/5oi7uqgz' target=\"_blank\">https://wandb.ai/peng_sun/llm-2023-SGD-hyperparameter/runs/5oi7uqgz</a>"
      ],
      "text/plain": [
       "<IPython.core.display.HTML object>"
      ]
     },
     "metadata": {},
     "output_type": "display_data"
    },
    {
     "data": {
      "text/html": [
       "Waiting for W&B process to finish... <strong style=\"color:green\">(success).</strong>"
      ],
      "text/plain": [
       "<IPython.core.display.HTML object>"
      ]
     },
     "metadata": {},
     "output_type": "display_data"
    },
    {
     "data": {
      "text/html": [
       "<style>\n",
       "    table.wandb td:nth-child(1) { padding: 0 10px; text-align: left ; width: auto;} td:nth-child(2) {text-align: left ; width: 100%}\n",
       "    .wandb-row { display: flex; flex-direction: row; flex-wrap: wrap; justify-content: flex-start; width: 100% }\n",
       "    .wandb-col { display: flex; flex-direction: column; flex-basis: 100%; flex: 1; padding: 10px; }\n",
       "    </style>\n",
       "<div class=\"wandb-row\"><div class=\"wandb-col\"><h3>Run history:</h3><br/><table class=\"wandb\"><tr><td>validatoin_auc</td><td>███▁█</td></tr></table><br/></div><div class=\"wandb-col\"><h3>Run summary:</h3><br/><table class=\"wandb\"><tr><td>validatoin_auc</td><td>0.9941</td></tr></table><br/></div></div>"
      ],
      "text/plain": [
       "<IPython.core.display.HTML object>"
      ]
     },
     "metadata": {},
     "output_type": "display_data"
    },
    {
     "data": {
      "text/html": [
       " View run <strong style=\"color:#cdcd00\">azure-sweep-87</strong> at: <a href='https://wandb.ai/peng_sun/llm-2023-SGD-hyperparameter/runs/5oi7uqgz' target=\"_blank\">https://wandb.ai/peng_sun/llm-2023-SGD-hyperparameter/runs/5oi7uqgz</a><br/>Synced 5 W&B file(s), 0 media file(s), 0 artifact file(s) and 0 other file(s)"
      ],
      "text/plain": [
       "<IPython.core.display.HTML object>"
      ]
     },
     "metadata": {},
     "output_type": "display_data"
    },
    {
     "data": {
      "text/html": [
       "Find logs at: <code>./wandb/run-20240104_204602-5oi7uqgz/logs</code>"
      ],
      "text/plain": [
       "<IPython.core.display.HTML object>"
      ]
     },
     "metadata": {},
     "output_type": "display_data"
    },
    {
     "name": "stderr",
     "output_type": "stream",
     "text": [
      "\u001b[34m\u001b[1mwandb\u001b[0m: Agent Starting Run: vtw1h8wz with config:\n",
      "\u001b[34m\u001b[1mwandb\u001b[0m: \talpha: 0.0001166732439908905\n",
      "\u001b[34m\u001b[1mwandb\u001b[0m: \teta0: 0.026002934398119237\n",
      "\u001b[34m\u001b[1mwandb\u001b[0m: \tloss: modified_huber\n",
      "\u001b[34m\u001b[1mwandb\u001b[0m: \tmax_iter: 7365\n",
      "Failed to detect the name of this notebook, you can set it manually with the WANDB_NOTEBOOK_NAME environment variable to enable code saving.\n"
     ]
    },
    {
     "data": {
      "text/html": [
       "wandb version 0.16.1 is available!  To upgrade, please run:\n",
       " $ pip install wandb --upgrade"
      ],
      "text/plain": [
       "<IPython.core.display.HTML object>"
      ]
     },
     "metadata": {},
     "output_type": "display_data"
    },
    {
     "data": {
      "text/html": [
       "Tracking run with wandb version 0.15.11"
      ],
      "text/plain": [
       "<IPython.core.display.HTML object>"
      ]
     },
     "metadata": {},
     "output_type": "display_data"
    },
    {
     "data": {
      "text/html": [
       "Run data is saved locally in <code>/home/peng_sun2/workspace/llm-2023/wandb/run-20240104_204630-vtw1h8wz</code>"
      ],
      "text/plain": [
       "<IPython.core.display.HTML object>"
      ]
     },
     "metadata": {},
     "output_type": "display_data"
    },
    {
     "data": {
      "text/html": [
       "Syncing run <strong><a href='https://wandb.ai/peng_sun/llm-2023-SGD-hyperparameter/runs/vtw1h8wz' target=\"_blank\">faithful-sweep-88</a></strong> to <a href='https://wandb.ai/peng_sun/llm-2023-SGD-hyperparameter' target=\"_blank\">Weights & Biases</a> (<a href='https://wandb.me/run' target=\"_blank\">docs</a>)<br/>Sweep page: <a href='https://wandb.ai/peng_sun/llm-2023-SGD-hyperparameter/sweeps/wyi8yb2f' target=\"_blank\">https://wandb.ai/peng_sun/llm-2023-SGD-hyperparameter/sweeps/wyi8yb2f</a>"
      ],
      "text/plain": [
       "<IPython.core.display.HTML object>"
      ]
     },
     "metadata": {},
     "output_type": "display_data"
    },
    {
     "data": {
      "text/html": [
       " View project at <a href='https://wandb.ai/peng_sun/llm-2023-SGD-hyperparameter' target=\"_blank\">https://wandb.ai/peng_sun/llm-2023-SGD-hyperparameter</a>"
      ],
      "text/plain": [
       "<IPython.core.display.HTML object>"
      ]
     },
     "metadata": {},
     "output_type": "display_data"
    },
    {
     "data": {
      "text/html": [
       " View sweep at <a href='https://wandb.ai/peng_sun/llm-2023-SGD-hyperparameter/sweeps/wyi8yb2f' target=\"_blank\">https://wandb.ai/peng_sun/llm-2023-SGD-hyperparameter/sweeps/wyi8yb2f</a>"
      ],
      "text/plain": [
       "<IPython.core.display.HTML object>"
      ]
     },
     "metadata": {},
     "output_type": "display_data"
    },
    {
     "data": {
      "text/html": [
       " View run at <a href='https://wandb.ai/peng_sun/llm-2023-SGD-hyperparameter/runs/vtw1h8wz' target=\"_blank\">https://wandb.ai/peng_sun/llm-2023-SGD-hyperparameter/runs/vtw1h8wz</a>"
      ],
      "text/plain": [
       "<IPython.core.display.HTML object>"
      ]
     },
     "metadata": {},
     "output_type": "display_data"
    },
    {
     "data": {
      "text/html": [
       "Waiting for W&B process to finish... <strong style=\"color:green\">(success).</strong>"
      ],
      "text/plain": [
       "<IPython.core.display.HTML object>"
      ]
     },
     "metadata": {},
     "output_type": "display_data"
    },
    {
     "data": {
      "text/html": [
       "<style>\n",
       "    table.wandb td:nth-child(1) { padding: 0 10px; text-align: left ; width: auto;} td:nth-child(2) {text-align: left ; width: 100%}\n",
       "    .wandb-row { display: flex; flex-direction: row; flex-wrap: wrap; justify-content: flex-start; width: 100% }\n",
       "    .wandb-col { display: flex; flex-direction: column; flex-basis: 100%; flex: 1; padding: 10px; }\n",
       "    </style>\n",
       "<div class=\"wandb-row\"><div class=\"wandb-col\"><h3>Run history:</h3><br/><table class=\"wandb\"><tr><td>validatoin_auc</td><td>███▁█</td></tr></table><br/></div><div class=\"wandb-col\"><h3>Run summary:</h3><br/><table class=\"wandb\"><tr><td>validatoin_auc</td><td>0.99407</td></tr></table><br/></div></div>"
      ],
      "text/plain": [
       "<IPython.core.display.HTML object>"
      ]
     },
     "metadata": {},
     "output_type": "display_data"
    },
    {
     "data": {
      "text/html": [
       " View run <strong style=\"color:#cdcd00\">faithful-sweep-88</strong> at: <a href='https://wandb.ai/peng_sun/llm-2023-SGD-hyperparameter/runs/vtw1h8wz' target=\"_blank\">https://wandb.ai/peng_sun/llm-2023-SGD-hyperparameter/runs/vtw1h8wz</a><br/>Synced 5 W&B file(s), 0 media file(s), 0 artifact file(s) and 0 other file(s)"
      ],
      "text/plain": [
       "<IPython.core.display.HTML object>"
      ]
     },
     "metadata": {},
     "output_type": "display_data"
    },
    {
     "data": {
      "text/html": [
       "Find logs at: <code>./wandb/run-20240104_204630-vtw1h8wz/logs</code>"
      ],
      "text/plain": [
       "<IPython.core.display.HTML object>"
      ]
     },
     "metadata": {},
     "output_type": "display_data"
    },
    {
     "name": "stderr",
     "output_type": "stream",
     "text": [
      "\u001b[34m\u001b[1mwandb\u001b[0m: Agent Starting Run: yzohxmir with config:\n",
      "\u001b[34m\u001b[1mwandb\u001b[0m: \talpha: 0.0001759323740094198\n",
      "\u001b[34m\u001b[1mwandb\u001b[0m: \teta0: 0.01354131414106462\n",
      "\u001b[34m\u001b[1mwandb\u001b[0m: \tloss: modified_huber\n",
      "\u001b[34m\u001b[1mwandb\u001b[0m: \tmax_iter: 9614\n",
      "Failed to detect the name of this notebook, you can set it manually with the WANDB_NOTEBOOK_NAME environment variable to enable code saving.\n"
     ]
    },
    {
     "data": {
      "text/html": [
       "wandb version 0.16.1 is available!  To upgrade, please run:\n",
       " $ pip install wandb --upgrade"
      ],
      "text/plain": [
       "<IPython.core.display.HTML object>"
      ]
     },
     "metadata": {},
     "output_type": "display_data"
    },
    {
     "data": {
      "text/html": [
       "Tracking run with wandb version 0.15.11"
      ],
      "text/plain": [
       "<IPython.core.display.HTML object>"
      ]
     },
     "metadata": {},
     "output_type": "display_data"
    },
    {
     "data": {
      "text/html": [
       "Run data is saved locally in <code>/home/peng_sun2/workspace/llm-2023/wandb/run-20240104_204656-yzohxmir</code>"
      ],
      "text/plain": [
       "<IPython.core.display.HTML object>"
      ]
     },
     "metadata": {},
     "output_type": "display_data"
    },
    {
     "data": {
      "text/html": [
       "Syncing run <strong><a href='https://wandb.ai/peng_sun/llm-2023-SGD-hyperparameter/runs/yzohxmir' target=\"_blank\">true-sweep-89</a></strong> to <a href='https://wandb.ai/peng_sun/llm-2023-SGD-hyperparameter' target=\"_blank\">Weights & Biases</a> (<a href='https://wandb.me/run' target=\"_blank\">docs</a>)<br/>Sweep page: <a href='https://wandb.ai/peng_sun/llm-2023-SGD-hyperparameter/sweeps/wyi8yb2f' target=\"_blank\">https://wandb.ai/peng_sun/llm-2023-SGD-hyperparameter/sweeps/wyi8yb2f</a>"
      ],
      "text/plain": [
       "<IPython.core.display.HTML object>"
      ]
     },
     "metadata": {},
     "output_type": "display_data"
    },
    {
     "data": {
      "text/html": [
       " View project at <a href='https://wandb.ai/peng_sun/llm-2023-SGD-hyperparameter' target=\"_blank\">https://wandb.ai/peng_sun/llm-2023-SGD-hyperparameter</a>"
      ],
      "text/plain": [
       "<IPython.core.display.HTML object>"
      ]
     },
     "metadata": {},
     "output_type": "display_data"
    },
    {
     "data": {
      "text/html": [
       " View sweep at <a href='https://wandb.ai/peng_sun/llm-2023-SGD-hyperparameter/sweeps/wyi8yb2f' target=\"_blank\">https://wandb.ai/peng_sun/llm-2023-SGD-hyperparameter/sweeps/wyi8yb2f</a>"
      ],
      "text/plain": [
       "<IPython.core.display.HTML object>"
      ]
     },
     "metadata": {},
     "output_type": "display_data"
    },
    {
     "data": {
      "text/html": [
       " View run at <a href='https://wandb.ai/peng_sun/llm-2023-SGD-hyperparameter/runs/yzohxmir' target=\"_blank\">https://wandb.ai/peng_sun/llm-2023-SGD-hyperparameter/runs/yzohxmir</a>"
      ],
      "text/plain": [
       "<IPython.core.display.HTML object>"
      ]
     },
     "metadata": {},
     "output_type": "display_data"
    },
    {
     "data": {
      "text/html": [
       "Waiting for W&B process to finish... <strong style=\"color:green\">(success).</strong>"
      ],
      "text/plain": [
       "<IPython.core.display.HTML object>"
      ]
     },
     "metadata": {},
     "output_type": "display_data"
    },
    {
     "data": {
      "text/html": [
       "<style>\n",
       "    table.wandb td:nth-child(1) { padding: 0 10px; text-align: left ; width: auto;} td:nth-child(2) {text-align: left ; width: 100%}\n",
       "    .wandb-row { display: flex; flex-direction: row; flex-wrap: wrap; justify-content: flex-start; width: 100% }\n",
       "    .wandb-col { display: flex; flex-direction: column; flex-basis: 100%; flex: 1; padding: 10px; }\n",
       "    </style>\n",
       "<div class=\"wandb-row\"><div class=\"wandb-col\"><h3>Run history:</h3><br/><table class=\"wandb\"><tr><td>validatoin_auc</td><td>███▁█</td></tr></table><br/></div><div class=\"wandb-col\"><h3>Run summary:</h3><br/><table class=\"wandb\"><tr><td>validatoin_auc</td><td>0.99367</td></tr></table><br/></div></div>"
      ],
      "text/plain": [
       "<IPython.core.display.HTML object>"
      ]
     },
     "metadata": {},
     "output_type": "display_data"
    },
    {
     "data": {
      "text/html": [
       " View run <strong style=\"color:#cdcd00\">true-sweep-89</strong> at: <a href='https://wandb.ai/peng_sun/llm-2023-SGD-hyperparameter/runs/yzohxmir' target=\"_blank\">https://wandb.ai/peng_sun/llm-2023-SGD-hyperparameter/runs/yzohxmir</a><br/>Synced 5 W&B file(s), 0 media file(s), 0 artifact file(s) and 0 other file(s)"
      ],
      "text/plain": [
       "<IPython.core.display.HTML object>"
      ]
     },
     "metadata": {},
     "output_type": "display_data"
    },
    {
     "data": {
      "text/html": [
       "Find logs at: <code>./wandb/run-20240104_204656-yzohxmir/logs</code>"
      ],
      "text/plain": [
       "<IPython.core.display.HTML object>"
      ]
     },
     "metadata": {},
     "output_type": "display_data"
    },
    {
     "name": "stderr",
     "output_type": "stream",
     "text": [
      "\u001b[34m\u001b[1mwandb\u001b[0m: Agent Starting Run: yh6qn3fv with config:\n",
      "\u001b[34m\u001b[1mwandb\u001b[0m: \talpha: 0.0001046846839081895\n",
      "\u001b[34m\u001b[1mwandb\u001b[0m: \teta0: 0.05687677540854763\n",
      "\u001b[34m\u001b[1mwandb\u001b[0m: \tloss: modified_huber\n",
      "\u001b[34m\u001b[1mwandb\u001b[0m: \tmax_iter: 8914\n",
      "Failed to detect the name of this notebook, you can set it manually with the WANDB_NOTEBOOK_NAME environment variable to enable code saving.\n"
     ]
    },
    {
     "data": {
      "text/html": [
       "wandb version 0.16.1 is available!  To upgrade, please run:\n",
       " $ pip install wandb --upgrade"
      ],
      "text/plain": [
       "<IPython.core.display.HTML object>"
      ]
     },
     "metadata": {},
     "output_type": "display_data"
    },
    {
     "data": {
      "text/html": [
       "Tracking run with wandb version 0.15.11"
      ],
      "text/plain": [
       "<IPython.core.display.HTML object>"
      ]
     },
     "metadata": {},
     "output_type": "display_data"
    },
    {
     "data": {
      "text/html": [
       "Run data is saved locally in <code>/home/peng_sun2/workspace/llm-2023/wandb/run-20240104_204721-yh6qn3fv</code>"
      ],
      "text/plain": [
       "<IPython.core.display.HTML object>"
      ]
     },
     "metadata": {},
     "output_type": "display_data"
    },
    {
     "data": {
      "text/html": [
       "Syncing run <strong><a href='https://wandb.ai/peng_sun/llm-2023-SGD-hyperparameter/runs/yh6qn3fv' target=\"_blank\">crimson-sweep-90</a></strong> to <a href='https://wandb.ai/peng_sun/llm-2023-SGD-hyperparameter' target=\"_blank\">Weights & Biases</a> (<a href='https://wandb.me/run' target=\"_blank\">docs</a>)<br/>Sweep page: <a href='https://wandb.ai/peng_sun/llm-2023-SGD-hyperparameter/sweeps/wyi8yb2f' target=\"_blank\">https://wandb.ai/peng_sun/llm-2023-SGD-hyperparameter/sweeps/wyi8yb2f</a>"
      ],
      "text/plain": [
       "<IPython.core.display.HTML object>"
      ]
     },
     "metadata": {},
     "output_type": "display_data"
    },
    {
     "data": {
      "text/html": [
       " View project at <a href='https://wandb.ai/peng_sun/llm-2023-SGD-hyperparameter' target=\"_blank\">https://wandb.ai/peng_sun/llm-2023-SGD-hyperparameter</a>"
      ],
      "text/plain": [
       "<IPython.core.display.HTML object>"
      ]
     },
     "metadata": {},
     "output_type": "display_data"
    },
    {
     "data": {
      "text/html": [
       " View sweep at <a href='https://wandb.ai/peng_sun/llm-2023-SGD-hyperparameter/sweeps/wyi8yb2f' target=\"_blank\">https://wandb.ai/peng_sun/llm-2023-SGD-hyperparameter/sweeps/wyi8yb2f</a>"
      ],
      "text/plain": [
       "<IPython.core.display.HTML object>"
      ]
     },
     "metadata": {},
     "output_type": "display_data"
    },
    {
     "data": {
      "text/html": [
       " View run at <a href='https://wandb.ai/peng_sun/llm-2023-SGD-hyperparameter/runs/yh6qn3fv' target=\"_blank\">https://wandb.ai/peng_sun/llm-2023-SGD-hyperparameter/runs/yh6qn3fv</a>"
      ],
      "text/plain": [
       "<IPython.core.display.HTML object>"
      ]
     },
     "metadata": {},
     "output_type": "display_data"
    },
    {
     "data": {
      "text/html": [
       "Waiting for W&B process to finish... <strong style=\"color:green\">(success).</strong>"
      ],
      "text/plain": [
       "<IPython.core.display.HTML object>"
      ]
     },
     "metadata": {},
     "output_type": "display_data"
    },
    {
     "data": {
      "text/html": [
       "<style>\n",
       "    table.wandb td:nth-child(1) { padding: 0 10px; text-align: left ; width: auto;} td:nth-child(2) {text-align: left ; width: 100%}\n",
       "    .wandb-row { display: flex; flex-direction: row; flex-wrap: wrap; justify-content: flex-start; width: 100% }\n",
       "    .wandb-col { display: flex; flex-direction: column; flex-basis: 100%; flex: 1; padding: 10px; }\n",
       "    </style>\n",
       "<div class=\"wandb-row\"><div class=\"wandb-col\"><h3>Run history:</h3><br/><table class=\"wandb\"><tr><td>validatoin_auc</td><td>███▁█</td></tr></table><br/></div><div class=\"wandb-col\"><h3>Run summary:</h3><br/><table class=\"wandb\"><tr><td>validatoin_auc</td><td>0.99412</td></tr></table><br/></div></div>"
      ],
      "text/plain": [
       "<IPython.core.display.HTML object>"
      ]
     },
     "metadata": {},
     "output_type": "display_data"
    },
    {
     "data": {
      "text/html": [
       " View run <strong style=\"color:#cdcd00\">crimson-sweep-90</strong> at: <a href='https://wandb.ai/peng_sun/llm-2023-SGD-hyperparameter/runs/yh6qn3fv' target=\"_blank\">https://wandb.ai/peng_sun/llm-2023-SGD-hyperparameter/runs/yh6qn3fv</a><br/>Synced 5 W&B file(s), 0 media file(s), 0 artifact file(s) and 0 other file(s)"
      ],
      "text/plain": [
       "<IPython.core.display.HTML object>"
      ]
     },
     "metadata": {},
     "output_type": "display_data"
    },
    {
     "data": {
      "text/html": [
       "Find logs at: <code>./wandb/run-20240104_204721-yh6qn3fv/logs</code>"
      ],
      "text/plain": [
       "<IPython.core.display.HTML object>"
      ]
     },
     "metadata": {},
     "output_type": "display_data"
    },
    {
     "name": "stderr",
     "output_type": "stream",
     "text": [
      "\u001b[34m\u001b[1mwandb\u001b[0m: Agent Starting Run: b29o1aqm with config:\n",
      "\u001b[34m\u001b[1mwandb\u001b[0m: \talpha: 0.000294062998693649\n",
      "\u001b[34m\u001b[1mwandb\u001b[0m: \teta0: 0.021955033753088\n",
      "\u001b[34m\u001b[1mwandb\u001b[0m: \tloss: modified_huber\n",
      "\u001b[34m\u001b[1mwandb\u001b[0m: \tmax_iter: 7004\n",
      "Failed to detect the name of this notebook, you can set it manually with the WANDB_NOTEBOOK_NAME environment variable to enable code saving.\n"
     ]
    },
    {
     "data": {
      "text/html": [
       "wandb version 0.16.1 is available!  To upgrade, please run:\n",
       " $ pip install wandb --upgrade"
      ],
      "text/plain": [
       "<IPython.core.display.HTML object>"
      ]
     },
     "metadata": {},
     "output_type": "display_data"
    },
    {
     "data": {
      "text/html": [
       "Tracking run with wandb version 0.15.11"
      ],
      "text/plain": [
       "<IPython.core.display.HTML object>"
      ]
     },
     "metadata": {},
     "output_type": "display_data"
    },
    {
     "data": {
      "text/html": [
       "Run data is saved locally in <code>/home/peng_sun2/workspace/llm-2023/wandb/run-20240104_204746-b29o1aqm</code>"
      ],
      "text/plain": [
       "<IPython.core.display.HTML object>"
      ]
     },
     "metadata": {},
     "output_type": "display_data"
    },
    {
     "data": {
      "text/html": [
       "Syncing run <strong><a href='https://wandb.ai/peng_sun/llm-2023-SGD-hyperparameter/runs/b29o1aqm' target=\"_blank\">upbeat-sweep-91</a></strong> to <a href='https://wandb.ai/peng_sun/llm-2023-SGD-hyperparameter' target=\"_blank\">Weights & Biases</a> (<a href='https://wandb.me/run' target=\"_blank\">docs</a>)<br/>Sweep page: <a href='https://wandb.ai/peng_sun/llm-2023-SGD-hyperparameter/sweeps/wyi8yb2f' target=\"_blank\">https://wandb.ai/peng_sun/llm-2023-SGD-hyperparameter/sweeps/wyi8yb2f</a>"
      ],
      "text/plain": [
       "<IPython.core.display.HTML object>"
      ]
     },
     "metadata": {},
     "output_type": "display_data"
    },
    {
     "data": {
      "text/html": [
       " View project at <a href='https://wandb.ai/peng_sun/llm-2023-SGD-hyperparameter' target=\"_blank\">https://wandb.ai/peng_sun/llm-2023-SGD-hyperparameter</a>"
      ],
      "text/plain": [
       "<IPython.core.display.HTML object>"
      ]
     },
     "metadata": {},
     "output_type": "display_data"
    },
    {
     "data": {
      "text/html": [
       " View sweep at <a href='https://wandb.ai/peng_sun/llm-2023-SGD-hyperparameter/sweeps/wyi8yb2f' target=\"_blank\">https://wandb.ai/peng_sun/llm-2023-SGD-hyperparameter/sweeps/wyi8yb2f</a>"
      ],
      "text/plain": [
       "<IPython.core.display.HTML object>"
      ]
     },
     "metadata": {},
     "output_type": "display_data"
    },
    {
     "data": {
      "text/html": [
       " View run at <a href='https://wandb.ai/peng_sun/llm-2023-SGD-hyperparameter/runs/b29o1aqm' target=\"_blank\">https://wandb.ai/peng_sun/llm-2023-SGD-hyperparameter/runs/b29o1aqm</a>"
      ],
      "text/plain": [
       "<IPython.core.display.HTML object>"
      ]
     },
     "metadata": {},
     "output_type": "display_data"
    },
    {
     "data": {
      "text/html": [
       "Waiting for W&B process to finish... <strong style=\"color:green\">(success).</strong>"
      ],
      "text/plain": [
       "<IPython.core.display.HTML object>"
      ]
     },
     "metadata": {},
     "output_type": "display_data"
    },
    {
     "data": {
      "text/html": [
       "<style>\n",
       "    table.wandb td:nth-child(1) { padding: 0 10px; text-align: left ; width: auto;} td:nth-child(2) {text-align: left ; width: 100%}\n",
       "    .wandb-row { display: flex; flex-direction: row; flex-wrap: wrap; justify-content: flex-start; width: 100% }\n",
       "    .wandb-col { display: flex; flex-direction: column; flex-basis: 100%; flex: 1; padding: 10px; }\n",
       "    </style>\n",
       "<div class=\"wandb-row\"><div class=\"wandb-col\"><h3>Run history:</h3><br/><table class=\"wandb\"><tr><td>validatoin_auc</td><td>███▁█</td></tr></table><br/></div><div class=\"wandb-col\"><h3>Run summary:</h3><br/><table class=\"wandb\"><tr><td>validatoin_auc</td><td>0.99243</td></tr></table><br/></div></div>"
      ],
      "text/plain": [
       "<IPython.core.display.HTML object>"
      ]
     },
     "metadata": {},
     "output_type": "display_data"
    },
    {
     "data": {
      "text/html": [
       " View run <strong style=\"color:#cdcd00\">upbeat-sweep-91</strong> at: <a href='https://wandb.ai/peng_sun/llm-2023-SGD-hyperparameter/runs/b29o1aqm' target=\"_blank\">https://wandb.ai/peng_sun/llm-2023-SGD-hyperparameter/runs/b29o1aqm</a><br/>Synced 5 W&B file(s), 0 media file(s), 0 artifact file(s) and 0 other file(s)"
      ],
      "text/plain": [
       "<IPython.core.display.HTML object>"
      ]
     },
     "metadata": {},
     "output_type": "display_data"
    },
    {
     "data": {
      "text/html": [
       "Find logs at: <code>./wandb/run-20240104_204746-b29o1aqm/logs</code>"
      ],
      "text/plain": [
       "<IPython.core.display.HTML object>"
      ]
     },
     "metadata": {},
     "output_type": "display_data"
    },
    {
     "name": "stderr",
     "output_type": "stream",
     "text": [
      "\u001b[34m\u001b[1mwandb\u001b[0m: Agent Starting Run: bb94f0mg with config:\n",
      "\u001b[34m\u001b[1mwandb\u001b[0m: \talpha: 0.0003230477918791375\n",
      "\u001b[34m\u001b[1mwandb\u001b[0m: \teta0: 0.026361943982217154\n",
      "\u001b[34m\u001b[1mwandb\u001b[0m: \tloss: modified_huber\n",
      "\u001b[34m\u001b[1mwandb\u001b[0m: \tmax_iter: 9118\n",
      "Failed to detect the name of this notebook, you can set it manually with the WANDB_NOTEBOOK_NAME environment variable to enable code saving.\n"
     ]
    },
    {
     "data": {
      "text/html": [
       "wandb version 0.16.1 is available!  To upgrade, please run:\n",
       " $ pip install wandb --upgrade"
      ],
      "text/plain": [
       "<IPython.core.display.HTML object>"
      ]
     },
     "metadata": {},
     "output_type": "display_data"
    },
    {
     "data": {
      "text/html": [
       "Tracking run with wandb version 0.15.11"
      ],
      "text/plain": [
       "<IPython.core.display.HTML object>"
      ]
     },
     "metadata": {},
     "output_type": "display_data"
    },
    {
     "data": {
      "text/html": [
       "Run data is saved locally in <code>/home/peng_sun2/workspace/llm-2023/wandb/run-20240104_204810-bb94f0mg</code>"
      ],
      "text/plain": [
       "<IPython.core.display.HTML object>"
      ]
     },
     "metadata": {},
     "output_type": "display_data"
    },
    {
     "data": {
      "text/html": [
       "Syncing run <strong><a href='https://wandb.ai/peng_sun/llm-2023-SGD-hyperparameter/runs/bb94f0mg' target=\"_blank\">crisp-sweep-92</a></strong> to <a href='https://wandb.ai/peng_sun/llm-2023-SGD-hyperparameter' target=\"_blank\">Weights & Biases</a> (<a href='https://wandb.me/run' target=\"_blank\">docs</a>)<br/>Sweep page: <a href='https://wandb.ai/peng_sun/llm-2023-SGD-hyperparameter/sweeps/wyi8yb2f' target=\"_blank\">https://wandb.ai/peng_sun/llm-2023-SGD-hyperparameter/sweeps/wyi8yb2f</a>"
      ],
      "text/plain": [
       "<IPython.core.display.HTML object>"
      ]
     },
     "metadata": {},
     "output_type": "display_data"
    },
    {
     "data": {
      "text/html": [
       " View project at <a href='https://wandb.ai/peng_sun/llm-2023-SGD-hyperparameter' target=\"_blank\">https://wandb.ai/peng_sun/llm-2023-SGD-hyperparameter</a>"
      ],
      "text/plain": [
       "<IPython.core.display.HTML object>"
      ]
     },
     "metadata": {},
     "output_type": "display_data"
    },
    {
     "data": {
      "text/html": [
       " View sweep at <a href='https://wandb.ai/peng_sun/llm-2023-SGD-hyperparameter/sweeps/wyi8yb2f' target=\"_blank\">https://wandb.ai/peng_sun/llm-2023-SGD-hyperparameter/sweeps/wyi8yb2f</a>"
      ],
      "text/plain": [
       "<IPython.core.display.HTML object>"
      ]
     },
     "metadata": {},
     "output_type": "display_data"
    },
    {
     "data": {
      "text/html": [
       " View run at <a href='https://wandb.ai/peng_sun/llm-2023-SGD-hyperparameter/runs/bb94f0mg' target=\"_blank\">https://wandb.ai/peng_sun/llm-2023-SGD-hyperparameter/runs/bb94f0mg</a>"
      ],
      "text/plain": [
       "<IPython.core.display.HTML object>"
      ]
     },
     "metadata": {},
     "output_type": "display_data"
    },
    {
     "data": {
      "text/html": [
       "Waiting for W&B process to finish... <strong style=\"color:green\">(success).</strong>"
      ],
      "text/plain": [
       "<IPython.core.display.HTML object>"
      ]
     },
     "metadata": {},
     "output_type": "display_data"
    },
    {
     "data": {
      "text/html": [
       "<style>\n",
       "    table.wandb td:nth-child(1) { padding: 0 10px; text-align: left ; width: auto;} td:nth-child(2) {text-align: left ; width: 100%}\n",
       "    .wandb-row { display: flex; flex-direction: row; flex-wrap: wrap; justify-content: flex-start; width: 100% }\n",
       "    .wandb-col { display: flex; flex-direction: column; flex-basis: 100%; flex: 1; padding: 10px; }\n",
       "    </style>\n",
       "<div class=\"wandb-row\"><div class=\"wandb-col\"><h3>Run history:</h3><br/><table class=\"wandb\"><tr><td>validatoin_auc</td><td>███▁█</td></tr></table><br/></div><div class=\"wandb-col\"><h3>Run summary:</h3><br/><table class=\"wandb\"><tr><td>validatoin_auc</td><td>0.99232</td></tr></table><br/></div></div>"
      ],
      "text/plain": [
       "<IPython.core.display.HTML object>"
      ]
     },
     "metadata": {},
     "output_type": "display_data"
    },
    {
     "data": {
      "text/html": [
       " View run <strong style=\"color:#cdcd00\">crisp-sweep-92</strong> at: <a href='https://wandb.ai/peng_sun/llm-2023-SGD-hyperparameter/runs/bb94f0mg' target=\"_blank\">https://wandb.ai/peng_sun/llm-2023-SGD-hyperparameter/runs/bb94f0mg</a><br/>Synced 5 W&B file(s), 0 media file(s), 0 artifact file(s) and 0 other file(s)"
      ],
      "text/plain": [
       "<IPython.core.display.HTML object>"
      ]
     },
     "metadata": {},
     "output_type": "display_data"
    },
    {
     "data": {
      "text/html": [
       "Find logs at: <code>./wandb/run-20240104_204810-bb94f0mg/logs</code>"
      ],
      "text/plain": [
       "<IPython.core.display.HTML object>"
      ]
     },
     "metadata": {},
     "output_type": "display_data"
    },
    {
     "name": "stderr",
     "output_type": "stream",
     "text": [
      "\u001b[34m\u001b[1mwandb\u001b[0m: Agent Starting Run: h6pyuvqz with config:\n",
      "\u001b[34m\u001b[1mwandb\u001b[0m: \talpha: 0.00025317898592001404\n",
      "\u001b[34m\u001b[1mwandb\u001b[0m: \teta0: 0.038182001922553506\n",
      "\u001b[34m\u001b[1mwandb\u001b[0m: \tloss: modified_huber\n",
      "\u001b[34m\u001b[1mwandb\u001b[0m: \tmax_iter: 5004\n",
      "Failed to detect the name of this notebook, you can set it manually with the WANDB_NOTEBOOK_NAME environment variable to enable code saving.\n"
     ]
    },
    {
     "data": {
      "text/html": [
       "wandb version 0.16.1 is available!  To upgrade, please run:\n",
       " $ pip install wandb --upgrade"
      ],
      "text/plain": [
       "<IPython.core.display.HTML object>"
      ]
     },
     "metadata": {},
     "output_type": "display_data"
    },
    {
     "data": {
      "text/html": [
       "Tracking run with wandb version 0.15.11"
      ],
      "text/plain": [
       "<IPython.core.display.HTML object>"
      ]
     },
     "metadata": {},
     "output_type": "display_data"
    },
    {
     "data": {
      "text/html": [
       "Run data is saved locally in <code>/home/peng_sun2/workspace/llm-2023/wandb/run-20240104_204835-h6pyuvqz</code>"
      ],
      "text/plain": [
       "<IPython.core.display.HTML object>"
      ]
     },
     "metadata": {},
     "output_type": "display_data"
    },
    {
     "data": {
      "text/html": [
       "Syncing run <strong><a href='https://wandb.ai/peng_sun/llm-2023-SGD-hyperparameter/runs/h6pyuvqz' target=\"_blank\">desert-sweep-93</a></strong> to <a href='https://wandb.ai/peng_sun/llm-2023-SGD-hyperparameter' target=\"_blank\">Weights & Biases</a> (<a href='https://wandb.me/run' target=\"_blank\">docs</a>)<br/>Sweep page: <a href='https://wandb.ai/peng_sun/llm-2023-SGD-hyperparameter/sweeps/wyi8yb2f' target=\"_blank\">https://wandb.ai/peng_sun/llm-2023-SGD-hyperparameter/sweeps/wyi8yb2f</a>"
      ],
      "text/plain": [
       "<IPython.core.display.HTML object>"
      ]
     },
     "metadata": {},
     "output_type": "display_data"
    },
    {
     "data": {
      "text/html": [
       " View project at <a href='https://wandb.ai/peng_sun/llm-2023-SGD-hyperparameter' target=\"_blank\">https://wandb.ai/peng_sun/llm-2023-SGD-hyperparameter</a>"
      ],
      "text/plain": [
       "<IPython.core.display.HTML object>"
      ]
     },
     "metadata": {},
     "output_type": "display_data"
    },
    {
     "data": {
      "text/html": [
       " View sweep at <a href='https://wandb.ai/peng_sun/llm-2023-SGD-hyperparameter/sweeps/wyi8yb2f' target=\"_blank\">https://wandb.ai/peng_sun/llm-2023-SGD-hyperparameter/sweeps/wyi8yb2f</a>"
      ],
      "text/plain": [
       "<IPython.core.display.HTML object>"
      ]
     },
     "metadata": {},
     "output_type": "display_data"
    },
    {
     "data": {
      "text/html": [
       " View run at <a href='https://wandb.ai/peng_sun/llm-2023-SGD-hyperparameter/runs/h6pyuvqz' target=\"_blank\">https://wandb.ai/peng_sun/llm-2023-SGD-hyperparameter/runs/h6pyuvqz</a>"
      ],
      "text/plain": [
       "<IPython.core.display.HTML object>"
      ]
     },
     "metadata": {},
     "output_type": "display_data"
    },
    {
     "data": {
      "text/html": [
       "Waiting for W&B process to finish... <strong style=\"color:green\">(success).</strong>"
      ],
      "text/plain": [
       "<IPython.core.display.HTML object>"
      ]
     },
     "metadata": {},
     "output_type": "display_data"
    },
    {
     "data": {
      "text/html": [
       "<style>\n",
       "    table.wandb td:nth-child(1) { padding: 0 10px; text-align: left ; width: auto;} td:nth-child(2) {text-align: left ; width: 100%}\n",
       "    .wandb-row { display: flex; flex-direction: row; flex-wrap: wrap; justify-content: flex-start; width: 100% }\n",
       "    .wandb-col { display: flex; flex-direction: column; flex-basis: 100%; flex: 1; padding: 10px; }\n",
       "    </style>\n",
       "<div class=\"wandb-row\"><div class=\"wandb-col\"><h3>Run history:</h3><br/><table class=\"wandb\"><tr><td>validatoin_auc</td><td>███▁█</td></tr></table><br/></div><div class=\"wandb-col\"><h3>Run summary:</h3><br/><table class=\"wandb\"><tr><td>validatoin_auc</td><td>0.99291</td></tr></table><br/></div></div>"
      ],
      "text/plain": [
       "<IPython.core.display.HTML object>"
      ]
     },
     "metadata": {},
     "output_type": "display_data"
    },
    {
     "data": {
      "text/html": [
       " View run <strong style=\"color:#cdcd00\">desert-sweep-93</strong> at: <a href='https://wandb.ai/peng_sun/llm-2023-SGD-hyperparameter/runs/h6pyuvqz' target=\"_blank\">https://wandb.ai/peng_sun/llm-2023-SGD-hyperparameter/runs/h6pyuvqz</a><br/>Synced 5 W&B file(s), 0 media file(s), 0 artifact file(s) and 0 other file(s)"
      ],
      "text/plain": [
       "<IPython.core.display.HTML object>"
      ]
     },
     "metadata": {},
     "output_type": "display_data"
    },
    {
     "data": {
      "text/html": [
       "Find logs at: <code>./wandb/run-20240104_204835-h6pyuvqz/logs</code>"
      ],
      "text/plain": [
       "<IPython.core.display.HTML object>"
      ]
     },
     "metadata": {},
     "output_type": "display_data"
    },
    {
     "name": "stderr",
     "output_type": "stream",
     "text": [
      "\u001b[34m\u001b[1mwandb\u001b[0m: Sweep Agent: Waiting for job.\n",
      "\u001b[34m\u001b[1mwandb\u001b[0m: Job received.\n",
      "\u001b[34m\u001b[1mwandb\u001b[0m: Agent Starting Run: byjeq56p with config:\n",
      "\u001b[34m\u001b[1mwandb\u001b[0m: \talpha: 0.00024144879294899215\n",
      "\u001b[34m\u001b[1mwandb\u001b[0m: \teta0: 0.024010413739869483\n",
      "\u001b[34m\u001b[1mwandb\u001b[0m: \tloss: modified_huber\n",
      "\u001b[34m\u001b[1mwandb\u001b[0m: \tmax_iter: 8389\n",
      "Failed to detect the name of this notebook, you can set it manually with the WANDB_NOTEBOOK_NAME environment variable to enable code saving.\n"
     ]
    },
    {
     "data": {
      "text/html": [
       "wandb version 0.16.1 is available!  To upgrade, please run:\n",
       " $ pip install wandb --upgrade"
      ],
      "text/plain": [
       "<IPython.core.display.HTML object>"
      ]
     },
     "metadata": {},
     "output_type": "display_data"
    },
    {
     "data": {
      "text/html": [
       "Tracking run with wandb version 0.15.11"
      ],
      "text/plain": [
       "<IPython.core.display.HTML object>"
      ]
     },
     "metadata": {},
     "output_type": "display_data"
    },
    {
     "data": {
      "text/html": [
       "Run data is saved locally in <code>/home/peng_sun2/workspace/llm-2023/wandb/run-20240104_204906-byjeq56p</code>"
      ],
      "text/plain": [
       "<IPython.core.display.HTML object>"
      ]
     },
     "metadata": {},
     "output_type": "display_data"
    },
    {
     "data": {
      "text/html": [
       "Syncing run <strong><a href='https://wandb.ai/peng_sun/llm-2023-SGD-hyperparameter/runs/byjeq56p' target=\"_blank\">fragrant-sweep-94</a></strong> to <a href='https://wandb.ai/peng_sun/llm-2023-SGD-hyperparameter' target=\"_blank\">Weights & Biases</a> (<a href='https://wandb.me/run' target=\"_blank\">docs</a>)<br/>Sweep page: <a href='https://wandb.ai/peng_sun/llm-2023-SGD-hyperparameter/sweeps/wyi8yb2f' target=\"_blank\">https://wandb.ai/peng_sun/llm-2023-SGD-hyperparameter/sweeps/wyi8yb2f</a>"
      ],
      "text/plain": [
       "<IPython.core.display.HTML object>"
      ]
     },
     "metadata": {},
     "output_type": "display_data"
    },
    {
     "data": {
      "text/html": [
       " View project at <a href='https://wandb.ai/peng_sun/llm-2023-SGD-hyperparameter' target=\"_blank\">https://wandb.ai/peng_sun/llm-2023-SGD-hyperparameter</a>"
      ],
      "text/plain": [
       "<IPython.core.display.HTML object>"
      ]
     },
     "metadata": {},
     "output_type": "display_data"
    },
    {
     "data": {
      "text/html": [
       " View sweep at <a href='https://wandb.ai/peng_sun/llm-2023-SGD-hyperparameter/sweeps/wyi8yb2f' target=\"_blank\">https://wandb.ai/peng_sun/llm-2023-SGD-hyperparameter/sweeps/wyi8yb2f</a>"
      ],
      "text/plain": [
       "<IPython.core.display.HTML object>"
      ]
     },
     "metadata": {},
     "output_type": "display_data"
    },
    {
     "data": {
      "text/html": [
       " View run at <a href='https://wandb.ai/peng_sun/llm-2023-SGD-hyperparameter/runs/byjeq56p' target=\"_blank\">https://wandb.ai/peng_sun/llm-2023-SGD-hyperparameter/runs/byjeq56p</a>"
      ],
      "text/plain": [
       "<IPython.core.display.HTML object>"
      ]
     },
     "metadata": {},
     "output_type": "display_data"
    },
    {
     "data": {
      "text/html": [
       "Waiting for W&B process to finish... <strong style=\"color:green\">(success).</strong>"
      ],
      "text/plain": [
       "<IPython.core.display.HTML object>"
      ]
     },
     "metadata": {},
     "output_type": "display_data"
    },
    {
     "data": {
      "text/html": [
       "<style>\n",
       "    table.wandb td:nth-child(1) { padding: 0 10px; text-align: left ; width: auto;} td:nth-child(2) {text-align: left ; width: 100%}\n",
       "    .wandb-row { display: flex; flex-direction: row; flex-wrap: wrap; justify-content: flex-start; width: 100% }\n",
       "    .wandb-col { display: flex; flex-direction: column; flex-basis: 100%; flex: 1; padding: 10px; }\n",
       "    </style>\n",
       "<div class=\"wandb-row\"><div class=\"wandb-col\"><h3>Run history:</h3><br/><table class=\"wandb\"><tr><td>validatoin_auc</td><td>███▁█</td></tr></table><br/></div><div class=\"wandb-col\"><h3>Run summary:</h3><br/><table class=\"wandb\"><tr><td>validatoin_auc</td><td>0.993</td></tr></table><br/></div></div>"
      ],
      "text/plain": [
       "<IPython.core.display.HTML object>"
      ]
     },
     "metadata": {},
     "output_type": "display_data"
    },
    {
     "data": {
      "text/html": [
       " View run <strong style=\"color:#cdcd00\">fragrant-sweep-94</strong> at: <a href='https://wandb.ai/peng_sun/llm-2023-SGD-hyperparameter/runs/byjeq56p' target=\"_blank\">https://wandb.ai/peng_sun/llm-2023-SGD-hyperparameter/runs/byjeq56p</a><br/>Synced 5 W&B file(s), 0 media file(s), 0 artifact file(s) and 0 other file(s)"
      ],
      "text/plain": [
       "<IPython.core.display.HTML object>"
      ]
     },
     "metadata": {},
     "output_type": "display_data"
    },
    {
     "data": {
      "text/html": [
       "Find logs at: <code>./wandb/run-20240104_204906-byjeq56p/logs</code>"
      ],
      "text/plain": [
       "<IPython.core.display.HTML object>"
      ]
     },
     "metadata": {},
     "output_type": "display_data"
    },
    {
     "name": "stderr",
     "output_type": "stream",
     "text": [
      "\u001b[34m\u001b[1mwandb\u001b[0m: Sweep Agent: Waiting for job.\n",
      "\u001b[34m\u001b[1mwandb\u001b[0m: Job received.\n",
      "\u001b[34m\u001b[1mwandb\u001b[0m: Agent Starting Run: wu50dxii with config:\n",
      "\u001b[34m\u001b[1mwandb\u001b[0m: \talpha: 0.00010935051059350038\n",
      "\u001b[34m\u001b[1mwandb\u001b[0m: \teta0: 0.02375985934724076\n",
      "\u001b[34m\u001b[1mwandb\u001b[0m: \tloss: modified_huber\n",
      "\u001b[34m\u001b[1mwandb\u001b[0m: \tmax_iter: 7770\n",
      "Failed to detect the name of this notebook, you can set it manually with the WANDB_NOTEBOOK_NAME environment variable to enable code saving.\n"
     ]
    },
    {
     "data": {
      "text/html": [
       "wandb version 0.16.1 is available!  To upgrade, please run:\n",
       " $ pip install wandb --upgrade"
      ],
      "text/plain": [
       "<IPython.core.display.HTML object>"
      ]
     },
     "metadata": {},
     "output_type": "display_data"
    },
    {
     "data": {
      "text/html": [
       "Tracking run with wandb version 0.15.11"
      ],
      "text/plain": [
       "<IPython.core.display.HTML object>"
      ]
     },
     "metadata": {},
     "output_type": "display_data"
    },
    {
     "data": {
      "text/html": [
       "Run data is saved locally in <code>/home/peng_sun2/workspace/llm-2023/wandb/run-20240104_204937-wu50dxii</code>"
      ],
      "text/plain": [
       "<IPython.core.display.HTML object>"
      ]
     },
     "metadata": {},
     "output_type": "display_data"
    },
    {
     "data": {
      "text/html": [
       "Syncing run <strong><a href='https://wandb.ai/peng_sun/llm-2023-SGD-hyperparameter/runs/wu50dxii' target=\"_blank\">wild-sweep-95</a></strong> to <a href='https://wandb.ai/peng_sun/llm-2023-SGD-hyperparameter' target=\"_blank\">Weights & Biases</a> (<a href='https://wandb.me/run' target=\"_blank\">docs</a>)<br/>Sweep page: <a href='https://wandb.ai/peng_sun/llm-2023-SGD-hyperparameter/sweeps/wyi8yb2f' target=\"_blank\">https://wandb.ai/peng_sun/llm-2023-SGD-hyperparameter/sweeps/wyi8yb2f</a>"
      ],
      "text/plain": [
       "<IPython.core.display.HTML object>"
      ]
     },
     "metadata": {},
     "output_type": "display_data"
    },
    {
     "data": {
      "text/html": [
       " View project at <a href='https://wandb.ai/peng_sun/llm-2023-SGD-hyperparameter' target=\"_blank\">https://wandb.ai/peng_sun/llm-2023-SGD-hyperparameter</a>"
      ],
      "text/plain": [
       "<IPython.core.display.HTML object>"
      ]
     },
     "metadata": {},
     "output_type": "display_data"
    },
    {
     "data": {
      "text/html": [
       " View sweep at <a href='https://wandb.ai/peng_sun/llm-2023-SGD-hyperparameter/sweeps/wyi8yb2f' target=\"_blank\">https://wandb.ai/peng_sun/llm-2023-SGD-hyperparameter/sweeps/wyi8yb2f</a>"
      ],
      "text/plain": [
       "<IPython.core.display.HTML object>"
      ]
     },
     "metadata": {},
     "output_type": "display_data"
    },
    {
     "data": {
      "text/html": [
       " View run at <a href='https://wandb.ai/peng_sun/llm-2023-SGD-hyperparameter/runs/wu50dxii' target=\"_blank\">https://wandb.ai/peng_sun/llm-2023-SGD-hyperparameter/runs/wu50dxii</a>"
      ],
      "text/plain": [
       "<IPython.core.display.HTML object>"
      ]
     },
     "metadata": {},
     "output_type": "display_data"
    },
    {
     "data": {
      "text/html": [
       "Waiting for W&B process to finish... <strong style=\"color:green\">(success).</strong>"
      ],
      "text/plain": [
       "<IPython.core.display.HTML object>"
      ]
     },
     "metadata": {},
     "output_type": "display_data"
    },
    {
     "data": {
      "text/html": [
       "<style>\n",
       "    table.wandb td:nth-child(1) { padding: 0 10px; text-align: left ; width: auto;} td:nth-child(2) {text-align: left ; width: 100%}\n",
       "    .wandb-row { display: flex; flex-direction: row; flex-wrap: wrap; justify-content: flex-start; width: 100% }\n",
       "    .wandb-col { display: flex; flex-direction: column; flex-basis: 100%; flex: 1; padding: 10px; }\n",
       "    </style>\n",
       "<div class=\"wandb-row\"><div class=\"wandb-col\"><h3>Run history:</h3><br/><table class=\"wandb\"><tr><td>validatoin_auc</td><td>███▁█</td></tr></table><br/></div><div class=\"wandb-col\"><h3>Run summary:</h3><br/><table class=\"wandb\"><tr><td>validatoin_auc</td><td>0.9941</td></tr></table><br/></div></div>"
      ],
      "text/plain": [
       "<IPython.core.display.HTML object>"
      ]
     },
     "metadata": {},
     "output_type": "display_data"
    },
    {
     "data": {
      "text/html": [
       " View run <strong style=\"color:#cdcd00\">wild-sweep-95</strong> at: <a href='https://wandb.ai/peng_sun/llm-2023-SGD-hyperparameter/runs/wu50dxii' target=\"_blank\">https://wandb.ai/peng_sun/llm-2023-SGD-hyperparameter/runs/wu50dxii</a><br/>Synced 5 W&B file(s), 0 media file(s), 0 artifact file(s) and 0 other file(s)"
      ],
      "text/plain": [
       "<IPython.core.display.HTML object>"
      ]
     },
     "metadata": {},
     "output_type": "display_data"
    },
    {
     "data": {
      "text/html": [
       "Find logs at: <code>./wandb/run-20240104_204937-wu50dxii/logs</code>"
      ],
      "text/plain": [
       "<IPython.core.display.HTML object>"
      ]
     },
     "metadata": {},
     "output_type": "display_data"
    },
    {
     "name": "stderr",
     "output_type": "stream",
     "text": [
      "\u001b[34m\u001b[1mwandb\u001b[0m: Agent Starting Run: yt40m5a0 with config:\n",
      "\u001b[34m\u001b[1mwandb\u001b[0m: \talpha: 0.00014333932937080247\n",
      "\u001b[34m\u001b[1mwandb\u001b[0m: \teta0: 0.032052593364546564\n",
      "\u001b[34m\u001b[1mwandb\u001b[0m: \tloss: modified_huber\n",
      "\u001b[34m\u001b[1mwandb\u001b[0m: \tmax_iter: 6323\n",
      "Failed to detect the name of this notebook, you can set it manually with the WANDB_NOTEBOOK_NAME environment variable to enable code saving.\n"
     ]
    },
    {
     "data": {
      "text/html": [
       "wandb version 0.16.1 is available!  To upgrade, please run:\n",
       " $ pip install wandb --upgrade"
      ],
      "text/plain": [
       "<IPython.core.display.HTML object>"
      ]
     },
     "metadata": {},
     "output_type": "display_data"
    },
    {
     "data": {
      "text/html": [
       "Tracking run with wandb version 0.15.11"
      ],
      "text/plain": [
       "<IPython.core.display.HTML object>"
      ]
     },
     "metadata": {},
     "output_type": "display_data"
    },
    {
     "data": {
      "text/html": [
       "Run data is saved locally in <code>/home/peng_sun2/workspace/llm-2023/wandb/run-20240104_205002-yt40m5a0</code>"
      ],
      "text/plain": [
       "<IPython.core.display.HTML object>"
      ]
     },
     "metadata": {},
     "output_type": "display_data"
    },
    {
     "data": {
      "text/html": [
       "Syncing run <strong><a href='https://wandb.ai/peng_sun/llm-2023-SGD-hyperparameter/runs/yt40m5a0' target=\"_blank\">honest-sweep-96</a></strong> to <a href='https://wandb.ai/peng_sun/llm-2023-SGD-hyperparameter' target=\"_blank\">Weights & Biases</a> (<a href='https://wandb.me/run' target=\"_blank\">docs</a>)<br/>Sweep page: <a href='https://wandb.ai/peng_sun/llm-2023-SGD-hyperparameter/sweeps/wyi8yb2f' target=\"_blank\">https://wandb.ai/peng_sun/llm-2023-SGD-hyperparameter/sweeps/wyi8yb2f</a>"
      ],
      "text/plain": [
       "<IPython.core.display.HTML object>"
      ]
     },
     "metadata": {},
     "output_type": "display_data"
    },
    {
     "data": {
      "text/html": [
       " View project at <a href='https://wandb.ai/peng_sun/llm-2023-SGD-hyperparameter' target=\"_blank\">https://wandb.ai/peng_sun/llm-2023-SGD-hyperparameter</a>"
      ],
      "text/plain": [
       "<IPython.core.display.HTML object>"
      ]
     },
     "metadata": {},
     "output_type": "display_data"
    },
    {
     "data": {
      "text/html": [
       " View sweep at <a href='https://wandb.ai/peng_sun/llm-2023-SGD-hyperparameter/sweeps/wyi8yb2f' target=\"_blank\">https://wandb.ai/peng_sun/llm-2023-SGD-hyperparameter/sweeps/wyi8yb2f</a>"
      ],
      "text/plain": [
       "<IPython.core.display.HTML object>"
      ]
     },
     "metadata": {},
     "output_type": "display_data"
    },
    {
     "data": {
      "text/html": [
       " View run at <a href='https://wandb.ai/peng_sun/llm-2023-SGD-hyperparameter/runs/yt40m5a0' target=\"_blank\">https://wandb.ai/peng_sun/llm-2023-SGD-hyperparameter/runs/yt40m5a0</a>"
      ],
      "text/plain": [
       "<IPython.core.display.HTML object>"
      ]
     },
     "metadata": {},
     "output_type": "display_data"
    },
    {
     "data": {
      "text/html": [
       "Waiting for W&B process to finish... <strong style=\"color:green\">(success).</strong>"
      ],
      "text/plain": [
       "<IPython.core.display.HTML object>"
      ]
     },
     "metadata": {},
     "output_type": "display_data"
    },
    {
     "data": {
      "text/html": [
       "<style>\n",
       "    table.wandb td:nth-child(1) { padding: 0 10px; text-align: left ; width: auto;} td:nth-child(2) {text-align: left ; width: 100%}\n",
       "    .wandb-row { display: flex; flex-direction: row; flex-wrap: wrap; justify-content: flex-start; width: 100% }\n",
       "    .wandb-col { display: flex; flex-direction: column; flex-basis: 100%; flex: 1; padding: 10px; }\n",
       "    </style>\n",
       "<div class=\"wandb-row\"><div class=\"wandb-col\"><h3>Run history:</h3><br/><table class=\"wandb\"><tr><td>validatoin_auc</td><td>███▁█</td></tr></table><br/></div><div class=\"wandb-col\"><h3>Run summary:</h3><br/><table class=\"wandb\"><tr><td>validatoin_auc</td><td>0.99399</td></tr></table><br/></div></div>"
      ],
      "text/plain": [
       "<IPython.core.display.HTML object>"
      ]
     },
     "metadata": {},
     "output_type": "display_data"
    },
    {
     "data": {
      "text/html": [
       " View run <strong style=\"color:#cdcd00\">honest-sweep-96</strong> at: <a href='https://wandb.ai/peng_sun/llm-2023-SGD-hyperparameter/runs/yt40m5a0' target=\"_blank\">https://wandb.ai/peng_sun/llm-2023-SGD-hyperparameter/runs/yt40m5a0</a><br/>Synced 5 W&B file(s), 0 media file(s), 0 artifact file(s) and 0 other file(s)"
      ],
      "text/plain": [
       "<IPython.core.display.HTML object>"
      ]
     },
     "metadata": {},
     "output_type": "display_data"
    },
    {
     "data": {
      "text/html": [
       "Find logs at: <code>./wandb/run-20240104_205002-yt40m5a0/logs</code>"
      ],
      "text/plain": [
       "<IPython.core.display.HTML object>"
      ]
     },
     "metadata": {},
     "output_type": "display_data"
    },
    {
     "name": "stderr",
     "output_type": "stream",
     "text": [
      "\u001b[34m\u001b[1mwandb\u001b[0m: Sweep Agent: Waiting for job.\n",
      "\u001b[34m\u001b[1mwandb\u001b[0m: Job received.\n",
      "\u001b[34m\u001b[1mwandb\u001b[0m: Agent Starting Run: 8moom4or with config:\n",
      "\u001b[34m\u001b[1mwandb\u001b[0m: \talpha: 0.00035231609283384053\n",
      "\u001b[34m\u001b[1mwandb\u001b[0m: \teta0: 0.019687450574983847\n",
      "\u001b[34m\u001b[1mwandb\u001b[0m: \tloss: modified_huber\n",
      "\u001b[34m\u001b[1mwandb\u001b[0m: \tmax_iter: 1074\n",
      "Failed to detect the name of this notebook, you can set it manually with the WANDB_NOTEBOOK_NAME environment variable to enable code saving.\n"
     ]
    },
    {
     "data": {
      "text/html": [
       "wandb version 0.16.1 is available!  To upgrade, please run:\n",
       " $ pip install wandb --upgrade"
      ],
      "text/plain": [
       "<IPython.core.display.HTML object>"
      ]
     },
     "metadata": {},
     "output_type": "display_data"
    },
    {
     "data": {
      "text/html": [
       "Tracking run with wandb version 0.15.11"
      ],
      "text/plain": [
       "<IPython.core.display.HTML object>"
      ]
     },
     "metadata": {},
     "output_type": "display_data"
    },
    {
     "data": {
      "text/html": [
       "Run data is saved locally in <code>/home/peng_sun2/workspace/llm-2023/wandb/run-20240104_205034-8moom4or</code>"
      ],
      "text/plain": [
       "<IPython.core.display.HTML object>"
      ]
     },
     "metadata": {},
     "output_type": "display_data"
    },
    {
     "data": {
      "text/html": [
       "Syncing run <strong><a href='https://wandb.ai/peng_sun/llm-2023-SGD-hyperparameter/runs/8moom4or' target=\"_blank\">zany-sweep-97</a></strong> to <a href='https://wandb.ai/peng_sun/llm-2023-SGD-hyperparameter' target=\"_blank\">Weights & Biases</a> (<a href='https://wandb.me/run' target=\"_blank\">docs</a>)<br/>Sweep page: <a href='https://wandb.ai/peng_sun/llm-2023-SGD-hyperparameter/sweeps/wyi8yb2f' target=\"_blank\">https://wandb.ai/peng_sun/llm-2023-SGD-hyperparameter/sweeps/wyi8yb2f</a>"
      ],
      "text/plain": [
       "<IPython.core.display.HTML object>"
      ]
     },
     "metadata": {},
     "output_type": "display_data"
    },
    {
     "data": {
      "text/html": [
       " View project at <a href='https://wandb.ai/peng_sun/llm-2023-SGD-hyperparameter' target=\"_blank\">https://wandb.ai/peng_sun/llm-2023-SGD-hyperparameter</a>"
      ],
      "text/plain": [
       "<IPython.core.display.HTML object>"
      ]
     },
     "metadata": {},
     "output_type": "display_data"
    },
    {
     "data": {
      "text/html": [
       " View sweep at <a href='https://wandb.ai/peng_sun/llm-2023-SGD-hyperparameter/sweeps/wyi8yb2f' target=\"_blank\">https://wandb.ai/peng_sun/llm-2023-SGD-hyperparameter/sweeps/wyi8yb2f</a>"
      ],
      "text/plain": [
       "<IPython.core.display.HTML object>"
      ]
     },
     "metadata": {},
     "output_type": "display_data"
    },
    {
     "data": {
      "text/html": [
       " View run at <a href='https://wandb.ai/peng_sun/llm-2023-SGD-hyperparameter/runs/8moom4or' target=\"_blank\">https://wandb.ai/peng_sun/llm-2023-SGD-hyperparameter/runs/8moom4or</a>"
      ],
      "text/plain": [
       "<IPython.core.display.HTML object>"
      ]
     },
     "metadata": {},
     "output_type": "display_data"
    },
    {
     "data": {
      "text/html": [
       "Waiting for W&B process to finish... <strong style=\"color:green\">(success).</strong>"
      ],
      "text/plain": [
       "<IPython.core.display.HTML object>"
      ]
     },
     "metadata": {},
     "output_type": "display_data"
    },
    {
     "data": {
      "text/html": [
       "<style>\n",
       "    table.wandb td:nth-child(1) { padding: 0 10px; text-align: left ; width: auto;} td:nth-child(2) {text-align: left ; width: 100%}\n",
       "    .wandb-row { display: flex; flex-direction: row; flex-wrap: wrap; justify-content: flex-start; width: 100% }\n",
       "    .wandb-col { display: flex; flex-direction: column; flex-basis: 100%; flex: 1; padding: 10px; }\n",
       "    </style>\n",
       "<div class=\"wandb-row\"><div class=\"wandb-col\"><h3>Run history:</h3><br/><table class=\"wandb\"><tr><td>validatoin_auc</td><td>███▁█</td></tr></table><br/></div><div class=\"wandb-col\"><h3>Run summary:</h3><br/><table class=\"wandb\"><tr><td>validatoin_auc</td><td>0.9921</td></tr></table><br/></div></div>"
      ],
      "text/plain": [
       "<IPython.core.display.HTML object>"
      ]
     },
     "metadata": {},
     "output_type": "display_data"
    },
    {
     "data": {
      "text/html": [
       " View run <strong style=\"color:#cdcd00\">zany-sweep-97</strong> at: <a href='https://wandb.ai/peng_sun/llm-2023-SGD-hyperparameter/runs/8moom4or' target=\"_blank\">https://wandb.ai/peng_sun/llm-2023-SGD-hyperparameter/runs/8moom4or</a><br/>Synced 5 W&B file(s), 0 media file(s), 0 artifact file(s) and 0 other file(s)"
      ],
      "text/plain": [
       "<IPython.core.display.HTML object>"
      ]
     },
     "metadata": {},
     "output_type": "display_data"
    },
    {
     "data": {
      "text/html": [
       "Find logs at: <code>./wandb/run-20240104_205034-8moom4or/logs</code>"
      ],
      "text/plain": [
       "<IPython.core.display.HTML object>"
      ]
     },
     "metadata": {},
     "output_type": "display_data"
    },
    {
     "name": "stderr",
     "output_type": "stream",
     "text": [
      "\u001b[34m\u001b[1mwandb\u001b[0m: Sweep Agent: Waiting for job.\n",
      "\u001b[34m\u001b[1mwandb\u001b[0m: Job received.\n",
      "\u001b[34m\u001b[1mwandb\u001b[0m: Agent Starting Run: ikfyxmbx with config:\n",
      "\u001b[34m\u001b[1mwandb\u001b[0m: \talpha: 0.00017653738955353623\n",
      "\u001b[34m\u001b[1mwandb\u001b[0m: \teta0: 0.013118236912782844\n",
      "\u001b[34m\u001b[1mwandb\u001b[0m: \tloss: modified_huber\n",
      "\u001b[34m\u001b[1mwandb\u001b[0m: \tmax_iter: 2675\n",
      "Failed to detect the name of this notebook, you can set it manually with the WANDB_NOTEBOOK_NAME environment variable to enable code saving.\n"
     ]
    },
    {
     "data": {
      "text/html": [
       "wandb version 0.16.1 is available!  To upgrade, please run:\n",
       " $ pip install wandb --upgrade"
      ],
      "text/plain": [
       "<IPython.core.display.HTML object>"
      ]
     },
     "metadata": {},
     "output_type": "display_data"
    },
    {
     "data": {
      "text/html": [
       "Tracking run with wandb version 0.15.11"
      ],
      "text/plain": [
       "<IPython.core.display.HTML object>"
      ]
     },
     "metadata": {},
     "output_type": "display_data"
    },
    {
     "data": {
      "text/html": [
       "Run data is saved locally in <code>/home/peng_sun2/workspace/llm-2023/wandb/run-20240104_205105-ikfyxmbx</code>"
      ],
      "text/plain": [
       "<IPython.core.display.HTML object>"
      ]
     },
     "metadata": {},
     "output_type": "display_data"
    },
    {
     "data": {
      "text/html": [
       "Syncing run <strong><a href='https://wandb.ai/peng_sun/llm-2023-SGD-hyperparameter/runs/ikfyxmbx' target=\"_blank\">logical-sweep-98</a></strong> to <a href='https://wandb.ai/peng_sun/llm-2023-SGD-hyperparameter' target=\"_blank\">Weights & Biases</a> (<a href='https://wandb.me/run' target=\"_blank\">docs</a>)<br/>Sweep page: <a href='https://wandb.ai/peng_sun/llm-2023-SGD-hyperparameter/sweeps/wyi8yb2f' target=\"_blank\">https://wandb.ai/peng_sun/llm-2023-SGD-hyperparameter/sweeps/wyi8yb2f</a>"
      ],
      "text/plain": [
       "<IPython.core.display.HTML object>"
      ]
     },
     "metadata": {},
     "output_type": "display_data"
    },
    {
     "data": {
      "text/html": [
       " View project at <a href='https://wandb.ai/peng_sun/llm-2023-SGD-hyperparameter' target=\"_blank\">https://wandb.ai/peng_sun/llm-2023-SGD-hyperparameter</a>"
      ],
      "text/plain": [
       "<IPython.core.display.HTML object>"
      ]
     },
     "metadata": {},
     "output_type": "display_data"
    },
    {
     "data": {
      "text/html": [
       " View sweep at <a href='https://wandb.ai/peng_sun/llm-2023-SGD-hyperparameter/sweeps/wyi8yb2f' target=\"_blank\">https://wandb.ai/peng_sun/llm-2023-SGD-hyperparameter/sweeps/wyi8yb2f</a>"
      ],
      "text/plain": [
       "<IPython.core.display.HTML object>"
      ]
     },
     "metadata": {},
     "output_type": "display_data"
    },
    {
     "data": {
      "text/html": [
       " View run at <a href='https://wandb.ai/peng_sun/llm-2023-SGD-hyperparameter/runs/ikfyxmbx' target=\"_blank\">https://wandb.ai/peng_sun/llm-2023-SGD-hyperparameter/runs/ikfyxmbx</a>"
      ],
      "text/plain": [
       "<IPython.core.display.HTML object>"
      ]
     },
     "metadata": {},
     "output_type": "display_data"
    },
    {
     "data": {
      "text/html": [
       "Waiting for W&B process to finish... <strong style=\"color:green\">(success).</strong>"
      ],
      "text/plain": [
       "<IPython.core.display.HTML object>"
      ]
     },
     "metadata": {},
     "output_type": "display_data"
    },
    {
     "data": {
      "text/html": [
       "<style>\n",
       "    table.wandb td:nth-child(1) { padding: 0 10px; text-align: left ; width: auto;} td:nth-child(2) {text-align: left ; width: 100%}\n",
       "    .wandb-row { display: flex; flex-direction: row; flex-wrap: wrap; justify-content: flex-start; width: 100% }\n",
       "    .wandb-col { display: flex; flex-direction: column; flex-basis: 100%; flex: 1; padding: 10px; }\n",
       "    </style>\n",
       "<div class=\"wandb-row\"><div class=\"wandb-col\"><h3>Run history:</h3><br/><table class=\"wandb\"><tr><td>validatoin_auc</td><td>███▁█</td></tr></table><br/></div><div class=\"wandb-col\"><h3>Run summary:</h3><br/><table class=\"wandb\"><tr><td>validatoin_auc</td><td>0.99358</td></tr></table><br/></div></div>"
      ],
      "text/plain": [
       "<IPython.core.display.HTML object>"
      ]
     },
     "metadata": {},
     "output_type": "display_data"
    },
    {
     "data": {
      "text/html": [
       " View run <strong style=\"color:#cdcd00\">logical-sweep-98</strong> at: <a href='https://wandb.ai/peng_sun/llm-2023-SGD-hyperparameter/runs/ikfyxmbx' target=\"_blank\">https://wandb.ai/peng_sun/llm-2023-SGD-hyperparameter/runs/ikfyxmbx</a><br/>Synced 5 W&B file(s), 0 media file(s), 0 artifact file(s) and 0 other file(s)"
      ],
      "text/plain": [
       "<IPython.core.display.HTML object>"
      ]
     },
     "metadata": {},
     "output_type": "display_data"
    },
    {
     "data": {
      "text/html": [
       "Find logs at: <code>./wandb/run-20240104_205105-ikfyxmbx/logs</code>"
      ],
      "text/plain": [
       "<IPython.core.display.HTML object>"
      ]
     },
     "metadata": {},
     "output_type": "display_data"
    },
    {
     "name": "stderr",
     "output_type": "stream",
     "text": [
      "\u001b[34m\u001b[1mwandb\u001b[0m: Agent Starting Run: 78z6z57l with config:\n",
      "\u001b[34m\u001b[1mwandb\u001b[0m: \talpha: 0.00019357479417230565\n",
      "\u001b[34m\u001b[1mwandb\u001b[0m: \teta0: 0.017096683517550983\n",
      "\u001b[34m\u001b[1mwandb\u001b[0m: \tloss: modified_huber\n",
      "\u001b[34m\u001b[1mwandb\u001b[0m: \tmax_iter: 8058\n",
      "Failed to detect the name of this notebook, you can set it manually with the WANDB_NOTEBOOK_NAME environment variable to enable code saving.\n"
     ]
    },
    {
     "data": {
      "text/html": [
       "wandb version 0.16.1 is available!  To upgrade, please run:\n",
       " $ pip install wandb --upgrade"
      ],
      "text/plain": [
       "<IPython.core.display.HTML object>"
      ]
     },
     "metadata": {},
     "output_type": "display_data"
    },
    {
     "data": {
      "text/html": [
       "Tracking run with wandb version 0.15.11"
      ],
      "text/plain": [
       "<IPython.core.display.HTML object>"
      ]
     },
     "metadata": {},
     "output_type": "display_data"
    },
    {
     "data": {
      "text/html": [
       "Run data is saved locally in <code>/home/peng_sun2/workspace/llm-2023/wandb/run-20240104_205130-78z6z57l</code>"
      ],
      "text/plain": [
       "<IPython.core.display.HTML object>"
      ]
     },
     "metadata": {},
     "output_type": "display_data"
    },
    {
     "data": {
      "text/html": [
       "Syncing run <strong><a href='https://wandb.ai/peng_sun/llm-2023-SGD-hyperparameter/runs/78z6z57l' target=\"_blank\">cerulean-sweep-99</a></strong> to <a href='https://wandb.ai/peng_sun/llm-2023-SGD-hyperparameter' target=\"_blank\">Weights & Biases</a> (<a href='https://wandb.me/run' target=\"_blank\">docs</a>)<br/>Sweep page: <a href='https://wandb.ai/peng_sun/llm-2023-SGD-hyperparameter/sweeps/wyi8yb2f' target=\"_blank\">https://wandb.ai/peng_sun/llm-2023-SGD-hyperparameter/sweeps/wyi8yb2f</a>"
      ],
      "text/plain": [
       "<IPython.core.display.HTML object>"
      ]
     },
     "metadata": {},
     "output_type": "display_data"
    },
    {
     "data": {
      "text/html": [
       " View project at <a href='https://wandb.ai/peng_sun/llm-2023-SGD-hyperparameter' target=\"_blank\">https://wandb.ai/peng_sun/llm-2023-SGD-hyperparameter</a>"
      ],
      "text/plain": [
       "<IPython.core.display.HTML object>"
      ]
     },
     "metadata": {},
     "output_type": "display_data"
    },
    {
     "data": {
      "text/html": [
       " View sweep at <a href='https://wandb.ai/peng_sun/llm-2023-SGD-hyperparameter/sweeps/wyi8yb2f' target=\"_blank\">https://wandb.ai/peng_sun/llm-2023-SGD-hyperparameter/sweeps/wyi8yb2f</a>"
      ],
      "text/plain": [
       "<IPython.core.display.HTML object>"
      ]
     },
     "metadata": {},
     "output_type": "display_data"
    },
    {
     "data": {
      "text/html": [
       " View run at <a href='https://wandb.ai/peng_sun/llm-2023-SGD-hyperparameter/runs/78z6z57l' target=\"_blank\">https://wandb.ai/peng_sun/llm-2023-SGD-hyperparameter/runs/78z6z57l</a>"
      ],
      "text/plain": [
       "<IPython.core.display.HTML object>"
      ]
     },
     "metadata": {},
     "output_type": "display_data"
    },
    {
     "data": {
      "text/html": [
       "Waiting for W&B process to finish... <strong style=\"color:green\">(success).</strong>"
      ],
      "text/plain": [
       "<IPython.core.display.HTML object>"
      ]
     },
     "metadata": {},
     "output_type": "display_data"
    },
    {
     "data": {
      "text/html": [
       "<style>\n",
       "    table.wandb td:nth-child(1) { padding: 0 10px; text-align: left ; width: auto;} td:nth-child(2) {text-align: left ; width: 100%}\n",
       "    .wandb-row { display: flex; flex-direction: row; flex-wrap: wrap; justify-content: flex-start; width: 100% }\n",
       "    .wandb-col { display: flex; flex-direction: column; flex-basis: 100%; flex: 1; padding: 10px; }\n",
       "    </style>\n",
       "<div class=\"wandb-row\"><div class=\"wandb-col\"><h3>Run history:</h3><br/><table class=\"wandb\"><tr><td>validatoin_auc</td><td>███▁█</td></tr></table><br/></div><div class=\"wandb-col\"><h3>Run summary:</h3><br/><table class=\"wandb\"><tr><td>validatoin_auc</td><td>0.99328</td></tr></table><br/></div></div>"
      ],
      "text/plain": [
       "<IPython.core.display.HTML object>"
      ]
     },
     "metadata": {},
     "output_type": "display_data"
    },
    {
     "data": {
      "text/html": [
       " View run <strong style=\"color:#cdcd00\">cerulean-sweep-99</strong> at: <a href='https://wandb.ai/peng_sun/llm-2023-SGD-hyperparameter/runs/78z6z57l' target=\"_blank\">https://wandb.ai/peng_sun/llm-2023-SGD-hyperparameter/runs/78z6z57l</a><br/>Synced 5 W&B file(s), 0 media file(s), 0 artifact file(s) and 0 other file(s)"
      ],
      "text/plain": [
       "<IPython.core.display.HTML object>"
      ]
     },
     "metadata": {},
     "output_type": "display_data"
    },
    {
     "data": {
      "text/html": [
       "Find logs at: <code>./wandb/run-20240104_205130-78z6z57l/logs</code>"
      ],
      "text/plain": [
       "<IPython.core.display.HTML object>"
      ]
     },
     "metadata": {},
     "output_type": "display_data"
    },
    {
     "name": "stderr",
     "output_type": "stream",
     "text": [
      "\u001b[34m\u001b[1mwandb\u001b[0m: Sweep Agent: Waiting for job.\n",
      "\u001b[34m\u001b[1mwandb\u001b[0m: Job received.\n",
      "\u001b[34m\u001b[1mwandb\u001b[0m: Agent Starting Run: 3dpowcgi with config:\n",
      "\u001b[34m\u001b[1mwandb\u001b[0m: \talpha: 0.0002394439095997325\n",
      "\u001b[34m\u001b[1mwandb\u001b[0m: \teta0: 0.04527284108871435\n",
      "\u001b[34m\u001b[1mwandb\u001b[0m: \tloss: modified_huber\n",
      "\u001b[34m\u001b[1mwandb\u001b[0m: \tmax_iter: 1086\n",
      "Failed to detect the name of this notebook, you can set it manually with the WANDB_NOTEBOOK_NAME environment variable to enable code saving.\n"
     ]
    },
    {
     "data": {
      "text/html": [
       "wandb version 0.16.1 is available!  To upgrade, please run:\n",
       " $ pip install wandb --upgrade"
      ],
      "text/plain": [
       "<IPython.core.display.HTML object>"
      ]
     },
     "metadata": {},
     "output_type": "display_data"
    },
    {
     "data": {
      "text/html": [
       "Tracking run with wandb version 0.15.11"
      ],
      "text/plain": [
       "<IPython.core.display.HTML object>"
      ]
     },
     "metadata": {},
     "output_type": "display_data"
    },
    {
     "data": {
      "text/html": [
       "Run data is saved locally in <code>/home/peng_sun2/workspace/llm-2023/wandb/run-20240104_205201-3dpowcgi</code>"
      ],
      "text/plain": [
       "<IPython.core.display.HTML object>"
      ]
     },
     "metadata": {},
     "output_type": "display_data"
    },
    {
     "data": {
      "text/html": [
       "Syncing run <strong><a href='https://wandb.ai/peng_sun/llm-2023-SGD-hyperparameter/runs/3dpowcgi' target=\"_blank\">ancient-sweep-100</a></strong> to <a href='https://wandb.ai/peng_sun/llm-2023-SGD-hyperparameter' target=\"_blank\">Weights & Biases</a> (<a href='https://wandb.me/run' target=\"_blank\">docs</a>)<br/>Sweep page: <a href='https://wandb.ai/peng_sun/llm-2023-SGD-hyperparameter/sweeps/wyi8yb2f' target=\"_blank\">https://wandb.ai/peng_sun/llm-2023-SGD-hyperparameter/sweeps/wyi8yb2f</a>"
      ],
      "text/plain": [
       "<IPython.core.display.HTML object>"
      ]
     },
     "metadata": {},
     "output_type": "display_data"
    },
    {
     "data": {
      "text/html": [
       " View project at <a href='https://wandb.ai/peng_sun/llm-2023-SGD-hyperparameter' target=\"_blank\">https://wandb.ai/peng_sun/llm-2023-SGD-hyperparameter</a>"
      ],
      "text/plain": [
       "<IPython.core.display.HTML object>"
      ]
     },
     "metadata": {},
     "output_type": "display_data"
    },
    {
     "data": {
      "text/html": [
       " View sweep at <a href='https://wandb.ai/peng_sun/llm-2023-SGD-hyperparameter/sweeps/wyi8yb2f' target=\"_blank\">https://wandb.ai/peng_sun/llm-2023-SGD-hyperparameter/sweeps/wyi8yb2f</a>"
      ],
      "text/plain": [
       "<IPython.core.display.HTML object>"
      ]
     },
     "metadata": {},
     "output_type": "display_data"
    },
    {
     "data": {
      "text/html": [
       " View run at <a href='https://wandb.ai/peng_sun/llm-2023-SGD-hyperparameter/runs/3dpowcgi' target=\"_blank\">https://wandb.ai/peng_sun/llm-2023-SGD-hyperparameter/runs/3dpowcgi</a>"
      ],
      "text/plain": [
       "<IPython.core.display.HTML object>"
      ]
     },
     "metadata": {},
     "output_type": "display_data"
    },
    {
     "data": {
      "text/html": [
       "Waiting for W&B process to finish... <strong style=\"color:green\">(success).</strong>"
      ],
      "text/plain": [
       "<IPython.core.display.HTML object>"
      ]
     },
     "metadata": {},
     "output_type": "display_data"
    },
    {
     "data": {
      "text/html": [
       "<style>\n",
       "    table.wandb td:nth-child(1) { padding: 0 10px; text-align: left ; width: auto;} td:nth-child(2) {text-align: left ; width: 100%}\n",
       "    .wandb-row { display: flex; flex-direction: row; flex-wrap: wrap; justify-content: flex-start; width: 100% }\n",
       "    .wandb-col { display: flex; flex-direction: column; flex-basis: 100%; flex: 1; padding: 10px; }\n",
       "    </style>\n",
       "<div class=\"wandb-row\"><div class=\"wandb-col\"><h3>Run history:</h3><br/><table class=\"wandb\"><tr><td>validatoin_auc</td><td>███▁█</td></tr></table><br/></div><div class=\"wandb-col\"><h3>Run summary:</h3><br/><table class=\"wandb\"><tr><td>validatoin_auc</td><td>0.99306</td></tr></table><br/></div></div>"
      ],
      "text/plain": [
       "<IPython.core.display.HTML object>"
      ]
     },
     "metadata": {},
     "output_type": "display_data"
    },
    {
     "data": {
      "text/html": [
       " View run <strong style=\"color:#cdcd00\">ancient-sweep-100</strong> at: <a href='https://wandb.ai/peng_sun/llm-2023-SGD-hyperparameter/runs/3dpowcgi' target=\"_blank\">https://wandb.ai/peng_sun/llm-2023-SGD-hyperparameter/runs/3dpowcgi</a><br/>Synced 5 W&B file(s), 0 media file(s), 0 artifact file(s) and 0 other file(s)"
      ],
      "text/plain": [
       "<IPython.core.display.HTML object>"
      ]
     },
     "metadata": {},
     "output_type": "display_data"
    },
    {
     "data": {
      "text/html": [
       "Find logs at: <code>./wandb/run-20240104_205201-3dpowcgi/logs</code>"
      ],
      "text/plain": [
       "<IPython.core.display.HTML object>"
      ]
     },
     "metadata": {},
     "output_type": "display_data"
    },
    {
     "name": "stderr",
     "output_type": "stream",
     "text": [
      "\u001b[34m\u001b[1mwandb\u001b[0m: Agent Starting Run: 468ygyr8 with config:\n",
      "\u001b[34m\u001b[1mwandb\u001b[0m: \talpha: 0.00017243937040374463\n",
      "\u001b[34m\u001b[1mwandb\u001b[0m: \teta0: 0.073181901161274\n",
      "\u001b[34m\u001b[1mwandb\u001b[0m: \tloss: modified_huber\n",
      "\u001b[34m\u001b[1mwandb\u001b[0m: \tmax_iter: 6097\n",
      "Failed to detect the name of this notebook, you can set it manually with the WANDB_NOTEBOOK_NAME environment variable to enable code saving.\n"
     ]
    },
    {
     "data": {
      "text/html": [
       "wandb version 0.16.1 is available!  To upgrade, please run:\n",
       " $ pip install wandb --upgrade"
      ],
      "text/plain": [
       "<IPython.core.display.HTML object>"
      ]
     },
     "metadata": {},
     "output_type": "display_data"
    },
    {
     "data": {
      "text/html": [
       "Tracking run with wandb version 0.15.11"
      ],
      "text/plain": [
       "<IPython.core.display.HTML object>"
      ]
     },
     "metadata": {},
     "output_type": "display_data"
    },
    {
     "data": {
      "text/html": [
       "Run data is saved locally in <code>/home/peng_sun2/workspace/llm-2023/wandb/run-20240104_205226-468ygyr8</code>"
      ],
      "text/plain": [
       "<IPython.core.display.HTML object>"
      ]
     },
     "metadata": {},
     "output_type": "display_data"
    },
    {
     "data": {
      "text/html": [
       "Syncing run <strong><a href='https://wandb.ai/peng_sun/llm-2023-SGD-hyperparameter/runs/468ygyr8' target=\"_blank\">dark-sweep-101</a></strong> to <a href='https://wandb.ai/peng_sun/llm-2023-SGD-hyperparameter' target=\"_blank\">Weights & Biases</a> (<a href='https://wandb.me/run' target=\"_blank\">docs</a>)<br/>Sweep page: <a href='https://wandb.ai/peng_sun/llm-2023-SGD-hyperparameter/sweeps/wyi8yb2f' target=\"_blank\">https://wandb.ai/peng_sun/llm-2023-SGD-hyperparameter/sweeps/wyi8yb2f</a>"
      ],
      "text/plain": [
       "<IPython.core.display.HTML object>"
      ]
     },
     "metadata": {},
     "output_type": "display_data"
    },
    {
     "data": {
      "text/html": [
       " View project at <a href='https://wandb.ai/peng_sun/llm-2023-SGD-hyperparameter' target=\"_blank\">https://wandb.ai/peng_sun/llm-2023-SGD-hyperparameter</a>"
      ],
      "text/plain": [
       "<IPython.core.display.HTML object>"
      ]
     },
     "metadata": {},
     "output_type": "display_data"
    },
    {
     "data": {
      "text/html": [
       " View sweep at <a href='https://wandb.ai/peng_sun/llm-2023-SGD-hyperparameter/sweeps/wyi8yb2f' target=\"_blank\">https://wandb.ai/peng_sun/llm-2023-SGD-hyperparameter/sweeps/wyi8yb2f</a>"
      ],
      "text/plain": [
       "<IPython.core.display.HTML object>"
      ]
     },
     "metadata": {},
     "output_type": "display_data"
    },
    {
     "data": {
      "text/html": [
       " View run at <a href='https://wandb.ai/peng_sun/llm-2023-SGD-hyperparameter/runs/468ygyr8' target=\"_blank\">https://wandb.ai/peng_sun/llm-2023-SGD-hyperparameter/runs/468ygyr8</a>"
      ],
      "text/plain": [
       "<IPython.core.display.HTML object>"
      ]
     },
     "metadata": {},
     "output_type": "display_data"
    },
    {
     "data": {
      "text/html": [
       "Waiting for W&B process to finish... <strong style=\"color:green\">(success).</strong>"
      ],
      "text/plain": [
       "<IPython.core.display.HTML object>"
      ]
     },
     "metadata": {},
     "output_type": "display_data"
    },
    {
     "data": {
      "text/html": [
       "<style>\n",
       "    table.wandb td:nth-child(1) { padding: 0 10px; text-align: left ; width: auto;} td:nth-child(2) {text-align: left ; width: 100%}\n",
       "    .wandb-row { display: flex; flex-direction: row; flex-wrap: wrap; justify-content: flex-start; width: 100% }\n",
       "    .wandb-col { display: flex; flex-direction: column; flex-basis: 100%; flex: 1; padding: 10px; }\n",
       "    </style>\n",
       "<div class=\"wandb-row\"><div class=\"wandb-col\"><h3>Run history:</h3><br/><table class=\"wandb\"><tr><td>validatoin_auc</td><td>███▁█</td></tr></table><br/></div><div class=\"wandb-col\"><h3>Run summary:</h3><br/><table class=\"wandb\"><tr><td>validatoin_auc</td><td>0.99351</td></tr></table><br/></div></div>"
      ],
      "text/plain": [
       "<IPython.core.display.HTML object>"
      ]
     },
     "metadata": {},
     "output_type": "display_data"
    },
    {
     "data": {
      "text/html": [
       " View run <strong style=\"color:#cdcd00\">dark-sweep-101</strong> at: <a href='https://wandb.ai/peng_sun/llm-2023-SGD-hyperparameter/runs/468ygyr8' target=\"_blank\">https://wandb.ai/peng_sun/llm-2023-SGD-hyperparameter/runs/468ygyr8</a><br/>Synced 5 W&B file(s), 0 media file(s), 0 artifact file(s) and 0 other file(s)"
      ],
      "text/plain": [
       "<IPython.core.display.HTML object>"
      ]
     },
     "metadata": {},
     "output_type": "display_data"
    },
    {
     "data": {
      "text/html": [
       "Find logs at: <code>./wandb/run-20240104_205226-468ygyr8/logs</code>"
      ],
      "text/plain": [
       "<IPython.core.display.HTML object>"
      ]
     },
     "metadata": {},
     "output_type": "display_data"
    },
    {
     "name": "stderr",
     "output_type": "stream",
     "text": [
      "\u001b[34m\u001b[1mwandb\u001b[0m: Sweep Agent: Waiting for job.\n",
      "\u001b[34m\u001b[1mwandb\u001b[0m: Job received.\n",
      "\u001b[34m\u001b[1mwandb\u001b[0m: Agent Starting Run: 5lwposc1 with config:\n",
      "\u001b[34m\u001b[1mwandb\u001b[0m: \talpha: 0.00017464291560398513\n",
      "\u001b[34m\u001b[1mwandb\u001b[0m: \teta0: 0.012015751968314016\n",
      "\u001b[34m\u001b[1mwandb\u001b[0m: \tloss: modified_huber\n",
      "\u001b[34m\u001b[1mwandb\u001b[0m: \tmax_iter: 8660\n",
      "Failed to detect the name of this notebook, you can set it manually with the WANDB_NOTEBOOK_NAME environment variable to enable code saving.\n"
     ]
    },
    {
     "data": {
      "text/html": [
       "wandb version 0.16.1 is available!  To upgrade, please run:\n",
       " $ pip install wandb --upgrade"
      ],
      "text/plain": [
       "<IPython.core.display.HTML object>"
      ]
     },
     "metadata": {},
     "output_type": "display_data"
    },
    {
     "data": {
      "text/html": [
       "Tracking run with wandb version 0.15.11"
      ],
      "text/plain": [
       "<IPython.core.display.HTML object>"
      ]
     },
     "metadata": {},
     "output_type": "display_data"
    },
    {
     "data": {
      "text/html": [
       "Run data is saved locally in <code>/home/peng_sun2/workspace/llm-2023/wandb/run-20240104_205258-5lwposc1</code>"
      ],
      "text/plain": [
       "<IPython.core.display.HTML object>"
      ]
     },
     "metadata": {},
     "output_type": "display_data"
    },
    {
     "data": {
      "text/html": [
       "Syncing run <strong><a href='https://wandb.ai/peng_sun/llm-2023-SGD-hyperparameter/runs/5lwposc1' target=\"_blank\">lucky-sweep-102</a></strong> to <a href='https://wandb.ai/peng_sun/llm-2023-SGD-hyperparameter' target=\"_blank\">Weights & Biases</a> (<a href='https://wandb.me/run' target=\"_blank\">docs</a>)<br/>Sweep page: <a href='https://wandb.ai/peng_sun/llm-2023-SGD-hyperparameter/sweeps/wyi8yb2f' target=\"_blank\">https://wandb.ai/peng_sun/llm-2023-SGD-hyperparameter/sweeps/wyi8yb2f</a>"
      ],
      "text/plain": [
       "<IPython.core.display.HTML object>"
      ]
     },
     "metadata": {},
     "output_type": "display_data"
    },
    {
     "data": {
      "text/html": [
       " View project at <a href='https://wandb.ai/peng_sun/llm-2023-SGD-hyperparameter' target=\"_blank\">https://wandb.ai/peng_sun/llm-2023-SGD-hyperparameter</a>"
      ],
      "text/plain": [
       "<IPython.core.display.HTML object>"
      ]
     },
     "metadata": {},
     "output_type": "display_data"
    },
    {
     "data": {
      "text/html": [
       " View sweep at <a href='https://wandb.ai/peng_sun/llm-2023-SGD-hyperparameter/sweeps/wyi8yb2f' target=\"_blank\">https://wandb.ai/peng_sun/llm-2023-SGD-hyperparameter/sweeps/wyi8yb2f</a>"
      ],
      "text/plain": [
       "<IPython.core.display.HTML object>"
      ]
     },
     "metadata": {},
     "output_type": "display_data"
    },
    {
     "data": {
      "text/html": [
       " View run at <a href='https://wandb.ai/peng_sun/llm-2023-SGD-hyperparameter/runs/5lwposc1' target=\"_blank\">https://wandb.ai/peng_sun/llm-2023-SGD-hyperparameter/runs/5lwposc1</a>"
      ],
      "text/plain": [
       "<IPython.core.display.HTML object>"
      ]
     },
     "metadata": {},
     "output_type": "display_data"
    },
    {
     "data": {
      "text/html": [
       "Waiting for W&B process to finish... <strong style=\"color:green\">(success).</strong>"
      ],
      "text/plain": [
       "<IPython.core.display.HTML object>"
      ]
     },
     "metadata": {},
     "output_type": "display_data"
    },
    {
     "data": {
      "text/html": [
       "<style>\n",
       "    table.wandb td:nth-child(1) { padding: 0 10px; text-align: left ; width: auto;} td:nth-child(2) {text-align: left ; width: 100%}\n",
       "    .wandb-row { display: flex; flex-direction: row; flex-wrap: wrap; justify-content: flex-start; width: 100% }\n",
       "    .wandb-col { display: flex; flex-direction: column; flex-basis: 100%; flex: 1; padding: 10px; }\n",
       "    </style>\n",
       "<div class=\"wandb-row\"><div class=\"wandb-col\"><h3>Run history:</h3><br/><table class=\"wandb\"><tr><td>validatoin_auc</td><td>███▁█</td></tr></table><br/></div><div class=\"wandb-col\"><h3>Run summary:</h3><br/><table class=\"wandb\"><tr><td>validatoin_auc</td><td>0.99363</td></tr></table><br/></div></div>"
      ],
      "text/plain": [
       "<IPython.core.display.HTML object>"
      ]
     },
     "metadata": {},
     "output_type": "display_data"
    },
    {
     "data": {
      "text/html": [
       " View run <strong style=\"color:#cdcd00\">lucky-sweep-102</strong> at: <a href='https://wandb.ai/peng_sun/llm-2023-SGD-hyperparameter/runs/5lwposc1' target=\"_blank\">https://wandb.ai/peng_sun/llm-2023-SGD-hyperparameter/runs/5lwposc1</a><br/>Synced 5 W&B file(s), 0 media file(s), 0 artifact file(s) and 0 other file(s)"
      ],
      "text/plain": [
       "<IPython.core.display.HTML object>"
      ]
     },
     "metadata": {},
     "output_type": "display_data"
    },
    {
     "data": {
      "text/html": [
       "Find logs at: <code>./wandb/run-20240104_205258-5lwposc1/logs</code>"
      ],
      "text/plain": [
       "<IPython.core.display.HTML object>"
      ]
     },
     "metadata": {},
     "output_type": "display_data"
    },
    {
     "name": "stderr",
     "output_type": "stream",
     "text": [
      "\u001b[34m\u001b[1mwandb\u001b[0m: Agent Starting Run: 4jovspcq with config:\n",
      "\u001b[34m\u001b[1mwandb\u001b[0m: \talpha: 0.00010973179995242673\n",
      "\u001b[34m\u001b[1mwandb\u001b[0m: \teta0: 0.06592726337593079\n",
      "\u001b[34m\u001b[1mwandb\u001b[0m: \tloss: modified_huber\n",
      "\u001b[34m\u001b[1mwandb\u001b[0m: \tmax_iter: 9944\n",
      "Failed to detect the name of this notebook, you can set it manually with the WANDB_NOTEBOOK_NAME environment variable to enable code saving.\n"
     ]
    },
    {
     "data": {
      "text/html": [
       "wandb version 0.16.1 is available!  To upgrade, please run:\n",
       " $ pip install wandb --upgrade"
      ],
      "text/plain": [
       "<IPython.core.display.HTML object>"
      ]
     },
     "metadata": {},
     "output_type": "display_data"
    },
    {
     "data": {
      "text/html": [
       "Tracking run with wandb version 0.15.11"
      ],
      "text/plain": [
       "<IPython.core.display.HTML object>"
      ]
     },
     "metadata": {},
     "output_type": "display_data"
    },
    {
     "data": {
      "text/html": [
       "Run data is saved locally in <code>/home/peng_sun2/workspace/llm-2023/wandb/run-20240104_205323-4jovspcq</code>"
      ],
      "text/plain": [
       "<IPython.core.display.HTML object>"
      ]
     },
     "metadata": {},
     "output_type": "display_data"
    },
    {
     "data": {
      "text/html": [
       "Syncing run <strong><a href='https://wandb.ai/peng_sun/llm-2023-SGD-hyperparameter/runs/4jovspcq' target=\"_blank\">frosty-sweep-103</a></strong> to <a href='https://wandb.ai/peng_sun/llm-2023-SGD-hyperparameter' target=\"_blank\">Weights & Biases</a> (<a href='https://wandb.me/run' target=\"_blank\">docs</a>)<br/>Sweep page: <a href='https://wandb.ai/peng_sun/llm-2023-SGD-hyperparameter/sweeps/wyi8yb2f' target=\"_blank\">https://wandb.ai/peng_sun/llm-2023-SGD-hyperparameter/sweeps/wyi8yb2f</a>"
      ],
      "text/plain": [
       "<IPython.core.display.HTML object>"
      ]
     },
     "metadata": {},
     "output_type": "display_data"
    },
    {
     "data": {
      "text/html": [
       " View project at <a href='https://wandb.ai/peng_sun/llm-2023-SGD-hyperparameter' target=\"_blank\">https://wandb.ai/peng_sun/llm-2023-SGD-hyperparameter</a>"
      ],
      "text/plain": [
       "<IPython.core.display.HTML object>"
      ]
     },
     "metadata": {},
     "output_type": "display_data"
    },
    {
     "data": {
      "text/html": [
       " View sweep at <a href='https://wandb.ai/peng_sun/llm-2023-SGD-hyperparameter/sweeps/wyi8yb2f' target=\"_blank\">https://wandb.ai/peng_sun/llm-2023-SGD-hyperparameter/sweeps/wyi8yb2f</a>"
      ],
      "text/plain": [
       "<IPython.core.display.HTML object>"
      ]
     },
     "metadata": {},
     "output_type": "display_data"
    },
    {
     "data": {
      "text/html": [
       " View run at <a href='https://wandb.ai/peng_sun/llm-2023-SGD-hyperparameter/runs/4jovspcq' target=\"_blank\">https://wandb.ai/peng_sun/llm-2023-SGD-hyperparameter/runs/4jovspcq</a>"
      ],
      "text/plain": [
       "<IPython.core.display.HTML object>"
      ]
     },
     "metadata": {},
     "output_type": "display_data"
    },
    {
     "data": {
      "text/html": [
       "Waiting for W&B process to finish... <strong style=\"color:green\">(success).</strong>"
      ],
      "text/plain": [
       "<IPython.core.display.HTML object>"
      ]
     },
     "metadata": {},
     "output_type": "display_data"
    },
    {
     "data": {
      "text/html": [
       "<style>\n",
       "    table.wandb td:nth-child(1) { padding: 0 10px; text-align: left ; width: auto;} td:nth-child(2) {text-align: left ; width: 100%}\n",
       "    .wandb-row { display: flex; flex-direction: row; flex-wrap: wrap; justify-content: flex-start; width: 100% }\n",
       "    .wandb-col { display: flex; flex-direction: column; flex-basis: 100%; flex: 1; padding: 10px; }\n",
       "    </style>\n",
       "<div class=\"wandb-row\"><div class=\"wandb-col\"><h3>Run history:</h3><br/><table class=\"wandb\"><tr><td>validatoin_auc</td><td>███▁█</td></tr></table><br/></div><div class=\"wandb-col\"><h3>Run summary:</h3><br/><table class=\"wandb\"><tr><td>validatoin_auc</td><td>0.99434</td></tr></table><br/></div></div>"
      ],
      "text/plain": [
       "<IPython.core.display.HTML object>"
      ]
     },
     "metadata": {},
     "output_type": "display_data"
    },
    {
     "data": {
      "text/html": [
       " View run <strong style=\"color:#cdcd00\">frosty-sweep-103</strong> at: <a href='https://wandb.ai/peng_sun/llm-2023-SGD-hyperparameter/runs/4jovspcq' target=\"_blank\">https://wandb.ai/peng_sun/llm-2023-SGD-hyperparameter/runs/4jovspcq</a><br/>Synced 5 W&B file(s), 0 media file(s), 0 artifact file(s) and 0 other file(s)"
      ],
      "text/plain": [
       "<IPython.core.display.HTML object>"
      ]
     },
     "metadata": {},
     "output_type": "display_data"
    },
    {
     "data": {
      "text/html": [
       "Find logs at: <code>./wandb/run-20240104_205323-4jovspcq/logs</code>"
      ],
      "text/plain": [
       "<IPython.core.display.HTML object>"
      ]
     },
     "metadata": {},
     "output_type": "display_data"
    },
    {
     "name": "stderr",
     "output_type": "stream",
     "text": [
      "\u001b[34m\u001b[1mwandb\u001b[0m: Sweep Agent: Waiting for job.\n",
      "\u001b[34m\u001b[1mwandb\u001b[0m: Job received.\n",
      "\u001b[34m\u001b[1mwandb\u001b[0m: Agent Starting Run: v1bnxex0 with config:\n",
      "\u001b[34m\u001b[1mwandb\u001b[0m: \talpha: 0.0001437134345255049\n",
      "\u001b[34m\u001b[1mwandb\u001b[0m: \teta0: 0.03931427126365854\n",
      "\u001b[34m\u001b[1mwandb\u001b[0m: \tloss: modified_huber\n",
      "\u001b[34m\u001b[1mwandb\u001b[0m: \tmax_iter: 8516\n",
      "Failed to detect the name of this notebook, you can set it manually with the WANDB_NOTEBOOK_NAME environment variable to enable code saving.\n"
     ]
    },
    {
     "data": {
      "text/html": [
       "wandb version 0.16.1 is available!  To upgrade, please run:\n",
       " $ pip install wandb --upgrade"
      ],
      "text/plain": [
       "<IPython.core.display.HTML object>"
      ]
     },
     "metadata": {},
     "output_type": "display_data"
    },
    {
     "data": {
      "text/html": [
       "Tracking run with wandb version 0.15.11"
      ],
      "text/plain": [
       "<IPython.core.display.HTML object>"
      ]
     },
     "metadata": {},
     "output_type": "display_data"
    },
    {
     "data": {
      "text/html": [
       "Run data is saved locally in <code>/home/peng_sun2/workspace/llm-2023/wandb/run-20240104_205354-v1bnxex0</code>"
      ],
      "text/plain": [
       "<IPython.core.display.HTML object>"
      ]
     },
     "metadata": {},
     "output_type": "display_data"
    },
    {
     "data": {
      "text/html": [
       "Syncing run <strong><a href='https://wandb.ai/peng_sun/llm-2023-SGD-hyperparameter/runs/v1bnxex0' target=\"_blank\">likely-sweep-104</a></strong> to <a href='https://wandb.ai/peng_sun/llm-2023-SGD-hyperparameter' target=\"_blank\">Weights & Biases</a> (<a href='https://wandb.me/run' target=\"_blank\">docs</a>)<br/>Sweep page: <a href='https://wandb.ai/peng_sun/llm-2023-SGD-hyperparameter/sweeps/wyi8yb2f' target=\"_blank\">https://wandb.ai/peng_sun/llm-2023-SGD-hyperparameter/sweeps/wyi8yb2f</a>"
      ],
      "text/plain": [
       "<IPython.core.display.HTML object>"
      ]
     },
     "metadata": {},
     "output_type": "display_data"
    },
    {
     "data": {
      "text/html": [
       " View project at <a href='https://wandb.ai/peng_sun/llm-2023-SGD-hyperparameter' target=\"_blank\">https://wandb.ai/peng_sun/llm-2023-SGD-hyperparameter</a>"
      ],
      "text/plain": [
       "<IPython.core.display.HTML object>"
      ]
     },
     "metadata": {},
     "output_type": "display_data"
    },
    {
     "data": {
      "text/html": [
       " View sweep at <a href='https://wandb.ai/peng_sun/llm-2023-SGD-hyperparameter/sweeps/wyi8yb2f' target=\"_blank\">https://wandb.ai/peng_sun/llm-2023-SGD-hyperparameter/sweeps/wyi8yb2f</a>"
      ],
      "text/plain": [
       "<IPython.core.display.HTML object>"
      ]
     },
     "metadata": {},
     "output_type": "display_data"
    },
    {
     "data": {
      "text/html": [
       " View run at <a href='https://wandb.ai/peng_sun/llm-2023-SGD-hyperparameter/runs/v1bnxex0' target=\"_blank\">https://wandb.ai/peng_sun/llm-2023-SGD-hyperparameter/runs/v1bnxex0</a>"
      ],
      "text/plain": [
       "<IPython.core.display.HTML object>"
      ]
     },
     "metadata": {},
     "output_type": "display_data"
    },
    {
     "data": {
      "text/html": [
       "Waiting for W&B process to finish... <strong style=\"color:green\">(success).</strong>"
      ],
      "text/plain": [
       "<IPython.core.display.HTML object>"
      ]
     },
     "metadata": {},
     "output_type": "display_data"
    },
    {
     "data": {
      "text/html": [
       "<style>\n",
       "    table.wandb td:nth-child(1) { padding: 0 10px; text-align: left ; width: auto;} td:nth-child(2) {text-align: left ; width: 100%}\n",
       "    .wandb-row { display: flex; flex-direction: row; flex-wrap: wrap; justify-content: flex-start; width: 100% }\n",
       "    .wandb-col { display: flex; flex-direction: column; flex-basis: 100%; flex: 1; padding: 10px; }\n",
       "    </style>\n",
       "<div class=\"wandb-row\"><div class=\"wandb-col\"><h3>Run history:</h3><br/><table class=\"wandb\"><tr><td>validatoin_auc</td><td>███▁█</td></tr></table><br/></div><div class=\"wandb-col\"><h3>Run summary:</h3><br/><table class=\"wandb\"><tr><td>validatoin_auc</td><td>0.99381</td></tr></table><br/></div></div>"
      ],
      "text/plain": [
       "<IPython.core.display.HTML object>"
      ]
     },
     "metadata": {},
     "output_type": "display_data"
    },
    {
     "data": {
      "text/html": [
       " View run <strong style=\"color:#cdcd00\">likely-sweep-104</strong> at: <a href='https://wandb.ai/peng_sun/llm-2023-SGD-hyperparameter/runs/v1bnxex0' target=\"_blank\">https://wandb.ai/peng_sun/llm-2023-SGD-hyperparameter/runs/v1bnxex0</a><br/>Synced 5 W&B file(s), 0 media file(s), 0 artifact file(s) and 0 other file(s)"
      ],
      "text/plain": [
       "<IPython.core.display.HTML object>"
      ]
     },
     "metadata": {},
     "output_type": "display_data"
    },
    {
     "data": {
      "text/html": [
       "Find logs at: <code>./wandb/run-20240104_205354-v1bnxex0/logs</code>"
      ],
      "text/plain": [
       "<IPython.core.display.HTML object>"
      ]
     },
     "metadata": {},
     "output_type": "display_data"
    },
    {
     "name": "stderr",
     "output_type": "stream",
     "text": [
      "\u001b[34m\u001b[1mwandb\u001b[0m: Sweep Agent: Waiting for job.\n",
      "\u001b[34m\u001b[1mwandb\u001b[0m: Job received.\n",
      "\u001b[34m\u001b[1mwandb\u001b[0m: Agent Starting Run: 8u815nyt with config:\n",
      "\u001b[34m\u001b[1mwandb\u001b[0m: \talpha: 0.00011699258924048562\n",
      "\u001b[34m\u001b[1mwandb\u001b[0m: \teta0: 0.09492032049101538\n",
      "\u001b[34m\u001b[1mwandb\u001b[0m: \tloss: modified_huber\n",
      "\u001b[34m\u001b[1mwandb\u001b[0m: \tmax_iter: 2033\n",
      "Failed to detect the name of this notebook, you can set it manually with the WANDB_NOTEBOOK_NAME environment variable to enable code saving.\n"
     ]
    },
    {
     "data": {
      "text/html": [
       "wandb version 0.16.1 is available!  To upgrade, please run:\n",
       " $ pip install wandb --upgrade"
      ],
      "text/plain": [
       "<IPython.core.display.HTML object>"
      ]
     },
     "metadata": {},
     "output_type": "display_data"
    },
    {
     "data": {
      "text/html": [
       "Tracking run with wandb version 0.15.11"
      ],
      "text/plain": [
       "<IPython.core.display.HTML object>"
      ]
     },
     "metadata": {},
     "output_type": "display_data"
    },
    {
     "data": {
      "text/html": [
       "Run data is saved locally in <code>/home/peng_sun2/workspace/llm-2023/wandb/run-20240104_205425-8u815nyt</code>"
      ],
      "text/plain": [
       "<IPython.core.display.HTML object>"
      ]
     },
     "metadata": {},
     "output_type": "display_data"
    },
    {
     "data": {
      "text/html": [
       "Syncing run <strong><a href='https://wandb.ai/peng_sun/llm-2023-SGD-hyperparameter/runs/8u815nyt' target=\"_blank\">laced-sweep-105</a></strong> to <a href='https://wandb.ai/peng_sun/llm-2023-SGD-hyperparameter' target=\"_blank\">Weights & Biases</a> (<a href='https://wandb.me/run' target=\"_blank\">docs</a>)<br/>Sweep page: <a href='https://wandb.ai/peng_sun/llm-2023-SGD-hyperparameter/sweeps/wyi8yb2f' target=\"_blank\">https://wandb.ai/peng_sun/llm-2023-SGD-hyperparameter/sweeps/wyi8yb2f</a>"
      ],
      "text/plain": [
       "<IPython.core.display.HTML object>"
      ]
     },
     "metadata": {},
     "output_type": "display_data"
    },
    {
     "data": {
      "text/html": [
       " View project at <a href='https://wandb.ai/peng_sun/llm-2023-SGD-hyperparameter' target=\"_blank\">https://wandb.ai/peng_sun/llm-2023-SGD-hyperparameter</a>"
      ],
      "text/plain": [
       "<IPython.core.display.HTML object>"
      ]
     },
     "metadata": {},
     "output_type": "display_data"
    },
    {
     "data": {
      "text/html": [
       " View sweep at <a href='https://wandb.ai/peng_sun/llm-2023-SGD-hyperparameter/sweeps/wyi8yb2f' target=\"_blank\">https://wandb.ai/peng_sun/llm-2023-SGD-hyperparameter/sweeps/wyi8yb2f</a>"
      ],
      "text/plain": [
       "<IPython.core.display.HTML object>"
      ]
     },
     "metadata": {},
     "output_type": "display_data"
    },
    {
     "data": {
      "text/html": [
       " View run at <a href='https://wandb.ai/peng_sun/llm-2023-SGD-hyperparameter/runs/8u815nyt' target=\"_blank\">https://wandb.ai/peng_sun/llm-2023-SGD-hyperparameter/runs/8u815nyt</a>"
      ],
      "text/plain": [
       "<IPython.core.display.HTML object>"
      ]
     },
     "metadata": {},
     "output_type": "display_data"
    },
    {
     "data": {
      "text/html": [
       "Waiting for W&B process to finish... <strong style=\"color:green\">(success).</strong>"
      ],
      "text/plain": [
       "<IPython.core.display.HTML object>"
      ]
     },
     "metadata": {},
     "output_type": "display_data"
    },
    {
     "data": {
      "text/html": [
       "<style>\n",
       "    table.wandb td:nth-child(1) { padding: 0 10px; text-align: left ; width: auto;} td:nth-child(2) {text-align: left ; width: 100%}\n",
       "    .wandb-row { display: flex; flex-direction: row; flex-wrap: wrap; justify-content: flex-start; width: 100% }\n",
       "    .wandb-col { display: flex; flex-direction: column; flex-basis: 100%; flex: 1; padding: 10px; }\n",
       "    </style>\n",
       "<div class=\"wandb-row\"><div class=\"wandb-col\"><h3>Run history:</h3><br/><table class=\"wandb\"><tr><td>validatoin_auc</td><td>███▁█</td></tr></table><br/></div><div class=\"wandb-col\"><h3>Run summary:</h3><br/><table class=\"wandb\"><tr><td>validatoin_auc</td><td>0.99421</td></tr></table><br/></div></div>"
      ],
      "text/plain": [
       "<IPython.core.display.HTML object>"
      ]
     },
     "metadata": {},
     "output_type": "display_data"
    },
    {
     "data": {
      "text/html": [
       " View run <strong style=\"color:#cdcd00\">laced-sweep-105</strong> at: <a href='https://wandb.ai/peng_sun/llm-2023-SGD-hyperparameter/runs/8u815nyt' target=\"_blank\">https://wandb.ai/peng_sun/llm-2023-SGD-hyperparameter/runs/8u815nyt</a><br/>Synced 5 W&B file(s), 0 media file(s), 0 artifact file(s) and 0 other file(s)"
      ],
      "text/plain": [
       "<IPython.core.display.HTML object>"
      ]
     },
     "metadata": {},
     "output_type": "display_data"
    },
    {
     "data": {
      "text/html": [
       "Find logs at: <code>./wandb/run-20240104_205425-8u815nyt/logs</code>"
      ],
      "text/plain": [
       "<IPython.core.display.HTML object>"
      ]
     },
     "metadata": {},
     "output_type": "display_data"
    },
    {
     "name": "stderr",
     "output_type": "stream",
     "text": [
      "\u001b[34m\u001b[1mwandb\u001b[0m: Agent Starting Run: vll6a6ul with config:\n",
      "\u001b[34m\u001b[1mwandb\u001b[0m: \talpha: 0.00021546028718526607\n",
      "\u001b[34m\u001b[1mwandb\u001b[0m: \teta0: 0.030681464613144582\n",
      "\u001b[34m\u001b[1mwandb\u001b[0m: \tloss: modified_huber\n",
      "\u001b[34m\u001b[1mwandb\u001b[0m: \tmax_iter: 6653\n",
      "Failed to detect the name of this notebook, you can set it manually with the WANDB_NOTEBOOK_NAME environment variable to enable code saving.\n"
     ]
    },
    {
     "data": {
      "text/html": [
       "wandb version 0.16.1 is available!  To upgrade, please run:\n",
       " $ pip install wandb --upgrade"
      ],
      "text/plain": [
       "<IPython.core.display.HTML object>"
      ]
     },
     "metadata": {},
     "output_type": "display_data"
    },
    {
     "data": {
      "text/html": [
       "Tracking run with wandb version 0.15.11"
      ],
      "text/plain": [
       "<IPython.core.display.HTML object>"
      ]
     },
     "metadata": {},
     "output_type": "display_data"
    },
    {
     "data": {
      "text/html": [
       "Run data is saved locally in <code>/home/peng_sun2/workspace/llm-2023/wandb/run-20240104_205451-vll6a6ul</code>"
      ],
      "text/plain": [
       "<IPython.core.display.HTML object>"
      ]
     },
     "metadata": {},
     "output_type": "display_data"
    },
    {
     "data": {
      "text/html": [
       "Syncing run <strong><a href='https://wandb.ai/peng_sun/llm-2023-SGD-hyperparameter/runs/vll6a6ul' target=\"_blank\">rich-sweep-106</a></strong> to <a href='https://wandb.ai/peng_sun/llm-2023-SGD-hyperparameter' target=\"_blank\">Weights & Biases</a> (<a href='https://wandb.me/run' target=\"_blank\">docs</a>)<br/>Sweep page: <a href='https://wandb.ai/peng_sun/llm-2023-SGD-hyperparameter/sweeps/wyi8yb2f' target=\"_blank\">https://wandb.ai/peng_sun/llm-2023-SGD-hyperparameter/sweeps/wyi8yb2f</a>"
      ],
      "text/plain": [
       "<IPython.core.display.HTML object>"
      ]
     },
     "metadata": {},
     "output_type": "display_data"
    },
    {
     "data": {
      "text/html": [
       " View project at <a href='https://wandb.ai/peng_sun/llm-2023-SGD-hyperparameter' target=\"_blank\">https://wandb.ai/peng_sun/llm-2023-SGD-hyperparameter</a>"
      ],
      "text/plain": [
       "<IPython.core.display.HTML object>"
      ]
     },
     "metadata": {},
     "output_type": "display_data"
    },
    {
     "data": {
      "text/html": [
       " View sweep at <a href='https://wandb.ai/peng_sun/llm-2023-SGD-hyperparameter/sweeps/wyi8yb2f' target=\"_blank\">https://wandb.ai/peng_sun/llm-2023-SGD-hyperparameter/sweeps/wyi8yb2f</a>"
      ],
      "text/plain": [
       "<IPython.core.display.HTML object>"
      ]
     },
     "metadata": {},
     "output_type": "display_data"
    },
    {
     "data": {
      "text/html": [
       " View run at <a href='https://wandb.ai/peng_sun/llm-2023-SGD-hyperparameter/runs/vll6a6ul' target=\"_blank\">https://wandb.ai/peng_sun/llm-2023-SGD-hyperparameter/runs/vll6a6ul</a>"
      ],
      "text/plain": [
       "<IPython.core.display.HTML object>"
      ]
     },
     "metadata": {},
     "output_type": "display_data"
    },
    {
     "data": {
      "text/html": [
       "Waiting for W&B process to finish... <strong style=\"color:green\">(success).</strong>"
      ],
      "text/plain": [
       "<IPython.core.display.HTML object>"
      ]
     },
     "metadata": {},
     "output_type": "display_data"
    },
    {
     "data": {
      "text/html": [
       "<style>\n",
       "    table.wandb td:nth-child(1) { padding: 0 10px; text-align: left ; width: auto;} td:nth-child(2) {text-align: left ; width: 100%}\n",
       "    .wandb-row { display: flex; flex-direction: row; flex-wrap: wrap; justify-content: flex-start; width: 100% }\n",
       "    .wandb-col { display: flex; flex-direction: column; flex-basis: 100%; flex: 1; padding: 10px; }\n",
       "    </style>\n",
       "<div class=\"wandb-row\"><div class=\"wandb-col\"><h3>Run history:</h3><br/><table class=\"wandb\"><tr><td>validatoin_auc</td><td>███▁█</td></tr></table><br/></div><div class=\"wandb-col\"><h3>Run summary:</h3><br/><table class=\"wandb\"><tr><td>validatoin_auc</td><td>0.99327</td></tr></table><br/></div></div>"
      ],
      "text/plain": [
       "<IPython.core.display.HTML object>"
      ]
     },
     "metadata": {},
     "output_type": "display_data"
    },
    {
     "data": {
      "text/html": [
       " View run <strong style=\"color:#cdcd00\">rich-sweep-106</strong> at: <a href='https://wandb.ai/peng_sun/llm-2023-SGD-hyperparameter/runs/vll6a6ul' target=\"_blank\">https://wandb.ai/peng_sun/llm-2023-SGD-hyperparameter/runs/vll6a6ul</a><br/>Synced 5 W&B file(s), 0 media file(s), 0 artifact file(s) and 0 other file(s)"
      ],
      "text/plain": [
       "<IPython.core.display.HTML object>"
      ]
     },
     "metadata": {},
     "output_type": "display_data"
    },
    {
     "data": {
      "text/html": [
       "Find logs at: <code>./wandb/run-20240104_205451-vll6a6ul/logs</code>"
      ],
      "text/plain": [
       "<IPython.core.display.HTML object>"
      ]
     },
     "metadata": {},
     "output_type": "display_data"
    },
    {
     "name": "stderr",
     "output_type": "stream",
     "text": [
      "\u001b[34m\u001b[1mwandb\u001b[0m: Sweep Agent: Waiting for job.\n",
      "\u001b[34m\u001b[1mwandb\u001b[0m: Job received.\n",
      "\u001b[34m\u001b[1mwandb\u001b[0m: Agent Starting Run: kr99x89i with config:\n",
      "\u001b[34m\u001b[1mwandb\u001b[0m: \talpha: 0.0001538457261541798\n",
      "\u001b[34m\u001b[1mwandb\u001b[0m: \teta0: 0.053308222494452634\n",
      "\u001b[34m\u001b[1mwandb\u001b[0m: \tloss: modified_huber\n",
      "\u001b[34m\u001b[1mwandb\u001b[0m: \tmax_iter: 2004\n",
      "Failed to detect the name of this notebook, you can set it manually with the WANDB_NOTEBOOK_NAME environment variable to enable code saving.\n"
     ]
    },
    {
     "data": {
      "text/html": [
       "wandb version 0.16.1 is available!  To upgrade, please run:\n",
       " $ pip install wandb --upgrade"
      ],
      "text/plain": [
       "<IPython.core.display.HTML object>"
      ]
     },
     "metadata": {},
     "output_type": "display_data"
    },
    {
     "data": {
      "text/html": [
       "Tracking run with wandb version 0.15.11"
      ],
      "text/plain": [
       "<IPython.core.display.HTML object>"
      ]
     },
     "metadata": {},
     "output_type": "display_data"
    },
    {
     "data": {
      "text/html": [
       "Run data is saved locally in <code>/home/peng_sun2/workspace/llm-2023/wandb/run-20240104_205522-kr99x89i</code>"
      ],
      "text/plain": [
       "<IPython.core.display.HTML object>"
      ]
     },
     "metadata": {},
     "output_type": "display_data"
    },
    {
     "data": {
      "text/html": [
       "Syncing run <strong><a href='https://wandb.ai/peng_sun/llm-2023-SGD-hyperparameter/runs/kr99x89i' target=\"_blank\">atomic-sweep-107</a></strong> to <a href='https://wandb.ai/peng_sun/llm-2023-SGD-hyperparameter' target=\"_blank\">Weights & Biases</a> (<a href='https://wandb.me/run' target=\"_blank\">docs</a>)<br/>Sweep page: <a href='https://wandb.ai/peng_sun/llm-2023-SGD-hyperparameter/sweeps/wyi8yb2f' target=\"_blank\">https://wandb.ai/peng_sun/llm-2023-SGD-hyperparameter/sweeps/wyi8yb2f</a>"
      ],
      "text/plain": [
       "<IPython.core.display.HTML object>"
      ]
     },
     "metadata": {},
     "output_type": "display_data"
    },
    {
     "data": {
      "text/html": [
       " View project at <a href='https://wandb.ai/peng_sun/llm-2023-SGD-hyperparameter' target=\"_blank\">https://wandb.ai/peng_sun/llm-2023-SGD-hyperparameter</a>"
      ],
      "text/plain": [
       "<IPython.core.display.HTML object>"
      ]
     },
     "metadata": {},
     "output_type": "display_data"
    },
    {
     "data": {
      "text/html": [
       " View sweep at <a href='https://wandb.ai/peng_sun/llm-2023-SGD-hyperparameter/sweeps/wyi8yb2f' target=\"_blank\">https://wandb.ai/peng_sun/llm-2023-SGD-hyperparameter/sweeps/wyi8yb2f</a>"
      ],
      "text/plain": [
       "<IPython.core.display.HTML object>"
      ]
     },
     "metadata": {},
     "output_type": "display_data"
    },
    {
     "data": {
      "text/html": [
       " View run at <a href='https://wandb.ai/peng_sun/llm-2023-SGD-hyperparameter/runs/kr99x89i' target=\"_blank\">https://wandb.ai/peng_sun/llm-2023-SGD-hyperparameter/runs/kr99x89i</a>"
      ],
      "text/plain": [
       "<IPython.core.display.HTML object>"
      ]
     },
     "metadata": {},
     "output_type": "display_data"
    },
    {
     "data": {
      "text/html": [
       "Waiting for W&B process to finish... <strong style=\"color:green\">(success).</strong>"
      ],
      "text/plain": [
       "<IPython.core.display.HTML object>"
      ]
     },
     "metadata": {},
     "output_type": "display_data"
    },
    {
     "data": {
      "text/html": [
       "<style>\n",
       "    table.wandb td:nth-child(1) { padding: 0 10px; text-align: left ; width: auto;} td:nth-child(2) {text-align: left ; width: 100%}\n",
       "    .wandb-row { display: flex; flex-direction: row; flex-wrap: wrap; justify-content: flex-start; width: 100% }\n",
       "    .wandb-col { display: flex; flex-direction: column; flex-basis: 100%; flex: 1; padding: 10px; }\n",
       "    </style>\n",
       "<div class=\"wandb-row\"><div class=\"wandb-col\"><h3>Run history:</h3><br/><table class=\"wandb\"><tr><td>validatoin_auc</td><td>███▁█</td></tr></table><br/></div><div class=\"wandb-col\"><h3>Run summary:</h3><br/><table class=\"wandb\"><tr><td>validatoin_auc</td><td>0.99387</td></tr></table><br/></div></div>"
      ],
      "text/plain": [
       "<IPython.core.display.HTML object>"
      ]
     },
     "metadata": {},
     "output_type": "display_data"
    },
    {
     "data": {
      "text/html": [
       " View run <strong style=\"color:#cdcd00\">atomic-sweep-107</strong> at: <a href='https://wandb.ai/peng_sun/llm-2023-SGD-hyperparameter/runs/kr99x89i' target=\"_blank\">https://wandb.ai/peng_sun/llm-2023-SGD-hyperparameter/runs/kr99x89i</a><br/>Synced 5 W&B file(s), 0 media file(s), 0 artifact file(s) and 0 other file(s)"
      ],
      "text/plain": [
       "<IPython.core.display.HTML object>"
      ]
     },
     "metadata": {},
     "output_type": "display_data"
    },
    {
     "data": {
      "text/html": [
       "Find logs at: <code>./wandb/run-20240104_205522-kr99x89i/logs</code>"
      ],
      "text/plain": [
       "<IPython.core.display.HTML object>"
      ]
     },
     "metadata": {},
     "output_type": "display_data"
    },
    {
     "name": "stderr",
     "output_type": "stream",
     "text": [
      "\u001b[34m\u001b[1mwandb\u001b[0m: Agent Starting Run: or0wwht6 with config:\n",
      "\u001b[34m\u001b[1mwandb\u001b[0m: \talpha: 0.0092191640248746\n",
      "\u001b[34m\u001b[1mwandb\u001b[0m: \teta0: 0.02308763949169485\n",
      "\u001b[34m\u001b[1mwandb\u001b[0m: \tloss: hinge\n",
      "\u001b[34m\u001b[1mwandb\u001b[0m: \tmax_iter: 8881\n",
      "Failed to detect the name of this notebook, you can set it manually with the WANDB_NOTEBOOK_NAME environment variable to enable code saving.\n"
     ]
    },
    {
     "data": {
      "text/html": [
       "wandb version 0.16.1 is available!  To upgrade, please run:\n",
       " $ pip install wandb --upgrade"
      ],
      "text/plain": [
       "<IPython.core.display.HTML object>"
      ]
     },
     "metadata": {},
     "output_type": "display_data"
    },
    {
     "data": {
      "text/html": [
       "Tracking run with wandb version 0.15.11"
      ],
      "text/plain": [
       "<IPython.core.display.HTML object>"
      ]
     },
     "metadata": {},
     "output_type": "display_data"
    },
    {
     "data": {
      "text/html": [
       "Run data is saved locally in <code>/home/peng_sun2/workspace/llm-2023/wandb/run-20240104_205547-or0wwht6</code>"
      ],
      "text/plain": [
       "<IPython.core.display.HTML object>"
      ]
     },
     "metadata": {},
     "output_type": "display_data"
    },
    {
     "data": {
      "text/html": [
       "Syncing run <strong><a href='https://wandb.ai/peng_sun/llm-2023-SGD-hyperparameter/runs/or0wwht6' target=\"_blank\">confused-sweep-108</a></strong> to <a href='https://wandb.ai/peng_sun/llm-2023-SGD-hyperparameter' target=\"_blank\">Weights & Biases</a> (<a href='https://wandb.me/run' target=\"_blank\">docs</a>)<br/>Sweep page: <a href='https://wandb.ai/peng_sun/llm-2023-SGD-hyperparameter/sweeps/wyi8yb2f' target=\"_blank\">https://wandb.ai/peng_sun/llm-2023-SGD-hyperparameter/sweeps/wyi8yb2f</a>"
      ],
      "text/plain": [
       "<IPython.core.display.HTML object>"
      ]
     },
     "metadata": {},
     "output_type": "display_data"
    },
    {
     "data": {
      "text/html": [
       " View project at <a href='https://wandb.ai/peng_sun/llm-2023-SGD-hyperparameter' target=\"_blank\">https://wandb.ai/peng_sun/llm-2023-SGD-hyperparameter</a>"
      ],
      "text/plain": [
       "<IPython.core.display.HTML object>"
      ]
     },
     "metadata": {},
     "output_type": "display_data"
    },
    {
     "data": {
      "text/html": [
       " View sweep at <a href='https://wandb.ai/peng_sun/llm-2023-SGD-hyperparameter/sweeps/wyi8yb2f' target=\"_blank\">https://wandb.ai/peng_sun/llm-2023-SGD-hyperparameter/sweeps/wyi8yb2f</a>"
      ],
      "text/plain": [
       "<IPython.core.display.HTML object>"
      ]
     },
     "metadata": {},
     "output_type": "display_data"
    },
    {
     "data": {
      "text/html": [
       " View run at <a href='https://wandb.ai/peng_sun/llm-2023-SGD-hyperparameter/runs/or0wwht6' target=\"_blank\">https://wandb.ai/peng_sun/llm-2023-SGD-hyperparameter/runs/or0wwht6</a>"
      ],
      "text/plain": [
       "<IPython.core.display.HTML object>"
      ]
     },
     "metadata": {},
     "output_type": "display_data"
    },
    {
     "name": "stderr",
     "output_type": "stream",
     "text": [
      "Traceback (most recent call last):\n",
      "  File \"/tmp/ipykernel_17738/3206656641.py\", line 24, in train_sweep\n",
      "    eval_preds = model.predict_proba(eval_X)[:, 1]\n",
      "  File \"/home/peng_sun2/.local/lib/python3.9/site-packages/sklearn/utils/_available_if.py\", line 32, in __get__\n",
      "    if not self.check(obj):\n",
      "  File \"/home/peng_sun2/.local/lib/python3.9/site-packages/sklearn/linear_model/_stochastic_gradient.py\", line 1235, in _check_proba\n",
      "    raise AttributeError(\n",
      "AttributeError: probability estimates are not available for loss='hinge'\n"
     ]
    },
    {
     "data": {
      "text/html": [
       "Waiting for W&B process to finish... <strong style=\"color:red\">(failed 1).</strong> Press Control-C to abort syncing."
      ],
      "text/plain": [
       "<IPython.core.display.HTML object>"
      ]
     },
     "metadata": {},
     "output_type": "display_data"
    },
    {
     "data": {
      "text/html": [
       " View run <strong style=\"color:#cdcd00\">confused-sweep-108</strong> at: <a href='https://wandb.ai/peng_sun/llm-2023-SGD-hyperparameter/runs/or0wwht6' target=\"_blank\">https://wandb.ai/peng_sun/llm-2023-SGD-hyperparameter/runs/or0wwht6</a><br/>Synced 6 W&B file(s), 0 media file(s), 0 artifact file(s) and 0 other file(s)"
      ],
      "text/plain": [
       "<IPython.core.display.HTML object>"
      ]
     },
     "metadata": {},
     "output_type": "display_data"
    },
    {
     "data": {
      "text/html": [
       "Find logs at: <code>./wandb/run-20240104_205547-or0wwht6/logs</code>"
      ],
      "text/plain": [
       "<IPython.core.display.HTML object>"
      ]
     },
     "metadata": {},
     "output_type": "display_data"
    },
    {
     "name": "stderr",
     "output_type": "stream",
     "text": [
      "Run or0wwht6 errored: AttributeError(\"probability estimates are not available for loss='hinge'\")\n",
      "\u001b[34m\u001b[1mwandb\u001b[0m: \u001b[32m\u001b[41mERROR\u001b[0m Run or0wwht6 errored: AttributeError(\"probability estimates are not available for loss='hinge'\")\n",
      "\u001b[34m\u001b[1mwandb\u001b[0m: Agent Starting Run: lbq3taua with config:\n",
      "\u001b[34m\u001b[1mwandb\u001b[0m: \talpha: 0.0005128723787086194\n",
      "\u001b[34m\u001b[1mwandb\u001b[0m: \teta0: 0.03323413409007707\n",
      "\u001b[34m\u001b[1mwandb\u001b[0m: \tloss: modified_huber\n",
      "\u001b[34m\u001b[1mwandb\u001b[0m: \tmax_iter: 6745\n",
      "Failed to detect the name of this notebook, you can set it manually with the WANDB_NOTEBOOK_NAME environment variable to enable code saving.\n"
     ]
    },
    {
     "data": {
      "text/html": [
       "wandb version 0.16.1 is available!  To upgrade, please run:\n",
       " $ pip install wandb --upgrade"
      ],
      "text/plain": [
       "<IPython.core.display.HTML object>"
      ]
     },
     "metadata": {},
     "output_type": "display_data"
    },
    {
     "data": {
      "text/html": [
       "Tracking run with wandb version 0.15.11"
      ],
      "text/plain": [
       "<IPython.core.display.HTML object>"
      ]
     },
     "metadata": {},
     "output_type": "display_data"
    },
    {
     "data": {
      "text/html": [
       "Run data is saved locally in <code>/home/peng_sun2/workspace/llm-2023/wandb/run-20240104_205603-lbq3taua</code>"
      ],
      "text/plain": [
       "<IPython.core.display.HTML object>"
      ]
     },
     "metadata": {},
     "output_type": "display_data"
    },
    {
     "data": {
      "text/html": [
       "Syncing run <strong><a href='https://wandb.ai/peng_sun/llm-2023-SGD-hyperparameter/runs/lbq3taua' target=\"_blank\">upbeat-sweep-109</a></strong> to <a href='https://wandb.ai/peng_sun/llm-2023-SGD-hyperparameter' target=\"_blank\">Weights & Biases</a> (<a href='https://wandb.me/run' target=\"_blank\">docs</a>)<br/>Sweep page: <a href='https://wandb.ai/peng_sun/llm-2023-SGD-hyperparameter/sweeps/wyi8yb2f' target=\"_blank\">https://wandb.ai/peng_sun/llm-2023-SGD-hyperparameter/sweeps/wyi8yb2f</a>"
      ],
      "text/plain": [
       "<IPython.core.display.HTML object>"
      ]
     },
     "metadata": {},
     "output_type": "display_data"
    },
    {
     "data": {
      "text/html": [
       " View project at <a href='https://wandb.ai/peng_sun/llm-2023-SGD-hyperparameter' target=\"_blank\">https://wandb.ai/peng_sun/llm-2023-SGD-hyperparameter</a>"
      ],
      "text/plain": [
       "<IPython.core.display.HTML object>"
      ]
     },
     "metadata": {},
     "output_type": "display_data"
    },
    {
     "data": {
      "text/html": [
       " View sweep at <a href='https://wandb.ai/peng_sun/llm-2023-SGD-hyperparameter/sweeps/wyi8yb2f' target=\"_blank\">https://wandb.ai/peng_sun/llm-2023-SGD-hyperparameter/sweeps/wyi8yb2f</a>"
      ],
      "text/plain": [
       "<IPython.core.display.HTML object>"
      ]
     },
     "metadata": {},
     "output_type": "display_data"
    },
    {
     "data": {
      "text/html": [
       " View run at <a href='https://wandb.ai/peng_sun/llm-2023-SGD-hyperparameter/runs/lbq3taua' target=\"_blank\">https://wandb.ai/peng_sun/llm-2023-SGD-hyperparameter/runs/lbq3taua</a>"
      ],
      "text/plain": [
       "<IPython.core.display.HTML object>"
      ]
     },
     "metadata": {},
     "output_type": "display_data"
    },
    {
     "data": {
      "text/html": [
       "Waiting for W&B process to finish... <strong style=\"color:green\">(success).</strong>"
      ],
      "text/plain": [
       "<IPython.core.display.HTML object>"
      ]
     },
     "metadata": {},
     "output_type": "display_data"
    },
    {
     "data": {
      "text/html": [
       "<style>\n",
       "    table.wandb td:nth-child(1) { padding: 0 10px; text-align: left ; width: auto;} td:nth-child(2) {text-align: left ; width: 100%}\n",
       "    .wandb-row { display: flex; flex-direction: row; flex-wrap: wrap; justify-content: flex-start; width: 100% }\n",
       "    .wandb-col { display: flex; flex-direction: column; flex-basis: 100%; flex: 1; padding: 10px; }\n",
       "    </style>\n",
       "<div class=\"wandb-row\"><div class=\"wandb-col\"><h3>Run history:</h3><br/><table class=\"wandb\"><tr><td>validatoin_auc</td><td>███▁█</td></tr></table><br/></div><div class=\"wandb-col\"><h3>Run summary:</h3><br/><table class=\"wandb\"><tr><td>validatoin_auc</td><td>0.99106</td></tr></table><br/></div></div>"
      ],
      "text/plain": [
       "<IPython.core.display.HTML object>"
      ]
     },
     "metadata": {},
     "output_type": "display_data"
    },
    {
     "data": {
      "text/html": [
       " View run <strong style=\"color:#cdcd00\">upbeat-sweep-109</strong> at: <a href='https://wandb.ai/peng_sun/llm-2023-SGD-hyperparameter/runs/lbq3taua' target=\"_blank\">https://wandb.ai/peng_sun/llm-2023-SGD-hyperparameter/runs/lbq3taua</a><br/>Synced 5 W&B file(s), 0 media file(s), 0 artifact file(s) and 0 other file(s)"
      ],
      "text/plain": [
       "<IPython.core.display.HTML object>"
      ]
     },
     "metadata": {},
     "output_type": "display_data"
    },
    {
     "data": {
      "text/html": [
       "Find logs at: <code>./wandb/run-20240104_205603-lbq3taua/logs</code>"
      ],
      "text/plain": [
       "<IPython.core.display.HTML object>"
      ]
     },
     "metadata": {},
     "output_type": "display_data"
    },
    {
     "name": "stderr",
     "output_type": "stream",
     "text": [
      "\u001b[34m\u001b[1mwandb\u001b[0m: Agent Starting Run: cfkcgr0d with config:\n",
      "\u001b[34m\u001b[1mwandb\u001b[0m: \talpha: 0.0005364246405092014\n",
      "\u001b[34m\u001b[1mwandb\u001b[0m: \teta0: 0.019517802749261084\n",
      "\u001b[34m\u001b[1mwandb\u001b[0m: \tloss: hinge\n",
      "\u001b[34m\u001b[1mwandb\u001b[0m: \tmax_iter: 1050\n",
      "Failed to detect the name of this notebook, you can set it manually with the WANDB_NOTEBOOK_NAME environment variable to enable code saving.\n"
     ]
    },
    {
     "data": {
      "text/html": [
       "wandb version 0.16.1 is available!  To upgrade, please run:\n",
       " $ pip install wandb --upgrade"
      ],
      "text/plain": [
       "<IPython.core.display.HTML object>"
      ]
     },
     "metadata": {},
     "output_type": "display_data"
    },
    {
     "data": {
      "text/html": [
       "Tracking run with wandb version 0.15.11"
      ],
      "text/plain": [
       "<IPython.core.display.HTML object>"
      ]
     },
     "metadata": {},
     "output_type": "display_data"
    },
    {
     "data": {
      "text/html": [
       "Run data is saved locally in <code>/home/peng_sun2/workspace/llm-2023/wandb/run-20240104_205629-cfkcgr0d</code>"
      ],
      "text/plain": [
       "<IPython.core.display.HTML object>"
      ]
     },
     "metadata": {},
     "output_type": "display_data"
    },
    {
     "data": {
      "text/html": [
       "Syncing run <strong><a href='https://wandb.ai/peng_sun/llm-2023-SGD-hyperparameter/runs/cfkcgr0d' target=\"_blank\">skilled-sweep-110</a></strong> to <a href='https://wandb.ai/peng_sun/llm-2023-SGD-hyperparameter' target=\"_blank\">Weights & Biases</a> (<a href='https://wandb.me/run' target=\"_blank\">docs</a>)<br/>Sweep page: <a href='https://wandb.ai/peng_sun/llm-2023-SGD-hyperparameter/sweeps/wyi8yb2f' target=\"_blank\">https://wandb.ai/peng_sun/llm-2023-SGD-hyperparameter/sweeps/wyi8yb2f</a>"
      ],
      "text/plain": [
       "<IPython.core.display.HTML object>"
      ]
     },
     "metadata": {},
     "output_type": "display_data"
    },
    {
     "data": {
      "text/html": [
       " View project at <a href='https://wandb.ai/peng_sun/llm-2023-SGD-hyperparameter' target=\"_blank\">https://wandb.ai/peng_sun/llm-2023-SGD-hyperparameter</a>"
      ],
      "text/plain": [
       "<IPython.core.display.HTML object>"
      ]
     },
     "metadata": {},
     "output_type": "display_data"
    },
    {
     "data": {
      "text/html": [
       " View sweep at <a href='https://wandb.ai/peng_sun/llm-2023-SGD-hyperparameter/sweeps/wyi8yb2f' target=\"_blank\">https://wandb.ai/peng_sun/llm-2023-SGD-hyperparameter/sweeps/wyi8yb2f</a>"
      ],
      "text/plain": [
       "<IPython.core.display.HTML object>"
      ]
     },
     "metadata": {},
     "output_type": "display_data"
    },
    {
     "data": {
      "text/html": [
       " View run at <a href='https://wandb.ai/peng_sun/llm-2023-SGD-hyperparameter/runs/cfkcgr0d' target=\"_blank\">https://wandb.ai/peng_sun/llm-2023-SGD-hyperparameter/runs/cfkcgr0d</a>"
      ],
      "text/plain": [
       "<IPython.core.display.HTML object>"
      ]
     },
     "metadata": {},
     "output_type": "display_data"
    },
    {
     "name": "stderr",
     "output_type": "stream",
     "text": [
      "Traceback (most recent call last):\n",
      "  File \"/tmp/ipykernel_17738/3206656641.py\", line 24, in train_sweep\n",
      "    eval_preds = model.predict_proba(eval_X)[:, 1]\n",
      "  File \"/home/peng_sun2/.local/lib/python3.9/site-packages/sklearn/utils/_available_if.py\", line 32, in __get__\n",
      "    if not self.check(obj):\n",
      "  File \"/home/peng_sun2/.local/lib/python3.9/site-packages/sklearn/linear_model/_stochastic_gradient.py\", line 1235, in _check_proba\n",
      "    raise AttributeError(\n",
      "AttributeError: probability estimates are not available for loss='hinge'\n"
     ]
    },
    {
     "data": {
      "text/html": [
       "Waiting for W&B process to finish... <strong style=\"color:red\">(failed 1).</strong> Press Control-C to abort syncing."
      ],
      "text/plain": [
       "<IPython.core.display.HTML object>"
      ]
     },
     "metadata": {},
     "output_type": "display_data"
    },
    {
     "data": {
      "text/html": [
       " View run <strong style=\"color:#cdcd00\">skilled-sweep-110</strong> at: <a href='https://wandb.ai/peng_sun/llm-2023-SGD-hyperparameter/runs/cfkcgr0d' target=\"_blank\">https://wandb.ai/peng_sun/llm-2023-SGD-hyperparameter/runs/cfkcgr0d</a><br/>Synced 6 W&B file(s), 0 media file(s), 0 artifact file(s) and 0 other file(s)"
      ],
      "text/plain": [
       "<IPython.core.display.HTML object>"
      ]
     },
     "metadata": {},
     "output_type": "display_data"
    },
    {
     "data": {
      "text/html": [
       "Find logs at: <code>./wandb/run-20240104_205629-cfkcgr0d/logs</code>"
      ],
      "text/plain": [
       "<IPython.core.display.HTML object>"
      ]
     },
     "metadata": {},
     "output_type": "display_data"
    },
    {
     "name": "stderr",
     "output_type": "stream",
     "text": [
      "Run cfkcgr0d errored: AttributeError(\"probability estimates are not available for loss='hinge'\")\n",
      "\u001b[34m\u001b[1mwandb\u001b[0m: \u001b[32m\u001b[41mERROR\u001b[0m Run cfkcgr0d errored: AttributeError(\"probability estimates are not available for loss='hinge'\")\n",
      "\u001b[34m\u001b[1mwandb\u001b[0m: Agent Starting Run: alyqgssj with config:\n",
      "\u001b[34m\u001b[1mwandb\u001b[0m: \talpha: 0.00010891394900671276\n",
      "\u001b[34m\u001b[1mwandb\u001b[0m: \teta0: 0.01391733129424312\n",
      "\u001b[34m\u001b[1mwandb\u001b[0m: \tloss: modified_huber\n",
      "\u001b[34m\u001b[1mwandb\u001b[0m: \tmax_iter: 7928\n",
      "Failed to detect the name of this notebook, you can set it manually with the WANDB_NOTEBOOK_NAME environment variable to enable code saving.\n"
     ]
    },
    {
     "data": {
      "text/html": [
       "wandb version 0.16.1 is available!  To upgrade, please run:\n",
       " $ pip install wandb --upgrade"
      ],
      "text/plain": [
       "<IPython.core.display.HTML object>"
      ]
     },
     "metadata": {},
     "output_type": "display_data"
    },
    {
     "data": {
      "text/html": [
       "Tracking run with wandb version 0.15.11"
      ],
      "text/plain": [
       "<IPython.core.display.HTML object>"
      ]
     },
     "metadata": {},
     "output_type": "display_data"
    },
    {
     "data": {
      "text/html": [
       "Run data is saved locally in <code>/home/peng_sun2/workspace/llm-2023/wandb/run-20240104_205644-alyqgssj</code>"
      ],
      "text/plain": [
       "<IPython.core.display.HTML object>"
      ]
     },
     "metadata": {},
     "output_type": "display_data"
    },
    {
     "data": {
      "text/html": [
       "Syncing run <strong><a href='https://wandb.ai/peng_sun/llm-2023-SGD-hyperparameter/runs/alyqgssj' target=\"_blank\">charmed-sweep-111</a></strong> to <a href='https://wandb.ai/peng_sun/llm-2023-SGD-hyperparameter' target=\"_blank\">Weights & Biases</a> (<a href='https://wandb.me/run' target=\"_blank\">docs</a>)<br/>Sweep page: <a href='https://wandb.ai/peng_sun/llm-2023-SGD-hyperparameter/sweeps/wyi8yb2f' target=\"_blank\">https://wandb.ai/peng_sun/llm-2023-SGD-hyperparameter/sweeps/wyi8yb2f</a>"
      ],
      "text/plain": [
       "<IPython.core.display.HTML object>"
      ]
     },
     "metadata": {},
     "output_type": "display_data"
    },
    {
     "data": {
      "text/html": [
       " View project at <a href='https://wandb.ai/peng_sun/llm-2023-SGD-hyperparameter' target=\"_blank\">https://wandb.ai/peng_sun/llm-2023-SGD-hyperparameter</a>"
      ],
      "text/plain": [
       "<IPython.core.display.HTML object>"
      ]
     },
     "metadata": {},
     "output_type": "display_data"
    },
    {
     "data": {
      "text/html": [
       " View sweep at <a href='https://wandb.ai/peng_sun/llm-2023-SGD-hyperparameter/sweeps/wyi8yb2f' target=\"_blank\">https://wandb.ai/peng_sun/llm-2023-SGD-hyperparameter/sweeps/wyi8yb2f</a>"
      ],
      "text/plain": [
       "<IPython.core.display.HTML object>"
      ]
     },
     "metadata": {},
     "output_type": "display_data"
    },
    {
     "data": {
      "text/html": [
       " View run at <a href='https://wandb.ai/peng_sun/llm-2023-SGD-hyperparameter/runs/alyqgssj' target=\"_blank\">https://wandb.ai/peng_sun/llm-2023-SGD-hyperparameter/runs/alyqgssj</a>"
      ],
      "text/plain": [
       "<IPython.core.display.HTML object>"
      ]
     },
     "metadata": {},
     "output_type": "display_data"
    },
    {
     "data": {
      "text/html": [
       "Waiting for W&B process to finish... <strong style=\"color:green\">(success).</strong>"
      ],
      "text/plain": [
       "<IPython.core.display.HTML object>"
      ]
     },
     "metadata": {},
     "output_type": "display_data"
    },
    {
     "data": {
      "text/html": [
       "<style>\n",
       "    table.wandb td:nth-child(1) { padding: 0 10px; text-align: left ; width: auto;} td:nth-child(2) {text-align: left ; width: 100%}\n",
       "    .wandb-row { display: flex; flex-direction: row; flex-wrap: wrap; justify-content: flex-start; width: 100% }\n",
       "    .wandb-col { display: flex; flex-direction: column; flex-basis: 100%; flex: 1; padding: 10px; }\n",
       "    </style>\n",
       "<div class=\"wandb-row\"><div class=\"wandb-col\"><h3>Run history:</h3><br/><table class=\"wandb\"><tr><td>validatoin_auc</td><td>███▁█</td></tr></table><br/></div><div class=\"wandb-col\"><h3>Run summary:</h3><br/><table class=\"wandb\"><tr><td>validatoin_auc</td><td>0.99423</td></tr></table><br/></div></div>"
      ],
      "text/plain": [
       "<IPython.core.display.HTML object>"
      ]
     },
     "metadata": {},
     "output_type": "display_data"
    },
    {
     "data": {
      "text/html": [
       " View run <strong style=\"color:#cdcd00\">charmed-sweep-111</strong> at: <a href='https://wandb.ai/peng_sun/llm-2023-SGD-hyperparameter/runs/alyqgssj' target=\"_blank\">https://wandb.ai/peng_sun/llm-2023-SGD-hyperparameter/runs/alyqgssj</a><br/>Synced 5 W&B file(s), 0 media file(s), 0 artifact file(s) and 0 other file(s)"
      ],
      "text/plain": [
       "<IPython.core.display.HTML object>"
      ]
     },
     "metadata": {},
     "output_type": "display_data"
    },
    {
     "data": {
      "text/html": [
       "Find logs at: <code>./wandb/run-20240104_205644-alyqgssj/logs</code>"
      ],
      "text/plain": [
       "<IPython.core.display.HTML object>"
      ]
     },
     "metadata": {},
     "output_type": "display_data"
    },
    {
     "name": "stderr",
     "output_type": "stream",
     "text": [
      "\u001b[34m\u001b[1mwandb\u001b[0m: Agent Starting Run: w7hpjly8 with config:\n",
      "\u001b[34m\u001b[1mwandb\u001b[0m: \talpha: 0.00015340790487606735\n",
      "\u001b[34m\u001b[1mwandb\u001b[0m: \teta0: 0.037764824034656294\n",
      "\u001b[34m\u001b[1mwandb\u001b[0m: \tloss: modified_huber\n",
      "\u001b[34m\u001b[1mwandb\u001b[0m: \tmax_iter: 2857\n",
      "Failed to detect the name of this notebook, you can set it manually with the WANDB_NOTEBOOK_NAME environment variable to enable code saving.\n"
     ]
    },
    {
     "data": {
      "text/html": [
       "wandb version 0.16.1 is available!  To upgrade, please run:\n",
       " $ pip install wandb --upgrade"
      ],
      "text/plain": [
       "<IPython.core.display.HTML object>"
      ]
     },
     "metadata": {},
     "output_type": "display_data"
    },
    {
     "data": {
      "text/html": [
       "Tracking run with wandb version 0.15.11"
      ],
      "text/plain": [
       "<IPython.core.display.HTML object>"
      ]
     },
     "metadata": {},
     "output_type": "display_data"
    },
    {
     "data": {
      "text/html": [
       "Run data is saved locally in <code>/home/peng_sun2/workspace/llm-2023/wandb/run-20240104_205709-w7hpjly8</code>"
      ],
      "text/plain": [
       "<IPython.core.display.HTML object>"
      ]
     },
     "metadata": {},
     "output_type": "display_data"
    },
    {
     "data": {
      "text/html": [
       "Syncing run <strong><a href='https://wandb.ai/peng_sun/llm-2023-SGD-hyperparameter/runs/w7hpjly8' target=\"_blank\">fluent-sweep-112</a></strong> to <a href='https://wandb.ai/peng_sun/llm-2023-SGD-hyperparameter' target=\"_blank\">Weights & Biases</a> (<a href='https://wandb.me/run' target=\"_blank\">docs</a>)<br/>Sweep page: <a href='https://wandb.ai/peng_sun/llm-2023-SGD-hyperparameter/sweeps/wyi8yb2f' target=\"_blank\">https://wandb.ai/peng_sun/llm-2023-SGD-hyperparameter/sweeps/wyi8yb2f</a>"
      ],
      "text/plain": [
       "<IPython.core.display.HTML object>"
      ]
     },
     "metadata": {},
     "output_type": "display_data"
    },
    {
     "data": {
      "text/html": [
       " View project at <a href='https://wandb.ai/peng_sun/llm-2023-SGD-hyperparameter' target=\"_blank\">https://wandb.ai/peng_sun/llm-2023-SGD-hyperparameter</a>"
      ],
      "text/plain": [
       "<IPython.core.display.HTML object>"
      ]
     },
     "metadata": {},
     "output_type": "display_data"
    },
    {
     "data": {
      "text/html": [
       " View sweep at <a href='https://wandb.ai/peng_sun/llm-2023-SGD-hyperparameter/sweeps/wyi8yb2f' target=\"_blank\">https://wandb.ai/peng_sun/llm-2023-SGD-hyperparameter/sweeps/wyi8yb2f</a>"
      ],
      "text/plain": [
       "<IPython.core.display.HTML object>"
      ]
     },
     "metadata": {},
     "output_type": "display_data"
    },
    {
     "data": {
      "text/html": [
       " View run at <a href='https://wandb.ai/peng_sun/llm-2023-SGD-hyperparameter/runs/w7hpjly8' target=\"_blank\">https://wandb.ai/peng_sun/llm-2023-SGD-hyperparameter/runs/w7hpjly8</a>"
      ],
      "text/plain": [
       "<IPython.core.display.HTML object>"
      ]
     },
     "metadata": {},
     "output_type": "display_data"
    },
    {
     "data": {
      "text/html": [
       "Waiting for W&B process to finish... <strong style=\"color:green\">(success).</strong>"
      ],
      "text/plain": [
       "<IPython.core.display.HTML object>"
      ]
     },
     "metadata": {},
     "output_type": "display_data"
    },
    {
     "data": {
      "text/html": [
       "<style>\n",
       "    table.wandb td:nth-child(1) { padding: 0 10px; text-align: left ; width: auto;} td:nth-child(2) {text-align: left ; width: 100%}\n",
       "    .wandb-row { display: flex; flex-direction: row; flex-wrap: wrap; justify-content: flex-start; width: 100% }\n",
       "    .wandb-col { display: flex; flex-direction: column; flex-basis: 100%; flex: 1; padding: 10px; }\n",
       "    </style>\n",
       "<div class=\"wandb-row\"><div class=\"wandb-col\"><h3>Run history:</h3><br/><table class=\"wandb\"><tr><td>validatoin_auc</td><td>███▁█</td></tr></table><br/></div><div class=\"wandb-col\"><h3>Run summary:</h3><br/><table class=\"wandb\"><tr><td>validatoin_auc</td><td>0.9937</td></tr></table><br/></div></div>"
      ],
      "text/plain": [
       "<IPython.core.display.HTML object>"
      ]
     },
     "metadata": {},
     "output_type": "display_data"
    },
    {
     "data": {
      "text/html": [
       " View run <strong style=\"color:#cdcd00\">fluent-sweep-112</strong> at: <a href='https://wandb.ai/peng_sun/llm-2023-SGD-hyperparameter/runs/w7hpjly8' target=\"_blank\">https://wandb.ai/peng_sun/llm-2023-SGD-hyperparameter/runs/w7hpjly8</a><br/>Synced 5 W&B file(s), 0 media file(s), 0 artifact file(s) and 0 other file(s)"
      ],
      "text/plain": [
       "<IPython.core.display.HTML object>"
      ]
     },
     "metadata": {},
     "output_type": "display_data"
    },
    {
     "data": {
      "text/html": [
       "Find logs at: <code>./wandb/run-20240104_205709-w7hpjly8/logs</code>"
      ],
      "text/plain": [
       "<IPython.core.display.HTML object>"
      ]
     },
     "metadata": {},
     "output_type": "display_data"
    },
    {
     "name": "stderr",
     "output_type": "stream",
     "text": [
      "\u001b[34m\u001b[1mwandb\u001b[0m: Agent Starting Run: ejkesi3v with config:\n",
      "\u001b[34m\u001b[1mwandb\u001b[0m: \talpha: 0.00013163415569928609\n",
      "\u001b[34m\u001b[1mwandb\u001b[0m: \teta0: 0.0921775069285941\n",
      "\u001b[34m\u001b[1mwandb\u001b[0m: \tloss: modified_huber\n",
      "\u001b[34m\u001b[1mwandb\u001b[0m: \tmax_iter: 4042\n",
      "Failed to detect the name of this notebook, you can set it manually with the WANDB_NOTEBOOK_NAME environment variable to enable code saving.\n"
     ]
    },
    {
     "data": {
      "text/html": [
       "wandb version 0.16.1 is available!  To upgrade, please run:\n",
       " $ pip install wandb --upgrade"
      ],
      "text/plain": [
       "<IPython.core.display.HTML object>"
      ]
     },
     "metadata": {},
     "output_type": "display_data"
    },
    {
     "data": {
      "text/html": [
       "Tracking run with wandb version 0.15.11"
      ],
      "text/plain": [
       "<IPython.core.display.HTML object>"
      ]
     },
     "metadata": {},
     "output_type": "display_data"
    },
    {
     "data": {
      "text/html": [
       "Run data is saved locally in <code>/home/peng_sun2/workspace/llm-2023/wandb/run-20240104_205736-ejkesi3v</code>"
      ],
      "text/plain": [
       "<IPython.core.display.HTML object>"
      ]
     },
     "metadata": {},
     "output_type": "display_data"
    },
    {
     "data": {
      "text/html": [
       "Syncing run <strong><a href='https://wandb.ai/peng_sun/llm-2023-SGD-hyperparameter/runs/ejkesi3v' target=\"_blank\">deep-sweep-113</a></strong> to <a href='https://wandb.ai/peng_sun/llm-2023-SGD-hyperparameter' target=\"_blank\">Weights & Biases</a> (<a href='https://wandb.me/run' target=\"_blank\">docs</a>)<br/>Sweep page: <a href='https://wandb.ai/peng_sun/llm-2023-SGD-hyperparameter/sweeps/wyi8yb2f' target=\"_blank\">https://wandb.ai/peng_sun/llm-2023-SGD-hyperparameter/sweeps/wyi8yb2f</a>"
      ],
      "text/plain": [
       "<IPython.core.display.HTML object>"
      ]
     },
     "metadata": {},
     "output_type": "display_data"
    },
    {
     "data": {
      "text/html": [
       " View project at <a href='https://wandb.ai/peng_sun/llm-2023-SGD-hyperparameter' target=\"_blank\">https://wandb.ai/peng_sun/llm-2023-SGD-hyperparameter</a>"
      ],
      "text/plain": [
       "<IPython.core.display.HTML object>"
      ]
     },
     "metadata": {},
     "output_type": "display_data"
    },
    {
     "data": {
      "text/html": [
       " View sweep at <a href='https://wandb.ai/peng_sun/llm-2023-SGD-hyperparameter/sweeps/wyi8yb2f' target=\"_blank\">https://wandb.ai/peng_sun/llm-2023-SGD-hyperparameter/sweeps/wyi8yb2f</a>"
      ],
      "text/plain": [
       "<IPython.core.display.HTML object>"
      ]
     },
     "metadata": {},
     "output_type": "display_data"
    },
    {
     "data": {
      "text/html": [
       " View run at <a href='https://wandb.ai/peng_sun/llm-2023-SGD-hyperparameter/runs/ejkesi3v' target=\"_blank\">https://wandb.ai/peng_sun/llm-2023-SGD-hyperparameter/runs/ejkesi3v</a>"
      ],
      "text/plain": [
       "<IPython.core.display.HTML object>"
      ]
     },
     "metadata": {},
     "output_type": "display_data"
    },
    {
     "data": {
      "text/html": [
       "Waiting for W&B process to finish... <strong style=\"color:green\">(success).</strong>"
      ],
      "text/plain": [
       "<IPython.core.display.HTML object>"
      ]
     },
     "metadata": {},
     "output_type": "display_data"
    },
    {
     "data": {
      "text/html": [
       "<style>\n",
       "    table.wandb td:nth-child(1) { padding: 0 10px; text-align: left ; width: auto;} td:nth-child(2) {text-align: left ; width: 100%}\n",
       "    .wandb-row { display: flex; flex-direction: row; flex-wrap: wrap; justify-content: flex-start; width: 100% }\n",
       "    .wandb-col { display: flex; flex-direction: column; flex-basis: 100%; flex: 1; padding: 10px; }\n",
       "    </style>\n",
       "<div class=\"wandb-row\"><div class=\"wandb-col\"><h3>Run history:</h3><br/><table class=\"wandb\"><tr><td>validatoin_auc</td><td>███▁█</td></tr></table><br/></div><div class=\"wandb-col\"><h3>Run summary:</h3><br/><table class=\"wandb\"><tr><td>validatoin_auc</td><td>0.99407</td></tr></table><br/></div></div>"
      ],
      "text/plain": [
       "<IPython.core.display.HTML object>"
      ]
     },
     "metadata": {},
     "output_type": "display_data"
    },
    {
     "data": {
      "text/html": [
       " View run <strong style=\"color:#cdcd00\">deep-sweep-113</strong> at: <a href='https://wandb.ai/peng_sun/llm-2023-SGD-hyperparameter/runs/ejkesi3v' target=\"_blank\">https://wandb.ai/peng_sun/llm-2023-SGD-hyperparameter/runs/ejkesi3v</a><br/>Synced 5 W&B file(s), 0 media file(s), 0 artifact file(s) and 0 other file(s)"
      ],
      "text/plain": [
       "<IPython.core.display.HTML object>"
      ]
     },
     "metadata": {},
     "output_type": "display_data"
    },
    {
     "data": {
      "text/html": [
       "Find logs at: <code>./wandb/run-20240104_205736-ejkesi3v/logs</code>"
      ],
      "text/plain": [
       "<IPython.core.display.HTML object>"
      ]
     },
     "metadata": {},
     "output_type": "display_data"
    },
    {
     "name": "stderr",
     "output_type": "stream",
     "text": [
      "\u001b[34m\u001b[1mwandb\u001b[0m: Agent Starting Run: rcbfi3l6 with config:\n",
      "\u001b[34m\u001b[1mwandb\u001b[0m: \talpha: 0.00012938298963381594\n",
      "\u001b[34m\u001b[1mwandb\u001b[0m: \teta0: 0.09444390105833646\n",
      "\u001b[34m\u001b[1mwandb\u001b[0m: \tloss: modified_huber\n",
      "\u001b[34m\u001b[1mwandb\u001b[0m: \tmax_iter: 8828\n",
      "Failed to detect the name of this notebook, you can set it manually with the WANDB_NOTEBOOK_NAME environment variable to enable code saving.\n"
     ]
    },
    {
     "data": {
      "text/html": [
       "wandb version 0.16.1 is available!  To upgrade, please run:\n",
       " $ pip install wandb --upgrade"
      ],
      "text/plain": [
       "<IPython.core.display.HTML object>"
      ]
     },
     "metadata": {},
     "output_type": "display_data"
    },
    {
     "data": {
      "text/html": [
       "Tracking run with wandb version 0.15.11"
      ],
      "text/plain": [
       "<IPython.core.display.HTML object>"
      ]
     },
     "metadata": {},
     "output_type": "display_data"
    },
    {
     "data": {
      "text/html": [
       "Run data is saved locally in <code>/home/peng_sun2/workspace/llm-2023/wandb/run-20240104_205801-rcbfi3l6</code>"
      ],
      "text/plain": [
       "<IPython.core.display.HTML object>"
      ]
     },
     "metadata": {},
     "output_type": "display_data"
    },
    {
     "data": {
      "text/html": [
       "Syncing run <strong><a href='https://wandb.ai/peng_sun/llm-2023-SGD-hyperparameter/runs/rcbfi3l6' target=\"_blank\">polar-sweep-114</a></strong> to <a href='https://wandb.ai/peng_sun/llm-2023-SGD-hyperparameter' target=\"_blank\">Weights & Biases</a> (<a href='https://wandb.me/run' target=\"_blank\">docs</a>)<br/>Sweep page: <a href='https://wandb.ai/peng_sun/llm-2023-SGD-hyperparameter/sweeps/wyi8yb2f' target=\"_blank\">https://wandb.ai/peng_sun/llm-2023-SGD-hyperparameter/sweeps/wyi8yb2f</a>"
      ],
      "text/plain": [
       "<IPython.core.display.HTML object>"
      ]
     },
     "metadata": {},
     "output_type": "display_data"
    },
    {
     "data": {
      "text/html": [
       " View project at <a href='https://wandb.ai/peng_sun/llm-2023-SGD-hyperparameter' target=\"_blank\">https://wandb.ai/peng_sun/llm-2023-SGD-hyperparameter</a>"
      ],
      "text/plain": [
       "<IPython.core.display.HTML object>"
      ]
     },
     "metadata": {},
     "output_type": "display_data"
    },
    {
     "data": {
      "text/html": [
       " View sweep at <a href='https://wandb.ai/peng_sun/llm-2023-SGD-hyperparameter/sweeps/wyi8yb2f' target=\"_blank\">https://wandb.ai/peng_sun/llm-2023-SGD-hyperparameter/sweeps/wyi8yb2f</a>"
      ],
      "text/plain": [
       "<IPython.core.display.HTML object>"
      ]
     },
     "metadata": {},
     "output_type": "display_data"
    },
    {
     "data": {
      "text/html": [
       " View run at <a href='https://wandb.ai/peng_sun/llm-2023-SGD-hyperparameter/runs/rcbfi3l6' target=\"_blank\">https://wandb.ai/peng_sun/llm-2023-SGD-hyperparameter/runs/rcbfi3l6</a>"
      ],
      "text/plain": [
       "<IPython.core.display.HTML object>"
      ]
     },
     "metadata": {},
     "output_type": "display_data"
    },
    {
     "data": {
      "text/html": [
       "Waiting for W&B process to finish... <strong style=\"color:green\">(success).</strong>"
      ],
      "text/plain": [
       "<IPython.core.display.HTML object>"
      ]
     },
     "metadata": {},
     "output_type": "display_data"
    },
    {
     "data": {
      "text/html": [
       "<style>\n",
       "    table.wandb td:nth-child(1) { padding: 0 10px; text-align: left ; width: auto;} td:nth-child(2) {text-align: left ; width: 100%}\n",
       "    .wandb-row { display: flex; flex-direction: row; flex-wrap: wrap; justify-content: flex-start; width: 100% }\n",
       "    .wandb-col { display: flex; flex-direction: column; flex-basis: 100%; flex: 1; padding: 10px; }\n",
       "    </style>\n",
       "<div class=\"wandb-row\"><div class=\"wandb-col\"><h3>Run history:</h3><br/><table class=\"wandb\"><tr><td>validatoin_auc</td><td>███▁█</td></tr></table><br/></div><div class=\"wandb-col\"><h3>Run summary:</h3><br/><table class=\"wandb\"><tr><td>validatoin_auc</td><td>0.99378</td></tr></table><br/></div></div>"
      ],
      "text/plain": [
       "<IPython.core.display.HTML object>"
      ]
     },
     "metadata": {},
     "output_type": "display_data"
    },
    {
     "data": {
      "text/html": [
       " View run <strong style=\"color:#cdcd00\">polar-sweep-114</strong> at: <a href='https://wandb.ai/peng_sun/llm-2023-SGD-hyperparameter/runs/rcbfi3l6' target=\"_blank\">https://wandb.ai/peng_sun/llm-2023-SGD-hyperparameter/runs/rcbfi3l6</a><br/>Synced 5 W&B file(s), 0 media file(s), 0 artifact file(s) and 0 other file(s)"
      ],
      "text/plain": [
       "<IPython.core.display.HTML object>"
      ]
     },
     "metadata": {},
     "output_type": "display_data"
    },
    {
     "data": {
      "text/html": [
       "Find logs at: <code>./wandb/run-20240104_205801-rcbfi3l6/logs</code>"
      ],
      "text/plain": [
       "<IPython.core.display.HTML object>"
      ]
     },
     "metadata": {},
     "output_type": "display_data"
    },
    {
     "name": "stderr",
     "output_type": "stream",
     "text": [
      "\u001b[34m\u001b[1mwandb\u001b[0m: Sweep Agent: Waiting for job.\n",
      "\u001b[34m\u001b[1mwandb\u001b[0m: Job received.\n",
      "\u001b[34m\u001b[1mwandb\u001b[0m: Agent Starting Run: jw1tftws with config:\n",
      "\u001b[34m\u001b[1mwandb\u001b[0m: \talpha: 0.00010110570138044767\n",
      "\u001b[34m\u001b[1mwandb\u001b[0m: \teta0: 0.08314323550269054\n",
      "\u001b[34m\u001b[1mwandb\u001b[0m: \tloss: modified_huber\n",
      "\u001b[34m\u001b[1mwandb\u001b[0m: \tmax_iter: 4462\n",
      "Failed to detect the name of this notebook, you can set it manually with the WANDB_NOTEBOOK_NAME environment variable to enable code saving.\n"
     ]
    },
    {
     "data": {
      "text/html": [
       "wandb version 0.16.1 is available!  To upgrade, please run:\n",
       " $ pip install wandb --upgrade"
      ],
      "text/plain": [
       "<IPython.core.display.HTML object>"
      ]
     },
     "metadata": {},
     "output_type": "display_data"
    },
    {
     "data": {
      "text/html": [
       "Tracking run with wandb version 0.15.11"
      ],
      "text/plain": [
       "<IPython.core.display.HTML object>"
      ]
     },
     "metadata": {},
     "output_type": "display_data"
    },
    {
     "data": {
      "text/html": [
       "Run data is saved locally in <code>/home/peng_sun2/workspace/llm-2023/wandb/run-20240104_205832-jw1tftws</code>"
      ],
      "text/plain": [
       "<IPython.core.display.HTML object>"
      ]
     },
     "metadata": {},
     "output_type": "display_data"
    },
    {
     "data": {
      "text/html": [
       "Syncing run <strong><a href='https://wandb.ai/peng_sun/llm-2023-SGD-hyperparameter/runs/jw1tftws' target=\"_blank\">crimson-sweep-115</a></strong> to <a href='https://wandb.ai/peng_sun/llm-2023-SGD-hyperparameter' target=\"_blank\">Weights & Biases</a> (<a href='https://wandb.me/run' target=\"_blank\">docs</a>)<br/>Sweep page: <a href='https://wandb.ai/peng_sun/llm-2023-SGD-hyperparameter/sweeps/wyi8yb2f' target=\"_blank\">https://wandb.ai/peng_sun/llm-2023-SGD-hyperparameter/sweeps/wyi8yb2f</a>"
      ],
      "text/plain": [
       "<IPython.core.display.HTML object>"
      ]
     },
     "metadata": {},
     "output_type": "display_data"
    },
    {
     "data": {
      "text/html": [
       " View project at <a href='https://wandb.ai/peng_sun/llm-2023-SGD-hyperparameter' target=\"_blank\">https://wandb.ai/peng_sun/llm-2023-SGD-hyperparameter</a>"
      ],
      "text/plain": [
       "<IPython.core.display.HTML object>"
      ]
     },
     "metadata": {},
     "output_type": "display_data"
    },
    {
     "data": {
      "text/html": [
       " View sweep at <a href='https://wandb.ai/peng_sun/llm-2023-SGD-hyperparameter/sweeps/wyi8yb2f' target=\"_blank\">https://wandb.ai/peng_sun/llm-2023-SGD-hyperparameter/sweeps/wyi8yb2f</a>"
      ],
      "text/plain": [
       "<IPython.core.display.HTML object>"
      ]
     },
     "metadata": {},
     "output_type": "display_data"
    },
    {
     "data": {
      "text/html": [
       " View run at <a href='https://wandb.ai/peng_sun/llm-2023-SGD-hyperparameter/runs/jw1tftws' target=\"_blank\">https://wandb.ai/peng_sun/llm-2023-SGD-hyperparameter/runs/jw1tftws</a>"
      ],
      "text/plain": [
       "<IPython.core.display.HTML object>"
      ]
     },
     "metadata": {},
     "output_type": "display_data"
    },
    {
     "data": {
      "text/html": [
       "Waiting for W&B process to finish... <strong style=\"color:green\">(success).</strong>"
      ],
      "text/plain": [
       "<IPython.core.display.HTML object>"
      ]
     },
     "metadata": {},
     "output_type": "display_data"
    },
    {
     "data": {
      "text/html": [
       "<style>\n",
       "    table.wandb td:nth-child(1) { padding: 0 10px; text-align: left ; width: auto;} td:nth-child(2) {text-align: left ; width: 100%}\n",
       "    .wandb-row { display: flex; flex-direction: row; flex-wrap: wrap; justify-content: flex-start; width: 100% }\n",
       "    .wandb-col { display: flex; flex-direction: column; flex-basis: 100%; flex: 1; padding: 10px; }\n",
       "    </style>\n",
       "<div class=\"wandb-row\"><div class=\"wandb-col\"><h3>Run history:</h3><br/><table class=\"wandb\"><tr><td>validatoin_auc</td><td>███▁█</td></tr></table><br/></div><div class=\"wandb-col\"><h3>Run summary:</h3><br/><table class=\"wandb\"><tr><td>validatoin_auc</td><td>0.99422</td></tr></table><br/></div></div>"
      ],
      "text/plain": [
       "<IPython.core.display.HTML object>"
      ]
     },
     "metadata": {},
     "output_type": "display_data"
    },
    {
     "data": {
      "text/html": [
       " View run <strong style=\"color:#cdcd00\">crimson-sweep-115</strong> at: <a href='https://wandb.ai/peng_sun/llm-2023-SGD-hyperparameter/runs/jw1tftws' target=\"_blank\">https://wandb.ai/peng_sun/llm-2023-SGD-hyperparameter/runs/jw1tftws</a><br/>Synced 5 W&B file(s), 0 media file(s), 0 artifact file(s) and 0 other file(s)"
      ],
      "text/plain": [
       "<IPython.core.display.HTML object>"
      ]
     },
     "metadata": {},
     "output_type": "display_data"
    },
    {
     "data": {
      "text/html": [
       "Find logs at: <code>./wandb/run-20240104_205832-jw1tftws/logs</code>"
      ],
      "text/plain": [
       "<IPython.core.display.HTML object>"
      ]
     },
     "metadata": {},
     "output_type": "display_data"
    },
    {
     "name": "stderr",
     "output_type": "stream",
     "text": [
      "\u001b[34m\u001b[1mwandb\u001b[0m: Agent Starting Run: oar8xq2e with config:\n",
      "\u001b[34m\u001b[1mwandb\u001b[0m: \talpha: 0.009770897267073652\n",
      "\u001b[34m\u001b[1mwandb\u001b[0m: \teta0: 0.028824081328857297\n",
      "\u001b[34m\u001b[1mwandb\u001b[0m: \tloss: hinge\n",
      "\u001b[34m\u001b[1mwandb\u001b[0m: \tmax_iter: 9550\n",
      "Failed to detect the name of this notebook, you can set it manually with the WANDB_NOTEBOOK_NAME environment variable to enable code saving.\n"
     ]
    },
    {
     "data": {
      "text/html": [
       "wandb version 0.16.1 is available!  To upgrade, please run:\n",
       " $ pip install wandb --upgrade"
      ],
      "text/plain": [
       "<IPython.core.display.HTML object>"
      ]
     },
     "metadata": {},
     "output_type": "display_data"
    },
    {
     "data": {
      "text/html": [
       "Tracking run with wandb version 0.15.11"
      ],
      "text/plain": [
       "<IPython.core.display.HTML object>"
      ]
     },
     "metadata": {},
     "output_type": "display_data"
    },
    {
     "data": {
      "text/html": [
       "Run data is saved locally in <code>/home/peng_sun2/workspace/llm-2023/wandb/run-20240104_205858-oar8xq2e</code>"
      ],
      "text/plain": [
       "<IPython.core.display.HTML object>"
      ]
     },
     "metadata": {},
     "output_type": "display_data"
    },
    {
     "data": {
      "text/html": [
       "Syncing run <strong><a href='https://wandb.ai/peng_sun/llm-2023-SGD-hyperparameter/runs/oar8xq2e' target=\"_blank\">gentle-sweep-116</a></strong> to <a href='https://wandb.ai/peng_sun/llm-2023-SGD-hyperparameter' target=\"_blank\">Weights & Biases</a> (<a href='https://wandb.me/run' target=\"_blank\">docs</a>)<br/>Sweep page: <a href='https://wandb.ai/peng_sun/llm-2023-SGD-hyperparameter/sweeps/wyi8yb2f' target=\"_blank\">https://wandb.ai/peng_sun/llm-2023-SGD-hyperparameter/sweeps/wyi8yb2f</a>"
      ],
      "text/plain": [
       "<IPython.core.display.HTML object>"
      ]
     },
     "metadata": {},
     "output_type": "display_data"
    },
    {
     "data": {
      "text/html": [
       " View project at <a href='https://wandb.ai/peng_sun/llm-2023-SGD-hyperparameter' target=\"_blank\">https://wandb.ai/peng_sun/llm-2023-SGD-hyperparameter</a>"
      ],
      "text/plain": [
       "<IPython.core.display.HTML object>"
      ]
     },
     "metadata": {},
     "output_type": "display_data"
    },
    {
     "data": {
      "text/html": [
       " View sweep at <a href='https://wandb.ai/peng_sun/llm-2023-SGD-hyperparameter/sweeps/wyi8yb2f' target=\"_blank\">https://wandb.ai/peng_sun/llm-2023-SGD-hyperparameter/sweeps/wyi8yb2f</a>"
      ],
      "text/plain": [
       "<IPython.core.display.HTML object>"
      ]
     },
     "metadata": {},
     "output_type": "display_data"
    },
    {
     "data": {
      "text/html": [
       " View run at <a href='https://wandb.ai/peng_sun/llm-2023-SGD-hyperparameter/runs/oar8xq2e' target=\"_blank\">https://wandb.ai/peng_sun/llm-2023-SGD-hyperparameter/runs/oar8xq2e</a>"
      ],
      "text/plain": [
       "<IPython.core.display.HTML object>"
      ]
     },
     "metadata": {},
     "output_type": "display_data"
    },
    {
     "name": "stderr",
     "output_type": "stream",
     "text": [
      "Traceback (most recent call last):\n",
      "  File \"/tmp/ipykernel_17738/3206656641.py\", line 24, in train_sweep\n",
      "    eval_preds = model.predict_proba(eval_X)[:, 1]\n",
      "  File \"/home/peng_sun2/.local/lib/python3.9/site-packages/sklearn/utils/_available_if.py\", line 32, in __get__\n",
      "    if not self.check(obj):\n",
      "  File \"/home/peng_sun2/.local/lib/python3.9/site-packages/sklearn/linear_model/_stochastic_gradient.py\", line 1235, in _check_proba\n",
      "    raise AttributeError(\n",
      "AttributeError: probability estimates are not available for loss='hinge'\n"
     ]
    },
    {
     "data": {
      "text/html": [
       "Waiting for W&B process to finish... <strong style=\"color:red\">(failed 1).</strong> Press Control-C to abort syncing."
      ],
      "text/plain": [
       "<IPython.core.display.HTML object>"
      ]
     },
     "metadata": {},
     "output_type": "display_data"
    },
    {
     "data": {
      "text/html": [
       " View run <strong style=\"color:#cdcd00\">gentle-sweep-116</strong> at: <a href='https://wandb.ai/peng_sun/llm-2023-SGD-hyperparameter/runs/oar8xq2e' target=\"_blank\">https://wandb.ai/peng_sun/llm-2023-SGD-hyperparameter/runs/oar8xq2e</a><br/>Synced 6 W&B file(s), 0 media file(s), 0 artifact file(s) and 0 other file(s)"
      ],
      "text/plain": [
       "<IPython.core.display.HTML object>"
      ]
     },
     "metadata": {},
     "output_type": "display_data"
    },
    {
     "data": {
      "text/html": [
       "Find logs at: <code>./wandb/run-20240104_205858-oar8xq2e/logs</code>"
      ],
      "text/plain": [
       "<IPython.core.display.HTML object>"
      ]
     },
     "metadata": {},
     "output_type": "display_data"
    },
    {
     "name": "stderr",
     "output_type": "stream",
     "text": [
      "Run oar8xq2e errored: AttributeError(\"probability estimates are not available for loss='hinge'\")\n",
      "\u001b[34m\u001b[1mwandb\u001b[0m: \u001b[32m\u001b[41mERROR\u001b[0m Run oar8xq2e errored: AttributeError(\"probability estimates are not available for loss='hinge'\")\n",
      "\u001b[34m\u001b[1mwandb\u001b[0m: Agent Starting Run: wjx1i1o8 with config:\n",
      "\u001b[34m\u001b[1mwandb\u001b[0m: \talpha: 0.00016206773264285074\n",
      "\u001b[34m\u001b[1mwandb\u001b[0m: \teta0: 0.0213568723711964\n",
      "\u001b[34m\u001b[1mwandb\u001b[0m: \tloss: modified_huber\n",
      "\u001b[34m\u001b[1mwandb\u001b[0m: \tmax_iter: 4369\n",
      "Failed to detect the name of this notebook, you can set it manually with the WANDB_NOTEBOOK_NAME environment variable to enable code saving.\n"
     ]
    },
    {
     "data": {
      "text/html": [
       "wandb version 0.16.1 is available!  To upgrade, please run:\n",
       " $ pip install wandb --upgrade"
      ],
      "text/plain": [
       "<IPython.core.display.HTML object>"
      ]
     },
     "metadata": {},
     "output_type": "display_data"
    },
    {
     "data": {
      "text/html": [
       "Tracking run with wandb version 0.15.11"
      ],
      "text/plain": [
       "<IPython.core.display.HTML object>"
      ]
     },
     "metadata": {},
     "output_type": "display_data"
    },
    {
     "data": {
      "text/html": [
       "Run data is saved locally in <code>/home/peng_sun2/workspace/llm-2023/wandb/run-20240104_205914-wjx1i1o8</code>"
      ],
      "text/plain": [
       "<IPython.core.display.HTML object>"
      ]
     },
     "metadata": {},
     "output_type": "display_data"
    },
    {
     "data": {
      "text/html": [
       "Syncing run <strong><a href='https://wandb.ai/peng_sun/llm-2023-SGD-hyperparameter/runs/wjx1i1o8' target=\"_blank\">cerulean-sweep-117</a></strong> to <a href='https://wandb.ai/peng_sun/llm-2023-SGD-hyperparameter' target=\"_blank\">Weights & Biases</a> (<a href='https://wandb.me/run' target=\"_blank\">docs</a>)<br/>Sweep page: <a href='https://wandb.ai/peng_sun/llm-2023-SGD-hyperparameter/sweeps/wyi8yb2f' target=\"_blank\">https://wandb.ai/peng_sun/llm-2023-SGD-hyperparameter/sweeps/wyi8yb2f</a>"
      ],
      "text/plain": [
       "<IPython.core.display.HTML object>"
      ]
     },
     "metadata": {},
     "output_type": "display_data"
    },
    {
     "data": {
      "text/html": [
       " View project at <a href='https://wandb.ai/peng_sun/llm-2023-SGD-hyperparameter' target=\"_blank\">https://wandb.ai/peng_sun/llm-2023-SGD-hyperparameter</a>"
      ],
      "text/plain": [
       "<IPython.core.display.HTML object>"
      ]
     },
     "metadata": {},
     "output_type": "display_data"
    },
    {
     "data": {
      "text/html": [
       " View sweep at <a href='https://wandb.ai/peng_sun/llm-2023-SGD-hyperparameter/sweeps/wyi8yb2f' target=\"_blank\">https://wandb.ai/peng_sun/llm-2023-SGD-hyperparameter/sweeps/wyi8yb2f</a>"
      ],
      "text/plain": [
       "<IPython.core.display.HTML object>"
      ]
     },
     "metadata": {},
     "output_type": "display_data"
    },
    {
     "data": {
      "text/html": [
       " View run at <a href='https://wandb.ai/peng_sun/llm-2023-SGD-hyperparameter/runs/wjx1i1o8' target=\"_blank\">https://wandb.ai/peng_sun/llm-2023-SGD-hyperparameter/runs/wjx1i1o8</a>"
      ],
      "text/plain": [
       "<IPython.core.display.HTML object>"
      ]
     },
     "metadata": {},
     "output_type": "display_data"
    },
    {
     "data": {
      "text/html": [
       "Waiting for W&B process to finish... <strong style=\"color:green\">(success).</strong>"
      ],
      "text/plain": [
       "<IPython.core.display.HTML object>"
      ]
     },
     "metadata": {},
     "output_type": "display_data"
    },
    {
     "data": {
      "text/html": [
       "<style>\n",
       "    table.wandb td:nth-child(1) { padding: 0 10px; text-align: left ; width: auto;} td:nth-child(2) {text-align: left ; width: 100%}\n",
       "    .wandb-row { display: flex; flex-direction: row; flex-wrap: wrap; justify-content: flex-start; width: 100% }\n",
       "    .wandb-col { display: flex; flex-direction: column; flex-basis: 100%; flex: 1; padding: 10px; }\n",
       "    </style>\n",
       "<div class=\"wandb-row\"><div class=\"wandb-col\"><h3>Run history:</h3><br/><table class=\"wandb\"><tr><td>validatoin_auc</td><td>███▁█</td></tr></table><br/></div><div class=\"wandb-col\"><h3>Run summary:</h3><br/><table class=\"wandb\"><tr><td>validatoin_auc</td><td>0.99388</td></tr></table><br/></div></div>"
      ],
      "text/plain": [
       "<IPython.core.display.HTML object>"
      ]
     },
     "metadata": {},
     "output_type": "display_data"
    },
    {
     "data": {
      "text/html": [
       " View run <strong style=\"color:#cdcd00\">cerulean-sweep-117</strong> at: <a href='https://wandb.ai/peng_sun/llm-2023-SGD-hyperparameter/runs/wjx1i1o8' target=\"_blank\">https://wandb.ai/peng_sun/llm-2023-SGD-hyperparameter/runs/wjx1i1o8</a><br/>Synced 5 W&B file(s), 0 media file(s), 0 artifact file(s) and 0 other file(s)"
      ],
      "text/plain": [
       "<IPython.core.display.HTML object>"
      ]
     },
     "metadata": {},
     "output_type": "display_data"
    },
    {
     "data": {
      "text/html": [
       "Find logs at: <code>./wandb/run-20240104_205914-wjx1i1o8/logs</code>"
      ],
      "text/plain": [
       "<IPython.core.display.HTML object>"
      ]
     },
     "metadata": {},
     "output_type": "display_data"
    },
    {
     "name": "stderr",
     "output_type": "stream",
     "text": [
      "\u001b[34m\u001b[1mwandb\u001b[0m: Agent Starting Run: pm7hqgb4 with config:\n",
      "\u001b[34m\u001b[1mwandb\u001b[0m: \talpha: 0.00010392189172623716\n",
      "\u001b[34m\u001b[1mwandb\u001b[0m: \teta0: 0.03670049931502241\n",
      "\u001b[34m\u001b[1mwandb\u001b[0m: \tloss: modified_huber\n",
      "\u001b[34m\u001b[1mwandb\u001b[0m: \tmax_iter: 5358\n",
      "Failed to detect the name of this notebook, you can set it manually with the WANDB_NOTEBOOK_NAME environment variable to enable code saving.\n"
     ]
    },
    {
     "data": {
      "text/html": [
       "wandb version 0.16.1 is available!  To upgrade, please run:\n",
       " $ pip install wandb --upgrade"
      ],
      "text/plain": [
       "<IPython.core.display.HTML object>"
      ]
     },
     "metadata": {},
     "output_type": "display_data"
    },
    {
     "data": {
      "text/html": [
       "Tracking run with wandb version 0.15.11"
      ],
      "text/plain": [
       "<IPython.core.display.HTML object>"
      ]
     },
     "metadata": {},
     "output_type": "display_data"
    },
    {
     "data": {
      "text/html": [
       "Run data is saved locally in <code>/home/peng_sun2/workspace/llm-2023/wandb/run-20240104_205939-pm7hqgb4</code>"
      ],
      "text/plain": [
       "<IPython.core.display.HTML object>"
      ]
     },
     "metadata": {},
     "output_type": "display_data"
    },
    {
     "data": {
      "text/html": [
       "Syncing run <strong><a href='https://wandb.ai/peng_sun/llm-2023-SGD-hyperparameter/runs/pm7hqgb4' target=\"_blank\">ethereal-sweep-118</a></strong> to <a href='https://wandb.ai/peng_sun/llm-2023-SGD-hyperparameter' target=\"_blank\">Weights & Biases</a> (<a href='https://wandb.me/run' target=\"_blank\">docs</a>)<br/>Sweep page: <a href='https://wandb.ai/peng_sun/llm-2023-SGD-hyperparameter/sweeps/wyi8yb2f' target=\"_blank\">https://wandb.ai/peng_sun/llm-2023-SGD-hyperparameter/sweeps/wyi8yb2f</a>"
      ],
      "text/plain": [
       "<IPython.core.display.HTML object>"
      ]
     },
     "metadata": {},
     "output_type": "display_data"
    },
    {
     "data": {
      "text/html": [
       " View project at <a href='https://wandb.ai/peng_sun/llm-2023-SGD-hyperparameter' target=\"_blank\">https://wandb.ai/peng_sun/llm-2023-SGD-hyperparameter</a>"
      ],
      "text/plain": [
       "<IPython.core.display.HTML object>"
      ]
     },
     "metadata": {},
     "output_type": "display_data"
    },
    {
     "data": {
      "text/html": [
       " View sweep at <a href='https://wandb.ai/peng_sun/llm-2023-SGD-hyperparameter/sweeps/wyi8yb2f' target=\"_blank\">https://wandb.ai/peng_sun/llm-2023-SGD-hyperparameter/sweeps/wyi8yb2f</a>"
      ],
      "text/plain": [
       "<IPython.core.display.HTML object>"
      ]
     },
     "metadata": {},
     "output_type": "display_data"
    },
    {
     "data": {
      "text/html": [
       " View run at <a href='https://wandb.ai/peng_sun/llm-2023-SGD-hyperparameter/runs/pm7hqgb4' target=\"_blank\">https://wandb.ai/peng_sun/llm-2023-SGD-hyperparameter/runs/pm7hqgb4</a>"
      ],
      "text/plain": [
       "<IPython.core.display.HTML object>"
      ]
     },
     "metadata": {},
     "output_type": "display_data"
    },
    {
     "data": {
      "text/html": [
       "Waiting for W&B process to finish... <strong style=\"color:green\">(success).</strong>"
      ],
      "text/plain": [
       "<IPython.core.display.HTML object>"
      ]
     },
     "metadata": {},
     "output_type": "display_data"
    },
    {
     "data": {
      "application/vnd.jupyter.widget-view+json": {
       "model_id": "e41100c80ad4478d8c88969fdd2c7bf3",
       "version_major": 2,
       "version_minor": 0
      },
      "text/plain": [
       "VBox(children=(Label(value='0.016 MB of 0.016 MB uploaded (0.000 MB deduped)\\r'), FloatProgress(value=1.0, max…"
      ]
     },
     "metadata": {},
     "output_type": "display_data"
    },
    {
     "data": {
      "text/html": [
       "<style>\n",
       "    table.wandb td:nth-child(1) { padding: 0 10px; text-align: left ; width: auto;} td:nth-child(2) {text-align: left ; width: 100%}\n",
       "    .wandb-row { display: flex; flex-direction: row; flex-wrap: wrap; justify-content: flex-start; width: 100% }\n",
       "    .wandb-col { display: flex; flex-direction: column; flex-basis: 100%; flex: 1; padding: 10px; }\n",
       "    </style>\n",
       "<div class=\"wandb-row\"><div class=\"wandb-col\"><h3>Run history:</h3><br/><table class=\"wandb\"><tr><td>validatoin_auc</td><td>███▁█</td></tr></table><br/></div><div class=\"wandb-col\"><h3>Run summary:</h3><br/><table class=\"wandb\"><tr><td>validatoin_auc</td><td>0.99421</td></tr></table><br/></div></div>"
      ],
      "text/plain": [
       "<IPython.core.display.HTML object>"
      ]
     },
     "metadata": {},
     "output_type": "display_data"
    },
    {
     "data": {
      "text/html": [
       " View run <strong style=\"color:#cdcd00\">ethereal-sweep-118</strong> at: <a href='https://wandb.ai/peng_sun/llm-2023-SGD-hyperparameter/runs/pm7hqgb4' target=\"_blank\">https://wandb.ai/peng_sun/llm-2023-SGD-hyperparameter/runs/pm7hqgb4</a><br/>Synced 5 W&B file(s), 0 media file(s), 0 artifact file(s) and 0 other file(s)"
      ],
      "text/plain": [
       "<IPython.core.display.HTML object>"
      ]
     },
     "metadata": {},
     "output_type": "display_data"
    },
    {
     "data": {
      "text/html": [
       "Find logs at: <code>./wandb/run-20240104_205939-pm7hqgb4/logs</code>"
      ],
      "text/plain": [
       "<IPython.core.display.HTML object>"
      ]
     },
     "metadata": {},
     "output_type": "display_data"
    },
    {
     "name": "stderr",
     "output_type": "stream",
     "text": [
      "\u001b[34m\u001b[1mwandb\u001b[0m: Agent Starting Run: lh651xql with config:\n",
      "\u001b[34m\u001b[1mwandb\u001b[0m: \talpha: 0.0001628295268234922\n",
      "\u001b[34m\u001b[1mwandb\u001b[0m: \teta0: 0.011439051605302815\n",
      "\u001b[34m\u001b[1mwandb\u001b[0m: \tloss: modified_huber\n",
      "\u001b[34m\u001b[1mwandb\u001b[0m: \tmax_iter: 1894\n",
      "Failed to detect the name of this notebook, you can set it manually with the WANDB_NOTEBOOK_NAME environment variable to enable code saving.\n"
     ]
    },
    {
     "data": {
      "text/html": [
       "wandb version 0.16.1 is available!  To upgrade, please run:\n",
       " $ pip install wandb --upgrade"
      ],
      "text/plain": [
       "<IPython.core.display.HTML object>"
      ]
     },
     "metadata": {},
     "output_type": "display_data"
    },
    {
     "data": {
      "text/html": [
       "Tracking run with wandb version 0.15.11"
      ],
      "text/plain": [
       "<IPython.core.display.HTML object>"
      ]
     },
     "metadata": {},
     "output_type": "display_data"
    },
    {
     "data": {
      "text/html": [
       "Run data is saved locally in <code>/home/peng_sun2/workspace/llm-2023/wandb/run-20240104_210005-lh651xql</code>"
      ],
      "text/plain": [
       "<IPython.core.display.HTML object>"
      ]
     },
     "metadata": {},
     "output_type": "display_data"
    },
    {
     "data": {
      "text/html": [
       "Syncing run <strong><a href='https://wandb.ai/peng_sun/llm-2023-SGD-hyperparameter/runs/lh651xql' target=\"_blank\">toasty-sweep-119</a></strong> to <a href='https://wandb.ai/peng_sun/llm-2023-SGD-hyperparameter' target=\"_blank\">Weights & Biases</a> (<a href='https://wandb.me/run' target=\"_blank\">docs</a>)<br/>Sweep page: <a href='https://wandb.ai/peng_sun/llm-2023-SGD-hyperparameter/sweeps/wyi8yb2f' target=\"_blank\">https://wandb.ai/peng_sun/llm-2023-SGD-hyperparameter/sweeps/wyi8yb2f</a>"
      ],
      "text/plain": [
       "<IPython.core.display.HTML object>"
      ]
     },
     "metadata": {},
     "output_type": "display_data"
    },
    {
     "data": {
      "text/html": [
       " View project at <a href='https://wandb.ai/peng_sun/llm-2023-SGD-hyperparameter' target=\"_blank\">https://wandb.ai/peng_sun/llm-2023-SGD-hyperparameter</a>"
      ],
      "text/plain": [
       "<IPython.core.display.HTML object>"
      ]
     },
     "metadata": {},
     "output_type": "display_data"
    },
    {
     "data": {
      "text/html": [
       " View sweep at <a href='https://wandb.ai/peng_sun/llm-2023-SGD-hyperparameter/sweeps/wyi8yb2f' target=\"_blank\">https://wandb.ai/peng_sun/llm-2023-SGD-hyperparameter/sweeps/wyi8yb2f</a>"
      ],
      "text/plain": [
       "<IPython.core.display.HTML object>"
      ]
     },
     "metadata": {},
     "output_type": "display_data"
    },
    {
     "data": {
      "text/html": [
       " View run at <a href='https://wandb.ai/peng_sun/llm-2023-SGD-hyperparameter/runs/lh651xql' target=\"_blank\">https://wandb.ai/peng_sun/llm-2023-SGD-hyperparameter/runs/lh651xql</a>"
      ],
      "text/plain": [
       "<IPython.core.display.HTML object>"
      ]
     },
     "metadata": {},
     "output_type": "display_data"
    },
    {
     "data": {
      "text/html": [
       "Waiting for W&B process to finish... <strong style=\"color:green\">(success).</strong>"
      ],
      "text/plain": [
       "<IPython.core.display.HTML object>"
      ]
     },
     "metadata": {},
     "output_type": "display_data"
    },
    {
     "data": {
      "text/html": [
       "<style>\n",
       "    table.wandb td:nth-child(1) { padding: 0 10px; text-align: left ; width: auto;} td:nth-child(2) {text-align: left ; width: 100%}\n",
       "    .wandb-row { display: flex; flex-direction: row; flex-wrap: wrap; justify-content: flex-start; width: 100% }\n",
       "    .wandb-col { display: flex; flex-direction: column; flex-basis: 100%; flex: 1; padding: 10px; }\n",
       "    </style>\n",
       "<div class=\"wandb-row\"><div class=\"wandb-col\"><h3>Run history:</h3><br/><table class=\"wandb\"><tr><td>validatoin_auc</td><td>███▁█</td></tr></table><br/></div><div class=\"wandb-col\"><h3>Run summary:</h3><br/><table class=\"wandb\"><tr><td>validatoin_auc</td><td>0.99378</td></tr></table><br/></div></div>"
      ],
      "text/plain": [
       "<IPython.core.display.HTML object>"
      ]
     },
     "metadata": {},
     "output_type": "display_data"
    },
    {
     "data": {
      "text/html": [
       " View run <strong style=\"color:#cdcd00\">toasty-sweep-119</strong> at: <a href='https://wandb.ai/peng_sun/llm-2023-SGD-hyperparameter/runs/lh651xql' target=\"_blank\">https://wandb.ai/peng_sun/llm-2023-SGD-hyperparameter/runs/lh651xql</a><br/>Synced 5 W&B file(s), 0 media file(s), 0 artifact file(s) and 0 other file(s)"
      ],
      "text/plain": [
       "<IPython.core.display.HTML object>"
      ]
     },
     "metadata": {},
     "output_type": "display_data"
    },
    {
     "data": {
      "text/html": [
       "Find logs at: <code>./wandb/run-20240104_210005-lh651xql/logs</code>"
      ],
      "text/plain": [
       "<IPython.core.display.HTML object>"
      ]
     },
     "metadata": {},
     "output_type": "display_data"
    },
    {
     "name": "stderr",
     "output_type": "stream",
     "text": [
      "\u001b[34m\u001b[1mwandb\u001b[0m: Sweep Agent: Waiting for job.\n",
      "\u001b[34m\u001b[1mwandb\u001b[0m: Job received.\n",
      "\u001b[34m\u001b[1mwandb\u001b[0m: Agent Starting Run: naxqx39k with config:\n",
      "\u001b[34m\u001b[1mwandb\u001b[0m: \talpha: 0.00015357620798580143\n",
      "\u001b[34m\u001b[1mwandb\u001b[0m: \teta0: 0.022245727518253235\n",
      "\u001b[34m\u001b[1mwandb\u001b[0m: \tloss: modified_huber\n",
      "\u001b[34m\u001b[1mwandb\u001b[0m: \tmax_iter: 6628\n",
      "Failed to detect the name of this notebook, you can set it manually with the WANDB_NOTEBOOK_NAME environment variable to enable code saving.\n"
     ]
    },
    {
     "data": {
      "text/html": [
       "wandb version 0.16.1 is available!  To upgrade, please run:\n",
       " $ pip install wandb --upgrade"
      ],
      "text/plain": [
       "<IPython.core.display.HTML object>"
      ]
     },
     "metadata": {},
     "output_type": "display_data"
    },
    {
     "data": {
      "text/html": [
       "Tracking run with wandb version 0.15.11"
      ],
      "text/plain": [
       "<IPython.core.display.HTML object>"
      ]
     },
     "metadata": {},
     "output_type": "display_data"
    },
    {
     "data": {
      "text/html": [
       "Run data is saved locally in <code>/home/peng_sun2/workspace/llm-2023/wandb/run-20240104_210036-naxqx39k</code>"
      ],
      "text/plain": [
       "<IPython.core.display.HTML object>"
      ]
     },
     "metadata": {},
     "output_type": "display_data"
    },
    {
     "data": {
      "text/html": [
       "Syncing run <strong><a href='https://wandb.ai/peng_sun/llm-2023-SGD-hyperparameter/runs/naxqx39k' target=\"_blank\">snowy-sweep-120</a></strong> to <a href='https://wandb.ai/peng_sun/llm-2023-SGD-hyperparameter' target=\"_blank\">Weights & Biases</a> (<a href='https://wandb.me/run' target=\"_blank\">docs</a>)<br/>Sweep page: <a href='https://wandb.ai/peng_sun/llm-2023-SGD-hyperparameter/sweeps/wyi8yb2f' target=\"_blank\">https://wandb.ai/peng_sun/llm-2023-SGD-hyperparameter/sweeps/wyi8yb2f</a>"
      ],
      "text/plain": [
       "<IPython.core.display.HTML object>"
      ]
     },
     "metadata": {},
     "output_type": "display_data"
    },
    {
     "data": {
      "text/html": [
       " View project at <a href='https://wandb.ai/peng_sun/llm-2023-SGD-hyperparameter' target=\"_blank\">https://wandb.ai/peng_sun/llm-2023-SGD-hyperparameter</a>"
      ],
      "text/plain": [
       "<IPython.core.display.HTML object>"
      ]
     },
     "metadata": {},
     "output_type": "display_data"
    },
    {
     "data": {
      "text/html": [
       " View sweep at <a href='https://wandb.ai/peng_sun/llm-2023-SGD-hyperparameter/sweeps/wyi8yb2f' target=\"_blank\">https://wandb.ai/peng_sun/llm-2023-SGD-hyperparameter/sweeps/wyi8yb2f</a>"
      ],
      "text/plain": [
       "<IPython.core.display.HTML object>"
      ]
     },
     "metadata": {},
     "output_type": "display_data"
    },
    {
     "data": {
      "text/html": [
       " View run at <a href='https://wandb.ai/peng_sun/llm-2023-SGD-hyperparameter/runs/naxqx39k' target=\"_blank\">https://wandb.ai/peng_sun/llm-2023-SGD-hyperparameter/runs/naxqx39k</a>"
      ],
      "text/plain": [
       "<IPython.core.display.HTML object>"
      ]
     },
     "metadata": {},
     "output_type": "display_data"
    },
    {
     "data": {
      "text/html": [
       "Waiting for W&B process to finish... <strong style=\"color:green\">(success).</strong>"
      ],
      "text/plain": [
       "<IPython.core.display.HTML object>"
      ]
     },
     "metadata": {},
     "output_type": "display_data"
    },
    {
     "data": {
      "text/html": [
       "<style>\n",
       "    table.wandb td:nth-child(1) { padding: 0 10px; text-align: left ; width: auto;} td:nth-child(2) {text-align: left ; width: 100%}\n",
       "    .wandb-row { display: flex; flex-direction: row; flex-wrap: wrap; justify-content: flex-start; width: 100% }\n",
       "    .wandb-col { display: flex; flex-direction: column; flex-basis: 100%; flex: 1; padding: 10px; }\n",
       "    </style>\n",
       "<div class=\"wandb-row\"><div class=\"wandb-col\"><h3>Run history:</h3><br/><table class=\"wandb\"><tr><td>validatoin_auc</td><td>███▁█</td></tr></table><br/></div><div class=\"wandb-col\"><h3>Run summary:</h3><br/><table class=\"wandb\"><tr><td>validatoin_auc</td><td>0.99371</td></tr></table><br/></div></div>"
      ],
      "text/plain": [
       "<IPython.core.display.HTML object>"
      ]
     },
     "metadata": {},
     "output_type": "display_data"
    },
    {
     "data": {
      "text/html": [
       " View run <strong style=\"color:#cdcd00\">snowy-sweep-120</strong> at: <a href='https://wandb.ai/peng_sun/llm-2023-SGD-hyperparameter/runs/naxqx39k' target=\"_blank\">https://wandb.ai/peng_sun/llm-2023-SGD-hyperparameter/runs/naxqx39k</a><br/>Synced 5 W&B file(s), 0 media file(s), 0 artifact file(s) and 0 other file(s)"
      ],
      "text/plain": [
       "<IPython.core.display.HTML object>"
      ]
     },
     "metadata": {},
     "output_type": "display_data"
    },
    {
     "data": {
      "text/html": [
       "Find logs at: <code>./wandb/run-20240104_210036-naxqx39k/logs</code>"
      ],
      "text/plain": [
       "<IPython.core.display.HTML object>"
      ]
     },
     "metadata": {},
     "output_type": "display_data"
    },
    {
     "name": "stderr",
     "output_type": "stream",
     "text": [
      "\u001b[34m\u001b[1mwandb\u001b[0m: Agent Starting Run: 6iaklchv with config:\n",
      "\u001b[34m\u001b[1mwandb\u001b[0m: \talpha: 0.00013147833255671836\n",
      "\u001b[34m\u001b[1mwandb\u001b[0m: \teta0: 0.032195503311610064\n",
      "\u001b[34m\u001b[1mwandb\u001b[0m: \tloss: modified_huber\n",
      "\u001b[34m\u001b[1mwandb\u001b[0m: \tmax_iter: 7986\n",
      "Failed to detect the name of this notebook, you can set it manually with the WANDB_NOTEBOOK_NAME environment variable to enable code saving.\n"
     ]
    },
    {
     "data": {
      "text/html": [
       "wandb version 0.16.1 is available!  To upgrade, please run:\n",
       " $ pip install wandb --upgrade"
      ],
      "text/plain": [
       "<IPython.core.display.HTML object>"
      ]
     },
     "metadata": {},
     "output_type": "display_data"
    },
    {
     "data": {
      "text/html": [
       "Tracking run with wandb version 0.15.11"
      ],
      "text/plain": [
       "<IPython.core.display.HTML object>"
      ]
     },
     "metadata": {},
     "output_type": "display_data"
    },
    {
     "data": {
      "text/html": [
       "Run data is saved locally in <code>/home/peng_sun2/workspace/llm-2023/wandb/run-20240104_210102-6iaklchv</code>"
      ],
      "text/plain": [
       "<IPython.core.display.HTML object>"
      ]
     },
     "metadata": {},
     "output_type": "display_data"
    },
    {
     "data": {
      "text/html": [
       "Syncing run <strong><a href='https://wandb.ai/peng_sun/llm-2023-SGD-hyperparameter/runs/6iaklchv' target=\"_blank\">avid-sweep-121</a></strong> to <a href='https://wandb.ai/peng_sun/llm-2023-SGD-hyperparameter' target=\"_blank\">Weights & Biases</a> (<a href='https://wandb.me/run' target=\"_blank\">docs</a>)<br/>Sweep page: <a href='https://wandb.ai/peng_sun/llm-2023-SGD-hyperparameter/sweeps/wyi8yb2f' target=\"_blank\">https://wandb.ai/peng_sun/llm-2023-SGD-hyperparameter/sweeps/wyi8yb2f</a>"
      ],
      "text/plain": [
       "<IPython.core.display.HTML object>"
      ]
     },
     "metadata": {},
     "output_type": "display_data"
    },
    {
     "data": {
      "text/html": [
       " View project at <a href='https://wandb.ai/peng_sun/llm-2023-SGD-hyperparameter' target=\"_blank\">https://wandb.ai/peng_sun/llm-2023-SGD-hyperparameter</a>"
      ],
      "text/plain": [
       "<IPython.core.display.HTML object>"
      ]
     },
     "metadata": {},
     "output_type": "display_data"
    },
    {
     "data": {
      "text/html": [
       " View sweep at <a href='https://wandb.ai/peng_sun/llm-2023-SGD-hyperparameter/sweeps/wyi8yb2f' target=\"_blank\">https://wandb.ai/peng_sun/llm-2023-SGD-hyperparameter/sweeps/wyi8yb2f</a>"
      ],
      "text/plain": [
       "<IPython.core.display.HTML object>"
      ]
     },
     "metadata": {},
     "output_type": "display_data"
    },
    {
     "data": {
      "text/html": [
       " View run at <a href='https://wandb.ai/peng_sun/llm-2023-SGD-hyperparameter/runs/6iaklchv' target=\"_blank\">https://wandb.ai/peng_sun/llm-2023-SGD-hyperparameter/runs/6iaklchv</a>"
      ],
      "text/plain": [
       "<IPython.core.display.HTML object>"
      ]
     },
     "metadata": {},
     "output_type": "display_data"
    },
    {
     "data": {
      "text/html": [
       "Waiting for W&B process to finish... <strong style=\"color:green\">(success).</strong>"
      ],
      "text/plain": [
       "<IPython.core.display.HTML object>"
      ]
     },
     "metadata": {},
     "output_type": "display_data"
    },
    {
     "data": {
      "text/html": [
       "<style>\n",
       "    table.wandb td:nth-child(1) { padding: 0 10px; text-align: left ; width: auto;} td:nth-child(2) {text-align: left ; width: 100%}\n",
       "    .wandb-row { display: flex; flex-direction: row; flex-wrap: wrap; justify-content: flex-start; width: 100% }\n",
       "    .wandb-col { display: flex; flex-direction: column; flex-basis: 100%; flex: 1; padding: 10px; }\n",
       "    </style>\n",
       "<div class=\"wandb-row\"><div class=\"wandb-col\"><h3>Run history:</h3><br/><table class=\"wandb\"><tr><td>validatoin_auc</td><td>███▁█</td></tr></table><br/></div><div class=\"wandb-col\"><h3>Run summary:</h3><br/><table class=\"wandb\"><tr><td>validatoin_auc</td><td>0.99384</td></tr></table><br/></div></div>"
      ],
      "text/plain": [
       "<IPython.core.display.HTML object>"
      ]
     },
     "metadata": {},
     "output_type": "display_data"
    },
    {
     "data": {
      "text/html": [
       " View run <strong style=\"color:#cdcd00\">avid-sweep-121</strong> at: <a href='https://wandb.ai/peng_sun/llm-2023-SGD-hyperparameter/runs/6iaklchv' target=\"_blank\">https://wandb.ai/peng_sun/llm-2023-SGD-hyperparameter/runs/6iaklchv</a><br/>Synced 5 W&B file(s), 0 media file(s), 0 artifact file(s) and 0 other file(s)"
      ],
      "text/plain": [
       "<IPython.core.display.HTML object>"
      ]
     },
     "metadata": {},
     "output_type": "display_data"
    },
    {
     "data": {
      "text/html": [
       "Find logs at: <code>./wandb/run-20240104_210102-6iaklchv/logs</code>"
      ],
      "text/plain": [
       "<IPython.core.display.HTML object>"
      ]
     },
     "metadata": {},
     "output_type": "display_data"
    },
    {
     "name": "stderr",
     "output_type": "stream",
     "text": [
      "\u001b[34m\u001b[1mwandb\u001b[0m: Agent Starting Run: lvlqlg2h with config:\n",
      "\u001b[34m\u001b[1mwandb\u001b[0m: \talpha: 0.00032965987180441083\n",
      "\u001b[34m\u001b[1mwandb\u001b[0m: \teta0: 0.09049340347040156\n",
      "\u001b[34m\u001b[1mwandb\u001b[0m: \tloss: modified_huber\n",
      "\u001b[34m\u001b[1mwandb\u001b[0m: \tmax_iter: 2403\n",
      "Failed to detect the name of this notebook, you can set it manually with the WANDB_NOTEBOOK_NAME environment variable to enable code saving.\n"
     ]
    },
    {
     "data": {
      "text/html": [
       "wandb version 0.16.1 is available!  To upgrade, please run:\n",
       " $ pip install wandb --upgrade"
      ],
      "text/plain": [
       "<IPython.core.display.HTML object>"
      ]
     },
     "metadata": {},
     "output_type": "display_data"
    },
    {
     "data": {
      "text/html": [
       "Tracking run with wandb version 0.15.11"
      ],
      "text/plain": [
       "<IPython.core.display.HTML object>"
      ]
     },
     "metadata": {},
     "output_type": "display_data"
    },
    {
     "data": {
      "text/html": [
       "Run data is saved locally in <code>/home/peng_sun2/workspace/llm-2023/wandb/run-20240104_210127-lvlqlg2h</code>"
      ],
      "text/plain": [
       "<IPython.core.display.HTML object>"
      ]
     },
     "metadata": {},
     "output_type": "display_data"
    },
    {
     "data": {
      "text/html": [
       "Syncing run <strong><a href='https://wandb.ai/peng_sun/llm-2023-SGD-hyperparameter/runs/lvlqlg2h' target=\"_blank\">super-sweep-122</a></strong> to <a href='https://wandb.ai/peng_sun/llm-2023-SGD-hyperparameter' target=\"_blank\">Weights & Biases</a> (<a href='https://wandb.me/run' target=\"_blank\">docs</a>)<br/>Sweep page: <a href='https://wandb.ai/peng_sun/llm-2023-SGD-hyperparameter/sweeps/wyi8yb2f' target=\"_blank\">https://wandb.ai/peng_sun/llm-2023-SGD-hyperparameter/sweeps/wyi8yb2f</a>"
      ],
      "text/plain": [
       "<IPython.core.display.HTML object>"
      ]
     },
     "metadata": {},
     "output_type": "display_data"
    },
    {
     "data": {
      "text/html": [
       " View project at <a href='https://wandb.ai/peng_sun/llm-2023-SGD-hyperparameter' target=\"_blank\">https://wandb.ai/peng_sun/llm-2023-SGD-hyperparameter</a>"
      ],
      "text/plain": [
       "<IPython.core.display.HTML object>"
      ]
     },
     "metadata": {},
     "output_type": "display_data"
    },
    {
     "data": {
      "text/html": [
       " View sweep at <a href='https://wandb.ai/peng_sun/llm-2023-SGD-hyperparameter/sweeps/wyi8yb2f' target=\"_blank\">https://wandb.ai/peng_sun/llm-2023-SGD-hyperparameter/sweeps/wyi8yb2f</a>"
      ],
      "text/plain": [
       "<IPython.core.display.HTML object>"
      ]
     },
     "metadata": {},
     "output_type": "display_data"
    },
    {
     "data": {
      "text/html": [
       " View run at <a href='https://wandb.ai/peng_sun/llm-2023-SGD-hyperparameter/runs/lvlqlg2h' target=\"_blank\">https://wandb.ai/peng_sun/llm-2023-SGD-hyperparameter/runs/lvlqlg2h</a>"
      ],
      "text/plain": [
       "<IPython.core.display.HTML object>"
      ]
     },
     "metadata": {},
     "output_type": "display_data"
    },
    {
     "data": {
      "text/html": [
       "Waiting for W&B process to finish... <strong style=\"color:green\">(success).</strong>"
      ],
      "text/plain": [
       "<IPython.core.display.HTML object>"
      ]
     },
     "metadata": {},
     "output_type": "display_data"
    },
    {
     "data": {
      "text/html": [
       "<style>\n",
       "    table.wandb td:nth-child(1) { padding: 0 10px; text-align: left ; width: auto;} td:nth-child(2) {text-align: left ; width: 100%}\n",
       "    .wandb-row { display: flex; flex-direction: row; flex-wrap: wrap; justify-content: flex-start; width: 100% }\n",
       "    .wandb-col { display: flex; flex-direction: column; flex-basis: 100%; flex: 1; padding: 10px; }\n",
       "    </style>\n",
       "<div class=\"wandb-row\"><div class=\"wandb-col\"><h3>Run history:</h3><br/><table class=\"wandb\"><tr><td>validatoin_auc</td><td>███▁█</td></tr></table><br/></div><div class=\"wandb-col\"><h3>Run summary:</h3><br/><table class=\"wandb\"><tr><td>validatoin_auc</td><td>0.99228</td></tr></table><br/></div></div>"
      ],
      "text/plain": [
       "<IPython.core.display.HTML object>"
      ]
     },
     "metadata": {},
     "output_type": "display_data"
    },
    {
     "data": {
      "text/html": [
       " View run <strong style=\"color:#cdcd00\">super-sweep-122</strong> at: <a href='https://wandb.ai/peng_sun/llm-2023-SGD-hyperparameter/runs/lvlqlg2h' target=\"_blank\">https://wandb.ai/peng_sun/llm-2023-SGD-hyperparameter/runs/lvlqlg2h</a><br/>Synced 5 W&B file(s), 0 media file(s), 0 artifact file(s) and 0 other file(s)"
      ],
      "text/plain": [
       "<IPython.core.display.HTML object>"
      ]
     },
     "metadata": {},
     "output_type": "display_data"
    },
    {
     "data": {
      "text/html": [
       "Find logs at: <code>./wandb/run-20240104_210127-lvlqlg2h/logs</code>"
      ],
      "text/plain": [
       "<IPython.core.display.HTML object>"
      ]
     },
     "metadata": {},
     "output_type": "display_data"
    },
    {
     "name": "stderr",
     "output_type": "stream",
     "text": [
      "\u001b[34m\u001b[1mwandb\u001b[0m: Agent Starting Run: fd5tu78p with config:\n",
      "\u001b[34m\u001b[1mwandb\u001b[0m: \talpha: 0.00042148590484787873\n",
      "\u001b[34m\u001b[1mwandb\u001b[0m: \teta0: 0.0967857341073338\n",
      "\u001b[34m\u001b[1mwandb\u001b[0m: \tloss: modified_huber\n",
      "\u001b[34m\u001b[1mwandb\u001b[0m: \tmax_iter: 1934\n",
      "Failed to detect the name of this notebook, you can set it manually with the WANDB_NOTEBOOK_NAME environment variable to enable code saving.\n"
     ]
    },
    {
     "data": {
      "text/html": [
       "wandb version 0.16.1 is available!  To upgrade, please run:\n",
       " $ pip install wandb --upgrade"
      ],
      "text/plain": [
       "<IPython.core.display.HTML object>"
      ]
     },
     "metadata": {},
     "output_type": "display_data"
    },
    {
     "data": {
      "text/html": [
       "Tracking run with wandb version 0.15.11"
      ],
      "text/plain": [
       "<IPython.core.display.HTML object>"
      ]
     },
     "metadata": {},
     "output_type": "display_data"
    },
    {
     "data": {
      "text/html": [
       "Run data is saved locally in <code>/home/peng_sun2/workspace/llm-2023/wandb/run-20240104_210153-fd5tu78p</code>"
      ],
      "text/plain": [
       "<IPython.core.display.HTML object>"
      ]
     },
     "metadata": {},
     "output_type": "display_data"
    },
    {
     "data": {
      "text/html": [
       "Syncing run <strong><a href='https://wandb.ai/peng_sun/llm-2023-SGD-hyperparameter/runs/fd5tu78p' target=\"_blank\">robust-sweep-123</a></strong> to <a href='https://wandb.ai/peng_sun/llm-2023-SGD-hyperparameter' target=\"_blank\">Weights & Biases</a> (<a href='https://wandb.me/run' target=\"_blank\">docs</a>)<br/>Sweep page: <a href='https://wandb.ai/peng_sun/llm-2023-SGD-hyperparameter/sweeps/wyi8yb2f' target=\"_blank\">https://wandb.ai/peng_sun/llm-2023-SGD-hyperparameter/sweeps/wyi8yb2f</a>"
      ],
      "text/plain": [
       "<IPython.core.display.HTML object>"
      ]
     },
     "metadata": {},
     "output_type": "display_data"
    },
    {
     "data": {
      "text/html": [
       " View project at <a href='https://wandb.ai/peng_sun/llm-2023-SGD-hyperparameter' target=\"_blank\">https://wandb.ai/peng_sun/llm-2023-SGD-hyperparameter</a>"
      ],
      "text/plain": [
       "<IPython.core.display.HTML object>"
      ]
     },
     "metadata": {},
     "output_type": "display_data"
    },
    {
     "data": {
      "text/html": [
       " View sweep at <a href='https://wandb.ai/peng_sun/llm-2023-SGD-hyperparameter/sweeps/wyi8yb2f' target=\"_blank\">https://wandb.ai/peng_sun/llm-2023-SGD-hyperparameter/sweeps/wyi8yb2f</a>"
      ],
      "text/plain": [
       "<IPython.core.display.HTML object>"
      ]
     },
     "metadata": {},
     "output_type": "display_data"
    },
    {
     "data": {
      "text/html": [
       " View run at <a href='https://wandb.ai/peng_sun/llm-2023-SGD-hyperparameter/runs/fd5tu78p' target=\"_blank\">https://wandb.ai/peng_sun/llm-2023-SGD-hyperparameter/runs/fd5tu78p</a>"
      ],
      "text/plain": [
       "<IPython.core.display.HTML object>"
      ]
     },
     "metadata": {},
     "output_type": "display_data"
    },
    {
     "data": {
      "text/html": [
       "Waiting for W&B process to finish... <strong style=\"color:green\">(success).</strong>"
      ],
      "text/plain": [
       "<IPython.core.display.HTML object>"
      ]
     },
     "metadata": {},
     "output_type": "display_data"
    },
    {
     "data": {
      "text/html": [
       "<style>\n",
       "    table.wandb td:nth-child(1) { padding: 0 10px; text-align: left ; width: auto;} td:nth-child(2) {text-align: left ; width: 100%}\n",
       "    .wandb-row { display: flex; flex-direction: row; flex-wrap: wrap; justify-content: flex-start; width: 100% }\n",
       "    .wandb-col { display: flex; flex-direction: column; flex-basis: 100%; flex: 1; padding: 10px; }\n",
       "    </style>\n",
       "<div class=\"wandb-row\"><div class=\"wandb-col\"><h3>Run history:</h3><br/><table class=\"wandb\"><tr><td>validatoin_auc</td><td>███▁█</td></tr></table><br/></div><div class=\"wandb-col\"><h3>Run summary:</h3><br/><table class=\"wandb\"><tr><td>validatoin_auc</td><td>0.9916</td></tr></table><br/></div></div>"
      ],
      "text/plain": [
       "<IPython.core.display.HTML object>"
      ]
     },
     "metadata": {},
     "output_type": "display_data"
    },
    {
     "data": {
      "text/html": [
       " View run <strong style=\"color:#cdcd00\">robust-sweep-123</strong> at: <a href='https://wandb.ai/peng_sun/llm-2023-SGD-hyperparameter/runs/fd5tu78p' target=\"_blank\">https://wandb.ai/peng_sun/llm-2023-SGD-hyperparameter/runs/fd5tu78p</a><br/>Synced 5 W&B file(s), 0 media file(s), 0 artifact file(s) and 0 other file(s)"
      ],
      "text/plain": [
       "<IPython.core.display.HTML object>"
      ]
     },
     "metadata": {},
     "output_type": "display_data"
    },
    {
     "data": {
      "text/html": [
       "Find logs at: <code>./wandb/run-20240104_210153-fd5tu78p/logs</code>"
      ],
      "text/plain": [
       "<IPython.core.display.HTML object>"
      ]
     },
     "metadata": {},
     "output_type": "display_data"
    },
    {
     "name": "stderr",
     "output_type": "stream",
     "text": [
      "\u001b[34m\u001b[1mwandb\u001b[0m: Agent Starting Run: hgvhtmkc with config:\n",
      "\u001b[34m\u001b[1mwandb\u001b[0m: \talpha: 0.00021271516048335145\n",
      "\u001b[34m\u001b[1mwandb\u001b[0m: \teta0: 0.0990763731516758\n",
      "\u001b[34m\u001b[1mwandb\u001b[0m: \tloss: modified_huber\n",
      "\u001b[34m\u001b[1mwandb\u001b[0m: \tmax_iter: 7700\n",
      "Failed to detect the name of this notebook, you can set it manually with the WANDB_NOTEBOOK_NAME environment variable to enable code saving.\n"
     ]
    },
    {
     "data": {
      "text/html": [
       "wandb version 0.16.1 is available!  To upgrade, please run:\n",
       " $ pip install wandb --upgrade"
      ],
      "text/plain": [
       "<IPython.core.display.HTML object>"
      ]
     },
     "metadata": {},
     "output_type": "display_data"
    },
    {
     "data": {
      "text/html": [
       "Tracking run with wandb version 0.15.11"
      ],
      "text/plain": [
       "<IPython.core.display.HTML object>"
      ]
     },
     "metadata": {},
     "output_type": "display_data"
    },
    {
     "data": {
      "text/html": [
       "Run data is saved locally in <code>/home/peng_sun2/workspace/llm-2023/wandb/run-20240104_210219-hgvhtmkc</code>"
      ],
      "text/plain": [
       "<IPython.core.display.HTML object>"
      ]
     },
     "metadata": {},
     "output_type": "display_data"
    },
    {
     "data": {
      "text/html": [
       "Syncing run <strong><a href='https://wandb.ai/peng_sun/llm-2023-SGD-hyperparameter/runs/hgvhtmkc' target=\"_blank\">electric-sweep-124</a></strong> to <a href='https://wandb.ai/peng_sun/llm-2023-SGD-hyperparameter' target=\"_blank\">Weights & Biases</a> (<a href='https://wandb.me/run' target=\"_blank\">docs</a>)<br/>Sweep page: <a href='https://wandb.ai/peng_sun/llm-2023-SGD-hyperparameter/sweeps/wyi8yb2f' target=\"_blank\">https://wandb.ai/peng_sun/llm-2023-SGD-hyperparameter/sweeps/wyi8yb2f</a>"
      ],
      "text/plain": [
       "<IPython.core.display.HTML object>"
      ]
     },
     "metadata": {},
     "output_type": "display_data"
    },
    {
     "data": {
      "text/html": [
       " View project at <a href='https://wandb.ai/peng_sun/llm-2023-SGD-hyperparameter' target=\"_blank\">https://wandb.ai/peng_sun/llm-2023-SGD-hyperparameter</a>"
      ],
      "text/plain": [
       "<IPython.core.display.HTML object>"
      ]
     },
     "metadata": {},
     "output_type": "display_data"
    },
    {
     "data": {
      "text/html": [
       " View sweep at <a href='https://wandb.ai/peng_sun/llm-2023-SGD-hyperparameter/sweeps/wyi8yb2f' target=\"_blank\">https://wandb.ai/peng_sun/llm-2023-SGD-hyperparameter/sweeps/wyi8yb2f</a>"
      ],
      "text/plain": [
       "<IPython.core.display.HTML object>"
      ]
     },
     "metadata": {},
     "output_type": "display_data"
    },
    {
     "data": {
      "text/html": [
       " View run at <a href='https://wandb.ai/peng_sun/llm-2023-SGD-hyperparameter/runs/hgvhtmkc' target=\"_blank\">https://wandb.ai/peng_sun/llm-2023-SGD-hyperparameter/runs/hgvhtmkc</a>"
      ],
      "text/plain": [
       "<IPython.core.display.HTML object>"
      ]
     },
     "metadata": {},
     "output_type": "display_data"
    },
    {
     "data": {
      "text/html": [
       "Waiting for W&B process to finish... <strong style=\"color:green\">(success).</strong>"
      ],
      "text/plain": [
       "<IPython.core.display.HTML object>"
      ]
     },
     "metadata": {},
     "output_type": "display_data"
    },
    {
     "data": {
      "text/html": [
       "<style>\n",
       "    table.wandb td:nth-child(1) { padding: 0 10px; text-align: left ; width: auto;} td:nth-child(2) {text-align: left ; width: 100%}\n",
       "    .wandb-row { display: flex; flex-direction: row; flex-wrap: wrap; justify-content: flex-start; width: 100% }\n",
       "    .wandb-col { display: flex; flex-direction: column; flex-basis: 100%; flex: 1; padding: 10px; }\n",
       "    </style>\n",
       "<div class=\"wandb-row\"><div class=\"wandb-col\"><h3>Run history:</h3><br/><table class=\"wandb\"><tr><td>validatoin_auc</td><td>███▁█</td></tr></table><br/></div><div class=\"wandb-col\"><h3>Run summary:</h3><br/><table class=\"wandb\"><tr><td>validatoin_auc</td><td>0.99319</td></tr></table><br/></div></div>"
      ],
      "text/plain": [
       "<IPython.core.display.HTML object>"
      ]
     },
     "metadata": {},
     "output_type": "display_data"
    },
    {
     "data": {
      "text/html": [
       " View run <strong style=\"color:#cdcd00\">electric-sweep-124</strong> at: <a href='https://wandb.ai/peng_sun/llm-2023-SGD-hyperparameter/runs/hgvhtmkc' target=\"_blank\">https://wandb.ai/peng_sun/llm-2023-SGD-hyperparameter/runs/hgvhtmkc</a><br/>Synced 5 W&B file(s), 0 media file(s), 0 artifact file(s) and 0 other file(s)"
      ],
      "text/plain": [
       "<IPython.core.display.HTML object>"
      ]
     },
     "metadata": {},
     "output_type": "display_data"
    },
    {
     "data": {
      "text/html": [
       "Find logs at: <code>./wandb/run-20240104_210219-hgvhtmkc/logs</code>"
      ],
      "text/plain": [
       "<IPython.core.display.HTML object>"
      ]
     },
     "metadata": {},
     "output_type": "display_data"
    },
    {
     "name": "stderr",
     "output_type": "stream",
     "text": [
      "\u001b[34m\u001b[1mwandb\u001b[0m: Agent Starting Run: h65ys7h3 with config:\n",
      "\u001b[34m\u001b[1mwandb\u001b[0m: \talpha: 0.00029832016190957784\n",
      "\u001b[34m\u001b[1mwandb\u001b[0m: \teta0: 0.0876175300608166\n",
      "\u001b[34m\u001b[1mwandb\u001b[0m: \tloss: hinge\n",
      "\u001b[34m\u001b[1mwandb\u001b[0m: \tmax_iter: 8854\n",
      "Failed to detect the name of this notebook, you can set it manually with the WANDB_NOTEBOOK_NAME environment variable to enable code saving.\n"
     ]
    },
    {
     "data": {
      "text/html": [
       "wandb version 0.16.1 is available!  To upgrade, please run:\n",
       " $ pip install wandb --upgrade"
      ],
      "text/plain": [
       "<IPython.core.display.HTML object>"
      ]
     },
     "metadata": {},
     "output_type": "display_data"
    },
    {
     "data": {
      "text/html": [
       "Tracking run with wandb version 0.15.11"
      ],
      "text/plain": [
       "<IPython.core.display.HTML object>"
      ]
     },
     "metadata": {},
     "output_type": "display_data"
    },
    {
     "data": {
      "text/html": [
       "Run data is saved locally in <code>/home/peng_sun2/workspace/llm-2023/wandb/run-20240104_210241-h65ys7h3</code>"
      ],
      "text/plain": [
       "<IPython.core.display.HTML object>"
      ]
     },
     "metadata": {},
     "output_type": "display_data"
    },
    {
     "data": {
      "text/html": [
       "Syncing run <strong><a href='https://wandb.ai/peng_sun/llm-2023-SGD-hyperparameter/runs/h65ys7h3' target=\"_blank\">lemon-sweep-125</a></strong> to <a href='https://wandb.ai/peng_sun/llm-2023-SGD-hyperparameter' target=\"_blank\">Weights & Biases</a> (<a href='https://wandb.me/run' target=\"_blank\">docs</a>)<br/>Sweep page: <a href='https://wandb.ai/peng_sun/llm-2023-SGD-hyperparameter/sweeps/wyi8yb2f' target=\"_blank\">https://wandb.ai/peng_sun/llm-2023-SGD-hyperparameter/sweeps/wyi8yb2f</a>"
      ],
      "text/plain": [
       "<IPython.core.display.HTML object>"
      ]
     },
     "metadata": {},
     "output_type": "display_data"
    },
    {
     "data": {
      "text/html": [
       " View project at <a href='https://wandb.ai/peng_sun/llm-2023-SGD-hyperparameter' target=\"_blank\">https://wandb.ai/peng_sun/llm-2023-SGD-hyperparameter</a>"
      ],
      "text/plain": [
       "<IPython.core.display.HTML object>"
      ]
     },
     "metadata": {},
     "output_type": "display_data"
    },
    {
     "data": {
      "text/html": [
       " View sweep at <a href='https://wandb.ai/peng_sun/llm-2023-SGD-hyperparameter/sweeps/wyi8yb2f' target=\"_blank\">https://wandb.ai/peng_sun/llm-2023-SGD-hyperparameter/sweeps/wyi8yb2f</a>"
      ],
      "text/plain": [
       "<IPython.core.display.HTML object>"
      ]
     },
     "metadata": {},
     "output_type": "display_data"
    },
    {
     "data": {
      "text/html": [
       " View run at <a href='https://wandb.ai/peng_sun/llm-2023-SGD-hyperparameter/runs/h65ys7h3' target=\"_blank\">https://wandb.ai/peng_sun/llm-2023-SGD-hyperparameter/runs/h65ys7h3</a>"
      ],
      "text/plain": [
       "<IPython.core.display.HTML object>"
      ]
     },
     "metadata": {},
     "output_type": "display_data"
    },
    {
     "name": "stderr",
     "output_type": "stream",
     "text": [
      "Traceback (most recent call last):\n",
      "  File \"/tmp/ipykernel_17738/3206656641.py\", line 24, in train_sweep\n",
      "    eval_preds = model.predict_proba(eval_X)[:, 1]\n",
      "  File \"/home/peng_sun2/.local/lib/python3.9/site-packages/sklearn/utils/_available_if.py\", line 32, in __get__\n",
      "    if not self.check(obj):\n",
      "  File \"/home/peng_sun2/.local/lib/python3.9/site-packages/sklearn/linear_model/_stochastic_gradient.py\", line 1235, in _check_proba\n",
      "    raise AttributeError(\n",
      "AttributeError: probability estimates are not available for loss='hinge'\n"
     ]
    },
    {
     "data": {
      "text/html": [
       "Waiting for W&B process to finish... <strong style=\"color:red\">(failed 1).</strong> Press Control-C to abort syncing."
      ],
      "text/plain": [
       "<IPython.core.display.HTML object>"
      ]
     },
     "metadata": {},
     "output_type": "display_data"
    },
    {
     "data": {
      "text/html": [
       " View run <strong style=\"color:#cdcd00\">lemon-sweep-125</strong> at: <a href='https://wandb.ai/peng_sun/llm-2023-SGD-hyperparameter/runs/h65ys7h3' target=\"_blank\">https://wandb.ai/peng_sun/llm-2023-SGD-hyperparameter/runs/h65ys7h3</a><br/>Synced 6 W&B file(s), 0 media file(s), 0 artifact file(s) and 0 other file(s)"
      ],
      "text/plain": [
       "<IPython.core.display.HTML object>"
      ]
     },
     "metadata": {},
     "output_type": "display_data"
    },
    {
     "data": {
      "text/html": [
       "Find logs at: <code>./wandb/run-20240104_210241-h65ys7h3/logs</code>"
      ],
      "text/plain": [
       "<IPython.core.display.HTML object>"
      ]
     },
     "metadata": {},
     "output_type": "display_data"
    },
    {
     "name": "stderr",
     "output_type": "stream",
     "text": [
      "Run h65ys7h3 errored: AttributeError(\"probability estimates are not available for loss='hinge'\")\n",
      "\u001b[34m\u001b[1mwandb\u001b[0m: \u001b[32m\u001b[41mERROR\u001b[0m Run h65ys7h3 errored: AttributeError(\"probability estimates are not available for loss='hinge'\")\n",
      "\u001b[34m\u001b[1mwandb\u001b[0m: Agent Starting Run: 4ckz8mwf with config:\n",
      "\u001b[34m\u001b[1mwandb\u001b[0m: \talpha: 0.009830874176824926\n",
      "\u001b[34m\u001b[1mwandb\u001b[0m: \teta0: 0.02951874965597112\n",
      "\u001b[34m\u001b[1mwandb\u001b[0m: \tloss: modified_huber\n",
      "\u001b[34m\u001b[1mwandb\u001b[0m: \tmax_iter: 2373\n",
      "Failed to detect the name of this notebook, you can set it manually with the WANDB_NOTEBOOK_NAME environment variable to enable code saving.\n"
     ]
    },
    {
     "data": {
      "text/html": [
       "wandb version 0.16.1 is available!  To upgrade, please run:\n",
       " $ pip install wandb --upgrade"
      ],
      "text/plain": [
       "<IPython.core.display.HTML object>"
      ]
     },
     "metadata": {},
     "output_type": "display_data"
    },
    {
     "data": {
      "text/html": [
       "Tracking run with wandb version 0.15.11"
      ],
      "text/plain": [
       "<IPython.core.display.HTML object>"
      ]
     },
     "metadata": {},
     "output_type": "display_data"
    },
    {
     "data": {
      "text/html": [
       "Run data is saved locally in <code>/home/peng_sun2/workspace/llm-2023/wandb/run-20240104_210256-4ckz8mwf</code>"
      ],
      "text/plain": [
       "<IPython.core.display.HTML object>"
      ]
     },
     "metadata": {},
     "output_type": "display_data"
    },
    {
     "data": {
      "text/html": [
       "Syncing run <strong><a href='https://wandb.ai/peng_sun/llm-2023-SGD-hyperparameter/runs/4ckz8mwf' target=\"_blank\">young-sweep-126</a></strong> to <a href='https://wandb.ai/peng_sun/llm-2023-SGD-hyperparameter' target=\"_blank\">Weights & Biases</a> (<a href='https://wandb.me/run' target=\"_blank\">docs</a>)<br/>Sweep page: <a href='https://wandb.ai/peng_sun/llm-2023-SGD-hyperparameter/sweeps/wyi8yb2f' target=\"_blank\">https://wandb.ai/peng_sun/llm-2023-SGD-hyperparameter/sweeps/wyi8yb2f</a>"
      ],
      "text/plain": [
       "<IPython.core.display.HTML object>"
      ]
     },
     "metadata": {},
     "output_type": "display_data"
    },
    {
     "data": {
      "text/html": [
       " View project at <a href='https://wandb.ai/peng_sun/llm-2023-SGD-hyperparameter' target=\"_blank\">https://wandb.ai/peng_sun/llm-2023-SGD-hyperparameter</a>"
      ],
      "text/plain": [
       "<IPython.core.display.HTML object>"
      ]
     },
     "metadata": {},
     "output_type": "display_data"
    },
    {
     "data": {
      "text/html": [
       " View sweep at <a href='https://wandb.ai/peng_sun/llm-2023-SGD-hyperparameter/sweeps/wyi8yb2f' target=\"_blank\">https://wandb.ai/peng_sun/llm-2023-SGD-hyperparameter/sweeps/wyi8yb2f</a>"
      ],
      "text/plain": [
       "<IPython.core.display.HTML object>"
      ]
     },
     "metadata": {},
     "output_type": "display_data"
    },
    {
     "data": {
      "text/html": [
       " View run at <a href='https://wandb.ai/peng_sun/llm-2023-SGD-hyperparameter/runs/4ckz8mwf' target=\"_blank\">https://wandb.ai/peng_sun/llm-2023-SGD-hyperparameter/runs/4ckz8mwf</a>"
      ],
      "text/plain": [
       "<IPython.core.display.HTML object>"
      ]
     },
     "metadata": {},
     "output_type": "display_data"
    },
    {
     "data": {
      "text/html": [
       "Waiting for W&B process to finish... <strong style=\"color:green\">(success).</strong>"
      ],
      "text/plain": [
       "<IPython.core.display.HTML object>"
      ]
     },
     "metadata": {},
     "output_type": "display_data"
    },
    {
     "data": {
      "text/html": [
       "<style>\n",
       "    table.wandb td:nth-child(1) { padding: 0 10px; text-align: left ; width: auto;} td:nth-child(2) {text-align: left ; width: 100%}\n",
       "    .wandb-row { display: flex; flex-direction: row; flex-wrap: wrap; justify-content: flex-start; width: 100% }\n",
       "    .wandb-col { display: flex; flex-direction: column; flex-basis: 100%; flex: 1; padding: 10px; }\n",
       "    </style>\n",
       "<div class=\"wandb-row\"><div class=\"wandb-col\"><h3>Run history:</h3><br/><table class=\"wandb\"><tr><td>validatoin_auc</td><td>▇█▇▁▆</td></tr></table><br/></div><div class=\"wandb-col\"><h3>Run summary:</h3><br/><table class=\"wandb\"><tr><td>validatoin_auc</td><td>0.97243</td></tr></table><br/></div></div>"
      ],
      "text/plain": [
       "<IPython.core.display.HTML object>"
      ]
     },
     "metadata": {},
     "output_type": "display_data"
    },
    {
     "data": {
      "text/html": [
       " View run <strong style=\"color:#cdcd00\">young-sweep-126</strong> at: <a href='https://wandb.ai/peng_sun/llm-2023-SGD-hyperparameter/runs/4ckz8mwf' target=\"_blank\">https://wandb.ai/peng_sun/llm-2023-SGD-hyperparameter/runs/4ckz8mwf</a><br/>Synced 5 W&B file(s), 0 media file(s), 0 artifact file(s) and 0 other file(s)"
      ],
      "text/plain": [
       "<IPython.core.display.HTML object>"
      ]
     },
     "metadata": {},
     "output_type": "display_data"
    },
    {
     "data": {
      "text/html": [
       "Find logs at: <code>./wandb/run-20240104_210256-4ckz8mwf/logs</code>"
      ],
      "text/plain": [
       "<IPython.core.display.HTML object>"
      ]
     },
     "metadata": {},
     "output_type": "display_data"
    },
    {
     "name": "stderr",
     "output_type": "stream",
     "text": [
      "\u001b[34m\u001b[1mwandb\u001b[0m: Sweep Agent: Waiting for job.\n",
      "\u001b[34m\u001b[1mwandb\u001b[0m: Job received.\n",
      "\u001b[34m\u001b[1mwandb\u001b[0m: Agent Starting Run: f2b4x2ce with config:\n",
      "\u001b[34m\u001b[1mwandb\u001b[0m: \talpha: 0.00010182263939923912\n",
      "\u001b[34m\u001b[1mwandb\u001b[0m: \teta0: 0.05678117363448703\n",
      "\u001b[34m\u001b[1mwandb\u001b[0m: \tloss: modified_huber\n",
      "\u001b[34m\u001b[1mwandb\u001b[0m: \tmax_iter: 1755\n",
      "Failed to detect the name of this notebook, you can set it manually with the WANDB_NOTEBOOK_NAME environment variable to enable code saving.\n"
     ]
    },
    {
     "data": {
      "text/html": [
       "wandb version 0.16.1 is available!  To upgrade, please run:\n",
       " $ pip install wandb --upgrade"
      ],
      "text/plain": [
       "<IPython.core.display.HTML object>"
      ]
     },
     "metadata": {},
     "output_type": "display_data"
    },
    {
     "data": {
      "text/html": [
       "Tracking run with wandb version 0.15.11"
      ],
      "text/plain": [
       "<IPython.core.display.HTML object>"
      ]
     },
     "metadata": {},
     "output_type": "display_data"
    },
    {
     "data": {
      "text/html": [
       "Run data is saved locally in <code>/home/peng_sun2/workspace/llm-2023/wandb/run-20240104_210328-f2b4x2ce</code>"
      ],
      "text/plain": [
       "<IPython.core.display.HTML object>"
      ]
     },
     "metadata": {},
     "output_type": "display_data"
    },
    {
     "data": {
      "text/html": [
       "Syncing run <strong><a href='https://wandb.ai/peng_sun/llm-2023-SGD-hyperparameter/runs/f2b4x2ce' target=\"_blank\">golden-sweep-127</a></strong> to <a href='https://wandb.ai/peng_sun/llm-2023-SGD-hyperparameter' target=\"_blank\">Weights & Biases</a> (<a href='https://wandb.me/run' target=\"_blank\">docs</a>)<br/>Sweep page: <a href='https://wandb.ai/peng_sun/llm-2023-SGD-hyperparameter/sweeps/wyi8yb2f' target=\"_blank\">https://wandb.ai/peng_sun/llm-2023-SGD-hyperparameter/sweeps/wyi8yb2f</a>"
      ],
      "text/plain": [
       "<IPython.core.display.HTML object>"
      ]
     },
     "metadata": {},
     "output_type": "display_data"
    },
    {
     "data": {
      "text/html": [
       " View project at <a href='https://wandb.ai/peng_sun/llm-2023-SGD-hyperparameter' target=\"_blank\">https://wandb.ai/peng_sun/llm-2023-SGD-hyperparameter</a>"
      ],
      "text/plain": [
       "<IPython.core.display.HTML object>"
      ]
     },
     "metadata": {},
     "output_type": "display_data"
    },
    {
     "data": {
      "text/html": [
       " View sweep at <a href='https://wandb.ai/peng_sun/llm-2023-SGD-hyperparameter/sweeps/wyi8yb2f' target=\"_blank\">https://wandb.ai/peng_sun/llm-2023-SGD-hyperparameter/sweeps/wyi8yb2f</a>"
      ],
      "text/plain": [
       "<IPython.core.display.HTML object>"
      ]
     },
     "metadata": {},
     "output_type": "display_data"
    },
    {
     "data": {
      "text/html": [
       " View run at <a href='https://wandb.ai/peng_sun/llm-2023-SGD-hyperparameter/runs/f2b4x2ce' target=\"_blank\">https://wandb.ai/peng_sun/llm-2023-SGD-hyperparameter/runs/f2b4x2ce</a>"
      ],
      "text/plain": [
       "<IPython.core.display.HTML object>"
      ]
     },
     "metadata": {},
     "output_type": "display_data"
    },
    {
     "data": {
      "text/html": [
       "Waiting for W&B process to finish... <strong style=\"color:green\">(success).</strong>"
      ],
      "text/plain": [
       "<IPython.core.display.HTML object>"
      ]
     },
     "metadata": {},
     "output_type": "display_data"
    },
    {
     "data": {
      "text/html": [
       "<style>\n",
       "    table.wandb td:nth-child(1) { padding: 0 10px; text-align: left ; width: auto;} td:nth-child(2) {text-align: left ; width: 100%}\n",
       "    .wandb-row { display: flex; flex-direction: row; flex-wrap: wrap; justify-content: flex-start; width: 100% }\n",
       "    .wandb-col { display: flex; flex-direction: column; flex-basis: 100%; flex: 1; padding: 10px; }\n",
       "    </style>\n",
       "<div class=\"wandb-row\"><div class=\"wandb-col\"><h3>Run history:</h3><br/><table class=\"wandb\"><tr><td>validatoin_auc</td><td>███▁█</td></tr></table><br/></div><div class=\"wandb-col\"><h3>Run summary:</h3><br/><table class=\"wandb\"><tr><td>validatoin_auc</td><td>0.99432</td></tr></table><br/></div></div>"
      ],
      "text/plain": [
       "<IPython.core.display.HTML object>"
      ]
     },
     "metadata": {},
     "output_type": "display_data"
    },
    {
     "data": {
      "text/html": [
       " View run <strong style=\"color:#cdcd00\">golden-sweep-127</strong> at: <a href='https://wandb.ai/peng_sun/llm-2023-SGD-hyperparameter/runs/f2b4x2ce' target=\"_blank\">https://wandb.ai/peng_sun/llm-2023-SGD-hyperparameter/runs/f2b4x2ce</a><br/>Synced 5 W&B file(s), 0 media file(s), 0 artifact file(s) and 0 other file(s)"
      ],
      "text/plain": [
       "<IPython.core.display.HTML object>"
      ]
     },
     "metadata": {},
     "output_type": "display_data"
    },
    {
     "data": {
      "text/html": [
       "Find logs at: <code>./wandb/run-20240104_210328-f2b4x2ce/logs</code>"
      ],
      "text/plain": [
       "<IPython.core.display.HTML object>"
      ]
     },
     "metadata": {},
     "output_type": "display_data"
    },
    {
     "name": "stderr",
     "output_type": "stream",
     "text": [
      "\u001b[34m\u001b[1mwandb\u001b[0m: Sweep Agent: Waiting for job.\n",
      "\u001b[34m\u001b[1mwandb\u001b[0m: Job received.\n",
      "\u001b[34m\u001b[1mwandb\u001b[0m: Agent Starting Run: wp2v0cwd with config:\n",
      "\u001b[34m\u001b[1mwandb\u001b[0m: \talpha: 0.00019548539258199723\n",
      "\u001b[34m\u001b[1mwandb\u001b[0m: \teta0: 0.08302018503988703\n",
      "\u001b[34m\u001b[1mwandb\u001b[0m: \tloss: modified_huber\n",
      "\u001b[34m\u001b[1mwandb\u001b[0m: \tmax_iter: 1750\n",
      "Failed to detect the name of this notebook, you can set it manually with the WANDB_NOTEBOOK_NAME environment variable to enable code saving.\n"
     ]
    },
    {
     "data": {
      "text/html": [
       "wandb version 0.16.1 is available!  To upgrade, please run:\n",
       " $ pip install wandb --upgrade"
      ],
      "text/plain": [
       "<IPython.core.display.HTML object>"
      ]
     },
     "metadata": {},
     "output_type": "display_data"
    },
    {
     "data": {
      "text/html": [
       "Tracking run with wandb version 0.15.11"
      ],
      "text/plain": [
       "<IPython.core.display.HTML object>"
      ]
     },
     "metadata": {},
     "output_type": "display_data"
    },
    {
     "data": {
      "text/html": [
       "Run data is saved locally in <code>/home/peng_sun2/workspace/llm-2023/wandb/run-20240104_210359-wp2v0cwd</code>"
      ],
      "text/plain": [
       "<IPython.core.display.HTML object>"
      ]
     },
     "metadata": {},
     "output_type": "display_data"
    },
    {
     "data": {
      "text/html": [
       "Syncing run <strong><a href='https://wandb.ai/peng_sun/llm-2023-SGD-hyperparameter/runs/wp2v0cwd' target=\"_blank\">honest-sweep-128</a></strong> to <a href='https://wandb.ai/peng_sun/llm-2023-SGD-hyperparameter' target=\"_blank\">Weights & Biases</a> (<a href='https://wandb.me/run' target=\"_blank\">docs</a>)<br/>Sweep page: <a href='https://wandb.ai/peng_sun/llm-2023-SGD-hyperparameter/sweeps/wyi8yb2f' target=\"_blank\">https://wandb.ai/peng_sun/llm-2023-SGD-hyperparameter/sweeps/wyi8yb2f</a>"
      ],
      "text/plain": [
       "<IPython.core.display.HTML object>"
      ]
     },
     "metadata": {},
     "output_type": "display_data"
    },
    {
     "data": {
      "text/html": [
       " View project at <a href='https://wandb.ai/peng_sun/llm-2023-SGD-hyperparameter' target=\"_blank\">https://wandb.ai/peng_sun/llm-2023-SGD-hyperparameter</a>"
      ],
      "text/plain": [
       "<IPython.core.display.HTML object>"
      ]
     },
     "metadata": {},
     "output_type": "display_data"
    },
    {
     "data": {
      "text/html": [
       " View sweep at <a href='https://wandb.ai/peng_sun/llm-2023-SGD-hyperparameter/sweeps/wyi8yb2f' target=\"_blank\">https://wandb.ai/peng_sun/llm-2023-SGD-hyperparameter/sweeps/wyi8yb2f</a>"
      ],
      "text/plain": [
       "<IPython.core.display.HTML object>"
      ]
     },
     "metadata": {},
     "output_type": "display_data"
    },
    {
     "data": {
      "text/html": [
       " View run at <a href='https://wandb.ai/peng_sun/llm-2023-SGD-hyperparameter/runs/wp2v0cwd' target=\"_blank\">https://wandb.ai/peng_sun/llm-2023-SGD-hyperparameter/runs/wp2v0cwd</a>"
      ],
      "text/plain": [
       "<IPython.core.display.HTML object>"
      ]
     },
     "metadata": {},
     "output_type": "display_data"
    },
    {
     "data": {
      "text/html": [
       "Waiting for W&B process to finish... <strong style=\"color:green\">(success).</strong>"
      ],
      "text/plain": [
       "<IPython.core.display.HTML object>"
      ]
     },
     "metadata": {},
     "output_type": "display_data"
    },
    {
     "data": {
      "text/html": [
       "<style>\n",
       "    table.wandb td:nth-child(1) { padding: 0 10px; text-align: left ; width: auto;} td:nth-child(2) {text-align: left ; width: 100%}\n",
       "    .wandb-row { display: flex; flex-direction: row; flex-wrap: wrap; justify-content: flex-start; width: 100% }\n",
       "    .wandb-col { display: flex; flex-direction: column; flex-basis: 100%; flex: 1; padding: 10px; }\n",
       "    </style>\n",
       "<div class=\"wandb-row\"><div class=\"wandb-col\"><h3>Run history:</h3><br/><table class=\"wandb\"><tr><td>validatoin_auc</td><td>███▁█</td></tr></table><br/></div><div class=\"wandb-col\"><h3>Run summary:</h3><br/><table class=\"wandb\"><tr><td>validatoin_auc</td><td>0.99336</td></tr></table><br/></div></div>"
      ],
      "text/plain": [
       "<IPython.core.display.HTML object>"
      ]
     },
     "metadata": {},
     "output_type": "display_data"
    },
    {
     "data": {
      "text/html": [
       " View run <strong style=\"color:#cdcd00\">honest-sweep-128</strong> at: <a href='https://wandb.ai/peng_sun/llm-2023-SGD-hyperparameter/runs/wp2v0cwd' target=\"_blank\">https://wandb.ai/peng_sun/llm-2023-SGD-hyperparameter/runs/wp2v0cwd</a><br/>Synced 5 W&B file(s), 0 media file(s), 0 artifact file(s) and 0 other file(s)"
      ],
      "text/plain": [
       "<IPython.core.display.HTML object>"
      ]
     },
     "metadata": {},
     "output_type": "display_data"
    },
    {
     "data": {
      "text/html": [
       "Find logs at: <code>./wandb/run-20240104_210359-wp2v0cwd/logs</code>"
      ],
      "text/plain": [
       "<IPython.core.display.HTML object>"
      ]
     },
     "metadata": {},
     "output_type": "display_data"
    },
    {
     "name": "stderr",
     "output_type": "stream",
     "text": [
      "\u001b[34m\u001b[1mwandb\u001b[0m: Agent Starting Run: 1c11hrrs with config:\n",
      "\u001b[34m\u001b[1mwandb\u001b[0m: \talpha: 0.000198874834627973\n",
      "\u001b[34m\u001b[1mwandb\u001b[0m: \teta0: 0.027910930667009393\n",
      "\u001b[34m\u001b[1mwandb\u001b[0m: \tloss: modified_huber\n",
      "\u001b[34m\u001b[1mwandb\u001b[0m: \tmax_iter: 4929\n",
      "Failed to detect the name of this notebook, you can set it manually with the WANDB_NOTEBOOK_NAME environment variable to enable code saving.\n"
     ]
    },
    {
     "data": {
      "text/html": [
       "wandb version 0.16.1 is available!  To upgrade, please run:\n",
       " $ pip install wandb --upgrade"
      ],
      "text/plain": [
       "<IPython.core.display.HTML object>"
      ]
     },
     "metadata": {},
     "output_type": "display_data"
    },
    {
     "data": {
      "text/html": [
       "Tracking run with wandb version 0.15.11"
      ],
      "text/plain": [
       "<IPython.core.display.HTML object>"
      ]
     },
     "metadata": {},
     "output_type": "display_data"
    },
    {
     "data": {
      "text/html": [
       "Run data is saved locally in <code>/home/peng_sun2/workspace/llm-2023/wandb/run-20240104_210425-1c11hrrs</code>"
      ],
      "text/plain": [
       "<IPython.core.display.HTML object>"
      ]
     },
     "metadata": {},
     "output_type": "display_data"
    },
    {
     "data": {
      "text/html": [
       "Syncing run <strong><a href='https://wandb.ai/peng_sun/llm-2023-SGD-hyperparameter/runs/1c11hrrs' target=\"_blank\">vital-sweep-129</a></strong> to <a href='https://wandb.ai/peng_sun/llm-2023-SGD-hyperparameter' target=\"_blank\">Weights & Biases</a> (<a href='https://wandb.me/run' target=\"_blank\">docs</a>)<br/>Sweep page: <a href='https://wandb.ai/peng_sun/llm-2023-SGD-hyperparameter/sweeps/wyi8yb2f' target=\"_blank\">https://wandb.ai/peng_sun/llm-2023-SGD-hyperparameter/sweeps/wyi8yb2f</a>"
      ],
      "text/plain": [
       "<IPython.core.display.HTML object>"
      ]
     },
     "metadata": {},
     "output_type": "display_data"
    },
    {
     "data": {
      "text/html": [
       " View project at <a href='https://wandb.ai/peng_sun/llm-2023-SGD-hyperparameter' target=\"_blank\">https://wandb.ai/peng_sun/llm-2023-SGD-hyperparameter</a>"
      ],
      "text/plain": [
       "<IPython.core.display.HTML object>"
      ]
     },
     "metadata": {},
     "output_type": "display_data"
    },
    {
     "data": {
      "text/html": [
       " View sweep at <a href='https://wandb.ai/peng_sun/llm-2023-SGD-hyperparameter/sweeps/wyi8yb2f' target=\"_blank\">https://wandb.ai/peng_sun/llm-2023-SGD-hyperparameter/sweeps/wyi8yb2f</a>"
      ],
      "text/plain": [
       "<IPython.core.display.HTML object>"
      ]
     },
     "metadata": {},
     "output_type": "display_data"
    },
    {
     "data": {
      "text/html": [
       " View run at <a href='https://wandb.ai/peng_sun/llm-2023-SGD-hyperparameter/runs/1c11hrrs' target=\"_blank\">https://wandb.ai/peng_sun/llm-2023-SGD-hyperparameter/runs/1c11hrrs</a>"
      ],
      "text/plain": [
       "<IPython.core.display.HTML object>"
      ]
     },
     "metadata": {},
     "output_type": "display_data"
    },
    {
     "data": {
      "text/html": [
       "Waiting for W&B process to finish... <strong style=\"color:green\">(success).</strong>"
      ],
      "text/plain": [
       "<IPython.core.display.HTML object>"
      ]
     },
     "metadata": {},
     "output_type": "display_data"
    },
    {
     "data": {
      "text/html": [
       "<style>\n",
       "    table.wandb td:nth-child(1) { padding: 0 10px; text-align: left ; width: auto;} td:nth-child(2) {text-align: left ; width: 100%}\n",
       "    .wandb-row { display: flex; flex-direction: row; flex-wrap: wrap; justify-content: flex-start; width: 100% }\n",
       "    .wandb-col { display: flex; flex-direction: column; flex-basis: 100%; flex: 1; padding: 10px; }\n",
       "    </style>\n",
       "<div class=\"wandb-row\"><div class=\"wandb-col\"><h3>Run history:</h3><br/><table class=\"wandb\"><tr><td>validatoin_auc</td><td>███▁█</td></tr></table><br/></div><div class=\"wandb-col\"><h3>Run summary:</h3><br/><table class=\"wandb\"><tr><td>validatoin_auc</td><td>0.9934</td></tr></table><br/></div></div>"
      ],
      "text/plain": [
       "<IPython.core.display.HTML object>"
      ]
     },
     "metadata": {},
     "output_type": "display_data"
    },
    {
     "data": {
      "text/html": [
       " View run <strong style=\"color:#cdcd00\">vital-sweep-129</strong> at: <a href='https://wandb.ai/peng_sun/llm-2023-SGD-hyperparameter/runs/1c11hrrs' target=\"_blank\">https://wandb.ai/peng_sun/llm-2023-SGD-hyperparameter/runs/1c11hrrs</a><br/>Synced 5 W&B file(s), 0 media file(s), 0 artifact file(s) and 0 other file(s)"
      ],
      "text/plain": [
       "<IPython.core.display.HTML object>"
      ]
     },
     "metadata": {},
     "output_type": "display_data"
    },
    {
     "data": {
      "text/html": [
       "Find logs at: <code>./wandb/run-20240104_210425-1c11hrrs/logs</code>"
      ],
      "text/plain": [
       "<IPython.core.display.HTML object>"
      ]
     },
     "metadata": {},
     "output_type": "display_data"
    },
    {
     "name": "stderr",
     "output_type": "stream",
     "text": [
      "\u001b[34m\u001b[1mwandb\u001b[0m: Sweep Agent: Waiting for job.\n",
      "\u001b[34m\u001b[1mwandb\u001b[0m: Job received.\n",
      "\u001b[34m\u001b[1mwandb\u001b[0m: Agent Starting Run: wez6bc3c with config:\n",
      "\u001b[34m\u001b[1mwandb\u001b[0m: \talpha: 0.00012793974322991949\n",
      "\u001b[34m\u001b[1mwandb\u001b[0m: \teta0: 0.014408387527212432\n",
      "\u001b[34m\u001b[1mwandb\u001b[0m: \tloss: modified_huber\n",
      "\u001b[34m\u001b[1mwandb\u001b[0m: \tmax_iter: 6123\n",
      "Failed to detect the name of this notebook, you can set it manually with the WANDB_NOTEBOOK_NAME environment variable to enable code saving.\n"
     ]
    },
    {
     "data": {
      "text/html": [
       "wandb version 0.16.1 is available!  To upgrade, please run:\n",
       " $ pip install wandb --upgrade"
      ],
      "text/plain": [
       "<IPython.core.display.HTML object>"
      ]
     },
     "metadata": {},
     "output_type": "display_data"
    },
    {
     "data": {
      "text/html": [
       "Tracking run with wandb version 0.15.11"
      ],
      "text/plain": [
       "<IPython.core.display.HTML object>"
      ]
     },
     "metadata": {},
     "output_type": "display_data"
    },
    {
     "data": {
      "text/html": [
       "Run data is saved locally in <code>/home/peng_sun2/workspace/llm-2023/wandb/run-20240104_210456-wez6bc3c</code>"
      ],
      "text/plain": [
       "<IPython.core.display.HTML object>"
      ]
     },
     "metadata": {},
     "output_type": "display_data"
    },
    {
     "data": {
      "text/html": [
       "Syncing run <strong><a href='https://wandb.ai/peng_sun/llm-2023-SGD-hyperparameter/runs/wez6bc3c' target=\"_blank\">dry-sweep-130</a></strong> to <a href='https://wandb.ai/peng_sun/llm-2023-SGD-hyperparameter' target=\"_blank\">Weights & Biases</a> (<a href='https://wandb.me/run' target=\"_blank\">docs</a>)<br/>Sweep page: <a href='https://wandb.ai/peng_sun/llm-2023-SGD-hyperparameter/sweeps/wyi8yb2f' target=\"_blank\">https://wandb.ai/peng_sun/llm-2023-SGD-hyperparameter/sweeps/wyi8yb2f</a>"
      ],
      "text/plain": [
       "<IPython.core.display.HTML object>"
      ]
     },
     "metadata": {},
     "output_type": "display_data"
    },
    {
     "data": {
      "text/html": [
       " View project at <a href='https://wandb.ai/peng_sun/llm-2023-SGD-hyperparameter' target=\"_blank\">https://wandb.ai/peng_sun/llm-2023-SGD-hyperparameter</a>"
      ],
      "text/plain": [
       "<IPython.core.display.HTML object>"
      ]
     },
     "metadata": {},
     "output_type": "display_data"
    },
    {
     "data": {
      "text/html": [
       " View sweep at <a href='https://wandb.ai/peng_sun/llm-2023-SGD-hyperparameter/sweeps/wyi8yb2f' target=\"_blank\">https://wandb.ai/peng_sun/llm-2023-SGD-hyperparameter/sweeps/wyi8yb2f</a>"
      ],
      "text/plain": [
       "<IPython.core.display.HTML object>"
      ]
     },
     "metadata": {},
     "output_type": "display_data"
    },
    {
     "data": {
      "text/html": [
       " View run at <a href='https://wandb.ai/peng_sun/llm-2023-SGD-hyperparameter/runs/wez6bc3c' target=\"_blank\">https://wandb.ai/peng_sun/llm-2023-SGD-hyperparameter/runs/wez6bc3c</a>"
      ],
      "text/plain": [
       "<IPython.core.display.HTML object>"
      ]
     },
     "metadata": {},
     "output_type": "display_data"
    },
    {
     "data": {
      "text/html": [
       "Waiting for W&B process to finish... <strong style=\"color:green\">(success).</strong>"
      ],
      "text/plain": [
       "<IPython.core.display.HTML object>"
      ]
     },
     "metadata": {},
     "output_type": "display_data"
    },
    {
     "data": {
      "text/html": [
       "<style>\n",
       "    table.wandb td:nth-child(1) { padding: 0 10px; text-align: left ; width: auto;} td:nth-child(2) {text-align: left ; width: 100%}\n",
       "    .wandb-row { display: flex; flex-direction: row; flex-wrap: wrap; justify-content: flex-start; width: 100% }\n",
       "    .wandb-col { display: flex; flex-direction: column; flex-basis: 100%; flex: 1; padding: 10px; }\n",
       "    </style>\n",
       "<div class=\"wandb-row\"><div class=\"wandb-col\"><h3>Run history:</h3><br/><table class=\"wandb\"><tr><td>validatoin_auc</td><td>███▁█</td></tr></table><br/></div><div class=\"wandb-col\"><h3>Run summary:</h3><br/><table class=\"wandb\"><tr><td>validatoin_auc</td><td>0.9941</td></tr></table><br/></div></div>"
      ],
      "text/plain": [
       "<IPython.core.display.HTML object>"
      ]
     },
     "metadata": {},
     "output_type": "display_data"
    },
    {
     "data": {
      "text/html": [
       " View run <strong style=\"color:#cdcd00\">dry-sweep-130</strong> at: <a href='https://wandb.ai/peng_sun/llm-2023-SGD-hyperparameter/runs/wez6bc3c' target=\"_blank\">https://wandb.ai/peng_sun/llm-2023-SGD-hyperparameter/runs/wez6bc3c</a><br/>Synced 5 W&B file(s), 0 media file(s), 0 artifact file(s) and 0 other file(s)"
      ],
      "text/plain": [
       "<IPython.core.display.HTML object>"
      ]
     },
     "metadata": {},
     "output_type": "display_data"
    },
    {
     "data": {
      "text/html": [
       "Find logs at: <code>./wandb/run-20240104_210456-wez6bc3c/logs</code>"
      ],
      "text/plain": [
       "<IPython.core.display.HTML object>"
      ]
     },
     "metadata": {},
     "output_type": "display_data"
    },
    {
     "name": "stderr",
     "output_type": "stream",
     "text": [
      "\u001b[34m\u001b[1mwandb\u001b[0m: Sweep Agent: Waiting for job.\n",
      "\u001b[34m\u001b[1mwandb\u001b[0m: Job received.\n",
      "\u001b[34m\u001b[1mwandb\u001b[0m: Agent Starting Run: x3zp9u6e with config:\n",
      "\u001b[34m\u001b[1mwandb\u001b[0m: \talpha: 0.0001308807003934642\n",
      "\u001b[34m\u001b[1mwandb\u001b[0m: \teta0: 0.05097238180893855\n",
      "\u001b[34m\u001b[1mwandb\u001b[0m: \tloss: modified_huber\n",
      "\u001b[34m\u001b[1mwandb\u001b[0m: \tmax_iter: 2686\n",
      "Failed to detect the name of this notebook, you can set it manually with the WANDB_NOTEBOOK_NAME environment variable to enable code saving.\n"
     ]
    },
    {
     "data": {
      "text/html": [
       "wandb version 0.16.1 is available!  To upgrade, please run:\n",
       " $ pip install wandb --upgrade"
      ],
      "text/plain": [
       "<IPython.core.display.HTML object>"
      ]
     },
     "metadata": {},
     "output_type": "display_data"
    },
    {
     "data": {
      "text/html": [
       "Tracking run with wandb version 0.15.11"
      ],
      "text/plain": [
       "<IPython.core.display.HTML object>"
      ]
     },
     "metadata": {},
     "output_type": "display_data"
    },
    {
     "data": {
      "text/html": [
       "Run data is saved locally in <code>/home/peng_sun2/workspace/llm-2023/wandb/run-20240104_210527-x3zp9u6e</code>"
      ],
      "text/plain": [
       "<IPython.core.display.HTML object>"
      ]
     },
     "metadata": {},
     "output_type": "display_data"
    },
    {
     "data": {
      "text/html": [
       "Syncing run <strong><a href='https://wandb.ai/peng_sun/llm-2023-SGD-hyperparameter/runs/x3zp9u6e' target=\"_blank\">jumping-sweep-131</a></strong> to <a href='https://wandb.ai/peng_sun/llm-2023-SGD-hyperparameter' target=\"_blank\">Weights & Biases</a> (<a href='https://wandb.me/run' target=\"_blank\">docs</a>)<br/>Sweep page: <a href='https://wandb.ai/peng_sun/llm-2023-SGD-hyperparameter/sweeps/wyi8yb2f' target=\"_blank\">https://wandb.ai/peng_sun/llm-2023-SGD-hyperparameter/sweeps/wyi8yb2f</a>"
      ],
      "text/plain": [
       "<IPython.core.display.HTML object>"
      ]
     },
     "metadata": {},
     "output_type": "display_data"
    },
    {
     "data": {
      "text/html": [
       " View project at <a href='https://wandb.ai/peng_sun/llm-2023-SGD-hyperparameter' target=\"_blank\">https://wandb.ai/peng_sun/llm-2023-SGD-hyperparameter</a>"
      ],
      "text/plain": [
       "<IPython.core.display.HTML object>"
      ]
     },
     "metadata": {},
     "output_type": "display_data"
    },
    {
     "data": {
      "text/html": [
       " View sweep at <a href='https://wandb.ai/peng_sun/llm-2023-SGD-hyperparameter/sweeps/wyi8yb2f' target=\"_blank\">https://wandb.ai/peng_sun/llm-2023-SGD-hyperparameter/sweeps/wyi8yb2f</a>"
      ],
      "text/plain": [
       "<IPython.core.display.HTML object>"
      ]
     },
     "metadata": {},
     "output_type": "display_data"
    },
    {
     "data": {
      "text/html": [
       " View run at <a href='https://wandb.ai/peng_sun/llm-2023-SGD-hyperparameter/runs/x3zp9u6e' target=\"_blank\">https://wandb.ai/peng_sun/llm-2023-SGD-hyperparameter/runs/x3zp9u6e</a>"
      ],
      "text/plain": [
       "<IPython.core.display.HTML object>"
      ]
     },
     "metadata": {},
     "output_type": "display_data"
    },
    {
     "data": {
      "text/html": [
       "Waiting for W&B process to finish... <strong style=\"color:green\">(success).</strong>"
      ],
      "text/plain": [
       "<IPython.core.display.HTML object>"
      ]
     },
     "metadata": {},
     "output_type": "display_data"
    },
    {
     "data": {
      "text/html": [
       "<style>\n",
       "    table.wandb td:nth-child(1) { padding: 0 10px; text-align: left ; width: auto;} td:nth-child(2) {text-align: left ; width: 100%}\n",
       "    .wandb-row { display: flex; flex-direction: row; flex-wrap: wrap; justify-content: flex-start; width: 100% }\n",
       "    .wandb-col { display: flex; flex-direction: column; flex-basis: 100%; flex: 1; padding: 10px; }\n",
       "    </style>\n",
       "<div class=\"wandb-row\"><div class=\"wandb-col\"><h3>Run history:</h3><br/><table class=\"wandb\"><tr><td>validatoin_auc</td><td>███▁█</td></tr></table><br/></div><div class=\"wandb-col\"><h3>Run summary:</h3><br/><table class=\"wandb\"><tr><td>validatoin_auc</td><td>0.99397</td></tr></table><br/></div></div>"
      ],
      "text/plain": [
       "<IPython.core.display.HTML object>"
      ]
     },
     "metadata": {},
     "output_type": "display_data"
    },
    {
     "data": {
      "text/html": [
       " View run <strong style=\"color:#cdcd00\">jumping-sweep-131</strong> at: <a href='https://wandb.ai/peng_sun/llm-2023-SGD-hyperparameter/runs/x3zp9u6e' target=\"_blank\">https://wandb.ai/peng_sun/llm-2023-SGD-hyperparameter/runs/x3zp9u6e</a><br/>Synced 5 W&B file(s), 0 media file(s), 0 artifact file(s) and 0 other file(s)"
      ],
      "text/plain": [
       "<IPython.core.display.HTML object>"
      ]
     },
     "metadata": {},
     "output_type": "display_data"
    },
    {
     "data": {
      "text/html": [
       "Find logs at: <code>./wandb/run-20240104_210527-x3zp9u6e/logs</code>"
      ],
      "text/plain": [
       "<IPython.core.display.HTML object>"
      ]
     },
     "metadata": {},
     "output_type": "display_data"
    },
    {
     "name": "stderr",
     "output_type": "stream",
     "text": [
      "\u001b[34m\u001b[1mwandb\u001b[0m: Agent Starting Run: a49eob74 with config:\n",
      "\u001b[34m\u001b[1mwandb\u001b[0m: \talpha: 0.000101869651773034\n",
      "\u001b[34m\u001b[1mwandb\u001b[0m: \teta0: 0.09163558691915236\n",
      "\u001b[34m\u001b[1mwandb\u001b[0m: \tloss: modified_huber\n",
      "\u001b[34m\u001b[1mwandb\u001b[0m: \tmax_iter: 8750\n",
      "Failed to detect the name of this notebook, you can set it manually with the WANDB_NOTEBOOK_NAME environment variable to enable code saving.\n"
     ]
    },
    {
     "data": {
      "text/html": [
       "wandb version 0.16.1 is available!  To upgrade, please run:\n",
       " $ pip install wandb --upgrade"
      ],
      "text/plain": [
       "<IPython.core.display.HTML object>"
      ]
     },
     "metadata": {},
     "output_type": "display_data"
    },
    {
     "data": {
      "text/html": [
       "Tracking run with wandb version 0.15.11"
      ],
      "text/plain": [
       "<IPython.core.display.HTML object>"
      ]
     },
     "metadata": {},
     "output_type": "display_data"
    },
    {
     "data": {
      "text/html": [
       "Run data is saved locally in <code>/home/peng_sun2/workspace/llm-2023/wandb/run-20240104_210550-a49eob74</code>"
      ],
      "text/plain": [
       "<IPython.core.display.HTML object>"
      ]
     },
     "metadata": {},
     "output_type": "display_data"
    },
    {
     "data": {
      "text/html": [
       "Syncing run <strong><a href='https://wandb.ai/peng_sun/llm-2023-SGD-hyperparameter/runs/a49eob74' target=\"_blank\">proud-sweep-132</a></strong> to <a href='https://wandb.ai/peng_sun/llm-2023-SGD-hyperparameter' target=\"_blank\">Weights & Biases</a> (<a href='https://wandb.me/run' target=\"_blank\">docs</a>)<br/>Sweep page: <a href='https://wandb.ai/peng_sun/llm-2023-SGD-hyperparameter/sweeps/wyi8yb2f' target=\"_blank\">https://wandb.ai/peng_sun/llm-2023-SGD-hyperparameter/sweeps/wyi8yb2f</a>"
      ],
      "text/plain": [
       "<IPython.core.display.HTML object>"
      ]
     },
     "metadata": {},
     "output_type": "display_data"
    },
    {
     "data": {
      "text/html": [
       " View project at <a href='https://wandb.ai/peng_sun/llm-2023-SGD-hyperparameter' target=\"_blank\">https://wandb.ai/peng_sun/llm-2023-SGD-hyperparameter</a>"
      ],
      "text/plain": [
       "<IPython.core.display.HTML object>"
      ]
     },
     "metadata": {},
     "output_type": "display_data"
    },
    {
     "data": {
      "text/html": [
       " View sweep at <a href='https://wandb.ai/peng_sun/llm-2023-SGD-hyperparameter/sweeps/wyi8yb2f' target=\"_blank\">https://wandb.ai/peng_sun/llm-2023-SGD-hyperparameter/sweeps/wyi8yb2f</a>"
      ],
      "text/plain": [
       "<IPython.core.display.HTML object>"
      ]
     },
     "metadata": {},
     "output_type": "display_data"
    },
    {
     "data": {
      "text/html": [
       " View run at <a href='https://wandb.ai/peng_sun/llm-2023-SGD-hyperparameter/runs/a49eob74' target=\"_blank\">https://wandb.ai/peng_sun/llm-2023-SGD-hyperparameter/runs/a49eob74</a>"
      ],
      "text/plain": [
       "<IPython.core.display.HTML object>"
      ]
     },
     "metadata": {},
     "output_type": "display_data"
    },
    {
     "data": {
      "text/html": [
       "Waiting for W&B process to finish... <strong style=\"color:green\">(success).</strong>"
      ],
      "text/plain": [
       "<IPython.core.display.HTML object>"
      ]
     },
     "metadata": {},
     "output_type": "display_data"
    },
    {
     "data": {
      "text/html": [
       "<style>\n",
       "    table.wandb td:nth-child(1) { padding: 0 10px; text-align: left ; width: auto;} td:nth-child(2) {text-align: left ; width: 100%}\n",
       "    .wandb-row { display: flex; flex-direction: row; flex-wrap: wrap; justify-content: flex-start; width: 100% }\n",
       "    .wandb-col { display: flex; flex-direction: column; flex-basis: 100%; flex: 1; padding: 10px; }\n",
       "    </style>\n",
       "<div class=\"wandb-row\"><div class=\"wandb-col\"><h3>Run history:</h3><br/><table class=\"wandb\"><tr><td>validatoin_auc</td><td>███▁█</td></tr></table><br/></div><div class=\"wandb-col\"><h3>Run summary:</h3><br/><table class=\"wandb\"><tr><td>validatoin_auc</td><td>0.99432</td></tr></table><br/></div></div>"
      ],
      "text/plain": [
       "<IPython.core.display.HTML object>"
      ]
     },
     "metadata": {},
     "output_type": "display_data"
    },
    {
     "data": {
      "text/html": [
       " View run <strong style=\"color:#cdcd00\">proud-sweep-132</strong> at: <a href='https://wandb.ai/peng_sun/llm-2023-SGD-hyperparameter/runs/a49eob74' target=\"_blank\">https://wandb.ai/peng_sun/llm-2023-SGD-hyperparameter/runs/a49eob74</a><br/>Synced 5 W&B file(s), 0 media file(s), 0 artifact file(s) and 0 other file(s)"
      ],
      "text/plain": [
       "<IPython.core.display.HTML object>"
      ]
     },
     "metadata": {},
     "output_type": "display_data"
    },
    {
     "data": {
      "text/html": [
       "Find logs at: <code>./wandb/run-20240104_210550-a49eob74/logs</code>"
      ],
      "text/plain": [
       "<IPython.core.display.HTML object>"
      ]
     },
     "metadata": {},
     "output_type": "display_data"
    },
    {
     "name": "stderr",
     "output_type": "stream",
     "text": [
      "\u001b[34m\u001b[1mwandb\u001b[0m: Sweep Agent: Waiting for job.\n",
      "\u001b[34m\u001b[1mwandb\u001b[0m: Job received.\n",
      "\u001b[34m\u001b[1mwandb\u001b[0m: Agent Starting Run: f56urf52 with config:\n",
      "\u001b[34m\u001b[1mwandb\u001b[0m: \talpha: 0.00015709960533265657\n",
      "\u001b[34m\u001b[1mwandb\u001b[0m: \teta0: 0.03896459985459533\n",
      "\u001b[34m\u001b[1mwandb\u001b[0m: \tloss: modified_huber\n",
      "\u001b[34m\u001b[1mwandb\u001b[0m: \tmax_iter: 6598\n",
      "Failed to detect the name of this notebook, you can set it manually with the WANDB_NOTEBOOK_NAME environment variable to enable code saving.\n"
     ]
    },
    {
     "data": {
      "text/html": [
       "wandb version 0.16.1 is available!  To upgrade, please run:\n",
       " $ pip install wandb --upgrade"
      ],
      "text/plain": [
       "<IPython.core.display.HTML object>"
      ]
     },
     "metadata": {},
     "output_type": "display_data"
    },
    {
     "data": {
      "text/html": [
       "Tracking run with wandb version 0.15.11"
      ],
      "text/plain": [
       "<IPython.core.display.HTML object>"
      ]
     },
     "metadata": {},
     "output_type": "display_data"
    },
    {
     "data": {
      "text/html": [
       "Run data is saved locally in <code>/home/peng_sun2/workspace/llm-2023/wandb/run-20240104_210621-f56urf52</code>"
      ],
      "text/plain": [
       "<IPython.core.display.HTML object>"
      ]
     },
     "metadata": {},
     "output_type": "display_data"
    },
    {
     "data": {
      "text/html": [
       "Syncing run <strong><a href='https://wandb.ai/peng_sun/llm-2023-SGD-hyperparameter/runs/f56urf52' target=\"_blank\">fine-sweep-133</a></strong> to <a href='https://wandb.ai/peng_sun/llm-2023-SGD-hyperparameter' target=\"_blank\">Weights & Biases</a> (<a href='https://wandb.me/run' target=\"_blank\">docs</a>)<br/>Sweep page: <a href='https://wandb.ai/peng_sun/llm-2023-SGD-hyperparameter/sweeps/wyi8yb2f' target=\"_blank\">https://wandb.ai/peng_sun/llm-2023-SGD-hyperparameter/sweeps/wyi8yb2f</a>"
      ],
      "text/plain": [
       "<IPython.core.display.HTML object>"
      ]
     },
     "metadata": {},
     "output_type": "display_data"
    },
    {
     "data": {
      "text/html": [
       " View project at <a href='https://wandb.ai/peng_sun/llm-2023-SGD-hyperparameter' target=\"_blank\">https://wandb.ai/peng_sun/llm-2023-SGD-hyperparameter</a>"
      ],
      "text/plain": [
       "<IPython.core.display.HTML object>"
      ]
     },
     "metadata": {},
     "output_type": "display_data"
    },
    {
     "data": {
      "text/html": [
       " View sweep at <a href='https://wandb.ai/peng_sun/llm-2023-SGD-hyperparameter/sweeps/wyi8yb2f' target=\"_blank\">https://wandb.ai/peng_sun/llm-2023-SGD-hyperparameter/sweeps/wyi8yb2f</a>"
      ],
      "text/plain": [
       "<IPython.core.display.HTML object>"
      ]
     },
     "metadata": {},
     "output_type": "display_data"
    },
    {
     "data": {
      "text/html": [
       " View run at <a href='https://wandb.ai/peng_sun/llm-2023-SGD-hyperparameter/runs/f56urf52' target=\"_blank\">https://wandb.ai/peng_sun/llm-2023-SGD-hyperparameter/runs/f56urf52</a>"
      ],
      "text/plain": [
       "<IPython.core.display.HTML object>"
      ]
     },
     "metadata": {},
     "output_type": "display_data"
    },
    {
     "data": {
      "text/html": [
       "Waiting for W&B process to finish... <strong style=\"color:green\">(success).</strong>"
      ],
      "text/plain": [
       "<IPython.core.display.HTML object>"
      ]
     },
     "metadata": {},
     "output_type": "display_data"
    },
    {
     "data": {
      "text/html": [
       "<style>\n",
       "    table.wandb td:nth-child(1) { padding: 0 10px; text-align: left ; width: auto;} td:nth-child(2) {text-align: left ; width: 100%}\n",
       "    .wandb-row { display: flex; flex-direction: row; flex-wrap: wrap; justify-content: flex-start; width: 100% }\n",
       "    .wandb-col { display: flex; flex-direction: column; flex-basis: 100%; flex: 1; padding: 10px; }\n",
       "    </style>\n",
       "<div class=\"wandb-row\"><div class=\"wandb-col\"><h3>Run history:</h3><br/><table class=\"wandb\"><tr><td>validatoin_auc</td><td>███▁█</td></tr></table><br/></div><div class=\"wandb-col\"><h3>Run summary:</h3><br/><table class=\"wandb\"><tr><td>validatoin_auc</td><td>0.99377</td></tr></table><br/></div></div>"
      ],
      "text/plain": [
       "<IPython.core.display.HTML object>"
      ]
     },
     "metadata": {},
     "output_type": "display_data"
    },
    {
     "data": {
      "text/html": [
       " View run <strong style=\"color:#cdcd00\">fine-sweep-133</strong> at: <a href='https://wandb.ai/peng_sun/llm-2023-SGD-hyperparameter/runs/f56urf52' target=\"_blank\">https://wandb.ai/peng_sun/llm-2023-SGD-hyperparameter/runs/f56urf52</a><br/>Synced 5 W&B file(s), 0 media file(s), 0 artifact file(s) and 0 other file(s)"
      ],
      "text/plain": [
       "<IPython.core.display.HTML object>"
      ]
     },
     "metadata": {},
     "output_type": "display_data"
    },
    {
     "data": {
      "text/html": [
       "Find logs at: <code>./wandb/run-20240104_210621-f56urf52/logs</code>"
      ],
      "text/plain": [
       "<IPython.core.display.HTML object>"
      ]
     },
     "metadata": {},
     "output_type": "display_data"
    },
    {
     "name": "stderr",
     "output_type": "stream",
     "text": [
      "\u001b[34m\u001b[1mwandb\u001b[0m: Sweep Agent: Waiting for job.\n",
      "\u001b[34m\u001b[1mwandb\u001b[0m: Job received.\n",
      "\u001b[34m\u001b[1mwandb\u001b[0m: Agent Starting Run: kmxxfma5 with config:\n",
      "\u001b[34m\u001b[1mwandb\u001b[0m: \talpha: 0.0001271077710629948\n",
      "\u001b[34m\u001b[1mwandb\u001b[0m: \teta0: 0.043258105779845415\n",
      "\u001b[34m\u001b[1mwandb\u001b[0m: \tloss: modified_huber\n",
      "\u001b[34m\u001b[1mwandb\u001b[0m: \tmax_iter: 4687\n",
      "Failed to detect the name of this notebook, you can set it manually with the WANDB_NOTEBOOK_NAME environment variable to enable code saving.\n"
     ]
    },
    {
     "data": {
      "text/html": [
       "wandb version 0.16.1 is available!  To upgrade, please run:\n",
       " $ pip install wandb --upgrade"
      ],
      "text/plain": [
       "<IPython.core.display.HTML object>"
      ]
     },
     "metadata": {},
     "output_type": "display_data"
    },
    {
     "data": {
      "text/html": [
       "Tracking run with wandb version 0.15.11"
      ],
      "text/plain": [
       "<IPython.core.display.HTML object>"
      ]
     },
     "metadata": {},
     "output_type": "display_data"
    },
    {
     "data": {
      "text/html": [
       "Run data is saved locally in <code>/home/peng_sun2/workspace/llm-2023/wandb/run-20240104_210653-kmxxfma5</code>"
      ],
      "text/plain": [
       "<IPython.core.display.HTML object>"
      ]
     },
     "metadata": {},
     "output_type": "display_data"
    },
    {
     "data": {
      "text/html": [
       "Syncing run <strong><a href='https://wandb.ai/peng_sun/llm-2023-SGD-hyperparameter/runs/kmxxfma5' target=\"_blank\">vibrant-sweep-134</a></strong> to <a href='https://wandb.ai/peng_sun/llm-2023-SGD-hyperparameter' target=\"_blank\">Weights & Biases</a> (<a href='https://wandb.me/run' target=\"_blank\">docs</a>)<br/>Sweep page: <a href='https://wandb.ai/peng_sun/llm-2023-SGD-hyperparameter/sweeps/wyi8yb2f' target=\"_blank\">https://wandb.ai/peng_sun/llm-2023-SGD-hyperparameter/sweeps/wyi8yb2f</a>"
      ],
      "text/plain": [
       "<IPython.core.display.HTML object>"
      ]
     },
     "metadata": {},
     "output_type": "display_data"
    },
    {
     "data": {
      "text/html": [
       " View project at <a href='https://wandb.ai/peng_sun/llm-2023-SGD-hyperparameter' target=\"_blank\">https://wandb.ai/peng_sun/llm-2023-SGD-hyperparameter</a>"
      ],
      "text/plain": [
       "<IPython.core.display.HTML object>"
      ]
     },
     "metadata": {},
     "output_type": "display_data"
    },
    {
     "data": {
      "text/html": [
       " View sweep at <a href='https://wandb.ai/peng_sun/llm-2023-SGD-hyperparameter/sweeps/wyi8yb2f' target=\"_blank\">https://wandb.ai/peng_sun/llm-2023-SGD-hyperparameter/sweeps/wyi8yb2f</a>"
      ],
      "text/plain": [
       "<IPython.core.display.HTML object>"
      ]
     },
     "metadata": {},
     "output_type": "display_data"
    },
    {
     "data": {
      "text/html": [
       " View run at <a href='https://wandb.ai/peng_sun/llm-2023-SGD-hyperparameter/runs/kmxxfma5' target=\"_blank\">https://wandb.ai/peng_sun/llm-2023-SGD-hyperparameter/runs/kmxxfma5</a>"
      ],
      "text/plain": [
       "<IPython.core.display.HTML object>"
      ]
     },
     "metadata": {},
     "output_type": "display_data"
    },
    {
     "data": {
      "text/html": [
       "Waiting for W&B process to finish... <strong style=\"color:green\">(success).</strong>"
      ],
      "text/plain": [
       "<IPython.core.display.HTML object>"
      ]
     },
     "metadata": {},
     "output_type": "display_data"
    },
    {
     "data": {
      "text/html": [
       "<style>\n",
       "    table.wandb td:nth-child(1) { padding: 0 10px; text-align: left ; width: auto;} td:nth-child(2) {text-align: left ; width: 100%}\n",
       "    .wandb-row { display: flex; flex-direction: row; flex-wrap: wrap; justify-content: flex-start; width: 100% }\n",
       "    .wandb-col { display: flex; flex-direction: column; flex-basis: 100%; flex: 1; padding: 10px; }\n",
       "    </style>\n",
       "<div class=\"wandb-row\"><div class=\"wandb-col\"><h3>Run history:</h3><br/><table class=\"wandb\"><tr><td>validatoin_auc</td><td>███▁█</td></tr></table><br/></div><div class=\"wandb-col\"><h3>Run summary:</h3><br/><table class=\"wandb\"><tr><td>validatoin_auc</td><td>0.99403</td></tr></table><br/></div></div>"
      ],
      "text/plain": [
       "<IPython.core.display.HTML object>"
      ]
     },
     "metadata": {},
     "output_type": "display_data"
    },
    {
     "data": {
      "text/html": [
       " View run <strong style=\"color:#cdcd00\">vibrant-sweep-134</strong> at: <a href='https://wandb.ai/peng_sun/llm-2023-SGD-hyperparameter/runs/kmxxfma5' target=\"_blank\">https://wandb.ai/peng_sun/llm-2023-SGD-hyperparameter/runs/kmxxfma5</a><br/>Synced 5 W&B file(s), 0 media file(s), 0 artifact file(s) and 0 other file(s)"
      ],
      "text/plain": [
       "<IPython.core.display.HTML object>"
      ]
     },
     "metadata": {},
     "output_type": "display_data"
    },
    {
     "data": {
      "text/html": [
       "Find logs at: <code>./wandb/run-20240104_210653-kmxxfma5/logs</code>"
      ],
      "text/plain": [
       "<IPython.core.display.HTML object>"
      ]
     },
     "metadata": {},
     "output_type": "display_data"
    },
    {
     "name": "stderr",
     "output_type": "stream",
     "text": [
      "\u001b[34m\u001b[1mwandb\u001b[0m: Agent Starting Run: ndav7mld with config:\n",
      "\u001b[34m\u001b[1mwandb\u001b[0m: \talpha: 0.0007284112472886332\n",
      "\u001b[34m\u001b[1mwandb\u001b[0m: \teta0: 0.0960347934877254\n",
      "\u001b[34m\u001b[1mwandb\u001b[0m: \tloss: hinge\n",
      "\u001b[34m\u001b[1mwandb\u001b[0m: \tmax_iter: 9558\n",
      "Failed to detect the name of this notebook, you can set it manually with the WANDB_NOTEBOOK_NAME environment variable to enable code saving.\n"
     ]
    },
    {
     "data": {
      "text/html": [
       "wandb version 0.16.1 is available!  To upgrade, please run:\n",
       " $ pip install wandb --upgrade"
      ],
      "text/plain": [
       "<IPython.core.display.HTML object>"
      ]
     },
     "metadata": {},
     "output_type": "display_data"
    },
    {
     "data": {
      "text/html": [
       "Tracking run with wandb version 0.15.11"
      ],
      "text/plain": [
       "<IPython.core.display.HTML object>"
      ]
     },
     "metadata": {},
     "output_type": "display_data"
    },
    {
     "data": {
      "text/html": [
       "Run data is saved locally in <code>/home/peng_sun2/workspace/llm-2023/wandb/run-20240104_210718-ndav7mld</code>"
      ],
      "text/plain": [
       "<IPython.core.display.HTML object>"
      ]
     },
     "metadata": {},
     "output_type": "display_data"
    },
    {
     "data": {
      "text/html": [
       "Syncing run <strong><a href='https://wandb.ai/peng_sun/llm-2023-SGD-hyperparameter/runs/ndav7mld' target=\"_blank\">vague-sweep-135</a></strong> to <a href='https://wandb.ai/peng_sun/llm-2023-SGD-hyperparameter' target=\"_blank\">Weights & Biases</a> (<a href='https://wandb.me/run' target=\"_blank\">docs</a>)<br/>Sweep page: <a href='https://wandb.ai/peng_sun/llm-2023-SGD-hyperparameter/sweeps/wyi8yb2f' target=\"_blank\">https://wandb.ai/peng_sun/llm-2023-SGD-hyperparameter/sweeps/wyi8yb2f</a>"
      ],
      "text/plain": [
       "<IPython.core.display.HTML object>"
      ]
     },
     "metadata": {},
     "output_type": "display_data"
    },
    {
     "data": {
      "text/html": [
       " View project at <a href='https://wandb.ai/peng_sun/llm-2023-SGD-hyperparameter' target=\"_blank\">https://wandb.ai/peng_sun/llm-2023-SGD-hyperparameter</a>"
      ],
      "text/plain": [
       "<IPython.core.display.HTML object>"
      ]
     },
     "metadata": {},
     "output_type": "display_data"
    },
    {
     "data": {
      "text/html": [
       " View sweep at <a href='https://wandb.ai/peng_sun/llm-2023-SGD-hyperparameter/sweeps/wyi8yb2f' target=\"_blank\">https://wandb.ai/peng_sun/llm-2023-SGD-hyperparameter/sweeps/wyi8yb2f</a>"
      ],
      "text/plain": [
       "<IPython.core.display.HTML object>"
      ]
     },
     "metadata": {},
     "output_type": "display_data"
    },
    {
     "data": {
      "text/html": [
       " View run at <a href='https://wandb.ai/peng_sun/llm-2023-SGD-hyperparameter/runs/ndav7mld' target=\"_blank\">https://wandb.ai/peng_sun/llm-2023-SGD-hyperparameter/runs/ndav7mld</a>"
      ],
      "text/plain": [
       "<IPython.core.display.HTML object>"
      ]
     },
     "metadata": {},
     "output_type": "display_data"
    },
    {
     "name": "stderr",
     "output_type": "stream",
     "text": [
      "Traceback (most recent call last):\n",
      "  File \"/tmp/ipykernel_17738/3206656641.py\", line 24, in train_sweep\n",
      "    eval_preds = model.predict_proba(eval_X)[:, 1]\n",
      "  File \"/home/peng_sun2/.local/lib/python3.9/site-packages/sklearn/utils/_available_if.py\", line 32, in __get__\n",
      "    if not self.check(obj):\n",
      "  File \"/home/peng_sun2/.local/lib/python3.9/site-packages/sklearn/linear_model/_stochastic_gradient.py\", line 1235, in _check_proba\n",
      "    raise AttributeError(\n",
      "AttributeError: probability estimates are not available for loss='hinge'\n"
     ]
    },
    {
     "data": {
      "text/html": [
       "Waiting for W&B process to finish... <strong style=\"color:red\">(failed 1).</strong> Press Control-C to abort syncing."
      ],
      "text/plain": [
       "<IPython.core.display.HTML object>"
      ]
     },
     "metadata": {},
     "output_type": "display_data"
    },
    {
     "data": {
      "text/html": [
       " View run <strong style=\"color:#cdcd00\">vague-sweep-135</strong> at: <a href='https://wandb.ai/peng_sun/llm-2023-SGD-hyperparameter/runs/ndav7mld' target=\"_blank\">https://wandb.ai/peng_sun/llm-2023-SGD-hyperparameter/runs/ndav7mld</a><br/>Synced 6 W&B file(s), 0 media file(s), 0 artifact file(s) and 0 other file(s)"
      ],
      "text/plain": [
       "<IPython.core.display.HTML object>"
      ]
     },
     "metadata": {},
     "output_type": "display_data"
    },
    {
     "data": {
      "text/html": [
       "Find logs at: <code>./wandb/run-20240104_210718-ndav7mld/logs</code>"
      ],
      "text/plain": [
       "<IPython.core.display.HTML object>"
      ]
     },
     "metadata": {},
     "output_type": "display_data"
    },
    {
     "name": "stderr",
     "output_type": "stream",
     "text": [
      "Run ndav7mld errored: AttributeError(\"probability estimates are not available for loss='hinge'\")\n",
      "\u001b[34m\u001b[1mwandb\u001b[0m: \u001b[32m\u001b[41mERROR\u001b[0m Run ndav7mld errored: AttributeError(\"probability estimates are not available for loss='hinge'\")\n",
      "\u001b[34m\u001b[1mwandb\u001b[0m: Agent Starting Run: s9160u2l with config:\n",
      "\u001b[34m\u001b[1mwandb\u001b[0m: \talpha: 0.0007376261078717085\n",
      "\u001b[34m\u001b[1mwandb\u001b[0m: \teta0: 0.013747031628478613\n",
      "\u001b[34m\u001b[1mwandb\u001b[0m: \tloss: hinge\n",
      "\u001b[34m\u001b[1mwandb\u001b[0m: \tmax_iter: 9423\n",
      "Failed to detect the name of this notebook, you can set it manually with the WANDB_NOTEBOOK_NAME environment variable to enable code saving.\n"
     ]
    },
    {
     "data": {
      "text/html": [
       "wandb version 0.16.1 is available!  To upgrade, please run:\n",
       " $ pip install wandb --upgrade"
      ],
      "text/plain": [
       "<IPython.core.display.HTML object>"
      ]
     },
     "metadata": {},
     "output_type": "display_data"
    },
    {
     "data": {
      "text/html": [
       "Tracking run with wandb version 0.15.11"
      ],
      "text/plain": [
       "<IPython.core.display.HTML object>"
      ]
     },
     "metadata": {},
     "output_type": "display_data"
    },
    {
     "data": {
      "text/html": [
       "Run data is saved locally in <code>/home/peng_sun2/workspace/llm-2023/wandb/run-20240104_210734-s9160u2l</code>"
      ],
      "text/plain": [
       "<IPython.core.display.HTML object>"
      ]
     },
     "metadata": {},
     "output_type": "display_data"
    },
    {
     "data": {
      "text/html": [
       "Syncing run <strong><a href='https://wandb.ai/peng_sun/llm-2023-SGD-hyperparameter/runs/s9160u2l' target=\"_blank\">ethereal-sweep-136</a></strong> to <a href='https://wandb.ai/peng_sun/llm-2023-SGD-hyperparameter' target=\"_blank\">Weights & Biases</a> (<a href='https://wandb.me/run' target=\"_blank\">docs</a>)<br/>Sweep page: <a href='https://wandb.ai/peng_sun/llm-2023-SGD-hyperparameter/sweeps/wyi8yb2f' target=\"_blank\">https://wandb.ai/peng_sun/llm-2023-SGD-hyperparameter/sweeps/wyi8yb2f</a>"
      ],
      "text/plain": [
       "<IPython.core.display.HTML object>"
      ]
     },
     "metadata": {},
     "output_type": "display_data"
    },
    {
     "data": {
      "text/html": [
       " View project at <a href='https://wandb.ai/peng_sun/llm-2023-SGD-hyperparameter' target=\"_blank\">https://wandb.ai/peng_sun/llm-2023-SGD-hyperparameter</a>"
      ],
      "text/plain": [
       "<IPython.core.display.HTML object>"
      ]
     },
     "metadata": {},
     "output_type": "display_data"
    },
    {
     "data": {
      "text/html": [
       " View sweep at <a href='https://wandb.ai/peng_sun/llm-2023-SGD-hyperparameter/sweeps/wyi8yb2f' target=\"_blank\">https://wandb.ai/peng_sun/llm-2023-SGD-hyperparameter/sweeps/wyi8yb2f</a>"
      ],
      "text/plain": [
       "<IPython.core.display.HTML object>"
      ]
     },
     "metadata": {},
     "output_type": "display_data"
    },
    {
     "data": {
      "text/html": [
       " View run at <a href='https://wandb.ai/peng_sun/llm-2023-SGD-hyperparameter/runs/s9160u2l' target=\"_blank\">https://wandb.ai/peng_sun/llm-2023-SGD-hyperparameter/runs/s9160u2l</a>"
      ],
      "text/plain": [
       "<IPython.core.display.HTML object>"
      ]
     },
     "metadata": {},
     "output_type": "display_data"
    },
    {
     "name": "stderr",
     "output_type": "stream",
     "text": [
      "Traceback (most recent call last):\n",
      "  File \"/tmp/ipykernel_17738/3206656641.py\", line 24, in train_sweep\n",
      "    eval_preds = model.predict_proba(eval_X)[:, 1]\n",
      "  File \"/home/peng_sun2/.local/lib/python3.9/site-packages/sklearn/utils/_available_if.py\", line 32, in __get__\n",
      "    if not self.check(obj):\n",
      "  File \"/home/peng_sun2/.local/lib/python3.9/site-packages/sklearn/linear_model/_stochastic_gradient.py\", line 1235, in _check_proba\n",
      "    raise AttributeError(\n",
      "AttributeError: probability estimates are not available for loss='hinge'\n"
     ]
    },
    {
     "data": {
      "text/html": [
       "Waiting for W&B process to finish... <strong style=\"color:red\">(failed 1).</strong> Press Control-C to abort syncing."
      ],
      "text/plain": [
       "<IPython.core.display.HTML object>"
      ]
     },
     "metadata": {},
     "output_type": "display_data"
    },
    {
     "data": {
      "text/html": [
       " View run <strong style=\"color:#cdcd00\">ethereal-sweep-136</strong> at: <a href='https://wandb.ai/peng_sun/llm-2023-SGD-hyperparameter/runs/s9160u2l' target=\"_blank\">https://wandb.ai/peng_sun/llm-2023-SGD-hyperparameter/runs/s9160u2l</a><br/>Synced 6 W&B file(s), 0 media file(s), 0 artifact file(s) and 0 other file(s)"
      ],
      "text/plain": [
       "<IPython.core.display.HTML object>"
      ]
     },
     "metadata": {},
     "output_type": "display_data"
    },
    {
     "data": {
      "text/html": [
       "Find logs at: <code>./wandb/run-20240104_210734-s9160u2l/logs</code>"
      ],
      "text/plain": [
       "<IPython.core.display.HTML object>"
      ]
     },
     "metadata": {},
     "output_type": "display_data"
    },
    {
     "name": "stderr",
     "output_type": "stream",
     "text": [
      "Run s9160u2l errored: AttributeError(\"probability estimates are not available for loss='hinge'\")\n",
      "\u001b[34m\u001b[1mwandb\u001b[0m: \u001b[32m\u001b[41mERROR\u001b[0m Run s9160u2l errored: AttributeError(\"probability estimates are not available for loss='hinge'\")\n",
      "\u001b[34m\u001b[1mwandb\u001b[0m: Agent Starting Run: rgzh0hib with config:\n",
      "\u001b[34m\u001b[1mwandb\u001b[0m: \talpha: 0.0001825228403032501\n",
      "\u001b[34m\u001b[1mwandb\u001b[0m: \teta0: 0.026737674513715063\n",
      "\u001b[34m\u001b[1mwandb\u001b[0m: \tloss: modified_huber\n",
      "\u001b[34m\u001b[1mwandb\u001b[0m: \tmax_iter: 3333\n",
      "Failed to detect the name of this notebook, you can set it manually with the WANDB_NOTEBOOK_NAME environment variable to enable code saving.\n"
     ]
    },
    {
     "data": {
      "text/html": [
       "wandb version 0.16.1 is available!  To upgrade, please run:\n",
       " $ pip install wandb --upgrade"
      ],
      "text/plain": [
       "<IPython.core.display.HTML object>"
      ]
     },
     "metadata": {},
     "output_type": "display_data"
    },
    {
     "data": {
      "text/html": [
       "Tracking run with wandb version 0.15.11"
      ],
      "text/plain": [
       "<IPython.core.display.HTML object>"
      ]
     },
     "metadata": {},
     "output_type": "display_data"
    },
    {
     "data": {
      "text/html": [
       "Run data is saved locally in <code>/home/peng_sun2/workspace/llm-2023/wandb/run-20240104_210750-rgzh0hib</code>"
      ],
      "text/plain": [
       "<IPython.core.display.HTML object>"
      ]
     },
     "metadata": {},
     "output_type": "display_data"
    },
    {
     "data": {
      "text/html": [
       "Syncing run <strong><a href='https://wandb.ai/peng_sun/llm-2023-SGD-hyperparameter/runs/rgzh0hib' target=\"_blank\">vibrant-sweep-137</a></strong> to <a href='https://wandb.ai/peng_sun/llm-2023-SGD-hyperparameter' target=\"_blank\">Weights & Biases</a> (<a href='https://wandb.me/run' target=\"_blank\">docs</a>)<br/>Sweep page: <a href='https://wandb.ai/peng_sun/llm-2023-SGD-hyperparameter/sweeps/wyi8yb2f' target=\"_blank\">https://wandb.ai/peng_sun/llm-2023-SGD-hyperparameter/sweeps/wyi8yb2f</a>"
      ],
      "text/plain": [
       "<IPython.core.display.HTML object>"
      ]
     },
     "metadata": {},
     "output_type": "display_data"
    },
    {
     "data": {
      "text/html": [
       " View project at <a href='https://wandb.ai/peng_sun/llm-2023-SGD-hyperparameter' target=\"_blank\">https://wandb.ai/peng_sun/llm-2023-SGD-hyperparameter</a>"
      ],
      "text/plain": [
       "<IPython.core.display.HTML object>"
      ]
     },
     "metadata": {},
     "output_type": "display_data"
    },
    {
     "data": {
      "text/html": [
       " View sweep at <a href='https://wandb.ai/peng_sun/llm-2023-SGD-hyperparameter/sweeps/wyi8yb2f' target=\"_blank\">https://wandb.ai/peng_sun/llm-2023-SGD-hyperparameter/sweeps/wyi8yb2f</a>"
      ],
      "text/plain": [
       "<IPython.core.display.HTML object>"
      ]
     },
     "metadata": {},
     "output_type": "display_data"
    },
    {
     "data": {
      "text/html": [
       " View run at <a href='https://wandb.ai/peng_sun/llm-2023-SGD-hyperparameter/runs/rgzh0hib' target=\"_blank\">https://wandb.ai/peng_sun/llm-2023-SGD-hyperparameter/runs/rgzh0hib</a>"
      ],
      "text/plain": [
       "<IPython.core.display.HTML object>"
      ]
     },
     "metadata": {},
     "output_type": "display_data"
    },
    {
     "data": {
      "text/html": [
       "Waiting for W&B process to finish... <strong style=\"color:green\">(success).</strong>"
      ],
      "text/plain": [
       "<IPython.core.display.HTML object>"
      ]
     },
     "metadata": {},
     "output_type": "display_data"
    },
    {
     "data": {
      "text/html": [
       "<style>\n",
       "    table.wandb td:nth-child(1) { padding: 0 10px; text-align: left ; width: auto;} td:nth-child(2) {text-align: left ; width: 100%}\n",
       "    .wandb-row { display: flex; flex-direction: row; flex-wrap: wrap; justify-content: flex-start; width: 100% }\n",
       "    .wandb-col { display: flex; flex-direction: column; flex-basis: 100%; flex: 1; padding: 10px; }\n",
       "    </style>\n",
       "<div class=\"wandb-row\"><div class=\"wandb-col\"><h3>Run history:</h3><br/><table class=\"wandb\"><tr><td>validatoin_auc</td><td>███▁█</td></tr></table><br/></div><div class=\"wandb-col\"><h3>Run summary:</h3><br/><table class=\"wandb\"><tr><td>validatoin_auc</td><td>0.99346</td></tr></table><br/></div></div>"
      ],
      "text/plain": [
       "<IPython.core.display.HTML object>"
      ]
     },
     "metadata": {},
     "output_type": "display_data"
    },
    {
     "data": {
      "text/html": [
       " View run <strong style=\"color:#cdcd00\">vibrant-sweep-137</strong> at: <a href='https://wandb.ai/peng_sun/llm-2023-SGD-hyperparameter/runs/rgzh0hib' target=\"_blank\">https://wandb.ai/peng_sun/llm-2023-SGD-hyperparameter/runs/rgzh0hib</a><br/>Synced 5 W&B file(s), 0 media file(s), 0 artifact file(s) and 0 other file(s)"
      ],
      "text/plain": [
       "<IPython.core.display.HTML object>"
      ]
     },
     "metadata": {},
     "output_type": "display_data"
    },
    {
     "data": {
      "text/html": [
       "Find logs at: <code>./wandb/run-20240104_210750-rgzh0hib/logs</code>"
      ],
      "text/plain": [
       "<IPython.core.display.HTML object>"
      ]
     },
     "metadata": {},
     "output_type": "display_data"
    },
    {
     "name": "stderr",
     "output_type": "stream",
     "text": [
      "\u001b[34m\u001b[1mwandb\u001b[0m: Agent Starting Run: 9ia9qzqv with config:\n",
      "\u001b[34m\u001b[1mwandb\u001b[0m: \talpha: 0.000107390786329829\n",
      "\u001b[34m\u001b[1mwandb\u001b[0m: \teta0: 0.06483381057797195\n",
      "\u001b[34m\u001b[1mwandb\u001b[0m: \tloss: modified_huber\n",
      "\u001b[34m\u001b[1mwandb\u001b[0m: \tmax_iter: 1046\n",
      "Failed to detect the name of this notebook, you can set it manually with the WANDB_NOTEBOOK_NAME environment variable to enable code saving.\n"
     ]
    },
    {
     "data": {
      "text/html": [
       "wandb version 0.16.1 is available!  To upgrade, please run:\n",
       " $ pip install wandb --upgrade"
      ],
      "text/plain": [
       "<IPython.core.display.HTML object>"
      ]
     },
     "metadata": {},
     "output_type": "display_data"
    },
    {
     "data": {
      "text/html": [
       "Tracking run with wandb version 0.15.11"
      ],
      "text/plain": [
       "<IPython.core.display.HTML object>"
      ]
     },
     "metadata": {},
     "output_type": "display_data"
    },
    {
     "data": {
      "text/html": [
       "Run data is saved locally in <code>/home/peng_sun2/workspace/llm-2023/wandb/run-20240104_210815-9ia9qzqv</code>"
      ],
      "text/plain": [
       "<IPython.core.display.HTML object>"
      ]
     },
     "metadata": {},
     "output_type": "display_data"
    },
    {
     "data": {
      "text/html": [
       "Syncing run <strong><a href='https://wandb.ai/peng_sun/llm-2023-SGD-hyperparameter/runs/9ia9qzqv' target=\"_blank\">laced-sweep-138</a></strong> to <a href='https://wandb.ai/peng_sun/llm-2023-SGD-hyperparameter' target=\"_blank\">Weights & Biases</a> (<a href='https://wandb.me/run' target=\"_blank\">docs</a>)<br/>Sweep page: <a href='https://wandb.ai/peng_sun/llm-2023-SGD-hyperparameter/sweeps/wyi8yb2f' target=\"_blank\">https://wandb.ai/peng_sun/llm-2023-SGD-hyperparameter/sweeps/wyi8yb2f</a>"
      ],
      "text/plain": [
       "<IPython.core.display.HTML object>"
      ]
     },
     "metadata": {},
     "output_type": "display_data"
    },
    {
     "data": {
      "text/html": [
       " View project at <a href='https://wandb.ai/peng_sun/llm-2023-SGD-hyperparameter' target=\"_blank\">https://wandb.ai/peng_sun/llm-2023-SGD-hyperparameter</a>"
      ],
      "text/plain": [
       "<IPython.core.display.HTML object>"
      ]
     },
     "metadata": {},
     "output_type": "display_data"
    },
    {
     "data": {
      "text/html": [
       " View sweep at <a href='https://wandb.ai/peng_sun/llm-2023-SGD-hyperparameter/sweeps/wyi8yb2f' target=\"_blank\">https://wandb.ai/peng_sun/llm-2023-SGD-hyperparameter/sweeps/wyi8yb2f</a>"
      ],
      "text/plain": [
       "<IPython.core.display.HTML object>"
      ]
     },
     "metadata": {},
     "output_type": "display_data"
    },
    {
     "data": {
      "text/html": [
       " View run at <a href='https://wandb.ai/peng_sun/llm-2023-SGD-hyperparameter/runs/9ia9qzqv' target=\"_blank\">https://wandb.ai/peng_sun/llm-2023-SGD-hyperparameter/runs/9ia9qzqv</a>"
      ],
      "text/plain": [
       "<IPython.core.display.HTML object>"
      ]
     },
     "metadata": {},
     "output_type": "display_data"
    },
    {
     "data": {
      "text/html": [
       "Waiting for W&B process to finish... <strong style=\"color:green\">(success).</strong>"
      ],
      "text/plain": [
       "<IPython.core.display.HTML object>"
      ]
     },
     "metadata": {},
     "output_type": "display_data"
    },
    {
     "data": {
      "text/html": [
       "<style>\n",
       "    table.wandb td:nth-child(1) { padding: 0 10px; text-align: left ; width: auto;} td:nth-child(2) {text-align: left ; width: 100%}\n",
       "    .wandb-row { display: flex; flex-direction: row; flex-wrap: wrap; justify-content: flex-start; width: 100% }\n",
       "    .wandb-col { display: flex; flex-direction: column; flex-basis: 100%; flex: 1; padding: 10px; }\n",
       "    </style>\n",
       "<div class=\"wandb-row\"><div class=\"wandb-col\"><h3>Run history:</h3><br/><table class=\"wandb\"><tr><td>validatoin_auc</td><td>███▁█</td></tr></table><br/></div><div class=\"wandb-col\"><h3>Run summary:</h3><br/><table class=\"wandb\"><tr><td>validatoin_auc</td><td>0.99411</td></tr></table><br/></div></div>"
      ],
      "text/plain": [
       "<IPython.core.display.HTML object>"
      ]
     },
     "metadata": {},
     "output_type": "display_data"
    },
    {
     "data": {
      "text/html": [
       " View run <strong style=\"color:#cdcd00\">laced-sweep-138</strong> at: <a href='https://wandb.ai/peng_sun/llm-2023-SGD-hyperparameter/runs/9ia9qzqv' target=\"_blank\">https://wandb.ai/peng_sun/llm-2023-SGD-hyperparameter/runs/9ia9qzqv</a><br/>Synced 5 W&B file(s), 0 media file(s), 0 artifact file(s) and 0 other file(s)"
      ],
      "text/plain": [
       "<IPython.core.display.HTML object>"
      ]
     },
     "metadata": {},
     "output_type": "display_data"
    },
    {
     "data": {
      "text/html": [
       "Find logs at: <code>./wandb/run-20240104_210815-9ia9qzqv/logs</code>"
      ],
      "text/plain": [
       "<IPython.core.display.HTML object>"
      ]
     },
     "metadata": {},
     "output_type": "display_data"
    },
    {
     "name": "stderr",
     "output_type": "stream",
     "text": [
      "\u001b[34m\u001b[1mwandb\u001b[0m: Agent Starting Run: h569r15k with config:\n",
      "\u001b[34m\u001b[1mwandb\u001b[0m: \talpha: 0.0001142920115320892\n",
      "\u001b[34m\u001b[1mwandb\u001b[0m: \teta0: 0.09799019680275996\n",
      "\u001b[34m\u001b[1mwandb\u001b[0m: \tloss: log\n",
      "\u001b[34m\u001b[1mwandb\u001b[0m: \tmax_iter: 9118\n",
      "Failed to detect the name of this notebook, you can set it manually with the WANDB_NOTEBOOK_NAME environment variable to enable code saving.\n"
     ]
    },
    {
     "data": {
      "text/html": [
       "wandb version 0.16.1 is available!  To upgrade, please run:\n",
       " $ pip install wandb --upgrade"
      ],
      "text/plain": [
       "<IPython.core.display.HTML object>"
      ]
     },
     "metadata": {},
     "output_type": "display_data"
    },
    {
     "data": {
      "text/html": [
       "Tracking run with wandb version 0.15.11"
      ],
      "text/plain": [
       "<IPython.core.display.HTML object>"
      ]
     },
     "metadata": {},
     "output_type": "display_data"
    },
    {
     "data": {
      "text/html": [
       "Run data is saved locally in <code>/home/peng_sun2/workspace/llm-2023/wandb/run-20240104_210841-h569r15k</code>"
      ],
      "text/plain": [
       "<IPython.core.display.HTML object>"
      ]
     },
     "metadata": {},
     "output_type": "display_data"
    },
    {
     "data": {
      "text/html": [
       "Syncing run <strong><a href='https://wandb.ai/peng_sun/llm-2023-SGD-hyperparameter/runs/h569r15k' target=\"_blank\">super-sweep-139</a></strong> to <a href='https://wandb.ai/peng_sun/llm-2023-SGD-hyperparameter' target=\"_blank\">Weights & Biases</a> (<a href='https://wandb.me/run' target=\"_blank\">docs</a>)<br/>Sweep page: <a href='https://wandb.ai/peng_sun/llm-2023-SGD-hyperparameter/sweeps/wyi8yb2f' target=\"_blank\">https://wandb.ai/peng_sun/llm-2023-SGD-hyperparameter/sweeps/wyi8yb2f</a>"
      ],
      "text/plain": [
       "<IPython.core.display.HTML object>"
      ]
     },
     "metadata": {},
     "output_type": "display_data"
    },
    {
     "data": {
      "text/html": [
       " View project at <a href='https://wandb.ai/peng_sun/llm-2023-SGD-hyperparameter' target=\"_blank\">https://wandb.ai/peng_sun/llm-2023-SGD-hyperparameter</a>"
      ],
      "text/plain": [
       "<IPython.core.display.HTML object>"
      ]
     },
     "metadata": {},
     "output_type": "display_data"
    },
    {
     "data": {
      "text/html": [
       " View sweep at <a href='https://wandb.ai/peng_sun/llm-2023-SGD-hyperparameter/sweeps/wyi8yb2f' target=\"_blank\">https://wandb.ai/peng_sun/llm-2023-SGD-hyperparameter/sweeps/wyi8yb2f</a>"
      ],
      "text/plain": [
       "<IPython.core.display.HTML object>"
      ]
     },
     "metadata": {},
     "output_type": "display_data"
    },
    {
     "data": {
      "text/html": [
       " View run at <a href='https://wandb.ai/peng_sun/llm-2023-SGD-hyperparameter/runs/h569r15k' target=\"_blank\">https://wandb.ai/peng_sun/llm-2023-SGD-hyperparameter/runs/h569r15k</a>"
      ],
      "text/plain": [
       "<IPython.core.display.HTML object>"
      ]
     },
     "metadata": {},
     "output_type": "display_data"
    },
    {
     "name": "stderr",
     "output_type": "stream",
     "text": [
      "/home/peng_sun2/.local/lib/python3.9/site-packages/sklearn/linear_model/_stochastic_gradient.py:163: FutureWarning: The loss 'log' was deprecated in v1.1 and will be removed in version 1.3. Use `loss='log_loss'` which is equivalent.\n",
      "  warnings.warn(\n",
      "/home/peng_sun2/.local/lib/python3.9/site-packages/sklearn/linear_model/_stochastic_gradient.py:163: FutureWarning: The loss 'log' was deprecated in v1.1 and will be removed in version 1.3. Use `loss='log_loss'` which is equivalent.\n",
      "  warnings.warn(\n",
      "/home/peng_sun2/.local/lib/python3.9/site-packages/sklearn/linear_model/_stochastic_gradient.py:163: FutureWarning: The loss 'log' was deprecated in v1.1 and will be removed in version 1.3. Use `loss='log_loss'` which is equivalent.\n",
      "  warnings.warn(\n",
      "/home/peng_sun2/.local/lib/python3.9/site-packages/sklearn/linear_model/_stochastic_gradient.py:163: FutureWarning: The loss 'log' was deprecated in v1.1 and will be removed in version 1.3. Use `loss='log_loss'` which is equivalent.\n",
      "  warnings.warn(\n",
      "/home/peng_sun2/.local/lib/python3.9/site-packages/sklearn/linear_model/_stochastic_gradient.py:163: FutureWarning: The loss 'log' was deprecated in v1.1 and will be removed in version 1.3. Use `loss='log_loss'` which is equivalent.\n",
      "  warnings.warn(\n"
     ]
    },
    {
     "data": {
      "text/html": [
       "Waiting for W&B process to finish... <strong style=\"color:green\">(success).</strong>"
      ],
      "text/plain": [
       "<IPython.core.display.HTML object>"
      ]
     },
     "metadata": {},
     "output_type": "display_data"
    },
    {
     "data": {
      "text/html": [
       "<style>\n",
       "    table.wandb td:nth-child(1) { padding: 0 10px; text-align: left ; width: auto;} td:nth-child(2) {text-align: left ; width: 100%}\n",
       "    .wandb-row { display: flex; flex-direction: row; flex-wrap: wrap; justify-content: flex-start; width: 100% }\n",
       "    .wandb-col { display: flex; flex-direction: column; flex-basis: 100%; flex: 1; padding: 10px; }\n",
       "    </style>\n",
       "<div class=\"wandb-row\"><div class=\"wandb-col\"><h3>Run history:</h3><br/><table class=\"wandb\"><tr><td>validatoin_auc</td><td>███▁▇</td></tr></table><br/></div><div class=\"wandb-col\"><h3>Run summary:</h3><br/><table class=\"wandb\"><tr><td>validatoin_auc</td><td>0.98656</td></tr></table><br/></div></div>"
      ],
      "text/plain": [
       "<IPython.core.display.HTML object>"
      ]
     },
     "metadata": {},
     "output_type": "display_data"
    },
    {
     "data": {
      "text/html": [
       " View run <strong style=\"color:#cdcd00\">super-sweep-139</strong> at: <a href='https://wandb.ai/peng_sun/llm-2023-SGD-hyperparameter/runs/h569r15k' target=\"_blank\">https://wandb.ai/peng_sun/llm-2023-SGD-hyperparameter/runs/h569r15k</a><br/>Synced 6 W&B file(s), 0 media file(s), 0 artifact file(s) and 0 other file(s)"
      ],
      "text/plain": [
       "<IPython.core.display.HTML object>"
      ]
     },
     "metadata": {},
     "output_type": "display_data"
    },
    {
     "data": {
      "text/html": [
       "Find logs at: <code>./wandb/run-20240104_210841-h569r15k/logs</code>"
      ],
      "text/plain": [
       "<IPython.core.display.HTML object>"
      ]
     },
     "metadata": {},
     "output_type": "display_data"
    },
    {
     "name": "stderr",
     "output_type": "stream",
     "text": [
      "\u001b[34m\u001b[1mwandb\u001b[0m: Agent Starting Run: dcq5gu78 with config:\n",
      "\u001b[34m\u001b[1mwandb\u001b[0m: \talpha: 0.00890364060032375\n",
      "\u001b[34m\u001b[1mwandb\u001b[0m: \teta0: 0.02349565525705348\n",
      "\u001b[34m\u001b[1mwandb\u001b[0m: \tloss: modified_huber\n",
      "\u001b[34m\u001b[1mwandb\u001b[0m: \tmax_iter: 1074\n",
      "Failed to detect the name of this notebook, you can set it manually with the WANDB_NOTEBOOK_NAME environment variable to enable code saving.\n"
     ]
    },
    {
     "data": {
      "text/html": [
       "wandb version 0.16.1 is available!  To upgrade, please run:\n",
       " $ pip install wandb --upgrade"
      ],
      "text/plain": [
       "<IPython.core.display.HTML object>"
      ]
     },
     "metadata": {},
     "output_type": "display_data"
    },
    {
     "data": {
      "text/html": [
       "Tracking run with wandb version 0.15.11"
      ],
      "text/plain": [
       "<IPython.core.display.HTML object>"
      ]
     },
     "metadata": {},
     "output_type": "display_data"
    },
    {
     "data": {
      "text/html": [
       "Run data is saved locally in <code>/home/peng_sun2/workspace/llm-2023/wandb/run-20240104_210907-dcq5gu78</code>"
      ],
      "text/plain": [
       "<IPython.core.display.HTML object>"
      ]
     },
     "metadata": {},
     "output_type": "display_data"
    },
    {
     "data": {
      "text/html": [
       "Syncing run <strong><a href='https://wandb.ai/peng_sun/llm-2023-SGD-hyperparameter/runs/dcq5gu78' target=\"_blank\">celestial-sweep-140</a></strong> to <a href='https://wandb.ai/peng_sun/llm-2023-SGD-hyperparameter' target=\"_blank\">Weights & Biases</a> (<a href='https://wandb.me/run' target=\"_blank\">docs</a>)<br/>Sweep page: <a href='https://wandb.ai/peng_sun/llm-2023-SGD-hyperparameter/sweeps/wyi8yb2f' target=\"_blank\">https://wandb.ai/peng_sun/llm-2023-SGD-hyperparameter/sweeps/wyi8yb2f</a>"
      ],
      "text/plain": [
       "<IPython.core.display.HTML object>"
      ]
     },
     "metadata": {},
     "output_type": "display_data"
    },
    {
     "data": {
      "text/html": [
       " View project at <a href='https://wandb.ai/peng_sun/llm-2023-SGD-hyperparameter' target=\"_blank\">https://wandb.ai/peng_sun/llm-2023-SGD-hyperparameter</a>"
      ],
      "text/plain": [
       "<IPython.core.display.HTML object>"
      ]
     },
     "metadata": {},
     "output_type": "display_data"
    },
    {
     "data": {
      "text/html": [
       " View sweep at <a href='https://wandb.ai/peng_sun/llm-2023-SGD-hyperparameter/sweeps/wyi8yb2f' target=\"_blank\">https://wandb.ai/peng_sun/llm-2023-SGD-hyperparameter/sweeps/wyi8yb2f</a>"
      ],
      "text/plain": [
       "<IPython.core.display.HTML object>"
      ]
     },
     "metadata": {},
     "output_type": "display_data"
    },
    {
     "data": {
      "text/html": [
       " View run at <a href='https://wandb.ai/peng_sun/llm-2023-SGD-hyperparameter/runs/dcq5gu78' target=\"_blank\">https://wandb.ai/peng_sun/llm-2023-SGD-hyperparameter/runs/dcq5gu78</a>"
      ],
      "text/plain": [
       "<IPython.core.display.HTML object>"
      ]
     },
     "metadata": {},
     "output_type": "display_data"
    },
    {
     "data": {
      "text/html": [
       "Waiting for W&B process to finish... <strong style=\"color:green\">(success).</strong>"
      ],
      "text/plain": [
       "<IPython.core.display.HTML object>"
      ]
     },
     "metadata": {},
     "output_type": "display_data"
    },
    {
     "data": {
      "text/html": [
       "<style>\n",
       "    table.wandb td:nth-child(1) { padding: 0 10px; text-align: left ; width: auto;} td:nth-child(2) {text-align: left ; width: 100%}\n",
       "    .wandb-row { display: flex; flex-direction: row; flex-wrap: wrap; justify-content: flex-start; width: 100% }\n",
       "    .wandb-col { display: flex; flex-direction: column; flex-basis: 100%; flex: 1; padding: 10px; }\n",
       "    </style>\n",
       "<div class=\"wandb-row\"><div class=\"wandb-col\"><h3>Run history:</h3><br/><table class=\"wandb\"><tr><td>validatoin_auc</td><td>▇█▇▁▆</td></tr></table><br/></div><div class=\"wandb-col\"><h3>Run summary:</h3><br/><table class=\"wandb\"><tr><td>validatoin_auc</td><td>0.97367</td></tr></table><br/></div></div>"
      ],
      "text/plain": [
       "<IPython.core.display.HTML object>"
      ]
     },
     "metadata": {},
     "output_type": "display_data"
    },
    {
     "data": {
      "text/html": [
       " View run <strong style=\"color:#cdcd00\">celestial-sweep-140</strong> at: <a href='https://wandb.ai/peng_sun/llm-2023-SGD-hyperparameter/runs/dcq5gu78' target=\"_blank\">https://wandb.ai/peng_sun/llm-2023-SGD-hyperparameter/runs/dcq5gu78</a><br/>Synced 5 W&B file(s), 0 media file(s), 0 artifact file(s) and 0 other file(s)"
      ],
      "text/plain": [
       "<IPython.core.display.HTML object>"
      ]
     },
     "metadata": {},
     "output_type": "display_data"
    },
    {
     "data": {
      "text/html": [
       "Find logs at: <code>./wandb/run-20240104_210907-dcq5gu78/logs</code>"
      ],
      "text/plain": [
       "<IPython.core.display.HTML object>"
      ]
     },
     "metadata": {},
     "output_type": "display_data"
    },
    {
     "name": "stderr",
     "output_type": "stream",
     "text": [
      "\u001b[34m\u001b[1mwandb\u001b[0m: Agent Starting Run: godcn1xu with config:\n",
      "\u001b[34m\u001b[1mwandb\u001b[0m: \talpha: 0.00028250942214293906\n",
      "\u001b[34m\u001b[1mwandb\u001b[0m: \teta0: 0.018961370238035104\n",
      "\u001b[34m\u001b[1mwandb\u001b[0m: \tloss: modified_huber\n",
      "\u001b[34m\u001b[1mwandb\u001b[0m: \tmax_iter: 1370\n",
      "Failed to detect the name of this notebook, you can set it manually with the WANDB_NOTEBOOK_NAME environment variable to enable code saving.\n"
     ]
    },
    {
     "data": {
      "text/html": [
       "wandb version 0.16.1 is available!  To upgrade, please run:\n",
       " $ pip install wandb --upgrade"
      ],
      "text/plain": [
       "<IPython.core.display.HTML object>"
      ]
     },
     "metadata": {},
     "output_type": "display_data"
    },
    {
     "data": {
      "text/html": [
       "Tracking run with wandb version 0.15.11"
      ],
      "text/plain": [
       "<IPython.core.display.HTML object>"
      ]
     },
     "metadata": {},
     "output_type": "display_data"
    },
    {
     "data": {
      "text/html": [
       "Run data is saved locally in <code>/home/peng_sun2/workspace/llm-2023/wandb/run-20240104_210933-godcn1xu</code>"
      ],
      "text/plain": [
       "<IPython.core.display.HTML object>"
      ]
     },
     "metadata": {},
     "output_type": "display_data"
    },
    {
     "data": {
      "text/html": [
       "Syncing run <strong><a href='https://wandb.ai/peng_sun/llm-2023-SGD-hyperparameter/runs/godcn1xu' target=\"_blank\">sage-sweep-141</a></strong> to <a href='https://wandb.ai/peng_sun/llm-2023-SGD-hyperparameter' target=\"_blank\">Weights & Biases</a> (<a href='https://wandb.me/run' target=\"_blank\">docs</a>)<br/>Sweep page: <a href='https://wandb.ai/peng_sun/llm-2023-SGD-hyperparameter/sweeps/wyi8yb2f' target=\"_blank\">https://wandb.ai/peng_sun/llm-2023-SGD-hyperparameter/sweeps/wyi8yb2f</a>"
      ],
      "text/plain": [
       "<IPython.core.display.HTML object>"
      ]
     },
     "metadata": {},
     "output_type": "display_data"
    },
    {
     "data": {
      "text/html": [
       " View project at <a href='https://wandb.ai/peng_sun/llm-2023-SGD-hyperparameter' target=\"_blank\">https://wandb.ai/peng_sun/llm-2023-SGD-hyperparameter</a>"
      ],
      "text/plain": [
       "<IPython.core.display.HTML object>"
      ]
     },
     "metadata": {},
     "output_type": "display_data"
    },
    {
     "data": {
      "text/html": [
       " View sweep at <a href='https://wandb.ai/peng_sun/llm-2023-SGD-hyperparameter/sweeps/wyi8yb2f' target=\"_blank\">https://wandb.ai/peng_sun/llm-2023-SGD-hyperparameter/sweeps/wyi8yb2f</a>"
      ],
      "text/plain": [
       "<IPython.core.display.HTML object>"
      ]
     },
     "metadata": {},
     "output_type": "display_data"
    },
    {
     "data": {
      "text/html": [
       " View run at <a href='https://wandb.ai/peng_sun/llm-2023-SGD-hyperparameter/runs/godcn1xu' target=\"_blank\">https://wandb.ai/peng_sun/llm-2023-SGD-hyperparameter/runs/godcn1xu</a>"
      ],
      "text/plain": [
       "<IPython.core.display.HTML object>"
      ]
     },
     "metadata": {},
     "output_type": "display_data"
    },
    {
     "data": {
      "text/html": [
       "Waiting for W&B process to finish... <strong style=\"color:green\">(success).</strong>"
      ],
      "text/plain": [
       "<IPython.core.display.HTML object>"
      ]
     },
     "metadata": {},
     "output_type": "display_data"
    },
    {
     "data": {
      "text/html": [
       "<style>\n",
       "    table.wandb td:nth-child(1) { padding: 0 10px; text-align: left ; width: auto;} td:nth-child(2) {text-align: left ; width: 100%}\n",
       "    .wandb-row { display: flex; flex-direction: row; flex-wrap: wrap; justify-content: flex-start; width: 100% }\n",
       "    .wandb-col { display: flex; flex-direction: column; flex-basis: 100%; flex: 1; padding: 10px; }\n",
       "    </style>\n",
       "<div class=\"wandb-row\"><div class=\"wandb-col\"><h3>Run history:</h3><br/><table class=\"wandb\"><tr><td>validatoin_auc</td><td>███▁█</td></tr></table><br/></div><div class=\"wandb-col\"><h3>Run summary:</h3><br/><table class=\"wandb\"><tr><td>validatoin_auc</td><td>0.99255</td></tr></table><br/></div></div>"
      ],
      "text/plain": [
       "<IPython.core.display.HTML object>"
      ]
     },
     "metadata": {},
     "output_type": "display_data"
    },
    {
     "data": {
      "text/html": [
       " View run <strong style=\"color:#cdcd00\">sage-sweep-141</strong> at: <a href='https://wandb.ai/peng_sun/llm-2023-SGD-hyperparameter/runs/godcn1xu' target=\"_blank\">https://wandb.ai/peng_sun/llm-2023-SGD-hyperparameter/runs/godcn1xu</a><br/>Synced 5 W&B file(s), 0 media file(s), 0 artifact file(s) and 0 other file(s)"
      ],
      "text/plain": [
       "<IPython.core.display.HTML object>"
      ]
     },
     "metadata": {},
     "output_type": "display_data"
    },
    {
     "data": {
      "text/html": [
       "Find logs at: <code>./wandb/run-20240104_210933-godcn1xu/logs</code>"
      ],
      "text/plain": [
       "<IPython.core.display.HTML object>"
      ]
     },
     "metadata": {},
     "output_type": "display_data"
    },
    {
     "name": "stderr",
     "output_type": "stream",
     "text": [
      "\u001b[34m\u001b[1mwandb\u001b[0m: Agent Starting Run: o4s7fs89 with config:\n",
      "\u001b[34m\u001b[1mwandb\u001b[0m: \talpha: 0.00017211102227684567\n",
      "\u001b[34m\u001b[1mwandb\u001b[0m: \teta0: 0.06433252509244095\n",
      "\u001b[34m\u001b[1mwandb\u001b[0m: \tloss: modified_huber\n",
      "\u001b[34m\u001b[1mwandb\u001b[0m: \tmax_iter: 2221\n",
      "Failed to detect the name of this notebook, you can set it manually with the WANDB_NOTEBOOK_NAME environment variable to enable code saving.\n"
     ]
    },
    {
     "data": {
      "text/html": [
       "wandb version 0.16.1 is available!  To upgrade, please run:\n",
       " $ pip install wandb --upgrade"
      ],
      "text/plain": [
       "<IPython.core.display.HTML object>"
      ]
     },
     "metadata": {},
     "output_type": "display_data"
    },
    {
     "data": {
      "text/html": [
       "Tracking run with wandb version 0.15.11"
      ],
      "text/plain": [
       "<IPython.core.display.HTML object>"
      ]
     },
     "metadata": {},
     "output_type": "display_data"
    },
    {
     "data": {
      "text/html": [
       "Run data is saved locally in <code>/home/peng_sun2/workspace/llm-2023/wandb/run-20240104_210958-o4s7fs89</code>"
      ],
      "text/plain": [
       "<IPython.core.display.HTML object>"
      ]
     },
     "metadata": {},
     "output_type": "display_data"
    },
    {
     "data": {
      "text/html": [
       "Syncing run <strong><a href='https://wandb.ai/peng_sun/llm-2023-SGD-hyperparameter/runs/o4s7fs89' target=\"_blank\">vibrant-sweep-142</a></strong> to <a href='https://wandb.ai/peng_sun/llm-2023-SGD-hyperparameter' target=\"_blank\">Weights & Biases</a> (<a href='https://wandb.me/run' target=\"_blank\">docs</a>)<br/>Sweep page: <a href='https://wandb.ai/peng_sun/llm-2023-SGD-hyperparameter/sweeps/wyi8yb2f' target=\"_blank\">https://wandb.ai/peng_sun/llm-2023-SGD-hyperparameter/sweeps/wyi8yb2f</a>"
      ],
      "text/plain": [
       "<IPython.core.display.HTML object>"
      ]
     },
     "metadata": {},
     "output_type": "display_data"
    },
    {
     "data": {
      "text/html": [
       " View project at <a href='https://wandb.ai/peng_sun/llm-2023-SGD-hyperparameter' target=\"_blank\">https://wandb.ai/peng_sun/llm-2023-SGD-hyperparameter</a>"
      ],
      "text/plain": [
       "<IPython.core.display.HTML object>"
      ]
     },
     "metadata": {},
     "output_type": "display_data"
    },
    {
     "data": {
      "text/html": [
       " View sweep at <a href='https://wandb.ai/peng_sun/llm-2023-SGD-hyperparameter/sweeps/wyi8yb2f' target=\"_blank\">https://wandb.ai/peng_sun/llm-2023-SGD-hyperparameter/sweeps/wyi8yb2f</a>"
      ],
      "text/plain": [
       "<IPython.core.display.HTML object>"
      ]
     },
     "metadata": {},
     "output_type": "display_data"
    },
    {
     "data": {
      "text/html": [
       " View run at <a href='https://wandb.ai/peng_sun/llm-2023-SGD-hyperparameter/runs/o4s7fs89' target=\"_blank\">https://wandb.ai/peng_sun/llm-2023-SGD-hyperparameter/runs/o4s7fs89</a>"
      ],
      "text/plain": [
       "<IPython.core.display.HTML object>"
      ]
     },
     "metadata": {},
     "output_type": "display_data"
    },
    {
     "data": {
      "text/html": [
       "Waiting for W&B process to finish... <strong style=\"color:green\">(success).</strong>"
      ],
      "text/plain": [
       "<IPython.core.display.HTML object>"
      ]
     },
     "metadata": {},
     "output_type": "display_data"
    },
    {
     "data": {
      "text/html": [
       "<style>\n",
       "    table.wandb td:nth-child(1) { padding: 0 10px; text-align: left ; width: auto;} td:nth-child(2) {text-align: left ; width: 100%}\n",
       "    .wandb-row { display: flex; flex-direction: row; flex-wrap: wrap; justify-content: flex-start; width: 100% }\n",
       "    .wandb-col { display: flex; flex-direction: column; flex-basis: 100%; flex: 1; padding: 10px; }\n",
       "    </style>\n",
       "<div class=\"wandb-row\"><div class=\"wandb-col\"><h3>Run history:</h3><br/><table class=\"wandb\"><tr><td>validatoin_auc</td><td>███▁█</td></tr></table><br/></div><div class=\"wandb-col\"><h3>Run summary:</h3><br/><table class=\"wandb\"><tr><td>validatoin_auc</td><td>0.99339</td></tr></table><br/></div></div>"
      ],
      "text/plain": [
       "<IPython.core.display.HTML object>"
      ]
     },
     "metadata": {},
     "output_type": "display_data"
    },
    {
     "data": {
      "text/html": [
       " View run <strong style=\"color:#cdcd00\">vibrant-sweep-142</strong> at: <a href='https://wandb.ai/peng_sun/llm-2023-SGD-hyperparameter/runs/o4s7fs89' target=\"_blank\">https://wandb.ai/peng_sun/llm-2023-SGD-hyperparameter/runs/o4s7fs89</a><br/>Synced 5 W&B file(s), 0 media file(s), 0 artifact file(s) and 0 other file(s)"
      ],
      "text/plain": [
       "<IPython.core.display.HTML object>"
      ]
     },
     "metadata": {},
     "output_type": "display_data"
    },
    {
     "data": {
      "text/html": [
       "Find logs at: <code>./wandb/run-20240104_210958-o4s7fs89/logs</code>"
      ],
      "text/plain": [
       "<IPython.core.display.HTML object>"
      ]
     },
     "metadata": {},
     "output_type": "display_data"
    },
    {
     "name": "stderr",
     "output_type": "stream",
     "text": [
      "\u001b[34m\u001b[1mwandb\u001b[0m: Sweep Agent: Waiting for job.\n",
      "\u001b[34m\u001b[1mwandb\u001b[0m: Job received.\n",
      "\u001b[34m\u001b[1mwandb\u001b[0m: Agent Starting Run: yyelhxe9 with config:\n",
      "\u001b[34m\u001b[1mwandb\u001b[0m: \talpha: 0.00028454198645635846\n",
      "\u001b[34m\u001b[1mwandb\u001b[0m: \teta0: 0.02291995001785229\n",
      "\u001b[34m\u001b[1mwandb\u001b[0m: \tloss: modified_huber\n",
      "\u001b[34m\u001b[1mwandb\u001b[0m: \tmax_iter: 7888\n",
      "Failed to detect the name of this notebook, you can set it manually with the WANDB_NOTEBOOK_NAME environment variable to enable code saving.\n"
     ]
    }
   ],
   "source": [
    "from sklearn.model_selection import StratifiedGroupKFold\n",
    "from sklearn import metrics\n",
    "from sklearn.linear_model import SGDClassifier\n",
    "## cv split\n",
    "skf = StratifiedGroupKFold(n_splits = 5)\n",
    "skf.get_n_splits(tf_train, y_train, groups =train['prompt_name'])\n",
    "\n",
    "def train_sweep():\n",
    "    with wandb.init() as run:\n",
    "        config = wandb.config\n",
    "        for i, (train_idx, test_idx) in enumerate(skf.split(tf_train, y_train, groups = train['prompt_name'])):\n",
    "            train_X = tf_train[train_idx]\n",
    "            eval_X = tf_train[test_idx];\n",
    "            train_y = y_train[train_idx]\n",
    "            eval_y = y_train[test_idx];\n",
    " \n",
    "            model = SGDClassifier(\n",
    "                alpha = config.alpha,\n",
    "                loss = config.loss,\n",
    "                eta0 = config.eta0,\n",
    "                max_iter = config.max_iter\n",
    "            )\n",
    "            model.fit(train_X, train_y);\n",
    "            eval_preds = model.predict_proba(eval_X)[:, 1]\n",
    "            fpr, tpr, thresholds = metrics.roc_curve(eval_y, eval_preds, pos_label = 1)\n",
    "            eval_auc = metrics.auc(fpr, tpr)\n",
    "            wandb.log({\n",
    "                'validatoin_auc': eval_auc\n",
    "            });\n",
    "wandb.agent(sweep_id, function = train_sweep)"
   ]
  },
  {
   "cell_type": "code",
   "execution_count": 34,
   "id": "a2b63630",
   "metadata": {},
   "outputs": [],
   "source": [
    "wandb.finish()"
   ]
  },
  {
   "cell_type": "markdown",
   "id": "8f2585fb",
   "metadata": {},
   "source": [
    "### Best parameters\n",
    "\n",
    "* colsample_bynode = 0.9669\n",
    "* colsample_bytree = 0.9645\n",
    "* lambda_l1 = 0.7217\n",
    "* lambda_l2 = 3.207\n",
    "* learning_rate = 0.09574\n",
    "* max_bin = 184\n",
    "* max_depth = 62\n",
    "* min_data_in_leaf = 111\n"
   ]
  },
  {
   "cell_type": "code",
   "execution_count": null,
   "id": "089daac5",
   "metadata": {},
   "outputs": [],
   "source": []
  }
 ],
 "metadata": {
  "kernelspec": {
   "display_name": "Python 3 (ipykernel)",
   "language": "python",
   "name": "python3"
  },
  "language_info": {
   "codemirror_mode": {
    "name": "ipython",
    "version": 3
   },
   "file_extension": ".py",
   "mimetype": "text/x-python",
   "name": "python",
   "nbconvert_exporter": "python",
   "pygments_lexer": "ipython3",
   "version": "3.9.12"
  }
 },
 "nbformat": 4,
 "nbformat_minor": 5
}
