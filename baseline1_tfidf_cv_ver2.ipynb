{
 "cells": [
  {
   "cell_type": "code",
   "execution_count": 1,
   "id": "db58bf2e",
   "metadata": {},
   "outputs": [],
   "source": [
    "import sys\n",
    "import gc\n",
    "\n",
    "import pandas as pd\n",
    "from sklearn.model_selection import StratifiedKFold\n",
    "import numpy as np\n",
    "from sklearn.metrics import roc_auc_score\n",
    "import numpy as np\n",
    "from lightgbm import LGBMClassifier\n",
    "from sklearn.feature_extraction.text import TfidfVectorizer\n",
    "\n",
    "from tokenizers import (\n",
    "    decoders,\n",
    "    models,\n",
    "    normalizers,\n",
    "    pre_tokenizers,\n",
    "    processors,\n",
    "    trainers,\n",
    "    Tokenizer,\n",
    ")\n",
    "\n",
    "from datasets import Dataset\n",
    "from tqdm.auto import tqdm\n",
    "from transformers import PreTrainedTokenizerFast\n",
    "\n",
    "from sklearn.linear_model import SGDClassifier\n",
    "from sklearn.naive_bayes import MultinomialNB\n",
    "from sklearn.ensemble import VotingClassifier\n",
    "import os\n",
    "os.environ[\"TOKENIZERS_PARALLELISM\"] = \"False\""
   ]
  },
  {
   "cell_type": "code",
   "execution_count": 2,
   "id": "39ec8c87",
   "metadata": {},
   "outputs": [
    {
     "name": "stdout",
     "output_type": "stream",
     "text": [
      "1.2.2\n",
      "3.3.2\n"
     ]
    }
   ],
   "source": [
    "import sklearn\n",
    "import lightgbm\n",
    "\n",
    "print(sklearn.__version__)\n",
    "print(lightgbm.__version__)"
   ]
  },
  {
   "cell_type": "code",
   "execution_count": 3,
   "id": "a8746d58",
   "metadata": {},
   "outputs": [],
   "source": [
    "test = pd.read_csv('/home/peng_sun2/s3shared/kaggle/llm-2023/data/test_essays.csv')\n",
    "sub = pd.read_csv('/home/peng_sun2/s3shared/kaggle/llm-2023/data/sample_submission.csv')\n",
    "org_train = pd.read_csv('/home/peng_sun2/s3shared/kaggle/llm-2023/data/train_essays.csv')"
   ]
  },
  {
   "cell_type": "code",
   "execution_count": 4,
   "id": "774cc0a4",
   "metadata": {},
   "outputs": [
    {
     "data": {
      "text/plain": [
       "(44868, 5)"
      ]
     },
     "metadata": {},
     "output_type": "display_data"
    }
   ],
   "source": [
    "train = pd.read_csv('/home/peng_sun2/s3shared/kaggle/llm-2023/data/daigt/train_v2_drcat_02.csv', sep=',')\n",
    "display(train.shape);"
   ]
  },
  {
   "cell_type": "markdown",
   "id": "0f2b3f5c",
   "metadata": {},
   "source": [
    "#### Read and append the generated data"
   ]
  },
  {
   "cell_type": "code",
   "execution_count": 5,
   "id": "950181df",
   "metadata": {},
   "outputs": [
    {
     "data": {
      "text/plain": [
       "(18894, 5)"
      ]
     },
     "metadata": {},
     "output_type": "display_data"
    }
   ],
   "source": [
    "train_gen_data = pd.read_parquet('/home/peng_sun2/s3shared/kaggle/llm-2023/external_data/gen_data_21122023.parquet')\n",
    "display(train_gen_data.shape)"
   ]
  },
  {
   "cell_type": "code",
   "execution_count": 6,
   "id": "5f8ff17d",
   "metadata": {},
   "outputs": [],
   "source": [
    "train = train.drop_duplicates(subset = ['text'])\n",
    "train.reset_index(drop = True, inplace = True)\n",
    "\n",
    "### append the generated data\n",
    "# train = pd.concat([train, train_gen_data], axis = 0).reset_index(drop = True)\n",
    "# display(train.shape)"
   ]
  },
  {
   "cell_type": "code",
   "execution_count": 7,
   "id": "f647664c",
   "metadata": {},
   "outputs": [],
   "source": [
    "LOWERCASE = False\n",
    "VOCAB_SIZE = 30522"
   ]
  },
  {
   "cell_type": "code",
   "execution_count": 8,
   "id": "d9b4831d",
   "metadata": {},
   "outputs": [],
   "source": [
    "## Create byte-pair encoding tokenizer\n",
    "raw_tokenizer = Tokenizer(models.BPE(unk_token='[UNK]'))"
   ]
  },
  {
   "cell_type": "code",
   "execution_count": 9,
   "id": "5cb8ef28",
   "metadata": {},
   "outputs": [],
   "source": [
    "## adding normalization and pre_tokenizer\n",
    "raw_tokenizer.normalizer = normalizers.Sequence([normalizers.NFC()]+ [normalizers.Lowercase()] if LOWERCASE else [])\n",
    "raw_tokenizer.pre_tokenizer = pre_tokenizers.ByteLevel()"
   ]
  },
  {
   "cell_type": "code",
   "execution_count": 10,
   "id": "61f33614",
   "metadata": {},
   "outputs": [],
   "source": [
    "# Adding special tokens and creating trainer instance\n",
    "special_tokens = [\"[UNK]\", \"[PAD]\", \"[CLS]\", \"[SEP]\", \"[MASK]\"]\n",
    "trainer = trainers.BpeTrainer(vocab_size = VOCAB_SIZE, special_tokens = special_tokens)"
   ]
  },
  {
   "cell_type": "code",
   "execution_count": 11,
   "id": "08980728",
   "metadata": {},
   "outputs": [
    {
     "name": "stdout",
     "output_type": "stream",
     "text": [
      "\n",
      "\n",
      "\n"
     ]
    },
    {
     "name": "stderr",
     "output_type": "stream",
     "text": [
      "/home/ubuntu/anaconda3/lib/python3.9/site-packages/pyarrow/pandas_compat.py:358: FutureWarning: is_sparse is deprecated and will be removed in a future version. Check `isinstance(dtype, pd.SparseDtype)` instead.\n",
      "  if _pandas_api.is_sparse(col):\n"
     ]
    },
    {
     "data": {
      "application/json": {
       "ascii": false,
       "bar_format": null,
       "colour": null,
       "elapsed": 0.018505334854125977,
       "initial": 0,
       "n": 0,
       "ncols": null,
       "nrows": null,
       "postfix": null,
       "prefix": "",
       "rate": null,
       "total": 3,
       "unit": "it",
       "unit_divisor": 1000,
       "unit_scale": false
      },
      "application/vnd.jupyter.widget-view+json": {
       "model_id": "7d42802d94b04078ac9089665a7f2c99",
       "version_major": 2,
       "version_minor": 0
      },
      "text/plain": [
       "  0%|          | 0/3 [00:00<?, ?it/s]"
      ]
     },
     "metadata": {},
     "output_type": "display_data"
    },
    {
     "data": {
      "application/json": {
       "ascii": false,
       "bar_format": null,
       "colour": null,
       "elapsed": 0.017859220504760742,
       "initial": 0,
       "n": 0,
       "ncols": null,
       "nrows": null,
       "postfix": null,
       "prefix": "",
       "rate": null,
       "total": 44868,
       "unit": "it",
       "unit_divisor": 1000,
       "unit_scale": false
      },
      "application/vnd.jupyter.widget-view+json": {
       "model_id": "204f361e4f9b4be988c7a3143e85494c",
       "version_major": 2,
       "version_minor": 0
      },
      "text/plain": [
       "  0%|          | 0/44868 [00:00<?, ?it/s]"
      ]
     },
     "metadata": {},
     "output_type": "display_data"
    }
   ],
   "source": [
    "# creating huggingface dataset object\n",
    "dataset = Dataset.from_pandas(test[['text']])\n",
    "def train_corp_iter():\n",
    "    for i in range(0, len(dataset), 1000):\n",
    "        yield dataset[i:i+1000]['text']\n",
    "raw_tokenizer.train_from_iterator(train_corp_iter(), trainer = trainer)\n",
    "tokenizer = PreTrainedTokenizerFast(\n",
    "    tokenizer_object=raw_tokenizer,\n",
    "    unk_token=\"[UNK]\",\n",
    "    pad_token=\"[PAD]\",\n",
    "    cls_token=\"[CLS]\",\n",
    "    sep_token=\"[SEP]\",\n",
    "    mask_token=\"[MASK]\",\n",
    ")\n",
    "tokenized_texts_test = []\n",
    "for text in tqdm(test['text'].tolist()):\n",
    "    tokenized_texts_test.append(tokenizer.tokenize(text))\n",
    "\n",
    "tokenized_texts_train = []\n",
    "\n",
    "for text in tqdm(train['text'].tolist()):\n",
    "    tokenized_texts_train.append(tokenizer.tokenize(text))"
   ]
  },
  {
   "cell_type": "code",
   "execution_count": 12,
   "id": "e8f7ea9f",
   "metadata": {},
   "outputs": [
    {
     "data": {
      "text/plain": [
       "['ĠBbb', 'Ġccc', 'Ġddd', '.']"
      ]
     },
     "execution_count": 12,
     "metadata": {},
     "output_type": "execute_result"
    }
   ],
   "source": [
    "tokenized_texts_test[1]"
   ]
  },
  {
   "cell_type": "code",
   "execution_count": 13,
   "id": "93001dbb",
   "metadata": {},
   "outputs": [],
   "source": [
    "def dummy(text):\n",
    "    return text"
   ]
  },
  {
   "cell_type": "code",
   "execution_count": 14,
   "id": "d8c63bb3",
   "metadata": {},
   "outputs": [
    {
     "name": "stdout",
     "output_type": "stream",
     "text": [
      "{'ĠAaa Ġbbb Ġccc': 0, 'Ġbbb Ġccc .': 6, 'ĠAaa Ġbbb Ġccc .': 1, 'ĠBbb Ġccc Ġddd': 2, 'Ġccc Ġddd .': 7, 'ĠBbb Ġccc Ġddd .': 3, 'ĠCCC Ġddd Ġeee': 4, 'Ġddd Ġeee .': 8, 'ĠCCC Ġddd Ġeee .': 5}\n"
     ]
    },
    {
     "data": {
      "text/plain": [
       "21"
      ]
     },
     "execution_count": 14,
     "metadata": {},
     "output_type": "execute_result"
    }
   ],
   "source": [
    "vectorizer = TfidfVectorizer(ngram_range = (3, 5), lowercase=False, sublinear_tf = True, analyzer = 'word',\n",
    "                            tokenizer = dummy,\n",
    "                            preprocessor = dummy,\n",
    "                            token_pattern = None,\n",
    "                            strip_accents = 'unicode')\n",
    "vectorizer.fit(tokenized_texts_test)\n",
    "\n",
    "# Getting vocab\n",
    "vocab = vectorizer.vocabulary_\n",
    "\n",
    "print(vocab)\n",
    "\n",
    "vectorizer = TfidfVectorizer(ngram_range=(3, 5), lowercase=False, sublinear_tf=True, \n",
    "                             #vocabulary=vocab,\n",
    "                            analyzer = 'word',\n",
    "                            tokenizer = dummy,\n",
    "                            preprocessor = dummy,\n",
    "                            token_pattern = None, strip_accents='unicode'\n",
    "                            )\n",
    "\n",
    "tf_train = vectorizer.fit_transform(tokenized_texts_train)\n",
    "tf_test = vectorizer.transform(tokenized_texts_test)\n",
    "## get the vocabulary of the training dataset\n",
    "train_vocab = vectorizer.vocabulary_\n",
    "\n",
    "del vectorizer\n",
    "gc.collect()"
   ]
  },
  {
   "cell_type": "markdown",
   "id": "fee913bc",
   "metadata": {},
   "source": [
    "### Convert the type from numpy.float64 to numpy.float32"
   ]
  },
  {
   "cell_type": "code",
   "execution_count": 15,
   "id": "a0c8fe58",
   "metadata": {},
   "outputs": [],
   "source": [
    "import numpy as np\n",
    "from scipy.sparse import csr_matrix\n",
    "tf_train = tf_train.astype(np.float32)"
   ]
  },
  {
   "cell_type": "code",
   "execution_count": 16,
   "id": "83ee9794",
   "metadata": {},
   "outputs": [],
   "source": [
    "tf_test = tf_test.astype(np.float32)"
   ]
  },
  {
   "cell_type": "markdown",
   "id": "e1b7a56d",
   "metadata": {},
   "source": [
    "### Convert the type from numpy.float64 to numpy.float16"
   ]
  },
  {
   "cell_type": "code",
   "execution_count": 15,
   "id": "5ff0482d",
   "metadata": {},
   "outputs": [
    {
     "data": {
      "text/plain": [
       "0"
      ]
     },
     "execution_count": 15,
     "metadata": {},
     "output_type": "execute_result"
    }
   ],
   "source": [
    "# import numpy as np\n",
    "# from scipy.sparse import csr_matrix\n",
    "\n",
    "# ## convert data for tf_train\n",
    "# data  = tf_train.data.astype(np.float16)\n",
    "# indices = tf_train.indices\n",
    "# indptr = tf_train.indptr\n",
    "# tf_train = csr_matrix((data, indices, indptr), shape = tf_train.shape)\n",
    "\n",
    "\n",
    "# ## convert data for tf_test\n",
    "# data = tf_test.data.astype(np.float16)\n",
    "# indices = tf_test.indices\n",
    "# indptr = tf_test.indptr\n",
    "# tf_test = csr_matrix((data, indices, indptr), shape = tf_test.shape)\n",
    "\n",
    "# del data, indices, indptr\n",
    "# gc.collect()"
   ]
  },
  {
   "cell_type": "markdown",
   "id": "d0209d0a",
   "metadata": {},
   "source": [
    "## Start training"
   ]
  },
  {
   "cell_type": "code",
   "execution_count": 16,
   "id": "12c0db6f",
   "metadata": {},
   "outputs": [
    {
     "data": {
      "text/plain": [
       "['/home/peng_sun2/s3shared/kaggle/llm-2023/baseline1/vocab_train.pkl']"
      ]
     },
     "execution_count": 16,
     "metadata": {},
     "output_type": "execute_result"
    }
   ],
   "source": [
    "### save train_vocab\n",
    "import joblib\n",
    "model_path = '/home/peng_sun2/s3shared/kaggle/llm-2023/baseline1/'\n",
    "joblib.dump(train_vocab, f'{model_path}vocab_train.pkl')"
   ]
  },
  {
   "cell_type": "code",
   "execution_count": 19,
   "id": "024a6bc1",
   "metadata": {},
   "outputs": [],
   "source": [
    "y_train = train['label'].values"
   ]
  },
  {
   "cell_type": "code",
   "execution_count": 20,
   "id": "e3c74dd4",
   "metadata": {},
   "outputs": [],
   "source": [
    "\n",
    "\n",
    "# # Check if it's in scoring stage\n",
    "# if len(test.text.values) <= 5:\n",
    "#     # if not, just sample submission\n",
    "#     sub.to_csv('submission.csv', index=False)\n",
    "# else:\n",
    "# otherwise, run fitting process\n",
    "clf = MultinomialNB(alpha=0.02)\n",
    "clf2 = MultinomialNB(alpha=0.01)\n",
    "sgd_model = SGDClassifier(max_iter=8000, tol=1e-4, loss=\"modified_huber\") \n",
    "p6={\n",
    "    'n_iter': 1500,\n",
    "    'verbose': -1,\n",
    "    'objective': 'binary',\n",
    "    'metric': 'auc',\n",
    "    'learning_rate': 0.05073909898961407, \n",
    "    'colsample_bytree': 0.726023996436955, \n",
    "    'colsample_bynode': 0.5803681307354022, \n",
    "    'lambda_l1': 8.562963348932286, \n",
    "    'lambda_l2': 4.893256185259296, \n",
    "    'min_data_in_leaf': 115, \n",
    "    'max_depth': 123, \n",
    "    'max_bin': 250,\n",
    "    'device': 'gpu'\n",
    "}\n",
    "lgb=LGBMClassifier(**p6)\n",
    "\n",
    "from catboost import CatBoostClassifier\n",
    "\n",
    "cat=CatBoostClassifier(\n",
    "    iterations=1000,\n",
    "    verbose=0,\n",
    "    l2_leaf_reg=6.6591278779517808,\n",
    "    learning_rate=0.005689066836106983,\n",
    "    allow_const_label=True\n",
    ")\n",
    "weights = [0.45, 0.45, 0.3, 0.45]\n",
    "#weights = [0.1]\n",
    "weights = [w/sum(weights) for w in weights]\n",
    "\n",
    "# ensemble = VotingClassifier(\n",
    "#     estimators=[\n",
    "#       ('mnb',clf),\n",
    "# #         ('sgd', sgd_model),\n",
    "# #          ('lgb',lgb), \n",
    "# #         ('cat', cat)\n",
    "#     ],\n",
    "#     weights=weights, \n",
    "#     voting='soft', n_jobs=1)\n",
    "    \n",
    "    \n",
    "    "
   ]
  },
  {
   "cell_type": "code",
   "execution_count": 19,
   "id": "4e1841a6",
   "metadata": {},
   "outputs": [],
   "source": [
    "# import joblib \n",
    "# ensemble.fit(tf_train, y_train )\n",
    "# ## output the models\n",
    "# model_path = '/home/peng_sun2/s3shared/kaggle/llm-2023/baseline1/'\n",
    "# # joblib.dump(clf, f'{model_path}clf.pkl');\n",
    "# # joblib.dump(sgd_model, f'{model_path}sgd_model.pkl')\n",
    "# # joblib.dump(lgb, f'{model_path}lgb.pkl')\n",
    "# # joblib.dump(cat, f'{model_path}cat.pkl')\n",
    "# joblib.dump(ensemble, f'{model_path}ensemble.pkl');"
   ]
  },
  {
   "cell_type": "code",
   "execution_count": 21,
   "id": "5e82ac98",
   "metadata": {},
   "outputs": [
    {
     "name": "stdout",
     "output_type": "stream",
     "text": [
      "(35894, 20784)\n"
     ]
    },
    {
     "name": "stderr",
     "output_type": "stream",
     "text": [
      "/home/ubuntu/anaconda3/lib/python3.9/site-packages/lightgbm/engine.py:177: UserWarning: Found `n_iter` in params. Will use it instead of argument\n",
      "  _log_warning(f\"Found `{alias}` in params. Will use it instead of argument\")\n"
     ]
    },
    {
     "name": "stdout",
     "output_type": "stream",
     "text": [
      "[LightGBM] [Warning] lambda_l1 is set=8.562963348932286, reg_alpha=0.0 will be ignored. Current value: lambda_l1=8.562963348932286\n",
      "[LightGBM] [Warning] lambda_l2 is set=4.893256185259296, reg_lambda=0.0 will be ignored. Current value: lambda_l2=4.893256185259296\n",
      "[LightGBM] [Warning] num_iterations is set=1500, n_iter=1500 will be ignored. Current value: num_iterations=1500\n",
      "[LightGBM] [Warning] min_data_in_leaf is set=115, min_child_samples=20 will be ignored. Current value: min_data_in_leaf=115\n",
      "[0.00000000e+00 0.00000000e+00 0.00000000e+00 1.82648402e-04\n",
      " 1.82648402e-04 3.65296804e-04 3.65296804e-04 5.47945205e-04\n",
      " 5.47945205e-04 7.30593607e-04 7.30593607e-04 9.13242009e-04\n",
      " 9.13242009e-04 1.09589041e-03 1.09589041e-03 1.27853881e-03\n",
      " 1.27853881e-03 1.46118721e-03 1.46118721e-03 1.64383562e-03\n",
      " 1.64383562e-03 1.82648402e-03 1.82648402e-03 2.00913242e-03\n",
      " 2.00913242e-03 2.19178082e-03 2.19178082e-03 2.37442922e-03\n",
      " 2.37442922e-03 2.55707763e-03 2.55707763e-03 2.73972603e-03\n",
      " 2.73972603e-03 2.92237443e-03 2.92237443e-03 3.10502283e-03\n",
      " 3.10502283e-03 3.28767123e-03 3.28767123e-03 3.47031963e-03\n",
      " 3.47031963e-03 3.65296804e-03 3.65296804e-03 3.83561644e-03\n",
      " 3.83561644e-03 4.01826484e-03 4.01826484e-03 4.20091324e-03\n",
      " 4.20091324e-03 4.38356164e-03 4.38356164e-03 4.56621005e-03\n",
      " 4.56621005e-03 4.74885845e-03 4.74885845e-03 4.93150685e-03\n",
      " 4.93150685e-03 5.29680365e-03 5.29680365e-03 5.47945205e-03\n",
      " 5.47945205e-03 5.84474886e-03 5.84474886e-03 6.02739726e-03\n",
      " 6.02739726e-03 6.21004566e-03 6.21004566e-03 6.57534247e-03\n",
      " 6.57534247e-03 6.75799087e-03 6.75799087e-03 7.30593607e-03\n",
      " 7.30593607e-03 7.48858447e-03 7.48858447e-03 7.67123288e-03\n",
      " 7.67123288e-03 7.85388128e-03 7.85388128e-03 8.03652968e-03\n",
      " 8.03652968e-03 8.21917808e-03 8.21917808e-03 8.40182648e-03\n",
      " 8.40182648e-03 8.58447489e-03 8.58447489e-03 8.76712329e-03\n",
      " 8.76712329e-03 9.13242009e-03 9.13242009e-03 9.31506849e-03\n",
      " 9.31506849e-03 9.49771689e-03 9.49771689e-03 9.68036530e-03\n",
      " 9.68036530e-03 9.86301370e-03 9.86301370e-03 1.00456621e-02\n",
      " 1.00456621e-02 1.02283105e-02 1.02283105e-02 1.04109589e-02\n",
      " 1.04109589e-02 1.05936073e-02 1.05936073e-02 1.11415525e-02\n",
      " 1.11415525e-02 1.15068493e-02 1.15068493e-02 1.16894977e-02\n",
      " 1.16894977e-02 1.20547945e-02 1.20547945e-02 1.22374429e-02\n",
      " 1.22374429e-02 1.26027397e-02 1.26027397e-02 1.27853881e-02\n",
      " 1.27853881e-02 1.29680365e-02 1.29680365e-02 1.35159817e-02\n",
      " 1.35159817e-02 1.36986301e-02 1.36986301e-02 1.38812785e-02\n",
      " 1.38812785e-02 1.40639269e-02 1.40639269e-02 1.44292237e-02\n",
      " 1.44292237e-02 1.46118721e-02 1.46118721e-02 1.47945205e-02\n",
      " 1.47945205e-02 1.51598174e-02 1.51598174e-02 1.53424658e-02\n",
      " 1.53424658e-02 1.58904110e-02 1.58904110e-02 1.60730594e-02\n",
      " 1.60730594e-02 1.62557078e-02 1.62557078e-02 1.66210046e-02\n",
      " 1.66210046e-02 1.68036530e-02 1.68036530e-02 1.71689498e-02\n",
      " 1.71689498e-02 1.73515982e-02 1.73515982e-02 1.77168950e-02\n",
      " 1.77168950e-02 1.82648402e-02 1.82648402e-02 1.86301370e-02\n",
      " 1.86301370e-02 1.88127854e-02 1.88127854e-02 1.89954338e-02\n",
      " 1.89954338e-02 1.95433790e-02 1.95433790e-02 2.00913242e-02\n",
      " 2.00913242e-02 2.04566210e-02 2.04566210e-02 2.11872146e-02\n",
      " 2.11872146e-02 2.21004566e-02 2.21004566e-02 2.31963470e-02\n",
      " 2.31963470e-02 2.39269406e-02 2.39269406e-02 2.42922374e-02\n",
      " 2.42922374e-02 2.52054795e-02 2.52054795e-02 2.70319635e-02\n",
      " 2.70319635e-02 2.83105023e-02 2.83105023e-02 2.90410959e-02\n",
      " 2.90410959e-02 3.14155251e-02 3.14155251e-02 3.19634703e-02\n",
      " 3.19634703e-02 3.26940639e-02 3.26940639e-02 3.28767123e-02\n",
      " 3.28767123e-02 3.30593607e-02 3.30593607e-02 3.36073059e-02\n",
      " 3.36073059e-02 3.72602740e-02 3.72602740e-02 3.74429224e-02\n",
      " 3.74429224e-02 3.76255708e-02 3.76255708e-02 3.87214612e-02\n",
      " 3.87214612e-02 3.90867580e-02 3.90867580e-02 3.96347032e-02\n",
      " 3.96347032e-02 4.00000000e-02 4.00000000e-02 4.01826484e-02\n",
      " 4.01826484e-02 4.09132420e-02 4.09132420e-02 4.32876712e-02\n",
      " 4.32876712e-02 4.45662100e-02 4.45662100e-02 5.00456621e-02\n",
      " 5.00456621e-02 5.07762557e-02 5.07762557e-02 5.24200913e-02\n",
      " 5.24200913e-02 5.36986301e-02 5.36986301e-02 5.38812785e-02\n",
      " 5.38812785e-02 5.51598174e-02 5.51598174e-02 5.60730594e-02\n",
      " 5.60730594e-02 5.73515982e-02 5.73515982e-02 5.84474886e-02\n",
      " 5.84474886e-02 6.17351598e-02 6.17351598e-02 6.68493151e-02\n",
      " 6.68493151e-02 6.79452055e-02 6.79452055e-02 6.92237443e-02\n",
      " 6.92237443e-02 6.94063927e-02 6.94063927e-02 6.95890411e-02\n",
      " 6.95890411e-02 7.01369863e-02 7.01369863e-02 7.34246575e-02\n",
      " 7.34246575e-02 7.45205479e-02 7.45205479e-02 7.85388128e-02\n",
      " 7.85388128e-02 8.07305936e-02 8.07305936e-02 8.09132420e-02\n",
      " 8.09132420e-02 8.12785388e-02 8.12785388e-02 8.21917808e-02\n",
      " 8.21917808e-02 8.76712329e-02 8.76712329e-02 9.36986301e-02\n",
      " 9.36986301e-02 1.02283105e-01 1.02283105e-01 1.03744292e-01\n",
      " 1.03744292e-01 1.14520548e-01 1.14520548e-01 1.18356164e-01\n",
      " 1.18356164e-01 1.27671233e-01 1.27671233e-01 1.27853881e-01\n",
      " 1.27853881e-01 1.30045662e-01 1.30045662e-01 1.30410959e-01\n",
      " 1.30410959e-01 1.33698630e-01 1.33698630e-01 1.39543379e-01\n",
      " 1.39543379e-01 1.60730594e-01 1.60730594e-01 1.61643836e-01\n",
      " 1.61643836e-01 1.64748858e-01 1.64748858e-01 1.79178082e-01\n",
      " 1.79178082e-01 1.82648402e-01 1.82648402e-01 1.98538813e-01\n",
      " 1.98538813e-01 2.05662100e-01 2.05662100e-01 2.05844749e-01\n",
      " 2.05844749e-01 2.10228311e-01 2.10228311e-01 2.12054795e-01\n",
      " 2.12054795e-01 2.12968037e-01 2.12968037e-01 2.29954338e-01\n",
      " 2.29954338e-01 2.30319635e-01 2.30319635e-01 2.36712329e-01\n",
      " 2.36712329e-01 2.59178082e-01 2.59178082e-01 2.97716895e-01\n",
      " 2.97716895e-01 3.08858447e-01 3.08858447e-01 3.26757991e-01\n",
      " 3.26757991e-01 3.63835616e-01 3.63835616e-01 4.04200913e-01\n",
      " 4.04200913e-01 4.16986301e-01 4.16986301e-01 5.04840183e-01\n",
      " 5.04840183e-01 6.98995434e-01 6.98995434e-01 1.00000000e+00] [0.00000000e+00 2.85795942e-04 6.09316948e-01 6.09316948e-01\n",
      " 7.28779651e-01 7.28779651e-01 7.45355816e-01 7.45355816e-01\n",
      " 7.67933695e-01 7.67933695e-01 7.74792798e-01 7.74792798e-01\n",
      " 7.89082595e-01 7.89082595e-01 7.97084881e-01 7.97084881e-01\n",
      " 7.97370677e-01 7.97370677e-01 8.11374678e-01 8.11374678e-01\n",
      " 8.33952558e-01 8.33952558e-01 8.34238354e-01 8.34238354e-01\n",
      " 8.45098600e-01 8.45098600e-01 8.48813947e-01 8.48813947e-01\n",
      " 8.73392398e-01 8.73392398e-01 8.83109460e-01 8.83109460e-01\n",
      " 8.83681052e-01 8.83681052e-01 8.87682195e-01 8.87682195e-01\n",
      " 8.88539583e-01 8.88539583e-01 8.95970277e-01 8.95970277e-01\n",
      " 9.00828808e-01 9.00828808e-01 9.01400400e-01 9.01400400e-01\n",
      " 9.07116319e-01 9.07116319e-01 9.09402686e-01 9.09402686e-01\n",
      " 9.10260074e-01 9.10260074e-01 9.11974850e-01 9.11974850e-01\n",
      " 9.17690769e-01 9.17690769e-01 9.19977136e-01 9.19977136e-01\n",
      " 9.21120320e-01 9.21120320e-01 9.23120892e-01 9.23120892e-01\n",
      " 9.24835667e-01 9.24835667e-01 9.25693055e-01 9.25693055e-01\n",
      " 9.26264647e-01 9.26264647e-01 9.32266362e-01 9.32266362e-01\n",
      " 9.32837954e-01 9.32837954e-01 9.33981137e-01 9.33981137e-01\n",
      " 9.34266933e-01 9.34266933e-01 9.35981709e-01 9.35981709e-01\n",
      " 9.37124893e-01 9.37124893e-01 9.39125464e-01 9.39125464e-01\n",
      " 9.40840240e-01 9.40840240e-01 9.41126036e-01 9.41126036e-01\n",
      " 9.41697628e-01 9.41697628e-01 9.41983424e-01 9.41983424e-01\n",
      " 9.42269220e-01 9.42269220e-01 9.45698771e-01 9.45698771e-01\n",
      " 9.46270363e-01 9.46270363e-01 9.48842526e-01 9.48842526e-01\n",
      " 9.50271506e-01 9.50271506e-01 9.50557302e-01 9.50557302e-01\n",
      " 9.51128894e-01 9.51128894e-01 9.52272078e-01 9.52272078e-01\n",
      " 9.52557874e-01 9.52557874e-01 9.55987425e-01 9.55987425e-01\n",
      " 9.56559017e-01 9.56559017e-01 9.57416405e-01 9.57416405e-01\n",
      " 9.57987997e-01 9.57987997e-01 9.58845384e-01 9.58845384e-01\n",
      " 9.59416976e-01 9.59416976e-01 9.60274364e-01 9.60274364e-01\n",
      " 9.60560160e-01 9.60560160e-01 9.60845956e-01 9.60845956e-01\n",
      " 9.61131752e-01 9.61131752e-01 9.61989140e-01 9.61989140e-01\n",
      " 9.62274936e-01 9.62274936e-01 9.63703915e-01 9.63703915e-01\n",
      " 9.64561303e-01 9.64561303e-01 9.65704487e-01 9.65704487e-01\n",
      " 9.65990283e-01 9.65990283e-01 9.66561875e-01 9.66561875e-01\n",
      " 9.66847671e-01 9.66847671e-01 9.67419263e-01 9.67419263e-01\n",
      " 9.67990855e-01 9.67990855e-01 9.68276650e-01 9.68276650e-01\n",
      " 9.68562446e-01 9.68562446e-01 9.69419834e-01 9.69419834e-01\n",
      " 9.69705630e-01 9.69705630e-01 9.70277222e-01 9.70277222e-01\n",
      " 9.70563018e-01 9.70563018e-01 9.72277794e-01 9.72277794e-01\n",
      " 9.72849386e-01 9.72849386e-01 9.73135181e-01 9.73135181e-01\n",
      " 9.73420977e-01 9.73420977e-01 9.73706773e-01 9.73706773e-01\n",
      " 9.73992569e-01 9.73992569e-01 9.74278365e-01 9.74278365e-01\n",
      " 9.74564161e-01 9.74564161e-01 9.74849957e-01 9.74849957e-01\n",
      " 9.75135753e-01 9.75135753e-01 9.75421549e-01 9.75421549e-01\n",
      " 9.75707345e-01 9.75707345e-01 9.75993141e-01 9.75993141e-01\n",
      " 9.76278937e-01 9.76278937e-01 9.76850529e-01 9.76850529e-01\n",
      " 9.77136325e-01 9.77136325e-01 9.77422121e-01 9.77422121e-01\n",
      " 9.77707917e-01 9.77707917e-01 9.77993712e-01 9.77993712e-01\n",
      " 9.78279508e-01 9.78279508e-01 9.78565304e-01 9.78565304e-01\n",
      " 9.79422692e-01 9.79422692e-01 9.79708488e-01 9.79708488e-01\n",
      " 9.79994284e-01 9.79994284e-01 9.80280080e-01 9.80280080e-01\n",
      " 9.80565876e-01 9.80565876e-01 9.80851672e-01 9.80851672e-01\n",
      " 9.81137468e-01 9.81137468e-01 9.81423264e-01 9.81423264e-01\n",
      " 9.81709060e-01 9.81709060e-01 9.82280652e-01 9.82280652e-01\n",
      " 9.82566448e-01 9.82566448e-01 9.83138039e-01 9.83138039e-01\n",
      " 9.83423835e-01 9.83423835e-01 9.83709631e-01 9.83709631e-01\n",
      " 9.83995427e-01 9.83995427e-01 9.84281223e-01 9.84281223e-01\n",
      " 9.84567019e-01 9.84567019e-01 9.84852815e-01 9.84852815e-01\n",
      " 9.85138611e-01 9.85138611e-01 9.85424407e-01 9.85424407e-01\n",
      " 9.85710203e-01 9.85710203e-01 9.85995999e-01 9.85995999e-01\n",
      " 9.86281795e-01 9.86281795e-01 9.86567591e-01 9.86567591e-01\n",
      " 9.86853387e-01 9.86853387e-01 9.87139183e-01 9.87139183e-01\n",
      " 9.87424979e-01 9.87424979e-01 9.87710775e-01 9.87710775e-01\n",
      " 9.87996570e-01 9.87996570e-01 9.88282366e-01 9.88282366e-01\n",
      " 9.88568162e-01 9.88568162e-01 9.88853958e-01 9.88853958e-01\n",
      " 9.89139754e-01 9.89139754e-01 9.89711346e-01 9.89711346e-01\n",
      " 9.89997142e-01 9.89997142e-01 9.90282938e-01 9.90282938e-01\n",
      " 9.90568734e-01 9.90568734e-01 9.90854530e-01 9.90854530e-01\n",
      " 9.91140326e-01 9.91140326e-01 9.91426122e-01 9.91426122e-01\n",
      " 9.91711918e-01 9.91711918e-01 9.91997714e-01 9.91997714e-01\n",
      " 9.92283510e-01 9.92283510e-01 9.92569306e-01 9.92569306e-01\n",
      " 9.92855101e-01 9.92855101e-01 9.93140897e-01 9.93140897e-01\n",
      " 9.93426693e-01 9.93426693e-01 9.93712489e-01 9.93712489e-01\n",
      " 9.93998285e-01 9.93998285e-01 9.94284081e-01 9.94284081e-01\n",
      " 9.94569877e-01 9.94569877e-01 9.94855673e-01 9.94855673e-01\n",
      " 9.95141469e-01 9.95141469e-01 9.95427265e-01 9.95427265e-01\n",
      " 9.95713061e-01 9.95713061e-01 9.95998857e-01 9.95998857e-01\n",
      " 9.96284653e-01 9.96284653e-01 9.96570449e-01 9.96570449e-01\n",
      " 9.96856245e-01 9.96856245e-01 9.97142041e-01 9.97142041e-01\n",
      " 9.97427837e-01 9.97427837e-01 9.97713632e-01 9.97713632e-01\n",
      " 9.97999428e-01 9.97999428e-01 9.98285224e-01 9.98285224e-01\n",
      " 9.98571020e-01 9.98571020e-01 9.98856816e-01 9.98856816e-01\n",
      " 9.99142612e-01 9.99142612e-01 9.99428408e-01 9.99428408e-01\n",
      " 9.99714204e-01 9.99714204e-01 1.00000000e+00 1.00000000e+00]\n",
      "0.9960866053053645\n",
      "(35894, 20784)\n"
     ]
    },
    {
     "name": "stderr",
     "output_type": "stream",
     "text": [
      "/home/ubuntu/anaconda3/lib/python3.9/site-packages/lightgbm/engine.py:177: UserWarning: Found `n_iter` in params. Will use it instead of argument\n",
      "  _log_warning(f\"Found `{alias}` in params. Will use it instead of argument\")\n"
     ]
    },
    {
     "name": "stdout",
     "output_type": "stream",
     "text": [
      "[LightGBM] [Warning] lambda_l1 is set=8.562963348932286, reg_alpha=0.0 will be ignored. Current value: lambda_l1=8.562963348932286\n",
      "[LightGBM] [Warning] lambda_l2 is set=4.893256185259296, reg_lambda=0.0 will be ignored. Current value: lambda_l2=4.893256185259296\n",
      "[LightGBM] [Warning] num_iterations is set=1500, n_iter=1500 will be ignored. Current value: num_iterations=1500\n",
      "[LightGBM] [Warning] min_data_in_leaf is set=115, min_child_samples=20 will be ignored. Current value: min_data_in_leaf=115\n",
      "[0.00000000e+00 0.00000000e+00 0.00000000e+00 1.82681768e-04\n",
      " 1.82681768e-04 3.65363537e-04 3.65363537e-04 5.48045305e-04\n",
      " 5.48045305e-04 7.30727073e-04 7.30727073e-04 9.13408842e-04\n",
      " 9.13408842e-04 1.09609061e-03 1.09609061e-03 1.27877238e-03\n",
      " 1.27877238e-03 1.46145415e-03 1.46145415e-03 1.64413592e-03\n",
      " 1.64413592e-03 1.82681768e-03 1.82681768e-03 2.00949945e-03\n",
      " 2.00949945e-03 2.19218122e-03 2.19218122e-03 2.37486299e-03\n",
      " 2.37486299e-03 2.55754476e-03 2.55754476e-03 2.92290829e-03\n",
      " 2.92290829e-03 3.10559006e-03 3.10559006e-03 3.28827183e-03\n",
      " 3.28827183e-03 3.47095360e-03 3.47095360e-03 3.65363537e-03\n",
      " 3.65363537e-03 3.83631714e-03 3.83631714e-03 4.20168067e-03\n",
      " 4.20168067e-03 4.38436244e-03 4.38436244e-03 4.56704421e-03\n",
      " 4.56704421e-03 4.93240775e-03 4.93240775e-03 5.11508951e-03\n",
      " 5.11508951e-03 5.29777128e-03 5.29777128e-03 5.48045305e-03\n",
      " 5.48045305e-03 5.66313482e-03 5.66313482e-03 5.84581659e-03\n",
      " 5.84581659e-03 6.21118012e-03 6.21118012e-03 6.39386189e-03\n",
      " 6.39386189e-03 6.57654366e-03 6.57654366e-03 6.75922543e-03\n",
      " 6.75922543e-03 6.94190720e-03 6.94190720e-03 7.12458897e-03\n",
      " 7.12458897e-03 7.30727073e-03 7.30727073e-03 7.67263427e-03\n",
      " 7.67263427e-03 7.85531604e-03 7.85531604e-03 8.03799781e-03\n",
      " 8.03799781e-03 8.22067958e-03 8.22067958e-03 8.76872488e-03\n",
      " 8.76872488e-03 8.95140665e-03 8.95140665e-03 9.13408842e-03\n",
      " 9.13408842e-03 9.31677019e-03 9.31677019e-03 9.49945195e-03\n",
      " 9.49945195e-03 9.68213372e-03 9.68213372e-03 1.00474973e-02\n",
      " 1.00474973e-02 1.02301790e-02 1.02301790e-02 1.04128608e-02\n",
      " 1.04128608e-02 1.05955426e-02 1.05955426e-02 1.07782243e-02\n",
      " 1.07782243e-02 1.09609061e-02 1.09609061e-02 1.11435879e-02\n",
      " 1.11435879e-02 1.15089514e-02 1.15089514e-02 1.16916332e-02\n",
      " 1.16916332e-02 1.22396785e-02 1.22396785e-02 1.26050420e-02\n",
      " 1.26050420e-02 1.27877238e-02 1.27877238e-02 1.29704056e-02\n",
      " 1.29704056e-02 1.31530873e-02 1.31530873e-02 1.35184509e-02\n",
      " 1.35184509e-02 1.37011326e-02 1.37011326e-02 1.47972232e-02\n",
      " 1.47972232e-02 1.49799050e-02 1.49799050e-02 1.51625868e-02\n",
      " 1.51625868e-02 1.53452685e-02 1.53452685e-02 1.58933138e-02\n",
      " 1.58933138e-02 1.60759956e-02 1.60759956e-02 1.62586774e-02\n",
      " 1.62586774e-02 1.66240409e-02 1.66240409e-02 1.69894045e-02\n",
      " 1.69894045e-02 1.71720862e-02 1.71720862e-02 1.73547680e-02\n",
      " 1.73547680e-02 1.75374498e-02 1.75374498e-02 1.77201315e-02\n",
      " 1.77201315e-02 1.80854951e-02 1.80854951e-02 1.84508586e-02\n",
      " 1.84508586e-02 1.88162221e-02 1.88162221e-02 1.93642674e-02\n",
      " 1.93642674e-02 1.97296310e-02 1.97296310e-02 1.99123128e-02\n",
      " 1.99123128e-02 2.11910851e-02 2.11910851e-02 2.13737669e-02\n",
      " 2.13737669e-02 2.17391304e-02 2.17391304e-02 2.21044940e-02\n",
      " 2.21044940e-02 2.22871757e-02 2.22871757e-02 2.30179028e-02\n",
      " 2.30179028e-02 2.35659481e-02 2.35659481e-02 2.41139934e-02\n",
      " 2.41139934e-02 2.42966752e-02 2.42966752e-02 2.46620387e-02\n",
      " 2.46620387e-02 2.52100840e-02 2.52100840e-02 2.53927658e-02\n",
      " 2.53927658e-02 2.57581293e-02 2.57581293e-02 2.59408111e-02\n",
      " 2.59408111e-02 2.61234929e-02 2.61234929e-02 2.64888564e-02\n",
      " 2.64888564e-02 2.72195835e-02 2.72195835e-02 2.74022653e-02\n",
      " 2.74022653e-02 2.83156741e-02 2.83156741e-02 2.86810376e-02\n",
      " 2.86810376e-02 2.90464012e-02 2.90464012e-02 2.94117647e-02\n",
      " 2.94117647e-02 2.97771282e-02 2.97771282e-02 3.03251735e-02\n",
      " 3.03251735e-02 3.17866277e-02 3.17866277e-02 3.19693095e-02\n",
      " 3.19693095e-02 3.21519912e-02 3.21519912e-02 3.23346730e-02\n",
      " 3.23346730e-02 3.28827183e-02 3.28827183e-02 3.34307636e-02\n",
      " 3.34307636e-02 3.36134454e-02 3.36134454e-02 3.41614907e-02\n",
      " 3.41614907e-02 3.43441725e-02 3.43441725e-02 3.48922178e-02\n",
      " 3.48922178e-02 3.50748995e-02 3.50748995e-02 3.59883084e-02\n",
      " 3.59883084e-02 3.63536719e-02 3.63536719e-02 3.81804896e-02\n",
      " 3.81804896e-02 3.85458531e-02 3.85458531e-02 3.89112167e-02\n",
      " 3.89112167e-02 3.90938984e-02 3.90938984e-02 4.05553526e-02\n",
      " 4.05553526e-02 4.09207161e-02 4.09207161e-02 4.11033979e-02\n",
      " 4.11033979e-02 4.14687614e-02 4.14687614e-02 4.18341250e-02\n",
      " 4.18341250e-02 4.20168067e-02 4.20168067e-02 4.21994885e-02\n",
      " 4.21994885e-02 4.23821703e-02 4.23821703e-02 4.25648520e-02\n",
      " 4.25648520e-02 4.42089879e-02 4.42089879e-02 4.43916697e-02\n",
      " 4.43916697e-02 4.47570332e-02 4.47570332e-02 4.62184874e-02\n",
      " 4.62184874e-02 4.64011692e-02 4.64011692e-02 4.69492145e-02\n",
      " 4.69492145e-02 4.71318962e-02 4.71318962e-02 4.96894410e-02\n",
      " 4.96894410e-02 5.07855316e-02 5.07855316e-02 5.40738034e-02\n",
      " 5.40738034e-02 5.90062112e-02 5.90062112e-02 5.95542565e-02\n",
      " 5.95542565e-02 5.97369383e-02 5.97369383e-02 6.30252101e-02\n",
      " 6.30252101e-02 6.35732554e-02 6.35732554e-02 6.61308001e-02\n",
      " 6.61308001e-02 6.63134819e-02 6.63134819e-02 7.21592985e-02\n",
      " 7.21592985e-02 7.27073438e-02 7.27073438e-02 7.34380709e-02\n",
      " 7.34380709e-02 7.52648886e-02 7.52648886e-02 7.56302521e-02\n",
      " 7.56302521e-02 7.81877969e-02 7.81877969e-02 8.18414322e-02\n",
      " 8.18414322e-02 9.29850201e-02 9.29850201e-02 9.48118378e-02\n",
      " 9.48118378e-02 1.00292291e-01 1.00292291e-01 1.00840336e-01\n",
      " 1.00840336e-01 1.01023018e-01 1.01023018e-01 1.02849836e-01\n",
      " 1.02849836e-01 1.04493972e-01 1.04493972e-01 1.05772744e-01\n",
      " 1.05772744e-01 1.09243697e-01 1.09243697e-01 1.10705152e-01\n",
      " 1.10705152e-01 1.11253197e-01 1.11253197e-01 1.12166606e-01\n",
      " 1.12166606e-01 1.12349288e-01 1.12349288e-01 1.13810742e-01\n",
      " 1.13810742e-01 1.14906832e-01 1.14906832e-01 1.22031421e-01\n",
      " 1.22031421e-01 1.25867738e-01 1.25867738e-01 1.33723054e-01\n",
      " 1.33723054e-01 1.41213007e-01 1.41213007e-01 1.43770552e-01\n",
      " 1.43770552e-01 1.45414688e-01 1.45414688e-01 1.45780051e-01\n",
      " 1.45780051e-01 1.48337596e-01 1.48337596e-01 1.49068323e-01\n",
      " 1.49068323e-01 1.51260504e-01 1.51260504e-01 1.60942638e-01\n",
      " 1.60942638e-01 1.62038729e-01 1.62038729e-01 1.62221410e-01\n",
      " 1.62221410e-01 1.62952137e-01 1.62952137e-01 1.65692364e-01\n",
      " 1.65692364e-01 1.71720862e-01 1.71720862e-01 1.72816953e-01\n",
      " 1.72816953e-01 1.91998539e-01 1.91998539e-01 2.00219218e-01\n",
      " 2.00219218e-01 2.12276215e-01 2.12276215e-01 2.22871757e-01\n",
      " 2.22871757e-01 2.32005846e-01 2.32005846e-01 2.32919255e-01\n",
      " 2.32919255e-01 2.48812569e-01 2.48812569e-01 2.52831567e-01\n",
      " 2.52831567e-01 2.98502009e-01 2.98502009e-01 3.22981366e-01\n",
      " 3.22981366e-01 4.00073073e-01 4.00073073e-01 4.08841798e-01\n",
      " 4.08841798e-01 4.23821703e-01 4.23821703e-01 4.49945195e-01\n",
      " 4.49945195e-01 4.55242967e-01 4.55242967e-01 5.71976617e-01\n",
      " 5.71976617e-01 5.99561564e-01 5.99561564e-01 7.78041651e-01\n",
      " 7.78041651e-01 1.00000000e+00] [0.00000000e+00 2.85714286e-04 5.28571429e-01 5.28571429e-01\n",
      " 6.14285714e-01 6.14285714e-01 7.13428571e-01 7.13428571e-01\n",
      " 7.25142857e-01 7.25142857e-01 7.32285714e-01 7.32285714e-01\n",
      " 7.69428571e-01 7.69428571e-01 8.07428571e-01 8.07428571e-01\n",
      " 8.19428571e-01 8.19428571e-01 8.20571429e-01 8.20571429e-01\n",
      " 8.22571429e-01 8.22571429e-01 8.31142857e-01 8.31142857e-01\n",
      " 8.35714286e-01 8.35714286e-01 8.38857143e-01 8.38857143e-01\n",
      " 8.41142857e-01 8.41142857e-01 8.48285714e-01 8.48285714e-01\n",
      " 8.53142857e-01 8.53142857e-01 8.53714286e-01 8.53714286e-01\n",
      " 8.63428571e-01 8.63428571e-01 8.66571429e-01 8.66571429e-01\n",
      " 8.80000000e-01 8.80000000e-01 8.80571429e-01 8.80571429e-01\n",
      " 8.83142857e-01 8.83142857e-01 8.84857143e-01 8.84857143e-01\n",
      " 8.87714286e-01 8.87714286e-01 8.88571429e-01 8.88571429e-01\n",
      " 8.88857143e-01 8.88857143e-01 8.90571429e-01 8.90571429e-01\n",
      " 8.96857143e-01 8.96857143e-01 8.99428571e-01 8.99428571e-01\n",
      " 9.03142857e-01 9.03142857e-01 9.04571429e-01 9.04571429e-01\n",
      " 9.05428571e-01 9.05428571e-01 9.06857143e-01 9.06857143e-01\n",
      " 9.08285714e-01 9.08285714e-01 9.10571429e-01 9.10571429e-01\n",
      " 9.13142857e-01 9.13142857e-01 9.14000000e-01 9.14000000e-01\n",
      " 9.20857143e-01 9.20857143e-01 9.21714286e-01 9.21714286e-01\n",
      " 9.22000000e-01 9.22000000e-01 9.23428571e-01 9.23428571e-01\n",
      " 9.25428571e-01 9.25428571e-01 9.27714286e-01 9.27714286e-01\n",
      " 9.29142857e-01 9.29142857e-01 9.30285714e-01 9.30285714e-01\n",
      " 9.31428571e-01 9.31428571e-01 9.31714286e-01 9.31714286e-01\n",
      " 9.32285714e-01 9.32285714e-01 9.33142857e-01 9.33142857e-01\n",
      " 9.36000000e-01 9.36000000e-01 9.36285714e-01 9.36285714e-01\n",
      " 9.36571429e-01 9.36571429e-01 9.37142857e-01 9.37142857e-01\n",
      " 9.40000000e-01 9.40000000e-01 9.40571429e-01 9.40571429e-01\n",
      " 9.42000000e-01 9.42000000e-01 9.42285714e-01 9.42285714e-01\n",
      " 9.43714286e-01 9.43714286e-01 9.44000000e-01 9.44000000e-01\n",
      " 9.44285714e-01 9.44285714e-01 9.44857143e-01 9.44857143e-01\n",
      " 9.45142857e-01 9.45142857e-01 9.45428571e-01 9.45428571e-01\n",
      " 9.46000000e-01 9.46000000e-01 9.46571429e-01 9.46571429e-01\n",
      " 9.47428571e-01 9.47428571e-01 9.47714286e-01 9.47714286e-01\n",
      " 9.48285714e-01 9.48285714e-01 9.49142857e-01 9.49142857e-01\n",
      " 9.49428571e-01 9.49428571e-01 9.49714286e-01 9.49714286e-01\n",
      " 9.50285714e-01 9.50285714e-01 9.52857143e-01 9.52857143e-01\n",
      " 9.53142857e-01 9.53142857e-01 9.53428571e-01 9.53428571e-01\n",
      " 9.53714286e-01 9.53714286e-01 9.54857143e-01 9.54857143e-01\n",
      " 9.55142857e-01 9.55142857e-01 9.56000000e-01 9.56000000e-01\n",
      " 9.56857143e-01 9.56857143e-01 9.57428571e-01 9.57428571e-01\n",
      " 9.57714286e-01 9.57714286e-01 9.58000000e-01 9.58000000e-01\n",
      " 9.58285714e-01 9.58285714e-01 9.58571429e-01 9.58571429e-01\n",
      " 9.58857143e-01 9.58857143e-01 9.59428571e-01 9.59428571e-01\n",
      " 9.59714286e-01 9.59714286e-01 9.60000000e-01 9.60000000e-01\n",
      " 9.60285714e-01 9.60285714e-01 9.60571429e-01 9.60571429e-01\n",
      " 9.61142857e-01 9.61142857e-01 9.61428571e-01 9.61428571e-01\n",
      " 9.61714286e-01 9.61714286e-01 9.62000000e-01 9.62000000e-01\n",
      " 9.62285714e-01 9.62285714e-01 9.62571429e-01 9.62571429e-01\n",
      " 9.62857143e-01 9.62857143e-01 9.63142857e-01 9.63142857e-01\n",
      " 9.63714286e-01 9.63714286e-01 9.64000000e-01 9.64000000e-01\n",
      " 9.64857143e-01 9.64857143e-01 9.65142857e-01 9.65142857e-01\n",
      " 9.65428571e-01 9.65428571e-01 9.65714286e-01 9.65714286e-01\n",
      " 9.66000000e-01 9.66000000e-01 9.66285714e-01 9.66285714e-01\n",
      " 9.67428571e-01 9.67428571e-01 9.67714286e-01 9.67714286e-01\n",
      " 9.68000000e-01 9.68000000e-01 9.68285714e-01 9.68285714e-01\n",
      " 9.68857143e-01 9.68857143e-01 9.69714286e-01 9.69714286e-01\n",
      " 9.70000000e-01 9.70000000e-01 9.70285714e-01 9.70285714e-01\n",
      " 9.70857143e-01 9.70857143e-01 9.71142857e-01 9.71142857e-01\n",
      " 9.71428571e-01 9.71428571e-01 9.71714286e-01 9.71714286e-01\n",
      " 9.72000000e-01 9.72000000e-01 9.72285714e-01 9.72285714e-01\n",
      " 9.72857143e-01 9.72857143e-01 9.73428571e-01 9.73428571e-01\n",
      " 9.73714286e-01 9.73714286e-01 9.74000000e-01 9.74000000e-01\n",
      " 9.74571429e-01 9.74571429e-01 9.74857143e-01 9.74857143e-01\n",
      " 9.75142857e-01 9.75142857e-01 9.75428571e-01 9.75428571e-01\n",
      " 9.75714286e-01 9.75714286e-01 9.76000000e-01 9.76000000e-01\n",
      " 9.76285714e-01 9.76285714e-01 9.76571429e-01 9.76571429e-01\n",
      " 9.76857143e-01 9.76857143e-01 9.77428571e-01 9.77428571e-01\n",
      " 9.77714286e-01 9.77714286e-01 9.78000000e-01 9.78000000e-01\n",
      " 9.79142857e-01 9.79142857e-01 9.79428571e-01 9.79428571e-01\n",
      " 9.79714286e-01 9.79714286e-01 9.80000000e-01 9.80000000e-01\n",
      " 9.80571429e-01 9.80571429e-01 9.80857143e-01 9.80857143e-01\n",
      " 9.81142857e-01 9.81142857e-01 9.81428571e-01 9.81428571e-01\n",
      " 9.81714286e-01 9.81714286e-01 9.82000000e-01 9.82000000e-01\n",
      " 9.82285714e-01 9.82285714e-01 9.82571429e-01 9.82571429e-01\n",
      " 9.82857143e-01 9.82857143e-01 9.83142857e-01 9.83142857e-01\n",
      " 9.83428571e-01 9.83428571e-01 9.83714286e-01 9.83714286e-01\n",
      " 9.84000000e-01 9.84000000e-01 9.84285714e-01 9.84285714e-01\n",
      " 9.84571429e-01 9.84571429e-01 9.84857143e-01 9.84857143e-01\n",
      " 9.85142857e-01 9.85142857e-01 9.85428571e-01 9.85428571e-01\n",
      " 9.85714286e-01 9.85714286e-01 9.86000000e-01 9.86000000e-01\n",
      " 9.86285714e-01 9.86285714e-01 9.86571429e-01 9.86571429e-01\n",
      " 9.86857143e-01 9.86857143e-01 9.87142857e-01 9.87142857e-01\n",
      " 9.87428571e-01 9.87428571e-01 9.87714286e-01 9.87714286e-01\n",
      " 9.88000000e-01 9.88000000e-01 9.88285714e-01 9.88285714e-01\n",
      " 9.88857143e-01 9.88857143e-01 9.89142857e-01 9.89142857e-01\n",
      " 9.89714286e-01 9.89714286e-01 9.90000000e-01 9.90000000e-01\n",
      " 9.90285714e-01 9.90285714e-01 9.90571429e-01 9.90571429e-01\n",
      " 9.90857143e-01 9.90857143e-01 9.91428571e-01 9.91428571e-01\n",
      " 9.91714286e-01 9.91714286e-01 9.92285714e-01 9.92285714e-01\n",
      " 9.92571429e-01 9.92571429e-01 9.92857143e-01 9.92857143e-01\n",
      " 9.93142857e-01 9.93142857e-01 9.93428571e-01 9.93428571e-01\n",
      " 9.93714286e-01 9.93714286e-01 9.94000000e-01 9.94000000e-01\n",
      " 9.94285714e-01 9.94285714e-01 9.94571429e-01 9.94571429e-01\n",
      " 9.94857143e-01 9.94857143e-01 9.95142857e-01 9.95142857e-01\n",
      " 9.95428571e-01 9.95428571e-01 9.95714286e-01 9.95714286e-01\n",
      " 9.96000000e-01 9.96000000e-01 9.96285714e-01 9.96285714e-01\n",
      " 9.96571429e-01 9.96571429e-01 9.96857143e-01 9.96857143e-01\n",
      " 9.97142857e-01 9.97142857e-01 9.97428571e-01 9.97428571e-01\n",
      " 9.97714286e-01 9.97714286e-01 9.98000000e-01 9.98000000e-01\n",
      " 9.98285714e-01 9.98285714e-01 9.98571429e-01 9.98571429e-01\n",
      " 9.98857143e-01 9.98857143e-01 9.99142857e-01 9.99142857e-01\n",
      " 9.99428571e-01 9.99428571e-01 9.99714286e-01 9.99714286e-01\n",
      " 1.00000000e+00 1.00000000e+00]\n",
      "0.9947028028602746\n",
      "(35894, 20784)\n"
     ]
    },
    {
     "name": "stderr",
     "output_type": "stream",
     "text": [
      "/home/ubuntu/anaconda3/lib/python3.9/site-packages/lightgbm/engine.py:177: UserWarning: Found `n_iter` in params. Will use it instead of argument\n",
      "  _log_warning(f\"Found `{alias}` in params. Will use it instead of argument\")\n"
     ]
    },
    {
     "name": "stdout",
     "output_type": "stream",
     "text": [
      "[LightGBM] [Warning] lambda_l1 is set=8.562963348932286, reg_alpha=0.0 will be ignored. Current value: lambda_l1=8.562963348932286\n",
      "[LightGBM] [Warning] lambda_l2 is set=4.893256185259296, reg_lambda=0.0 will be ignored. Current value: lambda_l2=4.893256185259296\n",
      "[LightGBM] [Warning] num_iterations is set=1500, n_iter=1500 will be ignored. Current value: num_iterations=1500\n",
      "[LightGBM] [Warning] min_data_in_leaf is set=115, min_child_samples=20 will be ignored. Current value: min_data_in_leaf=115\n",
      "[0.00000000e+00 0.00000000e+00 0.00000000e+00 1.82681768e-04\n",
      " 1.82681768e-04 3.65363537e-04 3.65363537e-04 5.48045305e-04\n",
      " 5.48045305e-04 7.30727073e-04 7.30727073e-04 9.13408842e-04\n",
      " 9.13408842e-04 1.09609061e-03 1.09609061e-03 1.27877238e-03\n",
      " 1.27877238e-03 1.46145415e-03 1.46145415e-03 1.64413592e-03\n",
      " 1.64413592e-03 1.82681768e-03 1.82681768e-03 2.00949945e-03\n",
      " 2.00949945e-03 2.19218122e-03 2.19218122e-03 2.37486299e-03\n",
      " 2.37486299e-03 2.55754476e-03 2.55754476e-03 2.74022653e-03\n",
      " 2.74022653e-03 2.92290829e-03 2.92290829e-03 3.10559006e-03\n",
      " 3.10559006e-03 3.28827183e-03 3.28827183e-03 3.47095360e-03\n",
      " 3.47095360e-03 3.65363537e-03 3.65363537e-03 3.83631714e-03\n",
      " 3.83631714e-03 4.20168067e-03 4.20168067e-03 4.38436244e-03\n",
      " 4.38436244e-03 4.56704421e-03 4.56704421e-03 4.74972598e-03\n",
      " 4.74972598e-03 4.93240775e-03 4.93240775e-03 5.11508951e-03\n",
      " 5.11508951e-03 5.29777128e-03 5.29777128e-03 5.48045305e-03\n",
      " 5.48045305e-03 5.84581659e-03 5.84581659e-03 6.02849836e-03\n",
      " 6.02849836e-03 6.21118012e-03 6.21118012e-03 6.39386189e-03\n",
      " 6.39386189e-03 6.57654366e-03 6.57654366e-03 6.75922543e-03\n",
      " 6.75922543e-03 6.94190720e-03 6.94190720e-03 7.30727073e-03\n",
      " 7.30727073e-03 7.48995250e-03 7.48995250e-03 7.67263427e-03\n",
      " 7.67263427e-03 8.03799781e-03 8.03799781e-03 8.40336134e-03\n",
      " 8.40336134e-03 8.58604311e-03 8.58604311e-03 8.95140665e-03\n",
      " 8.95140665e-03 9.31677019e-03 9.31677019e-03 9.86481549e-03\n",
      " 9.86481549e-03 1.02301790e-02 1.02301790e-02 1.04128608e-02\n",
      " 1.04128608e-02 1.05955426e-02 1.05955426e-02 1.07782243e-02\n",
      " 1.07782243e-02 1.09609061e-02 1.09609061e-02 1.11435879e-02\n",
      " 1.11435879e-02 1.13262696e-02 1.13262696e-02 1.16916332e-02\n",
      " 1.16916332e-02 1.18743149e-02 1.18743149e-02 1.22396785e-02\n",
      " 1.22396785e-02 1.26050420e-02 1.26050420e-02 1.37011326e-02\n",
      " 1.37011326e-02 1.38838144e-02 1.38838144e-02 1.42491779e-02\n",
      " 1.42491779e-02 1.44318597e-02 1.44318597e-02 1.46145415e-02\n",
      " 1.46145415e-02 1.53452685e-02 1.53452685e-02 1.58933138e-02\n",
      " 1.58933138e-02 1.60759956e-02 1.60759956e-02 1.64413592e-02\n",
      " 1.64413592e-02 1.66240409e-02 1.66240409e-02 1.71720862e-02\n",
      " 1.71720862e-02 1.75374498e-02 1.75374498e-02 1.86335404e-02\n",
      " 1.86335404e-02 1.89989039e-02 1.89989039e-02 1.95469492e-02\n",
      " 1.95469492e-02 1.99123128e-02 1.99123128e-02 2.17391304e-02\n",
      " 2.17391304e-02 2.21044940e-02 2.21044940e-02 2.28352210e-02\n",
      " 2.28352210e-02 2.41139934e-02 2.41139934e-02 2.42966752e-02\n",
      " 2.42966752e-02 2.44793570e-02 2.44793570e-02 2.46620387e-02\n",
      " 2.46620387e-02 2.48447205e-02 2.48447205e-02 2.50274023e-02\n",
      " 2.50274023e-02 2.74022653e-02 2.74022653e-02 2.79503106e-02\n",
      " 2.79503106e-02 2.86810376e-02 2.86810376e-02 3.03251735e-02\n",
      " 3.03251735e-02 3.08732189e-02 3.08732189e-02 3.10559006e-02\n",
      " 3.10559006e-02 3.12385824e-02 3.12385824e-02 3.16039459e-02\n",
      " 3.16039459e-02 3.27000365e-02 3.27000365e-02 3.30654001e-02\n",
      " 3.30654001e-02 3.34307636e-02 3.34307636e-02 3.47095360e-02\n",
      " 3.47095360e-02 3.52575813e-02 3.52575813e-02 3.67190354e-02\n",
      " 3.67190354e-02 3.72670807e-02 3.72670807e-02 3.85458531e-02\n",
      " 3.85458531e-02 3.92765802e-02 3.92765802e-02 4.01899890e-02\n",
      " 4.01899890e-02 4.03726708e-02 4.03726708e-02 4.11033979e-02\n",
      " 4.11033979e-02 4.14687614e-02 4.14687614e-02 4.27475338e-02\n",
      " 4.27475338e-02 4.29302156e-02 4.29302156e-02 4.36609426e-02\n",
      " 4.36609426e-02 4.47570332e-02 4.47570332e-02 4.65838509e-02\n",
      " 4.65838509e-02 4.82279868e-02 4.82279868e-02 4.85933504e-02\n",
      " 4.85933504e-02 4.91413957e-02 4.91413957e-02 5.04201681e-02\n",
      " 5.04201681e-02 5.18816222e-02 5.18816222e-02 5.38911217e-02\n",
      " 5.38911217e-02 5.40738034e-02 5.40738034e-02 5.46218487e-02\n",
      " 5.46218487e-02 6.13810742e-02 6.13810742e-02 6.35732554e-02\n",
      " 6.35732554e-02 6.46693460e-02 6.46693460e-02 6.55827548e-02\n",
      " 6.55827548e-02 6.70442090e-02 6.70442090e-02 7.03324808e-02\n",
      " 7.03324808e-02 7.14285714e-02 7.14285714e-02 7.36207526e-02\n",
      " 7.36207526e-02 7.98319328e-02 7.98319328e-02 1.01023018e-01\n",
      " 1.01023018e-01 1.02667154e-01 1.02667154e-01 1.03763244e-01\n",
      " 1.03763244e-01 1.05407380e-01 1.05407380e-01 1.07782243e-01\n",
      " 1.07782243e-01 1.16185605e-01 1.16185605e-01 1.23492875e-01\n",
      " 1.23492875e-01 1.24406284e-01 1.24406284e-01 1.26415784e-01\n",
      " 1.26415784e-01 1.27877238e-01 1.27877238e-01 1.35184509e-01\n",
      " 1.35184509e-01 1.38290099e-01 1.38290099e-01 1.44318597e-01\n",
      " 1.44318597e-01 1.55462185e-01 1.55462185e-01 1.63500183e-01\n",
      " 1.63500183e-01 1.64413592e-01 1.64413592e-01 1.68067227e-01\n",
      " 1.68067227e-01 1.75009134e-01 1.75009134e-01 1.84873950e-01\n",
      " 1.84873950e-01 2.08257216e-01 2.08257216e-01 2.29996346e-01\n",
      " 2.29996346e-01 2.45706978e-01 2.45706978e-01 2.63244428e-01\n",
      " 2.63244428e-01 2.64888564e-01 2.64888564e-01 2.74753380e-01\n",
      " 2.74753380e-01 3.16770186e-01 3.16770186e-01 3.81074169e-01\n",
      " 3.81074169e-01 4.78991597e-01 4.78991597e-01 5.19912313e-01\n",
      " 5.19912313e-01 5.59188893e-01 5.59188893e-01 6.33905736e-01\n",
      " 6.33905736e-01 1.00000000e+00] [0.00000000e+00 2.85714286e-04 8.48285714e-01 8.48285714e-01\n",
      " 8.79714286e-01 8.79714286e-01 8.95428571e-01 8.95428571e-01\n",
      " 8.96000000e-01 8.96000000e-01 9.02285714e-01 9.02285714e-01\n",
      " 9.06857143e-01 9.06857143e-01 9.08285714e-01 9.08285714e-01\n",
      " 9.09428571e-01 9.09428571e-01 9.12000000e-01 9.12000000e-01\n",
      " 9.12571429e-01 9.12571429e-01 9.14571429e-01 9.14571429e-01\n",
      " 9.16000000e-01 9.16000000e-01 9.16857143e-01 9.16857143e-01\n",
      " 9.17428571e-01 9.17428571e-01 9.18571429e-01 9.18571429e-01\n",
      " 9.18857143e-01 9.18857143e-01 9.20000000e-01 9.20000000e-01\n",
      " 9.20285714e-01 9.20285714e-01 9.21714286e-01 9.21714286e-01\n",
      " 9.22857143e-01 9.22857143e-01 9.25714286e-01 9.25714286e-01\n",
      " 9.29428571e-01 9.29428571e-01 9.30857143e-01 9.30857143e-01\n",
      " 9.31142857e-01 9.31142857e-01 9.33428571e-01 9.33428571e-01\n",
      " 9.34571429e-01 9.34571429e-01 9.36285714e-01 9.36285714e-01\n",
      " 9.37714286e-01 9.37714286e-01 9.40000000e-01 9.40000000e-01\n",
      " 9.41428571e-01 9.41428571e-01 9.42571429e-01 9.42571429e-01\n",
      " 9.43714286e-01 9.43714286e-01 9.44571429e-01 9.44571429e-01\n",
      " 9.45428571e-01 9.45428571e-01 9.45714286e-01 9.45714286e-01\n",
      " 9.46000000e-01 9.46000000e-01 9.47142857e-01 9.47142857e-01\n",
      " 9.47714286e-01 9.47714286e-01 9.50000000e-01 9.50000000e-01\n",
      " 9.50285714e-01 9.50285714e-01 9.50571429e-01 9.50571429e-01\n",
      " 9.50857143e-01 9.50857143e-01 9.51714286e-01 9.51714286e-01\n",
      " 9.53142857e-01 9.53142857e-01 9.54285714e-01 9.54285714e-01\n",
      " 9.54571429e-01 9.54571429e-01 9.55428571e-01 9.55428571e-01\n",
      " 9.56000000e-01 9.56000000e-01 9.57714286e-01 9.57714286e-01\n",
      " 9.58000000e-01 9.58000000e-01 9.58857143e-01 9.58857143e-01\n",
      " 9.59714286e-01 9.59714286e-01 9.60000000e-01 9.60000000e-01\n",
      " 9.60285714e-01 9.60285714e-01 9.61428571e-01 9.61428571e-01\n",
      " 9.64285714e-01 9.64285714e-01 9.64571429e-01 9.64571429e-01\n",
      " 9.65142857e-01 9.65142857e-01 9.66000000e-01 9.66000000e-01\n",
      " 9.66285714e-01 9.66285714e-01 9.66571429e-01 9.66571429e-01\n",
      " 9.67428571e-01 9.67428571e-01 9.68000000e-01 9.68000000e-01\n",
      " 9.68285714e-01 9.68285714e-01 9.68571429e-01 9.68571429e-01\n",
      " 9.68857143e-01 9.68857143e-01 9.69142857e-01 9.69142857e-01\n",
      " 9.69428571e-01 9.69428571e-01 9.70000000e-01 9.70000000e-01\n",
      " 9.70571429e-01 9.70571429e-01 9.71142857e-01 9.71142857e-01\n",
      " 9.71428571e-01 9.71428571e-01 9.71714286e-01 9.71714286e-01\n",
      " 9.72000000e-01 9.72000000e-01 9.72571429e-01 9.72571429e-01\n",
      " 9.73142857e-01 9.73142857e-01 9.73428571e-01 9.73428571e-01\n",
      " 9.73714286e-01 9.73714286e-01 9.74000000e-01 9.74000000e-01\n",
      " 9.74285714e-01 9.74285714e-01 9.74857143e-01 9.74857143e-01\n",
      " 9.75142857e-01 9.75142857e-01 9.75428571e-01 9.75428571e-01\n",
      " 9.76571429e-01 9.76571429e-01 9.77142857e-01 9.77142857e-01\n",
      " 9.77428571e-01 9.77428571e-01 9.77714286e-01 9.77714286e-01\n",
      " 9.78571429e-01 9.78571429e-01 9.78857143e-01 9.78857143e-01\n",
      " 9.79428571e-01 9.79428571e-01 9.79714286e-01 9.79714286e-01\n",
      " 9.80000000e-01 9.80000000e-01 9.80285714e-01 9.80285714e-01\n",
      " 9.80857143e-01 9.80857143e-01 9.81142857e-01 9.81142857e-01\n",
      " 9.81428571e-01 9.81428571e-01 9.81714286e-01 9.81714286e-01\n",
      " 9.82000000e-01 9.82000000e-01 9.82285714e-01 9.82285714e-01\n",
      " 9.82571429e-01 9.82571429e-01 9.82857143e-01 9.82857143e-01\n",
      " 9.83142857e-01 9.83142857e-01 9.83428571e-01 9.83428571e-01\n",
      " 9.83714286e-01 9.83714286e-01 9.84285714e-01 9.84285714e-01\n",
      " 9.84857143e-01 9.84857143e-01 9.85142857e-01 9.85142857e-01\n",
      " 9.85428571e-01 9.85428571e-01 9.85714286e-01 9.85714286e-01\n",
      " 9.86000000e-01 9.86000000e-01 9.86571429e-01 9.86571429e-01\n",
      " 9.86857143e-01 9.86857143e-01 9.87142857e-01 9.87142857e-01\n",
      " 9.87428571e-01 9.87428571e-01 9.87714286e-01 9.87714286e-01\n",
      " 9.88000000e-01 9.88000000e-01 9.88285714e-01 9.88285714e-01\n",
      " 9.88571429e-01 9.88571429e-01 9.88857143e-01 9.88857143e-01\n",
      " 9.89142857e-01 9.89142857e-01 9.89428571e-01 9.89428571e-01\n",
      " 9.89714286e-01 9.89714286e-01 9.90000000e-01 9.90000000e-01\n",
      " 9.90285714e-01 9.90285714e-01 9.90571429e-01 9.90571429e-01\n",
      " 9.90857143e-01 9.90857143e-01 9.91142857e-01 9.91142857e-01\n",
      " 9.91428571e-01 9.91428571e-01 9.91714286e-01 9.91714286e-01\n",
      " 9.92000000e-01 9.92000000e-01 9.92285714e-01 9.92285714e-01\n",
      " 9.92571429e-01 9.92571429e-01 9.92857143e-01 9.92857143e-01\n",
      " 9.93428571e-01 9.93428571e-01 9.93714286e-01 9.93714286e-01\n",
      " 9.94000000e-01 9.94000000e-01 9.94571429e-01 9.94571429e-01\n",
      " 9.94857143e-01 9.94857143e-01 9.95142857e-01 9.95142857e-01\n",
      " 9.95428571e-01 9.95428571e-01 9.95714286e-01 9.95714286e-01\n",
      " 9.96000000e-01 9.96000000e-01 9.96285714e-01 9.96285714e-01\n",
      " 9.96571429e-01 9.96571429e-01 9.96857143e-01 9.96857143e-01\n",
      " 9.97142857e-01 9.97142857e-01 9.97428571e-01 9.97428571e-01\n",
      " 9.97714286e-01 9.97714286e-01 9.98000000e-01 9.98000000e-01\n",
      " 9.98285714e-01 9.98285714e-01 9.98571429e-01 9.98571429e-01\n",
      " 9.98857143e-01 9.98857143e-01 9.99142857e-01 9.99142857e-01\n",
      " 9.99428571e-01 9.99428571e-01 9.99714286e-01 9.99714286e-01\n",
      " 1.00000000e+00 1.00000000e+00]\n",
      "0.9967226890756303\n",
      "(35895, 20784)\n"
     ]
    },
    {
     "name": "stderr",
     "output_type": "stream",
     "text": [
      "/home/ubuntu/anaconda3/lib/python3.9/site-packages/lightgbm/engine.py:177: UserWarning: Found `n_iter` in params. Will use it instead of argument\n",
      "  _log_warning(f\"Found `{alias}` in params. Will use it instead of argument\")\n"
     ]
    },
    {
     "name": "stdout",
     "output_type": "stream",
     "text": [
      "[LightGBM] [Warning] lambda_l1 is set=8.562963348932286, reg_alpha=0.0 will be ignored. Current value: lambda_l1=8.562963348932286\n",
      "[LightGBM] [Warning] lambda_l2 is set=4.893256185259296, reg_lambda=0.0 will be ignored. Current value: lambda_l2=4.893256185259296\n",
      "[LightGBM] [Warning] num_iterations is set=1500, n_iter=1500 will be ignored. Current value: num_iterations=1500\n",
      "[LightGBM] [Warning] min_data_in_leaf is set=115, min_child_samples=20 will be ignored. Current value: min_data_in_leaf=115\n",
      "[0.00000000e+00 0.00000000e+00 0.00000000e+00 1.82681768e-04\n",
      " 1.82681768e-04 3.65363537e-04 3.65363537e-04 5.48045305e-04\n",
      " 5.48045305e-04 7.30727073e-04 7.30727073e-04 9.13408842e-04\n",
      " 9.13408842e-04 1.09609061e-03 1.09609061e-03 1.27877238e-03\n",
      " 1.27877238e-03 1.46145415e-03 1.46145415e-03 1.64413592e-03\n",
      " 1.64413592e-03 1.82681768e-03 1.82681768e-03 2.00949945e-03\n",
      " 2.00949945e-03 2.19218122e-03 2.19218122e-03 2.37486299e-03\n",
      " 2.37486299e-03 2.55754476e-03 2.55754476e-03 2.74022653e-03\n",
      " 2.74022653e-03 2.92290829e-03 2.92290829e-03 3.10559006e-03\n",
      " 3.10559006e-03 3.28827183e-03 3.28827183e-03 3.65363537e-03\n",
      " 3.65363537e-03 3.83631714e-03 3.83631714e-03 4.01899890e-03\n",
      " 4.01899890e-03 4.20168067e-03 4.20168067e-03 4.38436244e-03\n",
      " 4.38436244e-03 4.56704421e-03 4.56704421e-03 4.93240775e-03\n",
      " 4.93240775e-03 5.29777128e-03 5.29777128e-03 5.48045305e-03\n",
      " 5.48045305e-03 5.66313482e-03 5.66313482e-03 5.84581659e-03\n",
      " 5.84581659e-03 6.02849836e-03 6.02849836e-03 6.21118012e-03\n",
      " 6.21118012e-03 6.39386189e-03 6.39386189e-03 6.57654366e-03\n",
      " 6.57654366e-03 6.75922543e-03 6.75922543e-03 6.94190720e-03\n",
      " 6.94190720e-03 7.12458897e-03 7.12458897e-03 7.67263427e-03\n",
      " 7.67263427e-03 7.85531604e-03 7.85531604e-03 8.03799781e-03\n",
      " 8.03799781e-03 8.22067958e-03 8.22067958e-03 8.40336134e-03\n",
      " 8.40336134e-03 8.58604311e-03 8.58604311e-03 8.76872488e-03\n",
      " 8.76872488e-03 8.95140665e-03 8.95140665e-03 9.13408842e-03\n",
      " 9.13408842e-03 9.31677019e-03 9.31677019e-03 9.49945195e-03\n",
      " 9.49945195e-03 9.68213372e-03 9.68213372e-03 1.00474973e-02\n",
      " 1.00474973e-02 1.04128608e-02 1.04128608e-02 1.05955426e-02\n",
      " 1.05955426e-02 1.07782243e-02 1.07782243e-02 1.11435879e-02\n",
      " 1.11435879e-02 1.13262696e-02 1.13262696e-02 1.15089514e-02\n",
      " 1.15089514e-02 1.16916332e-02 1.16916332e-02 1.18743149e-02\n",
      " 1.18743149e-02 1.20569967e-02 1.20569967e-02 1.22396785e-02\n",
      " 1.22396785e-02 1.24223602e-02 1.24223602e-02 1.26050420e-02\n",
      " 1.26050420e-02 1.27877238e-02 1.27877238e-02 1.31530873e-02\n",
      " 1.31530873e-02 1.35184509e-02 1.35184509e-02 1.40664962e-02\n",
      " 1.40664962e-02 1.42491779e-02 1.42491779e-02 1.44318597e-02\n",
      " 1.44318597e-02 1.55279503e-02 1.55279503e-02 1.57106321e-02\n",
      " 1.57106321e-02 1.58933138e-02 1.58933138e-02 1.60759956e-02\n",
      " 1.60759956e-02 1.62586774e-02 1.62586774e-02 1.64413592e-02\n",
      " 1.64413592e-02 1.69894045e-02 1.69894045e-02 1.79028133e-02\n",
      " 1.79028133e-02 1.80854951e-02 1.80854951e-02 1.82681768e-02\n",
      " 1.82681768e-02 1.95469492e-02 1.95469492e-02 2.02776763e-02\n",
      " 2.02776763e-02 2.10084034e-02 2.10084034e-02 2.11910851e-02\n",
      " 2.11910851e-02 2.13737669e-02 2.13737669e-02 2.19218122e-02\n",
      " 2.19218122e-02 2.26525393e-02 2.26525393e-02 2.33832664e-02\n",
      " 2.33832664e-02 2.37486299e-02 2.37486299e-02 2.61234929e-02\n",
      " 2.61234929e-02 2.68542199e-02 2.68542199e-02 2.79503106e-02\n",
      " 2.79503106e-02 2.83156741e-02 2.83156741e-02 2.84983559e-02\n",
      " 2.84983559e-02 2.90464012e-02 2.90464012e-02 3.12385824e-02\n",
      " 3.12385824e-02 3.19693095e-02 3.19693095e-02 3.23346730e-02\n",
      " 3.23346730e-02 3.27000365e-02 3.27000365e-02 3.28827183e-02\n",
      " 3.28827183e-02 3.30654001e-02 3.30654001e-02 3.52575813e-02\n",
      " 3.52575813e-02 3.54402631e-02 3.54402631e-02 3.59883084e-02\n",
      " 3.59883084e-02 3.90938984e-02 3.90938984e-02 3.94592620e-02\n",
      " 3.94592620e-02 4.43916697e-02 4.43916697e-02 4.58531239e-02\n",
      " 4.58531239e-02 4.71318962e-02 4.71318962e-02 4.74972598e-02\n",
      " 4.74972598e-02 4.93240775e-02 4.93240775e-02 5.13335769e-02\n",
      " 5.13335769e-02 5.26123493e-02 5.26123493e-02 5.27950311e-02\n",
      " 5.27950311e-02 5.51698940e-02 5.51698940e-02 5.59006211e-02\n",
      " 5.59006211e-02 5.62659847e-02 5.62659847e-02 5.80928023e-02\n",
      " 5.80928023e-02 6.32078919e-02 6.32078919e-02 6.33905736e-02\n",
      " 6.33905736e-02 6.70442090e-02 6.70442090e-02 7.16112532e-02\n",
      " 7.16112532e-02 7.30727073e-02 7.30727073e-02 7.47168433e-02\n",
      " 7.47168433e-02 7.54475703e-02 7.54475703e-02 7.78224333e-02\n",
      " 7.78224333e-02 7.98319328e-02 7.98319328e-02 8.03799781e-02\n",
      " 8.03799781e-02 8.40336134e-02 8.40336134e-02 1.09426379e-01\n",
      " 1.09426379e-01 1.20021922e-01 1.20021922e-01 1.20935331e-01\n",
      " 1.20935331e-01 1.22214103e-01 1.22214103e-01 1.35549872e-01\n",
      " 1.35549872e-01 1.40116916e-01 1.40116916e-01 1.44135915e-01\n",
      " 1.44135915e-01 1.56192912e-01 1.56192912e-01 1.62952137e-01\n",
      " 1.62952137e-01 1.75922543e-01 1.75922543e-01 1.82864450e-01\n",
      " 1.82864450e-01 2.11910851e-01 2.11910851e-01 2.40957252e-01\n",
      " 2.40957252e-01 2.60138838e-01 2.60138838e-01 2.75301425e-01\n",
      " 2.75301425e-01 2.90464012e-01 2.90464012e-01 3.06174644e-01\n",
      " 3.06174644e-01 3.32115455e-01 3.32115455e-01 3.64084764e-01\n",
      " 3.64084764e-01 3.89660212e-01 3.89660212e-01 4.92510047e-01\n",
      " 4.92510047e-01 1.00000000e+00] [0.00000000e+00 2.85795942e-04 6.89054015e-01 6.89054015e-01\n",
      " 8.02229208e-01 8.02229208e-01 8.11088883e-01 8.11088883e-01\n",
      " 8.48242355e-01 8.48242355e-01 8.48528151e-01 8.48528151e-01\n",
      " 8.64246928e-01 8.64246928e-01 8.80537296e-01 8.80537296e-01\n",
      " 8.84538440e-01 8.84538440e-01 8.87396399e-01 8.87396399e-01\n",
      " 8.92254930e-01 8.92254930e-01 8.97685053e-01 8.97685053e-01\n",
      " 9.02543584e-01 9.02543584e-01 9.03686768e-01 9.03686768e-01\n",
      " 9.09688482e-01 9.09688482e-01 9.09974278e-01 9.09974278e-01\n",
      " 9.10545870e-01 9.10545870e-01 9.22263504e-01 9.22263504e-01\n",
      " 9.22549300e-01 9.22549300e-01 9.25693055e-01 9.25693055e-01\n",
      " 9.27407831e-01 9.27407831e-01 9.31980566e-01 9.31980566e-01\n",
      " 9.38268077e-01 9.38268077e-01 9.39125464e-01 9.39125464e-01\n",
      " 9.40554444e-01 9.40554444e-01 9.43126608e-01 9.43126608e-01\n",
      " 9.44269791e-01 9.44269791e-01 9.44555587e-01 9.44555587e-01\n",
      " 9.45984567e-01 9.45984567e-01 9.46556159e-01 9.46556159e-01\n",
      " 9.47985139e-01 9.47985139e-01 9.48270935e-01 9.48270935e-01\n",
      " 9.48556730e-01 9.48556730e-01 9.49128322e-01 9.49128322e-01\n",
      " 9.49414118e-01 9.49414118e-01 9.50557302e-01 9.50557302e-01\n",
      " 9.51414690e-01 9.51414690e-01 9.51700486e-01 9.51700486e-01\n",
      " 9.51986282e-01 9.51986282e-01 9.52843670e-01 9.52843670e-01\n",
      " 9.53129466e-01 9.53129466e-01 9.53701057e-01 9.53701057e-01\n",
      " 9.55987425e-01 9.55987425e-01 9.56844813e-01 9.56844813e-01\n",
      " 9.57416405e-01 9.57416405e-01 9.57702201e-01 9.57702201e-01\n",
      " 9.57987997e-01 9.57987997e-01 9.58845384e-01 9.58845384e-01\n",
      " 9.59131180e-01 9.59131180e-01 9.60845956e-01 9.60845956e-01\n",
      " 9.61703344e-01 9.61703344e-01 9.63132324e-01 9.63132324e-01\n",
      " 9.63418119e-01 9.63418119e-01 9.63703915e-01 9.63703915e-01\n",
      " 9.65132895e-01 9.65132895e-01 9.65990283e-01 9.65990283e-01\n",
      " 9.66276079e-01 9.66276079e-01 9.67133467e-01 9.67133467e-01\n",
      " 9.67419263e-01 9.67419263e-01 9.67990855e-01 9.67990855e-01\n",
      " 9.68562446e-01 9.68562446e-01 9.69705630e-01 9.69705630e-01\n",
      " 9.70277222e-01 9.70277222e-01 9.70563018e-01 9.70563018e-01\n",
      " 9.70848814e-01 9.70848814e-01 9.71420406e-01 9.71420406e-01\n",
      " 9.72277794e-01 9.72277794e-01 9.72563590e-01 9.72563590e-01\n",
      " 9.72849386e-01 9.72849386e-01 9.73706773e-01 9.73706773e-01\n",
      " 9.73992569e-01 9.73992569e-01 9.74564161e-01 9.74564161e-01\n",
      " 9.74849957e-01 9.74849957e-01 9.75135753e-01 9.75135753e-01\n",
      " 9.75421549e-01 9.75421549e-01 9.75993141e-01 9.75993141e-01\n",
      " 9.76278937e-01 9.76278937e-01 9.76564733e-01 9.76564733e-01\n",
      " 9.76850529e-01 9.76850529e-01 9.77136325e-01 9.77136325e-01\n",
      " 9.77707917e-01 9.77707917e-01 9.78279508e-01 9.78279508e-01\n",
      " 9.78851100e-01 9.78851100e-01 9.79422692e-01 9.79422692e-01\n",
      " 9.79994284e-01 9.79994284e-01 9.80280080e-01 9.80280080e-01\n",
      " 9.80565876e-01 9.80565876e-01 9.80851672e-01 9.80851672e-01\n",
      " 9.81137468e-01 9.81137468e-01 9.81423264e-01 9.81423264e-01\n",
      " 9.81709060e-01 9.81709060e-01 9.81994856e-01 9.81994856e-01\n",
      " 9.82280652e-01 9.82280652e-01 9.82566448e-01 9.82566448e-01\n",
      " 9.82852243e-01 9.82852243e-01 9.83423835e-01 9.83423835e-01\n",
      " 9.83995427e-01 9.83995427e-01 9.84281223e-01 9.84281223e-01\n",
      " 9.84567019e-01 9.84567019e-01 9.84852815e-01 9.84852815e-01\n",
      " 9.85138611e-01 9.85138611e-01 9.85424407e-01 9.85424407e-01\n",
      " 9.85710203e-01 9.85710203e-01 9.85995999e-01 9.85995999e-01\n",
      " 9.86281795e-01 9.86281795e-01 9.86567591e-01 9.86567591e-01\n",
      " 9.86853387e-01 9.86853387e-01 9.87139183e-01 9.87139183e-01\n",
      " 9.87424979e-01 9.87424979e-01 9.87710775e-01 9.87710775e-01\n",
      " 9.87996570e-01 9.87996570e-01 9.88282366e-01 9.88282366e-01\n",
      " 9.88568162e-01 9.88568162e-01 9.88853958e-01 9.88853958e-01\n",
      " 9.89139754e-01 9.89139754e-01 9.89425550e-01 9.89425550e-01\n",
      " 9.89711346e-01 9.89711346e-01 9.89997142e-01 9.89997142e-01\n",
      " 9.90282938e-01 9.90282938e-01 9.90568734e-01 9.90568734e-01\n",
      " 9.90854530e-01 9.90854530e-01 9.91140326e-01 9.91140326e-01\n",
      " 9.91711918e-01 9.91711918e-01 9.92283510e-01 9.92283510e-01\n",
      " 9.92855101e-01 9.92855101e-01 9.93140897e-01 9.93140897e-01\n",
      " 9.93712489e-01 9.93712489e-01 9.93998285e-01 9.93998285e-01\n",
      " 9.94284081e-01 9.94284081e-01 9.94569877e-01 9.94569877e-01\n",
      " 9.94855673e-01 9.94855673e-01 9.95141469e-01 9.95141469e-01\n",
      " 9.95427265e-01 9.95427265e-01 9.95713061e-01 9.95713061e-01\n",
      " 9.95998857e-01 9.95998857e-01 9.96284653e-01 9.96284653e-01\n",
      " 9.96570449e-01 9.96570449e-01 9.96856245e-01 9.96856245e-01\n",
      " 9.97142041e-01 9.97142041e-01 9.97427837e-01 9.97427837e-01\n",
      " 9.97713632e-01 9.97713632e-01 9.97999428e-01 9.97999428e-01\n",
      " 9.98285224e-01 9.98285224e-01 9.98571020e-01 9.98571020e-01\n",
      " 9.98856816e-01 9.98856816e-01 9.99142612e-01 9.99142612e-01\n",
      " 9.99428408e-01 9.99428408e-01 9.99714204e-01 9.99714204e-01\n",
      " 1.00000000e+00 1.00000000e+00]\n",
      "0.9973018544992708\n",
      "(35895, 20784)\n"
     ]
    },
    {
     "name": "stderr",
     "output_type": "stream",
     "text": [
      "/home/ubuntu/anaconda3/lib/python3.9/site-packages/lightgbm/engine.py:177: UserWarning: Found `n_iter` in params. Will use it instead of argument\n",
      "  _log_warning(f\"Found `{alias}` in params. Will use it instead of argument\")\n"
     ]
    },
    {
     "name": "stdout",
     "output_type": "stream",
     "text": [
      "[LightGBM] [Warning] lambda_l1 is set=8.562963348932286, reg_alpha=0.0 will be ignored. Current value: lambda_l1=8.562963348932286\n",
      "[LightGBM] [Warning] lambda_l2 is set=4.893256185259296, reg_lambda=0.0 will be ignored. Current value: lambda_l2=4.893256185259296\n",
      "[LightGBM] [Warning] num_iterations is set=1500, n_iter=1500 will be ignored. Current value: num_iterations=1500\n",
      "[LightGBM] [Warning] min_data_in_leaf is set=115, min_child_samples=20 will be ignored. Current value: min_data_in_leaf=115\n",
      "[0.         0.         0.         ... 0.80471319 0.80471319 1.        ] [0.00000000e+00 2.85795942e-04 1.08888254e-01 ... 9.99714204e-01\n",
      " 1.00000000e+00 1.00000000e+00]\n",
      "0.9422863445613096\n"
     ]
    }
   ],
   "source": [
    "from sklearn.model_selection import StratifiedKFold\n",
    "from sklearn import metrics\n",
    "import lightgbm\n",
    "## cv split\n",
    "skf = StratifiedKFold(n_splits = 5)\n",
    "skf.get_n_splits(tf_train, y_train)\n",
    "\n",
    "aus_list = []\n",
    "for i, (train_idx, test_idx) in enumerate(skf.split(tf_train, y_train)):\n",
    "    train_X = tf_train[train_idx]\n",
    "    eval_X = tf_train[test_idx];\n",
    "    train_y = y_train[train_idx]\n",
    "    eval_y = y_train[test_idx];\n",
    "    \n",
    "    print(train_X.shape)\n",
    "#     ensemble.fit(train_X, train_y)\n",
    "#     joblib.dump(clf, f'{model_path}clf_cv_{i}.pkl');\n",
    "#     joblib.dump(sgd_model, f'{model_path}sgd_model_cv_{i}.pkl')\n",
    "#     joblib.dump(lgb, f'{model_path}lgb_cv_{i}.pkl')\n",
    "#     joblib.dump(cat, f'{model_path}cat_cv_{i}.pkl')\n",
    "#     joblib.dump(ensemble, f'{model_path}ensemble_cv_{i}.pkl');\n",
    "#     eval_preds = ensemble.predict_proba(eval_X)[:,1]\n",
    "    ## fit each model\n",
    "    clf.fit(train_X, train_y);\n",
    "    gc.collect()\n",
    "    \n",
    "    sgd_model.fit(train_X, train_y)\n",
    "    gc.collect()\n",
    "    \n",
    "    lgb.fit(train_X, train_y)\n",
    "    gc.collect()\n",
    "    \n",
    "    cat.fit(train_X, train_y)\n",
    "    gc.collect()\n",
    "    \n",
    "\n",
    "    eval_preds = clf.predict_proba(eval_X)[:, 1]* weights[0] + sgd_model.predict_proba(eval_X)[:, 1]*weights[1] \\\n",
    "        + lgb.predict_proba(eval_X)[:, 1]*weights[2] + cat.predict_proba(eval_X)[:, 1]*weights[3]\n",
    "    \n",
    "    #eval_preds = ensemble.predict(eval_X)\n",
    "    ## compute AUC\n",
    "    fpr, tpr, thresholds = metrics.roc_curve(eval_y, eval_preds, pos_label = 1)\n",
    "    print(fpr, tpr)\n",
    "    print(metrics.auc(fpr, tpr))\n",
    "    aus_list.append(metrics.auc(fpr, tpr))\n",
    "    #break;\n",
    "    "
   ]
  },
  {
   "cell_type": "code",
   "execution_count": 22,
   "id": "3d27f017",
   "metadata": {},
   "outputs": [
    {
     "data": {
      "text/plain": [
       "'1.2.2'"
      ]
     },
     "metadata": {},
     "output_type": "display_data"
    },
    {
     "data": {
      "text/plain": [
       "'3.3.2'"
      ]
     },
     "metadata": {},
     "output_type": "display_data"
    }
   ],
   "source": [
    "import sklearn \n",
    "import lightgbm\n",
    "display(sklearn.__version__)\n",
    "display(lightgbm.__version__)"
   ]
  },
  {
   "cell_type": "code",
   "execution_count": 22,
   "id": "89f1aec2",
   "metadata": {},
   "outputs": [
    {
     "data": {
      "text/plain": [
       "[0.9960866053053645,\n",
       " 0.9947028028602746,\n",
       " 0.9967226890756303,\n",
       " 0.9973018544992708,\n",
       " 0.9422863445613096]"
      ]
     },
     "execution_count": 22,
     "metadata": {},
     "output_type": "execute_result"
    }
   ],
   "source": [
    "# experiment with all models, without VotingEnsemble, self-coded soft voting, original parameter setting, with numpy.float32\n",
    "aus_list"
   ]
  },
  {
   "cell_type": "code",
   "execution_count": 21,
   "id": "45ac61f7",
   "metadata": {},
   "outputs": [
    {
     "data": {
      "text/plain": [
       "[0.9960500129847929,\n",
       " 0.99474659428989,\n",
       " 0.9968172660368496,\n",
       " 0.9973122442311666,\n",
       " 0.9431892070420871]"
      ]
     },
     "execution_count": 21,
     "metadata": {},
     "output_type": "execute_result"
    }
   ],
   "source": [
    "# experiment with all models, without VotingEnsemble, self-coded soft voting, original parameter setting\n",
    "aus_list"
   ]
  },
  {
   "cell_type": "code",
   "execution_count": 21,
   "id": "738ee54a",
   "metadata": {},
   "outputs": [
    {
     "data": {
      "text/plain": [
       "[0.9960656208362207,\n",
       " 0.9947012370165457,\n",
       " 0.9968239469700924,\n",
       " 0.9973352687124032,\n",
       " 0.9428879048171079]"
      ]
     },
     "execution_count": 21,
     "metadata": {},
     "output_type": "execute_result"
    }
   ],
   "source": [
    "# experiment with all models, VotingEnsemble n_jobs = 1, original parameters setting, changed weights\n",
    "aus_list"
   ]
  },
  {
   "cell_type": "code",
   "execution_count": 20,
   "id": "4185a33b",
   "metadata": {},
   "outputs": [
    {
     "data": {
      "text/plain": [
       "[0.9633644054857161,\n",
       " 0.9755928284357223,\n",
       " 0.9867114150007829,\n",
       " 0.9750459523745131,\n",
       " 0.7752189335791227]"
      ]
     },
     "execution_count": 20,
     "metadata": {},
     "output_type": "execute_result"
    }
   ],
   "source": [
    "# experiment with only multinomialNB, original parameter setting\n",
    "aus_list"
   ]
  },
  {
   "cell_type": "code",
   "execution_count": 20,
   "id": "65f99c48",
   "metadata": {},
   "outputs": [
    {
     "data": {
      "text/plain": [
       "[0.9951818197240959,\n",
       " 0.988915444438645,\n",
       " 0.9920609113210502,\n",
       " 0.9955969986936087,\n",
       " 0.9605266936228868]"
      ]
     },
     "execution_count": 20,
     "metadata": {},
     "output_type": "execute_result"
    }
   ],
   "source": [
    "# experiment with only catboost, original parameter setting\n",
    "aus_list"
   ]
  },
  {
   "cell_type": "code",
   "execution_count": 21,
   "id": "f6823c85",
   "metadata": {},
   "outputs": [
    {
     "data": {
      "text/plain": [
       "[0.9978818736207736,\n",
       " 0.9945432433843102,\n",
       " 0.9961483897906989,\n",
       " 0.9974760260852231,\n",
       " 0.9665304445771498]"
      ]
     },
     "execution_count": 21,
     "metadata": {},
     "output_type": "execute_result"
    },
    {
     "name": "stdout",
     "output_type": "stream",
     "text": [
      "[LightGBM] [Warning] lambda_l2 is set=4.893256185259296, reg_lambda=0.0 will be ignored. Current value: lambda_l2=4.893256185259296\n",
      "[LightGBM] [Warning] num_iterations is set=1500, n_iter=1500 will be ignored. Current value: num_iterations=1500\n",
      "[LightGBM] [Warning] min_data_in_leaf is set=115, min_child_samples=20 will be ignored. Current value: min_data_in_leaf=115\n",
      "[LightGBM] [Warning] lambda_l1 is set=8.562963348932286, reg_alpha=0.0 will be ignored. Current value: lambda_l1=8.562963348932286\n"
     ]
    }
   ],
   "source": [
    "# experiment with only lightgbm 4, with cpu max bin 900 and max_depth 123\n",
    "aus_list"
   ]
  },
  {
   "cell_type": "code",
   "execution_count": 20,
   "id": "5df45864",
   "metadata": {},
   "outputs": [
    {
     "data": {
      "text/plain": [
       "[0.9633644054857161,\n",
       " 0.9755928284357223,\n",
       " 0.9867114150007829,\n",
       " 0.9750459523745131,\n",
       " 0.7752189335791227]"
      ]
     },
     "execution_count": 20,
     "metadata": {},
     "output_type": "execute_result"
    }
   ],
   "source": [
    "# experiment with only lightgbm 3\n",
    "aus_list"
   ]
  },
  {
   "cell_type": "code",
   "execution_count": 21,
   "id": "77674e50",
   "metadata": {},
   "outputs": [
    {
     "data": {
      "text/plain": [
       "[0.9980322623163044,\n",
       " 0.994754319118952,\n",
       " 0.9964657341197348,\n",
       " 0.9976234663006696,\n",
       " 0.9670913856801093]"
      ]
     },
     "execution_count": 21,
     "metadata": {},
     "output_type": "execute_result"
    }
   ],
   "source": [
    "#experiment with only lightgbm2, depth 23\n",
    "aus_list"
   ]
  },
  {
   "cell_type": "code",
   "execution_count": 20,
   "id": "34e08819",
   "metadata": {},
   "outputs": [
    {
     "data": {
      "text/plain": [
       "[0.9980014642148245,\n",
       " 0.9947916383944883,\n",
       " 0.9964219426901196,\n",
       " 0.9976602219351152,\n",
       " 0.9670607907912099]"
      ]
     },
     "execution_count": 20,
     "metadata": {},
     "output_type": "execute_result"
    }
   ],
   "source": [
    "#experiment with only lightgbm, max_bin 250, max-depth = 123\n",
    "aus_list"
   ]
  },
  {
   "cell_type": "code",
   "execution_count": 22,
   "id": "300f3aa1",
   "metadata": {},
   "outputs": [
    {
     "data": {
      "text/plain": [
       "[0.9979935819888527,\n",
       " 0.9949521895714809,\n",
       " 0.9962090923325854,\n",
       " 0.997664973018545,\n",
       " 0.966284693481503]"
      ]
     },
     "execution_count": 22,
     "metadata": {},
     "output_type": "execute_result"
    }
   ],
   "source": [
    "#experiment wiht only lightgbm, max_bin 200\n",
    "aus_list"
   ]
  },
  {
   "cell_type": "code",
   "execution_count": 21,
   "id": "a2e5ef85",
   "metadata": {},
   "outputs": [
    {
     "data": {
      "text/plain": [
       "[0.9974415651699572,\n",
       " 0.9950194686570281,\n",
       " 0.996574873427632,\n",
       " 0.9978453575597517,\n",
       " 0.9644704583375404]"
      ]
     },
     "execution_count": 21,
     "metadata": {},
     "output_type": "execute_result"
    },
    {
     "name": "stdout",
     "output_type": "stream",
     "text": [
      "[LightGBM] [Warning] lambda_l1 is set=8.562963348932286, reg_alpha=0.0 will be ignored. Current value: lambda_l1=8.562963348932286\n",
      "[LightGBM] [Warning] lambda_l2 is set=4.893256185259296, reg_lambda=0.0 will be ignored. Current value: lambda_l2=4.893256185259296\n",
      "[LightGBM] [Warning] num_iterations is set=1500, n_iter=1500 will be ignored. Current value: num_iterations=1500\n",
      "[LightGBM] [Warning] min_data_in_leaf is set=115, min_child_samples=20 will be ignored. Current value: min_data_in_leaf=115\n"
     ]
    }
   ],
   "source": [
    "#experiment without catboost\n",
    "aus_list"
   ]
  },
  {
   "cell_type": "code",
   "execution_count": 23,
   "id": "6e542d29",
   "metadata": {},
   "outputs": [
    {
     "data": {
      "text/plain": [
       "[0.9976213425623237,\n",
       " 0.9957595907928388,\n",
       " 0.9970352314838978,\n",
       " 0.9979617852086347,\n",
       " 0.9608195900848752]"
      ]
     },
     "execution_count": 23,
     "metadata": {},
     "output_type": "execute_result"
    }
   ],
   "source": [
    "aus_list"
   ]
  },
  {
   "cell_type": "code",
   "execution_count": 19,
   "id": "168a6717",
   "metadata": {},
   "outputs": [
    {
     "data": {
      "text/plain": [
       "[0.9948483859465849,\n",
       " 0.9940963507093242,\n",
       " 0.9947070055108838,\n",
       " 0.9951455995069962,\n",
       " 0.9753977531773758]"
      ]
     },
     "execution_count": 19,
     "metadata": {},
     "output_type": "execute_result"
    }
   ],
   "source": [
    "## with external data\n",
    "aus_list"
   ]
  },
  {
   "cell_type": "code",
   "execution_count": 19,
   "id": "ac8499b3",
   "metadata": {},
   "outputs": [
    {
     "data": {
      "text/plain": [
       "[0.9974293503297094,\n",
       " 0.9950473406754007,\n",
       " 0.9966961219270317,\n",
       " 0.9978349678278557,\n",
       " 0.9645059087292857]"
      ]
     },
     "execution_count": 19,
     "metadata": {},
     "output_type": "execute_result"
    }
   ],
   "source": [
    "## without external data\n",
    "aus_list"
   ]
  },
  {
   "cell_type": "code",
   "execution_count": null,
   "id": "b4db0a6a",
   "metadata": {},
   "outputs": [],
   "source": []
  }
 ],
 "metadata": {
  "kernelspec": {
   "display_name": "Python 3 (ipykernel)",
   "language": "python",
   "name": "python3"
  },
  "language_info": {
   "codemirror_mode": {
    "name": "ipython",
    "version": 3
   },
   "file_extension": ".py",
   "mimetype": "text/x-python",
   "name": "python",
   "nbconvert_exporter": "python",
   "pygments_lexer": "ipython3",
   "version": "3.9.12"
  }
 },
 "nbformat": 4,
 "nbformat_minor": 5
}
