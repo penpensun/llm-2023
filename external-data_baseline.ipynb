{
 "cells": [
  {
   "cell_type": "markdown",
   "id": "ba94ff3a",
   "metadata": {},
   "source": [
    "## Hewlett Foundation Automated essay scoring data"
   ]
  },
  {
   "cell_type": "code",
   "execution_count": 1,
   "id": "e537da69",
   "metadata": {},
   "outputs": [],
   "source": [
    "import pandas as pd"
   ]
  },
  {
   "cell_type": "code",
   "execution_count": 2,
   "id": "2f1caf2b",
   "metadata": {},
   "outputs": [],
   "source": [
    "prompt_1 = pd.read_excel('/home/peng_sun2/s3shared/kaggle/llm-2023/data/external_data_1/prompts.xlsx')\n",
    "data_1 = pd.read_excel('/home/peng_sun2/s3shared/kaggle/llm-2023/data/external_data_1/training_set_rel3.xlsx')"
   ]
  },
  {
   "cell_type": "code",
   "execution_count": 3,
   "id": "f8d08f6c",
   "metadata": {},
   "outputs": [],
   "source": [
    "data_1 = pd.merge(\n",
    "    left = prompt_1,\n",
    "    right = data_1[['essay_id', 'essay_set', 'essay']],\n",
    "    on = 'essay_set'\n",
    ")[['prompt', 'essay']].reset_index(drop = True)"
   ]
  },
  {
   "cell_type": "code",
   "execution_count": 4,
   "id": "a1ea6964",
   "metadata": {},
   "outputs": [
    {
     "data": {
      "text/html": [
       "<div>\n",
       "<style scoped>\n",
       "    .dataframe tbody tr th:only-of-type {\n",
       "        vertical-align: middle;\n",
       "    }\n",
       "\n",
       "    .dataframe tbody tr th {\n",
       "        vertical-align: top;\n",
       "    }\n",
       "\n",
       "    .dataframe thead th {\n",
       "        text-align: right;\n",
       "    }\n",
       "</style>\n",
       "<table border=\"1\" class=\"dataframe\">\n",
       "  <thead>\n",
       "    <tr style=\"text-align: right;\">\n",
       "      <th></th>\n",
       "      <th>prompt</th>\n",
       "      <th>essay</th>\n",
       "    </tr>\n",
       "  </thead>\n",
       "  <tbody>\n",
       "    <tr>\n",
       "      <th>0</th>\n",
       "      <td>More and more people use computers, but not ev...</td>\n",
       "      <td>Dear local newspaper, I think effects computer...</td>\n",
       "    </tr>\n",
       "    <tr>\n",
       "      <th>1</th>\n",
       "      <td>More and more people use computers, but not ev...</td>\n",
       "      <td>Dear @CAPS1 @CAPS2, I believe that using compu...</td>\n",
       "    </tr>\n",
       "    <tr>\n",
       "      <th>2</th>\n",
       "      <td>More and more people use computers, but not ev...</td>\n",
       "      <td>Dear, @CAPS1 @CAPS2 @CAPS3 More and more peopl...</td>\n",
       "    </tr>\n",
       "  </tbody>\n",
       "</table>\n",
       "</div>"
      ],
      "text/plain": [
       "                                              prompt  \\\n",
       "0  More and more people use computers, but not ev...   \n",
       "1  More and more people use computers, but not ev...   \n",
       "2  More and more people use computers, but not ev...   \n",
       "\n",
       "                                               essay  \n",
       "0  Dear local newspaper, I think effects computer...  \n",
       "1  Dear @CAPS1 @CAPS2, I believe that using compu...  \n",
       "2  Dear, @CAPS1 @CAPS2 @CAPS3 More and more peopl...  "
      ]
     },
     "execution_count": 4,
     "metadata": {},
     "output_type": "execute_result"
    }
   ],
   "source": [
    "data_1.head(3)"
   ]
  },
  {
   "cell_type": "markdown",
   "id": "b16ec59b",
   "metadata": {},
   "source": [
    "## Commonlit - evaluate student summaries prompt data"
   ]
  },
  {
   "cell_type": "code",
   "execution_count": 5,
   "id": "7cde4566",
   "metadata": {},
   "outputs": [],
   "source": [
    "import pandas as pd\n",
    "prompt_2 = pd.read_csv('/home/peng_sun2/s3shared/kaggle/llm-2023/data/external_data_2/prompts_train.csv')\n",
    "data_2 = pd.read_csv('/home/peng_sun2/s3shared/kaggle/llm-2023/data/external_data_2/summaries_train.csv')"
   ]
  },
  {
   "cell_type": "code",
   "execution_count": 6,
   "id": "4b389e99",
   "metadata": {},
   "outputs": [
    {
     "data": {
      "text/html": [
       "<div>\n",
       "<style scoped>\n",
       "    .dataframe tbody tr th:only-of-type {\n",
       "        vertical-align: middle;\n",
       "    }\n",
       "\n",
       "    .dataframe tbody tr th {\n",
       "        vertical-align: top;\n",
       "    }\n",
       "\n",
       "    .dataframe thead th {\n",
       "        text-align: right;\n",
       "    }\n",
       "</style>\n",
       "<table border=\"1\" class=\"dataframe\">\n",
       "  <thead>\n",
       "    <tr style=\"text-align: right;\">\n",
       "      <th></th>\n",
       "      <th>prompt_id</th>\n",
       "      <th>prompt_question</th>\n",
       "      <th>prompt_title</th>\n",
       "      <th>prompt_text</th>\n",
       "    </tr>\n",
       "  </thead>\n",
       "  <tbody>\n",
       "    <tr>\n",
       "      <th>0</th>\n",
       "      <td>39c16e</td>\n",
       "      <td>Summarize at least 3 elements of an ideal trag...</td>\n",
       "      <td>On Tragedy</td>\n",
       "      <td>Chapter 13 \\r\\nAs the sequel to what has alrea...</td>\n",
       "    </tr>\n",
       "    <tr>\n",
       "      <th>1</th>\n",
       "      <td>3b9047</td>\n",
       "      <td>In complete sentences, summarize the structure...</td>\n",
       "      <td>Egyptian Social Structure</td>\n",
       "      <td>Egyptian society was structured like a pyramid...</td>\n",
       "    </tr>\n",
       "    <tr>\n",
       "      <th>2</th>\n",
       "      <td>814d6b</td>\n",
       "      <td>Summarize how the Third Wave developed over su...</td>\n",
       "      <td>The Third Wave</td>\n",
       "      <td>Background \\r\\nThe Third Wave experiment took ...</td>\n",
       "    </tr>\n",
       "  </tbody>\n",
       "</table>\n",
       "</div>"
      ],
      "text/plain": [
       "  prompt_id                                    prompt_question  \\\n",
       "0    39c16e  Summarize at least 3 elements of an ideal trag...   \n",
       "1    3b9047  In complete sentences, summarize the structure...   \n",
       "2    814d6b  Summarize how the Third Wave developed over su...   \n",
       "\n",
       "                prompt_title  \\\n",
       "0                 On Tragedy   \n",
       "1  Egyptian Social Structure   \n",
       "2             The Third Wave   \n",
       "\n",
       "                                         prompt_text  \n",
       "0  Chapter 13 \\r\\nAs the sequel to what has alrea...  \n",
       "1  Egyptian society was structured like a pyramid...  \n",
       "2  Background \\r\\nThe Third Wave experiment took ...  "
      ]
     },
     "execution_count": 6,
     "metadata": {},
     "output_type": "execute_result"
    }
   ],
   "source": [
    "prompt_2.head(3)"
   ]
  },
  {
   "cell_type": "code",
   "execution_count": 7,
   "id": "4da7cabe",
   "metadata": {},
   "outputs": [
    {
     "data": {
      "text/html": [
       "<div>\n",
       "<style scoped>\n",
       "    .dataframe tbody tr th:only-of-type {\n",
       "        vertical-align: middle;\n",
       "    }\n",
       "\n",
       "    .dataframe tbody tr th {\n",
       "        vertical-align: top;\n",
       "    }\n",
       "\n",
       "    .dataframe thead th {\n",
       "        text-align: right;\n",
       "    }\n",
       "</style>\n",
       "<table border=\"1\" class=\"dataframe\">\n",
       "  <thead>\n",
       "    <tr style=\"text-align: right;\">\n",
       "      <th></th>\n",
       "      <th>student_id</th>\n",
       "      <th>prompt_id</th>\n",
       "      <th>text</th>\n",
       "      <th>content</th>\n",
       "      <th>wording</th>\n",
       "    </tr>\n",
       "  </thead>\n",
       "  <tbody>\n",
       "    <tr>\n",
       "      <th>0</th>\n",
       "      <td>000e8c3c7ddb</td>\n",
       "      <td>814d6b</td>\n",
       "      <td>The third wave was an experimentto see how peo...</td>\n",
       "      <td>0.205683</td>\n",
       "      <td>0.380538</td>\n",
       "    </tr>\n",
       "    <tr>\n",
       "      <th>1</th>\n",
       "      <td>0020ae56ffbf</td>\n",
       "      <td>ebad26</td>\n",
       "      <td>They would rub it up with soda to make the sme...</td>\n",
       "      <td>-0.548304</td>\n",
       "      <td>0.506755</td>\n",
       "    </tr>\n",
       "    <tr>\n",
       "      <th>2</th>\n",
       "      <td>004e978e639e</td>\n",
       "      <td>3b9047</td>\n",
       "      <td>In Egypt, there were many occupations and soci...</td>\n",
       "      <td>3.128928</td>\n",
       "      <td>4.231226</td>\n",
       "    </tr>\n",
       "  </tbody>\n",
       "</table>\n",
       "</div>"
      ],
      "text/plain": [
       "     student_id prompt_id                                               text  \\\n",
       "0  000e8c3c7ddb    814d6b  The third wave was an experimentto see how peo...   \n",
       "1  0020ae56ffbf    ebad26  They would rub it up with soda to make the sme...   \n",
       "2  004e978e639e    3b9047  In Egypt, there were many occupations and soci...   \n",
       "\n",
       "    content   wording  \n",
       "0  0.205683  0.380538  \n",
       "1 -0.548304  0.506755  \n",
       "2  3.128928  4.231226  "
      ]
     },
     "execution_count": 7,
     "metadata": {},
     "output_type": "execute_result"
    }
   ],
   "source": [
    "data_2.head(3)"
   ]
  },
  {
   "cell_type": "code",
   "execution_count": 8,
   "id": "28812b60",
   "metadata": {},
   "outputs": [],
   "source": [
    "data_2 = pd.merge(\n",
    "    left = prompt_2[['prompt_id','prompt_text', 'prompt_question']],\n",
    "    right = data_2[['prompt_id', 'text']],\n",
    "    on = 'prompt_id'\n",
    ")"
   ]
  },
  {
   "cell_type": "code",
   "execution_count": 9,
   "id": "275d45f7",
   "metadata": {},
   "outputs": [],
   "source": [
    "data_2['prompt'] = data_2['prompt_text'] + ' '+data_2['prompt_question']"
   ]
  },
  {
   "cell_type": "code",
   "execution_count": 10,
   "id": "8be3cb14",
   "metadata": {},
   "outputs": [
    {
     "data": {
      "text/html": [
       "<div>\n",
       "<style scoped>\n",
       "    .dataframe tbody tr th:only-of-type {\n",
       "        vertical-align: middle;\n",
       "    }\n",
       "\n",
       "    .dataframe tbody tr th {\n",
       "        vertical-align: top;\n",
       "    }\n",
       "\n",
       "    .dataframe thead th {\n",
       "        text-align: right;\n",
       "    }\n",
       "</style>\n",
       "<table border=\"1\" class=\"dataframe\">\n",
       "  <thead>\n",
       "    <tr style=\"text-align: right;\">\n",
       "      <th></th>\n",
       "      <th>prompt_id</th>\n",
       "      <th>prompt_text</th>\n",
       "      <th>prompt_question</th>\n",
       "      <th>text</th>\n",
       "      <th>prompt</th>\n",
       "    </tr>\n",
       "  </thead>\n",
       "  <tbody>\n",
       "    <tr>\n",
       "      <th>0</th>\n",
       "      <td>39c16e</td>\n",
       "      <td>Chapter 13 \\r\\nAs the sequel to what has alrea...</td>\n",
       "      <td>Summarize at least 3 elements of an ideal trag...</td>\n",
       "      <td>1 element of an ideal tragedy is that it shoul...</td>\n",
       "      <td>Chapter 13 \\r\\nAs the sequel to what has alrea...</td>\n",
       "    </tr>\n",
       "    <tr>\n",
       "      <th>1</th>\n",
       "      <td>39c16e</td>\n",
       "      <td>Chapter 13 \\r\\nAs the sequel to what has alrea...</td>\n",
       "      <td>Summarize at least 3 elements of an ideal trag...</td>\n",
       "      <td>The three elements of an ideal tragedy are:  H...</td>\n",
       "      <td>Chapter 13 \\r\\nAs the sequel to what has alrea...</td>\n",
       "    </tr>\n",
       "    <tr>\n",
       "      <th>2</th>\n",
       "      <td>39c16e</td>\n",
       "      <td>Chapter 13 \\r\\nAs the sequel to what has alrea...</td>\n",
       "      <td>Summarize at least 3 elements of an ideal trag...</td>\n",
       "      <td>Aristotle states that an ideal tragedy should ...</td>\n",
       "      <td>Chapter 13 \\r\\nAs the sequel to what has alrea...</td>\n",
       "    </tr>\n",
       "  </tbody>\n",
       "</table>\n",
       "</div>"
      ],
      "text/plain": [
       "  prompt_id                                        prompt_text  \\\n",
       "0    39c16e  Chapter 13 \\r\\nAs the sequel to what has alrea...   \n",
       "1    39c16e  Chapter 13 \\r\\nAs the sequel to what has alrea...   \n",
       "2    39c16e  Chapter 13 \\r\\nAs the sequel to what has alrea...   \n",
       "\n",
       "                                     prompt_question  \\\n",
       "0  Summarize at least 3 elements of an ideal trag...   \n",
       "1  Summarize at least 3 elements of an ideal trag...   \n",
       "2  Summarize at least 3 elements of an ideal trag...   \n",
       "\n",
       "                                                text  \\\n",
       "0  1 element of an ideal tragedy is that it shoul...   \n",
       "1  The three elements of an ideal tragedy are:  H...   \n",
       "2  Aristotle states that an ideal tragedy should ...   \n",
       "\n",
       "                                              prompt  \n",
       "0  Chapter 13 \\r\\nAs the sequel to what has alrea...  \n",
       "1  Chapter 13 \\r\\nAs the sequel to what has alrea...  \n",
       "2  Chapter 13 \\r\\nAs the sequel to what has alrea...  "
      ]
     },
     "execution_count": 10,
     "metadata": {},
     "output_type": "execute_result"
    }
   ],
   "source": [
    "data_2.head(3)"
   ]
  },
  {
   "cell_type": "code",
   "execution_count": 11,
   "id": "1d0973a2",
   "metadata": {},
   "outputs": [
    {
     "data": {
      "text/html": [
       "<div>\n",
       "<style scoped>\n",
       "    .dataframe tbody tr th:only-of-type {\n",
       "        vertical-align: middle;\n",
       "    }\n",
       "\n",
       "    .dataframe tbody tr th {\n",
       "        vertical-align: top;\n",
       "    }\n",
       "\n",
       "    .dataframe thead th {\n",
       "        text-align: right;\n",
       "    }\n",
       "</style>\n",
       "<table border=\"1\" class=\"dataframe\">\n",
       "  <thead>\n",
       "    <tr style=\"text-align: right;\">\n",
       "      <th></th>\n",
       "      <th>prompt</th>\n",
       "      <th>essay</th>\n",
       "    </tr>\n",
       "  </thead>\n",
       "  <tbody>\n",
       "    <tr>\n",
       "      <th>0</th>\n",
       "      <td>Chapter 13 \\r\\nAs the sequel to what has alrea...</td>\n",
       "      <td>1 element of an ideal tragedy is that it shoul...</td>\n",
       "    </tr>\n",
       "    <tr>\n",
       "      <th>1</th>\n",
       "      <td>Chapter 13 \\r\\nAs the sequel to what has alrea...</td>\n",
       "      <td>The three elements of an ideal tragedy are:  H...</td>\n",
       "    </tr>\n",
       "    <tr>\n",
       "      <th>2</th>\n",
       "      <td>Chapter 13 \\r\\nAs the sequel to what has alrea...</td>\n",
       "      <td>Aristotle states that an ideal tragedy should ...</td>\n",
       "    </tr>\n",
       "  </tbody>\n",
       "</table>\n",
       "</div>"
      ],
      "text/plain": [
       "                                              prompt  \\\n",
       "0  Chapter 13 \\r\\nAs the sequel to what has alrea...   \n",
       "1  Chapter 13 \\r\\nAs the sequel to what has alrea...   \n",
       "2  Chapter 13 \\r\\nAs the sequel to what has alrea...   \n",
       "\n",
       "                                               essay  \n",
       "0  1 element of an ideal tragedy is that it shoul...  \n",
       "1  The three elements of an ideal tragedy are:  H...  \n",
       "2  Aristotle states that an ideal tragedy should ...  "
      ]
     },
     "execution_count": 11,
     "metadata": {},
     "output_type": "execute_result"
    }
   ],
   "source": [
    "data_2 = data_2[['prompt', 'text']].rename({'text': 'essay'}, axis = 1)\n",
    "data_2.head(3)"
   ]
  },
  {
   "cell_type": "markdown",
   "id": "2f4419d0",
   "metadata": {},
   "source": [
    "## Essay Instruction Dataset (from huggingface)"
   ]
  },
  {
   "cell_type": "code",
   "execution_count": 12,
   "id": "d0f234d5",
   "metadata": {},
   "outputs": [],
   "source": [
    "data_3 = pd.read_parquet('/home/peng_sun2/s3shared/kaggle/llm-2023/data/external_data_3/essay_instructions_train.parquet')\n",
    "data_3_test = pd.read_parquet('/home/peng_sun2/s3shared/kaggle/llm-2023/data/external_data_3/')"
   ]
  },
  {
   "cell_type": "code",
   "execution_count": 13,
   "id": "220e5f81",
   "metadata": {},
   "outputs": [
    {
     "data": {
      "text/html": [
       "<div>\n",
       "<style scoped>\n",
       "    .dataframe tbody tr th:only-of-type {\n",
       "        vertical-align: middle;\n",
       "    }\n",
       "\n",
       "    .dataframe tbody tr th {\n",
       "        vertical-align: top;\n",
       "    }\n",
       "\n",
       "    .dataframe thead th {\n",
       "        text-align: right;\n",
       "    }\n",
       "</style>\n",
       "<table border=\"1\" class=\"dataframe\">\n",
       "  <thead>\n",
       "    <tr style=\"text-align: right;\">\n",
       "      <th></th>\n",
       "      <th>prompt</th>\n",
       "      <th>essay</th>\n",
       "    </tr>\n",
       "  </thead>\n",
       "  <tbody>\n",
       "    <tr>\n",
       "      <th>0</th>\n",
       "      <td>Human: Write the original essay that provided ...</td>\n",
       "      <td>“Through the Looking Glass” Critical Essay\\n\\n...</td>\n",
       "    </tr>\n",
       "    <tr>\n",
       "      <th>1</th>\n",
       "      <td>Human: Write the original essay that provided ...</td>\n",
       "      <td>The Concept of Antimicrobial Agents Essay\\n\\nT...</td>\n",
       "    </tr>\n",
       "    <tr>\n",
       "      <th>2</th>\n",
       "      <td>Human: Write the full essay for the following ...</td>\n",
       "      <td>Nursing Practice Concerning Patients With Card...</td>\n",
       "    </tr>\n",
       "    <tr>\n",
       "      <th>3</th>\n",
       "      <td>Human: Write a essay that could've provided th...</td>\n",
       "      <td>Racism and Society: Different Perspectives Ter...</td>\n",
       "    </tr>\n",
       "    <tr>\n",
       "      <th>4</th>\n",
       "      <td>Human: Write the original essay that generated...</td>\n",
       "      <td>Assessment of Innovation in Organisations Repo...</td>\n",
       "    </tr>\n",
       "    <tr>\n",
       "      <th>...</th>\n",
       "      <td>...</td>\n",
       "      <td>...</td>\n",
       "    </tr>\n",
       "    <tr>\n",
       "      <th>3916</th>\n",
       "      <td>Human: Provide a essay that could have been th...</td>\n",
       "      <td>African Scam Letters’ Linguistic Anthropology ...</td>\n",
       "    </tr>\n",
       "    <tr>\n",
       "      <th>3917</th>\n",
       "      <td>Human: Provide the inputted essay that when su...</td>\n",
       "      <td>South African Public Health Policy Implementat...</td>\n",
       "    </tr>\n",
       "    <tr>\n",
       "      <th>3918</th>\n",
       "      <td>Human: Provide the full text for the following...</td>\n",
       "      <td>Abu Dhabi’s Efforts in Becoming the Safest Cit...</td>\n",
       "    </tr>\n",
       "    <tr>\n",
       "      <th>3919</th>\n",
       "      <td>Human: Provide the inputted essay that when su...</td>\n",
       "      <td>Global Misconceptions in The WHO Video Essay\\n...</td>\n",
       "    </tr>\n",
       "    <tr>\n",
       "      <th>3920</th>\n",
       "      <td>Human: Write the original essay that provided ...</td>\n",
       "      <td>Psychological Trauma: Physical and Behavioral ...</td>\n",
       "    </tr>\n",
       "  </tbody>\n",
       "</table>\n",
       "<p>3921 rows × 2 columns</p>\n",
       "</div>"
      ],
      "text/plain": [
       "                                                 prompt  \\\n",
       "0     Human: Write the original essay that provided ...   \n",
       "1     Human: Write the original essay that provided ...   \n",
       "2     Human: Write the full essay for the following ...   \n",
       "3     Human: Write a essay that could've provided th...   \n",
       "4     Human: Write the original essay that generated...   \n",
       "...                                                 ...   \n",
       "3916  Human: Provide a essay that could have been th...   \n",
       "3917  Human: Provide the inputted essay that when su...   \n",
       "3918  Human: Provide the full text for the following...   \n",
       "3919  Human: Provide the inputted essay that when su...   \n",
       "3920  Human: Write the original essay that provided ...   \n",
       "\n",
       "                                                  essay  \n",
       "0     “Through the Looking Glass” Critical Essay\\n\\n...  \n",
       "1     The Concept of Antimicrobial Agents Essay\\n\\nT...  \n",
       "2     Nursing Practice Concerning Patients With Card...  \n",
       "3     Racism and Society: Different Perspectives Ter...  \n",
       "4     Assessment of Innovation in Organisations Repo...  \n",
       "...                                                 ...  \n",
       "3916  African Scam Letters’ Linguistic Anthropology ...  \n",
       "3917  South African Public Health Policy Implementat...  \n",
       "3918  Abu Dhabi’s Efforts in Becoming the Safest Cit...  \n",
       "3919  Global Misconceptions in The WHO Video Essay\\n...  \n",
       "3920  Psychological Trauma: Physical and Behavioral ...  \n",
       "\n",
       "[3921 rows x 2 columns]"
      ]
     },
     "execution_count": 13,
     "metadata": {},
     "output_type": "execute_result"
    }
   ],
   "source": [
    "data_3 = pd.concat([data_3, data_3_test], axis = 0).reset_index(drop = True).rename({'chosen': 'essay'}, axis =1)\n",
    "data_3"
   ]
  },
  {
   "cell_type": "markdown",
   "id": "9eb66e45",
   "metadata": {},
   "source": [
    "## Concat all data"
   ]
  },
  {
   "cell_type": "code",
   "execution_count": 14,
   "id": "543c984e",
   "metadata": {},
   "outputs": [
    {
     "data": {
      "text/html": [
       "<div>\n",
       "<style scoped>\n",
       "    .dataframe tbody tr th:only-of-type {\n",
       "        vertical-align: middle;\n",
       "    }\n",
       "\n",
       "    .dataframe tbody tr th {\n",
       "        vertical-align: top;\n",
       "    }\n",
       "\n",
       "    .dataframe thead th {\n",
       "        text-align: right;\n",
       "    }\n",
       "</style>\n",
       "<table border=\"1\" class=\"dataframe\">\n",
       "  <thead>\n",
       "    <tr style=\"text-align: right;\">\n",
       "      <th></th>\n",
       "      <th>prompt</th>\n",
       "      <th>essay</th>\n",
       "    </tr>\n",
       "  </thead>\n",
       "  <tbody>\n",
       "    <tr>\n",
       "      <th>0</th>\n",
       "      <td>More and more people use computers, but not ev...</td>\n",
       "      <td>Dear local newspaper, I think effects computer...</td>\n",
       "    </tr>\n",
       "    <tr>\n",
       "      <th>1</th>\n",
       "      <td>More and more people use computers, but not ev...</td>\n",
       "      <td>Dear @CAPS1 @CAPS2, I believe that using compu...</td>\n",
       "    </tr>\n",
       "    <tr>\n",
       "      <th>2</th>\n",
       "      <td>More and more people use computers, but not ev...</td>\n",
       "      <td>Dear, @CAPS1 @CAPS2 @CAPS3 More and more peopl...</td>\n",
       "    </tr>\n",
       "  </tbody>\n",
       "</table>\n",
       "</div>"
      ],
      "text/plain": [
       "                                              prompt  \\\n",
       "0  More and more people use computers, but not ev...   \n",
       "1  More and more people use computers, but not ev...   \n",
       "2  More and more people use computers, but not ev...   \n",
       "\n",
       "                                               essay  \n",
       "0  Dear local newspaper, I think effects computer...  \n",
       "1  Dear @CAPS1 @CAPS2, I believe that using compu...  \n",
       "2  Dear, @CAPS1 @CAPS2 @CAPS3 More and more peopl...  "
      ]
     },
     "execution_count": 14,
     "metadata": {},
     "output_type": "execute_result"
    }
   ],
   "source": [
    "data = pd.concat([data_1, data_2, data_3], axis = 0).reset_index(drop = True)\n",
    "data.head(3)"
   ]
  },
  {
   "cell_type": "code",
   "execution_count": 15,
   "id": "580cfe04",
   "metadata": {},
   "outputs": [
    {
     "data": {
      "text/plain": [
       "(16961, 2)"
      ]
     },
     "execution_count": 15,
     "metadata": {},
     "output_type": "execute_result"
    }
   ],
   "source": [
    "data.shape"
   ]
  },
  {
   "cell_type": "code",
   "execution_count": 16,
   "id": "99df2131",
   "metadata": {},
   "outputs": [
    {
     "name": "stderr",
     "output_type": "stream",
     "text": [
      "/home/ubuntu/anaconda3/lib/python3.9/site-packages/pyarrow/pandas_compat.py:358: FutureWarning: is_sparse is deprecated and will be removed in a future version. Check `isinstance(dtype, pd.SparseDtype)` instead.\n",
      "  if _pandas_api.is_sparse(col):\n"
     ]
    }
   ],
   "source": [
    "data.to_parquet('/home/peng_sun2/s3shared/kaggle/llm-2023/data/combined_external_data.parquet')"
   ]
  },
  {
   "cell_type": "code",
   "execution_count": null,
   "id": "7a1a35ed",
   "metadata": {},
   "outputs": [],
   "source": []
  }
 ],
 "metadata": {
  "kernelspec": {
   "display_name": "Python 3 (ipykernel)",
   "language": "python",
   "name": "python3"
  },
  "language_info": {
   "codemirror_mode": {
    "name": "ipython",
    "version": 3
   },
   "file_extension": ".py",
   "mimetype": "text/x-python",
   "name": "python",
   "nbconvert_exporter": "python",
   "pygments_lexer": "ipython3",
   "version": "3.9.12"
  }
 },
 "nbformat": 4,
 "nbformat_minor": 5
}
