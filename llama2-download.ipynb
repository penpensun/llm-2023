{
 "cells": [
  {
   "cell_type": "code",
   "execution_count": 1,
   "id": "bff29457",
   "metadata": {},
   "outputs": [],
   "source": [
    "from transformers import AutoTokenizer, AutoConfig, AutoModel, LlamaForCausalLM\n",
    "import transformers\n",
    "import torch"
   ]
  },
  {
   "cell_type": "code",
   "execution_count": 2,
   "id": "bf51db84",
   "metadata": {},
   "outputs": [],
   "source": [
    "model_name = \"microsoft/deberta-v3-base\"\n",
    "model_path = '/root/autodl-tmp/llama2'"
   ]
  },
  {
   "cell_type": "code",
   "execution_count": 3,
   "id": "c92b1c5b",
   "metadata": {},
   "outputs": [],
   "source": [
    "tokenizer = AutoTokenizer.from_pretrained(pretrained_model_name_or_path = model_path)"
   ]
  },
  {
   "cell_type": "code",
   "execution_count": 4,
   "id": "06f90f7b",
   "metadata": {},
   "outputs": [],
   "source": [
    "config = AutoConfig.from_pretrained(pretrained_model_name_or_path = model_path)"
   ]
  },
  {
   "cell_type": "code",
   "execution_count": 5,
   "id": "e7f1b137",
   "metadata": {},
   "outputs": [
    {
     "data": {
      "application/json": {
       "ascii": false,
       "bar_format": null,
       "colour": null,
       "elapsed": 0.010603666305541992,
       "initial": 0,
       "n": 0,
       "ncols": null,
       "nrows": null,
       "postfix": null,
       "prefix": "Loading checkpoint shards",
       "rate": null,
       "total": 2,
       "unit": "it",
       "unit_divisor": 1000,
       "unit_scale": false
      },
      "application/vnd.jupyter.widget-view+json": {
       "model_id": "26a8f8ad17d44ea5a54b48b68d3d063d",
       "version_major": 2,
       "version_minor": 0
      },
      "text/plain": [
       "Loading checkpoint shards:   0%|          | 0/2 [00:00<?, ?it/s]"
      ]
     },
     "metadata": {},
     "output_type": "display_data"
    }
   ],
   "source": [
    "model = LlamaForCausalLM.from_pretrained(pretrained_model_name_or_path = model_path)"
   ]
  },
  {
   "cell_type": "code",
   "execution_count": 6,
   "id": "016d75b5",
   "metadata": {},
   "outputs": [],
   "source": [
    "device = torch.device('cuda' if torch.cuda.is_available() else 'cpu')"
   ]
  },
  {
   "cell_type": "code",
   "execution_count": 7,
   "id": "65467c41",
   "metadata": {},
   "outputs": [],
   "source": [
    "model = model.to(device)"
   ]
  },
  {
   "cell_type": "code",
   "execution_count": 8,
   "id": "dab0b0a9",
   "metadata": {},
   "outputs": [],
   "source": [
    "#model = torch.nn.DataParallel(model, device_ids=[0, 1])"
   ]
  },
  {
   "cell_type": "code",
   "execution_count": 9,
   "id": "78a0c04a",
   "metadata": {},
   "outputs": [],
   "source": [
    "from transformers import pipeline\n",
    "\n",
    "chat = pipeline(task = \"conversational\", model = model, tokenizer = tokenizer, config = config, device = device)"
   ]
  },
  {
   "cell_type": "code",
   "execution_count": 10,
   "id": "ff998029",
   "metadata": {},
   "outputs": [],
   "source": [
    "from transformers import Conversation\n",
    "question = \"Where is the capital of France\"\n",
    "conversation = Conversation()"
   ]
  },
  {
   "cell_type": "code",
   "execution_count": 11,
   "id": "e904871b",
   "metadata": {},
   "outputs": [],
   "source": [
    "conversation.add_user_input(question)\n",
    "response = chat(conversation)"
   ]
  },
  {
   "cell_type": "code",
   "execution_count": 13,
   "id": "57d775c2",
   "metadata": {},
   "outputs": [
    {
     "data": {
      "text/plain": [
       "Conversation id: 6ae21e57-4b92-461c-a8fe-7281078c70a8\n",
       "user: Where is the capital of France\n",
       "assistant:  The capital of France is Paris. Located in the northern central part of the country, Paris is the largest city in France and is known for its cultural attractions, historical landmarks, and fashion. The city is home to many famous landmarks such as the Eiffel Tower, the Louvre Museum, Notre-Dame Cathedral, and the Arc de Triomphe, among others."
      ]
     },
     "execution_count": 13,
     "metadata": {},
     "output_type": "execute_result"
    }
   ],
   "source": [
    "response"
   ]
  },
  {
   "cell_type": "code",
   "execution_count": null,
   "id": "75a5d5af",
   "metadata": {},
   "outputs": [],
   "source": []
  }
 ],
 "metadata": {
  "kernelspec": {
   "display_name": "Python 3 (ipykernel)",
   "language": "python",
   "name": "python3"
  },
  "language_info": {
   "codemirror_mode": {
    "name": "ipython",
    "version": 3
   },
   "file_extension": ".py",
   "mimetype": "text/x-python",
   "name": "python",
   "nbconvert_exporter": "python",
   "pygments_lexer": "ipython3",
   "version": "3.8.10"
  }
 },
 "nbformat": 4,
 "nbformat_minor": 5
}
